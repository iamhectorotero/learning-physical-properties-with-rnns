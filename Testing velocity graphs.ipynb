{
 "cells": [
  {
   "cell_type": "code",
   "execution_count": 1,
   "metadata": {},
   "outputs": [],
   "source": [
    "import matplotlib.pyplot as plt\n",
    "from generate_passive_simulations import *\n",
    "from toddler.action_coding import get_mouse_action, mass_answers, force_answers"
   ]
  },
  {
   "cell_type": "code",
   "execution_count": 2,
   "metadata": {},
   "outputs": [],
   "source": [
    "N_SIMULATIONS_TRAIN = 10\n",
    "N_SIMULATIONS_VAL = 1\n",
    "N_SIMULATIONS_TEST = 1\n",
    "\n",
    "every_world_configuration = generate_every_world_configuration()                              \n",
    "every_world_answer = np.array(list(map(get_configuration_answer, every_world_configuration)))\n",
    "n_configurations = len(every_world_configuration)   \n",
    "                                                                                                 \n",
    "train_size = 0.7                                                                               \n",
    "val_size = 0.15                                                                                \n",
    "test_size = 0.15                                                                               \n",
    "                                                                                                   \n",
    "all_indices = np.arange(n_configurations)                                                      \n",
    "train_indices, not_train_indices = train_test_split(all_indices, train_size=train_size,        \n",
    "                                                    random_state=0, stratify=every_world_answer)\n",
    "val_indices, test_indices = train_test_split(not_train_indices, train_size=0.5,                \n",
    "                                             random_state=0,                                  \n",
    "                                             stratify=every_world_answer[not_train_indices])   \n",
    "                                                                                                   \n",
    "repeated_train_indices = np.random.choice(train_indices, N_SIMULATIONS_TRAIN, replace=True)    \n",
    "repeated_val_indices = np.random.choice(val_indices, N_SIMULATIONS_VAL, replace=True)          \n",
    "repeated_test_indices = np.random.choice(test_indices, N_SIMULATIONS_TEST, replace=True)       \n",
    "\n",
    "train_cond = generate_cond(every_world_configuration[repeated_train_indices])                  \n",
    "val_cond = generate_cond(every_world_configuration[repeated_val_indices])                      \n",
    "test_cond = generate_cond(every_world_configuration[repeated_test_indices])   "
   ]
  },
  {
   "cell_type": "code",
   "execution_count": 3,
   "metadata": {},
   "outputs": [],
   "source": [
    "select_action_randomly = lambda: np.random.randint(low=0, high=9)"
   ]
  },
  {
   "cell_type": "code",
   "execution_count": 4,
   "metadata": {},
   "outputs": [
    {
     "name": "stdout",
     "output_type": "stream",
     "text": [
      "0.0\n",
      "0.0\n",
      "0.0\n",
      "0.0\n",
      "1.0\n",
      "1.0\n",
      "0.0\n",
      "1.0\n",
      "1.0\n",
      "0.0\n"
     ]
    }
   ],
   "source": [
    "new_env = physic_env(train_cond, None, None, (3., 2.), T, ig_mode=0, prior=None, reward_stop=None, mass_answers=mass_answers)\n",
    "                                                                                                   \n",
    "mass_answer = get_mass_answer(new_env.cond['mass'])                                            \n",
    "force_answer = get_force_answer(new_env.cond['lf'])                                           \n",
    "                 \n",
    "is_done = False\n",
    "env_count = 0\n",
    "\n",
    "while True:   \n",
    "    action_id = select_action_randomly()\n",
    "    states, reward, is_done = new_env.step_active(action_id, get_mouse_action)                                                          \n",
    "    if is_done:\n",
    "        print(reward)\n",
    "        new_env.reset()\n",
    "        env_count += 1\n",
    "        if env_count == N_SIMULATIONS_TRAIN:\n",
    "            break\n",
    "                                                                                                   \n",
    "data = new_env.step_data()\n",
    "trial_data = pd.DataFrame()                                                                    \n",
    "                                                                                                   \n",
    "for object_id in [\"o1\", \"o2\", \"o3\", \"o4\"]:                                                     \n",
    "    for attr in [\"x\", \"y\", \"vx\", \"vy\"]:                                                        \n",
    "        trial_data[object_id+\".\"+attr] = data[object_id][attr]\n",
    "        \n",
    "trial_data[\"mouseX\"] = data[\"mouse\"][\"x\"]\n",
    "trial_data[\"mouseY\"] = data[\"mouse\"][\"y\"]\n",
    "trial_data[\"mouse.vx\"] = data[\"mouse\"][\"vx\"]\n",
    "trial_data[\"mouse.vy\"] = data[\"mouse\"][\"vy\"]\n",
    "trial_data[\"idControlledObject\"] = [\"none\" if obj == 0 else \"object\"+str(obj) for obj in data[\"co\"]]"
   ]
  },
  {
   "cell_type": "code",
   "execution_count": 5,
   "metadata": {},
   "outputs": [
    {
     "name": "stdout",
     "output_type": "stream",
     "text": [
      "pygame 1.9.6\n",
      "Hello from the pygame community. https://www.pygame.org/contribute.html\n"
     ]
    }
   ],
   "source": [
    "from isaac.visualization import make_frame_curried\n",
    "import moviepy.editor as mpy"
   ]
  },
  {
   "cell_type": "code",
   "execution_count": 6,
   "metadata": {},
   "outputs": [
    {
     "name": "stderr",
     "output_type": "stream",
     "text": [
      " 50%|█████     | 1/2 [00:00<00:00, 129.38it/s]\n"
     ]
    },
    {
     "data": {
      "text/html": [
       "<div align=middle><video src='data:video/mp4;base64,AAAAIGZ0eXBpc29tAAACAGlzb21pc28yYXZjMW1wNDEAAAAIZnJlZQAAGUdtZGF0AAACVAYF//9Q3EXpvebZSLeWLNgg2SPu73gyNjQgLSBjb3JlIDE0OCByMzMzIDkwYTYxZWMgLSBILjI2NC9NUEVHLTQgQVZDIGNvZGVjIC0gQ29weWxlZnQgMjAwMy0yMDE3IC0gaHR0cDovL3d3dy52aWRlb2xhbi5vcmcveDI2NC5odG1sIC0gb3B0aW9uczogY2FiYWM9MCByZWY9MSBkZWJsb2NrPTA6MDowIGFuYWx5c2U9MDowIG1lPWRpYSBzdWJtZT0wIHBzeT0xIHBzeV9yZD0xLjAwOjAuMDAgbWl4ZWRfcmVmPTAgbWVfcmFuZ2U9MTYgY2hyb21hX21lPTEgdHJlbGxpcz0wIDh4OGRjdD0wIGNxbT0wIGRlYWR6b25lPTIxLDExIGZhc3RfcHNraXA9MSBjaHJvbWFfcXBfb2Zmc2V0PTAgdGhyZWFkcz0xMiBsb29rYWhlYWRfdGhyZWFkcz0yIHNsaWNlZF90aHJlYWRzPTAgbnI9MCBkZWNpbWF0ZT0xIGludGVybGFjZWQ9MCBibHVyYXlfY29tcGF0PTAgY29uc3RyYWluZWRfaW50cmE9MCBiZnJhbWVzPTAgd2VpZ2h0cD0wIGtleWludD0yNTAga2V5aW50X21pbj0yNSBzY2VuZWN1dD0wIGludHJhX3JlZnJlc2g9MCByYz1jcmYgbWJ0cmVlPTAgY3JmPTIzLjAgcWNvbXA9MC42MCBxcG1pbj0wIHFwbWF4PTY5IHFwc3RlcD00IGlwX3JhdGlvPTEuNDAgYXE9MACAAAAW42WIhDomKAAJAsnJycnJycnJycnJycnJycnJycnJycnJycnJycnJycnJycnJycnXWAAgAAgRAACAMAUEiIiApQkISRJQhJEkSQBcffffffffffffffffffffffffffffffffffWAAgAAgRgACAOAWEyMjIyMjAoEhDQ0MSBIXXXXXXXXXXXXXXXXXXXXXXXXXXXXXXXXXXXXXXXXXXXXXXXXXXXXXXXXXXXXXXXXXXXXXXXXXXXXXXXXXXXXXXXXXXXXXXXXXXXXXXXXXXXXXXXXXXXXXXXXXXXXXXXXXXXXXXXXXXXXXXXXXXXXXXXXXXXXXXXXXXXXXXXXXXXXXXXXXXXXXXXXXXXXXXXXXXXXXXXXXXXXXXXXXXXXXXXXXXXXXXXXXXXXXXXXXXXXXXXXXXXXXXXXXXXXXXXXXXXXXXXXXXXXXXXXXXXXXXXXXXXXXXXXXXXXXXXXXXXXXXXXXXXXXXXXXXXXXXXXXXXXXXXXXXXXXXXXXXXXXXXXXXXXXXXXXXXXXXXXXXXXXXXXXXXXXXXXXXXXXXXXXXXXXXXXXXXXXXXHYADEAdohoB9Xt9BjQYEXgAXWY0M0UdLFAAOD6Dc0u3EHAXglODLNDMuETnbKQBKoIE2bKGuemQxlJFiNu/xjAhxDI4Z9NCkX3IfOY24KljhKJ0EUHJEEZgpBRoe8VCZDSF0H5pVvIOUYNTg6zQ3LpE4OwBZgSCbrMa3GY1v6cYRB6KeU/dr/1IFTnB5RILZOlV4f111111111111111111111111111wtgAIBgHcCyQVHiJH1Rmd9LzMX//ABBeq30ATgFcmAO3I+wAQYcABkWaEk53I2nZEABXyHABQBXDSogRAnRhjjCAMIAA4ACjTgSLPgBEJg1wZRb/vAyFApbXAAOs2Ee4LAZgF1AAY8AEgdRRZ5QO2VPlP8RAO0xJPA1AXabZ55/gX0EwWZg6g9MIABAEAD5fgBMBzi4q5uB7g9+EACwiSjkrtQzIEPiAeloNbGdYMcyCzgAIEY5jmMcxzmOY5//4MDQ1Qt4AQ0Ci/e/wGuBVJsSzFR2P3I66666676666666666666666666666666664WwAEAxg8fTLVlL4dPbXIajMZ/gAgvJW9IgfgCkQUNpOBoGPveAByGtiCct+scdEJNGE5RGMcCAUspRgTmHAUAMIAA4AoPPBKE8AIgWDUwaiS/5BqKU2L6cAAr1CPG02hNwF/wAgxRRRQAAgmpJJJJAAXA1pCvQCB5JJ7Ajx4cmIEIWWTBLLKgllkCELLDiELLKglllQSywQUC4FAsIAAQAACBBAITM7Nthv3H9rQDDwNQb/kXDOAIYAAgAgSQX8EGg7u7r9p+fUUCMzEuKSsdibBZGAFiOUAawOO/cKACxzjDIuONqi0Ol4ALAgALFsLxwySx12P2eACwIACwKACwIACwcAFgCODGmKwXTl4NAmKACxiHLKISMRhxchQAWAMAAYBMA68D0YVljgTRLXQDZXpyNNfIAG2kCfKwMLwFlOW8E+G0yeuuuuuuuuuuuuuuuuuuuFsABAAMDCm2yZIk002TJkiRP//AAumM5AyoSLRWUAFgL2l4H2opAAENBASlIAjwA+4ZQzhKJf5wGOrgXUAAg6aAAMSRAHjkL1+1/wB2mYtPJgCNEFNB/vnEAAEwA4AfLKWRi888QAARsoAcANjcDcBg8mpBKP2hAACoIhLWZQACTUOvS/0G0BPaFXk8xfXMmzQWcABAAQEEsMvPPsMsvPvPv/+DoFrwE+4AAh39eAQTQyMOi/KaQ/DhAuzAC4LtjNYHce5Pvw3r5rrrrrrrrrrrhZwAEZQADoMeWK984kdfe8RYAxJpGe8KA1Dtoqfn+CDrS/gzyCRY/94YvAAUtAAECEcAtGP2wKwQRg6YCAEyKUzQTyWVQAydkwriolmvtwVdPU9cLOAAgAwQwFqrLpmiBM4kdIuLKqQQY1wQqnngCtZoaRSHC+iqqqBco7GOISgiZfweHAwl8Ks3mD4d88IAEyKAelHoqgBbD8lUGYqWPPAMX87k/rrrrrrrrrrrrrrrrrrhbAATSbaSTbSf//ABw7BEPJlhRxeAMLyvM8MkgAIAxQa8NtlXTD9sOMCooyAagDoALQMuGqISC9nnP8AFo2OME4sLuwh85RCZMI6lGIVOlIRGCKhAryUAx2B+JoA6IvmmAcMOuqt9CloMDhNAHTMVSSJAf/cTQB0KoA6eVQDphAACAOAdQMCJYYAPWwdI2BBqfu2v4+3vAn+62/YPnFtMDxQAAQoCMSUeu0FK2NXbDpBBcC/4XUARA4FFQi9KsdD0uCXAUj+Jn4WhsFRKAtAg7z4CjOStYUlFBXTRkPZPXHCe4fpp1gMYJ9DhkkisqLn+AuwYSYrhsUMweB3snrFE9hNMJAgABAEACgcMhCQyAMrTI5k2VGyB1cgOPJb7YMHmgbCulpRWBlGZSE2Hhz//hwKTTWy0z/XXXXXXXXXXC6gAIBDuc9z3Pc9z3uf/6WDFIq/yCQw6En/7/+EppgWsuGRWFxCz8h+9uGcATACgNs2cbAZVPulpAJXpfGX3AUOzwAEyCAJUgazzOFCbz/3QEdGR4nyFRmEAATIgACZFAATJwAEy8ABM4MJSRxIsMXfId4QABMigAJnCzABcPFQSMDPBTQKm8HUqfcKAAmZMCm9BQCBkA7wNzSjWYAIoMf14FMtDS50RQGEA8ltUQBG9A7ND4YTgDLALqAAgBgxRx4SaIJrpHjJU+U//gYAMw74nghMxuqzwAFLEHfMHBR1NfAeB4kAZFxvgA9/go6KOhAAkESAfOfOlqAHMMJtxKiGuDwRjdwGcABAABAWAQdum2BFnxaxrggUgoAAUBKwAWbCSuUyQCLIs/ABYzEPaXkACEHk99ibPAY8tH9rWY9s2ZmNRnfs2RQxnEawoYy4D17Mzw3U7mEf8/IoYzh+RQxnAYfCAE5QAFHAwALfAUxX3D2EEkHGNVe3gkmcev+n9dddddddddddddcLf//gAgvJW9IX+OFcL4AFmLzWAHZ5h0Kia4z/X/AGY22kDwOCt49woUh98qLKhDbifCoAMqgo6hdhBAGAElkCELLDiELLCAEAEUDQgAEAAjgE4ATE/kdwDKHTgAIAkWMAmIvkKcAM4dOAAJAA0WAuoACCDpKKEXZunY1YfVvv8JQOq9HwFediECag94QmdOTX4gQBABZYcQBABZduYoJc7wI/37dCkNLzOQoEAAQApIgIAAsAU8IwHZljyv8C2jwICvaXTAVmKUqOPAqqHQg9X7uieFnAARGGCIzUm1ZiDav5lAIX44ZSiGEPEhme+DpSWikQ2FfJAABUAgLuBCQ2LkwJpRWvQtss4r2hXc4Wfw3I5HcjojkdhBuHvDSsu8IAoxr+O4U7Bk1feysoAsguBbOmWYuin/RU8LqAAgIVrmMa173OY97v//ABG3/K8geEU+8HCmIMhW/BKTfwAcbQSOekMc8JHNgs4B6AaWoO978e94P0Ic9EcNM8nAAKgPch+e/2AT2irnPeQQQ1z8KiJALhNaI175xqqM88P111111111112tr7X111111111111111wtgAWAwiGjnz5aa/BoNj67wAMgtxEjH0S22OziFYd37KIxxSxiBgy34gQhbkAF+uxMK1Rw/9E8w0AAifgYcQhbmHEIW4EAgQAgEQgBAYAKArAA+s0MuzQEFXABVshCp4r98HAFqY84tUiBRK4AA+7EQKuEHAMMeiADUEeM820O+nTw574P//gAaM+EZDh/cQZAABIAoGXCAgUBUsOECgKlgDRqB8QVFciogAC4AAgFywgAICkmBAAEgCnig8AMNmJLynATzheY4CtQQeADlozCaqKcAqloSxBQtHQGFAAQBAx4xFokTKFXTDZ4///4MTDSoF5z+fAF8RAj+wMaORL8SY5ioEG0TW9gcLYRppFMFnP4QAIIosIAAiAjBPgU/Nc5MAvh6lb8oCElIhAAEASS/Aaqc1o0mBeg9zk/FCk2EQIAAgFJLCzgCIgGgU01iAmzcUOBW1hGmKuNrG+PBKUWakCwQJ+qn+v+AOD0keioUHj/0QBfhL4E57/wgACwMCzYQABwBAPFwqWVDGINv23hymMb+Fo877su0jgkmC/+30knBhkwgJ3x7WGcAQABACBTQ4k0AyOWa5m3Wgn9EACS/HdWrcSMgZCT/jwG+AsABIakhYUCirSzIIuBICwJAWAAGeAsCgMWAsCQFg8BYACRPIY9ArsgxYAWQu4GcN+C0m9L8LAWAGRaZHMSrwgERiQDgXDtxg9zsjD7v8AGcBIy2jsByu4CtiJ48EyPWAuoALAYSAERRQgMvIXN9//wVEM9kEEidx/xUQAXgAAgI0M8sMYEEyLkAbXvAQsUPdQok6iv4QAAmGRVh0QC1wdOlYHCAXvC/g8w6qWHVSwuoACAACAeK4NENzQaNDTk/nH+J4KHgI9e2oAjBL3LPDS4+fuAVmDrVwIMzDMB8lDABkAI5dzQ5YmzoBRp+EZLFbA/4ZW79wC/t4DBkwgAAkAQESw4cAAkAQESw4ABIAgIlhAAEAQBQEwOhjQJUKrMcLSJGHH/gMcMuVZQgz6jEgAgAHlzER/RBBnMMIpa/XXXXXXXXXXXXXXXXXXXXXXXXXXXXXCzgAIRHCJ9PFLSSgtSoLhadrID8Rf57/w+eKnj2vYWYMQtkrH58Cr+6dx4QL7BAJdCGVzAfH2I4ue9RSI5gHmg6QRJP73hZwAEExDgcBAbv8YEdSD8ma/Bm7CwUTJYoSscCAAEAaL4BkESmVxktYf4gAAmA4Jl8ACnIyYnHFavk2GwhYKfhgcYWAAQAAEALVAAFAOJIj2YgABAoTLCRB3BIQFKy3MiQyW9Q6mmALeKzyRlxBpuVg4htOj3ISDEmd8TzoAFvFGOoxmRIDbcVAkg+QWfwAAQAwDqJUEkTCN7umHVFMaQJGY/AGRID/ttt+YMQ5trCDTNiVacVonLO3+0ksWjQxgmEP///9eQiTQpwGIUBJcJlAzDHls/76mzHSgdPrALAgAAoAQGXP8ILO4QEgqafg45ozN+vn5sBXq7BFGTv++n4DhRIQqv18/FsN+5SBnCq7/vCzgAIIhQyUpQU95aC2Mmg8EHoiFYs9/x0BYI2v809BaRfAgArW0fu/8IF5AgEuxHK5gHzcoRT3nvXJazAHoay6QkOOPvXa2vtffXXXXXXXXXXXXXXXXXXXXXXXXXXC2AAgMgjUg0QWUWUrWLBYx/+ABWmZoJIp3ITqQCo8wksAYgt8G4DHiAQAVZnQQkRhAAQryOAZYxKuMAI2+r32CCIOWkBgTleC6gAIARw5SgUdN7T0aOHTZz/1Q6idgOATtyo5fmEgBhyJlAH4RW+AhcZBlSqIDRekImZBAAIjm+AUSgfnmZf3FMHRYKD+Ea7E8LqAAmmAAWBjzhrjo1u7dO/4VDKoSoNDm3z6TfQAc7CznbQuAcQ7/8IAAsDnHhAAHAFGO+ABPXMM2lgOKh+AA/lcwY1VMDSUML4ACCES1pAAlHPMOgsYeCWGwCaWUBNL8oCaWUBNLAGCQb6GKAKR+6VY9DjC8O6v/8AcURj08IARzZYQRGtCCMWSH4AJI31AjgKojhyAAEAuXwH4AJEb1QEOF+I4HoAB4vgLqALgBEHGsGoL6IFxVeRf/gA9QdlgTBa66QBcbmENTPANsyC88IAjGSwdcISp3QT/tz/f9sQBGMlkARjJYQAQUsYEAAQA54V4AJpZvQs6kRAJVGeUCN7TjjMgd4AIxTGtQiO4JohfG/lAhl/HNCtgcFsABAGFJLJJJJLAHB7PHMRMQALox1GrCGhO34kE1zvi3mbMfVSQTXPwygTXMoE1z8IAAsDHHBAAGgIMcuJbxjy8n8eHskRZ4Yeyz/x4ddddddddddddddddddddddddddddddcLYAFgBgAOcEkLCxgYiGOwPDyfwAVNhq20j4lhDbvAAmjNxBZzqQlotGGQ47Cjh1UAUo8lpIAGL34MIATCNCAAEAIA4LNQBmNvSMlE1EAS00ADdEsZewmJWQTMKWBE7JIH/cFyQAEAAgEGONEg+m++8SGoGugWwADMbovakfkQTZahEG6MOccUnYq0pEAGAAIAtECABgACATLD8OIAGAAIBMsOIAGAAIBMsGFQuhUKAFvEjPIjAiADByggAgIIgnDoGnZBeQsF+LgvWUixJeDr2f3EawWEUuH5FCEcXtq30PBdQA6AQ+aw1z9Zxvfv3//Jg2H6cNYYSX8gCBKlgDlURhkY447LIAeg5AD0IWiCAAoL/SfeghAcdA3hgVBWnZNoCkaxAbRCagmEssLYAgAFUDhxAJOn5P2bcBINoWQJR8AnjF4CJAou/94FPzXOTAJUQxopHykYYE3/7/4HjSxxvYbhBY+BjEsjmUo2qaeDrAcgXG8QAPXv3hAXUgQAB0EKHgIJk9Aj/rr+mAOWZI88CD+LxWVLw0p+fv3jadraBAJyDEtKzye1tffXXXXXXXXXXXXXXXXXXXXXXXXXXXXXXCzgAIbDNf3vY9zHNIJ8NwBjgY7OW8veqAAIBwAxpHPwHALAIIrfpp7wUgB2jFFoglLngTYQkNqrGuRO/oHRnGC9oQyDe1RBUif+AtgAWTguGN0QzvmjBn58cC5W7DWehbvwAEzJeu8AWkQZWNnqVnjCdmlgBtaMP/sZQIM4LFuMnHgkBcBjBACYAEBuBHxbj3nvCaigy3FVQYIYSWXsCrYDB/7wPRg/B/GNW21sFsAQGBSULDXVuihZnhFxAFXBIeQ9/GGGYbvS5EADRZlewpPkgAEeYQ1/5ACMTLCTZCG/PCB8GCfSZkEbCgUfzQCDZg9Hv7tsbXQ5nAoYY7QQABImMrRc2S75h16oAlPjOS/FSgPggKwNzCt7+W2JIVmF+wJS66Fa2OF7MFhZwAENhmv73sJIY5pBPhqAY4Dmbznl71QABARAMK1n4BsA1gHOzyHl7wcYFcEWb5OL37wCEISBo6pTazsgPu7PcCmQDLbTfhfuAWvrx9qSCeuuuuuuuuuuuuuuuuuuuuuuuuuuuuuuuuuF1AAQAEBRApz9/81aNXX7t078B2I7EVCialWIetYfmG4SUAwJWYxotPQkYZEn/7/4QXRQgACoIaZDVXMhiN7b8CeQRbmUgeRBt/3wtgCCAEeCyuwI0ZrMjU+BWoHD4FX6dOaPeWBWAhYOwA1KAT1yYBPAsx34DfINxvjDWFkF4E9GJTPFGS1QKWDsLHgNAtVHNAH8YGoE7xQGAN0zgGA4DhIAMKAK/wBH4sDZ9BaxH2H+AB/4bM/odAKZ3BGQVtIDhme8F1AAQBFCnIDjJf6/jxY+fEv4fx7qsYBsAmao7uzqABT0QnF+cIU9oLcBAMRU+B6KK32n5jCN+dJA050CJmQQABEYgn/wBvUwav8DDkj3sAJYI4sxP4M8YM4ACAAQgIg1nHVfXGZOeT0FAAISsAK4kji6orF/3wI9QIYTAdiDTKleLZJ/9seNa4urJ2IPkDEStwMIjH4Dlo3KVIu5df90bygQgLawIavBh8QECIDAAFnAAEAcAMj6FHL+A5+Pntg94AuY2kTHB7OFdbjVUqjIiQTRBuYog0+uuuuuuuuuuusABAABAjAAEAcAoJkRGBQhIaEhIYkiQhCS+++++++++++++++++++++1tYtdf79D2vvvvvvvvvvrAAQAAQIgABAGALCRGRERGREZGREZERka676666666666666666666666666666666666768AAAAuxtb292AAAAbG12aGQAAAAAAAAAAAAAAAAAAAPoAAAAEQABAAABAAAAAAAAAAAAAAAAAQAAAAAAAAAAAAAAAAAAAAEAAAAAAAAAAAAAAAAAAEAAAAAAAAAAAAAAAAAAAAAAAAAAAAAAAAAAAAAAAAACAAACFnRyYWsAAABcdGtoZAAAAAMAAAAAAAAAAAAAAAEAAAAAAAAAEQAAAAAAAAAAAAAAAAAAAAAAAQAAAAAAAAAAAAAAAAAAAAEAAAAAAAAAAAAAAAAAAEAAAAACWAAAAZAAAAAAACRlZHRzAAAAHGVsc3QAAAAAAAAAAQAAABEAAAAAAAEAAAAAAY5tZGlhAAAAIG1kaGQAAAAAAAAAAAAAAAAAADwAAAABAFXEAAAAAAAtaGRscgAAAAAAAAAAdmlkZQAAAAAAAAAAAAAAAFZpZGVvSGFuZGxlcgAAAAE5bWluZgAAABR2bWhkAAAAAQAAAAAAAAAAAAAAJGRpbmYAAAAcZHJlZgAAAAAAAAABAAAADHVybCAAAAABAAAA+XN0YmwAAACVc3RzZAAAAAAAAAABAAAAhWF2YzEAAAAAAAAAAQAAAAAAAAAAAAAAAAAAAAACWAGQAEgAAABIAAAAAAAAAAEAAAAAAAAAAAAAAAAAAAAAAAAAAAAAAAAAAAAAAAAAAAAY//8AAAAvYXZjQwFCwB//4QAYZ0LAH9oCYM+XhAAAAwAEAAADAeA8YMqAAQAEaM4PyAAAABhzdHRzAAAAAAAAAAEAAAABAAABAAAAABxzdHNjAAAAAAAAAAEAAAABAAAAAQAAAAEAAAAUc3RzegAAAAAAABk/AAAAAQAAABRzdGNvAAAAAAAAAAEAAAAwAAAAYnVkdGEAAABabWV0YQAAAAAAAAAhaGRscgAAAAAAAAAAbWRpcmFwcGwAAAAAAAAAAAAAAAAtaWxzdAAAACWpdG9vAAAAHWRhdGEAAAABAAAAAExhdmY1Ny43Mi4xMDE=' controls>Sorry, seems like your browser doesn't support HTML5 audio/video</video></div>"
      ],
      "text/plain": [
       "<moviepy.video.io.html_tools.HTML2 object>"
      ]
     },
     "execution_count": 6,
     "metadata": {},
     "output_type": "execute_result"
    }
   ],
   "source": [
    "make_frame = make_frame_curried(trial_data)\n",
    "duration = trial_data.shape[0]/60\n",
    "clip = mpy.VideoClip(make_frame, duration=duration)\n",
    "clip.ipython_display(fps=60)"
   ]
  },
  {
   "cell_type": "code",
   "execution_count": 7,
   "metadata": {},
   "outputs": [
    {
     "data": {
      "text/plain": [
       "<matplotlib.axes._subplots.AxesSubplot at 0x7faeac4ee9b0>"
      ]
     },
     "execution_count": 7,
     "metadata": {},
     "output_type": "execute_result"
    },
    {
     "data": {
      "image/png": "[encoded data removed]",
      "text/plain": [
       "<Figure size 432x288 with 1 Axes>"
      ]
     },
     "metadata": {
      "needs_background": "light"
     },
     "output_type": "display_data"
    },
    {
     "data": {
      "image/png": "[encoded data removed]",
      "text/plain": [
       "<Figure size 432x288 with 1 Axes>"
      ]
     },
     "metadata": {
      "needs_background": "light"
     },
     "output_type": "display_data"
    }
   ],
   "source": [
    "trial_data.plot(x=\"mouseX\", y=\"mouseY\")\n",
    "trial_data[[\"mouse.vx\", \"mouse.vy\"]].plot()"
   ]
  }
 ],
 "metadata": {
  "kernelspec": {
   "display_name": "Python 3",
   "language": "python",
   "name": "python3"
  },
  "language_info": {
   "codemirror_mode": {
    "name": "ipython",
    "version": 3
   },
   "file_extension": ".py",
   "mimetype": "text/x-python",
   "name": "python",
   "nbconvert_exporter": "python",
   "pygments_lexer": "ipython3",
   "version": "3.5.6"
  }
 },
 "nbformat": 4,
 "nbformat_minor": 2
}
