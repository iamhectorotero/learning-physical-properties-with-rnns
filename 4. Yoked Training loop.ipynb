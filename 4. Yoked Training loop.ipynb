{
 "cells": [
  {
   "cell_type": "code",
   "execution_count": 1,
   "metadata": {},
   "outputs": [],
   "source": [
    "import pandas as pd\n",
    "import numpy as np\n",
    "import torch\n",
    "import torch.utils.data\n",
    "import torch.nn as nn\n",
    "from torch.autograd import Variable\n",
    "from sklearn.model_selection import train_test_split\n",
    "import joblib\n",
    "from tqdm import tqdm\n",
    "import matplotlib.pyplot as plt"
   ]
  },
  {
   "cell_type": "code",
   "execution_count": 2,
   "metadata": {},
   "outputs": [
    {
     "data": {
      "text/plain": [
       "True"
      ]
     },
     "execution_count": 2,
     "metadata": {},
     "output_type": "execute_result"
    }
   ],
   "source": [
    "torch.cuda.is_available()"
   ]
  },
  {
   "cell_type": "code",
   "execution_count": 3,
   "metadata": {},
   "outputs": [],
   "source": [
    "from isaac.dataset import read_dataset, prepare_dataset, sample_subsequences, split_in_subsequences\n",
    "from isaac.utils import plot_confusion_matrix\n",
    "from isaac.models import RNNModel, ComplexRNNModel, initialise_model\n",
    "from isaac.constants import BASIC_TRAINING_COLS, FORCE_CLASS_COLS, MASS_CLASS_COLS, YOKED_TRAINING_COLS\n",
    "from isaac.training import evaluate, training_loop, evaluate_saved_model\n",
    "from isaac.sanity import class_proportions"
   ]
  },
  {
   "cell_type": "code",
   "execution_count": 4,
   "metadata": {},
   "outputs": [],
   "source": [
    "BATCH_SIZE = 256\n",
    "EPOCHS = 100\n",
    "NORMALISE_DATA = True\n",
    "STEP_SIZE = 1\n",
    "SEQ_END = 1800"
   ]
  },
  {
   "cell_type": "markdown",
   "metadata": {},
   "source": [
    "# Define common model, loss and optimizer"
   ]
  },
  {
   "cell_type": "code",
   "execution_count": 6,
   "metadata": {},
   "outputs": [],
   "source": [
    "INPUT_DIM = len(YOKED_TRAINING_COLS)    # input dimension\n",
    "HIDDEN_DIM = 25  # hidden layer dimension\n",
    "N_LAYERS = 3     # number of hidden layers\n",
    "OUTPUT_DIM = 3   # output dimension\n",
    "DROPOUT = 0.5\n",
    "\n",
    "network_dims = (INPUT_DIM, HIDDEN_DIM, N_LAYERS, OUTPUT_DIM)"
   ]
  },
  {
   "cell_type": "code",
   "execution_count": 7,
   "metadata": {
    "scrolled": true
   },
   "outputs": [
    {
     "name": "stderr",
     "output_type": "stream",
     "text": [
      "100%|██████████| 341/341 [00:01<00:00, 171.20it/s]\n",
      "100%|██████████| 400/400 [00:06<00:00, 62.38it/s]\n",
      "100%|██████████| 400/400 [00:06<00:00, 62.13it/s]\n"
     ]
    }
   ],
   "source": [
    "exp1_trials = read_dataset(\"data/yoked_trials_exp1.h5\")\n",
    "exp2_mass_trials = read_dataset(\"data/mass_trials_exp2.h5\")\n",
    "exp2_force_trials = read_dataset(\"data/force_trials_exp2.h5\")"
   ]
  },
  {
   "cell_type": "code",
   "execution_count": 8,
   "metadata": {},
   "outputs": [],
   "source": [
    "exp1_trials = split_in_subsequences(exp1_trials, seq_size=900)\n",
    "exp2_mass_trials = split_in_subsequences(exp2_mass_trials, seq_size=900)\n",
    "exp2_force_trials = split_in_subsequences(exp2_force_trials, seq_size=900)"
   ]
  },
  {
   "cell_type": "code",
   "execution_count": 9,
   "metadata": {},
   "outputs": [],
   "source": [
    "yoked_trials = exp1_trials + exp2_mass_trials + exp2_force_trials"
   ]
  },
  {
   "cell_type": "markdown",
   "metadata": {},
   "source": [
    "# MASS TRAINING (Humans achieve 46% +- 29%)"
   ]
  },
  {
   "cell_type": "markdown",
   "metadata": {},
   "source": [
    "## Read dataset and preprocess it"
   ]
  },
  {
   "cell_type": "code",
   "execution_count": 10,
   "metadata": {},
   "outputs": [
    {
     "data": {
      "text/plain": [
       "2623"
      ]
     },
     "execution_count": 10,
     "metadata": {},
     "output_type": "execute_result"
    }
   ],
   "source": [
    "len(yoked_trials)"
   ]
  },
  {
   "cell_type": "code",
   "execution_count": 11,
   "metadata": {},
   "outputs": [],
   "source": [
    "indices = np.arange(len(yoked_trials))\n",
    "train_indices = np.random.choice(indices, 2200, replace=False)\n",
    "val_indices = np.random.choice(list(set(indices) - set(train_indices)), 200, replace=False)\n",
    "test_indices = list(set(indices) - set(train_indices) - set(val_indices))"
   ]
  },
  {
   "cell_type": "code",
   "execution_count": 12,
   "metadata": {},
   "outputs": [],
   "source": [
    "train_trials = [yoked_trials[i] for i in train_indices]\n",
    "val_trials = [yoked_trials[i] for i in val_indices]\n",
    "test_trials = [yoked_trials[i] for i in test_indices]"
   ]
  },
  {
   "cell_type": "code",
   "execution_count": 13,
   "metadata": {
    "scrolled": true
   },
   "outputs": [
    {
     "name": "stderr",
     "output_type": "stream",
     "text": [
      "100%|██████████| 2200/2200 [00:04<00:00, 503.62it/s]\n",
      "100%|██████████| 200/200 [00:00<00:00, 493.03it/s]\n"
     ]
    }
   ],
   "source": [
    "loaders, scaler = prepare_dataset([train_trials, val_trials], training_columns=YOKED_TRAINING_COLS, \n",
    "                                  class_columns=MASS_CLASS_COLS, batch_size=BATCH_SIZE, \n",
    "                                  normalise_data=NORMALISE_DATA)"
   ]
  },
  {
   "cell_type": "code",
   "execution_count": 14,
   "metadata": {},
   "outputs": [],
   "source": [
    "train_loader, val_loader = loaders"
   ]
  },
  {
   "cell_type": "code",
   "execution_count": 15,
   "metadata": {},
   "outputs": [
    {
     "name": "stdout",
     "output_type": "stream",
     "text": [
      "[778 631 791]\n",
      "Majority class:  0.35954545454545456\n",
      "[80 52 68]\n",
      "Majority class:  0.4\n"
     ]
    }
   ],
   "source": [
    "class_proportions(train_loader)\n",
    "class_proportions(val_loader)"
   ]
  },
  {
   "cell_type": "markdown",
   "metadata": {},
   "source": [
    "## Define model, loss and optimizer"
   ]
  },
  {
   "cell_type": "code",
   "execution_count": 18,
   "metadata": {},
   "outputs": [],
   "source": [
    "model, error, optimizer = initialise_model(network_dims, dropout=0, lr=0.01)"
   ]
  },
  {
   "cell_type": "markdown",
   "metadata": {},
   "source": [
    "## Train model and plot loss and accuracy"
   ]
  },
  {
   "cell_type": "code",
   "execution_count": null,
   "metadata": {
    "scrolled": true
   },
   "outputs": [
    {
     "name": "stderr",
     "output_type": "stream",
     "text": [
      "\n",
      "  0%|          | 0/100 [00:00<?, ?it/s]\u001b[A\n",
      "Train_loss (1.10)\t Train_acc (39.23)\t Val_acc (41.50):   0%|          | 0/100 [00:01<?, ?it/s]\u001b[A\n",
      "Train_loss (1.10)\t Train_acc (39.23)\t Val_acc (41.50):   1%|          | 1/100 [00:01<01:42,  1.03s/it]\u001b[A\n",
      "Train_loss (1.09)\t Train_acc (40.68)\t Val_acc (40.50):   1%|          | 1/100 [00:02<01:42,  1.03s/it]\u001b[A\n",
      "Train_loss (1.09)\t Train_acc (40.68)\t Val_acc (40.50):   2%|▏         | 2/100 [00:02<01:42,  1.05s/it]\u001b[A\n",
      "Train_loss (1.08)\t Train_acc (41.23)\t Val_acc (38.50):   2%|▏         | 2/100 [00:03<01:42,  1.05s/it]\u001b[A\n",
      "Train_loss (1.08)\t Train_acc (41.23)\t Val_acc (38.50):   3%|▎         | 3/100 [00:03<01:41,  1.04s/it]\u001b[A\n",
      "Train_loss (1.07)\t Train_acc (42.45)\t Val_acc (41.00):   3%|▎         | 3/100 [00:04<01:41,  1.04s/it]\u001b[A\n",
      "Train_loss (1.07)\t Train_acc (42.45)\t Val_acc (41.00):   4%|▍         | 4/100 [00:04<01:39,  1.04s/it]\u001b[A\n",
      "Train_loss (1.06)\t Train_acc (44.73)\t Val_acc (42.00):   4%|▍         | 4/100 [00:05<01:39,  1.04s/it]\u001b[A\n",
      "Train_loss (1.06)\t Train_acc (44.73)\t Val_acc (42.00):   5%|▌         | 5/100 [00:05<01:39,  1.05s/it]\u001b[A\n",
      "Train_loss (1.05)\t Train_acc (46.00)\t Val_acc (41.00):   5%|▌         | 5/100 [00:06<01:39,  1.05s/it]\u001b[A\n",
      "Train_loss (1.05)\t Train_acc (46.00)\t Val_acc (41.00):   6%|▌         | 6/100 [00:06<01:38,  1.05s/it]\u001b[A\n",
      "Train_loss (1.03)\t Train_acc (48.73)\t Val_acc (38.00):   6%|▌         | 6/100 [00:07<01:38,  1.05s/it]\u001b[A\n",
      "Train_loss (1.03)\t Train_acc (48.73)\t Val_acc (38.00):   7%|▋         | 7/100 [00:07<01:37,  1.05s/it]\u001b[A\n",
      "Train_loss (1.01)\t Train_acc (51.41)\t Val_acc (40.00):   7%|▋         | 7/100 [00:08<01:37,  1.05s/it]\u001b[A\n",
      "Train_loss (1.01)\t Train_acc (51.41)\t Val_acc (40.00):   8%|▊         | 8/100 [00:08<01:36,  1.05s/it]\u001b[A\n",
      "Train_loss (0.98)\t Train_acc (53.73)\t Val_acc (38.50):   8%|▊         | 8/100 [00:09<01:36,  1.05s/it]\u001b[A\n",
      "Train_loss (0.98)\t Train_acc (53.73)\t Val_acc (38.50):   9%|▉         | 9/100 [00:09<01:35,  1.05s/it]\u001b[A\n",
      "Train_loss (0.95)\t Train_acc (54.45)\t Val_acc (37.00):   9%|▉         | 9/100 [00:10<01:35,  1.05s/it]\u001b[A\n",
      "Train_loss (0.95)\t Train_acc (54.45)\t Val_acc (37.00):  10%|█         | 10/100 [00:10<01:34,  1.05s/it]\u001b[A\n",
      "Train_loss (0.92)\t Train_acc (55.00)\t Val_acc (39.50):  10%|█         | 10/100 [00:11<01:34,  1.05s/it]\u001b[A\n",
      "Train_loss (0.92)\t Train_acc (55.00)\t Val_acc (39.50):  11%|█         | 11/100 [00:11<01:36,  1.08s/it]\u001b[A\n",
      "Train_loss (0.93)\t Train_acc (58.00)\t Val_acc (36.50):  11%|█         | 11/100 [00:12<01:36,  1.08s/it]\u001b[A\n",
      "Train_loss (0.93)\t Train_acc (58.00)\t Val_acc (36.50):  12%|█▏        | 12/100 [00:12<01:36,  1.10s/it]\u001b[A\n",
      "Train_loss (0.88)\t Train_acc (61.50)\t Val_acc (38.50):  12%|█▏        | 12/100 [00:13<01:36,  1.10s/it]\u001b[A\n",
      "Train_loss (0.88)\t Train_acc (61.50)\t Val_acc (38.50):  13%|█▎        | 13/100 [00:13<01:37,  1.12s/it]\u001b[A\n",
      "Train_loss (0.85)\t Train_acc (63.00)\t Val_acc (42.50):  13%|█▎        | 13/100 [00:15<01:37,  1.12s/it]\u001b[A\n",
      "Train_loss (0.85)\t Train_acc (63.00)\t Val_acc (42.50):  14%|█▍        | 14/100 [00:15<01:35,  1.11s/it]\u001b[A\n",
      "Train_loss (0.80)\t Train_acc (66.91)\t Val_acc (38.00):  14%|█▍        | 14/100 [00:16<01:35,  1.11s/it]\u001b[A\n",
      "Train_loss (0.80)\t Train_acc (66.91)\t Val_acc (38.00):  15%|█▌        | 15/100 [00:16<01:33,  1.09s/it]\u001b[A\n",
      "Train_loss (0.78)\t Train_acc (65.05)\t Val_acc (38.00):  15%|█▌        | 15/100 [00:17<01:33,  1.09s/it]\u001b[A\n",
      "Train_loss (0.78)\t Train_acc (65.05)\t Val_acc (38.00):  16%|█▌        | 16/100 [00:17<01:32,  1.10s/it]\u001b[A\n",
      "Train_loss (0.76)\t Train_acc (69.32)\t Val_acc (39.50):  16%|█▌        | 16/100 [00:18<01:32,  1.10s/it]\u001b[A\n",
      "Train_loss (0.76)\t Train_acc (69.32)\t Val_acc (39.50):  17%|█▋        | 17/100 [00:18<01:30,  1.09s/it]\u001b[A\n",
      "Train_loss (0.72)\t Train_acc (69.64)\t Val_acc (38.50):  17%|█▋        | 17/100 [00:19<01:30,  1.09s/it]\u001b[A\n",
      "Train_loss (0.72)\t Train_acc (69.64)\t Val_acc (38.50):  18%|█▊        | 18/100 [00:19<01:29,  1.09s/it]\u001b[A\n",
      "Train_loss (0.66)\t Train_acc (70.59)\t Val_acc (37.50):  18%|█▊        | 18/100 [00:20<01:29,  1.09s/it]\u001b[A\n",
      "Train_loss (0.66)\t Train_acc (70.59)\t Val_acc (37.50):  19%|█▉        | 19/100 [00:20<01:29,  1.11s/it]\u001b[A\n",
      "Train_loss (0.65)\t Train_acc (74.82)\t Val_acc (39.50):  19%|█▉        | 19/100 [00:21<01:29,  1.11s/it]\u001b[A\n",
      "Train_loss (0.65)\t Train_acc (74.82)\t Val_acc (39.50):  20%|██        | 20/100 [00:21<01:30,  1.13s/it]\u001b[A\n",
      "Train_loss (0.66)\t Train_acc (72.45)\t Val_acc (40.00):  20%|██        | 20/100 [00:22<01:30,  1.13s/it]\u001b[A\n",
      "Train_loss (0.66)\t Train_acc (72.45)\t Val_acc (40.00):  21%|██        | 21/100 [00:22<01:29,  1.14s/it]\u001b[A\n",
      "Train_loss (0.62)\t Train_acc (76.91)\t Val_acc (40.00):  21%|██        | 21/100 [00:24<01:29,  1.14s/it]\u001b[A\n",
      "Train_loss (0.62)\t Train_acc (76.91)\t Val_acc (40.00):  22%|██▏       | 22/100 [00:24<01:31,  1.17s/it]\u001b[A\n",
      "Train_loss (0.58)\t Train_acc (75.68)\t Val_acc (38.50):  22%|██▏       | 22/100 [00:25<01:31,  1.17s/it]\u001b[A\n",
      "Train_loss (0.58)\t Train_acc (75.68)\t Val_acc (38.50):  23%|██▎       | 23/100 [00:25<01:32,  1.20s/it]\u001b[A\n",
      "Train_loss (0.58)\t Train_acc (77.91)\t Val_acc (36.00):  23%|██▎       | 23/100 [00:26<01:32,  1.20s/it]\u001b[A\n",
      "Train_loss (0.58)\t Train_acc (77.91)\t Val_acc (36.00):  24%|██▍       | 24/100 [00:26<01:29,  1.18s/it]\u001b[A\n",
      "Train_loss (0.52)\t Train_acc (79.64)\t Val_acc (36.00):  24%|██▍       | 24/100 [00:27<01:29,  1.18s/it]\u001b[A\n",
      "Train_loss (0.52)\t Train_acc (79.64)\t Val_acc (36.00):  25%|██▌       | 25/100 [00:27<01:30,  1.21s/it]\u001b[A\n",
      "Train_loss (0.52)\t Train_acc (80.64)\t Val_acc (37.50):  25%|██▌       | 25/100 [00:29<01:30,  1.21s/it]\u001b[A\n",
      "Train_loss (0.52)\t Train_acc (80.64)\t Val_acc (37.50):  26%|██▌       | 26/100 [00:29<01:29,  1.21s/it]\u001b[A\n",
      "Train_loss (0.49)\t Train_acc (81.73)\t Val_acc (38.00):  26%|██▌       | 26/100 [00:30<01:29,  1.21s/it]\u001b[A\n",
      "Train_loss (0.49)\t Train_acc (81.73)\t Val_acc (38.00):  27%|██▋       | 27/100 [00:30<01:29,  1.23s/it]\u001b[A\n",
      "Train_loss (0.45)\t Train_acc (82.18)\t Val_acc (38.50):  27%|██▋       | 27/100 [00:31<01:29,  1.23s/it]\u001b[A\n",
      "Train_loss (0.45)\t Train_acc (82.18)\t Val_acc (38.50):  28%|██▊       | 28/100 [00:31<01:28,  1.23s/it]\u001b[A\n",
      "Train_loss (0.45)\t Train_acc (83.73)\t Val_acc (36.00):  28%|██▊       | 28/100 [00:32<01:28,  1.23s/it]\u001b[A\n",
      "Train_loss (0.45)\t Train_acc (83.73)\t Val_acc (36.00):  29%|██▉       | 29/100 [00:32<01:27,  1.24s/it]\u001b[A\n",
      "Train_loss (0.42)\t Train_acc (82.45)\t Val_acc (37.50):  29%|██▉       | 29/100 [00:34<01:27,  1.24s/it]\u001b[A\n",
      "Train_loss (0.42)\t Train_acc (82.45)\t Val_acc (37.50):  30%|███       | 30/100 [00:34<01:27,  1.25s/it]\u001b[A\n",
      "Train_loss (0.44)\t Train_acc (84.18)\t Val_acc (37.50):  30%|███       | 30/100 [00:35<01:27,  1.25s/it]\u001b[A\n",
      "Train_loss (0.44)\t Train_acc (84.18)\t Val_acc (37.50):  31%|███       | 31/100 [00:35<01:26,  1.25s/it]\u001b[A\n",
      "Train_loss (0.44)\t Train_acc (83.50)\t Val_acc (38.50):  31%|███       | 31/100 [00:36<01:26,  1.25s/it]\u001b[A\n",
      "Train_loss (0.44)\t Train_acc (83.50)\t Val_acc (38.50):  32%|███▏      | 32/100 [00:36<01:25,  1.25s/it]\u001b[A\n",
      "Train_loss (0.39)\t Train_acc (86.00)\t Val_acc (38.00):  32%|███▏      | 32/100 [00:37<01:25,  1.25s/it]\u001b[A\n",
      "Train_loss (0.39)\t Train_acc (86.00)\t Val_acc (38.00):  33%|███▎      | 33/100 [00:37<01:22,  1.23s/it]\u001b[A\n",
      "Train_loss (0.33)\t Train_acc (88.95)\t Val_acc (41.00):  33%|███▎      | 33/100 [00:38<01:22,  1.23s/it]\u001b[A\n",
      "Train_loss (0.33)\t Train_acc (88.95)\t Val_acc (41.00):  34%|███▍      | 34/100 [00:38<01:20,  1.22s/it]\u001b[A\n",
      "Train_loss (0.32)\t Train_acc (86.64)\t Val_acc (39.50):  34%|███▍      | 34/100 [00:40<01:20,  1.22s/it]\u001b[A\n",
      "Train_loss (0.32)\t Train_acc (86.64)\t Val_acc (39.50):  35%|███▌      | 35/100 [00:40<01:19,  1.23s/it]\u001b[A\n",
      "Train_loss (0.41)\t Train_acc (82.95)\t Val_acc (36.50):  35%|███▌      | 35/100 [00:41<01:19,  1.23s/it]\u001b[A\n",
      "Train_loss (0.41)\t Train_acc (82.95)\t Val_acc (36.50):  36%|███▌      | 36/100 [00:41<01:18,  1.22s/it]\u001b[A\n",
      "Train_loss (0.52)\t Train_acc (76.59)\t Val_acc (37.50):  36%|███▌      | 36/100 [00:42<01:18,  1.22s/it]\u001b[A\n",
      "Train_loss (0.52)\t Train_acc (76.59)\t Val_acc (37.50):  37%|███▋      | 37/100 [00:42<01:17,  1.23s/it]\u001b[A\n",
      "Train_loss (0.62)\t Train_acc (76.05)\t Val_acc (37.50):  37%|███▋      | 37/100 [00:43<01:17,  1.23s/it]\u001b[A\n",
      "Train_loss (0.62)\t Train_acc (76.05)\t Val_acc (37.50):  38%|███▊      | 38/100 [00:43<01:16,  1.24s/it]\u001b[A\n"
     ]
    },
    {
     "name": "stderr",
     "output_type": "stream",
     "text": [
      "Train_loss (0.53)\t Train_acc (82.77)\t Val_acc (42.50):  38%|███▊      | 38/100 [00:45<01:16,  1.24s/it]\u001b[A\n",
      "Train_loss (0.53)\t Train_acc (82.77)\t Val_acc (42.50):  39%|███▉      | 39/100 [00:45<01:16,  1.25s/it]\u001b[A\n",
      "Train_loss (0.41)\t Train_acc (85.32)\t Val_acc (38.00):  39%|███▉      | 39/100 [00:46<01:16,  1.25s/it]\u001b[A\n",
      "Train_loss (0.41)\t Train_acc (85.32)\t Val_acc (38.00):  40%|████      | 40/100 [00:46<01:14,  1.25s/it]\u001b[A\n",
      "Train_loss (0.38)\t Train_acc (88.91)\t Val_acc (34.50):  40%|████      | 40/100 [00:47<01:14,  1.25s/it]\u001b[A\n",
      "Train_loss (0.38)\t Train_acc (88.91)\t Val_acc (34.50):  41%|████      | 41/100 [00:47<01:14,  1.26s/it]\u001b[A\n",
      "Train_loss (0.29)\t Train_acc (91.14)\t Val_acc (36.00):  41%|████      | 41/100 [00:48<01:14,  1.26s/it]\u001b[A\n",
      "Train_loss (0.29)\t Train_acc (91.14)\t Val_acc (36.00):  42%|████▏     | 42/100 [00:48<01:10,  1.22s/it]\u001b[A\n",
      "Train_loss (0.23)\t Train_acc (92.32)\t Val_acc (33.00):  42%|████▏     | 42/100 [00:49<01:10,  1.22s/it]\u001b[A\n",
      "Train_loss (0.23)\t Train_acc (92.32)\t Val_acc (33.00):  43%|████▎     | 43/100 [00:49<01:07,  1.19s/it]\u001b[A\n",
      "Train_loss (0.23)\t Train_acc (91.82)\t Val_acc (39.50):  43%|████▎     | 43/100 [00:51<01:07,  1.19s/it]\u001b[A\n",
      "Train_loss (0.23)\t Train_acc (91.82)\t Val_acc (39.50):  44%|████▍     | 44/100 [00:51<01:06,  1.20s/it]\u001b[A\n",
      "Train_loss (0.24)\t Train_acc (91.50)\t Val_acc (34.50):  44%|████▍     | 44/100 [00:52<01:06,  1.20s/it]\u001b[A\n",
      "Train_loss (0.24)\t Train_acc (91.50)\t Val_acc (34.50):  45%|████▌     | 45/100 [00:52<01:05,  1.19s/it]\u001b[A\n",
      "Train_loss (0.25)\t Train_acc (92.36)\t Val_acc (36.00):  45%|████▌     | 45/100 [00:53<01:05,  1.19s/it]\u001b[A\n",
      "Train_loss (0.25)\t Train_acc (92.36)\t Val_acc (36.00):  46%|████▌     | 46/100 [00:53<01:03,  1.18s/it]\u001b[A\n",
      "Train_loss (0.28)\t Train_acc (88.68)\t Val_acc (39.50):  46%|████▌     | 46/100 [00:54<01:03,  1.18s/it]\u001b[A\n",
      "Train_loss (0.28)\t Train_acc (88.68)\t Val_acc (39.50):  47%|████▋     | 47/100 [00:54<01:02,  1.18s/it]\u001b[A\n",
      "Train_loss (0.35)\t Train_acc (86.55)\t Val_acc (39.00):  47%|████▋     | 47/100 [00:55<01:02,  1.18s/it]\u001b[A\n",
      "Train_loss (0.35)\t Train_acc (86.55)\t Val_acc (39.00):  48%|████▊     | 48/100 [00:55<01:00,  1.15s/it]\u001b[A\n",
      "Train_loss (0.35)\t Train_acc (88.50)\t Val_acc (36.50):  48%|████▊     | 48/100 [00:56<01:00,  1.15s/it]\u001b[A\n",
      "Train_loss (0.35)\t Train_acc (88.50)\t Val_acc (36.50):  49%|████▉     | 49/100 [00:56<00:58,  1.14s/it]\u001b[A\n",
      "Train_loss (0.33)\t Train_acc (90.77)\t Val_acc (39.00):  49%|████▉     | 49/100 [00:58<00:58,  1.14s/it]\u001b[A\n",
      "Train_loss (0.33)\t Train_acc (90.77)\t Val_acc (39.00):  50%|█████     | 50/100 [00:58<00:57,  1.15s/it]\u001b[A\n",
      "Train_loss (0.26)\t Train_acc (93.68)\t Val_acc (40.50):  50%|█████     | 50/100 [00:59<00:57,  1.15s/it]\u001b[A\n",
      "Train_loss (0.26)\t Train_acc (93.68)\t Val_acc (40.50):  51%|█████     | 51/100 [00:59<00:55,  1.14s/it]\u001b[A\n",
      "Train_loss (0.23)\t Train_acc (92.36)\t Val_acc (37.50):  51%|█████     | 51/100 [01:00<00:55,  1.14s/it]\u001b[A\n",
      "Train_loss (0.23)\t Train_acc (92.36)\t Val_acc (37.50):  52%|█████▏    | 52/100 [01:00<00:54,  1.14s/it]\u001b[A\n",
      "Train_loss (0.22)\t Train_acc (95.18)\t Val_acc (34.00):  52%|█████▏    | 52/100 [01:01<00:54,  1.14s/it]\u001b[A\n",
      "Train_loss (0.22)\t Train_acc (95.18)\t Val_acc (34.00):  53%|█████▎    | 53/100 [01:01<00:53,  1.14s/it]\u001b[A\n",
      "Train_loss (0.16)\t Train_acc (95.86)\t Val_acc (34.00):  53%|█████▎    | 53/100 [01:02<00:53,  1.14s/it]\u001b[A\n",
      "Train_loss (0.16)\t Train_acc (95.86)\t Val_acc (34.00):  54%|█████▍    | 54/100 [01:02<00:52,  1.15s/it]\u001b[A\n",
      "Train_loss (0.14)\t Train_acc (96.86)\t Val_acc (33.00):  54%|█████▍    | 54/100 [01:03<00:52,  1.15s/it]\u001b[A\n",
      "Train_loss (0.14)\t Train_acc (96.86)\t Val_acc (33.00):  55%|█████▌    | 55/100 [01:03<00:52,  1.17s/it]\u001b[A\n",
      "Train_loss (0.12)\t Train_acc (94.55)\t Val_acc (35.00):  55%|█████▌    | 55/100 [01:04<00:52,  1.17s/it]\u001b[A\n",
      "Train_loss (0.12)\t Train_acc (94.55)\t Val_acc (35.00):  56%|█████▌    | 56/100 [01:04<00:51,  1.17s/it]\u001b[A\n",
      "Train_loss (0.24)\t Train_acc (92.64)\t Val_acc (37.00):  56%|█████▌    | 56/100 [01:06<00:51,  1.17s/it]\u001b[A\n",
      "Train_loss (0.24)\t Train_acc (92.64)\t Val_acc (37.00):  57%|█████▋    | 57/100 [01:06<00:51,  1.19s/it]\u001b[A\n",
      "Train_loss (0.29)\t Train_acc (91.18)\t Val_acc (34.00):  57%|█████▋    | 57/100 [01:07<00:51,  1.19s/it]\u001b[A\n",
      "Train_loss (0.29)\t Train_acc (91.18)\t Val_acc (34.00):  58%|█████▊    | 58/100 [01:07<00:50,  1.21s/it]\u001b[A\n",
      "Train_loss (0.28)\t Train_acc (91.41)\t Val_acc (38.00):  58%|█████▊    | 58/100 [01:08<00:50,  1.21s/it]\u001b[A\n",
      "Train_loss (0.28)\t Train_acc (91.41)\t Val_acc (38.00):  59%|█████▉    | 59/100 [01:08<00:49,  1.20s/it]\u001b[A\n",
      "Train_loss (0.24)\t Train_acc (91.82)\t Val_acc (39.00):  59%|█████▉    | 59/100 [01:09<00:49,  1.20s/it]\u001b[A\n",
      "Train_loss (0.24)\t Train_acc (91.82)\t Val_acc (39.00):  60%|██████    | 60/100 [01:09<00:47,  1.20s/it]\u001b[A\n",
      "Train_loss (0.23)\t Train_acc (93.59)\t Val_acc (36.00):  60%|██████    | 60/100 [01:11<00:47,  1.20s/it]\u001b[A\n",
      "Train_loss (0.23)\t Train_acc (93.59)\t Val_acc (36.00):  61%|██████    | 61/100 [01:11<00:46,  1.20s/it]\u001b[A\n",
      "Train_loss (0.23)\t Train_acc (94.59)\t Val_acc (39.00):  61%|██████    | 61/100 [01:12<00:46,  1.20s/it]\u001b[A\n",
      "Train_loss (0.23)\t Train_acc (94.59)\t Val_acc (39.00):  62%|██████▏   | 62/100 [01:12<00:45,  1.20s/it]\u001b[A\n",
      "Train_loss (0.17)\t Train_acc (96.23)\t Val_acc (40.50):  62%|██████▏   | 62/100 [01:13<00:45,  1.20s/it]\u001b[A\n",
      "Train_loss (0.17)\t Train_acc (96.23)\t Val_acc (40.50):  63%|██████▎   | 63/100 [01:13<00:43,  1.18s/it]\u001b[A\n",
      "Train_loss (0.14)\t Train_acc (96.05)\t Val_acc (36.50):  63%|██████▎   | 63/100 [01:14<00:43,  1.18s/it]\u001b[A\n",
      "Train_loss (0.14)\t Train_acc (96.05)\t Val_acc (36.50):  64%|██████▍   | 64/100 [01:14<00:41,  1.16s/it]\u001b[A\n",
      "Train_loss (0.12)\t Train_acc (95.09)\t Val_acc (38.50):  64%|██████▍   | 64/100 [01:15<00:41,  1.16s/it]\u001b[A\n",
      "Train_loss (0.12)\t Train_acc (95.09)\t Val_acc (38.50):  65%|██████▌   | 65/100 [01:15<00:40,  1.15s/it]\u001b[A\n",
      "Train_loss (0.19)\t Train_acc (94.32)\t Val_acc (37.50):  65%|██████▌   | 65/100 [01:16<00:40,  1.15s/it]\u001b[A\n",
      "Train_loss (0.19)\t Train_acc (94.32)\t Val_acc (37.50):  66%|██████▌   | 66/100 [01:16<00:38,  1.14s/it]\u001b[A\n",
      "Train_loss (0.22)\t Train_acc (94.09)\t Val_acc (35.50):  66%|██████▌   | 66/100 [01:17<00:38,  1.14s/it]\u001b[A\n",
      "Train_loss (0.22)\t Train_acc (94.09)\t Val_acc (35.50):  67%|██████▋   | 67/100 [01:17<00:37,  1.15s/it]\u001b[A\n",
      "Train_loss (0.21)\t Train_acc (94.59)\t Val_acc (36.00):  67%|██████▋   | 67/100 [01:19<00:37,  1.15s/it]\u001b[A\n",
      "Train_loss (0.21)\t Train_acc (94.59)\t Val_acc (36.00):  68%|██████▊   | 68/100 [01:19<00:36,  1.15s/it]\u001b[A\n",
      "Train_loss (0.18)\t Train_acc (95.55)\t Val_acc (35.00):  68%|██████▊   | 68/100 [01:20<00:36,  1.15s/it]\u001b[A\n",
      "Train_loss (0.18)\t Train_acc (95.55)\t Val_acc (35.00):  69%|██████▉   | 69/100 [01:20<00:35,  1.16s/it]\u001b[A\n",
      "Train_loss (0.13)\t Train_acc (97.32)\t Val_acc (36.00):  69%|██████▉   | 69/100 [01:21<00:35,  1.16s/it]\u001b[A\n",
      "Train_loss (0.13)\t Train_acc (97.32)\t Val_acc (36.00):  70%|███████   | 70/100 [01:21<00:35,  1.17s/it]\u001b[A\n",
      "Train_loss (0.13)\t Train_acc (97.27)\t Val_acc (37.50):  70%|███████   | 70/100 [01:22<00:35,  1.17s/it]\u001b[A\n",
      "Train_loss (0.13)\t Train_acc (97.27)\t Val_acc (37.50):  71%|███████   | 71/100 [01:22<00:34,  1.17s/it]\u001b[A\n",
      "Train_loss (0.10)\t Train_acc (98.27)\t Val_acc (36.50):  71%|███████   | 71/100 [01:23<00:34,  1.17s/it]\u001b[A\n",
      "Train_loss (0.10)\t Train_acc (98.27)\t Val_acc (36.50):  72%|███████▏  | 72/100 [01:23<00:32,  1.16s/it]\u001b[A\n",
      "Train_loss (0.07)\t Train_acc (98.77)\t Val_acc (35.00):  72%|███████▏  | 72/100 [01:24<00:32,  1.16s/it]\u001b[A\n",
      "Train_loss (0.07)\t Train_acc (98.77)\t Val_acc (35.00):  73%|███████▎  | 73/100 [01:24<00:31,  1.15s/it]\u001b[A\n",
      "Train_loss (0.07)\t Train_acc (98.45)\t Val_acc (37.00):  73%|███████▎  | 73/100 [01:26<00:31,  1.15s/it]\u001b[A\n",
      "Train_loss (0.07)\t Train_acc (98.45)\t Val_acc (37.00):  74%|███████▍  | 74/100 [01:26<00:30,  1.16s/it]\u001b[A\n",
      "Train_loss (0.05)\t Train_acc (98.86)\t Val_acc (32.50):  74%|███████▍  | 74/100 [01:27<00:30,  1.16s/it]\u001b[A\n",
      "Train_loss (0.05)\t Train_acc (98.86)\t Val_acc (32.50):  75%|███████▌  | 75/100 [01:27<00:29,  1.16s/it]\u001b[A\n",
      "Train_loss (0.05)\t Train_acc (99.23)\t Val_acc (33.00):  75%|███████▌  | 75/100 [01:28<00:29,  1.16s/it]\u001b[A\n",
      "Train_loss (0.05)\t Train_acc (99.23)\t Val_acc (33.00):  76%|███████▌  | 76/100 [01:28<00:27,  1.15s/it]\u001b[A\n"
     ]
    },
    {
     "name": "stderr",
     "output_type": "stream",
     "text": [
      "Train_loss (0.04)\t Train_acc (99.14)\t Val_acc (35.00):  76%|███████▌  | 76/100 [01:29<00:27,  1.15s/it]\u001b[A\n",
      "Train_loss (0.04)\t Train_acc (99.14)\t Val_acc (35.00):  77%|███████▋  | 77/100 [01:29<00:26,  1.14s/it]\u001b[A\n",
      "Train_loss (0.06)\t Train_acc (98.14)\t Val_acc (33.50):  77%|███████▋  | 77/100 [01:30<00:26,  1.14s/it]\u001b[A\n",
      "Train_loss (0.06)\t Train_acc (98.14)\t Val_acc (33.50):  78%|███████▊  | 78/100 [01:30<00:24,  1.13s/it]\u001b[A\n",
      "Train_loss (0.12)\t Train_acc (95.41)\t Val_acc (37.50):  78%|███████▊  | 78/100 [01:31<00:24,  1.13s/it]\u001b[A\n",
      "Train_loss (0.12)\t Train_acc (95.41)\t Val_acc (37.50):  79%|███████▉  | 79/100 [01:31<00:23,  1.13s/it]\u001b[A\n",
      "Train_loss (0.24)\t Train_acc (91.09)\t Val_acc (36.50):  79%|███████▉  | 79/100 [01:32<00:23,  1.13s/it]\u001b[A\n",
      "Train_loss (0.24)\t Train_acc (91.09)\t Val_acc (36.50):  80%|████████  | 80/100 [01:32<00:22,  1.13s/it]\u001b[A\n",
      "Train_loss (0.33)\t Train_acc (93.32)\t Val_acc (38.00):  80%|████████  | 80/100 [01:34<00:22,  1.13s/it]\u001b[A\n",
      "Train_loss (0.33)\t Train_acc (93.32)\t Val_acc (38.00):  81%|████████  | 81/100 [01:34<00:22,  1.17s/it]\u001b[A\n",
      "Train_loss (0.30)\t Train_acc (90.91)\t Val_acc (35.50):  81%|████████  | 81/100 [01:35<00:22,  1.17s/it]\u001b[A\n",
      "Train_loss (0.30)\t Train_acc (90.91)\t Val_acc (35.50):  82%|████████▏ | 82/100 [01:35<00:21,  1.17s/it]\u001b[A\n",
      "Train_loss (0.23)\t Train_acc (95.05)\t Val_acc (37.50):  82%|████████▏ | 82/100 [01:36<00:21,  1.17s/it]\u001b[A\n",
      "Train_loss (0.23)\t Train_acc (95.05)\t Val_acc (37.50):  83%|████████▎ | 83/100 [01:36<00:20,  1.18s/it]\u001b[A\n",
      "Train_loss (0.15)\t Train_acc (97.09)\t Val_acc (36.50):  83%|████████▎ | 83/100 [01:37<00:20,  1.18s/it]\u001b[A\n",
      "Train_loss (0.15)\t Train_acc (97.09)\t Val_acc (36.50):  84%|████████▍ | 84/100 [01:37<00:18,  1.18s/it]\u001b[A\n",
      "Train_loss (0.11)\t Train_acc (98.73)\t Val_acc (36.00):  84%|████████▍ | 84/100 [01:38<00:18,  1.18s/it]\u001b[A\n",
      "Train_loss (0.11)\t Train_acc (98.73)\t Val_acc (36.00):  85%|████████▌ | 85/100 [01:38<00:17,  1.17s/it]\u001b[A\n",
      "Train_loss (0.07)\t Train_acc (99.05)\t Val_acc (38.50):  85%|████████▌ | 85/100 [01:39<00:17,  1.17s/it]\u001b[A\n",
      "Train_loss (0.07)\t Train_acc (99.05)\t Val_acc (38.50):  86%|████████▌ | 86/100 [01:39<00:16,  1.16s/it]\u001b[A\n",
      "Train_loss (0.06)\t Train_acc (99.36)\t Val_acc (38.50):  86%|████████▌ | 86/100 [01:41<00:16,  1.16s/it]\u001b[A\n",
      "Train_loss (0.06)\t Train_acc (99.36)\t Val_acc (38.50):  87%|████████▋ | 87/100 [01:41<00:14,  1.15s/it]\u001b[A\n",
      "Train_loss (0.04)\t Train_acc (99.36)\t Val_acc (39.00):  87%|████████▋ | 87/100 [01:42<00:14,  1.15s/it]\u001b[A\n",
      "Train_loss (0.04)\t Train_acc (99.36)\t Val_acc (39.00):  88%|████████▊ | 88/100 [01:42<00:13,  1.15s/it]\u001b[A\n",
      "Train_loss (0.06)\t Train_acc (91.95)\t Val_acc (36.50):  88%|████████▊ | 88/100 [01:43<00:13,  1.15s/it]\u001b[A\n",
      "Train_loss (0.06)\t Train_acc (91.95)\t Val_acc (36.50):  89%|████████▉ | 89/100 [01:43<00:12,  1.16s/it]\u001b[A\n",
      "Train_loss (0.34)\t Train_acc (89.77)\t Val_acc (36.50):  89%|████████▉ | 89/100 [01:44<00:12,  1.16s/it]\u001b[A\n",
      "Train_loss (0.34)\t Train_acc (89.77)\t Val_acc (36.50):  90%|█████████ | 90/100 [01:44<00:11,  1.16s/it]\u001b[A\n",
      "Train_loss (0.30)\t Train_acc (93.91)\t Val_acc (38.50):  90%|█████████ | 90/100 [01:45<00:11,  1.16s/it]\u001b[A\n",
      "Train_loss (0.30)\t Train_acc (93.91)\t Val_acc (38.50):  91%|█████████ | 91/100 [01:45<00:10,  1.17s/it]\u001b[A\n",
      "Train_loss (0.21)\t Train_acc (94.91)\t Val_acc (36.50):  91%|█████████ | 91/100 [01:46<00:10,  1.17s/it]\u001b[A\n",
      "Train_loss (0.21)\t Train_acc (94.91)\t Val_acc (36.50):  92%|█████████▏| 92/100 [01:46<00:09,  1.18s/it]\u001b[A\n",
      "Train_loss (0.16)\t Train_acc (95.64)\t Val_acc (34.50):  92%|█████████▏| 92/100 [01:48<00:09,  1.18s/it]\u001b[A\n",
      "Train_loss (0.16)\t Train_acc (95.64)\t Val_acc (34.50):  93%|█████████▎| 93/100 [01:48<00:08,  1.17s/it]\u001b[A\n",
      "Train_loss (0.24)\t Train_acc (92.27)\t Val_acc (40.00):  93%|█████████▎| 93/100 [01:49<00:08,  1.17s/it]\u001b[A\n",
      "Train_loss (0.24)\t Train_acc (92.27)\t Val_acc (40.00):  94%|█████████▍| 94/100 [01:49<00:07,  1.19s/it]\u001b[A"
     ]
    }
   ],
   "source": [
    "epoch_losses, epoch_accuracies, best_model = training_loop(model, optimizer, error, train_loader, val_loader, EPOCHS,\n",
    "                                                           seq_end=SEQ_END, step_size=STEP_SIZE)"
   ]
  },
  {
   "cell_type": "code",
   "execution_count": 30,
   "metadata": {},
   "outputs": [
    {
     "data": {
      "image/png": "[encoded data removed]",
      "text/plain": [
       "<Figure size 432x288 with 1 Axes>"
      ]
     },
     "metadata": {
      "needs_background": "light"
     },
     "output_type": "display_data"
    },
    {
     "data": {
      "image/png": "[encoded data removed]",
      "text/plain": [
       "<Figure size 432x288 with 1 Axes>"
      ]
     },
     "metadata": {
      "needs_background": "light"
     },
     "output_type": "display_data"
    }
   ],
   "source": [
    "plt.plot(epoch_losses)\n",
    "plt.show()\n",
    "plt.plot(np.array(epoch_accuracies).T)\n",
    "plt.show()"
   ]
  },
  {
   "cell_type": "code",
   "execution_count": 20,
   "metadata": {},
   "outputs": [
    {
     "data": {
      "text/plain": [
       "42.5"
      ]
     },
     "execution_count": 20,
     "metadata": {},
     "output_type": "execute_result"
    }
   ],
   "source": [
    "max(epoch_accuracies[1])"
   ]
  },
  {
   "cell_type": "markdown",
   "metadata": {},
   "source": [
    "## Save model and scaler"
   ]
  },
  {
   "cell_type": "code",
   "execution_count": null,
   "metadata": {},
   "outputs": [],
   "source": [
    "torch.save(best_model.state_dict(), \"models/yoked_mass_model.pt\")\n",
    "joblib.dump(scaler, \"scalers/yoked_mass_scaler.sk\")"
   ]
  },
  {
   "cell_type": "markdown",
   "metadata": {},
   "source": [
    "## Load model and evaluate"
   ]
  },
  {
   "cell_type": "markdown",
   "metadata": {
    "scrolled": false
   },
   "source": [
    "model_path = \"models/yoked_mass_model.pt\"\n",
    "scaler_path = \"scalers/yoked_mass_scaler.sk\"\n",
    "network_dims = (INPUT_DIM, HIDDEN_DIM, N_LAYERS, OUTPUT_DIM)\n",
    "test_dataset_path = \"data/test_passive_trials.h5\"\n",
    "class_columns = MASS_CLASS_COLS\n",
    "\n",
    "evaluate_saved_model(model_path, network_dims, test_dataset_path, YOKED_TRAINING_COLS,\n",
    "                     class_columns, step_size=STEP_SIZE, scaler_path=scaler_path)"
   ]
  },
  {
   "cell_type": "markdown",
   "metadata": {},
   "source": [
    "# FORCE TRAINING  (Humans achieve 61% +- 22%)"
   ]
  },
  {
   "cell_type": "markdown",
   "metadata": {},
   "source": [
    "## Read dataset and preprocess it"
   ]
  },
  {
   "cell_type": "code",
   "execution_count": null,
   "metadata": {
    "scrolled": true
   },
   "outputs": [],
   "source": [
    "loaders, scaler = prepare_dataset([train_trials, val_trials], class_columns=FORCE_CLASS_COLS, \n",
    "                                  training_columns=YOKED_TRAINING_COLS,\n",
    "                                  batch_size=BATCH_SIZE, normalise_data=NORMALISE_DATA)"
   ]
  },
  {
   "cell_type": "code",
   "execution_count": null,
   "metadata": {},
   "outputs": [],
   "source": [
    "train_loader, val_loader = loaders"
   ]
  },
  {
   "cell_type": "code",
   "execution_count": null,
   "metadata": {},
   "outputs": [],
   "source": [
    "class_proportions(train_loader)\n",
    "print()\n",
    "class_proportions(val_loader)"
   ]
  },
  {
   "cell_type": "markdown",
   "metadata": {},
   "source": [
    "## Define model, loss and optimizer"
   ]
  },
  {
   "cell_type": "code",
   "execution_count": null,
   "metadata": {},
   "outputs": [],
   "source": [
    "model, error, optimizer = initialise_model(network_dims, DROPOUT, lr=0.01)"
   ]
  },
  {
   "cell_type": "markdown",
   "metadata": {},
   "source": [
    "## Train model and plot loss and accuracy"
   ]
  },
  {
   "cell_type": "code",
   "execution_count": null,
   "metadata": {
    "scrolled": true
   },
   "outputs": [],
   "source": [
    "model.train()\n",
    "epoch_losses, epoch_accuracies, _ = training_loop(model, optimizer, error, train_loader, \n",
    "                                                  val_loader, EPOCHS, seq_end=SEQ_END, step_size=STEP_SIZE)"
   ]
  },
  {
   "cell_type": "code",
   "execution_count": null,
   "metadata": {},
   "outputs": [],
   "source": [
    "plt.plot(epoch_losses)\n",
    "plt.show()\n",
    "plt.plot(np.array(epoch_accuracies).T)\n",
    "plt.show()"
   ]
  },
  {
   "cell_type": "code",
   "execution_count": null,
   "metadata": {},
   "outputs": [],
   "source": [
    "max(epoch_accuracies[1])"
   ]
  },
  {
   "cell_type": "markdown",
   "metadata": {},
   "source": [
    "## Save model and scaler"
   ]
  },
  {
   "cell_type": "markdown",
   "metadata": {},
   "source": [
    "torch.save(best_model.state_dict(), \"models/passive_force_model.pt\")\n",
    "joblib.dump(scaler, \"scalers/passive_force_scaler.sk\")"
   ]
  },
  {
   "cell_type": "markdown",
   "metadata": {},
   "source": [
    "## Evaluate saved model"
   ]
  },
  {
   "cell_type": "markdown",
   "metadata": {},
   "source": [
    "model_path = \"models/passive_force_model.pt\"\n",
    "scaler_path = \"scalers/passive_force_scaler.sk\"\n",
    "network_dims = (INPUT_DIM, HIDDEN_DIM, N_LAYERS, OUTPUT_DIM)\n",
    "test_dataset_path = \"data/test_passive_trials.h5\"\n",
    "class_columns = FORCE_CLASS_COLS\n",
    "\n",
    "evaluate_saved_model(model_path, network_dims, test_dataset_path, BASIC_TRAINING_COLS,\n",
    "                     class_columns, step_size=STEP_SIZE, scaler_path=scaler_path)"
   ]
  }
 ],
 "metadata": {
  "kernelspec": {
   "display_name": "Python 3",
   "language": "python",
   "name": "python3"
  },
  "language_info": {
   "codemirror_mode": {
    "name": "ipython",
    "version": 3
   },
   "file_extension": ".py",
   "mimetype": "text/x-python",
   "name": "python",
   "nbconvert_exporter": "python",
   "pygments_lexer": "ipython3",
   "version": "3.5.6"
  }
 },
 "nbformat": 4,
 "nbformat_minor": 2
}
