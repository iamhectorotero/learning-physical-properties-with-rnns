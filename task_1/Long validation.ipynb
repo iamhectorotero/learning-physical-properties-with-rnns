{
 "cells": [
  {
   "cell_type": "code",
   "execution_count": 1,
   "metadata": {},
   "outputs": [],
   "source": [
    "from simulator.config import generate_cond\n",
    "from sklearn.model_selection import train_test_split\n",
    "from simulator.config import generate_every_world_configuration\n",
    "from generate_passive_simulations import get_configuration_answer\n",
    "from toddler.models import ValueNetwork\n",
    "import torch\n",
    "import numpy as np\n",
    "from toddler.validate import validate\n",
    "from tqdm import tqdm\n",
    "import matplotlib.pyplot as plt\n",
    "import pandas as pd\n",
    "import glob"
   ]
  },
  {
   "cell_type": "code",
   "execution_count": 2,
   "metadata": {},
   "outputs": [],
   "source": [
    "net_params = {\"input_dim\":10, \"hidden_dim\":40, \"n_layers\":4, \"output_dim\":6, \"dropout\":0.0}\n",
    "value_network = ValueNetwork(**net_params).cuda()"
   ]
  },
  {
   "cell_type": "code",
   "execution_count": 3,
   "metadata": {},
   "outputs": [],
   "source": [
    "every_conf = generate_every_world_configuration()\n",
    "every_world_answer = np.array(list(map(get_configuration_answer, every_conf)))\n",
    "n_configurations = len(every_conf)\n",
    "\n",
    "train_size = 0.7\n",
    "val_size = 0.15\n",
    "test_size = 0.15\n",
    "\n",
    "all_indices = np.arange(n_configurations)                                                     \n",
    "train_indices, not_train_indices = train_test_split(all_indices, train_size=train_size,        \n",
    "                                                    random_state=0, stratify=every_world_answer)\n",
    "val_indices, test_indices = train_test_split(not_train_indices, train_size=0.5,\n",
    "                                             random_state=0,                                  \n",
    "                                             stratify=every_world_answer[not_train_indices])"
   ]
  },
  {
   "cell_type": "code",
   "execution_count": 13,
   "metadata": {},
   "outputs": [],
   "source": [
    "TEST_EPISODES = 100\n",
    "repeated_test_indices = np.random.choice(test_indices, TEST_EPISODES, replace=True)\n",
    "test_cond = generate_cond(every_conf[repeated_test_indices])"
   ]
  },
  {
   "cell_type": "code",
   "execution_count": 14,
   "metadata": {},
   "outputs": [],
   "source": [
    "model_list = glob.glob(\"*_model\")\n",
    "model_episodes = [int(model.split(\"_\")[0]) for model in model_list]\n",
    "\n",
    "sorted_model_list = sorted(zip(model_episodes, model_list))\n",
    "model_episodes = sorted(model_episodes)"
   ]
  },
  {
   "cell_type": "code",
   "execution_count": 15,
   "metadata": {},
   "outputs": [
    {
     "name": "stderr",
     "output_type": "stream",
     "text": [
      "  0%|          | 0/34 [00:00<?, ?it/s]/home/hector/Dissertation/diss/toddler/RecurrentWorker.py:82: RuntimeWarning: invalid value encountered in true_divide\n",
      "  policy = np.array(policy) / sum(policy)\n",
      "/home/hector/Dissertation/diss/toddler/RecurrentWorker.py:84: RuntimeWarning: invalid value encountered in less\n",
      "  return np.random.choice(possibleActions, p=policy)\n",
      "100%|██████████| 34/34 [23:02<00:00, 34.72s/it]\n"
     ]
    }
   ],
   "source": [
    "avg_length = []\n",
    "accuracies = []\n",
    "\n",
    "for _, model_path in tqdm(sorted_model_list):\n",
    "    value_network.load_state_dict(torch.load(model_path))\n",
    "    value_network.eval()\n",
    "    valArgs = (value_network, {}, {}, test_cond, 1, 1, None, False)\n",
    "    accuracy, trials = validate(*valArgs)\n",
    "    \n",
    "    lengths = [len(trial) for trial in trials]\n",
    "    \n",
    "    avg_length.append(np.mean(lengths))\n",
    "    accuracies.append(accuracy)"
   ]
  },
  {
   "cell_type": "code",
   "execution_count": 16,
   "metadata": {
    "scrolled": true
   },
   "outputs": [
    {
     "data": {
      "text/html": [
       "<div>\n",
       "<style scoped>\n",
       "    .dataframe tbody tr th:only-of-type {\n",
       "        vertical-align: middle;\n",
       "    }\n",
       "\n",
       "    .dataframe tbody tr th {\n",
       "        vertical-align: top;\n",
       "    }\n",
       "\n",
       "    .dataframe thead th {\n",
       "        text-align: right;\n",
       "    }\n",
       "</style>\n",
       "<table border=\"1\" class=\"dataframe\">\n",
       "  <thead>\n",
       "    <tr style=\"text-align: right;\">\n",
       "      <th></th>\n",
       "      <th>accuracy</th>\n",
       "      <th>avg_length</th>\n",
       "    </tr>\n",
       "    <tr>\n",
       "      <th>episode</th>\n",
       "      <th></th>\n",
       "      <th></th>\n",
       "    </tr>\n",
       "  </thead>\n",
       "  <tbody>\n",
       "    <tr>\n",
       "      <th>0</th>\n",
       "      <td>0.00</td>\n",
       "      <td>1801.00</td>\n",
       "    </tr>\n",
       "    <tr>\n",
       "      <th>1000</th>\n",
       "      <td>0.36</td>\n",
       "      <td>1211.84</td>\n",
       "    </tr>\n",
       "    <tr>\n",
       "      <th>2000</th>\n",
       "      <td>0.37</td>\n",
       "      <td>1223.33</td>\n",
       "    </tr>\n",
       "    <tr>\n",
       "      <th>3000</th>\n",
       "      <td>0.09</td>\n",
       "      <td>1735.17</td>\n",
       "    </tr>\n",
       "    <tr>\n",
       "      <th>4000</th>\n",
       "      <td>0.38</td>\n",
       "      <td>1306.74</td>\n",
       "    </tr>\n",
       "    <tr>\n",
       "      <th>5000</th>\n",
       "      <td>0.65</td>\n",
       "      <td>838.71</td>\n",
       "    </tr>\n",
       "    <tr>\n",
       "      <th>6000</th>\n",
       "      <td>0.70</td>\n",
       "      <td>797.32</td>\n",
       "    </tr>\n",
       "    <tr>\n",
       "      <th>7000</th>\n",
       "      <td>0.58</td>\n",
       "      <td>998.20</td>\n",
       "    </tr>\n",
       "    <tr>\n",
       "      <th>8000</th>\n",
       "      <td>0.22</td>\n",
       "      <td>1450.80</td>\n",
       "    </tr>\n",
       "    <tr>\n",
       "      <th>9000</th>\n",
       "      <td>0.21</td>\n",
       "      <td>1526.23</td>\n",
       "    </tr>\n",
       "    <tr>\n",
       "      <th>10000</th>\n",
       "      <td>0.37</td>\n",
       "      <td>1202.37</td>\n",
       "    </tr>\n",
       "    <tr>\n",
       "      <th>11000</th>\n",
       "      <td>0.85</td>\n",
       "      <td>620.77</td>\n",
       "    </tr>\n",
       "    <tr>\n",
       "      <th>12000</th>\n",
       "      <td>0.47</td>\n",
       "      <td>1150.95</td>\n",
       "    </tr>\n",
       "    <tr>\n",
       "      <th>13000</th>\n",
       "      <td>0.63</td>\n",
       "      <td>901.33</td>\n",
       "    </tr>\n",
       "    <tr>\n",
       "      <th>14000</th>\n",
       "      <td>0.52</td>\n",
       "      <td>1124.38</td>\n",
       "    </tr>\n",
       "    <tr>\n",
       "      <th>15000</th>\n",
       "      <td>0.46</td>\n",
       "      <td>1107.22</td>\n",
       "    </tr>\n",
       "    <tr>\n",
       "      <th>16000</th>\n",
       "      <td>0.31</td>\n",
       "      <td>1402.51</td>\n",
       "    </tr>\n",
       "    <tr>\n",
       "      <th>17000</th>\n",
       "      <td>0.21</td>\n",
       "      <td>1463.65</td>\n",
       "    </tr>\n",
       "    <tr>\n",
       "      <th>18000</th>\n",
       "      <td>0.88</td>\n",
       "      <td>663.10</td>\n",
       "    </tr>\n",
       "    <tr>\n",
       "      <th>19000</th>\n",
       "      <td>0.14</td>\n",
       "      <td>1662.14</td>\n",
       "    </tr>\n",
       "    <tr>\n",
       "      <th>20000</th>\n",
       "      <td>0.58</td>\n",
       "      <td>940.28</td>\n",
       "    </tr>\n",
       "    <tr>\n",
       "      <th>21000</th>\n",
       "      <td>0.74</td>\n",
       "      <td>966.22</td>\n",
       "    </tr>\n",
       "    <tr>\n",
       "      <th>22000</th>\n",
       "      <td>0.38</td>\n",
       "      <td>1225.20</td>\n",
       "    </tr>\n",
       "    <tr>\n",
       "      <th>23000</th>\n",
       "      <td>0.75</td>\n",
       "      <td>639.35</td>\n",
       "    </tr>\n",
       "    <tr>\n",
       "      <th>24000</th>\n",
       "      <td>0.48</td>\n",
       "      <td>1032.32</td>\n",
       "    </tr>\n",
       "    <tr>\n",
       "      <th>25000</th>\n",
       "      <td>0.91</td>\n",
       "      <td>462.27</td>\n",
       "    </tr>\n",
       "    <tr>\n",
       "      <th>26000</th>\n",
       "      <td>0.80</td>\n",
       "      <td>583.46</td>\n",
       "    </tr>\n",
       "    <tr>\n",
       "      <th>27000</th>\n",
       "      <td>0.86</td>\n",
       "      <td>445.30</td>\n",
       "    </tr>\n",
       "    <tr>\n",
       "      <th>28000</th>\n",
       "      <td>0.71</td>\n",
       "      <td>642.43</td>\n",
       "    </tr>\n",
       "    <tr>\n",
       "      <th>29000</th>\n",
       "      <td>0.93</td>\n",
       "      <td>310.81</td>\n",
       "    </tr>\n",
       "    <tr>\n",
       "      <th>30000</th>\n",
       "      <td>0.62</td>\n",
       "      <td>884.60</td>\n",
       "    </tr>\n",
       "    <tr>\n",
       "      <th>31000</th>\n",
       "      <td>0.38</td>\n",
       "      <td>1294.90</td>\n",
       "    </tr>\n",
       "    <tr>\n",
       "      <th>32000</th>\n",
       "      <td>0.50</td>\n",
       "      <td>1125.26</td>\n",
       "    </tr>\n",
       "    <tr>\n",
       "      <th>33000</th>\n",
       "      <td>0.71</td>\n",
       "      <td>690.15</td>\n",
       "    </tr>\n",
       "  </tbody>\n",
       "</table>\n",
       "</div>"
      ],
      "text/plain": [
       "         accuracy  avg_length\n",
       "episode                      \n",
       "0            0.00     1801.00\n",
       "1000         0.36     1211.84\n",
       "2000         0.37     1223.33\n",
       "3000         0.09     1735.17\n",
       "4000         0.38     1306.74\n",
       "5000         0.65      838.71\n",
       "6000         0.70      797.32\n",
       "7000         0.58      998.20\n",
       "8000         0.22     1450.80\n",
       "9000         0.21     1526.23\n",
       "10000        0.37     1202.37\n",
       "11000        0.85      620.77\n",
       "12000        0.47     1150.95\n",
       "13000        0.63      901.33\n",
       "14000        0.52     1124.38\n",
       "15000        0.46     1107.22\n",
       "16000        0.31     1402.51\n",
       "17000        0.21     1463.65\n",
       "18000        0.88      663.10\n",
       "19000        0.14     1662.14\n",
       "20000        0.58      940.28\n",
       "21000        0.74      966.22\n",
       "22000        0.38     1225.20\n",
       "23000        0.75      639.35\n",
       "24000        0.48     1032.32\n",
       "25000        0.91      462.27\n",
       "26000        0.80      583.46\n",
       "27000        0.86      445.30\n",
       "28000        0.71      642.43\n",
       "29000        0.93      310.81\n",
       "30000        0.62      884.60\n",
       "31000        0.38     1294.90\n",
       "32000        0.50     1125.26\n",
       "33000        0.71      690.15"
      ]
     },
     "execution_count": 16,
     "metadata": {},
     "output_type": "execute_result"
    }
   ],
   "source": [
    "d = {\"episode\": model_episodes, \"accuracy\": accuracies, \"avg_length\": avg_length}\n",
    "df = pd.DataFrame.from_dict(d)\n",
    "df.set_index(\"episode\")"
   ]
  },
  {
   "cell_type": "code",
   "execution_count": 22,
   "metadata": {},
   "outputs": [],
   "source": [
    "df.to_hdf(\"model_validation.h5\", key=\"validation\")"
   ]
  },
  {
   "cell_type": "code",
   "execution_count": 20,
   "metadata": {},
   "outputs": [
    {
     "data": {
      "text/plain": [
       "<matplotlib.axes._subplots.AxesSubplot at 0x7f26e1da9748>"
      ]
     },
     "execution_count": 20,
     "metadata": {},
     "output_type": "execute_result"
    },
    {
     "data": {
      "image/png": "[encoded data removed]",
      "text/plain": [
       "<Figure size 432x288 with 1 Axes>"
      ]
     },
     "metadata": {
      "needs_background": "light"
     },
     "output_type": "display_data"
    }
   ],
   "source": [
    "df.accuracy.plot()"
   ]
  },
  {
   "cell_type": "code",
   "execution_count": 18,
   "metadata": {},
   "outputs": [
    {
     "data": {
      "text/plain": [
       "<matplotlib.axes._subplots.AxesSubplot at 0x7f26e1d8c940>"
      ]
     },
     "execution_count": 18,
     "metadata": {},
     "output_type": "execute_result"
    },
    {
     "data": {
      "image/png": "[encoded data removed]",
      "text/plain": [
       "<Figure size 432x288 with 1 Axes>"
      ]
     },
     "metadata": {
      "needs_background": "light"
     },
     "output_type": "display_data"
    }
   ],
   "source": [
    "df.avg_length.plot()"
   ]
  },
  {
   "cell_type": "markdown",
   "metadata": {},
   "source": [
    "# Generating replays with the best model"
   ]
  },
  {
   "cell_type": "code",
   "execution_count": 27,
   "metadata": {},
   "outputs": [],
   "source": [
    "best_model = int(df.sort_values(by=\"accuracy\").iloc[-1].episode)"
   ]
  },
  {
   "cell_type": "code",
   "execution_count": 30,
   "metadata": {},
   "outputs": [],
   "source": [
    "best_model = str(best_model) + \"_model\""
   ]
  },
  {
   "cell_type": "code",
   "execution_count": 31,
   "metadata": {},
   "outputs": [
    {
     "name": "stdout",
     "output_type": "stream",
     "text": [
      "----------------------------VALIDATION START-----------------------------------------\n",
      "1 Control? True done @ 189\n"
     ]
    },
    {
     "name": "stderr",
     "output_type": "stream",
     "text": [
      "/home/hector/Dissertation/diss/toddler/RecurrentWorker.py:82: RuntimeWarning: invalid value encountered in true_divide\n",
      "  policy = np.array(policy) / sum(policy)\n",
      "/home/hector/Dissertation/diss/toddler/RecurrentWorker.py:84: RuntimeWarning: invalid value encountered in less\n",
      "  return np.random.choice(possibleActions, p=policy)\n"
     ]
    },
    {
     "name": "stdout",
     "output_type": "stream",
     "text": [
      "2 Control? True done @ 209\n",
      "3 Control? True done @ 263\n",
      "4 Control? True done @ 183\n",
      "5 Control? False done @ 1800\n",
      "6 Control? True done @ 27\n",
      "7 Control? True done @ 265\n",
      "8 Control? True done @ 345\n",
      "9 Control? True done @ 205\n",
      "10 Control? True done @ 125\n",
      "11 Control? True done @ 97\n",
      "12 Control? True done @ 11\n",
      "13 Control? True done @ 35\n",
      "14 Control? True done @ 109\n",
      "15 Control? True done @ 207\n",
      "16 Control? True done @ 229\n",
      "17 Control? True done @ 427\n",
      "18 Control? True done @ 67\n",
      "19 Control? True done @ 207\n",
      "20 Control? True done @ 49\n",
      "21 Control? True done @ 139\n",
      "22 Control? False done @ 1800\n",
      "23 Control? False done @ 1800\n",
      "24 Control? True done @ 43\n",
      "25 Control? True done @ 277\n",
      "26 Control? True done @ 163\n",
      "27 Control? True done @ 225\n",
      "28 Control? True done @ 69\n",
      "29 Control? True done @ 91\n",
      "30 Control? True done @ 251\n",
      "31 Control? False done @ 1800\n",
      "32 Control? True done @ 45\n",
      "33 Control? True done @ 17\n",
      "34 Control? True done @ 13\n",
      "35 Control? True done @ 163\n",
      "36 Control? True done @ 145\n",
      "37 Control? False done @ 1800\n",
      "38 Control? True done @ 83\n",
      "39 Control? True done @ 609\n",
      "40 Control? True done @ 87\n",
      "41 Control? True done @ 141\n",
      "42 Control? True done @ 73\n",
      "43 Control? True done @ 203\n",
      "44 Control? False done @ 1800\n",
      "45 Control? True done @ 227\n",
      "46 Control? False done @ 1800\n",
      "47 Control? True done @ 447\n",
      "48 Control? True done @ 389\n",
      "49 Control? True done @ 57\n",
      "50 Control? True done @ 297\n",
      "51 Control? True done @ 37\n",
      "52 Control? True done @ 67\n",
      "53 Control? True done @ 35\n",
      "54 Control? True done @ 83\n",
      "55 Control? True done @ 127\n",
      "56 Control? True done @ 153\n",
      "57 Control? True done @ 155\n",
      "58 Control? True done @ 315\n",
      "59 Control? True done @ 385\n",
      "60 Control? True done @ 95\n",
      "61 Control? False done @ 1800\n",
      "62 Control? False done @ 1800\n",
      "63 Control? True done @ 39\n",
      "64 Control? True done @ 405\n",
      "65 Control? True done @ 33\n",
      "66 Control? False done @ 1800\n",
      "67 Control? True done @ 113\n",
      "68 Control? True done @ 323\n",
      "69 Control? True done @ 49\n",
      "70 Control? True done @ 205\n",
      "71 Control? True done @ 313\n",
      "72 Control? True done @ 21\n",
      "73 Control? True done @ 73\n",
      "74 Control? True done @ 451\n",
      "75 Control? True done @ 89\n",
      "76 Control? True done @ 405\n",
      "77 Control? True done @ 247\n",
      "78 Control? True done @ 17\n",
      "79 Control? False done @ 1800\n",
      "80 Control? True done @ 57\n",
      "81 Control? False done @ 1800\n",
      "82 Control? True done @ 25\n",
      "83 Control? True done @ 61\n",
      "84 Control? True done @ 297\n",
      "85 Control? True done @ 105\n",
      "86 Control? True done @ 139\n",
      "87 Control? True done @ 35\n",
      "88 Control? True done @ 201\n",
      "89 Control? True done @ 495\n",
      "90 Control? False done @ 1800\n",
      "91 Control? True done @ 115\n",
      "92 Control? True done @ 111\n",
      "93 Control? True done @ 371\n",
      "94 Control? True done @ 147\n",
      "95 Control? True done @ 49\n",
      "96 Control? True done @ 289\n",
      "97 Control? True done @ 461\n",
      "98 Control? False done @ 1800\n",
      "99 Control? True done @ 61\n",
      "100 Control? True done @ 255\n",
      "Success in 86.0 %\n",
      "----------------------------VALIDATION END-----------------------------------------\n"
     ]
    }
   ],
   "source": [
    "value_network.load_state_dict(torch.load(best_model))\n",
    "value_network.eval()\n",
    "valArgs = (value_network, {}, {}, test_cond, 1, 1, \"best_replays.h5\", True)\n",
    "accuracy, trials = validate(*valArgs)"
   ]
  }
 ],
 "metadata": {
  "kernelspec": {
   "display_name": "Python 3",
   "language": "python",
   "name": "python3"
  },
  "language_info": {
   "codemirror_mode": {
    "name": "ipython",
    "version": 3
   },
   "file_extension": ".py",
   "mimetype": "text/x-python",
   "name": "python",
   "nbconvert_exporter": "python",
   "pygments_lexer": "ipython3",
   "version": "3.5.6"
  }
 },
 "nbformat": 4,
 "nbformat_minor": 2
}
