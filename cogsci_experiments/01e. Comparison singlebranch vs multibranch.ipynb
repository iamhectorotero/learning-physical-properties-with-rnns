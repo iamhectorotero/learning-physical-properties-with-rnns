{
 "cells": [
  {
   "cell_type": "code",
   "execution_count": 1,
   "metadata": {},
   "outputs": [],
   "source": [
    "import pandas as pd\n",
    "import numpy as np\n",
    "from isaac.statistical_tests import is_best_model_significantly_better"
   ]
  },
  {
   "cell_type": "code",
   "execution_count": 2,
   "metadata": {},
   "outputs": [
    {
     "name": "stdout",
     "output_type": "stream",
     "text": [
      "Mass: 61.56666666666666 0.6236095644623235\n",
      "Force: 64.26666666666667 5.525898619731956\n"
     ]
    }
   ],
   "source": [
    "directory = \"GRU_singlebranch/\"\n",
    "question_type = \"mass\"\n",
    "stats = pd.read_hdf(directory+question_type+\"_stats.h5\")\n",
    "\n",
    "sb_mass_accuracies = []\n",
    "for _, seed_df in stats.groupby(\"seed\"):\n",
    "    sb_mass_accuracies.append(seed_df[\"Val Accuracy\"].max())\n",
    "\n",
    "print(\"Mass:\", np.mean(sb_mass_accuracies), np.std(sb_mass_accuracies))\n",
    "\n",
    "question_type = \"force\"\n",
    "stats = pd.read_hdf(directory+question_type+\"_stats.h5\")\n",
    "\n",
    "sb_force_accuracies = []\n",
    "for _, seed_df in stats.groupby(\"seed\"):\n",
    "    sb_force_accuracies.append(seed_df[\"Val Accuracy\"].max())\n",
    "\n",
    "print(\"Force:\", np.mean(sb_force_accuracies), np.std(sb_force_accuracies))"
   ]
  },
  {
   "cell_type": "code",
   "execution_count": 3,
   "metadata": {},
   "outputs": [
    {
     "name": "stdout",
     "output_type": "stream",
     "text": [
      "Mass 63.1 1.7907168024751023\n",
      "Force 61.166666666666664 2.2425184255405535\n"
     ]
    }
   ],
   "source": [
    "directory = \"seq_length_and_res_plots/\"\n",
    "stats = pd.read_hdf(directory+\"stats.h5\")\n",
    "\n",
    "stats = stats.query(\"step_size == 1 and seq_start == 0.\")\n",
    "\n",
    "mb_mass_accuracies = []\n",
    "mb_force_accuracies = []\n",
    "\n",
    "for _, seed_df in stats.groupby(\"seed\"):\n",
    "    mb_mass_accuracies.append(seed_df[\"Mass Val Accuracy\"].max())\n",
    "    mb_force_accuracies.append(seed_df[\"Force Val Accuracy\"].max())\n",
    "\n",
    "print(\"Mass\", np.mean(mb_mass_accuracies), np.std(mb_mass_accuracies))\n",
    "print(\"Force\", np.mean(mb_force_accuracies), np.std(mb_force_accuracies))"
   ]
  },
  {
   "cell_type": "code",
   "execution_count": 5,
   "metadata": {},
   "outputs": [
    {
     "name": "stdout",
     "output_type": "stream",
     "text": [
      "mb_mass not significantly better than sb_mass 0.3165854841017931\n",
      "sb_force not significantly better than mb_force 0.5030305375278988\n"
     ]
    }
   ],
   "source": [
    "is_best_model_significantly_better([(\"sb_mass\", sb_mass_accuracies), (\"mb_mass\", mb_mass_accuracies)])\n",
    "is_best_model_significantly_better([(\"sb_force\", sb_force_accuracies), (\"mb_force\", mb_force_accuracies)])"
   ]
  }
 ],
 "metadata": {
  "kernelspec": {
   "display_name": "Python 3",
   "language": "python",
   "name": "python3"
  },
  "language_info": {
   "codemirror_mode": {
    "name": "ipython",
    "version": 3
   },
   "file_extension": ".py",
   "mimetype": "text/x-python",
   "name": "python",
   "nbconvert_exporter": "python",
   "pygments_lexer": "ipython3",
   "version": "3.5.6"
  }
 },
 "nbformat": 4,
 "nbformat_minor": 2
}
