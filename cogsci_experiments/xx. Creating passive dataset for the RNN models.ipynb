{
 "cells": [
  {
   "cell_type": "code",
   "execution_count": 1,
   "metadata": {},
   "outputs": [],
   "source": [
    "from isaac.constants import BASIC_TRAINING_COLS, YOKED_TRAINING_COLS\n",
    "from rpy2.robjects import r, pandas2ri\n",
    "import os\n",
    "from tqdm import tqdm\n",
    "pandas2ri.activate()"
   ]
  },
  {
   "cell_type": "code",
   "execution_count": 2,
   "metadata": {},
   "outputs": [],
   "source": [
    "ALTERNATIVE_TRAINING_COLS = [\"object\"+str(obj)+\".\"+attr for obj in range(1, 5) for attr in [\"x\", \"y\", \"vx\", \"vy\"]]"
   ]
  },
  {
   "cell_type": "code",
   "execution_count": 3,
   "metadata": {},
   "outputs": [
    {
     "data": {
      "text/html": [
       "\n",
       "    <span>StrVector with 2 elements.</span>\n",
       "    <table>\n",
       "      <tbody>\n",
       "      <tr>\n",
       "      \n",
       "      <td>\n",
       "        'sw'\n",
       "      </td>\n",
       "      \n",
       "      <td>\n",
       "        'tw'\n",
       "      </td>\n",
       "      \n",
       "      </tr>\n",
       "      </tbody>\n",
       "    </table>\n",
       "    "
      ],
      "text/plain": [
       "R object with classes: ('character',) mapped to:\n",
       "<StrVector - Python:0x7fc5c4648a88 / R:0x55f4692ff858>\n",
       "['sw', 'tw']"
      ]
     },
     "execution_count": 3,
     "metadata": {},
     "output_type": "execute_result"
    }
   ],
   "source": [
    "rdata_path = \"data/exp1.rdata\"\n",
    "r['load'](rdata_path)"
   ]
  },
  {
   "cell_type": "code",
   "execution_count": 4,
   "metadata": {},
   "outputs": [
    {
     "name": "stderr",
     "output_type": "stream",
     "text": [
      "/home/hector/miniconda3/envs/diss/lib/python3.5/site-packages/rpy2/robjects/pandas2ri.py:191: FutureWarning: from_items is deprecated. Please use DataFrame.from_dict(dict(items), ...) instead. DataFrame.from_dict(OrderedDict(items)) may be used to preserve the key order.\n",
      "  res = PandasDataFrame.from_items(items)\n"
     ]
    }
   ],
   "source": [
    "all_trials = r['ls.clips']\n",
    "\n",
    "is_passive = (r['dfc.l'].condition == '0') & (r['dfc.l'].practice == 0.)  & (r['dfc.l'].exclude == 0)\n",
    "\n",
    "responses = r['dfc.l'][[\"trueMass\", \"trueRelationship\"]]\n",
    "passive_responses = responses[is_passive]"
   ]
  },
  {
   "cell_type": "code",
   "execution_count": 5,
   "metadata": {},
   "outputs": [],
   "source": [
    "PASSIVE_PATH = \"data/passive_trials_exp1.h5\"\n",
    "\n",
    "if os.path.exists(PASSIVE_PATH):\n",
    "    os.remove(PASSIVE_PATH)"
   ]
  },
  {
   "cell_type": "code",
   "execution_count": 6,
   "metadata": {},
   "outputs": [
    {
     "name": "stderr",
     "output_type": "stream",
     "text": [
      "/home/hector/miniconda3/envs/diss/lib/python3.5/site-packages/rpy2/robjects/pandas2ri.py:191: FutureWarning: from_items is deprecated. Please use DataFrame.from_dict(dict(items), ...) instead. DataFrame.from_dict(OrderedDict(items)) may be used to preserve the key order.\n",
      "  res = PandasDataFrame.from_items(items)\n"
     ]
    }
   ],
   "source": [
    "flat_trials = []\n",
    "trial_i = 0\n",
    "\n",
    "for participant in all_trials:\n",
    "    for trial in participant:\n",
    "        trial = pandas2ri.ri2py_dataframe(trial)\n",
    "        # print(trial[\"idControlledObject\"].nunique() > 1, is_active[trial_i])\n",
    "        flat_trials.append(trial)\n",
    "        trial_i += 1"
   ]
  },
  {
   "cell_type": "code",
   "execution_count": 7,
   "metadata": {},
   "outputs": [],
   "source": [
    "passive_trials = [trial for trial, is_trial_passive in zip(flat_trials, is_passive) if is_trial_passive]"
   ]
  },
  {
   "cell_type": "code",
   "execution_count": 8,
   "metadata": {},
   "outputs": [],
   "source": [
    "def add_velocity_from_positions(trial):\n",
    "    POSITION_COLS = [\"object\"+str(obj)+\".\"+attr for obj in range(1, 5) for attr in [\"x\", \"y\"]]\n",
    "    VELOCITY_COLS = [\"object\"+str(obj)+\".\"+attr for obj in range(1, 5) for attr in [\"vx\", \"vy\"]]\n",
    "    S_PER_FRAME = 1./60\n",
    "\n",
    "    positions = trial[POSITION_COLS]\n",
    "    shifted_positions = positions.shift(1).fillna(positions.iloc[0])\n",
    "    trial[VELOCITY_COLS] = (shifted_positions - positions) / S_PER_FRAME"
   ]
  },
  {
   "cell_type": "code",
   "execution_count": 9,
   "metadata": {},
   "outputs": [
    {
     "name": "stderr",
     "output_type": "stream",
     "text": [
      "100%|██████████| 216/216 [00:04<00:00, 43.88it/s]"
     ]
    },
    {
     "name": "stdout",
     "output_type": "stream",
     "text": [
      "4.909090909090909 participants for which velocities weren't recorded\n"
     ]
    },
    {
     "name": "stderr",
     "output_type": "stream",
     "text": [
      "\n"
     ]
    }
   ],
   "source": [
    "velocities_not_recorded = 0\n",
    "count = 0\n",
    "hdf_path = PASSIVE_PATH\n",
    "\n",
    "\n",
    "for trial_i, trial in tqdm(enumerate(passive_trials), total=len(passive_trials)):\n",
    "\n",
    "    response = passive_responses.iloc[trial_i]\n",
    "    \n",
    "    if not set(ALTERNATIVE_TRAINING_COLS).issubset(trial.columns):\n",
    "        velocities_not_recorded += 1\n",
    "        add_velocity_from_positions(trial)\n",
    "        \n",
    "    trial = trial.rename({alt_col: col for col, alt_col in \n",
    "                          zip(BASIC_TRAINING_COLS, ALTERNATIVE_TRAINING_COLS)}, axis=\"columns\")\n",
    "\n",
    "    trial[\"C_none\"] = (trial[\"idControlledObject\"] == \"none\")\n",
    "    trial[\"C_O1\"] = (trial[\"idControlledObject\"] == \"object1\")\n",
    "    trial[\"C_O2\"] = (trial[\"idControlledObject\"] == \"object2\")\n",
    "    trial[\"C_O3\"] = (trial[\"idControlledObject\"] == \"object3\")\n",
    "    trial[\"C_O4\"] = (trial[\"idControlledObject\"] == \"object4\")\n",
    "\n",
    "    trial = trial[list(YOKED_TRAINING_COLS) + [\"idControlledObject\"]].copy()\n",
    "\n",
    "    true_mass = response[\"trueMass\"]\n",
    "    trial[\"A\"] = (true_mass == \"A\")\n",
    "    trial[\"B\"] = (true_mass == \"B\")\n",
    "    trial[\"same\"] = (true_mass == \"same\")\n",
    "\n",
    "    true_relationship = response[\"trueRelationship\"]\n",
    "    trial[\"attract\"] = (true_relationship == \"attract\")\n",
    "    trial[\"none\"] = (true_relationship == \"none\")\n",
    "    trial[\"repel\"] = (true_relationship == \"repel\")\n",
    "        \n",
    "    trial.to_hdf(path_or_buf=hdf_path, key=\"trial_\"+str(trial_i))\n",
    "\n",
    "print(velocities_not_recorded / 11, \"participants for which velocities weren't recorded\")\n",
    "skipped=0"
   ]
  }
 ],
 "metadata": {
  "kernelspec": {
   "display_name": "Python 3",
   "language": "python",
   "name": "python3"
  },
  "language_info": {
   "codemirror_mode": {
    "name": "ipython",
    "version": 3
   },
   "file_extension": ".py",
   "mimetype": "text/x-python",
   "name": "python",
   "nbconvert_exporter": "python",
   "pygments_lexer": "ipython3",
   "version": "3.5.6"
  }
 },
 "nbformat": 4,
 "nbformat_minor": 2
}
