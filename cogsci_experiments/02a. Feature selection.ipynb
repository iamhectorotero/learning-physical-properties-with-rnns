{
 "cells": [
  {
   "cell_type": "code",
   "execution_count": 1,
   "metadata": {},
   "outputs": [],
   "source": [
    "import torch\n",
    "import torch.nn as nn\n",
    "import pandas as pd"
   ]
  },
  {
   "cell_type": "code",
   "execution_count": 2,
   "metadata": {},
   "outputs": [],
   "source": [
    "from isaac.dataset import read_dataset, prepare_dataset\n",
    "from isaac.constants import POSITION_COLS, MASS_CLASS_COLS, BASIC_TRAINING_COLS, FORCE_CLASS_COLS, PUCK_SQUARE_DISTANCES, PUCK_ANGLE_FEATURES\n",
    "from isaac.sanity import class_proportions\n",
    "from isaac.models import MultiBranchModel, initialise_model\n",
    "from isaac.training import training_loop\n",
    "import matplotlib.pyplot as plt\n",
    "import numpy as np"
   ]
  },
  {
   "cell_type": "code",
   "execution_count": 3,
   "metadata": {},
   "outputs": [],
   "source": [
    "data_directory = \"features_plots/\"\n",
    "model_directory = \"models/feature_selection/\""
   ]
  },
  {
   "cell_type": "code",
   "execution_count": 4,
   "metadata": {},
   "outputs": [
    {
     "name": "stdout",
     "output_type": "stream",
     "text": [
      "cuda:0\n"
     ]
    }
   ],
   "source": [
    "from isaac.utils import get_cuda_device_if_available, create_directory\n",
    "device = get_cuda_device_if_available()\n",
    "print(device)\n",
    "\n",
    "create_directory(data_directory)\n",
    "create_directory(model_directory)"
   ]
  },
  {
   "cell_type": "code",
   "execution_count": 5,
   "metadata": {},
   "outputs": [],
   "source": [
    "NORMALISE_DATA = True\n",
    "BATCH_SIZE = 128\n",
    "EPOCHS = 100\n",
    "STEP_SIZE = 1\n",
    "SEQ_END = 2700"
   ]
  },
  {
   "cell_type": "code",
   "execution_count": 6,
   "metadata": {},
   "outputs": [],
   "source": [
    "ALL_COLS = BASIC_TRAINING_COLS + PUCK_SQUARE_DISTANCES + PUCK_ANGLE_FEATURES"
   ]
  },
  {
   "cell_type": "code",
   "execution_count": 7,
   "metadata": {},
   "outputs": [
    {
     "name": "stderr",
     "output_type": "stream",
     "text": [
      "100%|██████████| 3500/3500 [00:32<00:00, 107.93it/s]\n",
      "100%|██████████| 700/700 [00:06<00:00, 108.54it/s]\n"
     ]
    }
   ],
   "source": [
    "train_trials = read_dataset(\"data/train_passive_trials.h5\", n_trials=3500, cols=ALL_COLS)\n",
    "val_trials = read_dataset(\"data/val_passive_trials.h5\", n_trials=700, cols=ALL_COLS)"
   ]
  },
  {
   "cell_type": "markdown",
   "metadata": {},
   "source": [
    "# TRAINING"
   ]
  },
  {
   "cell_type": "code",
   "execution_count": 8,
   "metadata": {},
   "outputs": [],
   "source": [
    "INPUT_DIM = None    # input dimension\n",
    "HIDDEN_DIM = 25  # hidden layer dimension\n",
    "N_LAYERS = 4     # number of hidden layers\n",
    "OUTPUT_DIM = 3   # output dimension\n",
    "DROPOUT = 0.5"
   ]
  },
  {
   "cell_type": "code",
   "execution_count": 9,
   "metadata": {},
   "outputs": [
    {
     "name": "stderr",
     "output_type": "stream",
     "text": [
      "100%|██████████| 3500/3500 [00:05<00:00, 671.44it/s]\n",
      "100%|██████████| 700/700 [00:01<00:00, 688.28it/s]\n",
      "Train_loss: ([0.91219798 0.7857687 ]) Train_acc: ([54.14285714 56.54285714]) Val_acc: ([42.42857143 52.57142857]): 100%|██████████| 100/100 [53:38<00:00, 32.19s/it]\n",
      "Train_loss: ([0.86209868 0.8139343 ]) Train_acc: ([55.68571429 55.65714286]) Val_acc: ([50.71428571 51.42857143]): 100%|██████████| 100/100 [53:38<00:00, 32.18s/it]\n",
      "Train_loss: ([0.88342988 0.76163069]) Train_acc: ([54.74285714 59.14285714]) Val_acc: ([40.42857143 51.42857143]): 100%|██████████| 100/100 [53:38<00:00, 32.20s/it]\n",
      "100%|██████████| 3500/3500 [00:05<00:00, 657.35it/s]\n",
      "100%|██████████| 700/700 [00:01<00:00, 693.00it/s]\n",
      "Train_loss: ([0.90389988 0.8199015 ]) Train_acc: ([53.28571429 55.77142857]) Val_acc: ([50.57142857 54.85714286]): 100%|██████████| 100/100 [53:08<00:00, 31.87s/it]\n",
      "Train_loss: ([0.71702896 0.80978502]) Train_acc: ([61.4        56.88571429]) Val_acc: ([52.42857143 52.57142857]): 100%|██████████| 100/100 [53:08<00:00, 31.89s/it]\n",
      "Train_loss: ([0.55943446 0.56633225]) Train_acc: ([63.28571429 62.11428571]) Val_acc: ([52. 51.]): 100%|██████████| 100/100 [53:07<00:00, 31.85s/it]               \n",
      "100%|██████████| 3500/3500 [00:05<00:00, 663.46it/s]\n",
      "100%|██████████| 700/700 [00:01<00:00, 637.24it/s]\n",
      "Train_loss: ([0.91496649 0.91163439]) Train_acc: ([50.34285714 51.54285714]) Val_acc: ([48.42857143 48.42857143]): 100%|██████████| 100/100 [53:08<00:00, 31.87s/it]\n",
      "Train_loss: ([0.89431261 0.93046139]) Train_acc: ([49.37142857 50.51428571]) Val_acc: ([48.42857143 48.14285714]): 100%|██████████| 100/100 [53:08<00:00, 31.87s/it]\n",
      "Train_loss: ([0.85590604 0.77388254]) Train_acc: ([54.68571429 52.31428571]) Val_acc: ([47.71428571 44.57142857]): 100%|██████████| 100/100 [53:09<00:00, 31.92s/it]\n"
     ]
    }
   ],
   "source": [
    "labels = [\"distances+angles\", \"distances\", \"angles\"]\n",
    "stats_dfs = []\n",
    "\n",
    "for tr_features, label in zip([ALL_COLS, BASIC_TRAINING_COLS+PUCK_SQUARE_DISTANCES, \n",
    "                               BASIC_TRAINING_COLS+PUCK_ANGLE_FEATURES], labels):\n",
    "    \n",
    "    loaders, scaler = prepare_dataset([train_trials, val_trials], \n",
    "                                      class_columns=[list(MASS_CLASS_COLS), list(FORCE_CLASS_COLS)], \n",
    "                                      training_columns=tr_features, batch_size=BATCH_SIZE, \n",
    "                                      normalise_data=NORMALISE_DATA, device=device, multiclass=True)\n",
    "        \n",
    "    network_params = (len(tr_features), HIDDEN_DIM, OUTPUT_DIM, DROPOUT)\n",
    "\n",
    "    for seed in [0, 1, 2]:\n",
    "        df = pd.DataFrame(columns=[\"features\", \"Epoch\", \"Mass Loss\", \"Force Loss\", \"Mass Train Accuracy\",\n",
    "                                   \"Mass Val Accuracy\", \"Force Train Accuracy\", \"Force Val Accuracy\", \"seed\"])\n",
    "\n",
    "\n",
    "        model, error, optimizer = initialise_model(network_params, lr=0.01, seed=seed, device=device, arch=MultiBranchModel)\n",
    "        epoch_losses, epoch_accuracies, [best_mass_model, best_force_model] = training_loop(model, optimizer, \n",
    "                                                                                            error, loaders[0], loaders[1], \n",
    "                                                                                            EPOCHS, seq_end=SEQ_END,\n",
    "                                                                                            step_size=STEP_SIZE,\n",
    "                                                                                            multibranch=True)\n",
    "        \n",
    "        torch.save(best_mass_model.state_dict(), \"models/feature_selection/best_mass_model_features_%s_seed_%d.pt\" % (label, seed))\n",
    "        torch.save(best_force_model.state_dict(), \"models/feature_selection/best_force_model_features_%s_seed_%d.pt\" % (label, seed))\n",
    "    \n",
    "        train_accuracies = np.array(epoch_accuracies[0])\n",
    "        val_accuracies = np.array(epoch_accuracies[1]) \n",
    "        \n",
    "        df[\"Epoch\"] = np.arange(EPOCHS)\n",
    "        df[\"Mass Loss\"] = epoch_losses[:, 0]\n",
    "        df[\"Force Loss\"] = epoch_losses[:, 1]        \n",
    "        df[\"Mass Train Accuracy\"] = train_accuracies[:, 0]\n",
    "        df[\"Mass Val Accuracy\"] = val_accuracies[:, 0]\n",
    "        df[\"Force Train Accuracy\"] = train_accuracies[:, 1]\n",
    "        df[\"Force Val Accuracy\"] = val_accuracies[:,1]\n",
    "        df[\"features\"] = label\n",
    "        df[\"seed\"] = str(seed)\n",
    "        stats_dfs.append(df)\n",
    "        \n",
    "stats = pd.concat(stats_dfs)\n",
    "stats.to_hdf(data_directory+\"stats.h5\", key=\"stats\")"
   ]
  }
 ],
 "metadata": {
  "kernelspec": {
   "display_name": "Python 3",
   "language": "python",
   "name": "python3"
  },
  "language_info": {
   "codemirror_mode": {
    "name": "ipython",
    "version": 3
   },
   "file_extension": ".py",
   "mimetype": "text/x-python",
   "name": "python",
   "nbconvert_exporter": "python",
   "pygments_lexer": "ipython3",
   "version": "3.5.6"
  }
 },
 "nbformat": 4,
 "nbformat_minor": 2
}
