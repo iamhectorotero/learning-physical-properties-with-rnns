{
 "cells": [
  {
   "cell_type": "code",
   "execution_count": 1,
   "metadata": {},
   "outputs": [
    {
     "name": "stdout",
     "output_type": "stream",
     "text": [
      "pygame 1.9.6\n",
      "Hello from the pygame community. https://www.pygame.org/contribute.html\n"
     ]
    }
   ],
   "source": [
    "import torch\n",
    "import pandas as pd\n",
    "import numpy as np\n",
    "import matplotlib.pyplot as plt\n",
    "import seaborn as sns\n",
    "from isaac.constants import FORCE_CLASS_COLS, MASS_CLASS_COLS, BASIC_TRAINING_COLS, PUCK_SQUARE_DISTANCES, PUCK_ANGLE_FEATURES\n",
    "from isaac.evaluation import evaluate_saved_model, evaluate\n",
    "from isaac.dataset import read_dataset\n",
    "from isaac.models import MultiBranchModel\n",
    "from isaac.visualization import plot_confusion_matrix_given_predicted_and_test_loader\n",
    "from isaac.noise import add_noise_to_dataloader"
   ]
  },
  {
   "cell_type": "code",
   "execution_count": 2,
   "metadata": {},
   "outputs": [
    {
     "name": "stdout",
     "output_type": "stream",
     "text": [
      "cuda:0\n"
     ]
    }
   ],
   "source": [
    "from isaac.utils import get_cuda_device_if_available, create_directory\n",
    "device = get_cuda_device_if_available()\n",
    "print(device)"
   ]
  },
  {
   "cell_type": "code",
   "execution_count": 3,
   "metadata": {},
   "outputs": [],
   "source": [
    "network_dims = (len(BASIC_TRAINING_COLS), 25, 3)"
   ]
  },
  {
   "cell_type": "code",
   "execution_count": 4,
   "metadata": {},
   "outputs": [],
   "source": [
    "directory = \"testing_on_noisy_data/\"\n",
    "create_directory(directory)"
   ]
  },
  {
   "cell_type": "code",
   "execution_count": 5,
   "metadata": {},
   "outputs": [],
   "source": [
    "def get_accuracy_and_predicted(model_path, multiclass_index, question_class_columns):\n",
    "\n",
    "    training_columns = BASIC_TRAINING_COLS\n",
    "    class_columns = [list(MASS_CLASS_COLS), list(FORCE_CLASS_COLS)]\n",
    "    scaler_path = \"scalers/passive_dual_scaler.sk\"\n",
    "\n",
    "    plot_path = directory+\"passive_data_\"+question_type+\"_model_cm.pdf\"\n",
    "\n",
    "    test_dataset_path = \"data/passive_trials_exp1.h5\"    \n",
    "\n",
    "    accuracy, predicted, test_loader = evaluate_saved_model(model_path, network_dims, test_dataset_path,\n",
    "                                                            training_columns, class_columns, scaler_path=scaler_path, \n",
    "                                                            arch=MultiBranchModel, multiclass=True, \n",
    "                                                            device=device, return_test_loader=True, seq_start=None,\n",
    "                                                            seq_end=1800, step_size=3)\n",
    "\n",
    "    accuracy = accuracy[multiclass_index]\n",
    "    predicted = predicted[:, multiclass_index]\n",
    "\n",
    "    \"\"\"print(accuracy)\n",
    "    ax = plot_confusion_matrix_given_predicted_and_test_loader(predicted, test_loader, question_class_columns, \n",
    "                                                               save_plot_path=plot_path, multiclass_index=multiclass_index)\"\"\"\n",
    "    return accuracy, predicted, test_loader\n",
    "\n",
    "def get_noisy_accuracy_and_predicted(model_path, noise_deviation, test_loader, multiclass_index, question_class_columns):\n",
    "    model = MultiBranchModel(*network_dims)\n",
    "    model.load_state_dict(torch.load(model_path, map_location=\"cpu\"))\n",
    "    model = model.to(device=\"cuda:0\")\n",
    "    model = model.eval()\n",
    "\n",
    "    noisy_test_loader = add_noise_to_dataloader(test_loader, noise_deviation=noise_deviation)\n",
    "\n",
    "    noisy_accuracy, noisy_predicted = evaluate(model, noisy_test_loader, return_predicted=True, \n",
    "                                   seq_start=None, step_size=3, seq_end=1800)\n",
    "\n",
    "    noisy_accuracy = noisy_accuracy[multiclass_index]\n",
    "    noisy_predicted = noisy_predicted[:, multiclass_index]\n",
    "\n",
    "    \"\"\"print(accuracy)\n",
    "    ax = plot_confusion_matrix_given_predicted_and_test_loader(predicted, noisy_test_loader, question_class_columns, \n",
    "                                                               save_plot_path=plot_path, multiclass_index=multiclass_index)\"\"\"\n",
    "    return noisy_accuracy, noisy_predicted"
   ]
  },
  {
   "cell_type": "code",
   "execution_count": 6,
   "metadata": {},
   "outputs": [],
   "source": [
    "import glob"
   ]
  },
  {
   "cell_type": "code",
   "execution_count": 7,
   "metadata": {},
   "outputs": [],
   "source": [
    "noise_levels = [0., 0.025, 0.0625, 0.125, 0.25, 0.5, 0.75, 1]"
   ]
  },
  {
   "cell_type": "code",
   "execution_count": 8,
   "metadata": {},
   "outputs": [],
   "source": [
    "def get_noisy_accuracy_list(noise_levels, multiclass_index, question_class_columns):\n",
    "    noisy_accuracies = []\n",
    "\n",
    "    _, _, test_loader = get_accuracy_and_predicted(\"models/best_force_model_seed_0.pt\", multiclass_index, question_class_columns)\n",
    "\n",
    "    for model_path in glob.glob(\"models/*\"+question_type+\"*.pt\"):\n",
    "        model_accuracies = []\n",
    "        for noise_deviation in noise_levels:\n",
    "            noisy_accuracy, _ = get_noisy_accuracy_and_predicted(model_path, noise_deviation, test_loader, multiclass_index, question_class_columns)\n",
    "            model_accuracies.append(noisy_accuracy)\n",
    "        noisy_accuracies.append(model_accuracies)\n",
    "        \n",
    "    return noisy_accuracies"
   ]
  },
  {
   "cell_type": "code",
   "execution_count": 9,
   "metadata": {},
   "outputs": [
    {
     "name": "stderr",
     "output_type": "stream",
     "text": [
      "100%|██████████| 216/216 [00:01<00:00, 152.15it/s]\n",
      "100%|██████████| 216/216 [00:00<00:00, 613.21it/s]\n"
     ]
    },
    {
     "name": "stdout",
     "output_type": "stream",
     "text": [
      "Model's accuracy on test set: [59.72222222 61.57407407]\n"
     ]
    },
    {
     "name": "stderr",
     "output_type": "stream",
     "text": [
      "100%|██████████| 216/216 [00:01<00:00, 152.08it/s]\n",
      "100%|██████████| 216/216 [00:00<00:00, 642.09it/s]\n"
     ]
    },
    {
     "name": "stdout",
     "output_type": "stream",
     "text": [
      "Model's accuracy on test set: [59.72222222 61.57407407]\n"
     ]
    }
   ],
   "source": [
    "question_type = \"mass\"\n",
    "mass_noisy_accuracies = get_noisy_accuracy_list(noise_levels, 0, MASS_CLASS_COLS)\n",
    "question_type = \"force\"\n",
    "force_noisy_accuracies = get_noisy_accuracy_list(noise_levels, 1, FORCE_CLASS_COLS)"
   ]
  },
  {
   "cell_type": "code",
   "execution_count": 15,
   "metadata": {},
   "outputs": [
    {
     "data": {
      "text/plain": [
       "Text(0.5, 0, 'Noise SD')"
      ]
     },
     "execution_count": 15,
     "metadata": {},
     "output_type": "execute_result"
    },
    {
     "data": {
      "image/png": "[encoded data removed]",
      "text/plain": [
       "<Figure size 432x288 with 1 Axes>"
      ]
     },
     "metadata": {
      "needs_background": "light"
     },
     "output_type": "display_data"
    }
   ],
   "source": [
    "plt.errorbar(noise_levels, np.mean(mass_noisy_accuracies, axis=0), yerr=np.std(mass_noisy_accuracies, axis=0), linewidth=3, label=\"mass\")\n",
    "plt.errorbar(noise_levels, np.mean(force_noisy_accuracies, axis=0), yerr=np.std(force_noisy_accuracies, axis=0), linewidth=3, label=\"force\")\n",
    "plt.legend()\n",
    "plt.grid()\n",
    "plt.ylabel(\"Accuracy\")\n",
    "plt.xlabel(\"Noise SD\")"
   ]
  },
  {
   "cell_type": "code",
   "execution_count": null,
   "metadata": {},
   "outputs": [],
   "source": []
  }
 ],
 "metadata": {
  "kernelspec": {
   "display_name": "Python 3",
   "language": "python",
   "name": "python3"
  },
  "language_info": {
   "codemirror_mode": {
    "name": "ipython",
    "version": 3
   },
   "file_extension": ".py",
   "mimetype": "text/x-python",
   "name": "python",
   "nbconvert_exporter": "python",
   "pygments_lexer": "ipython3",
   "version": "3.5.6"
  }
 },
 "nbformat": 4,
 "nbformat_minor": 2
}
