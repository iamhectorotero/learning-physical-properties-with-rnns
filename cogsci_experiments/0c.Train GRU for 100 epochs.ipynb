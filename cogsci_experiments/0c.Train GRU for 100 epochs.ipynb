{
 "cells": [
  {
   "cell_type": "code",
   "execution_count": 1,
   "metadata": {},
   "outputs": [],
   "source": [
    "import torch\n",
    "import torch.nn as nn"
   ]
  },
  {
   "cell_type": "code",
   "execution_count": 2,
   "metadata": {},
   "outputs": [],
   "source": [
    "from isaac.dataset import read_dataset, prepare_dataset\n",
    "from isaac.constants import POSITION_COLS, MASS_CLASS_COLS, BASIC_TRAINING_COLS, FORCE_CLASS_COLS\n",
    "from isaac.sanity import class_proportions\n",
    "from isaac.models import initialise_model\n",
    "from isaac.training import training_loop\n",
    "import matplotlib.pyplot as plt\n",
    "import numpy as np\n",
    "import pandas as pd"
   ]
  },
  {
   "cell_type": "code",
   "execution_count": 3,
   "metadata": {},
   "outputs": [
    {
     "name": "stdout",
     "output_type": "stream",
     "text": [
      "cuda:0\n"
     ]
    }
   ],
   "source": [
    "from isaac.utils import get_cuda_device_if_available, create_directory\n",
    "device = get_cuda_device_if_available()\n",
    "print(device)\n",
    "\n",
    "directory = \"GRU_singlebranch/\"\n",
    "create_directory(directory)"
   ]
  },
  {
   "cell_type": "code",
   "execution_count": 4,
   "metadata": {},
   "outputs": [],
   "source": [
    "TR_COLS = BASIC_TRAINING_COLS\n",
    "NORMALISE_DATA = True\n",
    "BATCH_SIZE = 128\n",
    "EPOCHS = 100\n",
    "STEP_SIZE = 1\n",
    "SEQ_END = 2700"
   ]
  },
  {
   "cell_type": "code",
   "execution_count": 5,
   "metadata": {},
   "outputs": [
    {
     "name": "stderr",
     "output_type": "stream",
     "text": [
      "100%|██████████| 3500/3500 [00:32<00:00, 107.47it/s]\n",
      "100%|██████████| 1000/1000 [00:09<00:00, 108.69it/s]\n"
     ]
    }
   ],
   "source": [
    "train_trials = read_dataset(\"data/train_passive_trials.h5\", n_trials=3500, cols=TR_COLS)\n",
    "val_trials = read_dataset(\"data/val_passive_trials.h5\", n_trials=1000, cols=TR_COLS)"
   ]
  },
  {
   "cell_type": "code",
   "execution_count": 6,
   "metadata": {},
   "outputs": [],
   "source": [
    "INPUT_DIM = len(TR_COLS)    # input dimension\n",
    "HIDDEN_DIM = 25  # hidden layer dimension\n",
    "N_LAYERS = 4     # number of hidden layers\n",
    "OUTPUT_DIM = 3   # output dimension\n",
    "DROPOUT = 0.5\n",
    "\n",
    "network_params = (INPUT_DIM, HIDDEN_DIM, N_LAYERS, OUTPUT_DIM, DROPOUT)"
   ]
  },
  {
   "cell_type": "markdown",
   "metadata": {},
   "source": [
    "# MASS TRAINING"
   ]
  },
  {
   "cell_type": "code",
   "execution_count": 7,
   "metadata": {},
   "outputs": [
    {
     "name": "stderr",
     "output_type": "stream",
     "text": [
      "100%|██████████| 3500/3500 [00:03<00:00, 1074.03it/s]\n",
      "100%|██████████| 1000/1000 [00:00<00:00, 1083.39it/s]\n"
     ]
    }
   ],
   "source": [
    "loaders, scaler = prepare_dataset([train_trials, val_trials], class_columns=MASS_CLASS_COLS, \n",
    "                                  training_columns=TR_COLS, batch_size=BATCH_SIZE, \n",
    "                                  normalise_data=NORMALISE_DATA, device=device)"
   ]
  },
  {
   "cell_type": "code",
   "execution_count": 8,
   "metadata": {},
   "outputs": [],
   "source": [
    "train_loader, val_loader = loaders"
   ]
  },
  {
   "cell_type": "code",
   "execution_count": 9,
   "metadata": {},
   "outputs": [
    {
     "name": "stdout",
     "output_type": "stream",
     "text": [
      "[1188 1174 1138]\n",
      "Majority class:  0.3394285714285714\n",
      "[340 349 311]\n",
      "Majority class:  0.349\n"
     ]
    },
    {
     "data": {
      "text/plain": [
       "(array([340, 349, 311]), 0.349)"
      ]
     },
     "execution_count": 9,
     "metadata": {},
     "output_type": "execute_result"
    }
   ],
   "source": [
    "class_proportions(train_loader)\n",
    "class_proportions(val_loader)"
   ]
  },
  {
   "cell_type": "code",
   "execution_count": 10,
   "metadata": {},
   "outputs": [
    {
     "name": "stderr",
     "output_type": "stream",
     "text": [
      "Train_loss: ([0.76235775]) Train_acc: (58.0) Val_acc: ([53.5]): 100%|██████████| 100/100 [52:40<00:00, 32.01s/it]             \n",
      "Train_loss: ([0.59266168]) Train_acc: (65.51428571428572) Val_acc: ([56.8]): 100%|██████████| 100/100 [53:41<00:00, 32.31s/it]\n",
      "Train_loss: ([0.52249955]) Train_acc: (66.54285714285714) Val_acc: ([55.7]): 100%|██████████| 100/100 [53:38<00:00, 31.89s/it]\n"
     ]
    }
   ],
   "source": [
    "N_MODELS = 3\n",
    "\n",
    "stats_dfs = []\n",
    "directory = \"models/GRU_singlebranch/\"\n",
    "create_directory(directory)\n",
    "    \n",
    "for seed in range(N_MODELS):\n",
    "    df = pd.DataFrame(columns=[\"seed\", \"Epoch\", \"Loss\"])\n",
    "\n",
    "    model, error, optimizer = initialise_model(network_params, lr=0.01, seed=seed, device=device)\n",
    "    epoch_losses, epoch_accuracies, best_model = training_loop(model, optimizer, error, train_loader, \n",
    "                                                               val_loader, EPOCHS, seq_end=SEQ_END,\n",
    "                                                               step_size=STEP_SIZE)\n",
    "\n",
    "    torch.save(best_model.state_dict(), directory + \"best_mass_model_seed_%d.pt\" % seed)\n",
    "\n",
    "    df[\"Epoch\"] = np.arange(EPOCHS)\n",
    "    df[\"Loss\"] = epoch_losses\n",
    "    df[\"Train Accuracy\"] = epoch_accuracies[0]\n",
    "    df[\"Val Accuracy\"] = epoch_accuracies[1]\n",
    "    df[\"seed\"] = seed\n",
    "    stats_dfs.append(df)\n",
    "        \n",
    "stats = pd.concat(stats_dfs)\n",
    "stats.to_hdf(directory+\"mass_stats.h5\", key=\"stats\")"
   ]
  },
  {
   "cell_type": "markdown",
   "metadata": {},
   "source": [
    "# FORCE TRAINING"
   ]
  },
  {
   "cell_type": "code",
   "execution_count": 11,
   "metadata": {},
   "outputs": [
    {
     "name": "stderr",
     "output_type": "stream",
     "text": [
      "100%|██████████| 3500/3500 [00:03<00:00, 953.49it/s]\n",
      "100%|██████████| 1000/1000 [00:01<00:00, 981.62it/s]\n"
     ]
    }
   ],
   "source": [
    "loaders, scaler = prepare_dataset([train_trials, val_trials], class_columns=FORCE_CLASS_COLS, \n",
    "                                  training_columns=TR_COLS, batch_size=BATCH_SIZE, \n",
    "                                  normalise_data=NORMALISE_DATA, device=device)"
   ]
  },
  {
   "cell_type": "code",
   "execution_count": 12,
   "metadata": {},
   "outputs": [],
   "source": [
    "train_loader, val_loader = loaders"
   ]
  },
  {
   "cell_type": "code",
   "execution_count": 13,
   "metadata": {},
   "outputs": [
    {
     "name": "stdout",
     "output_type": "stream",
     "text": [
      "[1183 1169 1148]\n",
      "Majority class:  0.338\n",
      "[337 350 313]\n",
      "Majority class:  0.35\n"
     ]
    },
    {
     "data": {
      "text/plain": [
       "(array([337, 350, 313]), 0.35)"
      ]
     },
     "execution_count": 13,
     "metadata": {},
     "output_type": "execute_result"
    }
   ],
   "source": [
    "class_proportions(train_loader)\n",
    "class_proportions(val_loader)"
   ]
  },
  {
   "cell_type": "code",
   "execution_count": 14,
   "metadata": {},
   "outputs": [
    {
     "name": "stderr",
     "output_type": "stream",
     "text": [
      "Train_loss: ([0.48224055]) Train_acc: (64.0) Val_acc: ([60.2]): 100%|██████████| 100/100 [53:23<00:00, 31.80s/it]             \n",
      "Train_loss: ([0.33556286]) Train_acc: (67.22857142857143) Val_acc: ([52.0]): 100%|██████████| 100/100 [52:47<00:00, 32.00s/it]\n",
      "Train_loss: ([0.73122307]) Train_acc: (53.0) Val_acc: ([46.5]): 100%|██████████| 100/100 [53:26<00:00, 32.46s/it]             \n"
     ]
    }
   ],
   "source": [
    "N_MODELS = 3\n",
    "\n",
    "stats_dfs = []\n",
    "directory = \"models/GRU_singlebranch/\"\n",
    "create_directory(directory)\n",
    "    \n",
    "for seed in range(N_MODELS):\n",
    "    df = pd.DataFrame(columns=[\"seed\", \"Epoch\", \"Loss\"])\n",
    "\n",
    "    model, error, optimizer = initialise_model(network_params, lr=0.01, seed=seed, device=device)\n",
    "    epoch_losses, epoch_accuracies, best_model = training_loop(model, optimizer, error, train_loader, \n",
    "                                                               val_loader, EPOCHS, seq_end=SEQ_END,\n",
    "                                                               step_size=STEP_SIZE)\n",
    "\n",
    "    torch.save(best_model.state_dict(), directory + \"best_force_model_seed_%d.pt\" % seed)\n",
    "\n",
    "    df[\"Epoch\"] = np.arange(EPOCHS)\n",
    "    df[\"Loss\"] = epoch_losses\n",
    "    df[\"Train Accuracy\"] = epoch_accuracies[0]\n",
    "    df[\"Val Accuracy\"] = epoch_accuracies[1]\n",
    "    df[\"seed\"] = seed\n",
    "    stats_dfs.append(df)\n",
    "        \n",
    "stats = pd.concat(stats_dfs)\n",
    "stats.to_hdf(directory+\"force_stats.h5\", key=\"stats\")"
   ]
  }
 ],
 "metadata": {
  "kernelspec": {
   "display_name": "Python 3",
   "language": "python",
   "name": "python3"
  },
  "language_info": {
   "codemirror_mode": {
    "name": "ipython",
    "version": 3
   },
   "file_extension": ".py",
   "mimetype": "text/x-python",
   "name": "python",
   "nbconvert_exporter": "python",
   "pygments_lexer": "ipython3",
   "version": "3.5.6"
  }
 },
 "nbformat": 4,
 "nbformat_minor": 2
}
