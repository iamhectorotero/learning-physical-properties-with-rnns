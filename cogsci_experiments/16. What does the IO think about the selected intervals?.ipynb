{
 "cells": [
  {
   "cell_type": "code",
   "execution_count": 18,
   "metadata": {},
   "outputs": [],
   "source": [
    "import pandas as pd\n",
    "import numpy as np\n",
    "from scipy.stats import ttest_ind, spearmanr\n",
    "import glob\n",
    "import matplotlib.pyplot as plt\n",
    "from rpy2.robjects import r, pandas2ri\n",
    "pandas2ri.activate()"
   ]
  },
  {
   "cell_type": "code",
   "execution_count": 2,
   "metadata": {},
   "outputs": [],
   "source": [
    "FPS = 60\n",
    "INTERVAL_SIZE = 1\n",
    "PD_STEP_SIZE = 10"
   ]
  },
  {
   "cell_type": "code",
   "execution_count": 3,
   "metadata": {},
   "outputs": [
    {
     "name": "stderr",
     "output_type": "stream",
     "text": [
      "/home/hector/miniconda3/envs/diss/lib/python3.5/site-packages/rpy2/robjects/pandas2ri.py:191: FutureWarning: from_items is deprecated. Please use DataFrame.from_dict(dict(items), ...) instead. DataFrame.from_dict(OrderedDict(items)) may be used to preserve the key order.\n",
      "  res = PandasDataFrame.from_items(items)\n"
     ]
    }
   ],
   "source": [
    "trials_pd_paths = sorted(glob.glob(\"../new_exp_data/pd_summaries/pd_summaries/cv*tt*.rdata\"))\n",
    "\n",
    "trial_pds = []\n",
    "\n",
    "for path in trials_pd_paths:\n",
    "    r['load'](path)\n",
    "    trial = r['df.ext']\n",
    "    trial.frame = np.arange(10, 2710, 10).tolist() * 4\n",
    "    trial_pds.append(trial)   "
   ]
  },
  {
   "cell_type": "code",
   "execution_count": 4,
   "metadata": {},
   "outputs": [],
   "source": [
    "mass_pd_list = []\n",
    "force_pd_list = []\n",
    "\n",
    "for trial_pd in trial_pds:\n",
    "    \n",
    "    window_size = int(FPS * INTERVAL_SIZE / PD_STEP_SIZE)\n",
    "    pd_mass = trial_pd[[\"frame\", \"pd.mass.rtheta\"]].groupby(\"frame\").agg({\"pd.mass.rtheta\": np.mean})\n",
    "    pd_mass = pd_mass[\"pd.mass.rtheta\"].rolling(window=window_size).mean().values[window_size-1::window_size]\n",
    "    mass_pd_list.append(pd_mass)\n",
    "\n",
    "    pd_force = trial_pd[[\"frame\", \"pd.rel.rtheta\"]].groupby(\"frame\").agg({\"pd.rel.rtheta\": np.mean})\n",
    "    pd_force = pd_force[\"pd.rel.rtheta\"].rolling(window=window_size).mean().values[window_size-1::window_size]\n",
    "    force_pd_list.append(pd_force)"
   ]
  },
  {
   "cell_type": "code",
   "execution_count": 5,
   "metadata": {},
   "outputs": [],
   "source": [
    "confusing_force_intervals = pd.read_csv(\"cogsci_images/confusing_videos/\"\\\n",
    "                                        \"confusing_xy_vxvy/confusing_xy_vxvy_force_interval_description.csv\")\n",
    "confusing_mass_intervals = pd.read_csv(\"cogsci_images/confusing_videos/\"\\\n",
    "                                       \"confusing_xy_vxvy/confusing_xy_vxvy_mass_interval_description.csv\")\n",
    "obvious_force_intervals = pd.read_csv(\"cogsci_images/obvious_videos/\"\\\n",
    "                                        \"obvious_xy_vxvy/obvious_xy_vxvy_force_interval_description.csv\")\n",
    "obvious_mass_intervals = pd.read_csv(\"cogsci_images/obvious_videos/\"\\\n",
    "                                       \"obvious_xy_vxvy/obvious_xy_vxvy_mass_interval_description.csv\")"
   ]
  },
  {
   "cell_type": "code",
   "execution_count": 6,
   "metadata": {},
   "outputs": [
    {
     "data": {
      "text/plain": [
       "(15, 7)"
      ]
     },
     "execution_count": 6,
     "metadata": {},
     "output_type": "execute_result"
    }
   ],
   "source": [
    "confusing_mass_intervals.shape"
   ]
  },
  {
   "cell_type": "code",
   "execution_count": 7,
   "metadata": {},
   "outputs": [],
   "source": [
    "force_intervals = pd.concat([confusing_force_intervals, obvious_force_intervals])\n",
    "force_intervals[\"is_obvious_interval\"] = force_intervals[\"solution\"] == force_intervals[\"rnn_preferred_option\"]\n",
    "mass_intervals = pd.concat([confusing_mass_intervals, obvious_mass_intervals])\n",
    "mass_intervals[\"is_obvious_interval\"] = mass_intervals[\"solution\"] == mass_intervals[\"rnn_preferred_option\"]"
   ]
  },
  {
   "cell_type": "code",
   "execution_count": 8,
   "metadata": {},
   "outputs": [],
   "source": [
    "def get_average_pd_for_intervals(intervals, pd_list):\n",
    "    pd_values = []\n",
    "    \n",
    "    for interval_i in range(intervals.shape[0]):\n",
    "        interval = intervals.iloc[interval_i]\n",
    "        trial_number = interval.trial_number\n",
    "        window_start = interval.window_start\n",
    "        window_end = interval.window_end\n",
    "        pd_value = np.mean(pd_list[trial_number][window_start:window_end])\n",
    "        pd_values.append(pd_value)\n",
    "    return pd_values"
   ]
  },
  {
   "cell_type": "code",
   "execution_count": 28,
   "metadata": {},
   "outputs": [],
   "source": [
    "def compute_correlations_and_plots(intervals, pd_list):\n",
    "\n",
    "    average_pd = get_average_pd_for_intervals(intervals, pd_list)\n",
    "    intervals[\"pd\"] = average_pd\n",
    "\n",
    "    print(ttest_ind(intervals.query(\"is_obvious_interval\").pd, intervals.query(\"not is_obvious_interval\").pd))\n",
    "    print(\"Overall Correlation\", np.corrcoef(intervals.rnn_solution_probability, intervals.pd)[0][1])\n",
    "    print(\"Overall pearman\", spearmanr(intervals.rnn_solution_probability, intervals.pd))\n",
    "\n",
    "    markers = [\".\", \"+\", \"*\"]\n",
    "\n",
    "    for i, solution in enumerate(intervals.solution.unique()):\n",
    "        solution_intervals = intervals.query(\"solution == '%s'\" % solution)\n",
    "        plt.scatter(solution_intervals.rnn_solution_probability, solution_intervals.pd,\n",
    "                    c=solution_intervals.is_obvious_interval, marker=markers[i], label=solution)\n",
    "\n",
    "        print()\n",
    "        print(\"Class: %s\" % solution)\n",
    "        print(\"Class Correlation\", np.corrcoef(solution_intervals.rnn_solution_probability, solution_intervals.pd)[0][1])\n",
    "        print(\"Class Spearman\", spearmanr(solution_intervals.rnn_solution_probability, solution_intervals.pd))\n",
    "    plt.legend()\n",
    "    plt.show()"
   ]
  },
  {
   "cell_type": "code",
   "execution_count": 29,
   "metadata": {},
   "outputs": [
    {
     "name": "stdout",
     "output_type": "stream",
     "text": [
      "Ttest_indResult(statistic=4.121846735585153, pvalue=0.0003028405621888076)\n",
      "Overall Correlation 0.7722856183511214\n",
      "Overall pearman SpearmanrResult(correlation=0.7842046718576196, pvalue=2.939055421351856e-07)\n",
      "\n",
      "Class: attract\n",
      "Class Correlation 0.9315423280308686\n",
      "Class Spearman SpearmanrResult(correlation=0.8787878787878788, pvalue=0.0008138621117322101)\n",
      "\n",
      "Class: repel\n",
      "Class Correlation 0.22224682703013898\n",
      "Class Spearman SpearmanrResult(correlation=0.24848484848484845, pvalue=0.48877630451924314)\n",
      "\n",
      "Class: none\n",
      "Class Correlation 0.7087823467469362\n",
      "Class Spearman SpearmanrResult(correlation=0.8787878787878788, pvalue=0.0008138621117322101)\n"
     ]
    },
    {
     "data": {
      "image/png": "[encoded data removed]",
      "text/plain": [
       "<Figure size 432x288 with 1 Axes>"
      ]
     },
     "metadata": {
      "needs_background": "light"
     },
     "output_type": "display_data"
    },
    {
     "name": "stdout",
     "output_type": "stream",
     "text": [
      "Ttest_indResult(statistic=1.3867359448091099, pvalue=0.17646467241829622)\n",
      "Overall Correlation 0.14464957266479328\n",
      "Overall pearman SpearmanrResult(correlation=0.17997775305895441, pvalue=0.34125235482307215)\n",
      "\n",
      "Class: A\n",
      "Class Correlation 0.09584557109468705\n",
      "Class Spearman SpearmanrResult(correlation=0.2121212121212121, pvalue=0.5563057751029299)\n",
      "\n",
      "Class: B\n",
      "Class Correlation 0.11459994950489528\n",
      "Class Spearman SpearmanrResult(correlation=0.32121212121212117, pvalue=0.3654683104386702)\n",
      "\n",
      "Class: same\n",
      "Class Correlation 0.4889423473050163\n",
      "Class Spearman SpearmanrResult(correlation=0.3696969696969697, pvalue=0.2930500752928223)\n"
     ]
    },
    {
     "data": {
      "image/png": "[encoded data removed]",
      "text/plain": [
       "<Figure size 432x288 with 1 Axes>"
      ]
     },
     "metadata": {
      "needs_background": "light"
     },
     "output_type": "display_data"
    }
   ],
   "source": [
    "compute_correlations_and_plots(force_intervals, force_pd_list)\n",
    "compute_correlations_and_plots(mass_intervals, mass_pd_list)"
   ]
  }
 ],
 "metadata": {
  "kernelspec": {
   "display_name": "Python 3",
   "language": "python",
   "name": "python3"
  },
  "language_info": {
   "codemirror_mode": {
    "name": "ipython",
    "version": 3
   },
   "file_extension": ".py",
   "mimetype": "text/x-python",
   "name": "python",
   "nbconvert_exporter": "python",
   "pygments_lexer": "ipython3",
   "version": "3.5.6"
  }
 },
 "nbformat": 4,
 "nbformat_minor": 2
}
