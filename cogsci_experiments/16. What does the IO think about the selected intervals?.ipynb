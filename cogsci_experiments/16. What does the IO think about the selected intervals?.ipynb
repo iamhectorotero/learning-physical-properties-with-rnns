{
 "cells": [
  {
   "cell_type": "code",
   "execution_count": 11,
   "metadata": {},
   "outputs": [],
   "source": [
    "import pandas as pd\n",
    "import numpy as np\n",
    "import glob\n",
    "import matplotlib.pyplot as plt\n",
    "from rpy2.robjects import r, pandas2ri\n",
    "pandas2ri.activate()"
   ]
  },
  {
   "cell_type": "code",
   "execution_count": 2,
   "metadata": {},
   "outputs": [],
   "source": [
    "FPS = 60\n",
    "INTERVAL_SIZE = 1\n",
    "PD_STEP_SIZE = 10"
   ]
  },
  {
   "cell_type": "code",
   "execution_count": 3,
   "metadata": {},
   "outputs": [
    {
     "name": "stderr",
     "output_type": "stream",
     "text": [
      "/home/hector/miniconda3/envs/diss/lib/python3.5/site-packages/rpy2/robjects/pandas2ri.py:191: FutureWarning: from_items is deprecated. Please use DataFrame.from_dict(dict(items), ...) instead. DataFrame.from_dict(OrderedDict(items)) may be used to preserve the key order.\n",
      "  res = PandasDataFrame.from_items(items)\n"
     ]
    }
   ],
   "source": [
    "trials_pd_paths = sorted(glob.glob(\"../new_exp_data/pd_summaries/pd_summaries/cv*tt*.rdata\"))\n",
    "\n",
    "trial_pds = []\n",
    "\n",
    "for path in trials_pd_paths:\n",
    "    r['load'](path)\n",
    "    trial = r['df.ext']\n",
    "    trial.frame = np.arange(10, 2710, 10).tolist() * 4\n",
    "    trial_pds.append(trial)   "
   ]
  },
  {
   "cell_type": "code",
   "execution_count": 4,
   "metadata": {},
   "outputs": [],
   "source": [
    "mass_pd_list = []\n",
    "force_pd_list = []\n",
    "\n",
    "for trial_pd in trial_pds:\n",
    "    \n",
    "    window_size = int(FPS * INTERVAL_SIZE / PD_STEP_SIZE)\n",
    "    pd_mass = trial_pd[[\"frame\", \"pd.mass.rtheta\"]].groupby(\"frame\").agg({\"pd.mass.rtheta\": np.mean})\n",
    "    pd_mass = pd_mass[\"pd.mass.rtheta\"].rolling(window=window_size).mean().values[window_size-1::window_size]\n",
    "    mass_pd_list.append(pd_mass)\n",
    "\n",
    "    pd_force = trial_pd[[\"frame\", \"pd.rel.rtheta\"]].groupby(\"frame\").agg({\"pd.rel.rtheta\": np.mean})\n",
    "    pd_force = pd_force[\"pd.rel.rtheta\"].rolling(window=window_size).mean().values[window_size-1::window_size]\n",
    "    force_pd_list.append(pd_force)"
   ]
  },
  {
   "cell_type": "code",
   "execution_count": 5,
   "metadata": {},
   "outputs": [],
   "source": [
    "confusing_force_intervals = pd.read_csv(\"cogsci_images/confusing_videos/\"\\\n",
    "                                        \"confusing_xy_vxvy/confusing_xy_vxvy_force_interval_description.csv\")\n",
    "confusing_mass_intervals = pd.read_csv(\"cogsci_images/confusing_videos/\"\\\n",
    "                                       \"confusing_xy_vxvy/confusing_xy_vxvy_mass_interval_description.csv\")\n",
    "obvious_force_intervals = pd.read_csv(\"cogsci_images/obvious_videos/\"\\\n",
    "                                        \"obvious_xy_vxvy/obvious_xy_vxvy_force_interval_description.csv\")\n",
    "obvious_mass_intervals = pd.read_csv(\"cogsci_images/obvious_videos/\"\\\n",
    "                                       \"obvious_xy_vxvy/obvious_xy_vxvy_mass_interval_description.csv\")"
   ]
  },
  {
   "cell_type": "code",
   "execution_count": 6,
   "metadata": {},
   "outputs": [
    {
     "data": {
      "text/plain": [
       "(15, 7)"
      ]
     },
     "execution_count": 6,
     "metadata": {},
     "output_type": "execute_result"
    }
   ],
   "source": [
    "confusing_mass_intervals.shape"
   ]
  },
  {
   "cell_type": "code",
   "execution_count": 8,
   "metadata": {},
   "outputs": [],
   "source": [
    "force_intervals = pd.concat([confusing_force_intervals, obvious_force_intervals])\n",
    "force_intervals[\"is_obvious_interval\"] = force_intervals[\"solution\"] == force_intervals[\"rnn_preferred_option\"]\n",
    "mass_intervals = pd.concat([confusing_mass_intervals, obvious_mass_intervals])\n",
    "mass_intervals[\"is_obvious_interval\"] = mass_intervals[\"solution\"] == mass_intervals[\"rnn_preferred_option\"]"
   ]
  },
  {
   "cell_type": "code",
   "execution_count": 9,
   "metadata": {},
   "outputs": [],
   "source": [
    "def get_average_pd_for_intervals(intervals, pd_list):\n",
    "    pd_values = []\n",
    "    \n",
    "    for interval_i in range(intervals.shape[0]):\n",
    "        interval = intervals.iloc[interval_i]\n",
    "        trial_number = interval.trial_number\n",
    "        window_start = interval.window_start\n",
    "        window_end = interval.window_end\n",
    "        pd_value = np.mean(pd_list[trial_number][window_start:window_end])\n",
    "        pd_values.append(pd_value)\n",
    "    return pd_values"
   ]
  },
  {
   "cell_type": "code",
   "execution_count": 12,
   "metadata": {},
   "outputs": [
    {
     "data": {
      "text/plain": [
       "<matplotlib.collections.PathCollection at 0x7f594878f320>"
      ]
     },
     "execution_count": 12,
     "metadata": {},
     "output_type": "execute_result"
    },
    {
     "data": {
      "image/png": "[encoded data removed]",
      "text/plain": [
       "<Figure size 432x288 with 1 Axes>"
      ]
     },
     "metadata": {
      "needs_background": "light"
     },
     "output_type": "display_data"
    }
   ],
   "source": [
    "average_force_pd = get_average_pd_for_intervals(force_intervals, force_pd_list)\n",
    "force_intervals[\"pd\"] = average_force_pd\n",
    "\n",
    "plt.scatter(force_intervals.rnn_preferred_option_probability, force_intervals.pd, c=force_intervals.is_obvious_interval)"
   ]
  },
  {
   "cell_type": "code",
   "execution_count": 13,
   "metadata": {},
   "outputs": [
    {
     "data": {
      "text/plain": [
       "<matplotlib.collections.PathCollection at 0x7f59487056a0>"
      ]
     },
     "execution_count": 13,
     "metadata": {},
     "output_type": "execute_result"
    },
    {
     "data": {
      "image/png": "[encoded data removed]",
      "text/plain": [
       "<Figure size 432x288 with 1 Axes>"
      ]
     },
     "metadata": {
      "needs_background": "light"
     },
     "output_type": "display_data"
    }
   ],
   "source": [
    "average_mass_pd = get_average_pd_for_intervals(mass_intervals, mass_pd_list)\n",
    "mass_intervals[\"pd\"] = average_mass_pd\n",
    "\n",
    "plt.scatter(mass_intervals.rnn_preferred_option_probability, mass_intervals.pd, c=mass_intervals.is_obvious_interval)"
   ]
  },
  {
   "cell_type": "code",
   "execution_count": null,
   "metadata": {},
   "outputs": [],
   "source": []
  }
 ],
 "metadata": {
  "kernelspec": {
   "display_name": "Python 3",
   "language": "python",
   "name": "python3"
  },
  "language_info": {
   "codemirror_mode": {
    "name": "ipython",
    "version": 3
   },
   "file_extension": ".py",
   "mimetype": "text/x-python",
   "name": "python",
   "nbconvert_exporter": "python",
   "pygments_lexer": "ipython3",
   "version": "3.5.6"
  }
 },
 "nbformat": 4,
 "nbformat_minor": 2
}
