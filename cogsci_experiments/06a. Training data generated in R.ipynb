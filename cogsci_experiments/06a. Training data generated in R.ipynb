{
 "cells": [
  {
   "cell_type": "code",
   "execution_count": 1,
   "metadata": {},
   "outputs": [],
   "source": [
    "import json\n",
    "import pandas as pd\n",
    "from isaac.constants import BASIC_TRAINING_COLS, MASS_CLASS_COLS, FORCE_CLASS_COLS\n",
    "import numpy as np"
   ]
  },
  {
   "cell_type": "code",
   "execution_count": 2,
   "metadata": {},
   "outputs": [],
   "source": [
    "from isaac.dataset import read_dataset"
   ]
  },
  {
   "cell_type": "code",
   "execution_count": 3,
   "metadata": {},
   "outputs": [
    {
     "name": "stderr",
     "output_type": "stream",
     "text": [
      "/home/hector/miniconda3/envs/diss/lib/python3.5/site-packages/rpy2/rinterface/__init__.py:146: RRuntimeWarning: Warning messages:\n",
      "\n",
      "  warnings.warn(x, RRuntimeWarning)\n",
      "/home/hector/miniconda3/envs/diss/lib/python3.5/site-packages/rpy2/rinterface/__init__.py:146: RRuntimeWarning: 1: \n",
      "  warnings.warn(x, RRuntimeWarning)\n",
      "/home/hector/miniconda3/envs/diss/lib/python3.5/site-packages/rpy2/rinterface/__init__.py:146: RRuntimeWarning: In value[[3L]](cond) :\n",
      "  warnings.warn(x, RRuntimeWarning)\n",
      "/home/hector/miniconda3/envs/diss/lib/python3.5/site-packages/rpy2/rinterface/__init__.py:146: RRuntimeWarning: \n",
      " \n",
      "  warnings.warn(x, RRuntimeWarning)\n",
      "/home/hector/miniconda3/envs/diss/lib/python3.5/site-packages/rpy2/rinterface/__init__.py:146: RRuntimeWarning:  \"getThreads\" not available for .C() for package \"RevoUtilsMath\"\n",
      "\n",
      "  warnings.warn(x, RRuntimeWarning)\n",
      "/home/hector/miniconda3/envs/diss/lib/python3.5/site-packages/rpy2/rinterface/__init__.py:146: RRuntimeWarning: 2: \n",
      "  warnings.warn(x, RRuntimeWarning)\n",
      "/home/hector/miniconda3/envs/diss/lib/python3.5/site-packages/rpy2/rinterface/__init__.py:146: RRuntimeWarning: 3: \n",
      "  warnings.warn(x, RRuntimeWarning)\n"
     ]
    }
   ],
   "source": [
    "from rpy2.robjects import r, pandas2ri\n",
    "pandas2ri.activate()"
   ]
  },
  {
   "cell_type": "code",
   "execution_count": 4,
   "metadata": {},
   "outputs": [],
   "source": [
    "import numpy as np\n",
    "from tqdm import tqdm"
   ]
  },
  {
   "cell_type": "code",
   "execution_count": 13,
   "metadata": {},
   "outputs": [],
   "source": [
    "def save_dataset(hdf_path, trials):\n",
    "    for trial_i, trial in tqdm(enumerate(trials), total=len(trials)):\n",
    "        trial.to_hdf(hdf_path, key=\"trial_%d\" % trial_i)\n",
    "        \n",
    "def add_r_theta_attributes(trials):    \n",
    "    for obj in [\"o1\", \"o2\", \"o3\", \"o4\"]:\n",
    "        trial[obj+\".r\"] = (trial[obj+\".vx\"]**2 + trial[obj+\".vy\"]**2)**0.5\n",
    "        trial[obj+\".theta\"] = (np.arctan2(trial[obj+\".vx\"], trial[obj+\".vy\"]) * 180 / np.pi)\n",
    "            \n",
    "    return trials"
   ]
  },
  {
   "cell_type": "markdown",
   "metadata": {},
   "source": [
    "## Reading the JSONs"
   ]
  },
  {
   "cell_type": "code",
   "execution_count": 5,
   "metadata": {},
   "outputs": [
    {
     "name": "stderr",
     "output_type": "stream",
     "text": [
      "  0%|          | 0/243 [00:00<?, ?it/s]/home/hector/miniconda3/envs/diss/lib/python3.5/site-packages/pandas/core/generic.py:1996: PerformanceWarning: \n",
      "your performance may suffer as PyTables will pickle object types that it cannot\n",
      "map directly to c-types [inferred_type->mixed,key->block3_values] [items->['tM', 'refreshes', 'tR', 'combined_solution']]\n",
      "\n",
      "  return pytables.to_hdf(path_or_buf, key, self, **kwargs)\n",
      "100%|██████████| 243/243 [1:10:18<00:00, 16.30s/it]\n"
     ]
    }
   ],
   "source": [
    "hdf_path = \"data/r_passive_trials.h5\"\n",
    "trial_i = 0\n",
    "\n",
    "tR_to_text = {3: \"attract\", 0: \"none\", -3: \"repel\"}\n",
    "\n",
    "for condition_id in tqdm(range(1, 244)):\n",
    "    filename = \"data/for_hector/passive_simulations/physics_data%d.json\" % condition_id\n",
    "    fd = open(filename)\n",
    "    sim_data = json.load(fd)\n",
    "    for sim in sim_data:\n",
    "        trial = pd.DataFrame(columns=sim.keys())\n",
    "        \n",
    "        for key in sim.keys():\n",
    "            if key in [\"tR\", \"tM\" , \"practice\", \"refreshes\", \"trial_type\", \"condition_world_variant\", \"world_id\"]:\n",
    "                trial[key] = [sim[key]] * 2700\n",
    "            else:\n",
    "                trial[key] = sim[key]\n",
    "        \n",
    "        trial[\"tR\"] = tR_to_text[trial.tR.unique()[0]]\n",
    "        trial[\"combined_solution\"] = trial[\"tM\"] + \"_\" + trial[\"tR\"]\n",
    "        \n",
    "        trial[\"A\"] = (trial.tM == \"A\")\n",
    "        trial[\"B\"] = (trial.tM == \"B\")\n",
    "        trial[\"same\"] = (trial.tM == \"same\")\n",
    "        \n",
    "        trial[\"attract\"] = (trial.tR == \"attract\")\n",
    "        trial[\"none\"] = (trial.tR == \"none\")\n",
    "        trial[\"repel\"] = (trial.tR == \"repel\")\n",
    "        \n",
    "        trial[\"condition\"] = condition_id\n",
    "                \n",
    "        trial.to_hdf(path_or_buf=hdf_path, key=\"trial_\"+str(trial_i))\n",
    "        trial_i += 1"
   ]
  },
  {
   "cell_type": "markdown",
   "metadata": {},
   "source": [
    "## Dividing into train, validation and test trials and add R and theta attribbutes"
   ]
  },
  {
   "cell_type": "code",
   "execution_count": 6,
   "metadata": {},
   "outputs": [],
   "source": [
    "from sklearn.model_selection import train_test_split"
   ]
  },
  {
   "cell_type": "code",
   "execution_count": 7,
   "metadata": {},
   "outputs": [
    {
     "name": "stderr",
     "output_type": "stream",
     "text": [
      "100%|██████████| 10935/10935 [03:59<00:00, 45.65it/s]\n"
     ]
    }
   ],
   "source": [
    "all_trials = read_dataset(\"data/r_passive_trials.h5\")"
   ]
  },
  {
   "cell_type": "code",
   "execution_count": 8,
   "metadata": {},
   "outputs": [],
   "source": [
    "w_to_s = {}\n",
    "\n",
    "for trial in all_trials:       \n",
    "    w_to_s[trial.world_id.iloc[0]] = trial.combined_solution.iloc[0]"
   ]
  },
  {
   "cell_type": "code",
   "execution_count": 9,
   "metadata": {},
   "outputs": [],
   "source": [
    "np.random.seed(37)\n",
    "train_wids, test_wids, train_sols, test_sols = train_test_split(list(w_to_s.keys()), list(w_to_s.values()), stratify=list(w_to_s.values()), test_size=0.5)\n",
    "val_wids, test_wids, val_sols, test_sols = train_test_split(test_wids, test_sols, stratify=test_sols, test_size=0.5)"
   ]
  },
  {
   "cell_type": "code",
   "execution_count": 10,
   "metadata": {},
   "outputs": [
    {
     "name": "stdout",
     "output_type": "stream",
     "text": [
      "same_none       122\n",
      "B_none          122\n",
      "A_none          122\n",
      "A_attract       122\n",
      "B_repel         121\n",
      "same_repel      121\n",
      "A_repel         121\n",
      "B_attract       121\n",
      "same_attract    121\n",
      "dtype: int64\n",
      "B_none          61\n",
      "same_repel      61\n",
      "A_repel         61\n",
      "B_attract       61\n",
      "A_attract       61\n",
      "same_attract    61\n",
      "B_repel         61\n",
      "same_none       60\n",
      "A_none          60\n",
      "dtype: int64\n",
      "same_none       61\n",
      "same_repel      61\n",
      "A_repel         61\n",
      "A_none          61\n",
      "B_attract       61\n",
      "same_attract    61\n",
      "B_repel         61\n",
      "B_none          60\n",
      "A_attract       60\n",
      "dtype: int64\n"
     ]
    }
   ],
   "source": [
    "print(pd.Series(train_sols).value_counts())\n",
    "print(pd.Series(val_sols).value_counts())\n",
    "print(pd.Series(test_sols).value_counts())"
   ]
  },
  {
   "cell_type": "code",
   "execution_count": 14,
   "metadata": {},
   "outputs": [
    {
     "name": "stderr",
     "output_type": "stream",
     "text": [
      "100%|██████████| 10935/10935 [00:56<00:00, 193.73it/s]\n"
     ]
    }
   ],
   "source": [
    "train_trials = []\n",
    "val_trials = []\n",
    "test_trials = []\n",
    "\n",
    "for trial in tqdm(all_trials):\n",
    "    trial = add_r_theta_attributes(trial)\n",
    "\n",
    "    world_id = trial.world_id.unique()[0]\n",
    "    \n",
    "    if world_id in train_wids:\n",
    "        train_trials.append(trial)\n",
    "    elif world_id in val_wids:\n",
    "        val_trials.append(trial)\n",
    "    else:\n",
    "        test_trials.append(trial)"
   ]
  },
  {
   "cell_type": "code",
   "execution_count": 15,
   "metadata": {},
   "outputs": [
    {
     "name": "stderr",
     "output_type": "stream",
     "text": [
      "  0%|          | 8/5465 [00:00<01:09, 78.75it/s]/home/hector/miniconda3/envs/diss/lib/python3.5/site-packages/pandas/core/generic.py:1996: PerformanceWarning: \n",
      "your performance may suffer as PyTables will pickle object types that it cannot\n",
      "map directly to c-types [inferred_type->mixed,key->block3_values] [items->['tM', 'refreshes', 'tR', 'combined_solution']]\n",
      "\n",
      "  return pytables.to_hdf(path_or_buf, key, self, **kwargs)\n",
      "100%|██████████| 5465/5465 [09:48<00:00,  4.85it/s]\n",
      "100%|██████████| 2735/2735 [02:38<00:00,  8.71it/s]\n",
      "100%|██████████| 2735/2735 [02:40<00:00,  8.82it/s]\n"
     ]
    }
   ],
   "source": [
    "train_hdf = \"data/r_train_trials.h5\"\n",
    "val_hdf = \"data/r_val_trials.h5\"\n",
    "test_hdf = \"data/r_test_trials.h5\"\n",
    "\n",
    "save_dataset(train_hdf, train_trials)\n",
    "save_dataset(val_hdf, val_trials)\n",
    "save_dataset(test_hdf, test_trials)"
   ]
  },
  {
   "cell_type": "markdown",
   "metadata": {},
   "source": [
    "hdf_path = \"data/r_passive_trials_no_restart.h5\"\n",
    "trial_id = 0\n",
    "\n",
    "for world_i in tqdm(range(1, 2188)):\n",
    "    rdata_path = \"data/for_hector/passive_simulations/w_%d.rdata\" % world_i\n",
    "    r['load'](rdata_path)\n",
    "    key = r[\"key\"].iloc[world_i -1]\n",
    "    trials = r[\"sim_trials\"]\n",
    "    \n",
    "    \n",
    "    for world_trial in trials:\n",
    "        world_trial = pandas2ri.ri2py_dataframe(world_trial)\n",
    "        world_trial[\"A\"] = np.full(world_trial.shape[0], key.target_heavier == \"A\")\n",
    "        world_trial[\"B\"] = np.full(world_trial.shape[0], key.target_heavier == \"B\")\n",
    "        world_trial[\"same\"] = np.full(world_trial.shape[0], key.target_heavier == \"same\")\n",
    "        \n",
    "        world_trial[\"attract\"] = np.full(world_trial.shape[0], key.target_fAB == 3)\n",
    "        world_trial[\"none\"] = np.full(world_trial.shape[0], key.target_fAB == 0)\n",
    "        world_trial[\"repel\"] = np.full(world_trial.shape[0], key.target_fAB == -3)\n",
    "\n",
    "        world_trial[\"target_fAB\"] = np.full(world_trial.shape[0], key.target_fAB == 3)\n",
    "        world_trial[\"fAC\"] = np.full(world_trial.shape[0], key.fAC == 3)\n",
    "        world_trial[\"fAD\"] = np.full(world_trial.shape[0], key.fAD == 0)\n",
    "        world_trial[\"fBC\"] = np.full(world_trial.shape[0], key.fBC == -3)\n",
    "        world_trial[\"fBD\"] = np.full(world_trial.shape[0], key.fBD == 0)\n",
    "        world_trial[\"fCD\"] = np.full(world_trial.shape[0], key.fCD == -3)\n",
    "\n",
    "        world_trial[\"world_id\"] = np.full(world_trial.shape[0], world_i)\n",
    "        world_trial.to_hdf(hdf_path, key=\"trial_%d\" % trial_id)\n",
    "        \n",
    "        trial_id += 1"
   ]
  }
 ],
 "metadata": {
  "kernelspec": {
   "display_name": "Python 3",
   "language": "python",
   "name": "python3"
  },
  "language_info": {
   "codemirror_mode": {
    "name": "ipython",
    "version": 3
   },
   "file_extension": ".py",
   "mimetype": "text/x-python",
   "name": "python",
   "nbconvert_exporter": "python",
   "pygments_lexer": "ipython3",
   "version": "3.5.6"
  }
 },
 "nbformat": 4,
 "nbformat_minor": 2
}
