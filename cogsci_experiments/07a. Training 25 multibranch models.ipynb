{
 "cells": [
  {
   "cell_type": "code",
   "execution_count": 1,
   "metadata": {},
   "outputs": [],
   "source": [
    "import pandas as pd\n",
    "import numpy as np\n",
    "import torch\n",
    "import torch.utils.data\n",
    "import torch.nn as nn\n",
    "from torch.autograd import Variable\n",
    "from sklearn.model_selection import train_test_split\n",
    "import joblib\n",
    "from tqdm import tqdm\n",
    "import matplotlib.pyplot as plt\n",
    "from copy import deepcopy"
   ]
  },
  {
   "cell_type": "code",
   "execution_count": 2,
   "metadata": {},
   "outputs": [
    {
     "name": "stdout",
     "output_type": "stream",
     "text": [
      "cuda:0\n"
     ]
    }
   ],
   "source": [
    "from isaac.utils import get_cuda_device_if_available, create_directory\n",
    "device = get_cuda_device_if_available()\n",
    "print(device)\n",
    "\n",
    "data_directory = \"train_25_mb_with_js_data/\"\n",
    "create_directory(data_directory)\n",
    "create_directory(\"models/train_25_mb_with_js_data/\")\n",
    "create_directory(\"scalers_js\")"
   ]
  },
  {
   "cell_type": "code",
   "execution_count": 3,
   "metadata": {},
   "outputs": [],
   "source": [
    "from isaac.dataset import read_dataset, prepare_dataset\n",
    "from isaac.utils import plot_confusion_matrix\n",
    "from isaac.constants import BASIC_TRAINING_COLS, FORCE_CLASS_COLS, MASS_CLASS_COLS\n",
    "from isaac.training import training_loop\n",
    "from isaac.models import MultiBranchModel, initialise_model\n",
    "from isaac.evaluation import get_best_model_and_its_accuracy"
   ]
  },
  {
   "cell_type": "code",
   "execution_count": 4,
   "metadata": {},
   "outputs": [],
   "source": [
    "BATCH_SIZE = 128\n",
    "EPOCHS = 60\n",
    "NORMALISE_DATA = True\n",
    "STEP_SIZE = 3\n",
    "SEQ_END = 2700\n",
    "\n",
    "INPUT_DIM = len(BASIC_TRAINING_COLS)    # input dimension\n",
    "HIDDEN_DIM = 25  # hidden layer dimension\n",
    "N_LAYERS = 4     # number of hidden layers\n",
    "OUTPUT_DIM = 3   # output dimension\n",
    "DROPOUT = 0.5\n",
    "\n",
    "network_params = (INPUT_DIM, HIDDEN_DIM, OUTPUT_DIM, DROPOUT)"
   ]
  },
  {
   "cell_type": "markdown",
   "metadata": {},
   "source": [
    "## Read dataset and preprocess it"
   ]
  },
  {
   "cell_type": "code",
   "execution_count": 5,
   "metadata": {},
   "outputs": [
    {
     "name": "stderr",
     "output_type": "stream",
     "text": [
      "100%|██████████| 3500/3500 [00:41<00:00, 84.92it/s]\n",
      "100%|██████████| 1000/1000 [00:12<00:00, 83.06it/s]\n"
     ]
    }
   ],
   "source": [
    "train_trials = read_dataset(\"data/js_train_passive_trials.h5\")\n",
    "val_trials = read_dataset(\"data/js_val_passive_trials.h5\")"
   ]
  },
  {
   "cell_type": "code",
   "execution_count": 6,
   "metadata": {},
   "outputs": [
    {
     "ename": "AttributeError",
     "evalue": "'list' object has no attribute 'head'",
     "output_type": "error",
     "traceback": [
      "\u001b[0;31m---------------------------------------------------------------------------\u001b[0m",
      "\u001b[0;31mAttributeError\u001b[0m                            Traceback (most recent call last)",
      "\u001b[0;32m<ipython-input-6-46dbbe4f825f>\u001b[0m in \u001b[0;36m<module>\u001b[0;34m()\u001b[0m\n\u001b[0;32m----> 1\u001b[0;31m \u001b[0mtrain_trials\u001b[0m\u001b[0;34m.\u001b[0m\u001b[0mhead\u001b[0m\u001b[0;34m(\u001b[0m\u001b[0;34m)\u001b[0m\u001b[0;34m\u001b[0m\u001b[0m\n\u001b[0m",
      "\u001b[0;31mAttributeError\u001b[0m: 'list' object has no attribute 'head'"
     ]
    }
   ],
   "source": [
    "train_trials.head()"
   ]
  },
  {
   "cell_type": "markdown",
   "metadata": {},
   "source": [
    "## Train model and plot loss and accuracy"
   ]
  },
  {
   "cell_type": "code",
   "execution_count": 6,
   "metadata": {
    "scrolled": true
   },
   "outputs": [
    {
     "name": "stderr",
     "output_type": "stream",
     "text": [
      "100%|██████████| 3500/3500 [00:06<00:00, 580.26it/s]\n",
      "100%|██████████| 1000/1000 [00:01<00:00, 652.42it/s]\n",
      "Train_loss: ([0.42116813 0.40227061]) Train_acc: ([82.68571429 75.82857143]) Val_acc: ([62.6 62. ]): 100%|██████████| 60/60 [12:09<00:00, 11.87s/it]\n",
      "Train_loss: ([0.83519296 0.79798467]) Train_acc: ([59.68571429 56.77142857]) Val_acc: ([54.4 54.5]): 100%|██████████| 60/60 [11:46<00:00, 12.21s/it]\n",
      "Train_loss: ([0.37885531 0.3208868 ]) Train_acc: ([83.4        87.02857143]) Val_acc: ([67.2 69.3]): 100%|██████████| 60/60 [11:57<00:00, 11.57s/it]\n",
      "Train_loss: ([0.78588446 0.67491601]) Train_acc: ([64.14285714 57.85714286]) Val_acc: ([56.3 53.5]): 100%|██████████| 60/60 [11:31<00:00, 11.61s/it]\n",
      "Train_loss: ([0.43748533 0.47207051]) Train_acc: ([74.45714286 78.05714286]) Val_acc: ([59.9 61.4]): 100%|██████████| 60/60 [11:44<00:00, 12.07s/it]\n",
      "Train_loss: ([0.34404336 0.59407423]) Train_acc: ([84.57142857 51.2       ]) Val_acc: ([62.4 51.1]): 100%|██████████| 60/60 [11:41<00:00, 11.92s/it]\n",
      "Train_loss: ([0.44283795 0.3393492 ]) Train_acc: ([81.42857143 81.25714286]) Val_acc: ([66.  63.8]): 100%|██████████| 60/60 [11:36<00:00, 11.67s/it]\n",
      "Train_loss: ([0.4171774  0.42787658]) Train_acc: ([81.85714286 71.05714286]) Val_acc: ([64.3 60. ]): 100%|██████████| 60/60 [11:37<00:00, 11.69s/it]\n",
      "Train_loss: ([0.51898954 0.50894592]) Train_acc: ([79.37142857 73.34285714]) Val_acc: ([62.7 60.1]): 100%|██████████| 60/60 [11:37<00:00, 11.61s/it]\n",
      "Train_loss: ([0.70009006 0.63121482]) Train_acc: ([65.8        62.94285714]) Val_acc: ([57.2 57.3]): 100%|██████████| 60/60 [11:35<00:00, 11.79s/it]\n",
      "Train_loss: ([0.36874537 0.33052538]) Train_acc: ([79.91428571 86.17142857]) Val_acc: ([64.1 72.4]): 100%|██████████| 60/60 [11:38<00:00, 11.54s/it]\n",
      "Train_loss: ([0.62084311 0.62103274]) Train_acc: ([69.51428571 69.54285714]) Val_acc: ([61.5 61.8]): 100%|██████████| 60/60 [11:34<00:00, 11.68s/it]\n",
      "Train_loss: ([0.69195146 0.69962075]) Train_acc: ([68.68571429 69.82857143]) Val_acc: ([61.6 62. ]): 100%|██████████| 60/60 [11:31<00:00, 11.68s/it]\n",
      "Train_loss: ([0.65387456 0.55827739]) Train_acc: ([72.05714286 72.4       ]) Val_acc: ([59.4 60.3]): 100%|██████████| 60/60 [11:37<00:00, 11.65s/it]\n",
      "Train_loss: ([0.71996446 0.65757935]) Train_acc: ([66.28571429 60.54285714]) Val_acc: ([59.4 58.3]): 100%|██████████| 60/60 [11:39<00:00, 11.77s/it]\n",
      "Train_loss: ([0.63131311 0.62460842]) Train_acc: ([69.8        61.97142857]) Val_acc: ([57.5 54.3]): 100%|██████████| 60/60 [11:43<00:00, 11.73s/it]\n",
      "Train_loss: ([0.52531034 0.51743642]) Train_acc: ([77.11428571 72.31428571]) Val_acc: ([58.8 58.5]): 100%|██████████| 60/60 [11:41<00:00, 11.70s/it]\n",
      "Train_loss: ([0.36904352 0.31843064]) Train_acc: ([81.02857143 85.74285714]) Val_acc: ([65.8 64.5]): 100%|██████████| 60/60 [11:40<00:00, 11.48s/it]\n",
      "Train_loss: ([0.38268398 0.36079075]) Train_acc: ([80.4        82.85714286]) Val_acc: ([63.2 64.5]): 100%|██████████| 60/60 [11:33<00:00, 11.71s/it]\n",
      "Train_loss: ([0.83990068 0.87180258]) Train_acc: ([58.11428571 46.82857143]) Val_acc: ([53.8 46.6]): 100%|██████████| 60/60 [11:37<00:00, 11.54s/it]\n",
      "Train_loss: ([0.37783497 0.32364422]) Train_acc: ([86.88571429 83.82857143]) Val_acc: ([61.9 59.3]): 100%|██████████| 60/60 [11:33<00:00, 11.43s/it]\n",
      "Train_loss: ([0.79356288 0.83582539]) Train_acc: ([63.31428571 52.74285714]) Val_acc: ([57.8 53.3]): 100%|██████████| 60/60 [11:31<00:00, 11.46s/it]\n",
      "Train_loss: ([0.81483325 0.6976492 ]) Train_acc: ([61.54285714 50.82857143]) Val_acc: ([53.8 49.1]): 100%|██████████| 60/60 [11:27<00:00, 11.67s/it]\n",
      "Train_loss: ([0.49791231 0.57746626]) Train_acc: ([78.6 71. ]) Val_acc: ([62.5 58.7]): 100%|██████████| 60/60 [11:33<00:00, 11.61s/it]              \n",
      "Train_loss: ([0.49371921 0.39466887]) Train_acc: ([74.97142857 74.14285714]) Val_acc: ([62.7 55.5]): 100%|██████████| 60/60 [11:31<00:00, 11.38s/it]\n"
     ]
    }
   ],
   "source": [
    "N_MODELS = 25\n",
    "\n",
    "stats_dfs = []\n",
    "loaders, scaler = prepare_dataset([train_trials, val_trials], \n",
    "                                  class_columns=[list(MASS_CLASS_COLS), list(FORCE_CLASS_COLS)], \n",
    "                                  multiclass=True,\n",
    "                                  batch_size=BATCH_SIZE, normalise_data=NORMALISE_DATA,\n",
    "                                  device=device)\n",
    "\n",
    "\n",
    "for seed in range(N_MODELS):\n",
    "    df = pd.DataFrame()\n",
    "\n",
    "    model, error, optimizer = initialise_model(network_params, lr=0.01, seed=seed, device=device, arch=MultiBranchModel)\n",
    "    epoch_losses, epoch_accuracies, [best_mass_model, best_force_model] = training_loop(model, optimizer, \n",
    "                                                                                        error,\n",
    "                                                                                        loaders[0], loaders[1], \n",
    "                                                                                        EPOCHS, seq_end=SEQ_END,\n",
    "                                                                                        step_size=STEP_SIZE,\n",
    "                                                                                        multibranch=True)\n",
    "\n",
    "    torch.save(best_mass_model.state_dict(), \"models/train_25_mb_with_js_data/best_mass_model_seed_%d.pt\" % seed)\n",
    "    torch.save(best_force_model.state_dict(), \"models/train_25_mb_with_js_data/best_force_model_seed_%d.pt\" % seed)\n",
    "    \n",
    "    \n",
    "    train_accuracies = np.array(epoch_accuracies[0])\n",
    "    val_accuracies = np.array(epoch_accuracies[1]) \n",
    "    \n",
    "    df[\"Epoch\"] = np.arange(EPOCHS)\n",
    "    df[\"Mass Loss\"] = epoch_losses[:, 0]\n",
    "    df[\"Force Loss\"] = epoch_losses[:, 1]\n",
    "    df[\"Mass Train Accuracy\"] = train_accuracies[:, 0]\n",
    "    df[\"Mass Val Accuracy\"] = val_accuracies[:, 0]\n",
    "    df[\"Force Train Accuracy\"] = train_accuracies[:, 1]\n",
    "    df[\"Force Val Accuracy\"] = val_accuracies[:,1]\n",
    "    df[\"seed\"] = str(seed)\n",
    "    stats_dfs.append(df)\n",
    "        \n",
    "stats = pd.concat(stats_dfs)\n",
    "stats.to_hdf(data_directory+\"stats.h5\", key=\"stats\")"
   ]
  },
  {
   "cell_type": "markdown",
   "metadata": {},
   "source": [
    "## Save model and scaler"
   ]
  },
  {
   "cell_type": "code",
   "execution_count": 7,
   "metadata": {},
   "outputs": [
    {
     "data": {
      "text/plain": [
       "['scalers_js/passive_dual_scaler.sk']"
      ]
     },
     "execution_count": 7,
     "metadata": {},
     "output_type": "execute_result"
    }
   ],
   "source": [
    "joblib.dump(scaler, \"scalers_js/passive_dual_scaler.sk\")"
   ]
  }
 ],
 "metadata": {
  "kernelspec": {
   "display_name": "Python 3",
   "language": "python",
   "name": "python3"
  },
  "language_info": {
   "codemirror_mode": {
    "name": "ipython",
    "version": 3
   },
   "file_extension": ".py",
   "mimetype": "text/x-python",
   "name": "python",
   "nbconvert_exporter": "python",
   "pygments_lexer": "ipython3",
   "version": "3.5.6"
  }
 },
 "nbformat": 4,
 "nbformat_minor": 2
}
