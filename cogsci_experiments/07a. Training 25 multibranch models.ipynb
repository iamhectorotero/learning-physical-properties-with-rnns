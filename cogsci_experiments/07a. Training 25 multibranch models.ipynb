{
 "cells": [
  {
   "cell_type": "code",
   "execution_count": 1,
   "metadata": {},
   "outputs": [],
   "source": [
    "import pandas as pd\n",
    "import numpy as np\n",
    "import torch\n",
    "import torch.utils.data\n",
    "import torch.nn as nn\n",
    "from torch.autograd import Variable\n",
    "from sklearn.model_selection import train_test_split\n",
    "import joblib\n",
    "from tqdm import tqdm\n",
    "import matplotlib.pyplot as plt\n",
    "from copy import deepcopy"
   ]
  },
  {
   "cell_type": "code",
   "execution_count": 2,
   "metadata": {},
   "outputs": [
    {
     "name": "stdout",
     "output_type": "stream",
     "text": [
      "cuda:0\n"
     ]
    }
   ],
   "source": [
    "from isaac.utils import get_cuda_device_if_available, create_directory\n",
    "device = get_cuda_device_if_available()\n",
    "print(device)\n",
    "\n",
    "data_directory = \"train_25_mb/\"\n",
    "create_directory(data_directory)\n",
    "create_directory(\"models/train_25_mb/\")\n",
    "create_directory(\"scalers\")"
   ]
  },
  {
   "cell_type": "code",
   "execution_count": 3,
   "metadata": {},
   "outputs": [],
   "source": [
    "from isaac.dataset import read_dataset, prepare_dataset\n",
    "from isaac.utils import plot_confusion_matrix\n",
    "from isaac.constants import BASIC_TRAINING_COLS, FORCE_CLASS_COLS, MASS_CLASS_COLS\n",
    "from isaac.training import training_loop\n",
    "from isaac.models import MultiBranchModel, initialise_model\n",
    "from isaac.evaluation import get_best_model_and_its_accuracy"
   ]
  },
  {
   "cell_type": "code",
   "execution_count": 4,
   "metadata": {},
   "outputs": [],
   "source": [
    "BATCH_SIZE = 128\n",
    "EPOCHS = 60\n",
    "NORMALISE_DATA = True\n",
    "STEP_SIZE = 3\n",
    "SEQ_END = 2700\n",
    "\n",
    "INPUT_DIM = len(BASIC_TRAINING_COLS)    # input dimension\n",
    "HIDDEN_DIM = 25  # hidden layer dimension\n",
    "N_LAYERS = 4     # number of hidden layers\n",
    "OUTPUT_DIM = 3   # output dimension\n",
    "DROPOUT = 0.5\n",
    "\n",
    "network_params = (INPUT_DIM, HIDDEN_DIM, OUTPUT_DIM, DROPOUT)"
   ]
  },
  {
   "cell_type": "markdown",
   "metadata": {},
   "source": [
    "## Read dataset and preprocess it"
   ]
  },
  {
   "cell_type": "code",
   "execution_count": 5,
   "metadata": {},
   "outputs": [
    {
     "name": "stderr",
     "output_type": "stream",
     "text": [
      "100%|██████████| 3500/3500 [00:31<00:00, 110.96it/s]\n",
      "100%|██████████| 1000/1000 [00:08<00:00, 112.97it/s]\n"
     ]
    }
   ],
   "source": [
    "train_trials = read_dataset(\"data/train_passive_trials.h5\")\n",
    "val_trials = read_dataset(\"data/val_passive_trials.h5\")"
   ]
  },
  {
   "cell_type": "markdown",
   "metadata": {},
   "source": [
    "## Train model and plot loss and accuracy"
   ]
  },
  {
   "cell_type": "code",
   "execution_count": 6,
   "metadata": {
    "scrolled": true
   },
   "outputs": [
    {
     "name": "stderr",
     "output_type": "stream",
     "text": [
      "100%|██████████| 3500/3500 [00:04<00:00, 737.15it/s]\n",
      "100%|██████████| 1000/1000 [00:01<00:00, 724.57it/s]\n",
      "Train_loss: ([0.45567036 0.58159053]) Train_acc: ([80.68571429 72.94285714]) Val_acc: ([65.6 65.9]): 100%|██████████| 60/60 [12:33<00:00, 12.42s/it]\n",
      "Train_loss: ([0.90741879 0.94689551]) Train_acc: ([52.57142857 46.08571429]) Val_acc: ([48.8 47.3]): 100%|██████████| 60/60 [12:25<00:00, 12.41s/it]\n",
      "Train_loss: ([0.61590621 0.57603539]) Train_acc: ([72.77142857 70.77142857]) Val_acc: ([65.  59.1]): 100%|██████████| 60/60 [12:24<00:00, 12.44s/it]\n",
      "Train_loss: ([0.65550695 0.70963457]) Train_acc: ([69.11428571 62.28571429]) Val_acc: ([61.6 59.5]): 100%|██████████| 60/60 [12:26<00:00, 12.44s/it]\n",
      "Train_loss: ([0.44278081 0.51179188]) Train_acc: ([74.91428571 71.54285714]) Val_acc: ([60.6 56.9]): 100%|██████████| 60/60 [12:25<00:00, 12.41s/it]\n",
      "Train_loss: ([0.4865056  0.49947382]) Train_acc: ([79.31428571 71.54285714]) Val_acc: ([64.5 63. ]): 100%|██████████| 60/60 [12:23<00:00, 12.40s/it]\n",
      "Train_loss: ([0.3280748  0.37600666]) Train_acc: ([88.02857143 81.57142857]) Val_acc: ([64.  66.3]): 100%|██████████| 60/60 [12:25<00:00, 12.40s/it]\n",
      "Train_loss: ([0.48069986 0.60344118]) Train_acc: ([78.88571429 70.62857143]) Val_acc: ([62.5 59.4]): 100%|██████████| 60/60 [12:24<00:00, 12.41s/it]\n",
      "Train_loss: ([0.6118789  0.64221652]) Train_acc: ([72.17142857 61.        ]) Val_acc: ([58.1 52.1]): 100%|██████████| 60/60 [12:24<00:00, 12.40s/it]\n",
      "Train_loss: ([0.83615471 0.80986485]) Train_acc: ([57.4 53.8]) Val_acc: ([52.1 49.2]): 100%|██████████| 60/60 [12:24<00:00, 12.41s/it]              \n",
      "Train_loss: ([0.29472132 0.3184498 ]) Train_acc: ([88.17142857 82.05714286]) Val_acc: ([67.5 70.6]): 100%|██████████| 60/60 [12:24<00:00, 12.39s/it]\n",
      "Train_loss: ([0.37735598 0.45264335]) Train_acc: ([83.28571429 77.77142857]) Val_acc: ([63.3 68.1]): 100%|██████████| 60/60 [12:24<00:00, 12.40s/it]\n",
      "Train_loss: ([0.88180822 0.94543431]) Train_acc: ([56.28571429 46.22857143]) Val_acc: ([55.6 44.9]): 100%|██████████| 60/60 [12:23<00:00, 12.41s/it]\n",
      "Train_loss: ([0.75778912 0.80176793]) Train_acc: ([64.17142857 61.17142857]) Val_acc: ([60.3 55. ]): 100%|██████████| 60/60 [12:23<00:00, 12.40s/it]\n",
      "Train_loss: ([0.31865803 0.38020669]) Train_acc: ([83.68571429 79.11428571]) Val_acc: ([63.  64.3]): 100%|██████████| 60/60 [12:24<00:00, 12.38s/it]\n",
      "Train_loss: ([0.86463614 0.88650153]) Train_acc: ([56.17142857 51.91428571]) Val_acc: ([54.3 50.2]): 100%|██████████| 60/60 [12:23<00:00, 12.39s/it]\n",
      "Train_loss: ([0.59230414 0.69307667]) Train_acc: ([72.94285714 64.31428571]) Val_acc: ([58.6 56.1]): 100%|██████████| 60/60 [12:23<00:00, 12.40s/it]\n",
      "Train_loss: ([0.64221201 0.7022047 ]) Train_acc: ([67.91428571 54.11428571]) Val_acc: ([56.8 48.3]): 100%|██████████| 60/60 [12:23<00:00, 12.39s/it]\n",
      "Train_loss: ([0.32282758 0.32940718]) Train_acc: ([84.42857143 85.        ]) Val_acc: ([61.2 64.8]): 100%|██████████| 60/60 [12:23<00:00, 12.39s/it]\n",
      "Train_loss: ([0.80363462 0.84718424]) Train_acc: ([60.02857143 50.71428571]) Val_acc: ([58.2 49.7]): 100%|██████████| 60/60 [12:23<00:00, 12.39s/it]\n",
      "Train_loss: ([0.31447507 0.31581323]) Train_acc: ([81.51428571 83.6       ]) Val_acc: ([64.1 69.2]): 100%|██████████| 60/60 [12:23<00:00, 12.41s/it]\n",
      "Train_loss: ([0.45950357 0.5931114 ]) Train_acc: ([82.48571429 71.02857143]) Val_acc: ([61.8 56.4]): 100%|██████████| 60/60 [12:23<00:00, 12.40s/it]\n",
      "Train_loss: ([0.7794108  0.81594457]) Train_acc: ([59.97142857 58.48571429]) Val_acc: ([57.8 55.6]): 100%|██████████| 60/60 [12:23<00:00, 12.39s/it]\n",
      "Train_loss: ([0.58830623 0.70476493]) Train_acc: ([73.82857143 63.71428571]) Val_acc: ([59.2 57.9]): 100%|██████████| 60/60 [12:23<00:00, 12.39s/it]\n",
      "Train_loss: ([0.61986626 0.66007667]) Train_acc: ([69.22857143 54.17142857]) Val_acc: ([57.3 49.7]): 100%|██████████| 60/60 [12:23<00:00, 12.37s/it]\n"
     ]
    }
   ],
   "source": [
    "N_MODELS = 25\n",
    "\n",
    "stats_dfs = []\n",
    "loaders, scaler = prepare_dataset([train_trials, val_trials], \n",
    "                                  class_columns=[list(MASS_CLASS_COLS), list(FORCE_CLASS_COLS)], \n",
    "                                  multiclass=True,\n",
    "                                  batch_size=BATCH_SIZE, normalise_data=NORMALISE_DATA,\n",
    "                                  device=device)\n",
    "\n",
    "\n",
    "for seed in range(N_MODELS):\n",
    "    df = pd.DataFrame()\n",
    "\n",
    "    model, error, optimizer = initialise_model(network_params, lr=0.01, seed=seed, device=device, arch=MultiBranchModel)\n",
    "    epoch_losses, epoch_accuracies, [best_mass_model, best_force_model] = training_loop(model, optimizer, \n",
    "                                                                                        error,\n",
    "                                                                                        loaders[0], loaders[1], \n",
    "                                                                                        EPOCHS, seq_end=SEQ_END,\n",
    "                                                                                        step_size=STEP_SIZE,\n",
    "                                                                                        multibranch=True)\n",
    "\n",
    "    torch.save(best_mass_model.state_dict(), \"models/train_25_mb/best_mass_model_seed_%d.pt\" % seed)\n",
    "    torch.save(best_force_model.state_dict(), \"models/train_25_mb/best_force_model_seed_%d.pt\" % seed)\n",
    "    \n",
    "    \n",
    "    train_accuracies = np.array(epoch_accuracies[0])\n",
    "    val_accuracies = np.array(epoch_accuracies[1]) \n",
    "    \n",
    "    df[\"Epoch\"] = np.arange(EPOCHS)\n",
    "    df[\"Mass Loss\"] = epoch_losses[:, 0]\n",
    "    df[\"Force Loss\"] = epoch_losses[:, 1]\n",
    "    df[\"Mass Train Accuracy\"] = train_accuracies[:, 0]\n",
    "    df[\"Mass Val Accuracy\"] = val_accuracies[:, 0]\n",
    "    df[\"Force Train Accuracy\"] = train_accuracies[:, 1]\n",
    "    df[\"Force Val Accuracy\"] = val_accuracies[:,1]\n",
    "    df[\"seed\"] = str(seed)\n",
    "    stats_dfs.append(df)\n",
    "        \n",
    "stats = pd.concat(stats_dfs)\n",
    "stats.to_hdf(data_directory+\"stats.h5\", key=\"stats\")"
   ]
  },
  {
   "cell_type": "markdown",
   "metadata": {},
   "source": [
    "## Save model and scaler"
   ]
  },
  {
   "cell_type": "code",
   "execution_count": 7,
   "metadata": {},
   "outputs": [
    {
     "data": {
      "text/plain": [
       "['scalers/passive_dual_scaler.sk']"
      ]
     },
     "execution_count": 7,
     "metadata": {},
     "output_type": "execute_result"
    }
   ],
   "source": [
    "joblib.dump(scaler, \"scalers/passive_dual_scaler.sk\")"
   ]
  }
 ],
 "metadata": {
  "kernelspec": {
   "display_name": "Python 3",
   "language": "python",
   "name": "python3"
  },
  "language_info": {
   "codemirror_mode": {
    "name": "ipython",
    "version": 3
   },
   "file_extension": ".py",
   "mimetype": "text/x-python",
   "name": "python",
   "nbconvert_exporter": "python",
   "pygments_lexer": "ipython3",
   "version": "3.5.6"
  }
 },
 "nbformat": 4,
 "nbformat_minor": 2
}
