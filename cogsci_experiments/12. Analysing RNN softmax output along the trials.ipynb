{
 "cells": [
  {
   "cell_type": "markdown",
   "metadata": {},
   "source": [
    "# Question to be answered:\n",
    "\n",
    "- Is the accuracy of model/human significantly better? In both force and mass questions?\n",
    "- Is the distribution of responses significantly different?"
   ]
  },
  {
   "cell_type": "code",
   "execution_count": 1,
   "metadata": {},
   "outputs": [],
   "source": [
    "import isaac.constants\n",
    "isaac.constants.TQDM_DISABLE = True\n",
    "\n",
    "from torch import nn\n",
    "from torch.nn import Softmax\n",
    "from isaac.utils import get_cuda_device_if_available\n",
    "import joblib\n",
    "\n",
    "from isaac.dataset import read_dataset, prepare_dataset\n",
    "from isaac.models import MultiBranchModel, ComplexRNNModel\n",
    "from isaac.constants import BASIC_TRAINING_COLS, MASS_CLASS_COLS, FORCE_CLASS_COLS\n",
    "from isaac.evaluation import predict_with_a_group_of_saved_models, evaluate_saved_model\n",
    "from isaac.statistical_tests import z_test\n",
    "\n",
    "import torch\n",
    "import glob\n",
    "from torch.autograd import Variable\n",
    "import numpy as np\n",
    "import pandas as pd\n",
    "from tqdm import tqdm\n"
   ]
  },
  {
   "cell_type": "code",
   "execution_count": 2,
   "metadata": {},
   "outputs": [],
   "source": [
    "INTERVAL_SIZE = 1\n",
    "FPS = 60\n",
    "STEP_SIZE = 3\n",
    "PD_STEP_SIZE = 10\n",
    "SEQ_END = 2700"
   ]
  },
  {
   "cell_type": "code",
   "execution_count": 3,
   "metadata": {},
   "outputs": [
    {
     "name": "stdout",
     "output_type": "stream",
     "text": [
      "cuda:0\n"
     ]
    }
   ],
   "source": [
    "device = get_cuda_device_if_available()\n",
    "print(device)"
   ]
  },
  {
   "cell_type": "code",
   "execution_count": 4,
   "metadata": {},
   "outputs": [],
   "source": [
    "normalise_data = True\n",
    "scaler_path = \"scalers_js/passive_dual_scaler.sk\"\n",
    "network_dims = (len(BASIC_TRAINING_COLS), 25, 3, 0.5)\n",
    "dataset_path = \"../new_exp_data/exp7_passive.h5\"\n",
    "class_columns = [list(MASS_CLASS_COLS), list(FORCE_CLASS_COLS)]\n",
    "multiclass = True\n",
    "\n",
    "def get_question_predictions_for_group_of_models(question_type):    \n",
    "    models = sorted(glob.glob(\"models/train_25_mb_with_js_data/best_\"+question_type+\"_model_seed_*.pt\"))\n",
    "\n",
    "    group_predictions = []\n",
    "    \n",
    "    predictions = predict_with_a_group_of_saved_models(tqdm(models), network_dims, dataset_path, \n",
    "                                                       training_columns=BASIC_TRAINING_COLS, \n",
    "                                                       class_columns=class_columns, step_size=STEP_SIZE, \n",
    "                                                       seq_end=SEQ_END, scaler_path=scaler_path,\n",
    "                                                       arch=MultiBranchModel, multiclass=multiclass, trials=None,\n",
    "                                                       predict_seq2seq=True)\n",
    "\n",
    "    predictions = torch.stack(predictions)\n",
    "    \n",
    "    print(predictions.shape)\n",
    "    if question_type == \"mass\":\n",
    "        predictions = predictions[:, :, :, 0]\n",
    "    else:\n",
    "        predictions = predictions[:, :, :, 1]\n",
    "\n",
    "    return predictions\n",
    "\n",
    "def get_question_accuracy_for_group_of_models(question_type):    \n",
    "    model_paths = tqdm(sorted(glob.glob(\"models/train_25_mb_with_js_data/best_\"+question_type+\"_model_seed_*.pt\")))\n",
    "\n",
    "    accuracies, predicted = evaluate_saved_model(model_paths, network_dims, dataset_path, \n",
    "                                                 training_columns=BASIC_TRAINING_COLS, class_columns=class_columns, \n",
    "                                                 step_size=STEP_SIZE, seq_end=SEQ_END, scaler_path=scaler_path,\n",
    "                                                 arch=MultiBranchModel, multiclass=multiclass, trials=None)\n",
    "    \n",
    "    if question_type == \"mass\":\n",
    "        question_index = 0\n",
    "    else:\n",
    "        question_index = 1\n",
    "\n",
    "    accuracies = np.stack(accuracies)[:, question_index]\n",
    "    \n",
    "    predicted = [x[:, question_index].numpy() for x in predicted]\n",
    "\n",
    "    return accuracies, predicted\n",
    "\n",
    "def get_participant_accuracy(passive_responses, answer_column, question_type_answer):\n",
    "    return [(df[answer_column] == df[question_type_answer]).sum() / len(df) \n",
    "            for _, df in passive_responses.groupby(\"cond_worldvar\")]\n",
    "\n",
    "def get_participant_accuracy_filtering_by_answer(passive_responses, answer_column, question_type_answer, filter_by_class):\n",
    "    \n",
    "    passive_responses = passive_responses.copy().query(question_type_answer+\" == \"+filter_by_class)\n",
    "    \n",
    "    return [(df[answer_column] == df[question_type_answer]).sum() / len(df) \n",
    "            for _, df in passive_responses.groupby(\"cond_worldvar\")]"
   ]
  },
  {
   "cell_type": "markdown",
   "metadata": {},
   "source": [
    "# T-test for MASS questions"
   ]
  },
  {
   "cell_type": "markdown",
   "metadata": {},
   "source": [
    "## Load model's predictions"
   ]
  },
  {
   "cell_type": "code",
   "execution_count": 5,
   "metadata": {
    "scrolled": true
   },
   "outputs": [
    {
     "name": "stderr",
     "output_type": "stream",
     "text": [
      "\r",
      "  0%|          | 0/25 [00:00<?, ?it/s]"
     ]
    },
    {
     "name": "stdout",
     "output_type": "stream",
     "text": [
      "MASS\n"
     ]
    },
    {
     "name": "stderr",
     "output_type": "stream",
     "text": [
      "100%|██████████| 25/25 [00:13<00:00,  2.06it/s]\n",
      "  0%|          | 0/25 [00:00<?, ?it/s]"
     ]
    },
    {
     "name": "stdout",
     "output_type": "stream",
     "text": [
      "torch.Size([25, 36, 45, 2, 3])\n",
      "\n",
      "FORCE\n"
     ]
    },
    {
     "name": "stderr",
     "output_type": "stream",
     "text": [
      "100%|██████████| 25/25 [00:12<00:00,  2.12it/s]"
     ]
    },
    {
     "name": "stdout",
     "output_type": "stream",
     "text": [
      "torch.Size([25, 36, 45, 2, 3])\n"
     ]
    },
    {
     "name": "stderr",
     "output_type": "stream",
     "text": [
      "\n"
     ]
    }
   ],
   "source": [
    "print(\"MASS\")\n",
    "question_type = \"mass\"\n",
    "group_mass_seq_prediction = get_question_predictions_for_group_of_models(question_type)\n",
    "\n",
    "print(\"\\nFORCE\")\n",
    "question_type = \"force\"\n",
    "group_force_seq_prediction = get_question_predictions_for_group_of_models(question_type)"
   ]
  },
  {
   "cell_type": "code",
   "execution_count": 6,
   "metadata": {},
   "outputs": [],
   "source": [
    "s = Softmax(dim=-1)\n",
    "group_force_seq_prediction = s(group_force_seq_prediction)\n",
    "group_mass_seq_prediction = s(group_mass_seq_prediction)"
   ]
  },
  {
   "cell_type": "code",
   "execution_count": 7,
   "metadata": {},
   "outputs": [],
   "source": [
    "sim_second = [i for _ in range(25) for _ in range(36) for i in range(1, 46)]\n",
    "model_seed = [i for i in range(25) for _ in range(36) for _ in range(1, 46)]\n",
    "trial_number = [i for _ in range(25) for i in range(36) for _ in range(1, 46)]"
   ]
  },
  {
   "cell_type": "code",
   "execution_count": 15,
   "metadata": {},
   "outputs": [],
   "source": [
    "mass_df = pd.DataFrame(data=group_mass_seq_prediction.reshape(40500, 3).numpy(), \n",
    "                       columns=[\"rnn_A\", \"rnn_B\", \"rnn_same\"])\n",
    "mass_df[\"sim_second\"] = sim_second\n",
    "mass_df[\"model_seed\"] = model_seed\n",
    "mass_df[\"trial_number\"] = trial_number"
   ]
  },
  {
   "cell_type": "code",
   "execution_count": 11,
   "metadata": {},
   "outputs": [
    {
     "name": "stderr",
     "output_type": "stream",
     "text": [
      "\r",
      "  0%|          | 0/25 [00:00<?, ?it/s]"
     ]
    },
    {
     "name": "stdout",
     "output_type": "stream",
     "text": [
      "MASS\n"
     ]
    },
    {
     "name": "stderr",
     "output_type": "stream",
     "text": [
      "100%|██████████| 25/25 [00:12<00:00,  2.15it/s]\n",
      "  0%|          | 0/25 [00:00<?, ?it/s]"
     ]
    },
    {
     "name": "stdout",
     "output_type": "stream",
     "text": [
      "\n",
      "FORCE\n"
     ]
    },
    {
     "name": "stderr",
     "output_type": "stream",
     "text": [
      "100%|██████████| 25/25 [00:12<00:00,  2.00it/s]\n"
     ]
    }
   ],
   "source": [
    "print(\"MASS\")\n",
    "question_type = \"mass\"\n",
    "mass_accuracies, group_mass_prediction = get_question_accuracy_for_group_of_models(question_type)\n",
    "\n",
    "print(\"\\nFORCE\")\n",
    "question_type = \"force\"\n",
    "force_accuracies, group_force_prediction = get_question_accuracy_for_group_of_models(question_type)"
   ]
  },
  {
   "cell_type": "code",
   "execution_count": 42,
   "metadata": {},
   "outputs": [
    {
     "data": {
      "text/plain": [
       "(50.88888888888889, 59.555555555555564)"
      ]
     },
     "execution_count": 42,
     "metadata": {},
     "output_type": "execute_result"
    }
   ],
   "source": [
    "np.mean(mass_accuracies), np.mean(force_accuracies)"
   ]
  },
  {
   "cell_type": "code",
   "execution_count": 12,
   "metadata": {},
   "outputs": [],
   "source": [
    "from scipy.stats import mode\n",
    "\n",
    "mode_mass_prediction = mode(np.stack(group_mass_prediction), axis=0)[0][0]\n",
    "mode_force_prediction = mode(np.stack(group_force_prediction), axis=0)[0][0]"
   ]
  },
  {
   "cell_type": "code",
   "execution_count": 13,
   "metadata": {},
   "outputs": [],
   "source": [
    "import matplotlib.pyplot as plt"
   ]
  },
  {
   "cell_type": "code",
   "execution_count": 45,
   "metadata": {},
   "outputs": [],
   "source": [
    "def get_trial_dataframes(mass_predictions, force_predictions, mass_answers, force_answers):\n",
    "    all_trials = []\n",
    "        \n",
    "    for (mass_trial_predictions, \n",
    "         force_trial_predictions, \n",
    "         mass_trial_answer, \n",
    "         force_trial_answer) in zip(mass_predictions, force_predictions, mass_answers, force_answers):\n",
    "        \n",
    "        rnn_class_columns = [\"rnn_\" + cl for cl in list(MASS_CLASS_COLS) + list(FORCE_CLASS_COLS)]\n",
    "        all_predictions = torch.cat((mass_trial_predictions, force_trial_predictions), dim=1).numpy()\n",
    "        trial_df = pd.DataFrame(all_predictions, columns=rnn_class_columns)\n",
    "                \n",
    "        trial_df[\"mode_mass_answer\"] = np.repeat(MASS_CLASS_COLS[mass_trial_answer], repeats=trial_df.shape[0])\n",
    "        trial_df[\"mode_force_answer\"] = np.repeat(FORCE_CLASS_COLS[force_trial_answer], repeats=trial_df.shape[0])\n",
    "\n",
    "        all_trials.append(trial_df)\n",
    "    \n",
    "    return all_trials"
   ]
  },
  {
   "cell_type": "code",
   "execution_count": null,
   "metadata": {},
   "outputs": [],
   "source": [
    "all_trials = get_trial_dataframes(mean_seq_mass_prediction, mean_seq_force_prediction, mode_mass_prediction, mode_force_prediction)"
   ]
  },
  {
   "cell_type": "code",
   "execution_count": 16,
   "metadata": {},
   "outputs": [],
   "source": [
    "import json"
   ]
  },
  {
   "cell_type": "code",
   "execution_count": 17,
   "metadata": {},
   "outputs": [],
   "source": [
    "condition_world_variant = []\n",
    "world_id = []\n",
    "\n",
    "for condition_id in range(1, 5):\n",
    "    filename = \"../new_exp_data/physics_data%d.json\" % condition_id\n",
    "    fd = open(filename)\n",
    "    sim_data = json.load(fd)\n",
    "    \n",
    "    for sim in sim_data:\n",
    "        if sim[\"practice\"]:\n",
    "            continue\n",
    "        condition_world_variant.append(sim[\"condition_world_variant\"])\n",
    "        world_id.append(sim[\"world_id\"])"
   ]
  },
  {
   "cell_type": "code",
   "execution_count": 18,
   "metadata": {},
   "outputs": [
    {
     "ename": "NameError",
     "evalue": "name 'all_trials' is not defined",
     "output_type": "error",
     "traceback": [
      "\u001b[0;31m---------------------------------------------------------------------------\u001b[0m",
      "\u001b[0;31mNameError\u001b[0m                                 Traceback (most recent call last)",
      "\u001b[0;32m<ipython-input-18-aef637386210>\u001b[0m in \u001b[0;36m<module>\u001b[0;34m()\u001b[0m\n\u001b[0;32m----> 1\u001b[0;31m \u001b[0;32mfor\u001b[0m \u001b[0mtrial\u001b[0m\u001b[0;34m,\u001b[0m \u001b[0mcwv\u001b[0m\u001b[0;34m,\u001b[0m \u001b[0mw_id\u001b[0m \u001b[0;32min\u001b[0m \u001b[0mzip\u001b[0m\u001b[0;34m(\u001b[0m\u001b[0mall_trials\u001b[0m\u001b[0;34m,\u001b[0m \u001b[0mcondition_world_variant\u001b[0m\u001b[0;34m,\u001b[0m \u001b[0mworld_id\u001b[0m\u001b[0;34m)\u001b[0m\u001b[0;34m:\u001b[0m\u001b[0;34m\u001b[0m\u001b[0m\n\u001b[0m\u001b[1;32m      2\u001b[0m     \u001b[0mtrial\u001b[0m\u001b[0;34m[\u001b[0m\u001b[0;34m\"condition_world_variant\"\u001b[0m\u001b[0;34m]\u001b[0m \u001b[0;34m=\u001b[0m \u001b[0mcwv\u001b[0m\u001b[0;34m\u001b[0m\u001b[0m\n\u001b[1;32m      3\u001b[0m     \u001b[0mtrial\u001b[0m\u001b[0;34m[\u001b[0m\u001b[0;34m\"world_id\"\u001b[0m\u001b[0;34m]\u001b[0m \u001b[0;34m=\u001b[0m \u001b[0mw_id\u001b[0m\u001b[0;34m\u001b[0m\u001b[0m\n",
      "\u001b[0;31mNameError\u001b[0m: name 'all_trials' is not defined"
     ]
    }
   ],
   "source": [
    "for trial, cwv, w_id in zip(all_trials, condition_world_variant, world_id):\n",
    "    trial[\"condition_world_variant\"] = cwv\n",
    "    trial[\"world_id\"] = w_id"
   ]
  },
  {
   "cell_type": "markdown",
   "metadata": {},
   "source": [
    "## Load human results"
   ]
  },
  {
   "cell_type": "code",
   "execution_count": null,
   "metadata": {},
   "outputs": [],
   "source": [
    "from rpy2.robjects import r, pandas2ri\n",
    "pandas2ri.activate()"
   ]
  },
  {
   "cell_type": "code",
   "execution_count": null,
   "metadata": {},
   "outputs": [],
   "source": [
    "rdata_path = \"../new_exp_data/e7_passive_io_rtheta.rdata\"\n",
    "r['load'](rdata_path)\n",
    "\n",
    "responses = r[\"tw\"].query(\"practice == 0\")\n",
    "responses.trial_type = responses.trial_type.astype(int)\n",
    "responses.world_id = responses.world_id.astype(int)"
   ]
  },
  {
   "cell_type": "code",
   "execution_count": null,
   "metadata": {},
   "outputs": [],
   "source": [
    "responses[['post_ent_mass.rtheta', 'post_ent_rel.rtheta']].head()"
   ]
  },
  {
   "cell_type": "code",
   "execution_count": null,
   "metadata": {
    "scrolled": true
   },
   "outputs": [],
   "source": [
    "force_answers = []\n",
    "mass_answers = []\n",
    "\n",
    "for trial in all_trials:\n",
    "    this_trial_responses = responses[responses.world_id == trial.world_id.unique()[0]]\n",
    "    \n",
    "    assert this_trial_responses.true_mass.nunique() == 1\n",
    "    assert this_trial_responses.true_rel.nunique() == 1\n",
    "    \n",
    "    force_answer = this_trial_responses.true_rel.unique()[0]\n",
    "    trial[\"true_rel\"] = force_answer\n",
    "    mass_answer = this_trial_responses.true_mass.unique()[0]\n",
    "    trial[\"true_mass\"] = mass_answer\n",
    "    \n",
    "    force_columns = [\"rnn_\"+cl for cl in FORCE_CLASS_COLS]\n",
    "    trial[\"is_rnn_force_correct\"] = trial[\"mode_force_answer\"].unique()[0] == force_answer\n",
    "    mass_columns = [\"rnn_\"+cl for cl in MASS_CLASS_COLS]                          \n",
    "    trial[\"is_rnn_mass_correct\"] = trial[\"mode_mass_answer\"].unique()[0] == mass_answer\n",
    "    \n",
    "    force_answers.append(trial[\"mode_force_answer\"].unique()[0] == force_answer)\n",
    "    mass_answers.append( trial[\"mode_mass_answer\"].unique()[0] == mass_answer)\n",
    "    \n",
    "    trial[\"model_correct_force_answer_probability\"] = trial[\"rnn_\"+force_answer]\n",
    "    trial[\"model_correct_mass_answer_probability\"] = trial[\"rnn_\"+mass_answer]"
   ]
  },
  {
   "cell_type": "code",
   "execution_count": null,
   "metadata": {},
   "outputs": [],
   "source": [
    "np.mean(mass_answers), np.mean(force_answers)"
   ]
  },
  {
   "cell_type": "code",
   "execution_count": null,
   "metadata": {},
   "outputs": [],
   "source": [
    "import glob\n",
    "trials_pd_paths = sorted(glob.glob(\"../new_exp_data/pd_summaries/pd_summaries/cv*tt*.rdata\"))\n",
    "\n",
    "trial_pds = []\n",
    "\n",
    "for path in trials_pd_paths:\n",
    "    r['load'](path)\n",
    "    trial = r['df.ext']\n",
    "    trial.frame = np.arange(10, 2710, 10).tolist() * 4\n",
    "    trial_pds.append(trial)    "
   ]
  },
  {
   "cell_type": "code",
   "execution_count": null,
   "metadata": {},
   "outputs": [],
   "source": [
    "from scipy.stats import spearmanr"
   ]
  },
  {
   "cell_type": "code",
   "execution_count": null,
   "metadata": {
    "scrolled": true
   },
   "outputs": [],
   "source": [
    "correlation_dfs = []\n",
    "\n",
    "for trial_pd, rnn_trial in zip(trial_pds, all_trials):\n",
    "    \n",
    "    window_size = int(FPS * INTERVAL_SIZE / PD_STEP_SIZE)\n",
    "    pd_seq_end = SEQ_END // PD_STEP_SIZE\n",
    "    \n",
    "    pd_mass = trial_pd[[\"frame\", \"pd.mass.xyrtheta\"]].groupby(\"frame\").agg({\"pd.mass.xyrtheta\": np.mean})\n",
    "    pd_mass = pd_mass[\"pd.mass.xyrtheta\"].rolling(window=window_size).mean().values[window_size-1::window_size]\n",
    "\n",
    "    pd_force = trial_pd[[\"frame\", \"pd.rel.xyrtheta\"]].groupby(\"frame\").agg({\"pd.rel.xyrtheta\": np.mean})\n",
    "    pd_force = pd_force[:pd_seq_end]\n",
    "    pd_force = pd_force[\"pd.rel.xyrtheta\"].rolling(window=window_size).mean().values[window_size-1::window_size]\n",
    "    \n",
    "    rnn_mass_correct_answer_probability = rnn_trial[\"model_correct_mass_answer_probability\"].values    \n",
    "    rnn_force_correct_answer_probability = rnn_trial[\"model_correct_force_answer_probability\"].values\n",
    "    \n",
    "    force_class = rnn_trial.true_rel.unique()[0]\n",
    "    force_class_id = FORCE_CLASS_COLS.index(force_class)\n",
    "    mass_class = rnn_trial.true_mass.unique()[0]\n",
    "    mass_class_id = MASS_CLASS_COLS.index(mass_class)\n",
    "    \n",
    "    \n",
    "    \n",
    "    df = pd.DataFrame(columns=[\"second\", \"pd_mass\", \"pd_force\", \"mass_corr\", \"force_corr\", \"model_correct_mass_answer_probability\", \"model_correct_force_answer_probability\"])\n",
    "    df.pd_mass = pd_mass\n",
    "    df.pd_force = pd_force\n",
    "    df.true_rel = force_class\n",
    "    df.true_mass = mass_class\n",
    "    df.is_mass_correct = rnn_trial.mode_mass_answer.unique()[0] == df.true_mass\n",
    "    df.is_force_correct = rnn_trial.mode_force_answer.unique()[0] == df.true_rel\n",
    "\n",
    "    df[\"model_correct_mass_answer_probability\"] = rnn_mass_correct_answer_probability\n",
    "    df[\"model_correct_force_answer_probability\"] = rnn_force_correct_answer_probability\n",
    "    \n",
    "    df.second = np.arange(INTERVAL_SIZE, 45+INTERVAL_SIZE, INTERVAL_SIZE)\n",
    "    df.set_index(\"second\", inplace=True)\n",
    "        \n",
    "    df.mass_corr = np.corrcoef(df.pd_mass, rnn_mass_correct_answer_probability)[0][1]\n",
    "    df.force_corr = np.corrcoef(df.pd_force, rnn_force_correct_answer_probability)[0][1]\n",
    "    \n",
    "    correlation_dfs.append(df)"
   ]
  },
  {
   "cell_type": "code",
   "execution_count": null,
   "metadata": {},
   "outputs": [],
   "source": [
    "corr_df = [[df.true_mass, df.mass_corr.unique()[0], df.is_mass_correct, \n",
    "            df.true_rel, df.force_corr.unique()[0], df.is_force_correct] for df in correlation_dfs]\n",
    "\n",
    "corr_df = pd.DataFrame(data=corr_df, columns=[\"true_mass\", \"mass_corr\", \"is_mass_correct\",\n",
    "                                              \"true_rel\", \"force_corr\", \"is_force_correct\"])"
   ]
  },
  {
   "cell_type": "code",
   "execution_count": null,
   "metadata": {},
   "outputs": [],
   "source": [
    "axes = corr_df.boxplot(column=\"mass_corr\", by=\"true_mass\", showfliers=False, figsize=(12, 6))\n",
    "axes.get_figure().suptitle(\"\")\n",
    "plt.title(\"\")\n",
    "plt.ylabel(\"Correlation\", fontsize=30, fontweight=\"bold\")\n",
    "plt.xlabel(\"Mass class\", fontsize=30, fontweight=\"bold\")\n",
    "plt.tick_params(axis='both', labelsize=25)\n",
    "\n",
    "axes.set_xticklabels(MASS_CLASS_COLS, fontweight='bold')\n",
    "axes.set_yticks(np.arange(-10, 10, 2) / 10)\n",
    "axes.set_yticklabels(np.arange(-10, 10, 2) / 10, fontweight='bold')\n",
    "\n",
    "label = \"\"\n",
    "for i in range(1, 4):    \n",
    "    if i == 3:\n",
    "        label = \"RNN is correct\"\n",
    "    \n",
    "    y = corr_df.mass_corr[(corr_df.true_mass == MASS_CLASS_COLS[i - 1]) & (corr_df.is_mass_correct)]\n",
    "    x = np.random.normal(i, 0.055, size=len(y))\n",
    "    plt.plot(x, y, 'b.', alpha=0.7, label=label, markersize=25)\n",
    "    \n",
    "    if i == 3:\n",
    "        label = \"RNN is wrong\"\n",
    "    \n",
    "    y = corr_df.mass_corr[(corr_df.true_mass == MASS_CLASS_COLS[i - 1]) & (~corr_df.is_mass_correct)]\n",
    "    x = np.random.normal(i, 0.055, size=len(y))\n",
    "    plt.plot(x, y, 'rx', alpha=0.7, label=label, markersize=12, mew=5)\n",
    "\n",
    "plt.legend(fontsize=25, prop={'size': 20, 'weight':'bold'})\n",
    "plt.tight_layout()\n",
    "# plt.savefig(\"cogsci_images/mass_corr_PD.pdf\")\n",
    "# plt.savefig(\"cogsci_images/mass_corr_PD.jpg\")\n",
    "    \n",
    "    \n",
    "axes = corr_df.boxplot(column=\"force_corr\", by=\"true_rel\", showfliers=False, figsize=(12, 6))\n",
    "axes.get_figure().suptitle(\"\")\n",
    "plt.title(\"\")\n",
    "plt.ylabel(\"Correlation\", fontsize=30, fontweight=\"bold\")\n",
    "plt.xlabel(\"Force class\", fontsize=30, fontweight=\"bold\")\n",
    "plt.tick_params(axis='both', labelsize=25)\n",
    "\n",
    "axes.set_xticklabels(FORCE_CLASS_COLS, fontweight='bold')\n",
    "axes.set_yticks(np.arange(-10, 10, 2) / 10)\n",
    "axes.set_yticklabels(np.arange(-10, 10, 2) / 10, fontweight='bold')\n",
    "\n",
    "\n",
    "label = \"\"\n",
    "for i in range(1, 4):    \n",
    "    if i == 3:\n",
    "        label = \"RNN is correct\"\n",
    "    \n",
    "    y = corr_df.force_corr[(corr_df.true_rel == FORCE_CLASS_COLS[i - 1]) & (corr_df.is_force_correct)]\n",
    "    x = np.random.normal(i, 0.055, size=len(y))\n",
    "    plt.plot(x, y, 'b.', alpha=0.7, label=label, markersize=25)\n",
    "    \n",
    "    if i == 3:\n",
    "        label = \"RNN is wrong\"\n",
    "    \n",
    "    y = corr_df.force_corr[(corr_df.true_rel == FORCE_CLASS_COLS[i - 1]) & (~corr_df.is_force_correct)]\n",
    "    x = np.random.normal(i, 0.055, size=len(y))\n",
    "    plt.plot(x, y, 'rx', alpha=0.7, label=label, markersize=12, mew=5)\n",
    "\n",
    "plt.legend(fontsize=25, prop={'size': 20, 'weight':'bold'})\n",
    "plt.tight_layout()\n",
    "# plt.savefig(\"cogsci_images/force_corr_PD.pdf\")\n",
    "# plt.savefig(\"cogsci_images/force_corr_PD.jpg\")"
   ]
  },
  {
   "cell_type": "code",
   "execution_count": null,
   "metadata": {},
   "outputs": [],
   "source": [
    "from isaac.visualization import make_frame_curried\n",
    "import moviepy.editor as mpy\n",
    "\n",
    "def make_clip(trial_data):\n",
    "\n",
    "    duration = len(trial_data)\n",
    "\n",
    "    n_bodies = sum([\"o\"+str(i)+\".x\" in list(trial_data.columns) for i in range(1, 5)])\n",
    "    \n",
    "    while (len(trial_data) + 1) % 60 != 0:\n",
    "        trial_data = trial_data.append(trial_data.iloc[-1], ignore_index=True)\n",
    "    make_frame = make_frame_curried(trial_data, n_bodies)\n",
    "    clip = mpy.VideoClip(make_frame, duration=duration / 60)\n",
    "    return clip, trial_data\n",
    "\n",
    "replays = read_dataset(\"../new_exp_data/exp7_passive.h5\")\n",
    "clips = [make_clip(replay)[0] for replay in replays]"
   ]
  },
  {
   "cell_type": "code",
   "execution_count": null,
   "metadata": {},
   "outputs": [],
   "source": [
    "def plot_information_curves_and_get_display(clips, correlation_dfs, question_type, idx):\n",
    "\n",
    "    clips_and_corrs = sorted(zip(clips, correlation_dfs), key=lambda x: x[1][question_type+\"_corr\"].unique()[0], reverse=True)\n",
    "    \n",
    "    true_class = clips_and_corrs[idx][1].true_mass\n",
    "    if question_type == \"force\":\n",
    "        true_class = clips_and_corrs[idx][1].true_rel\n",
    "    \n",
    "    how = []\n",
    "    for df in correlation_dfs:\n",
    "        a = df[\"pd_\"+question_type]\n",
    "        b = df[\"model_correct_\"+question_type+\"_answer_probability\"]\n",
    "        how.append((a - b).mean())\n",
    "        \n",
    "    ws = 1\n",
    "    f = plt.figure(figsize=(12, 6))\n",
    "    ax = f.gca()\n",
    "\n",
    "    clips_and_corrs[idx][1][\"pd_\"+question_type].rolling(window=ws).sum()[ws-1:].plot(label=\"PD \"+question_type, linewidth=5, ax=ax)\n",
    "    clips_and_corrs[idx][1][\"model_correct_\"+question_type+\"_answer_probability\"].rolling(window=ws).sum()[ws-1:].plot(label=\"RNN \"+ question_type+\" Int. Inf.\", linewidth=5, ax=ax)\n",
    "    print(true_class+ \" \" + str(clips_and_corrs[idx][1][question_type+\"_corr\"].unique()[0]))\n",
    "    \n",
    "    ax.legend(fontsize=20, prop={'size': 25, 'weight':'bold'})\n",
    "    ax.set_xticks(np.arange(0, 46, 5))\n",
    "    ax.set_xticklabels(np.arange(0, 46, 5), fontweight=\"bold\")\n",
    "\n",
    "    ax.set_yticks(np.arange(0, 11, 1) / 10)\n",
    "    ax.set_yticklabels(np.arange(0, 11, 1) / 10, fontweight=\"bold\")               \n",
    "\n",
    "    ax.set_xlabel(\"second\", fontsize=30, fontweight=\"bold\")\n",
    "    ax.grid()\n",
    "\n",
    "    return clips_and_corrs[idx][0]\n",
    "        # return "
   ]
  },
  {
   "cell_type": "code",
   "execution_count": null,
   "metadata": {
    "scrolled": false
   },
   "outputs": [],
   "source": [
    "replay = plot_information_curves_and_get_display(clips, correlation_dfs, \"force\", 0)\n",
    "plt.tick_params(axis=\"both\", labelsize=25)\n",
    "plt.tight_layout()\n",
    "plt.savefig(\"cogsci_images/force_PD_RNN_good_example.pdf\")\n",
    "plt.savefig(\"cogsci_images/force_PD_RNN_good_example.jpg\")\n",
    "plt.show()\n",
    "# replay.write_videofile(\"cogsci_images/force_PD_RNN_good_example.mp4\", fps=24)\n",
    "\n",
    "replay = plot_information_curves_and_get_display(clips, correlation_dfs, \"force\", -1)\n",
    "plt.tick_params(axis=\"both\", labelsize=25)\n",
    "plt.tight_layout()\n",
    "plt.savefig(\"cogsci_images/force_PD_RNN_bad_example.pdf\")\n",
    "plt.savefig(\"cogsci_images/force_PD_RNN_bad_example.jpg\")\n",
    "plt.show()\n",
    "# replay.write_videofile(\"cogsci_images/force_PD_RNN_bad_example.mp4\", fps=24)\n",
    "\n",
    "replay = plot_information_curves_and_get_display(clips, correlation_dfs, \"mass\", 0)\n",
    "plt.tick_params(axis=\"both\", labelsize=25)\n",
    "plt.tight_layout()\n",
    "plt.savefig(\"cogsci_images/mass_PD_RNN_good_example.pdf\")\n",
    "plt.savefig(\"cogsci_images/mass_PD_RNN_good_example.jpg\")\n",
    "plt.show()\n",
    "# replay.write_videofile(\"cogsci_images/mass_PD_RNN_good_example.mp4\", fps=24)\n",
    "\n",
    "\n",
    "replay = plot_information_curves_and_get_display(clips, correlation_dfs, \"mass\", -1)\n",
    "plt.tick_params(axis=\"both\", labelsize=25)\n",
    "plt.tight_layout()\n",
    "plt.savefig(\"cogsci_images/mass_PD_RNN_bad_example.pdf\")\n",
    "plt.savefig(\"cogsci_images/mass_PD_RNN_bad_example.jpg\")\n",
    "# replay.write_videofile(\"cogsci_images/mass_PD_RNN_bad_example.mp4\", fps=24)"
   ]
  },
  {
   "cell_type": "code",
   "execution_count": null,
   "metadata": {
    "scrolled": false
   },
   "outputs": [],
   "source": [
    "nrows = 12\n",
    "ncols = 36 // nrows\n",
    "\n",
    "f, axis = plt.subplots(nrows, ncols, figsize=(25, 40))\n",
    "\n",
    "question_type = \"force\"\n",
    "\n",
    "correlation_dfs = sorted(correlation_dfs, key=lambda x: (x.true_rel, x[question_type+\"_corr\"].unique()[0]), reverse=True)\n",
    "\n",
    "for i, df in enumerate(correlation_dfs):\n",
    "    \n",
    "    row = i // nrows\n",
    "    col = i % nrows\n",
    "    \n",
    "    if df.is_force_correct:\n",
    "        is_rnn_correct = \"RNN is correct\"\n",
    "    else:\n",
    "        is_rnn_correct = \"RNN is wrong\"\n",
    "          \n",
    "    title = \"Corr: %.3f // %s\" % (df.force_corr.unique()[0], is_rnn_correct)\n",
    "    if col == 0:\n",
    "        title = df.true_rel + \"\\n\" + title\n",
    "\n",
    "    axis[col][row].set_title(title, fontsize=25)\n",
    "    df[\"pd_\"+question_type].plot(ax=axis[col][row])\n",
    "    df[\"model_correct_force_answer_probability\"].plot(ax=axis[col][row])\n",
    "\n",
    "plt.tight_layout()\n",
    "plt.savefig(\"cogsci_images/all_PD_IER_force_plots.pdf\")\n",
    "plt.savefig(\"cogsci_images/all_PD_IER_force_plots.jpg\")"
   ]
  },
  {
   "cell_type": "code",
   "execution_count": null,
   "metadata": {
    "scrolled": false
   },
   "outputs": [],
   "source": [
    "nrows = 12\n",
    "ncols = 36 // nrows\n",
    "\n",
    "f, axis = plt.subplots(nrows, ncols, figsize=(25, 40))\n",
    "\n",
    "question_type = \"mass\"\n",
    "\n",
    "correlation_dfs = sorted(correlation_dfs, key=lambda x: (x.true_mass, x[question_type+\"_corr\"].unique()[0]), reverse=True)\n",
    "\n",
    "\n",
    "for i, df in enumerate(correlation_dfs):\n",
    "        \n",
    "    row = i // nrows\n",
    "    col = i % nrows\n",
    "    \n",
    "    if df.is_mass_correct:\n",
    "        is_rnn_correct = \"RNN is correct\"\n",
    "    else:\n",
    "        is_rnn_correct = \"RNN is wrong\"\n",
    "          \n",
    "    title = \"Corr: %.3f // %s\" % (df.mass_corr.unique()[0], is_rnn_correct)\n",
    "    if col == 0:\n",
    "        title = df.true_mass + \"\\n\" + title\n",
    "\n",
    "    axis[col][row].set_title(title, fontsize=25)\n",
    "    df[\"pd_\"+question_type].plot(ax=axis[col][row])\n",
    "    df[\"model_correct_mass_answer_probability\"].plot(ax=axis[col][row])\n",
    "\n",
    "plt.tight_layout()\n",
    "plt.savefig(\"cogsci_images/all_PD_IER_mass_plots.pdf\")\n",
    "plt.savefig(\"cogsci_images/all_PD_IER_mass_plots.jpg\")"
   ]
  }
 ],
 "metadata": {
  "kernelspec": {
   "display_name": "Python 3",
   "language": "python",
   "name": "python3"
  },
  "language_info": {
   "codemirror_mode": {
    "name": "ipython",
    "version": 3
   },
   "file_extension": ".py",
   "mimetype": "text/x-python",
   "name": "python",
   "nbconvert_exporter": "python",
   "pygments_lexer": "ipython3",
   "version": "3.5.6"
  }
 },
 "nbformat": 4,
 "nbformat_minor": 2
}
