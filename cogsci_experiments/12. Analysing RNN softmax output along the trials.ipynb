{
 "cells": [
  {
   "cell_type": "markdown",
   "metadata": {},
   "source": [
    "# Question to be answered:\n",
    "\n",
    "- Is the accuracy of model/human significantly better? In both force and mass questions?\n",
    "- Is the distribution of responses significantly different?"
   ]
  },
  {
   "cell_type": "code",
   "execution_count": 1,
   "metadata": {},
   "outputs": [],
   "source": [
    "import isaac.constants\n",
    "isaac.constants.TQDM_DISABLE = True\n",
    "\n",
    "from torch import nn\n",
    "from torch.nn import Softmax\n",
    "from isaac.utils import get_cuda_device_if_available\n",
    "import joblib\n",
    "\n",
    "from isaac.dataset import read_dataset, prepare_dataset\n",
    "from isaac.models import MultiBranchModel, ComplexRNNModel\n",
    "from isaac.constants import BASIC_TRAINING_COLS, MASS_CLASS_COLS, FORCE_CLASS_COLS, RTHETA_COLS, XY_RTHETA_COLS, XY_VXVY_RTHETA_COLS\n",
    "from isaac.evaluation import predict_with_a_group_of_saved_models, evaluate_saved_model\n",
    "from isaac.statistical_tests import z_test\n",
    "\n",
    "import torch\n",
    "import glob\n",
    "from torch.autograd import Variable\n",
    "import numpy as np\n",
    "import pandas as pd\n",
    "from tqdm import tqdm\n"
   ]
  },
  {
   "cell_type": "code",
   "execution_count": 2,
   "metadata": {},
   "outputs": [],
   "source": [
    "INTERVAL_SIZE = 1\n",
    "FPS = 60\n",
    "STEP_SIZE = 3\n",
    "PD_STEP_SIZE = 10\n",
    "SEQ_END = 2700"
   ]
  },
  {
   "cell_type": "code",
   "execution_count": 3,
   "metadata": {},
   "outputs": [
    {
     "name": "stdout",
     "output_type": "stream",
     "text": [
      "cpu\n"
     ]
    }
   ],
   "source": [
    "device = get_cuda_device_if_available()\n",
    "print(device)"
   ]
  },
  {
   "cell_type": "code",
   "execution_count": 4,
   "metadata": {},
   "outputs": [],
   "source": [
    "normalise_data = True\n",
    "scaler_path = \"scalers/passive_rtheta_scaler.sk\"\n",
    "network_dims = (len(RTHETA_COLS), 25, 3, 0.5)\n",
    "dataset_path = \"../new_exp_data/exp7_passive_rtheta.h5\"\n",
    "class_columns = [list(MASS_CLASS_COLS), list(FORCE_CLASS_COLS)]\n",
    "multiclass = True\n",
    "DATASET = read_dataset(dataset_path)\n",
    "\n",
    "\n",
    "def get_question_predictions_for_group_of_models(question_type):    \n",
    "    models = sorted(glob.glob(\"models/rtheta/best_\"+question_type+\"_model_seed_*.pt\"))\n",
    "\n",
    "    group_predictions = []\n",
    "    \n",
    "    predictions = predict_with_a_group_of_saved_models(tqdm(models), network_dims, None, \n",
    "                                                       training_columns=RTHETA_COLS, \n",
    "                                                       class_columns=class_columns, step_size=STEP_SIZE, \n",
    "                                                       seq_end=SEQ_END, scaler_path=scaler_path,\n",
    "                                                       arch=MultiBranchModel, multiclass=multiclass, trials=DATASET,\n",
    "                                                       predict_seq2seq=True)\n",
    "\n",
    "    predictions = torch.stack(predictions)\n",
    "    \n",
    "    print(predictions.shape)\n",
    "    if question_type == \"mass\":\n",
    "        predictions = predictions[:, :, :, 0]\n",
    "    else:\n",
    "        predictions = predictions[:, :, :, 1]\n",
    "\n",
    "    return predictions\n",
    "\n",
    "def get_question_accuracy_for_group_of_models(question_type):    \n",
    "    model_paths = tqdm(sorted(glob.glob(\"models/rtheta/best_\"+question_type+\"_model_seed_*.pt\")))\n",
    "\n",
    "    accuracies, predicted = evaluate_saved_model(model_paths, network_dims, dataset_path, \n",
    "                                                 training_columns=RTHETA_COLS, class_columns=class_columns, \n",
    "                                                 step_size=STEP_SIZE, seq_end=SEQ_END, scaler_path=scaler_path,\n",
    "                                                 arch=MultiBranchModel, multiclass=multiclass, trials=None)\n",
    "    \n",
    "    if question_type == \"mass\":\n",
    "        question_index = 0\n",
    "    else:\n",
    "        question_index = 1\n",
    "\n",
    "    accuracies = np.stack(accuracies)[:, question_index]\n",
    "    \n",
    "    predicted = [x[:, question_index].numpy() for x in predicted]\n",
    "\n",
    "    return accuracies, predicted"
   ]
  },
  {
   "cell_type": "markdown",
   "metadata": {},
   "source": [
    "# T-test for MASS questions"
   ]
  },
  {
   "cell_type": "markdown",
   "metadata": {},
   "source": [
    "## Load model's predictions"
   ]
  },
  {
   "cell_type": "code",
   "execution_count": 5,
   "metadata": {
    "scrolled": true
   },
   "outputs": [
    {
     "name": "stderr",
     "output_type": "stream",
     "text": [
      "\r",
      "  0%|          | 0/25 [00:00<?, ?it/s]"
     ]
    },
    {
     "name": "stdout",
     "output_type": "stream",
     "text": [
      "MASS\n"
     ]
    },
    {
     "name": "stderr",
     "output_type": "stream",
     "text": [
      "/home/hector/miniconda3/envs/diss/lib/python3.5/site-packages/sklearn/base.py:318: UserWarning: Trying to unpickle estimator StandardScaler from version 0.23.2 when using version 0.22.2.post1. This might lead to breaking code or invalid results. Use at your own risk.\n",
      "  UserWarning)\n",
      "100%|██████████| 25/25 [00:13<00:00,  1.80it/s]\n",
      "  0%|          | 0/25 [00:00<?, ?it/s]/home/hector/miniconda3/envs/diss/lib/python3.5/site-packages/sklearn/base.py:318: UserWarning: Trying to unpickle estimator StandardScaler from version 0.23.2 when using version 0.22.2.post1. This might lead to breaking code or invalid results. Use at your own risk.\n",
      "  UserWarning)\n"
     ]
    },
    {
     "name": "stdout",
     "output_type": "stream",
     "text": [
      "torch.Size([25, 36, 45, 2, 3])\n",
      "\n",
      "FORCE\n"
     ]
    },
    {
     "name": "stderr",
     "output_type": "stream",
     "text": [
      "100%|██████████| 25/25 [00:11<00:00,  2.16it/s]"
     ]
    },
    {
     "name": "stdout",
     "output_type": "stream",
     "text": [
      "torch.Size([25, 36, 45, 2, 3])\n"
     ]
    },
    {
     "name": "stderr",
     "output_type": "stream",
     "text": [
      "\n"
     ]
    }
   ],
   "source": [
    "print(\"MASS\")\n",
    "question_type = \"mass\"\n",
    "group_mass_seq_prediction = get_question_predictions_for_group_of_models(question_type)\n",
    "\n",
    "print(\"\\nFORCE\")\n",
    "question_type = \"force\"\n",
    "group_force_seq_prediction = get_question_predictions_for_group_of_models(question_type)"
   ]
  },
  {
   "cell_type": "code",
   "execution_count": 6,
   "metadata": {
    "scrolled": true
   },
   "outputs": [],
   "source": [
    "mass_solutions = [trial[list(MASS_CLASS_COLS)].idxmax(axis=1).unique()[0] for trial in DATASET]\n",
    "force_solutions = [trial[list(FORCE_CLASS_COLS)].idxmax(axis=1).unique()[0] for trial in DATASET]"
   ]
  },
  {
   "cell_type": "code",
   "execution_count": 7,
   "metadata": {},
   "outputs": [],
   "source": [
    "s = Softmax(dim=-1)\n",
    "group_force_seq_prediction = s(group_force_seq_prediction)\n",
    "group_mass_seq_prediction = s(group_mass_seq_prediction)"
   ]
  },
  {
   "cell_type": "code",
   "execution_count": 8,
   "metadata": {},
   "outputs": [],
   "source": [
    "sim_second = [i for _ in range(25) for _ in range(36) for i in range(1, 46)]\n",
    "model_seed = [i for i in range(25) for _ in range(36) for _ in range(1, 46)]\n",
    "trial_number = [i for _ in range(25) for i in range(36) for _ in range(1, 46)]"
   ]
  },
  {
   "cell_type": "code",
   "execution_count": 9,
   "metadata": {},
   "outputs": [],
   "source": [
    "mass_df = pd.DataFrame(data=group_mass_seq_prediction.reshape(40500, 3).numpy(), \n",
    "                       columns=[\"rnn_%s\" % cl for cl in MASS_CLASS_COLS])\n",
    "mass_df[\"sim_second\"] = sim_second\n",
    "mass_df[\"model_seed\"] = model_seed\n",
    "mass_df[\"trial_number\"] = trial_number\n",
    "mass_df[\"solution\"] = [mass_solutions[trial_id] for trial_id in trial_number]\n",
    "\n",
    "force_df = pd.DataFrame(data=group_force_seq_prediction.reshape(40500, 3).numpy(), \n",
    "                       columns=[\"rnn_%s\" % cl for cl in FORCE_CLASS_COLS])\n",
    "force_df[\"sim_second\"] = sim_second\n",
    "force_df[\"model_seed\"] = model_seed\n",
    "force_df[\"trial_number\"] = trial_number\n",
    "force_df[\"solution\"] = [force_solutions[trial_id] for trial_id in trial_number]"
   ]
  },
  {
   "cell_type": "code",
   "execution_count": 10,
   "metadata": {},
   "outputs": [],
   "source": [
    "import matplotlib.pyplot as plt\n",
    "import seaborn as sns\n",
    "\n",
    "sns.set(font_scale=3)\n",
    "sns.set_style(\"white\")"
   ]
  },
  {
   "cell_type": "markdown",
   "metadata": {},
   "source": [
    "# Plot all Force probabilities throughout the trials"
   ]
  },
  {
   "cell_type": "code",
   "execution_count": 14,
   "metadata": {},
   "outputs": [],
   "source": [
    "for trial_i in range(force_df[\"trial_number\"].max() + 1):\n",
    "    trial_df = force_df.query(\"trial_number == %d\" % trial_i)\n",
    "    \n",
    "    plt.figure(figsize=(40, 6))\n",
    "           \n",
    "    ax = sns.lineplot(y=\"rnn_attract\", x=\"sim_second\", data=trial_df, linewidth=20, label=\"attract\", markers=True)    \n",
    "    ax = sns.lineplot(y=\"rnn_repel\", x=\"sim_second\", data=trial_df, ax=ax, linewidth=20, label=\"repel\")    \n",
    "    ax = sns.lineplot(y=\"rnn_none\", x=\"sim_second\", data=trial_df, ax=ax, linewidth=20, label=\"none\")\n",
    "    sns.despine(ax=ax)\n",
    "    \n",
    "    ax.set_ylabel(\"RNN probability\", weight=\"bold\")\n",
    "    ax.set_yticks([0, 0.5, 1])\n",
    "    ax.set_yticklabels(ax.get_yticks(), weight=\"bold\")\n",
    "    ax.set_xlim(0, 45)\n",
    "    ax.set_xticklabels([])\n",
    "    ax.set_xlabel(\"\")\n",
    "    ax.legend(loc=2, prop={'weight':'bold'})\n",
    "    \n",
    "    solution = trial_df.solution.unique()[0]\n",
    "    if solution == \"attract\":\n",
    "        ax.lines[1].set_linestyle(\"--\")\n",
    "        ax.lines[2].set_linestyle(\"--\")\n",
    "    elif solution == \"repel\":\n",
    "        ax.lines[0].set_linestyle(\"--\")\n",
    "        ax.lines[2].set_linestyle(\"--\")\n",
    "    else:\n",
    "        ax.lines[0].set_linestyle(\"--\")\n",
    "        ax.lines[1].set_linestyle(\"--\")        \n",
    "        \n",
    "    plt.savefig(\"cogsci_images/RNN_all_prob_force_plot_%d.png\" % trial_i, bbox_inches='tight')\n",
    "    plt.close()"
   ]
  },
  {
   "cell_type": "markdown",
   "metadata": {},
   "source": [
    "# Plot all Mass probabilities throughout the trials"
   ]
  },
  {
   "cell_type": "code",
   "execution_count": null,
   "metadata": {},
   "outputs": [],
   "source": [
    "for trial_i in range(mass_df[\"trial_number\"].max() + 1):\n",
    "    trial_df = mass_df.query(\"trial_number == %d\" % trial_i)\n",
    "    plt.figure(figsize=(40, 6))\n",
    "           \n",
    "    ax = sns.lineplot(y=\"rnn_A\", x=\"sim_second\", data=trial_df, linewidth=20, label=\"A\", markers=True)    \n",
    "    ax = sns.lineplot(y=\"rnn_B\", x=\"sim_second\", data=trial_df, ax=ax, linewidth=20, label=\"B\")    \n",
    "    ax = sns.lineplot(y=\"rnn_same\", x=\"sim_second\", data=trial_df, ax=ax, linewidth=20, label=\"same\")\n",
    "    sns.despine(ax=ax)\n",
    "    \n",
    "    ax.set_ylabel(\"RNN probability\", weight=\"bold\")\n",
    "    ax.set_yticks([0, 0.5, 1])\n",
    "    ax.set_yticklabels(ax.get_yticks(), weight=\"bold\")\n",
    "    ax.set_xlim(0, 45)\n",
    "    ax.set_xticklabels([])\n",
    "    ax.set_xlabel(\"\")\n",
    "    ax.legend(loc=2, prop={'weight':'bold'})\n",
    "    \n",
    "    solution = trial_df.solution.unique()[0]\n",
    "    if solution == \"A\":\n",
    "        ax.lines[1].set_linestyle(\"--\")\n",
    "        ax.lines[2].set_linestyle(\"--\")\n",
    "    elif solution == \"B\":\n",
    "        ax.lines[0].set_linestyle(\"--\")\n",
    "        ax.lines[2].set_linestyle(\"--\")\n",
    "    else:\n",
    "        ax.lines[0].set_linestyle(\"--\")\n",
    "        ax.lines[1].set_linestyle(\"--\")        \n",
    "        \n",
    "    plt.savefig(\"cogsci_images/RNN_all_prob_mass_plot_%d.png\" % trial_i, bbox_inches='tight')\n",
    "    plt.close()"
   ]
  },
  {
   "cell_type": "markdown",
   "metadata": {},
   "source": [
    "## Load human results"
   ]
  },
  {
   "cell_type": "code",
   "execution_count": 11,
   "metadata": {},
   "outputs": [
    {
     "name": "stdout",
     "output_type": "stream",
     "text": [
      "pygame 1.9.6\n",
      "Hello from the pygame community. https://www.pygame.org/contribute.html\n"
     ]
    }
   ],
   "source": [
    "from isaac.visualization import make_frame_curried\n",
    "import moviepy.editor as mpy\n",
    "from scipy import misc\n",
    "\n",
    "\n",
    "def make_clip(trial_data, probability_path, entropy_path):\n",
    "    probability_image = misc.imread(probability_path)\n",
    "    probability_image = misc.imresize(probability_image, 25)\n",
    "    \n",
    "    entropy_image = misc.imread(entropy_path)\n",
    "    entropy_image = misc.imresize(entropy_image, 25)\n",
    "        \n",
    "    duration = len(trial_data)\n",
    "\n",
    "    n_bodies = sum([\"o\"+str(i)+\".x\" in list(trial_data.columns) for i in range(1, 5)])\n",
    "    \n",
    "    while (len(trial_data) + 1) % 60 != 0:\n",
    "        trial_data = trial_data.append(trial_data.iloc[-1], ignore_index=True)\n",
    "    make_frame = make_frame_curried(trial_data, n_bodies, probability_image, entropy_image)\n",
    "    clip = mpy.VideoClip(make_frame, duration=duration / 60)\n",
    "    return clip, trial_data"
   ]
  },
  {
   "cell_type": "code",
   "execution_count": 12,
   "metadata": {},
   "outputs": [],
   "source": [
    "%load_ext autoreload\n",
    "%autoreload 2"
   ]
  },
  {
   "cell_type": "markdown",
   "metadata": {},
   "source": [
    "# Create videos for comparing evidence seen by RNN and by IO"
   ]
  },
  {
   "cell_type": "code",
   "execution_count": null,
   "metadata": {},
   "outputs": [],
   "source": [
    "probability_paths = [\"cogsci_images/RNN_all_prob_mass_plot_%d.png\" % trial_i for trial_i in range(len(mass_df))]\n",
    "entropy_paths = [\"cogsci_images/PD_RNN_ent_mass_plot_%d.png\" % trial_i for trial_i in range(len(mass_df))]\n",
    "replays = read_dataset(\"../new_exp_data/exp7_passive.h5\")\n",
    "\n",
    "for trial_i, (prob_path, ent_path, replay) in enumerate(zip(probability_paths, entropy_paths, replays)):\n",
    "    clip = make_clip(replay, prob_path, ent_path)[0]\n",
    "    clip.write_videofile(\"cogsci_images/trial_%d_mass_video_and_prob_plot.mp4\" % trial_i, fps=60)"
   ]
  },
  {
   "cell_type": "code",
   "execution_count": 15,
   "metadata": {
    "scrolled": true
   },
   "outputs": [
    {
     "name": "stdout",
     "output_type": "stream",
     "text": [
      "[MoviePy] >>>> Building video cogsci_images/trial_0_force_video_and_prob_plot.mp4\n",
      "[MoviePy] Writing video cogsci_images/trial_0_force_video_and_prob_plot.mp4\n"
     ]
    },
    {
     "name": "stderr",
     "output_type": "stream",
     "text": [
      "100%|█████████▉| 2700/2701 [00:30<00:00, 89.43it/s]\n"
     ]
    },
    {
     "name": "stdout",
     "output_type": "stream",
     "text": [
      "[MoviePy] Done.\n",
      "[MoviePy] >>>> Video ready: cogsci_images/trial_0_force_video_and_prob_plot.mp4 \n",
      "\n",
      "[MoviePy] >>>> Building video cogsci_images/trial_1_force_video_and_prob_plot.mp4\n",
      "[MoviePy] Writing video cogsci_images/trial_1_force_video_and_prob_plot.mp4\n"
     ]
    },
    {
     "name": "stderr",
     "output_type": "stream",
     "text": [
      "100%|█████████▉| 2700/2701 [00:30<00:00, 88.68it/s]"
     ]
    },
    {
     "name": "stdout",
     "output_type": "stream",
     "text": [
      "[MoviePy] Done.\n",
      "[MoviePy] >>>> Video ready: cogsci_images/trial_1_force_video_and_prob_plot.mp4 \n",
      "\n"
     ]
    },
    {
     "name": "stderr",
     "output_type": "stream",
     "text": [
      "\n"
     ]
    },
    {
     "name": "stdout",
     "output_type": "stream",
     "text": [
      "[MoviePy] >>>> Building video cogsci_images/trial_2_force_video_and_prob_plot.mp4\n",
      "[MoviePy] Writing video cogsci_images/trial_2_force_video_and_prob_plot.mp4\n"
     ]
    },
    {
     "name": "stderr",
     "output_type": "stream",
     "text": [
      "100%|█████████▉| 2700/2701 [00:30<00:00, 88.46it/s]"
     ]
    },
    {
     "name": "stdout",
     "output_type": "stream",
     "text": [
      "[MoviePy] Done.\n",
      "[MoviePy] >>>> Video ready: cogsci_images/trial_2_force_video_and_prob_plot.mp4 \n",
      "\n"
     ]
    },
    {
     "name": "stderr",
     "output_type": "stream",
     "text": [
      "\n"
     ]
    },
    {
     "name": "stdout",
     "output_type": "stream",
     "text": [
      "[MoviePy] >>>> Building video cogsci_images/trial_3_force_video_and_prob_plot.mp4\n",
      "[MoviePy] Writing video cogsci_images/trial_3_force_video_and_prob_plot.mp4\n"
     ]
    },
    {
     "name": "stderr",
     "output_type": "stream",
     "text": [
      "100%|█████████▉| 2700/2701 [00:30<00:00, 88.79it/s]"
     ]
    },
    {
     "name": "stdout",
     "output_type": "stream",
     "text": [
      "[MoviePy] Done.\n",
      "[MoviePy] >>>> Video ready: cogsci_images/trial_3_force_video_and_prob_plot.mp4 \n",
      "\n"
     ]
    },
    {
     "name": "stderr",
     "output_type": "stream",
     "text": [
      "\n"
     ]
    },
    {
     "name": "stdout",
     "output_type": "stream",
     "text": [
      "[MoviePy] >>>> Building video cogsci_images/trial_4_force_video_and_prob_plot.mp4\n",
      "[MoviePy] Writing video cogsci_images/trial_4_force_video_and_prob_plot.mp4\n"
     ]
    },
    {
     "name": "stderr",
     "output_type": "stream",
     "text": [
      "100%|█████████▉| 2700/2701 [00:30<00:00, 88.38it/s]\n"
     ]
    },
    {
     "name": "stdout",
     "output_type": "stream",
     "text": [
      "[MoviePy] Done.\n",
      "[MoviePy] >>>> Video ready: cogsci_images/trial_4_force_video_and_prob_plot.mp4 \n",
      "\n",
      "[MoviePy] >>>> Building video cogsci_images/trial_5_force_video_and_prob_plot.mp4\n",
      "[MoviePy] Writing video cogsci_images/trial_5_force_video_and_prob_plot.mp4\n"
     ]
    },
    {
     "name": "stderr",
     "output_type": "stream",
     "text": [
      "100%|█████████▉| 2700/2701 [00:30<00:00, 88.73it/s]"
     ]
    },
    {
     "name": "stdout",
     "output_type": "stream",
     "text": [
      "[MoviePy] Done.\n",
      "[MoviePy] >>>> Video ready: cogsci_images/trial_5_force_video_and_prob_plot.mp4 \n",
      "\n"
     ]
    },
    {
     "name": "stderr",
     "output_type": "stream",
     "text": [
      "\n"
     ]
    },
    {
     "name": "stdout",
     "output_type": "stream",
     "text": [
      "[MoviePy] >>>> Building video cogsci_images/trial_6_force_video_and_prob_plot.mp4\n",
      "[MoviePy] Writing video cogsci_images/trial_6_force_video_and_prob_plot.mp4\n"
     ]
    },
    {
     "name": "stderr",
     "output_type": "stream",
     "text": [
      "100%|█████████▉| 2700/2701 [00:30<00:00, 89.04it/s]\n"
     ]
    },
    {
     "name": "stdout",
     "output_type": "stream",
     "text": [
      "[MoviePy] Done.\n",
      "[MoviePy] >>>> Video ready: cogsci_images/trial_6_force_video_and_prob_plot.mp4 \n",
      "\n",
      "[MoviePy] >>>> Building video cogsci_images/trial_7_force_video_and_prob_plot.mp4\n",
      "[MoviePy] Writing video cogsci_images/trial_7_force_video_and_prob_plot.mp4\n"
     ]
    },
    {
     "name": "stderr",
     "output_type": "stream",
     "text": [
      "100%|█████████▉| 2700/2701 [00:30<00:00, 88.73it/s]"
     ]
    },
    {
     "name": "stdout",
     "output_type": "stream",
     "text": [
      "[MoviePy] Done.\n",
      "[MoviePy] >>>> Video ready: cogsci_images/trial_7_force_video_and_prob_plot.mp4 \n",
      "\n"
     ]
    },
    {
     "name": "stderr",
     "output_type": "stream",
     "text": [
      "\n"
     ]
    },
    {
     "name": "stdout",
     "output_type": "stream",
     "text": [
      "[MoviePy] >>>> Building video cogsci_images/trial_8_force_video_and_prob_plot.mp4\n",
      "[MoviePy] Writing video cogsci_images/trial_8_force_video_and_prob_plot.mp4\n"
     ]
    },
    {
     "name": "stderr",
     "output_type": "stream",
     "text": [
      "100%|█████████▉| 2700/2701 [00:30<00:00, 88.43it/s]"
     ]
    },
    {
     "name": "stdout",
     "output_type": "stream",
     "text": [
      "[MoviePy] Done.\n",
      "[MoviePy] >>>> Video ready: cogsci_images/trial_8_force_video_and_prob_plot.mp4 \n",
      "\n"
     ]
    },
    {
     "name": "stderr",
     "output_type": "stream",
     "text": [
      "\n"
     ]
    },
    {
     "name": "stdout",
     "output_type": "stream",
     "text": [
      "[MoviePy] >>>> Building video cogsci_images/trial_9_force_video_and_prob_plot.mp4\n",
      "[MoviePy] Writing video cogsci_images/trial_9_force_video_and_prob_plot.mp4\n"
     ]
    },
    {
     "name": "stderr",
     "output_type": "stream",
     "text": [
      "100%|█████████▉| 2700/2701 [00:30<00:00, 94.00it/s]"
     ]
    },
    {
     "name": "stdout",
     "output_type": "stream",
     "text": [
      "[MoviePy] Done.\n",
      "[MoviePy] >>>> Video ready: cogsci_images/trial_9_force_video_and_prob_plot.mp4 \n",
      "\n"
     ]
    },
    {
     "name": "stderr",
     "output_type": "stream",
     "text": [
      "\n"
     ]
    },
    {
     "name": "stdout",
     "output_type": "stream",
     "text": [
      "[MoviePy] >>>> Building video cogsci_images/trial_10_force_video_and_prob_plot.mp4\n",
      "[MoviePy] Writing video cogsci_images/trial_10_force_video_and_prob_plot.mp4\n"
     ]
    },
    {
     "name": "stderr",
     "output_type": "stream",
     "text": [
      "100%|█████████▉| 2700/2701 [00:30<00:00, 85.93it/s]"
     ]
    },
    {
     "name": "stdout",
     "output_type": "stream",
     "text": [
      "[MoviePy] Done.\n",
      "[MoviePy] >>>> Video ready: cogsci_images/trial_10_force_video_and_prob_plot.mp4 \n",
      "\n"
     ]
    },
    {
     "name": "stderr",
     "output_type": "stream",
     "text": [
      "\n"
     ]
    },
    {
     "name": "stdout",
     "output_type": "stream",
     "text": [
      "[MoviePy] >>>> Building video cogsci_images/trial_11_force_video_and_prob_plot.mp4\n",
      "[MoviePy] Writing video cogsci_images/trial_11_force_video_and_prob_plot.mp4\n"
     ]
    },
    {
     "name": "stderr",
     "output_type": "stream",
     "text": [
      "100%|█████████▉| 2700/2701 [00:30<00:00, 89.22it/s]\n"
     ]
    },
    {
     "name": "stdout",
     "output_type": "stream",
     "text": [
      "[MoviePy] Done.\n",
      "[MoviePy] >>>> Video ready: cogsci_images/trial_11_force_video_and_prob_plot.mp4 \n",
      "\n",
      "[MoviePy] >>>> Building video cogsci_images/trial_12_force_video_and_prob_plot.mp4\n",
      "[MoviePy] Writing video cogsci_images/trial_12_force_video_and_prob_plot.mp4\n"
     ]
    },
    {
     "name": "stderr",
     "output_type": "stream",
     "text": [
      "100%|█████████▉| 2700/2701 [00:30<00:00, 88.79it/s]\n"
     ]
    },
    {
     "name": "stdout",
     "output_type": "stream",
     "text": [
      "[MoviePy] Done.\n",
      "[MoviePy] >>>> Video ready: cogsci_images/trial_12_force_video_and_prob_plot.mp4 \n",
      "\n",
      "[MoviePy] >>>> Building video cogsci_images/trial_13_force_video_and_prob_plot.mp4\n",
      "[MoviePy] Writing video cogsci_images/trial_13_force_video_and_prob_plot.mp4\n"
     ]
    },
    {
     "name": "stderr",
     "output_type": "stream",
     "text": [
      "100%|█████████▉| 2700/2701 [00:30<00:00, 88.39it/s]\n"
     ]
    },
    {
     "name": "stdout",
     "output_type": "stream",
     "text": [
      "[MoviePy] Done.\n",
      "[MoviePy] >>>> Video ready: cogsci_images/trial_13_force_video_and_prob_plot.mp4 \n",
      "\n",
      "[MoviePy] >>>> Building video cogsci_images/trial_14_force_video_and_prob_plot.mp4\n",
      "[MoviePy] Writing video cogsci_images/trial_14_force_video_and_prob_plot.mp4\n"
     ]
    },
    {
     "name": "stderr",
     "output_type": "stream",
     "text": [
      "100%|█████████▉| 2700/2701 [00:31<00:00, 85.03it/s]\n"
     ]
    },
    {
     "name": "stdout",
     "output_type": "stream",
     "text": [
      "[MoviePy] Done.\n",
      "[MoviePy] >>>> Video ready: cogsci_images/trial_14_force_video_and_prob_plot.mp4 \n",
      "\n",
      "[MoviePy] >>>> Building video cogsci_images/trial_15_force_video_and_prob_plot.mp4\n",
      "[MoviePy] Writing video cogsci_images/trial_15_force_video_and_prob_plot.mp4\n"
     ]
    },
    {
     "name": "stderr",
     "output_type": "stream",
     "text": [
      "100%|█████████▉| 2700/2701 [00:30<00:00, 87.26it/s]"
     ]
    },
    {
     "name": "stdout",
     "output_type": "stream",
     "text": [
      "[MoviePy] Done.\n",
      "[MoviePy] >>>> Video ready: cogsci_images/trial_15_force_video_and_prob_plot.mp4 \n",
      "\n"
     ]
    },
    {
     "name": "stderr",
     "output_type": "stream",
     "text": [
      "\n"
     ]
    },
    {
     "name": "stdout",
     "output_type": "stream",
     "text": [
      "[MoviePy] >>>> Building video cogsci_images/trial_16_force_video_and_prob_plot.mp4\n",
      "[MoviePy] Writing video cogsci_images/trial_16_force_video_and_prob_plot.mp4\n"
     ]
    },
    {
     "name": "stderr",
     "output_type": "stream",
     "text": [
      "100%|█████████▉| 2700/2701 [00:30<00:00, 89.76it/s]\n"
     ]
    },
    {
     "name": "stdout",
     "output_type": "stream",
     "text": [
      "[MoviePy] Done.\n",
      "[MoviePy] >>>> Video ready: cogsci_images/trial_16_force_video_and_prob_plot.mp4 \n",
      "\n",
      "[MoviePy] >>>> Building video cogsci_images/trial_17_force_video_and_prob_plot.mp4\n",
      "[MoviePy] Writing video cogsci_images/trial_17_force_video_and_prob_plot.mp4\n"
     ]
    },
    {
     "name": "stderr",
     "output_type": "stream",
     "text": [
      "100%|█████████▉| 2700/2701 [00:30<00:00, 89.57it/s]\n"
     ]
    },
    {
     "name": "stdout",
     "output_type": "stream",
     "text": [
      "[MoviePy] Done.\n",
      "[MoviePy] >>>> Video ready: cogsci_images/trial_17_force_video_and_prob_plot.mp4 \n",
      "\n",
      "[MoviePy] >>>> Building video cogsci_images/trial_18_force_video_and_prob_plot.mp4\n",
      "[MoviePy] Writing video cogsci_images/trial_18_force_video_and_prob_plot.mp4\n"
     ]
    },
    {
     "name": "stderr",
     "output_type": "stream",
     "text": [
      "100%|█████████▉| 2700/2701 [00:30<00:00, 89.88it/s]"
     ]
    },
    {
     "name": "stdout",
     "output_type": "stream",
     "text": [
      "[MoviePy] Done.\n",
      "[MoviePy] >>>> Video ready: cogsci_images/trial_18_force_video_and_prob_plot.mp4 \n",
      "\n"
     ]
    },
    {
     "name": "stderr",
     "output_type": "stream",
     "text": [
      "\n"
     ]
    },
    {
     "name": "stdout",
     "output_type": "stream",
     "text": [
      "[MoviePy] >>>> Building video cogsci_images/trial_19_force_video_and_prob_plot.mp4\n",
      "[MoviePy] Writing video cogsci_images/trial_19_force_video_and_prob_plot.mp4\n"
     ]
    },
    {
     "name": "stderr",
     "output_type": "stream",
     "text": [
      "100%|█████████▉| 2700/2701 [00:30<00:00, 89.40it/s]\n"
     ]
    },
    {
     "name": "stdout",
     "output_type": "stream",
     "text": [
      "[MoviePy] Done.\n",
      "[MoviePy] >>>> Video ready: cogsci_images/trial_19_force_video_and_prob_plot.mp4 \n",
      "\n",
      "[MoviePy] >>>> Building video cogsci_images/trial_20_force_video_and_prob_plot.mp4\n",
      "[MoviePy] Writing video cogsci_images/trial_20_force_video_and_prob_plot.mp4\n"
     ]
    },
    {
     "name": "stderr",
     "output_type": "stream",
     "text": [
      "100%|█████████▉| 2700/2701 [00:30<00:00, 89.51it/s]"
     ]
    },
    {
     "name": "stdout",
     "output_type": "stream",
     "text": [
      "[MoviePy] Done.\n",
      "[MoviePy] >>>> Video ready: cogsci_images/trial_20_force_video_and_prob_plot.mp4 \n",
      "\n"
     ]
    },
    {
     "name": "stderr",
     "output_type": "stream",
     "text": [
      "\n"
     ]
    },
    {
     "name": "stdout",
     "output_type": "stream",
     "text": [
      "[MoviePy] >>>> Building video cogsci_images/trial_21_force_video_and_prob_plot.mp4\n",
      "[MoviePy] Writing video cogsci_images/trial_21_force_video_and_prob_plot.mp4\n"
     ]
    },
    {
     "name": "stderr",
     "output_type": "stream",
     "text": [
      "100%|█████████▉| 2700/2701 [00:30<00:00, 80.64it/s]"
     ]
    },
    {
     "name": "stdout",
     "output_type": "stream",
     "text": [
      "[MoviePy] Done.\n",
      "[MoviePy] >>>> Video ready: cogsci_images/trial_21_force_video_and_prob_plot.mp4 \n",
      "\n"
     ]
    },
    {
     "name": "stderr",
     "output_type": "stream",
     "text": [
      "\n"
     ]
    },
    {
     "name": "stdout",
     "output_type": "stream",
     "text": [
      "[MoviePy] >>>> Building video cogsci_images/trial_22_force_video_and_prob_plot.mp4\n",
      "[MoviePy] Writing video cogsci_images/trial_22_force_video_and_prob_plot.mp4\n"
     ]
    },
    {
     "name": "stderr",
     "output_type": "stream",
     "text": [
      "100%|█████████▉| 2700/2701 [00:31<00:00, 79.94it/s]"
     ]
    },
    {
     "name": "stdout",
     "output_type": "stream",
     "text": [
      "[MoviePy] Done.\n",
      "[MoviePy] >>>> Video ready: cogsci_images/trial_22_force_video_and_prob_plot.mp4 \n",
      "\n"
     ]
    },
    {
     "name": "stderr",
     "output_type": "stream",
     "text": [
      "\n"
     ]
    },
    {
     "name": "stdout",
     "output_type": "stream",
     "text": [
      "[MoviePy] >>>> Building video cogsci_images/trial_23_force_video_and_prob_plot.mp4\n",
      "[MoviePy] Writing video cogsci_images/trial_23_force_video_and_prob_plot.mp4\n"
     ]
    },
    {
     "name": "stderr",
     "output_type": "stream",
     "text": [
      "100%|█████████▉| 2700/2701 [00:31<00:00, 85.51it/s]"
     ]
    },
    {
     "name": "stdout",
     "output_type": "stream",
     "text": [
      "[MoviePy] Done.\n",
      "[MoviePy] >>>> Video ready: cogsci_images/trial_23_force_video_and_prob_plot.mp4 \n",
      "\n"
     ]
    },
    {
     "name": "stderr",
     "output_type": "stream",
     "text": [
      "\n"
     ]
    },
    {
     "name": "stdout",
     "output_type": "stream",
     "text": [
      "[MoviePy] >>>> Building video cogsci_images/trial_24_force_video_and_prob_plot.mp4\n",
      "[MoviePy] Writing video cogsci_images/trial_24_force_video_and_prob_plot.mp4\n"
     ]
    },
    {
     "name": "stderr",
     "output_type": "stream",
     "text": [
      "100%|█████████▉| 2700/2701 [00:32<00:00, 81.89it/s]\n"
     ]
    },
    {
     "name": "stdout",
     "output_type": "stream",
     "text": [
      "[MoviePy] Done.\n",
      "[MoviePy] >>>> Video ready: cogsci_images/trial_24_force_video_and_prob_plot.mp4 \n",
      "\n",
      "[MoviePy] >>>> Building video cogsci_images/trial_25_force_video_and_prob_plot.mp4\n",
      "[MoviePy] Writing video cogsci_images/trial_25_force_video_and_prob_plot.mp4\n"
     ]
    },
    {
     "name": "stderr",
     "output_type": "stream",
     "text": [
      "100%|█████████▉| 2700/2701 [00:37<00:00, 72.54it/s]"
     ]
    },
    {
     "name": "stdout",
     "output_type": "stream",
     "text": [
      "[MoviePy] Done.\n",
      "[MoviePy] >>>> Video ready: cogsci_images/trial_25_force_video_and_prob_plot.mp4 \n",
      "\n"
     ]
    },
    {
     "name": "stderr",
     "output_type": "stream",
     "text": [
      "\n"
     ]
    },
    {
     "name": "stdout",
     "output_type": "stream",
     "text": [
      "[MoviePy] >>>> Building video cogsci_images/trial_26_force_video_and_prob_plot.mp4\n",
      "[MoviePy] Writing video cogsci_images/trial_26_force_video_and_prob_plot.mp4\n"
     ]
    },
    {
     "name": "stderr",
     "output_type": "stream",
     "text": [
      "100%|█████████▉| 2700/2701 [00:30<00:00, 89.38it/s]"
     ]
    },
    {
     "name": "stdout",
     "output_type": "stream",
     "text": [
      "[MoviePy] Done.\n",
      "[MoviePy] >>>> Video ready: cogsci_images/trial_26_force_video_and_prob_plot.mp4 \n",
      "\n"
     ]
    },
    {
     "name": "stderr",
     "output_type": "stream",
     "text": [
      "\n"
     ]
    },
    {
     "name": "stdout",
     "output_type": "stream",
     "text": [
      "[MoviePy] >>>> Building video cogsci_images/trial_27_force_video_and_prob_plot.mp4\n",
      "[MoviePy] Writing video cogsci_images/trial_27_force_video_and_prob_plot.mp4\n"
     ]
    },
    {
     "name": "stderr",
     "output_type": "stream",
     "text": [
      "100%|█████████▉| 2700/2701 [00:30<00:00, 87.51it/s]\n"
     ]
    },
    {
     "name": "stdout",
     "output_type": "stream",
     "text": [
      "[MoviePy] Done.\n",
      "[MoviePy] >>>> Video ready: cogsci_images/trial_27_force_video_and_prob_plot.mp4 \n",
      "\n",
      "[MoviePy] >>>> Building video cogsci_images/trial_28_force_video_and_prob_plot.mp4\n",
      "[MoviePy] Writing video cogsci_images/trial_28_force_video_and_prob_plot.mp4\n"
     ]
    },
    {
     "name": "stderr",
     "output_type": "stream",
     "text": [
      "100%|█████████▉| 2700/2701 [00:30<00:00, 89.40it/s]\n"
     ]
    },
    {
     "name": "stdout",
     "output_type": "stream",
     "text": [
      "[MoviePy] Done.\n",
      "[MoviePy] >>>> Video ready: cogsci_images/trial_28_force_video_and_prob_plot.mp4 \n",
      "\n",
      "[MoviePy] >>>> Building video cogsci_images/trial_29_force_video_and_prob_plot.mp4\n",
      "[MoviePy] Writing video cogsci_images/trial_29_force_video_and_prob_plot.mp4\n"
     ]
    },
    {
     "name": "stderr",
     "output_type": "stream",
     "text": [
      "100%|█████████▉| 2700/2701 [00:30<00:00, 89.62it/s]\n"
     ]
    },
    {
     "name": "stdout",
     "output_type": "stream",
     "text": [
      "[MoviePy] Done.\n",
      "[MoviePy] >>>> Video ready: cogsci_images/trial_29_force_video_and_prob_plot.mp4 \n",
      "\n",
      "[MoviePy] >>>> Building video cogsci_images/trial_30_force_video_and_prob_plot.mp4\n",
      "[MoviePy] Writing video cogsci_images/trial_30_force_video_and_prob_plot.mp4\n"
     ]
    },
    {
     "name": "stderr",
     "output_type": "stream",
     "text": [
      "100%|█████████▉| 2700/2701 [00:30<00:00, 90.98it/s]"
     ]
    },
    {
     "name": "stdout",
     "output_type": "stream",
     "text": [
      "[MoviePy] Done.\n",
      "[MoviePy] >>>> Video ready: cogsci_images/trial_30_force_video_and_prob_plot.mp4 \n",
      "\n"
     ]
    },
    {
     "name": "stderr",
     "output_type": "stream",
     "text": [
      "\n"
     ]
    },
    {
     "name": "stdout",
     "output_type": "stream",
     "text": [
      "[MoviePy] >>>> Building video cogsci_images/trial_31_force_video_and_prob_plot.mp4\n",
      "[MoviePy] Writing video cogsci_images/trial_31_force_video_and_prob_plot.mp4\n"
     ]
    },
    {
     "name": "stderr",
     "output_type": "stream",
     "text": [
      "100%|█████████▉| 2700/2701 [00:30<00:00, 88.77it/s]"
     ]
    },
    {
     "name": "stdout",
     "output_type": "stream",
     "text": [
      "[MoviePy] Done.\n",
      "[MoviePy] >>>> Video ready: cogsci_images/trial_31_force_video_and_prob_plot.mp4 \n",
      "\n"
     ]
    },
    {
     "name": "stderr",
     "output_type": "stream",
     "text": [
      "\n"
     ]
    },
    {
     "name": "stdout",
     "output_type": "stream",
     "text": [
      "[MoviePy] >>>> Building video cogsci_images/trial_32_force_video_and_prob_plot.mp4\n",
      "[MoviePy] Writing video cogsci_images/trial_32_force_video_and_prob_plot.mp4\n"
     ]
    },
    {
     "name": "stderr",
     "output_type": "stream",
     "text": [
      "100%|█████████▉| 2700/2701 [00:30<00:00, 88.57it/s]"
     ]
    },
    {
     "name": "stdout",
     "output_type": "stream",
     "text": [
      "[MoviePy] Done.\n",
      "[MoviePy] >>>> Video ready: cogsci_images/trial_32_force_video_and_prob_plot.mp4 \n",
      "\n"
     ]
    },
    {
     "name": "stderr",
     "output_type": "stream",
     "text": [
      "\n"
     ]
    },
    {
     "name": "stdout",
     "output_type": "stream",
     "text": [
      "[MoviePy] >>>> Building video cogsci_images/trial_33_force_video_and_prob_plot.mp4\n",
      "[MoviePy] Writing video cogsci_images/trial_33_force_video_and_prob_plot.mp4\n"
     ]
    },
    {
     "name": "stderr",
     "output_type": "stream",
     "text": [
      "100%|█████████▉| 2700/2701 [00:30<00:00, 89.55it/s]\n"
     ]
    },
    {
     "name": "stdout",
     "output_type": "stream",
     "text": [
      "[MoviePy] Done.\n",
      "[MoviePy] >>>> Video ready: cogsci_images/trial_33_force_video_and_prob_plot.mp4 \n",
      "\n",
      "[MoviePy] >>>> Building video cogsci_images/trial_34_force_video_and_prob_plot.mp4\n",
      "[MoviePy] Writing video cogsci_images/trial_34_force_video_and_prob_plot.mp4\n"
     ]
    },
    {
     "name": "stderr",
     "output_type": "stream",
     "text": [
      "100%|█████████▉| 2700/2701 [00:30<00:00, 89.46it/s]\n"
     ]
    },
    {
     "name": "stdout",
     "output_type": "stream",
     "text": [
      "[MoviePy] Done.\n",
      "[MoviePy] >>>> Video ready: cogsci_images/trial_34_force_video_and_prob_plot.mp4 \n",
      "\n",
      "[MoviePy] >>>> Building video cogsci_images/trial_35_force_video_and_prob_plot.mp4\n",
      "[MoviePy] Writing video cogsci_images/trial_35_force_video_and_prob_plot.mp4\n"
     ]
    },
    {
     "name": "stderr",
     "output_type": "stream",
     "text": [
      "100%|█████████▉| 2700/2701 [00:30<00:00, 88.82it/s]"
     ]
    },
    {
     "name": "stdout",
     "output_type": "stream",
     "text": [
      "[MoviePy] Done.\n",
      "[MoviePy] >>>> Video ready: cogsci_images/trial_35_force_video_and_prob_plot.mp4 \n",
      "\n"
     ]
    },
    {
     "name": "stderr",
     "output_type": "stream",
     "text": [
      "\n"
     ]
    }
   ],
   "source": [
    "probability_paths = [\"cogsci_images/RNN_all_prob_force_plot_%d.png\" % trial_i for trial_i in range(len(mass_df))]\n",
    "entropy_paths = [\"cogsci_images/PD_RNN_ent_force_plot_%d.png\" % trial_i for trial_i in range(len(mass_df))]\n",
    "replays = read_dataset(\"../new_exp_data/exp7_passive.h5\")\n",
    "\n",
    "for trial_i, (prob_path, ent_path, replay) in enumerate(zip(probability_paths, entropy_paths, replays)):\n",
    "    clip = make_clip(replay, prob_path, ent_path)[0]\n",
    "    clip.write_videofile(\"cogsci_images/trial_%d_force_video_and_prob_plot.mp4\" % trial_i, fps=60)"
   ]
  }
 ],
 "metadata": {
  "kernelspec": {
   "display_name": "Python 3",
   "language": "python",
   "name": "python3"
  },
  "language_info": {
   "codemirror_mode": {
    "name": "ipython",
    "version": 3
   },
   "file_extension": ".py",
   "mimetype": "text/x-python",
   "name": "python",
   "nbconvert_exporter": "python",
   "pygments_lexer": "ipython3",
   "version": "3.5.6"
  }
 },
 "nbformat": 4,
 "nbformat_minor": 2
}
