{
 "cells": [
  {
   "cell_type": "code",
   "execution_count": 1,
   "metadata": {},
   "outputs": [],
   "source": [
    "import pandas as pd\n",
    "import numpy as np\n",
    "import torch\n",
    "import torch.utils.data\n",
    "import torch.nn as nn\n",
    "from torch.autograd import Variable\n",
    "from sklearn.model_selection import train_test_split\n",
    "import joblib\n",
    "from tqdm import tqdm\n",
    "import matplotlib.pyplot as plt\n",
    "from copy import deepcopy"
   ]
  },
  {
   "cell_type": "code",
   "execution_count": 2,
   "metadata": {},
   "outputs": [
    {
     "name": "stdout",
     "output_type": "stream",
     "text": [
      "cuda:0\n"
     ]
    }
   ],
   "source": [
    "from isaac.utils import get_cuda_device_if_available, create_directory\n",
    "device = get_cuda_device_if_available()\n",
    "print(device)\n",
    "\n",
    "data_directory = \"xy_r_theta/\"\n",
    "create_directory(data_directory)\n",
    "create_directory(\"models/xy_r_theta/\")\n",
    "create_directory(\"scalers\")"
   ]
  },
  {
   "cell_type": "code",
   "execution_count": 3,
   "metadata": {},
   "outputs": [],
   "source": [
    "from isaac.dataset import read_dataset, prepare_dataset\n",
    "from isaac.utils import plot_confusion_matrix\n",
    "from isaac.constants import BASIC_TRAINING_COLS, FORCE_CLASS_COLS, MASS_CLASS_COLS\n",
    "from isaac.training import training_loop\n",
    "from isaac.models import MultiBranchModel, initialise_model\n",
    "from isaac.evaluation import get_best_model_and_its_accuracy"
   ]
  },
  {
   "cell_type": "code",
   "execution_count": 4,
   "metadata": {},
   "outputs": [],
   "source": [
    "BATCH_SIZE = 128\n",
    "EPOCHS = 60\n",
    "NORMALISE_DATA = True\n",
    "STEP_SIZE = 3\n",
    "SEQ_END = 2700\n",
    "\n",
    "INPUT_DIM = 16    # input dimension\n",
    "HIDDEN_DIM = 25  # hidden layer dimension\n",
    "N_LAYERS = 4     # number of hidden layers\n",
    "OUTPUT_DIM = 3   # output dimension\n",
    "DROPOUT = 0.5\n",
    "\n",
    "network_params = (INPUT_DIM, HIDDEN_DIM, OUTPUT_DIM, DROPOUT)"
   ]
  },
  {
   "cell_type": "markdown",
   "metadata": {},
   "source": [
    "## Read dataset and preprocess it"
   ]
  },
  {
   "cell_type": "code",
   "execution_count": 5,
   "metadata": {},
   "outputs": [
    {
     "name": "stderr",
     "output_type": "stream",
     "text": [
      "100%|██████████| 10935/10935 [01:21<00:00, 133.58it/s]\n"
     ]
    }
   ],
   "source": [
    "all_trials = read_dataset(\"data/r_passive_trials.h5\", cols=BASIC_TRAINING_COLS)\n",
    "np.random.seed(0)\n",
    "idx = np.random.permutation(np.arange(len(all_trials)))\n",
    "train_idx = idx[:3500]\n",
    "val_idx = idx[3500:4500]\n",
    "\n",
    "train_trials = []\n",
    "\n",
    "for index in train_idx:\n",
    "    train_trials.append(all_trials[index])\n",
    "    \n",
    "val_trials = []\n",
    "\n",
    "for index in val_idx:\n",
    "    val_trials.append(all_trials[index])"
   ]
  },
  {
   "cell_type": "code",
   "execution_count": 6,
   "metadata": {},
   "outputs": [
    {
     "name": "stderr",
     "output_type": "stream",
     "text": [
      "100%|██████████| 3500/3500 [05:07<00:00, 11.38it/s]\n",
      "100%|██████████| 1000/1000 [01:37<00:00,  9.79it/s]\n"
     ]
    }
   ],
   "source": [
    "XY_RTHETA_ATTRS = [obj+\".\"+attr for obj in [\"o1\", \"o2\", \"o3\", \"o4\"] for attr in [\"x\", \"y\", \"r\", \"theta\"]]\n",
    "\n",
    "def add_r_theta_attributes(trials):\n",
    "    for trial in tqdm(trials):\n",
    "        for obj in [\"o1\", \"o2\", \"o3\", \"o4\"]:\n",
    "            trial[obj+\".r\"] = (trial[obj+\".vx\"]**2 + trial[obj+\".vy\"]**2)**0.5\n",
    "            trial[obj+\".theta\"] = (np.arctan2(trial[obj+\".vx\"], trial[obj+\".vy\"]) * 180 / np.pi)\n",
    "\n",
    "add_r_theta_attributes(train_trials)\n",
    "add_r_theta_attributes(val_trials)"
   ]
  },
  {
   "cell_type": "markdown",
   "metadata": {},
   "source": [
    "## Train model and plot loss and accuracy"
   ]
  },
  {
   "cell_type": "code",
   "execution_count": 7,
   "metadata": {
    "scrolled": false
   },
   "outputs": [
    {
     "name": "stderr",
     "output_type": "stream",
     "text": [
      "100%|██████████| 3500/3500 [00:07<00:00, 449.45it/s]\n",
      "100%|██████████| 1000/1000 [00:02<00:00, 453.46it/s]\n",
      "Train_loss: ([0.43314376 0.29800404]) Train_acc: ([78.42857143 82.05714286]) Val_acc: ([67.7 70.4]): 100%|██████████| 60/60 [09:31<00:00,  9.49s/it]\n",
      "Train_loss: ([0.48517282 0.24545256]) Train_acc: ([75.42857143 86.57142857]) Val_acc: ([66.5 71.1]): 100%|██████████| 60/60 [09:37<00:00,  9.68s/it]\n",
      "Train_loss: ([0.75660718 0.60562564]) Train_acc: ([63.28571429 68.34285714]) Val_acc: ([63.1 65.8]): 100%|██████████| 60/60 [09:41<00:00,  9.52s/it]\n",
      "Train_loss: ([0.54875568 0.41717471]) Train_acc: ([73.85714286 80.42857143]) Val_acc: ([66.8 73.6]): 100%|██████████| 60/60 [09:36<00:00,  9.72s/it]\n",
      "Train_loss: ([0.5658053  0.44911008]) Train_acc: ([71.68571429 76.31428571]) Val_acc: ([65.3 71.1]): 100%|██████████| 60/60 [09:33<00:00,  9.57s/it]\n",
      "Train_loss: ([0.50242798 0.37826234]) Train_acc: ([76.85714286 73.28571429]) Val_acc: ([68.5 66.5]): 100%|██████████| 60/60 [09:41<00:00,  9.81s/it]\n",
      "Train_loss: ([0.46502943 0.29255699]) Train_acc: ([79.11428571 85.51428571]) Val_acc: ([67.1 71.7]): 100%|██████████| 60/60 [09:33<00:00,  9.19s/it]\n",
      "Train_loss: ([0.57911408 0.35894565]) Train_acc: ([72.34285714 79.97142857]) Val_acc: ([68.  71.1]): 100%|██████████| 60/60 [09:41<00:00,  9.70s/it]\n",
      "Train_loss: ([0.46609051 0.28049676]) Train_acc: ([76.05714286 84.4       ]) Val_acc: ([67.7 73.3]): 100%|██████████| 60/60 [09:37<00:00,  9.30s/it]\n",
      "Train_loss: ([0.53528826 0.38638032]) Train_acc: ([74.22857143 77.        ]) Val_acc: ([67.6 70.7]): 100%|██████████| 60/60 [09:34<00:00,  9.53s/it]\n",
      "Train_loss: ([0.58091668 0.34896173]) Train_acc: ([73.57142857 82.34285714]) Val_acc: ([66.8 72.7]): 100%|██████████| 60/60 [09:38<00:00,  9.71s/it]\n",
      "Train_loss: ([0.57770857 0.30691206]) Train_acc: ([69.42857143 80.68571429]) Val_acc: ([65.4 71.8]): 100%|██████████| 60/60 [09:32<00:00,  9.42s/it]\n",
      "Train_loss: ([0.59799324 0.40958899]) Train_acc: ([70.57142857 74.85714286]) Val_acc: ([64.8 69.6]): 100%|██████████| 60/60 [09:32<00:00,  9.54s/it]\n",
      "Train_loss: ([0.45713242 0.31835335]) Train_acc: ([76.6        76.88571429]) Val_acc: ([69.  70.5]): 100%|██████████| 60/60 [09:28<00:00,  9.34s/it]\n",
      "Train_loss: ([0.83088302 0.62127714]) Train_acc: ([59.11428571 65.97142857]) Val_acc: ([58.  65.8]): 100%|██████████| 60/60 [09:25<00:00,  9.47s/it]\n",
      "Train_loss: ([0.61844148 0.31736409]) Train_acc: ([72.48571429 83.        ]) Val_acc: ([64.3 71.1]): 100%|██████████| 60/60 [09:25<00:00,  9.43s/it]\n",
      "Train_loss: ([0.54640092 0.36649398]) Train_acc: ([72.94285714 83.88571429]) Val_acc: ([69.4 74.4]): 100%|██████████| 60/60 [09:28<00:00,  9.38s/it]\n",
      "Train_loss: ([0.58271499 0.36780744]) Train_acc: ([72.71428571 79.6       ]) Val_acc: ([69.5 67.7]): 100%|██████████| 60/60 [09:28<00:00,  9.45s/it]\n",
      "Train_loss: ([0.5679185 0.3704081]) Train_acc: ([71.25714286 73.77142857]) Val_acc: ([63.5 67.4]): 100%|██████████| 60/60 [09:28<00:00,  9.50s/it]  \n",
      "Train_loss: ([0.50774058 0.34345335]) Train_acc: ([74.31428571 77.91428571]) Val_acc: ([68.  68.8]): 100%|██████████| 60/60 [09:25<00:00,  9.36s/it]\n",
      "Train_loss: ([0.44644971 0.29062894]) Train_acc: ([77.14285714 85.82857143]) Val_acc: ([69.8 75. ]): 100%|██████████| 60/60 [09:27<00:00,  9.57s/it]\n",
      "Train_loss: ([0.51201294 0.32922551]) Train_acc: ([75.97142857 84.05714286]) Val_acc: ([68.2 73.7]): 100%|██████████| 60/60 [09:33<00:00,  9.55s/it]\n",
      "Train_loss: ([0.46380964 0.30351376]) Train_acc: ([74.74285714 85.22857143]) Val_acc: ([65.8 73.4]): 100%|██████████| 60/60 [09:26<00:00,  9.51s/it]\n",
      "Train_loss: ([0.49846425 0.34013004]) Train_acc: ([76.71428571 79.51428571]) Val_acc: ([70.5 69.5]): 100%|██████████| 60/60 [09:27<00:00,  9.32s/it]\n",
      "Train_loss: ([0.50346763 0.33837671]) Train_acc: ([77.94285714 77.02857143]) Val_acc: ([72.8 68.8]): 100%|██████████| 60/60 [09:29<00:00,  9.55s/it]\n"
     ]
    }
   ],
   "source": [
    "N_MODELS = 25\n",
    "\n",
    "stats_dfs = []\n",
    "loaders, scaler = prepare_dataset([train_trials, val_trials], \n",
    "                                  class_columns=[list(MASS_CLASS_COLS), list(FORCE_CLASS_COLS)], \n",
    "                                  multiclass=True,\n",
    "                                  batch_size=BATCH_SIZE, normalise_data=NORMALISE_DATA,\n",
    "                                  device=device, training_columns=XY_RTHETA_ATTRS)\n",
    "\n",
    "\n",
    "for seed in range(N_MODELS):\n",
    "    df = pd.DataFrame()\n",
    "\n",
    "    model, error, optimizer = initialise_model(network_params, lr=0.01, seed=seed, device=device, arch=MultiBranchModel)\n",
    "    epoch_losses, epoch_accuracies, [best_mass_model, best_force_model] = training_loop(model, optimizer, \n",
    "                                                                                        error,\n",
    "                                                                                        loaders[0], loaders[1], \n",
    "                                                                                        EPOCHS, seq_end=SEQ_END,\n",
    "                                                                                        step_size=STEP_SIZE,\n",
    "                                                                                        multibranch=True)\n",
    "\n",
    "    torch.save(best_mass_model.state_dict(), \"models/xy_r_theta/best_mass_model_seed_%d.pt\" % seed)\n",
    "    torch.save(best_force_model.state_dict(), \"models/xy_r_theta/best_force_model_seed_%d.pt\" % seed)\n",
    "    \n",
    "    \n",
    "    train_accuracies = np.array(epoch_accuracies[0])\n",
    "    val_accuracies = np.array(epoch_accuracies[1]) \n",
    "    \n",
    "    df[\"Epoch\"] = np.arange(EPOCHS)\n",
    "    df[\"Mass Loss\"] = epoch_losses[:, 0]\n",
    "    df[\"Force Loss\"] = epoch_losses[:, 1]\n",
    "    df[\"Mass Train Accuracy\"] = train_accuracies[:, 0]\n",
    "    df[\"Mass Val Accuracy\"] = val_accuracies[:, 0]\n",
    "    df[\"Force Train Accuracy\"] = train_accuracies[:, 1]\n",
    "    df[\"Force Val Accuracy\"] = val_accuracies[:,1]\n",
    "    df[\"seed\"] = str(seed)\n",
    "    stats_dfs.append(df)\n",
    "        \n",
    "stats = pd.concat(stats_dfs)\n",
    "stats.to_hdf(data_directory+\"stats.h5\", key=\"stats\")"
   ]
  },
  {
   "cell_type": "markdown",
   "metadata": {},
   "source": [
    "## Save model and scaler"
   ]
  },
  {
   "cell_type": "code",
   "execution_count": 8,
   "metadata": {},
   "outputs": [
    {
     "data": {
      "text/plain": [
       "['scalers/passive_xy_rtheta_scaler.sk']"
      ]
     },
     "execution_count": 8,
     "metadata": {},
     "output_type": "execute_result"
    }
   ],
   "source": [
    "joblib.dump(scaler, \"scalers/passive_xy_rtheta_scaler.sk\")"
   ]
  }
 ],
 "metadata": {
  "kernelspec": {
   "display_name": "Python 3",
   "language": "python",
   "name": "python3"
  },
  "language_info": {
   "codemirror_mode": {
    "name": "ipython",
    "version": 3
   },
   "file_extension": ".py",
   "mimetype": "text/x-python",
   "name": "python",
   "nbconvert_exporter": "python",
   "pygments_lexer": "ipython3",
   "version": "3.5.6"
  }
 },
 "nbformat": 4,
 "nbformat_minor": 2
}
