{
 "cells": [
  {
   "cell_type": "code",
   "execution_count": 1,
   "metadata": {},
   "outputs": [],
   "source": [
    "import torch\n",
    "import torch.nn as nn\n",
    "import pandas as pd"
   ]
  },
  {
   "cell_type": "code",
   "execution_count": 2,
   "metadata": {},
   "outputs": [],
   "source": [
    "from isaac.dataset import read_dataset, prepare_dataset\n",
    "from isaac.constants import POSITION_COLS, MASS_CLASS_COLS, BASIC_TRAINING_COLS, FORCE_CLASS_COLS, PUCK_SQUARE_DISTANCES, PUCK_ANGLE_FEATURES\n",
    "from isaac.sanity import class_proportions\n",
    "from isaac.models import MultiBranchModel, initialise_model\n",
    "from isaac.training import training_loop\n",
    "import matplotlib.pyplot as plt\n",
    "import numpy as np"
   ]
  },
  {
   "cell_type": "code",
   "execution_count": 3,
   "metadata": {},
   "outputs": [],
   "source": [
    "data_directory = \"seq_length_and_res_plots/\"\n",
    "model_directory = \"models/seq_length_and_res/\""
   ]
  },
  {
   "cell_type": "code",
   "execution_count": 4,
   "metadata": {},
   "outputs": [
    {
     "name": "stdout",
     "output_type": "stream",
     "text": [
      "cuda:0\n"
     ]
    }
   ],
   "source": [
    "from isaac.utils import get_cuda_device_if_available, create_directory\n",
    "device = get_cuda_device_if_available()\n",
    "print(device)\n",
    "\n",
    "create_directory(data_directory)\n",
    "create_directory(model_directory)"
   ]
  },
  {
   "cell_type": "code",
   "execution_count": 5,
   "metadata": {},
   "outputs": [],
   "source": [
    "NORMALISE_DATA = True\n",
    "BATCH_SIZE = 128\n",
    "EPOCHS = 100\n",
    "SEQ_END = 2700"
   ]
  },
  {
   "cell_type": "code",
   "execution_count": 6,
   "metadata": {},
   "outputs": [],
   "source": [
    "base_resolution = 60 #fps\n",
    "step_sizes = [int(base_resolution/resolution) for resolution in [20, 30, 60]]\n",
    "\n",
    "base_length = 45 #s\n",
    "seq_starts = [(base_length - length_in_s)*base_resolution for length_in_s in [45, 30, 15]]"
   ]
  },
  {
   "cell_type": "code",
   "execution_count": 7,
   "metadata": {},
   "outputs": [
    {
     "data": {
      "text/plain": [
       "([0, 900, 1800], [3, 2, 1])"
      ]
     },
     "execution_count": 7,
     "metadata": {},
     "output_type": "execute_result"
    }
   ],
   "source": [
    "seq_starts, step_sizes"
   ]
  },
  {
   "cell_type": "code",
   "execution_count": 8,
   "metadata": {},
   "outputs": [
    {
     "name": "stderr",
     "output_type": "stream",
     "text": [
      "100%|██████████| 3500/3500 [00:31<00:00, 110.77it/s]\n",
      "100%|██████████| 1000/1000 [00:08<00:00, 118.21it/s]\n"
     ]
    }
   ],
   "source": [
    "train_trials = read_dataset(\"data/train_passive_trials.h5\", n_trials=3500, cols=BASIC_TRAINING_COLS)\n",
    "val_trials = read_dataset(\"data/val_passive_trials.h5\", n_trials=1000, cols=BASIC_TRAINING_COLS)"
   ]
  },
  {
   "cell_type": "markdown",
   "metadata": {},
   "source": [
    "# TRAINING"
   ]
  },
  {
   "cell_type": "code",
   "execution_count": 9,
   "metadata": {},
   "outputs": [],
   "source": [
    "INPUT_DIM = len(BASIC_TRAINING_COLS)    # input dimension\n",
    "HIDDEN_DIM = 25  # hidden layer dimension\n",
    "N_LAYERS = 4     # number of hidden layers\n",
    "OUTPUT_DIM = 3   # output dimension\n",
    "DROPOUT = 0.5\n",
    "\n",
    "network_params = (INPUT_DIM, HIDDEN_DIM, OUTPUT_DIM, DROPOUT)"
   ]
  },
  {
   "cell_type": "code",
   "execution_count": 10,
   "metadata": {},
   "outputs": [
    {
     "name": "stderr",
     "output_type": "stream",
     "text": [
      "100%|██████████| 3500/3500 [00:04<00:00, 721.46it/s]\n",
      "100%|██████████| 1000/1000 [00:01<00:00, 724.97it/s]\n",
      "  0%|          | 0/100 [00:00<?, ?it/s]"
     ]
    },
    {
     "name": "stdout",
     "output_type": "stream",
     "text": [
      "step 3 seq_start 0\n"
     ]
    },
    {
     "name": "stderr",
     "output_type": "stream",
     "text": [
      "Train_loss: ([0.8356112  0.89984073]) Train_acc: ([57.37142857 48.94285714]) Val_acc: ([59.  48.7]): 100%|██████████| 100/100 [20:39<00:00, 12.39s/it]\n",
      "Train_loss: ([0.59038335 0.65417118]) Train_acc: ([67.14285714 59.71428571]) Val_acc: ([56.5 55.1]): 100%|██████████| 100/100 [20:40<00:00, 12.38s/it]\n",
      "Train_loss: ([0.50793313 0.55336084]) Train_acc: ([76.02857143 69.68571429]) Val_acc: ([58.8 58.6]): 100%|██████████| 100/100 [20:38<00:00, 12.38s/it]\n",
      "  0%|          | 0/100 [00:00<?, ?it/s]"
     ]
    },
    {
     "name": "stdout",
     "output_type": "stream",
     "text": [
      "step 3 seq_start 900\n"
     ]
    },
    {
     "name": "stderr",
     "output_type": "stream",
     "text": [
      "Train_loss: ([0.74230181 0.8201148 ]) Train_acc: ([59.34285714 54.22857143]) Val_acc: ([47.7 52.2]): 100%|██████████| 100/100 [14:41<00:00,  8.82s/it]\n",
      "Train_loss: ([0.68039275 0.67618257]) Train_acc: ([68.17142857 62.8       ]) Val_acc: ([53.7 58. ]): 100%|██████████| 100/100 [14:41<00:00,  8.80s/it]\n",
      "Train_loss: ([0.5465945  0.42083031]) Train_acc: ([70.77142857 71.28571429]) Val_acc: ([47.4 57. ]): 100%|██████████| 100/100 [14:41<00:00,  8.86s/it]\n",
      "  0%|          | 0/100 [00:00<?, ?it/s]"
     ]
    },
    {
     "name": "stdout",
     "output_type": "stream",
     "text": [
      "step 3 seq_start 1800\n"
     ]
    },
    {
     "name": "stderr",
     "output_type": "stream",
     "text": [
      "Train_loss: ([0.85559365 0.80852509]) Train_acc: ([57.57142857 58.31428571]) Val_acc: ([45.6 45.7]): 100%|██████████| 100/100 [07:59<00:00,  4.81s/it]\n",
      "Train_loss: ([1.03228144 0.99935484]) Train_acc: ([46.22857143 47.31428571]) Val_acc: ([43.1 41.9]): 100%|██████████| 100/100 [08:00<00:00,  4.80s/it]\n",
      "Train_loss: ([0.7994225  0.75573367]) Train_acc: ([59.85714286 57.02857143]) Val_acc: ([44.4 47.2]): 100%|██████████| 100/100 [08:00<00:00,  4.80s/it]\n",
      "  0%|          | 0/100 [00:00<?, ?it/s]"
     ]
    },
    {
     "name": "stdout",
     "output_type": "stream",
     "text": [
      "step 2 seq_start 0\n"
     ]
    },
    {
     "name": "stderr",
     "output_type": "stream",
     "text": [
      "Train_loss: ([0.73395673 0.76362863]) Train_acc: ([52.05714286 51.57142857]) Val_acc: ([46.4 47.7]): 100%|██████████| 100/100 [28:59<00:00, 17.39s/it]\n",
      "Train_loss: ([0.89687878 0.94251137]) Train_acc: ([56.82857143 49.02857143]) Val_acc: ([54.8 47.2]): 100%|██████████| 100/100 [29:00<00:00, 17.40s/it]\n",
      "Train_loss: ([0.68311966 0.77395839]) Train_acc: ([61.37142857 50.22857143]) Val_acc: ([52.2 41.3]): 100%|██████████| 100/100 [29:00<00:00, 17.41s/it]\n",
      "  0%|          | 0/100 [00:00<?, ?it/s]"
     ]
    },
    {
     "name": "stdout",
     "output_type": "stream",
     "text": [
      "step 2 seq_start 900\n"
     ]
    },
    {
     "name": "stderr",
     "output_type": "stream",
     "text": [
      "Train_loss: ([0.78127422 0.79436087]) Train_acc: ([59.88571429 57.2       ]) Val_acc: ([49.7 57.4]): 100%|██████████| 100/100 [20:47<00:00, 12.47s/it]\n",
      "Train_loss: ([0.75089055 0.69049944]) Train_acc: ([59.08571429 54.68571429]) Val_acc: ([46.3 50.4]): 100%|██████████| 100/100 [20:46<00:00, 12.46s/it]\n",
      "Train_loss: ([0.67818364 0.60808547]) Train_acc: ([62.42857143 60.6       ]) Val_acc: ([47.6 54.2]): 100%|██████████| 100/100 [20:47<00:00, 12.48s/it]\n",
      "  0%|          | 0/100 [00:00<?, ?it/s]"
     ]
    },
    {
     "name": "stdout",
     "output_type": "stream",
     "text": [
      "step 2 seq_start 1800\n"
     ]
    },
    {
     "name": "stderr",
     "output_type": "stream",
     "text": [
      "Train_loss: ([0.78584963 0.82934658]) Train_acc: ([58.11428571 52.28571429]) Val_acc: ([42.5 43.8]): 100%|██████████| 100/100 [11:55<00:00,  7.15s/it]\n",
      "Train_loss: ([0.88299944 0.89324922]) Train_acc: ([53.37142857 52.37142857]) Val_acc: ([45.6 45.8]): 100%|██████████| 100/100 [11:56<00:00,  7.16s/it]\n",
      "Train_loss: ([0.79310584 0.77680426]) Train_acc: ([60.34285714 58.31428571]) Val_acc: ([43.6 45.7]): 100%|██████████| 100/100 [11:55<00:00,  7.16s/it]\n",
      "  0%|          | 0/100 [00:00<?, ?it/s]"
     ]
    },
    {
     "name": "stdout",
     "output_type": "stream",
     "text": [
      "step 1 seq_start 0\n"
     ]
    },
    {
     "name": "stderr",
     "output_type": "stream",
     "text": [
      "Train_loss: ([0.41346774 0.38150167]) Train_acc: ([71.08571429 68.91428571]) Val_acc: ([59.  58.6]): 100%|██████████| 100/100 [53:58<00:00, 32.39s/it]\n",
      "Train_loss: ([0.68868088 0.80683916]) Train_acc: ([61.6        49.02857143]) Val_acc: ([54.8 47.8]): 100%|██████████| 100/100 [53:59<00:00, 32.40s/it]\n",
      "Train_loss: ([0.59044098 0.63974564]) Train_acc: ([65.45714286 61.14285714]) Val_acc: ([51.6 52.7]): 100%|██████████| 100/100 [53:57<00:00, 32.39s/it]\n",
      "  0%|          | 0/100 [00:00<?, ?it/s]"
     ]
    },
    {
     "name": "stdout",
     "output_type": "stream",
     "text": [
      "step 1 seq_start 900\n"
     ]
    },
    {
     "name": "stderr",
     "output_type": "stream",
     "text": [
      "Train_loss: ([0.73335474 0.58777341]) Train_acc: ([58.31428571 51.68571429]) Val_acc: ([48.7 47.8]): 100%|██████████| 100/100 [37:20<00:00, 22.39s/it]\n",
      "Train_loss: ([0.99526806 0.94470082]) Train_acc: ([44.08571429 42.68571429]) Val_acc: ([40.5 41.6]): 100%|██████████| 100/100 [37:22<00:00, 22.44s/it]\n",
      "Train_loss: ([0.75820499 0.68545242]) Train_acc: ([57.4        54.94285714]) Val_acc: ([45.1 45.6]): 100%|██████████| 100/100 [37:08<00:00, 22.25s/it]\n",
      "  0%|          | 0/100 [00:00<?, ?it/s]"
     ]
    },
    {
     "name": "stdout",
     "output_type": "stream",
     "text": [
      "step 1 seq_start 1800\n"
     ]
    },
    {
     "name": "stderr",
     "output_type": "stream",
     "text": [
      "Train_loss: ([0.80781169 0.71447451]) Train_acc: ([56.48571429 58.68571429]) Val_acc: ([43.5 48.3]): 100%|██████████| 100/100 [20:42<00:00, 12.44s/it]\n",
      "Train_loss: ([0.96858977 0.92721928]) Train_acc: ([49.97142857 51.31428571]) Val_acc: ([40.8 43.2]): 100%|██████████| 100/100 [20:42<00:00, 12.42s/it]\n",
      "Train_loss: ([1.02244215 0.95399802]) Train_acc: ([40.57142857 45.91428571]) Val_acc: ([37.9 43.1]): 100%|██████████| 100/100 [20:42<00:00, 12.42s/it]\n"
     ]
    }
   ],
   "source": [
    "loaders, scaler = prepare_dataset([train_trials, val_trials], \n",
    "                                  class_columns=[list(MASS_CLASS_COLS), list(FORCE_CLASS_COLS)], \n",
    "                                  training_columns=BASIC_TRAINING_COLS, batch_size=BATCH_SIZE, \n",
    "                                  normalise_data=NORMALISE_DATA, device=device, multiclass=True)\n",
    "\n",
    "\n",
    "stats_dfs = []\n",
    "\n",
    "for step_size in step_sizes:\n",
    "    for seq_start in seq_starts:\n",
    "        print(\"step\", step_size, \"seq_start\", seq_start)\n",
    "        for seed in [0, 1, 2]:\n",
    "            df = pd.DataFrame(columns=[\"step_size\", \"seq_start\", \"Epoch\", \"Mass Loss\", \"Force Loss\", \"Mass Train Accuracy\",\n",
    "                                       \"Mass Val Accuracy\", \"Force Train Accuracy\", \"Force Val Accuracy\", \"seed\"])\n",
    "\n",
    "            model, error, optimizer = initialise_model(network_params, lr=0.01, seed=seed, device=device, arch=MultiBranchModel)\n",
    "            epoch_losses, epoch_accuracies, [best_mass_model, best_force_model] = training_loop(model, optimizer, \n",
    "                                                                                                error, loaders[0], loaders[1], \n",
    "                                                                                                EPOCHS, seq_end=SEQ_END,\n",
    "                                                                                                step_size=step_size,\n",
    "                                                                                                seq_start=seq_start,\n",
    "                                                                                                multibranch=True)\n",
    "\n",
    "            torch.save(best_mass_model.state_dict(), \"models/seq_length_and_res/best_mass_model_step_%d_start_%d_seed_%d.pt\" % (step_size, seq_start, seed))\n",
    "            torch.save(best_force_model.state_dict(), \"models/seq_length_and_res/best_force_model_step_%d_start_%d_seed_%d.pt\" % (step_size, seq_start, seed))\n",
    "\n",
    "            train_accuracies = np.array(epoch_accuracies[0])\n",
    "            val_accuracies = np.array(epoch_accuracies[1]) \n",
    "\n",
    "            df[\"Epoch\"] = np.arange(EPOCHS)\n",
    "            df[\"Mass Loss\"] = epoch_losses[:, 0]\n",
    "            df[\"Force Loss\"] = epoch_losses[:, 1]        \n",
    "            df[\"Mass Train Accuracy\"] = train_accuracies[:, 0]\n",
    "            df[\"Mass Val Accuracy\"] = val_accuracies[:, 0]\n",
    "            df[\"Force Train Accuracy\"] = train_accuracies[:, 1]\n",
    "            df[\"Force Val Accuracy\"] = val_accuracies[:,1]\n",
    "            df[\"step_size\"] = step_size\n",
    "            df[\"seq_start\"] = seq_start            \n",
    "            df[\"seed\"] = str(seed)\n",
    "            stats_dfs.append(df)\n",
    "        \n",
    "stats = pd.concat(stats_dfs)\n",
    "stats.to_hdf(data_directory+\"stats.h5\", key=\"stats\")"
   ]
  }
 ],
 "metadata": {
  "kernelspec": {
   "display_name": "Python 3",
   "language": "python",
   "name": "python3"
  },
  "language_info": {
   "codemirror_mode": {
    "name": "ipython",
    "version": 3
   },
   "file_extension": ".py",
   "mimetype": "text/x-python",
   "name": "python",
   "nbconvert_exporter": "python",
   "pygments_lexer": "ipython3",
   "version": "3.5.6"
  }
 },
 "nbformat": 4,
 "nbformat_minor": 2
}
