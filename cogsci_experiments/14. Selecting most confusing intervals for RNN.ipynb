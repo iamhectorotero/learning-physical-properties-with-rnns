{
 "cells": [
  {
   "cell_type": "code",
   "execution_count": 1,
   "metadata": {},
   "outputs": [],
   "source": [
    "import isaac.constants\n",
    "isaac.constants.TQDM_DISABLE = True\n",
    "\n",
    "from torch import nn\n",
    "from torch.nn import Softmax\n",
    "from isaac.utils import get_cuda_device_if_available\n",
    "import joblib\n",
    "\n",
    "from isaac.dataset import read_dataset, prepare_dataset\n",
    "from isaac.models import MultiBranchModel, ComplexRNNModel\n",
    "from isaac.constants import BASIC_TRAINING_COLS, MASS_CLASS_COLS, FORCE_CLASS_COLS, RTHETA_COLS, XY_RTHETA_COLS, XY_VXVY_RTHETA_COLS\n",
    "from isaac.evaluation import predict_with_a_group_of_saved_models, evaluate_saved_model\n",
    "\n",
    "import torch\n",
    "import glob\n",
    "from torch.autograd import Variable\n",
    "import numpy as np\n",
    "import pandas as pd\n",
    "from tqdm import tqdm\n"
   ]
  },
  {
   "cell_type": "code",
   "execution_count": 2,
   "metadata": {},
   "outputs": [],
   "source": [
    "SECONDS_PER_WINDOW = 5 # seconds\n",
    "FPS = 60\n",
    "STEP_SIZE = 3\n",
    "# PD_STEP_SIZE = 10\n",
    "SEQ_END = 2700"
   ]
  },
  {
   "cell_type": "code",
   "execution_count": 3,
   "metadata": {},
   "outputs": [
    {
     "name": "stdout",
     "output_type": "stream",
     "text": [
      "cpu\n"
     ]
    }
   ],
   "source": [
    "device = get_cuda_device_if_available()\n",
    "print(device)"
   ]
  },
  {
   "cell_type": "code",
   "execution_count": 4,
   "metadata": {},
   "outputs": [],
   "source": [
    "HIDDEN_DIM = 25  # hidden layer dimension\n",
    "N_LAYERS = 4     # number of hidden layers\n",
    "OUTPUT_DIM = 3   # output dimension\n",
    "DROPOUT = 0.5"
   ]
  },
  {
   "cell_type": "code",
   "execution_count": 5,
   "metadata": {},
   "outputs": [],
   "source": [
    "normalise_data = True\n",
    "model_name = \"xy_vxvy\"\n",
    "d = {\"rtheta\": RTHETA_COLS, \"xy_vxvy\": BASIC_TRAINING_COLS,\n",
    "     \"xy_rtheta\": XY_RTHETA_COLS, \"xy_vxvy_rtheta\": XY_VXVY_RTHETA_COLS}\n",
    "training_columns = d[model_name]\n",
    "\n",
    "dataset_path = \"../new_exp_data/exp7_passive.h5\"\n",
    "multiclass = False\n",
    "DATASET = read_dataset(dataset_path)\n",
    "\n",
    "\n",
    "def get_question_predictions_for_group_of_models(question_type):    \n",
    "    \n",
    "    if not multiclass:\n",
    "        class_columns = FORCE_CLASS_COLS if question_type == \"force\" else MASS_CLASS_COLS\n",
    "        models = sorted(glob.glob(\"models/GRU_singlebranch/\"+model_name+\"/best_\"+question_type+\"_model_seed_*.pt\"))\n",
    "        scaler_path = \"scalers/GRU_singlebranch/\"+question_type+\"_\"+model_name+\"_scaler.sk\"\n",
    "        model_arch = ComplexRNNModel\n",
    "        network_dims = (len(training_columns), HIDDEN_DIM, N_LAYERS, OUTPUT_DIM, DROPOUT)\n",
    "\n",
    "    else:\n",
    "        class_columns = [list(MASS_CLASS_COLS), list(FORCE_CLASS_COLS)]\n",
    "        models = sorted(glob.glob(\"models/\"+model_name+\"/best_\"+question_type+\"_model_seed_*.pt\"))\n",
    "        scaler_path = \"scalers/passive_\"+model_name+\"_scaler.sk\"\n",
    "        model_arch = MultiBranchModel\n",
    "        network_dims = (len(training_columns), HIDDEN_DIM, OUTPUT_DIM, DROPOUT)\n",
    "\n",
    "    \n",
    "    predictions = predict_with_a_group_of_saved_models(tqdm(models), network_dims, None, \n",
    "                                                       training_columns=training_columns, \n",
    "                                                       class_columns=class_columns, step_size=STEP_SIZE, \n",
    "                                                       seq_end=SEQ_END, scaler_path=scaler_path,\n",
    "                                                       arch=model_arch, multiclass=multiclass, trials=DATASET,\n",
    "                                                       predict_rolling_windows=True, seconds_per_window=SECONDS_PER_WINDOW)\n",
    "    predictions = torch.stack(predictions)\n",
    "    if multiclass:\n",
    "        if question_type == \"mass\":\n",
    "            predictions = predictions[:, :, :, 0]\n",
    "        else:\n",
    "            predictions = predictions[:, :, :, 1]\n",
    "\n",
    "    return predictions"
   ]
  },
  {
   "cell_type": "markdown",
   "metadata": {},
   "source": [
    "# T-test for MASS questions"
   ]
  },
  {
   "cell_type": "markdown",
   "metadata": {},
   "source": [
    "## Load model's predictions"
   ]
  },
  {
   "cell_type": "code",
   "execution_count": 6,
   "metadata": {
    "scrolled": true
   },
   "outputs": [
    {
     "name": "stderr",
     "output_type": "stream",
     "text": [
      "\r",
      "  0%|          | 0/25 [00:00<?, ?it/s]"
     ]
    },
    {
     "name": "stdout",
     "output_type": "stream",
     "text": [
      "MASS\n"
     ]
    },
    {
     "name": "stderr",
     "output_type": "stream",
     "text": [
      "100%|██████████| 25/25 [00:34<00:00,  1.36s/it]\n",
      "  0%|          | 0/25 [00:00<?, ?it/s]"
     ]
    },
    {
     "name": "stdout",
     "output_type": "stream",
     "text": [
      "\n",
      "FORCE\n"
     ]
    },
    {
     "name": "stderr",
     "output_type": "stream",
     "text": [
      "100%|██████████| 25/25 [00:35<00:00,  1.39s/it]\n"
     ]
    }
   ],
   "source": [
    "print(\"MASS\")\n",
    "question_type = \"mass\"\n",
    "group_mass_seq_prediction = get_question_predictions_for_group_of_models(question_type)\n",
    "\n",
    "print(\"\\nFORCE\")\n",
    "question_type = \"force\"\n",
    "group_force_seq_prediction = get_question_predictions_for_group_of_models(question_type)"
   ]
  },
  {
   "cell_type": "code",
   "execution_count": 7,
   "metadata": {},
   "outputs": [
    {
     "data": {
      "text/plain": [
       "torch.Size([25, 36, 40, 3])"
      ]
     },
     "execution_count": 7,
     "metadata": {},
     "output_type": "execute_result"
    }
   ],
   "source": [
    "group_mass_seq_prediction.shape"
   ]
  },
  {
   "cell_type": "code",
   "execution_count": 8,
   "metadata": {
    "scrolled": true
   },
   "outputs": [],
   "source": [
    "mass_solutions = [trial[list(MASS_CLASS_COLS)].idxmax(axis=1).unique()[0] for trial in DATASET]\n",
    "force_solutions = [trial[list(FORCE_CLASS_COLS)].idxmax(axis=1).unique()[0] for trial in DATASET]"
   ]
  },
  {
   "cell_type": "code",
   "execution_count": 9,
   "metadata": {},
   "outputs": [],
   "source": [
    "s = Softmax(dim=-1)\n",
    "group_force_seq_prediction = s(group_force_seq_prediction)\n",
    "group_mass_seq_prediction = s(group_mass_seq_prediction)"
   ]
  },
  {
   "cell_type": "code",
   "execution_count": 10,
   "metadata": {},
   "outputs": [
    {
     "data": {
      "text/plain": [
       "torch.Size([25, 36, 40, 3])"
      ]
     },
     "execution_count": 10,
     "metadata": {},
     "output_type": "execute_result"
    }
   ],
   "source": [
    "group_force_seq_prediction.shape"
   ]
  },
  {
   "cell_type": "code",
   "execution_count": 11,
   "metadata": {},
   "outputs": [],
   "source": [
    "avg_force_seq_prediction = torch.mean(group_force_seq_prediction, dim=0)\n",
    "avg_mass_seq_prediction = torch.mean(group_mass_seq_prediction, dim=0)"
   ]
  },
  {
   "cell_type": "code",
   "execution_count": 12,
   "metadata": {},
   "outputs": [],
   "source": [
    "n_trials = avg_force_seq_prediction.shape[0]\n",
    "n_windows = avg_force_seq_prediction.shape[1]\n",
    "window_second_start = [i for _ in range(n_trials) for i in range(1, n_windows+1)]\n",
    "trial_number = [i for i in range(n_trials) for _ in range(1, n_windows+1)]"
   ]
  },
  {
   "cell_type": "code",
   "execution_count": 13,
   "metadata": {},
   "outputs": [],
   "source": [
    "mass_df = pd.DataFrame(data=avg_mass_seq_prediction.reshape(n_trials*n_windows, 3).numpy(), \n",
    "                       columns=[\"rnn_%s\" % cl for cl in MASS_CLASS_COLS])\n",
    "mass_df[\"window_second_start\"] = window_second_start\n",
    "mass_df[\"trial_number\"] = trial_number\n",
    "mass_df[\"solution\"] = [mass_solutions[trial_id] for trial_id in trial_number]\n",
    "\n",
    "force_df = pd.DataFrame(data=avg_force_seq_prediction.reshape(n_trials*n_windows, 3).numpy(), \n",
    "                       columns=[\"rnn_%s\" % cl for cl in FORCE_CLASS_COLS])\n",
    "force_df[\"window_second_start\"] = window_second_start\n",
    "force_df[\"trial_number\"] = trial_number\n",
    "force_df[\"solution\"] = [force_solutions[trial_id] for trial_id in trial_number]"
   ]
  },
  {
   "cell_type": "code",
   "execution_count": 14,
   "metadata": {},
   "outputs": [],
   "source": [
    "import matplotlib.pyplot as plt\n",
    "import seaborn as sns\n",
    "\n",
    "sns.set(font_scale=3)\n",
    "sns.set_style(\"white\")"
   ]
  },
  {
   "cell_type": "markdown",
   "metadata": {},
   "source": [
    "# Plot all Force probabilities throughout the trials"
   ]
  },
  {
   "cell_type": "markdown",
   "metadata": {},
   "source": [
    "for trial_i in range(force_df[\"trial_number\"].max() + 1):\n",
    "    trial_df = force_df.query(\"trial_number == %d\" % trial_i)\n",
    "    \n",
    "    plt.figure(figsize=(40, 6))\n",
    "           \n",
    "    ax = sns.lineplot(y=\"rnn_attract\", x=\"window_second_start\", data=trial_df, linewidth=20, label=\"attract\", markers=True)    \n",
    "    ax = sns.lineplot(y=\"rnn_repel\", x=\"window_second_start\", data=trial_df, ax=ax, linewidth=20, label=\"repel\")    \n",
    "    ax = sns.lineplot(y=\"rnn_none\", x=\"window_second_start\", data=trial_df, ax=ax, linewidth=20, label=\"none\")\n",
    "    sns.despine(ax=ax)\n",
    "    \n",
    "    ax.set_ylabel(\"RNN probability\", weight=\"bold\")\n",
    "    ax.set_yticks([0, 0.5, 1])\n",
    "    ax.set_yticklabels(ax.get_yticks(), weight=\"bold\")\n",
    "    ax.set_xlim(0, 45)\n",
    "    ax.set_xticklabels([])\n",
    "    ax.set_xlabel(\"\")\n",
    "    ax.legend(loc=2, prop={'weight':'bold'})\n",
    "    \n",
    "    solution = trial_df.solution.unique()[0]\n",
    "    if solution == \"attract\":\n",
    "        ax.lines[1].set_linestyle(\"--\")\n",
    "        ax.lines[2].set_linestyle(\"--\")\n",
    "    elif solution == \"repel\":\n",
    "        ax.lines[0].set_linestyle(\"--\")\n",
    "        ax.lines[2].set_linestyle(\"--\")\n",
    "    else:\n",
    "        ax.lines[0].set_linestyle(\"--\")\n",
    "        ax.lines[1].set_linestyle(\"--\")        \n",
    "        \n",
    "    plt.savefig(\"cogsci_images/RNN_rw_all_prob_force_plot_%d.png\" % trial_i, bbox_inches='tight')\n",
    "    plt.close()"
   ]
  },
  {
   "cell_type": "markdown",
   "metadata": {},
   "source": [
    "for trial_i in range(mass_df[\"trial_number\"].max() + 1):\n",
    "    trial_df = mass_df.query(\"trial_number == %d\" % trial_i)\n",
    "    plt.figure(figsize=(40, 6))\n",
    "           \n",
    "    ax = sns.lineplot(y=\"rnn_A\", x=\"window_second_start\", data=trial_df, linewidth=20, label=\"A\", markers=True)    \n",
    "    ax = sns.lineplot(y=\"rnn_B\", x=\"window_second_start\", data=trial_df, ax=ax, linewidth=20, label=\"B\")    \n",
    "    ax = sns.lineplot(y=\"rnn_same\", x=\"window_second_start\", data=trial_df, ax=ax, linewidth=20, label=\"same\")\n",
    "    sns.despine(ax=ax)\n",
    "    \n",
    "    ax.set_ylabel(\"RNN probability\", weight=\"bold\")\n",
    "    ax.set_yticks([0, 0.5, 1])\n",
    "    ax.set_yticklabels(ax.get_yticks(), weight=\"bold\")\n",
    "    ax.set_xlim(0, 45)\n",
    "    ax.set_xticklabels([])\n",
    "    ax.set_xlabel(\"\")\n",
    "    ax.legend(loc=2, prop={'weight':'bold'})\n",
    "    \n",
    "    solution = trial_df.solution.unique()[0]\n",
    "    if solution == \"A\":\n",
    "        ax.lines[1].set_linestyle(\"--\")\n",
    "        ax.lines[2].set_linestyle(\"--\")\n",
    "    elif solution == \"B\":\n",
    "        ax.lines[0].set_linestyle(\"--\")\n",
    "        ax.lines[2].set_linestyle(\"--\")\n",
    "    else:\n",
    "        ax.lines[0].set_linestyle(\"--\")\n",
    "        ax.lines[1].set_linestyle(\"--\")        \n",
    "        \n",
    "    plt.savefig(\"cogsci_images/RNN_rw_all_prob_mass_plot_%d.png\" % trial_i, bbox_inches='tight')\n",
    "    plt.close()"
   ]
  },
  {
   "cell_type": "markdown",
   "metadata": {},
   "source": [
    "# Obtain most confusing intervals\n",
    "Most confusing = Highest values of probability for a wrong class"
   ]
  },
  {
   "cell_type": "code",
   "execution_count": 15,
   "metadata": {},
   "outputs": [],
   "source": [
    "def entropy_rnn_responses(responses):\n",
    "    responses = responses.tolist()\n",
    "    return -np.sum(responses * np.log2(responses))\n",
    "\n",
    "def get_probabilities_df(df, task):\n",
    "    rows = []\n",
    "    \n",
    "    class_columns = FORCE_CLASS_COLS if task == \"force\" else MASS_CLASS_COLS\n",
    "    rnn_columns = [\"rnn_\" + cl for cl in class_columns]\n",
    "\n",
    "    \n",
    "    for i in range(df.shape[0]):\n",
    "        row = df.iloc[i]\n",
    "        window_second_start = row.window_second_start\n",
    "        trial_number = row.trial_number\n",
    "        solution = row.solution\n",
    "        \n",
    "        rnn_solution_probability = row[\"rnn_\"+solution]\n",
    "        rnn_preferred_option = class_columns[np.argmax(row[rnn_columns].values)]\n",
    "        rnn_preferred_option_probability = max(row[rnn_columns])\n",
    "        rnn_entropy = entropy_rnn_responses(row[rnn_columns].values)\n",
    "        \n",
    "        wrong_options = [\"rnn_\" + cl for cl in class_columns if cl != solution]\n",
    "        max_probability_for_a_wrong_option = max(row[wrong_options])\n",
    "        \n",
    "        \n",
    "        rows.append([window_second_start, trial_number, solution,\n",
    "                    rnn_solution_probability, rnn_preferred_option, rnn_preferred_option_probability,\n",
    "                    rnn_entropy, max_probability_for_a_wrong_option])\n",
    "        \n",
    "\n",
    "    df = pd.DataFrame(data=rows, columns=[\"window_second_start\", \"trial_number\", \"solution\", \"rnn_solution_probability\",\n",
    "                                         \"rnn_preferred_option\", \"rnn_preferred_option_probability\", \"entropy\",\n",
    "                                         \"max_probability_for_a_wrong_option\"])\n",
    "    return df\n"
   ]
  },
  {
   "cell_type": "code",
   "execution_count": 16,
   "metadata": {},
   "outputs": [],
   "source": [
    "confused_mass_dfs = get_probabilities_df(mass_df, \"mass\")\n",
    "confused_force_dfs = get_probabilities_df(force_df, \"force\")"
   ]
  },
  {
   "cell_type": "code",
   "execution_count": 17,
   "metadata": {
    "scrolled": true
   },
   "outputs": [],
   "source": [
    "confused_mass_dfs = confused_mass_dfs.sort_values(by=\"max_probability_for_a_wrong_option\", ascending=False)\n",
    "confused_force_dfs = confused_force_dfs.sort_values(by=\"max_probability_for_a_wrong_option\", ascending=False)"
   ]
  },
  {
   "cell_type": "markdown",
   "metadata": {},
   "source": [
    "## Load human results"
   ]
  },
  {
   "cell_type": "code",
   "execution_count": 18,
   "metadata": {},
   "outputs": [
    {
     "name": "stdout",
     "output_type": "stream",
     "text": [
      "pygame 1.9.6\n",
      "Hello from the pygame community. https://www.pygame.org/contribute.html\n"
     ]
    }
   ],
   "source": [
    "from isaac.visualization import make_frame_curried\n",
    "import moviepy.editor as mpy\n",
    "from scipy import misc\n",
    "\n",
    "\n",
    "def make_clip(trial_data, window_second_start, solution, rnn_thinks_this_is, rnn_confidence):\n",
    "            \n",
    "    trial_data = trial_data.iloc[window_second_start*FPS:(window_second_start + SECONDS_PER_WINDOW)*FPS]\n",
    "    duration = len(trial_data)\n",
    "    n_bodies = sum([\"o\"+str(i)+\".x\" in list(trial_data.columns) for i in range(1, 5)])\n",
    "    \n",
    "    while (len(trial_data) + 1) % 60 != 0:\n",
    "        trial_data = trial_data.append(trial_data.iloc[-1], ignore_index=True)\n",
    "        \n",
    "    make_frame = make_frame_curried(trial_data, n_bodies, None, None)\n",
    "    clip = mpy.VideoClip(make_frame, duration=duration / 60)\n",
    "    return clip, trial_data"
   ]
  },
  {
   "cell_type": "code",
   "execution_count": 19,
   "metadata": {},
   "outputs": [],
   "source": [
    "%load_ext autoreload\n",
    "%autoreload 2"
   ]
  },
  {
   "cell_type": "markdown",
   "metadata": {},
   "source": [
    "# Create videos for comparing evidence seen by RNN and by IO"
   ]
  },
  {
   "cell_type": "code",
   "execution_count": 20,
   "metadata": {
    "scrolled": true
   },
   "outputs": [],
   "source": [
    "import os\n",
    "import json\n",
    "\n",
    "CONFUSING_DATA_PATH = \"cogsci_images/confusing_videos/confusing_%s\" % model_name\n",
    "os.makedirs(CONFUSING_DATA_PATH, exist_ok=True)\n",
    "FILENAME = \"confusing_%s_interval_in_trial_%d_sec_%d_to_%d_rnn_thinks_%s__prob_%.4f_while_solution_is_%s_prob_%.4f\"\n",
    "VIDEO_PATH = os.path.join(CONFUSING_DATA_PATH, FILENAME + \".mp4\")\n",
    "JSON_PATH = os.path.join(CONFUSING_DATA_PATH, \"confusing_\"+model_name+\"_%s_physics_data.json\")\n",
    "JSON_DATA = []\n",
    "\n",
    "def write_confused_intervals(confused_df, question_type, solution):\n",
    "\n",
    "    replays = read_dataset(\"../new_exp_data/exp7_passive.h5\")\n",
    "    print(len(replays))\n",
    "    written_replays = {}\n",
    "    number_of_written_replays = 0\n",
    "    \n",
    "    \n",
    "    confused_df = confused_df.query(\"solution == '%s'\" % solution).copy()\n",
    "\n",
    "    for row_i in range(confused_df.shape[0]):\n",
    "\n",
    "        window_second_start, trial_number, solution, rnn_preferred_option, rnn_preferred_option_probability, rnn_solution_probability = (\n",
    "            confused_df.iloc[row_i][[\"window_second_start\", \"trial_number\", \"solution\", \"rnn_preferred_option\",\n",
    "                                     \"rnn_preferred_option_probability\", \"rnn_solution_probability\"]])\n",
    "\n",
    "        window_second_end = window_second_start + SECONDS_PER_WINDOW\n",
    "        \n",
    "        print(\"RNN thinks the interval (%d, %d) in trial %d is %s with %.4f confidence. In reality, it is %s (%.4f).\" % (\n",
    "            window_second_start, window_second_end, trial_number,\n",
    "            rnn_preferred_option, rnn_preferred_option_probability, solution, rnn_solution_probability))\n",
    "        \n",
    "        \n",
    "        # DON'T SAVE AN INTERVAL IF IT REFRESHES\n",
    "        window_frame_start = window_second_start * 60\n",
    "        window_frame_end = window_second_end * 60\n",
    "        frames_in_which_the_replay_refreshes = replays[trial_number].refreshes[0] if\\\n",
    "                                               \"refreshes\" in replays[trial_number].columns\\\n",
    "                                                else []\n",
    "        frames_in_which_the_replay_refreshes = [frames_in_which_the_replay_refreshes] if\\\n",
    "                                                    type(frames_in_which_the_replay_refreshes) == np.int64\\\n",
    "                                                else frames_in_which_the_replay_refreshes\n",
    "        \n",
    "        interval_refreshes = False\n",
    "        for frame in frames_in_which_the_replay_refreshes:\n",
    "            if window_frame_end > frame > window_frame_start:\n",
    "                interval_refreshes = True\n",
    "                break\n",
    "        if interval_refreshes:\n",
    "            print(\"Skipping trial %d and start %d because of interval refreshes\" % (trial_number, window_second_start))\n",
    "            continue            \n",
    "        \n",
    "        # DON'T SAVE AN INTERVAL IF THERE'S AN OVERLAPPING INTERVAL ALREADY SAVED\n",
    "        if trial_number in written_replays:\n",
    "            overlapping_replay = False\n",
    "            for already_written_window_start in written_replays[trial_number]:\n",
    "                if abs(already_written_window_start - window_second_start) <= 5:\n",
    "                    overlapping_replay = True\n",
    "                    break\n",
    "            if overlapping_replay:\n",
    "                print(\"Skipping trial %d and start %d because of interval overlap\" % (trial_number, window_second_start))\n",
    "                continue\n",
    "\n",
    "        # SAVE THE INTERVAL\n",
    "        written_replays[trial_number] = written_replays.get(trial_number, []) + [window_second_start]\n",
    "        clip, trial_data = make_clip(replays[trial_number], window_second_start, solution, rnn_preferred_option, rnn_preferred_option_probability)\n",
    "        clip.ipython_display(fps=60)\n",
    "        clip.write_videofile(VIDEO_PATH % (\n",
    "            question_type, trial_number, window_second_start, window_second_end,\n",
    "            rnn_preferred_option, rnn_preferred_option_probability, solution, rnn_solution_probability), fps=60)\n",
    "\n",
    "        trial_data = trial_data.to_dict(orient='list')\n",
    "        # Simplify attributes whose values are unique throughout the list\n",
    "        for key in [\"trial_type\", \"condition_world_variant\", \"tM\", \"tR\", \"world_id\"]:\n",
    "            trial_data[key] = trial_data[key][0]\n",
    "        JSON_DATA.append(trial_data)\n",
    "\n",
    "        number_of_written_replays += 1\n",
    "        if number_of_written_replays == 5:\n",
    "            break\n",
    "    \n",
    "    print(number_of_written_replays)"
   ]
  },
  {
   "cell_type": "code",
   "execution_count": 21,
   "metadata": {
    "scrolled": false
   },
   "outputs": [
    {
     "name": "stdout",
     "output_type": "stream",
     "text": [
      "36\n",
      "RNN thinks the interval (25, 30) in trial 1 is none with 0.7070 confidence. In reality, it is attract (0.1140).\n",
      "Skipping trial 1 and start 25 because of interval refreshes\n",
      "RNN thinks the interval (10, 15) in trial 28 is repel with 0.6895 confidence. In reality, it is attract (0.0215).\n"
     ]
    },
    {
     "name": "stderr",
     "output_type": "stream",
     "text": [
      "100%|█████████▉| 300/301 [00:02<00:00, 134.16it/s]"
     ]
    },
    {
     "name": "stdout",
     "output_type": "stream",
     "text": [
      "[MoviePy] >>>> Building video cogsci_images/confusing_videos/confusing_xy_vxvy/confusing_force_interval_in_trial_28_sec_10_to_15_rnn_thinks_repel__prob_0.6895_while_solution_is_attract_prob_0.0215.mp4\n",
      "[MoviePy] Writing video cogsci_images/confusing_videos/confusing_xy_vxvy/confusing_force_interval_in_trial_28_sec_10_to_15_rnn_thinks_repel__prob_0.6895_while_solution_is_attract_prob_0.0215.mp4\n"
     ]
    },
    {
     "name": "stderr",
     "output_type": "stream",
     "text": [
      "\n",
      "100%|█████████▉| 300/301 [00:02<00:00, 128.37it/s]"
     ]
    },
    {
     "name": "stdout",
     "output_type": "stream",
     "text": [
      "[MoviePy] Done.\n",
      "[MoviePy] >>>> Video ready: cogsci_images/confusing_videos/confusing_xy_vxvy/confusing_force_interval_in_trial_28_sec_10_to_15_rnn_thinks_repel__prob_0.6895_while_solution_is_attract_prob_0.0215.mp4 \n",
      "\n"
     ]
    },
    {
     "name": "stderr",
     "output_type": "stream",
     "text": [
      "\n"
     ]
    },
    {
     "name": "stdout",
     "output_type": "stream",
     "text": [
      "RNN thinks the interval (40, 45) in trial 11 is none with 0.6719 confidence. In reality, it is attract (0.2151).\n"
     ]
    },
    {
     "name": "stderr",
     "output_type": "stream",
     "text": [
      "100%|█████████▉| 300/301 [00:02<00:00, 139.19it/s]\n"
     ]
    },
    {
     "name": "stdout",
     "output_type": "stream",
     "text": [
      "[MoviePy] >>>> Building video cogsci_images/confusing_videos/confusing_xy_vxvy/confusing_force_interval_in_trial_11_sec_40_to_45_rnn_thinks_none__prob_0.6719_while_solution_is_attract_prob_0.2151.mp4\n",
      "[MoviePy] Writing video cogsci_images/confusing_videos/confusing_xy_vxvy/confusing_force_interval_in_trial_11_sec_40_to_45_rnn_thinks_none__prob_0.6719_while_solution_is_attract_prob_0.2151.mp4\n"
     ]
    },
    {
     "name": "stderr",
     "output_type": "stream",
     "text": [
      "100%|█████████▉| 300/301 [00:02<00:00, 129.67it/s]"
     ]
    },
    {
     "name": "stdout",
     "output_type": "stream",
     "text": [
      "[MoviePy] Done.\n",
      "[MoviePy] >>>> Video ready: cogsci_images/confusing_videos/confusing_xy_vxvy/confusing_force_interval_in_trial_11_sec_40_to_45_rnn_thinks_none__prob_0.6719_while_solution_is_attract_prob_0.2151.mp4 \n",
      "\n"
     ]
    },
    {
     "name": "stderr",
     "output_type": "stream",
     "text": [
      "\n"
     ]
    },
    {
     "name": "stdout",
     "output_type": "stream",
     "text": [
      "RNN thinks the interval (31, 36) in trial 11 is none with 0.6428 confidence. In reality, it is attract (0.2730).\n",
      "Skipping trial 11 and start 31 because of interval refreshes\n",
      "RNN thinks the interval (19, 24) in trial 1 is none with 0.6363 confidence. In reality, it is attract (0.1104).\n"
     ]
    },
    {
     "name": "stderr",
     "output_type": "stream",
     "text": [
      "100%|█████████▉| 300/301 [00:02<00:00, 132.25it/s]\n"
     ]
    },
    {
     "name": "stdout",
     "output_type": "stream",
     "text": [
      "[MoviePy] >>>> Building video cogsci_images/confusing_videos/confusing_xy_vxvy/confusing_force_interval_in_trial_1_sec_19_to_24_rnn_thinks_none__prob_0.6363_while_solution_is_attract_prob_0.1104.mp4\n",
      "[MoviePy] Writing video cogsci_images/confusing_videos/confusing_xy_vxvy/confusing_force_interval_in_trial_1_sec_19_to_24_rnn_thinks_none__prob_0.6363_while_solution_is_attract_prob_0.1104.mp4\n"
     ]
    },
    {
     "name": "stderr",
     "output_type": "stream",
     "text": [
      "100%|█████████▉| 300/301 [00:02<00:00, 132.29it/s]\n"
     ]
    },
    {
     "name": "stdout",
     "output_type": "stream",
     "text": [
      "[MoviePy] Done.\n",
      "[MoviePy] >>>> Video ready: cogsci_images/confusing_videos/confusing_xy_vxvy/confusing_force_interval_in_trial_1_sec_19_to_24_rnn_thinks_none__prob_0.6363_while_solution_is_attract_prob_0.1104.mp4 \n",
      "\n",
      "RNN thinks the interval (19, 24) in trial 28 is none with 0.6285 confidence. In reality, it is attract (0.2983).\n",
      "Skipping trial 28 and start 19 because of interval refreshes\n",
      "RNN thinks the interval (22, 27) in trial 29 is none with 0.6273 confidence. In reality, it is attract (0.2187).\n"
     ]
    },
    {
     "name": "stderr",
     "output_type": "stream",
     "text": [
      "100%|█████████▉| 300/301 [00:02<00:00, 129.46it/s]"
     ]
    },
    {
     "name": "stdout",
     "output_type": "stream",
     "text": [
      "[MoviePy] >>>> Building video cogsci_images/confusing_videos/confusing_xy_vxvy/confusing_force_interval_in_trial_29_sec_22_to_27_rnn_thinks_none__prob_0.6273_while_solution_is_attract_prob_0.2187.mp4\n",
      "[MoviePy] Writing video cogsci_images/confusing_videos/confusing_xy_vxvy/confusing_force_interval_in_trial_29_sec_22_to_27_rnn_thinks_none__prob_0.6273_while_solution_is_attract_prob_0.2187.mp4\n"
     ]
    },
    {
     "name": "stderr",
     "output_type": "stream",
     "text": [
      "\n",
      "100%|█████████▉| 300/301 [00:02<00:00, 132.34it/s]\n"
     ]
    },
    {
     "name": "stdout",
     "output_type": "stream",
     "text": [
      "[MoviePy] Done.\n",
      "[MoviePy] >>>> Video ready: cogsci_images/confusing_videos/confusing_xy_vxvy/confusing_force_interval_in_trial_29_sec_22_to_27_rnn_thinks_none__prob_0.6273_while_solution_is_attract_prob_0.2187.mp4 \n",
      "\n",
      "RNN thinks the interval (39, 44) in trial 11 is none with 0.6219 confidence. In reality, it is attract (0.2809).\n",
      "Skipping trial 11 and start 39 because of interval overlap\n",
      "RNN thinks the interval (17, 22) in trial 10 is repel with 0.6183 confidence. In reality, it is attract (0.0385).\n"
     ]
    },
    {
     "name": "stderr",
     "output_type": "stream",
     "text": [
      "100%|█████████▉| 300/301 [00:02<00:00, 126.86it/s]\n"
     ]
    },
    {
     "name": "stdout",
     "output_type": "stream",
     "text": [
      "[MoviePy] >>>> Building video cogsci_images/confusing_videos/confusing_xy_vxvy/confusing_force_interval_in_trial_10_sec_17_to_22_rnn_thinks_repel__prob_0.6183_while_solution_is_attract_prob_0.0385.mp4\n",
      "[MoviePy] Writing video cogsci_images/confusing_videos/confusing_xy_vxvy/confusing_force_interval_in_trial_10_sec_17_to_22_rnn_thinks_repel__prob_0.6183_while_solution_is_attract_prob_0.0385.mp4\n"
     ]
    },
    {
     "name": "stderr",
     "output_type": "stream",
     "text": [
      "100%|█████████▉| 300/301 [00:02<00:00, 123.58it/s]"
     ]
    },
    {
     "name": "stdout",
     "output_type": "stream",
     "text": [
      "[MoviePy] Done.\n",
      "[MoviePy] >>>> Video ready: cogsci_images/confusing_videos/confusing_xy_vxvy/confusing_force_interval_in_trial_10_sec_17_to_22_rnn_thinks_repel__prob_0.6183_while_solution_is_attract_prob_0.0385.mp4 \n",
      "\n"
     ]
    },
    {
     "name": "stderr",
     "output_type": "stream",
     "text": [
      "\n"
     ]
    },
    {
     "name": "stdout",
     "output_type": "stream",
     "text": [
      "5\n",
      "36\n",
      "RNN thinks the interval (21, 26) in trial 7 is none with 0.8225 confidence. In reality, it is repel (0.1372).\n",
      "Skipping trial 7 and start 21 because of interval refreshes\n",
      "RNN thinks the interval (39, 44) in trial 6 is none with 0.8098 confidence. In reality, it is repel (0.0485).\n"
     ]
    },
    {
     "name": "stderr",
     "output_type": "stream",
     "text": [
      "100%|█████████▉| 300/301 [00:02<00:00, 126.41it/s]\n"
     ]
    },
    {
     "name": "stdout",
     "output_type": "stream",
     "text": [
      "[MoviePy] >>>> Building video cogsci_images/confusing_videos/confusing_xy_vxvy/confusing_force_interval_in_trial_6_sec_39_to_44_rnn_thinks_none__prob_0.8098_while_solution_is_repel_prob_0.0485.mp4\n",
      "[MoviePy] Writing video cogsci_images/confusing_videos/confusing_xy_vxvy/confusing_force_interval_in_trial_6_sec_39_to_44_rnn_thinks_none__prob_0.8098_while_solution_is_repel_prob_0.0485.mp4\n"
     ]
    },
    {
     "name": "stderr",
     "output_type": "stream",
     "text": [
      "100%|█████████▉| 300/301 [00:02<00:00, 126.64it/s]\n"
     ]
    },
    {
     "name": "stdout",
     "output_type": "stream",
     "text": [
      "[MoviePy] Done.\n",
      "[MoviePy] >>>> Video ready: cogsci_images/confusing_videos/confusing_xy_vxvy/confusing_force_interval_in_trial_6_sec_39_to_44_rnn_thinks_none__prob_0.8098_while_solution_is_repel_prob_0.0485.mp4 \n",
      "\n",
      "RNN thinks the interval (20, 25) in trial 7 is none with 0.8061 confidence. In reality, it is repel (0.1744).\n",
      "Skipping trial 7 and start 20 because of interval refreshes\n",
      "RNN thinks the interval (40, 45) in trial 16 is none with 0.8050 confidence. In reality, it is repel (0.1357).\n",
      "Skipping trial 16 and start 40 because of interval refreshes\n",
      "RNN thinks the interval (11, 16) in trial 33 is none with 0.7881 confidence. In reality, it is repel (0.1767).\n"
     ]
    },
    {
     "name": "stderr",
     "output_type": "stream",
     "text": [
      "100%|█████████▉| 300/301 [00:02<00:00, 123.34it/s]\n"
     ]
    },
    {
     "name": "stdout",
     "output_type": "stream",
     "text": [
      "[MoviePy] >>>> Building video cogsci_images/confusing_videos/confusing_xy_vxvy/confusing_force_interval_in_trial_33_sec_11_to_16_rnn_thinks_none__prob_0.7881_while_solution_is_repel_prob_0.1767.mp4\n",
      "[MoviePy] Writing video cogsci_images/confusing_videos/confusing_xy_vxvy/confusing_force_interval_in_trial_33_sec_11_to_16_rnn_thinks_none__prob_0.7881_while_solution_is_repel_prob_0.1767.mp4\n"
     ]
    },
    {
     "name": "stderr",
     "output_type": "stream",
     "text": [
      "100%|█████████▉| 300/301 [00:02<00:00, 128.89it/s]"
     ]
    },
    {
     "name": "stdout",
     "output_type": "stream",
     "text": [
      "[MoviePy] Done.\n",
      "[MoviePy] >>>> Video ready: cogsci_images/confusing_videos/confusing_xy_vxvy/confusing_force_interval_in_trial_33_sec_11_to_16_rnn_thinks_none__prob_0.7881_while_solution_is_repel_prob_0.1767.mp4 \n",
      "\n"
     ]
    },
    {
     "name": "stderr",
     "output_type": "stream",
     "text": [
      "\n"
     ]
    },
    {
     "name": "stdout",
     "output_type": "stream",
     "text": [
      "RNN thinks the interval (38, 43) in trial 6 is none with 0.7843 confidence. In reality, it is repel (0.0934).\n",
      "Skipping trial 6 and start 38 because of interval overlap\n",
      "RNN thinks the interval (12, 17) in trial 33 is none with 0.7672 confidence. In reality, it is repel (0.2105).\n",
      "Skipping trial 33 and start 12 because of interval overlap\n",
      "RNN thinks the interval (39, 44) in trial 16 is none with 0.7649 confidence. In reality, it is repel (0.1852).\n"
     ]
    },
    {
     "name": "stderr",
     "output_type": "stream",
     "text": [
      "100%|█████████▉| 300/301 [00:02<00:00, 129.60it/s]"
     ]
    },
    {
     "name": "stdout",
     "output_type": "stream",
     "text": [
      "[MoviePy] >>>> Building video cogsci_images/confusing_videos/confusing_xy_vxvy/confusing_force_interval_in_trial_16_sec_39_to_44_rnn_thinks_none__prob_0.7649_while_solution_is_repel_prob_0.1852.mp4\n",
      "[MoviePy] Writing video cogsci_images/confusing_videos/confusing_xy_vxvy/confusing_force_interval_in_trial_16_sec_39_to_44_rnn_thinks_none__prob_0.7649_while_solution_is_repel_prob_0.1852.mp4\n"
     ]
    },
    {
     "name": "stderr",
     "output_type": "stream",
     "text": [
      "\n",
      "100%|█████████▉| 300/301 [00:02<00:00, 127.88it/s]"
     ]
    },
    {
     "name": "stdout",
     "output_type": "stream",
     "text": [
      "[MoviePy] Done.\n",
      "[MoviePy] >>>> Video ready: cogsci_images/confusing_videos/confusing_xy_vxvy/confusing_force_interval_in_trial_16_sec_39_to_44_rnn_thinks_none__prob_0.7649_while_solution_is_repel_prob_0.1852.mp4 \n",
      "\n"
     ]
    },
    {
     "name": "stderr",
     "output_type": "stream",
     "text": [
      "\n"
     ]
    },
    {
     "name": "stdout",
     "output_type": "stream",
     "text": [
      "RNN thinks the interval (13, 18) in trial 33 is none with 0.7555 confidence. In reality, it is repel (0.1893).\n",
      "Skipping trial 33 and start 13 because of interval overlap\n",
      "RNN thinks the interval (38, 43) in trial 16 is none with 0.7553 confidence. In reality, it is repel (0.1744).\n",
      "Skipping trial 16 and start 38 because of interval overlap\n",
      "RNN thinks the interval (19, 24) in trial 7 is none with 0.7461 confidence. In reality, it is repel (0.2385).\n",
      "Skipping trial 7 and start 19 because of interval refreshes\n",
      "RNN thinks the interval (9, 14) in trial 17 is none with 0.7397 confidence. In reality, it is repel (0.2051).\n"
     ]
    },
    {
     "name": "stderr",
     "output_type": "stream",
     "text": [
      "100%|█████████▉| 300/301 [00:02<00:00, 131.06it/s]\n"
     ]
    },
    {
     "name": "stdout",
     "output_type": "stream",
     "text": [
      "[MoviePy] >>>> Building video cogsci_images/confusing_videos/confusing_xy_vxvy/confusing_force_interval_in_trial_17_sec_9_to_14_rnn_thinks_none__prob_0.7397_while_solution_is_repel_prob_0.2051.mp4\n",
      "[MoviePy] Writing video cogsci_images/confusing_videos/confusing_xy_vxvy/confusing_force_interval_in_trial_17_sec_9_to_14_rnn_thinks_none__prob_0.7397_while_solution_is_repel_prob_0.2051.mp4\n"
     ]
    },
    {
     "name": "stderr",
     "output_type": "stream",
     "text": [
      "100%|█████████▉| 300/301 [00:02<00:00, 131.05it/s]\n"
     ]
    },
    {
     "name": "stdout",
     "output_type": "stream",
     "text": [
      "[MoviePy] Done.\n",
      "[MoviePy] >>>> Video ready: cogsci_images/confusing_videos/confusing_xy_vxvy/confusing_force_interval_in_trial_17_sec_9_to_14_rnn_thinks_none__prob_0.7397_while_solution_is_repel_prob_0.2051.mp4 \n",
      "\n",
      "RNN thinks the interval (14, 19) in trial 33 is none with 0.7372 confidence. In reality, it is repel (0.1959).\n",
      "Skipping trial 33 and start 14 because of interval overlap\n",
      "RNN thinks the interval (10, 15) in trial 33 is none with 0.7305 confidence. In reality, it is repel (0.1847).\n",
      "Skipping trial 33 and start 10 because of interval overlap\n",
      "RNN thinks the interval (32, 37) in trial 33 is none with 0.7201 confidence. In reality, it is repel (0.2012).\n"
     ]
    },
    {
     "name": "stderr",
     "output_type": "stream",
     "text": [
      "100%|█████████▉| 300/301 [00:02<00:00, 141.32it/s]"
     ]
    },
    {
     "name": "stdout",
     "output_type": "stream",
     "text": [
      "[MoviePy] >>>> Building video cogsci_images/confusing_videos/confusing_xy_vxvy/confusing_force_interval_in_trial_33_sec_32_to_37_rnn_thinks_none__prob_0.7201_while_solution_is_repel_prob_0.2012.mp4\n",
      "[MoviePy] Writing video cogsci_images/confusing_videos/confusing_xy_vxvy/confusing_force_interval_in_trial_33_sec_32_to_37_rnn_thinks_none__prob_0.7201_while_solution_is_repel_prob_0.2012.mp4\n"
     ]
    },
    {
     "name": "stderr",
     "output_type": "stream",
     "text": [
      "\n",
      "100%|█████████▉| 300/301 [00:02<00:00, 131.08it/s]\n"
     ]
    },
    {
     "name": "stdout",
     "output_type": "stream",
     "text": [
      "[MoviePy] Done.\n",
      "[MoviePy] >>>> Video ready: cogsci_images/confusing_videos/confusing_xy_vxvy/confusing_force_interval_in_trial_33_sec_32_to_37_rnn_thinks_none__prob_0.7201_while_solution_is_repel_prob_0.2012.mp4 \n",
      "\n",
      "5\n",
      "36\n",
      "RNN thinks the interval (36, 41) in trial 21 is attract with 0.7938 confidence. In reality, it is none (0.2033).\n"
     ]
    },
    {
     "name": "stderr",
     "output_type": "stream",
     "text": [
      "100%|█████████▉| 300/301 [00:02<00:00, 139.51it/s]"
     ]
    },
    {
     "name": "stdout",
     "output_type": "stream",
     "text": [
      "[MoviePy] >>>> Building video cogsci_images/confusing_videos/confusing_xy_vxvy/confusing_force_interval_in_trial_21_sec_36_to_41_rnn_thinks_attract__prob_0.7938_while_solution_is_none_prob_0.2033.mp4\n",
      "[MoviePy] Writing video cogsci_images/confusing_videos/confusing_xy_vxvy/confusing_force_interval_in_trial_21_sec_36_to_41_rnn_thinks_attract__prob_0.7938_while_solution_is_none_prob_0.2033.mp4\n"
     ]
    },
    {
     "name": "stderr",
     "output_type": "stream",
     "text": [
      "\n",
      "100%|█████████▉| 300/301 [00:02<00:00, 124.18it/s]\n"
     ]
    },
    {
     "name": "stdout",
     "output_type": "stream",
     "text": [
      "[MoviePy] Done.\n",
      "[MoviePy] >>>> Video ready: cogsci_images/confusing_videos/confusing_xy_vxvy/confusing_force_interval_in_trial_21_sec_36_to_41_rnn_thinks_attract__prob_0.7938_while_solution_is_none_prob_0.2033.mp4 \n",
      "\n",
      "RNN thinks the interval (35, 40) in trial 21 is attract with 0.7095 confidence. In reality, it is none (0.2667).\n",
      "Skipping trial 21 and start 35 because of interval overlap\n",
      "RNN thinks the interval (33, 38) in trial 21 is attract with 0.6769 confidence. In reality, it is none (0.2692).\n",
      "Skipping trial 21 and start 33 because of interval overlap\n",
      "RNN thinks the interval (30, 35) in trial 13 is repel with 0.6451 confidence. In reality, it is none (0.3212).\n"
     ]
    },
    {
     "name": "stderr",
     "output_type": "stream",
     "text": [
      "100%|█████████▉| 300/301 [00:02<00:00, 131.18it/s]\n"
     ]
    },
    {
     "name": "stdout",
     "output_type": "stream",
     "text": [
      "[MoviePy] >>>> Building video cogsci_images/confusing_videos/confusing_xy_vxvy/confusing_force_interval_in_trial_13_sec_30_to_35_rnn_thinks_repel__prob_0.6451_while_solution_is_none_prob_0.3212.mp4\n",
      "[MoviePy] Writing video cogsci_images/confusing_videos/confusing_xy_vxvy/confusing_force_interval_in_trial_13_sec_30_to_35_rnn_thinks_repel__prob_0.6451_while_solution_is_none_prob_0.3212.mp4\n"
     ]
    },
    {
     "name": "stderr",
     "output_type": "stream",
     "text": [
      "100%|█████████▉| 300/301 [00:02<00:00, 127.62it/s]\n"
     ]
    },
    {
     "name": "stdout",
     "output_type": "stream",
     "text": [
      "[MoviePy] Done.\n",
      "[MoviePy] >>>> Video ready: cogsci_images/confusing_videos/confusing_xy_vxvy/confusing_force_interval_in_trial_13_sec_30_to_35_rnn_thinks_repel__prob_0.6451_while_solution_is_none_prob_0.3212.mp4 \n",
      "\n",
      "RNN thinks the interval (11, 16) in trial 4 is attract with 0.6446 confidence. In reality, it is none (0.3112).\n"
     ]
    },
    {
     "name": "stderr",
     "output_type": "stream",
     "text": [
      "100%|█████████▉| 300/301 [00:02<00:00, 130.58it/s]\n"
     ]
    },
    {
     "name": "stdout",
     "output_type": "stream",
     "text": [
      "[MoviePy] >>>> Building video cogsci_images/confusing_videos/confusing_xy_vxvy/confusing_force_interval_in_trial_4_sec_11_to_16_rnn_thinks_attract__prob_0.6446_while_solution_is_none_prob_0.3112.mp4\n",
      "[MoviePy] Writing video cogsci_images/confusing_videos/confusing_xy_vxvy/confusing_force_interval_in_trial_4_sec_11_to_16_rnn_thinks_attract__prob_0.6446_while_solution_is_none_prob_0.3112.mp4\n"
     ]
    },
    {
     "name": "stderr",
     "output_type": "stream",
     "text": [
      "100%|█████████▉| 300/301 [00:02<00:00, 120.68it/s]"
     ]
    },
    {
     "name": "stdout",
     "output_type": "stream",
     "text": [
      "[MoviePy] Done.\n",
      "[MoviePy] >>>> Video ready: cogsci_images/confusing_videos/confusing_xy_vxvy/confusing_force_interval_in_trial_4_sec_11_to_16_rnn_thinks_attract__prob_0.6446_while_solution_is_none_prob_0.3112.mp4 \n",
      "\n"
     ]
    },
    {
     "name": "stderr",
     "output_type": "stream",
     "text": [
      "\n"
     ]
    },
    {
     "name": "stdout",
     "output_type": "stream",
     "text": [
      "RNN thinks the interval (40, 45) in trial 32 is attract with 0.6427 confidence. In reality, it is none (0.3407).\n"
     ]
    },
    {
     "name": "stderr",
     "output_type": "stream",
     "text": [
      "100%|█████████▉| 300/301 [00:02<00:00, 128.23it/s]"
     ]
    },
    {
     "name": "stdout",
     "output_type": "stream",
     "text": [
      "[MoviePy] >>>> Building video cogsci_images/confusing_videos/confusing_xy_vxvy/confusing_force_interval_in_trial_32_sec_40_to_45_rnn_thinks_attract__prob_0.6427_while_solution_is_none_prob_0.3407.mp4\n",
      "[MoviePy] Writing video cogsci_images/confusing_videos/confusing_xy_vxvy/confusing_force_interval_in_trial_32_sec_40_to_45_rnn_thinks_attract__prob_0.6427_while_solution_is_none_prob_0.3407.mp4\n"
     ]
    },
    {
     "name": "stderr",
     "output_type": "stream",
     "text": [
      "\n",
      "100%|█████████▉| 300/301 [00:02<00:00, 126.67it/s]"
     ]
    },
    {
     "name": "stdout",
     "output_type": "stream",
     "text": [
      "[MoviePy] Done.\n",
      "[MoviePy] >>>> Video ready: cogsci_images/confusing_videos/confusing_xy_vxvy/confusing_force_interval_in_trial_32_sec_40_to_45_rnn_thinks_attract__prob_0.6427_while_solution_is_none_prob_0.3407.mp4 \n",
      "\n"
     ]
    },
    {
     "name": "stderr",
     "output_type": "stream",
     "text": [
      "\n"
     ]
    },
    {
     "name": "stdout",
     "output_type": "stream",
     "text": [
      "RNN thinks the interval (27, 32) in trial 13 is repel with 0.6342 confidence. In reality, it is none (0.3297).\n",
      "Skipping trial 13 and start 27 because of interval overlap\n",
      "RNN thinks the interval (34, 39) in trial 21 is attract with 0.6271 confidence. In reality, it is none (0.3290).\n",
      "Skipping trial 21 and start 34 because of interval overlap\n",
      "RNN thinks the interval (25, 30) in trial 13 is repel with 0.6189 confidence. In reality, it is none (0.3444).\n",
      "Skipping trial 13 and start 25 because of interval overlap\n",
      "RNN thinks the interval (17, 22) in trial 21 is repel with 0.6117 confidence. In reality, it is none (0.3396).\n"
     ]
    },
    {
     "name": "stderr",
     "output_type": "stream",
     "text": [
      "100%|█████████▉| 300/301 [00:02<00:00, 132.57it/s]\n"
     ]
    },
    {
     "name": "stdout",
     "output_type": "stream",
     "text": [
      "[MoviePy] >>>> Building video cogsci_images/confusing_videos/confusing_xy_vxvy/confusing_force_interval_in_trial_21_sec_17_to_22_rnn_thinks_repel__prob_0.6117_while_solution_is_none_prob_0.3396.mp4\n",
      "[MoviePy] Writing video cogsci_images/confusing_videos/confusing_xy_vxvy/confusing_force_interval_in_trial_21_sec_17_to_22_rnn_thinks_repel__prob_0.6117_while_solution_is_none_prob_0.3396.mp4\n"
     ]
    },
    {
     "name": "stderr",
     "output_type": "stream",
     "text": [
      "100%|█████████▉| 300/301 [00:02<00:00, 129.10it/s]"
     ]
    },
    {
     "name": "stdout",
     "output_type": "stream",
     "text": [
      "[MoviePy] Done.\n",
      "[MoviePy] >>>> Video ready: cogsci_images/confusing_videos/confusing_xy_vxvy/confusing_force_interval_in_trial_21_sec_17_to_22_rnn_thinks_repel__prob_0.6117_while_solution_is_none_prob_0.3396.mp4 \n",
      "\n"
     ]
    },
    {
     "name": "stderr",
     "output_type": "stream",
     "text": [
      "\n"
     ]
    },
    {
     "name": "stdout",
     "output_type": "stream",
     "text": [
      "5\n"
     ]
    }
   ],
   "source": [
    "write_confused_intervals(confused_force_dfs, \"force\", \"attract\")\n",
    "write_confused_intervals(confused_force_dfs, \"force\", \"repel\")\n",
    "write_confused_intervals(confused_force_dfs, \"force\", \"none\")\n",
    "\n",
    "with open(JSON_PATH % \"force\", \"w+\") as f: \n",
    "    json.dump(JSON_DATA, f)"
   ]
  },
  {
   "cell_type": "code",
   "execution_count": 22,
   "metadata": {},
   "outputs": [
    {
     "name": "stdout",
     "output_type": "stream",
     "text": [
      "36\n",
      "RNN thinks the interval (39, 44) in trial 25 is B with 0.6947 confidence. In reality, it is A (0.0476).\n"
     ]
    },
    {
     "name": "stderr",
     "output_type": "stream",
     "text": [
      "100%|█████████▉| 300/301 [00:02<00:00, 132.69it/s]\n"
     ]
    },
    {
     "name": "stdout",
     "output_type": "stream",
     "text": [
      "[MoviePy] >>>> Building video cogsci_images/confusing_videos/confusing_xy_vxvy/confusing_mass_interval_in_trial_25_sec_39_to_44_rnn_thinks_B__prob_0.6947_while_solution_is_A_prob_0.0476.mp4\n",
      "[MoviePy] Writing video cogsci_images/confusing_videos/confusing_xy_vxvy/confusing_mass_interval_in_trial_25_sec_39_to_44_rnn_thinks_B__prob_0.6947_while_solution_is_A_prob_0.0476.mp4\n"
     ]
    },
    {
     "name": "stderr",
     "output_type": "stream",
     "text": [
      "100%|█████████▉| 300/301 [00:02<00:00, 125.44it/s]\n"
     ]
    },
    {
     "name": "stdout",
     "output_type": "stream",
     "text": [
      "[MoviePy] Done.\n",
      "[MoviePy] >>>> Video ready: cogsci_images/confusing_videos/confusing_xy_vxvy/confusing_mass_interval_in_trial_25_sec_39_to_44_rnn_thinks_B__prob_0.6947_while_solution_is_A_prob_0.0476.mp4 \n",
      "\n",
      "RNN thinks the interval (1, 6) in trial 19 is B with 0.6699 confidence. In reality, it is A (0.0716).\n"
     ]
    },
    {
     "name": "stderr",
     "output_type": "stream",
     "text": [
      "100%|█████████▉| 300/301 [00:02<00:00, 134.40it/s]\n"
     ]
    },
    {
     "name": "stdout",
     "output_type": "stream",
     "text": [
      "[MoviePy] >>>> Building video cogsci_images/confusing_videos/confusing_xy_vxvy/confusing_mass_interval_in_trial_19_sec_1_to_6_rnn_thinks_B__prob_0.6699_while_solution_is_A_prob_0.0716.mp4\n",
      "[MoviePy] Writing video cogsci_images/confusing_videos/confusing_xy_vxvy/confusing_mass_interval_in_trial_19_sec_1_to_6_rnn_thinks_B__prob_0.6699_while_solution_is_A_prob_0.0716.mp4\n"
     ]
    },
    {
     "name": "stderr",
     "output_type": "stream",
     "text": [
      "100%|█████████▉| 300/301 [00:02<00:00, 127.10it/s]"
     ]
    },
    {
     "name": "stdout",
     "output_type": "stream",
     "text": [
      "[MoviePy] Done.\n",
      "[MoviePy] >>>> Video ready: cogsci_images/confusing_videos/confusing_xy_vxvy/confusing_mass_interval_in_trial_19_sec_1_to_6_rnn_thinks_B__prob_0.6699_while_solution_is_A_prob_0.0716.mp4 \n",
      "\n"
     ]
    },
    {
     "name": "stderr",
     "output_type": "stream",
     "text": [
      "\n"
     ]
    },
    {
     "name": "stdout",
     "output_type": "stream",
     "text": [
      "RNN thinks the interval (6, 11) in trial 16 is B with 0.6593 confidence. In reality, it is A (0.0580).\n"
     ]
    },
    {
     "name": "stderr",
     "output_type": "stream",
     "text": [
      "100%|█████████▉| 300/301 [00:02<00:00, 125.95it/s]\n"
     ]
    },
    {
     "name": "stdout",
     "output_type": "stream",
     "text": [
      "[MoviePy] >>>> Building video cogsci_images/confusing_videos/confusing_xy_vxvy/confusing_mass_interval_in_trial_16_sec_6_to_11_rnn_thinks_B__prob_0.6593_while_solution_is_A_prob_0.0580.mp4\n",
      "[MoviePy] Writing video cogsci_images/confusing_videos/confusing_xy_vxvy/confusing_mass_interval_in_trial_16_sec_6_to_11_rnn_thinks_B__prob_0.6593_while_solution_is_A_prob_0.0580.mp4\n"
     ]
    },
    {
     "name": "stderr",
     "output_type": "stream",
     "text": [
      "100%|█████████▉| 300/301 [00:02<00:00, 118.52it/s]"
     ]
    },
    {
     "name": "stdout",
     "output_type": "stream",
     "text": [
      "[MoviePy] Done.\n",
      "[MoviePy] >>>> Video ready: cogsci_images/confusing_videos/confusing_xy_vxvy/confusing_mass_interval_in_trial_16_sec_6_to_11_rnn_thinks_B__prob_0.6593_while_solution_is_A_prob_0.0580.mp4 \n",
      "\n"
     ]
    },
    {
     "name": "stderr",
     "output_type": "stream",
     "text": [
      "\n"
     ]
    },
    {
     "name": "stdout",
     "output_type": "stream",
     "text": [
      "RNN thinks the interval (2, 7) in trial 13 is B with 0.6457 confidence. In reality, it is A (0.0606).\n"
     ]
    },
    {
     "name": "stderr",
     "output_type": "stream",
     "text": [
      "100%|█████████▉| 300/301 [00:02<00:00, 128.52it/s]"
     ]
    },
    {
     "name": "stdout",
     "output_type": "stream",
     "text": [
      "[MoviePy] >>>> Building video cogsci_images/confusing_videos/confusing_xy_vxvy/confusing_mass_interval_in_trial_13_sec_2_to_7_rnn_thinks_B__prob_0.6457_while_solution_is_A_prob_0.0606.mp4\n",
      "[MoviePy] Writing video cogsci_images/confusing_videos/confusing_xy_vxvy/confusing_mass_interval_in_trial_13_sec_2_to_7_rnn_thinks_B__prob_0.6457_while_solution_is_A_prob_0.0606.mp4\n"
     ]
    },
    {
     "name": "stderr",
     "output_type": "stream",
     "text": [
      "\n",
      "100%|█████████▉| 300/301 [00:02<00:00, 123.40it/s]"
     ]
    },
    {
     "name": "stdout",
     "output_type": "stream",
     "text": [
      "[MoviePy] Done.\n",
      "[MoviePy] >>>> Video ready: cogsci_images/confusing_videos/confusing_xy_vxvy/confusing_mass_interval_in_trial_13_sec_2_to_7_rnn_thinks_B__prob_0.6457_while_solution_is_A_prob_0.0606.mp4 \n",
      "\n"
     ]
    },
    {
     "name": "stderr",
     "output_type": "stream",
     "text": [
      "\n"
     ]
    },
    {
     "name": "stdout",
     "output_type": "stream",
     "text": [
      "RNN thinks the interval (40, 45) in trial 25 is B with 0.6417 confidence. In reality, it is A (0.0730).\n",
      "Skipping trial 25 and start 40 because of interval overlap\n",
      "RNN thinks the interval (38, 43) in trial 25 is B with 0.6362 confidence. In reality, it is A (0.0615).\n",
      "Skipping trial 25 and start 38 because of interval refreshes\n",
      "RNN thinks the interval (5, 10) in trial 16 is B with 0.6044 confidence. In reality, it is A (0.0725).\n",
      "Skipping trial 16 and start 5 because of interval overlap\n",
      "RNN thinks the interval (4, 9) in trial 16 is B with 0.5917 confidence. In reality, it is A (0.0766).\n",
      "Skipping trial 16 and start 4 because of interval overlap\n",
      "RNN thinks the interval (1, 6) in trial 31 is B with 0.5878 confidence. In reality, it is A (0.0948).\n"
     ]
    },
    {
     "name": "stderr",
     "output_type": "stream",
     "text": [
      "100%|█████████▉| 300/301 [00:02<00:00, 129.66it/s]\n"
     ]
    },
    {
     "name": "stdout",
     "output_type": "stream",
     "text": [
      "[MoviePy] >>>> Building video cogsci_images/confusing_videos/confusing_xy_vxvy/confusing_mass_interval_in_trial_31_sec_1_to_6_rnn_thinks_B__prob_0.5878_while_solution_is_A_prob_0.0948.mp4\n",
      "[MoviePy] Writing video cogsci_images/confusing_videos/confusing_xy_vxvy/confusing_mass_interval_in_trial_31_sec_1_to_6_rnn_thinks_B__prob_0.5878_while_solution_is_A_prob_0.0948.mp4\n"
     ]
    },
    {
     "name": "stderr",
     "output_type": "stream",
     "text": [
      "100%|█████████▉| 300/301 [00:02<00:00, 128.68it/s]"
     ]
    },
    {
     "name": "stdout",
     "output_type": "stream",
     "text": [
      "[MoviePy] Done.\n",
      "[MoviePy] >>>> Video ready: cogsci_images/confusing_videos/confusing_xy_vxvy/confusing_mass_interval_in_trial_31_sec_1_to_6_rnn_thinks_B__prob_0.5878_while_solution_is_A_prob_0.0948.mp4 \n",
      "\n"
     ]
    },
    {
     "name": "stderr",
     "output_type": "stream",
     "text": [
      "\n"
     ]
    },
    {
     "name": "stdout",
     "output_type": "stream",
     "text": [
      "5\n",
      "36\n",
      "RNN thinks the interval (31, 36) in trial 32 is A with 0.7542 confidence. In reality, it is B (0.0312).\n"
     ]
    },
    {
     "name": "stderr",
     "output_type": "stream",
     "text": [
      "100%|█████████▉| 300/301 [00:02<00:00, 132.78it/s]"
     ]
    },
    {
     "name": "stdout",
     "output_type": "stream",
     "text": [
      "[MoviePy] >>>> Building video cogsci_images/confusing_videos/confusing_xy_vxvy/confusing_mass_interval_in_trial_32_sec_31_to_36_rnn_thinks_A__prob_0.7542_while_solution_is_B_prob_0.0312.mp4\n",
      "[MoviePy] Writing video cogsci_images/confusing_videos/confusing_xy_vxvy/confusing_mass_interval_in_trial_32_sec_31_to_36_rnn_thinks_A__prob_0.7542_while_solution_is_B_prob_0.0312.mp4\n"
     ]
    },
    {
     "name": "stderr",
     "output_type": "stream",
     "text": [
      "\n",
      "100%|█████████▉| 300/301 [00:02<00:00, 130.91it/s]"
     ]
    },
    {
     "name": "stdout",
     "output_type": "stream",
     "text": [
      "[MoviePy] Done.\n",
      "[MoviePy] >>>> Video ready: cogsci_images/confusing_videos/confusing_xy_vxvy/confusing_mass_interval_in_trial_32_sec_31_to_36_rnn_thinks_A__prob_0.7542_while_solution_is_B_prob_0.0312.mp4 \n",
      "\n"
     ]
    },
    {
     "name": "stderr",
     "output_type": "stream",
     "text": [
      "\n"
     ]
    },
    {
     "name": "stdout",
     "output_type": "stream",
     "text": [
      "RNN thinks the interval (32, 37) in trial 32 is A with 0.7530 confidence. In reality, it is B (0.0293).\n",
      "Skipping trial 32 and start 32 because of interval overlap\n",
      "RNN thinks the interval (30, 35) in trial 32 is A with 0.7480 confidence. In reality, it is B (0.0326).\n",
      "Skipping trial 32 and start 30 because of interval overlap\n",
      "RNN thinks the interval (33, 38) in trial 32 is A with 0.7193 confidence. In reality, it is B (0.0401).\n",
      "Skipping trial 32 and start 33 because of interval overlap\n",
      "RNN thinks the interval (34, 39) in trial 32 is A with 0.7183 confidence. In reality, it is B (0.0429).\n",
      "Skipping trial 32 and start 34 because of interval overlap\n",
      "RNN thinks the interval (29, 34) in trial 32 is A with 0.6723 confidence. In reality, it is B (0.0524).\n",
      "Skipping trial 32 and start 29 because of interval overlap\n",
      "RNN thinks the interval (35, 40) in trial 32 is A with 0.6496 confidence. In reality, it is B (0.0596).\n",
      "Skipping trial 32 and start 35 because of interval overlap\n",
      "RNN thinks the interval (3, 8) in trial 23 is A with 0.6210 confidence. In reality, it is B (0.0757).\n"
     ]
    },
    {
     "name": "stderr",
     "output_type": "stream",
     "text": [
      "100%|█████████▉| 300/301 [00:02<00:00, 127.85it/s]\n"
     ]
    },
    {
     "name": "stdout",
     "output_type": "stream",
     "text": [
      "[MoviePy] >>>> Building video cogsci_images/confusing_videos/confusing_xy_vxvy/confusing_mass_interval_in_trial_23_sec_3_to_8_rnn_thinks_A__prob_0.6210_while_solution_is_B_prob_0.0757.mp4\n",
      "[MoviePy] Writing video cogsci_images/confusing_videos/confusing_xy_vxvy/confusing_mass_interval_in_trial_23_sec_3_to_8_rnn_thinks_A__prob_0.6210_while_solution_is_B_prob_0.0757.mp4\n"
     ]
    },
    {
     "name": "stderr",
     "output_type": "stream",
     "text": [
      "100%|█████████▉| 300/301 [00:02<00:00, 128.29it/s]"
     ]
    },
    {
     "name": "stdout",
     "output_type": "stream",
     "text": [
      "[MoviePy] Done.\n",
      "[MoviePy] >>>> Video ready: cogsci_images/confusing_videos/confusing_xy_vxvy/confusing_mass_interval_in_trial_23_sec_3_to_8_rnn_thinks_A__prob_0.6210_while_solution_is_B_prob_0.0757.mp4 \n",
      "\n"
     ]
    },
    {
     "name": "stderr",
     "output_type": "stream",
     "text": [
      "\n"
     ]
    },
    {
     "name": "stdout",
     "output_type": "stream",
     "text": [
      "RNN thinks the interval (28, 33) in trial 32 is A with 0.6045 confidence. In reality, it is B (0.0757).\n",
      "Skipping trial 32 and start 28 because of interval refreshes\n",
      "RNN thinks the interval (26, 31) in trial 20 is A with 0.5919 confidence. In reality, it is B (0.0873).\n"
     ]
    },
    {
     "name": "stderr",
     "output_type": "stream",
     "text": [
      "100%|█████████▉| 300/301 [00:02<00:00, 134.62it/s]\n"
     ]
    },
    {
     "name": "stdout",
     "output_type": "stream",
     "text": [
      "[MoviePy] >>>> Building video cogsci_images/confusing_videos/confusing_xy_vxvy/confusing_mass_interval_in_trial_20_sec_26_to_31_rnn_thinks_A__prob_0.5919_while_solution_is_B_prob_0.0873.mp4\n",
      "[MoviePy] Writing video cogsci_images/confusing_videos/confusing_xy_vxvy/confusing_mass_interval_in_trial_20_sec_26_to_31_rnn_thinks_A__prob_0.5919_while_solution_is_B_prob_0.0873.mp4\n"
     ]
    },
    {
     "name": "stderr",
     "output_type": "stream",
     "text": [
      "100%|█████████▉| 300/301 [00:02<00:00, 130.36it/s]"
     ]
    },
    {
     "name": "stdout",
     "output_type": "stream",
     "text": [
      "[MoviePy] Done.\n",
      "[MoviePy] >>>> Video ready: cogsci_images/confusing_videos/confusing_xy_vxvy/confusing_mass_interval_in_trial_20_sec_26_to_31_rnn_thinks_A__prob_0.5919_while_solution_is_B_prob_0.0873.mp4 \n",
      "\n"
     ]
    },
    {
     "name": "stderr",
     "output_type": "stream",
     "text": [
      "\n"
     ]
    },
    {
     "name": "stdout",
     "output_type": "stream",
     "text": [
      "RNN thinks the interval (9, 14) in trial 32 is A with 0.5827 confidence. In reality, it is B (0.0886).\n"
     ]
    },
    {
     "name": "stderr",
     "output_type": "stream",
     "text": [
      "100%|█████████▉| 300/301 [00:02<00:00, 132.64it/s]\n"
     ]
    },
    {
     "name": "stdout",
     "output_type": "stream",
     "text": [
      "[MoviePy] >>>> Building video cogsci_images/confusing_videos/confusing_xy_vxvy/confusing_mass_interval_in_trial_32_sec_9_to_14_rnn_thinks_A__prob_0.5827_while_solution_is_B_prob_0.0886.mp4\n",
      "[MoviePy] Writing video cogsci_images/confusing_videos/confusing_xy_vxvy/confusing_mass_interval_in_trial_32_sec_9_to_14_rnn_thinks_A__prob_0.5827_while_solution_is_B_prob_0.0886.mp4\n"
     ]
    },
    {
     "name": "stderr",
     "output_type": "stream",
     "text": [
      "100%|█████████▉| 300/301 [00:02<00:00, 133.22it/s]\n"
     ]
    },
    {
     "name": "stdout",
     "output_type": "stream",
     "text": [
      "[MoviePy] Done.\n",
      "[MoviePy] >>>> Video ready: cogsci_images/confusing_videos/confusing_xy_vxvy/confusing_mass_interval_in_trial_32_sec_9_to_14_rnn_thinks_A__prob_0.5827_while_solution_is_B_prob_0.0886.mp4 \n",
      "\n",
      "RNN thinks the interval (27, 32) in trial 20 is A with 0.5773 confidence. In reality, it is B (0.0903).\n",
      "Skipping trial 20 and start 27 because of interval overlap\n",
      "RNN thinks the interval (10, 15) in trial 32 is A with 0.5746 confidence. In reality, it is B (0.0908).\n",
      "Skipping trial 32 and start 10 because of interval overlap\n",
      "RNN thinks the interval (7, 12) in trial 32 is A with 0.5734 confidence. In reality, it is B (0.1095).\n",
      "Skipping trial 32 and start 7 because of interval overlap\n",
      "RNN thinks the interval (8, 13) in trial 32 is A with 0.5709 confidence. In reality, it is B (0.1037).\n",
      "Skipping trial 32 and start 8 because of interval overlap\n",
      "RNN thinks the interval (36, 41) in trial 32 is A with 0.5704 confidence. In reality, it is B (0.0836).\n",
      "Skipping trial 32 and start 36 because of interval overlap\n",
      "RNN thinks the interval (16, 21) in trial 14 is A with 0.5537 confidence. In reality, it is B (0.0935).\n",
      "Skipping trial 14 and start 16 because of interval refreshes\n",
      "RNN thinks the interval (31, 36) in trial 11 is A with 0.5480 confidence. In reality, it is B (0.1076).\n",
      "Skipping trial 11 and start 31 because of interval refreshes\n",
      "RNN thinks the interval (6, 11) in trial 32 is A with 0.5419 confidence. In reality, it is B (0.1162).\n",
      "Skipping trial 32 and start 6 because of interval overlap\n",
      "RNN thinks the interval (15, 20) in trial 14 is A with 0.5419 confidence. In reality, it is B (0.1023).\n",
      "Skipping trial 14 and start 15 because of interval refreshes\n",
      "RNN thinks the interval (11, 16) in trial 17 is A with 0.5125 confidence. In reality, it is B (0.1150).\n"
     ]
    },
    {
     "name": "stderr",
     "output_type": "stream",
     "text": [
      "100%|█████████▉| 300/301 [00:02<00:00, 136.32it/s]\n"
     ]
    },
    {
     "name": "stdout",
     "output_type": "stream",
     "text": [
      "[MoviePy] >>>> Building video cogsci_images/confusing_videos/confusing_xy_vxvy/confusing_mass_interval_in_trial_17_sec_11_to_16_rnn_thinks_A__prob_0.5125_while_solution_is_B_prob_0.1150.mp4\n",
      "[MoviePy] Writing video cogsci_images/confusing_videos/confusing_xy_vxvy/confusing_mass_interval_in_trial_17_sec_11_to_16_rnn_thinks_A__prob_0.5125_while_solution_is_B_prob_0.1150.mp4\n"
     ]
    },
    {
     "name": "stderr",
     "output_type": "stream",
     "text": [
      "100%|█████████▉| 300/301 [00:02<00:00, 129.28it/s]"
     ]
    },
    {
     "name": "stdout",
     "output_type": "stream",
     "text": [
      "[MoviePy] Done.\n",
      "[MoviePy] >>>> Video ready: cogsci_images/confusing_videos/confusing_xy_vxvy/confusing_mass_interval_in_trial_17_sec_11_to_16_rnn_thinks_A__prob_0.5125_while_solution_is_B_prob_0.1150.mp4 \n",
      "\n"
     ]
    },
    {
     "name": "stderr",
     "output_type": "stream",
     "text": [
      "\n"
     ]
    },
    {
     "name": "stdout",
     "output_type": "stream",
     "text": [
      "5\n",
      "36\n",
      "RNN thinks the interval (32, 37) in trial 15 is A with 0.7639 confidence. In reality, it is same (0.2100).\n"
     ]
    },
    {
     "name": "stderr",
     "output_type": "stream",
     "text": [
      "100%|█████████▉| 300/301 [00:02<00:00, 135.12it/s]"
     ]
    },
    {
     "name": "stdout",
     "output_type": "stream",
     "text": [
      "[MoviePy] >>>> Building video cogsci_images/confusing_videos/confusing_xy_vxvy/confusing_mass_interval_in_trial_15_sec_32_to_37_rnn_thinks_A__prob_0.7639_while_solution_is_same_prob_0.2100.mp4\n",
      "[MoviePy] Writing video cogsci_images/confusing_videos/confusing_xy_vxvy/confusing_mass_interval_in_trial_15_sec_32_to_37_rnn_thinks_A__prob_0.7639_while_solution_is_same_prob_0.2100.mp4\n"
     ]
    },
    {
     "name": "stderr",
     "output_type": "stream",
     "text": [
      "\n",
      "100%|█████████▉| 300/301 [00:02<00:00, 130.33it/s]\n"
     ]
    },
    {
     "name": "stdout",
     "output_type": "stream",
     "text": [
      "[MoviePy] Done.\n",
      "[MoviePy] >>>> Video ready: cogsci_images/confusing_videos/confusing_xy_vxvy/confusing_mass_interval_in_trial_15_sec_32_to_37_rnn_thinks_A__prob_0.7639_while_solution_is_same_prob_0.2100.mp4 \n",
      "\n",
      "RNN thinks the interval (31, 36) in trial 15 is A with 0.7602 confidence. In reality, it is same (0.2103).\n",
      "Skipping trial 15 and start 31 because of interval overlap\n",
      "RNN thinks the interval (33, 38) in trial 15 is A with 0.7500 confidence. In reality, it is same (0.2172).\n",
      "Skipping trial 15 and start 33 because of interval overlap\n",
      "RNN thinks the interval (22, 27) in trial 30 is B with 0.7397 confidence. In reality, it is same (0.2167).\n"
     ]
    },
    {
     "name": "stderr",
     "output_type": "stream",
     "text": [
      "100%|█████████▉| 300/301 [00:02<00:00, 138.04it/s]"
     ]
    },
    {
     "name": "stdout",
     "output_type": "stream",
     "text": [
      "[MoviePy] >>>> Building video cogsci_images/confusing_videos/confusing_xy_vxvy/confusing_mass_interval_in_trial_30_sec_22_to_27_rnn_thinks_B__prob_0.7397_while_solution_is_same_prob_0.2167.mp4\n",
      "[MoviePy] Writing video cogsci_images/confusing_videos/confusing_xy_vxvy/confusing_mass_interval_in_trial_30_sec_22_to_27_rnn_thinks_B__prob_0.7397_while_solution_is_same_prob_0.2167.mp4\n"
     ]
    },
    {
     "name": "stderr",
     "output_type": "stream",
     "text": [
      "\n",
      "100%|█████████▉| 300/301 [00:02<00:00, 127.67it/s]"
     ]
    },
    {
     "name": "stdout",
     "output_type": "stream",
     "text": [
      "[MoviePy] Done.\n",
      "[MoviePy] >>>> Video ready: cogsci_images/confusing_videos/confusing_xy_vxvy/confusing_mass_interval_in_trial_30_sec_22_to_27_rnn_thinks_B__prob_0.7397_while_solution_is_same_prob_0.2167.mp4 \n",
      "\n"
     ]
    },
    {
     "name": "stderr",
     "output_type": "stream",
     "text": [
      "\n"
     ]
    },
    {
     "name": "stdout",
     "output_type": "stream",
     "text": [
      "RNN thinks the interval (21, 26) in trial 30 is B with 0.7377 confidence. In reality, it is same (0.2215).\n",
      "Skipping trial 30 and start 21 because of interval overlap\n",
      "RNN thinks the interval (23, 28) in trial 30 is B with 0.7277 confidence. In reality, it is same (0.2241).\n",
      "Skipping trial 30 and start 23 because of interval overlap\n",
      "RNN thinks the interval (20, 25) in trial 30 is B with 0.7271 confidence. In reality, it is same (0.2302).\n",
      "Skipping trial 30 and start 20 because of interval overlap\n",
      "RNN thinks the interval (34, 39) in trial 15 is A with 0.7242 confidence. In reality, it is same (0.2399).\n",
      "Skipping trial 15 and start 34 because of interval overlap\n",
      "RNN thinks the interval (29, 34) in trial 15 is A with 0.7224 confidence. In reality, it is same (0.2436).\n",
      "Skipping trial 15 and start 29 because of interval overlap\n",
      "RNN thinks the interval (37, 42) in trial 15 is A with 0.7213 confidence. In reality, it is same (0.2434).\n",
      "Skipping trial 15 and start 37 because of interval overlap\n",
      "RNN thinks the interval (1, 6) in trial 21 is B with 0.7208 confidence. In reality, it is same (0.2319).\n"
     ]
    },
    {
     "name": "stderr",
     "output_type": "stream",
     "text": [
      "100%|█████████▉| 300/301 [00:02<00:00, 118.75it/s]\n"
     ]
    },
    {
     "name": "stdout",
     "output_type": "stream",
     "text": [
      "[MoviePy] >>>> Building video cogsci_images/confusing_videos/confusing_xy_vxvy/confusing_mass_interval_in_trial_21_sec_1_to_6_rnn_thinks_B__prob_0.7208_while_solution_is_same_prob_0.2319.mp4\n",
      "[MoviePy] Writing video cogsci_images/confusing_videos/confusing_xy_vxvy/confusing_mass_interval_in_trial_21_sec_1_to_6_rnn_thinks_B__prob_0.7208_while_solution_is_same_prob_0.2319.mp4\n"
     ]
    },
    {
     "name": "stderr",
     "output_type": "stream",
     "text": [
      "100%|█████████▉| 300/301 [00:02<00:00, 115.77it/s]"
     ]
    },
    {
     "name": "stdout",
     "output_type": "stream",
     "text": [
      "[MoviePy] Done.\n",
      "[MoviePy] >>>> Video ready: cogsci_images/confusing_videos/confusing_xy_vxvy/confusing_mass_interval_in_trial_21_sec_1_to_6_rnn_thinks_B__prob_0.7208_while_solution_is_same_prob_0.2319.mp4 \n",
      "\n"
     ]
    },
    {
     "name": "stderr",
     "output_type": "stream",
     "text": [
      "\n"
     ]
    },
    {
     "name": "stdout",
     "output_type": "stream",
     "text": [
      "RNN thinks the interval (36, 41) in trial 15 is A with 0.7205 confidence. In reality, it is same (0.2457).\n",
      "Skipping trial 15 and start 36 because of interval overlap\n",
      "RNN thinks the interval (40, 45) in trial 15 is A with 0.7200 confidence. In reality, it is same (0.2427).\n"
     ]
    },
    {
     "name": "stderr",
     "output_type": "stream",
     "text": [
      "100%|█████████▉| 300/301 [00:02<00:00, 127.73it/s]"
     ]
    },
    {
     "name": "stdout",
     "output_type": "stream",
     "text": [
      "[MoviePy] >>>> Building video cogsci_images/confusing_videos/confusing_xy_vxvy/confusing_mass_interval_in_trial_15_sec_40_to_45_rnn_thinks_A__prob_0.7200_while_solution_is_same_prob_0.2427.mp4\n",
      "[MoviePy] Writing video cogsci_images/confusing_videos/confusing_xy_vxvy/confusing_mass_interval_in_trial_15_sec_40_to_45_rnn_thinks_A__prob_0.7200_while_solution_is_same_prob_0.2427.mp4\n"
     ]
    },
    {
     "name": "stderr",
     "output_type": "stream",
     "text": [
      "\n",
      "100%|█████████▉| 300/301 [00:02<00:00, 125.32it/s]\n"
     ]
    },
    {
     "name": "stdout",
     "output_type": "stream",
     "text": [
      "[MoviePy] Done.\n",
      "[MoviePy] >>>> Video ready: cogsci_images/confusing_videos/confusing_xy_vxvy/confusing_mass_interval_in_trial_15_sec_40_to_45_rnn_thinks_A__prob_0.7200_while_solution_is_same_prob_0.2427.mp4 \n",
      "\n",
      "RNN thinks the interval (30, 35) in trial 15 is A with 0.7178 confidence. In reality, it is same (0.2469).\n",
      "Skipping trial 15 and start 30 because of interval overlap\n",
      "RNN thinks the interval (35, 40) in trial 15 is A with 0.7172 confidence. In reality, it is same (0.2482).\n",
      "Skipping trial 15 and start 35 because of interval overlap\n",
      "RNN thinks the interval (31, 36) in trial 21 is A with 0.7163 confidence. In reality, it is same (0.2397).\n"
     ]
    },
    {
     "name": "stderr",
     "output_type": "stream",
     "text": [
      "100%|█████████▉| 300/301 [00:02<00:00, 121.60it/s]\n"
     ]
    },
    {
     "name": "stdout",
     "output_type": "stream",
     "text": [
      "[MoviePy] >>>> Building video cogsci_images/confusing_videos/confusing_xy_vxvy/confusing_mass_interval_in_trial_21_sec_31_to_36_rnn_thinks_A__prob_0.7163_while_solution_is_same_prob_0.2397.mp4\n",
      "[MoviePy] Writing video cogsci_images/confusing_videos/confusing_xy_vxvy/confusing_mass_interval_in_trial_21_sec_31_to_36_rnn_thinks_A__prob_0.7163_while_solution_is_same_prob_0.2397.mp4\n"
     ]
    },
    {
     "name": "stderr",
     "output_type": "stream",
     "text": [
      "100%|█████████▉| 300/301 [00:02<00:00, 121.82it/s]"
     ]
    },
    {
     "name": "stdout",
     "output_type": "stream",
     "text": [
      "[MoviePy] Done.\n",
      "[MoviePy] >>>> Video ready: cogsci_images/confusing_videos/confusing_xy_vxvy/confusing_mass_interval_in_trial_21_sec_31_to_36_rnn_thinks_A__prob_0.7163_while_solution_is_same_prob_0.2397.mp4 \n",
      "\n"
     ]
    },
    {
     "name": "stderr",
     "output_type": "stream",
     "text": [
      "\n"
     ]
    },
    {
     "name": "stdout",
     "output_type": "stream",
     "text": [
      "5\n"
     ]
    }
   ],
   "source": [
    "JSON_DATA = []\n",
    "\n",
    "write_confused_intervals(confused_mass_dfs, \"mass\", \"A\")\n",
    "write_confused_intervals(confused_mass_dfs, \"mass\", \"B\")\n",
    "write_confused_intervals(confused_mass_dfs, \"mass\", \"same\")\n",
    "\n",
    "with open(JSON_PATH % \"mass\", \"w+\") as f: \n",
    "    json.dump(JSON_DATA, f)"
   ]
  }
 ],
 "metadata": {
  "kernelspec": {
   "display_name": "Python 3",
   "language": "python",
   "name": "python3"
  },
  "language_info": {
   "codemirror_mode": {
    "name": "ipython",
    "version": 3
   },
   "file_extension": ".py",
   "mimetype": "text/x-python",
   "name": "python",
   "nbconvert_exporter": "python",
   "pygments_lexer": "ipython3",
   "version": "3.5.6"
  }
 },
 "nbformat": 4,
 "nbformat_minor": 2
}
