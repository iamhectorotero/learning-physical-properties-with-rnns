{
 "cells": [
  {
   "cell_type": "code",
   "execution_count": 1,
   "metadata": {},
   "outputs": [],
   "source": [
    "import isaac.constants\n",
    "isaac.constants.TQDM_DISABLE = True\n",
    "\n",
    "from torch import nn\n",
    "from torch.nn import Softmax\n",
    "from isaac.utils import get_cuda_device_if_available\n",
    "import joblib\n",
    "\n",
    "from isaac.dataset import read_dataset, prepare_dataset\n",
    "from isaac.models import MultiBranchModel, ComplexRNNModel\n",
    "from isaac.constants import BASIC_TRAINING_COLS, MASS_CLASS_COLS, FORCE_CLASS_COLS, RTHETA_COLS, XY_RTHETA_COLS, XY_VXVY_RTHETA_COLS\n",
    "from isaac.evaluation import predict_with_a_group_of_saved_models, evaluate_saved_model\n",
    "\n",
    "import torch\n",
    "import glob\n",
    "from torch.autograd import Variable\n",
    "import numpy as np\n",
    "import pandas as pd\n",
    "from tqdm import tqdm\n"
   ]
  },
  {
   "cell_type": "code",
   "execution_count": 2,
   "metadata": {},
   "outputs": [],
   "source": [
    "SECONDS_PER_WINDOW = 5 # seconds\n",
    "FPS = 60\n",
    "STEP_SIZE = 3\n",
    "# PD_STEP_SIZE = 10\n",
    "SEQ_END = 2700"
   ]
  },
  {
   "cell_type": "code",
   "execution_count": 3,
   "metadata": {},
   "outputs": [
    {
     "name": "stdout",
     "output_type": "stream",
     "text": [
      "cpu\n"
     ]
    }
   ],
   "source": [
    "device = get_cuda_device_if_available()\n",
    "print(device)"
   ]
  },
  {
   "cell_type": "code",
   "execution_count": 4,
   "metadata": {},
   "outputs": [],
   "source": [
    "normalise_data = True\n",
    "model_name = \"rtheta\"\n",
    "scaler_path = \"scalers/passive_\"+model_name+\"_scaler.sk\"\n",
    "training_columns = RTHETA_COLS\n",
    "network_dims = (len(training_columns), 25, 3, 0.5)\n",
    "dataset_path = \"../new_exp_data/exp7_passive_rtheta.h5\"\n",
    "class_columns = [list(MASS_CLASS_COLS), list(FORCE_CLASS_COLS)]\n",
    "multiclass = True\n",
    "DATASET = read_dataset(dataset_path)\n",
    "\n",
    "\n",
    "def get_question_predictions_for_group_of_models(question_type):    \n",
    "    models = sorted(glob.glob(\"models/\"+model_name+\"/best_\"+question_type+\"_model_seed_*.pt\"))\n",
    "\n",
    "    group_predictions = []\n",
    "    \n",
    "    predictions = predict_with_a_group_of_saved_models(tqdm(models), network_dims, None, \n",
    "                                                       training_columns=training_columns, \n",
    "                                                       class_columns=class_columns, step_size=STEP_SIZE, \n",
    "                                                       seq_end=SEQ_END, scaler_path=scaler_path,\n",
    "                                                       arch=MultiBranchModel, multiclass=multiclass, trials=DATASET,\n",
    "                                                       predict_rolling_windows=True, seconds_per_window=SECONDS_PER_WINDOW)\n",
    "\n",
    "    predictions = torch.stack(predictions)\n",
    "    \n",
    "    print(predictions.shape)\n",
    "    if question_type == \"mass\":\n",
    "        predictions = predictions[:, :, :, 0]\n",
    "    else:\n",
    "        predictions = predictions[:, :, :, 1]\n",
    "\n",
    "    return predictions\n",
    "\n",
    "def get_question_accuracy_for_group_of_models(question_type):    \n",
    "    model_paths = tqdm(sorted(glob.glob(\"models/\"+model_name+\"/best_\"+question_type+\"_model_seed_*.pt\")))\n",
    "\n",
    "    accuracies, predicted = evaluate_saved_model(model_paths, network_dims, dataset_path, \n",
    "                                                 training_columns=training_columns, class_columns=class_columns, \n",
    "                                                 step_size=STEP_SIZE, seq_end=SEQ_END, scaler_path=scaler_path,\n",
    "                                                 arch=MultiBranchModel, multiclass=multiclass, trials=None)\n",
    "    \n",
    "    if question_type == \"mass\":\n",
    "        question_index = 0\n",
    "    else:\n",
    "        question_index = 1\n",
    "\n",
    "    accuracies = np.stack(accuracies)[:, question_index]\n",
    "    \n",
    "    predicted = [x[:, question_index].numpy() for x in predicted]\n",
    "\n",
    "    return accuracies, predicted"
   ]
  },
  {
   "cell_type": "markdown",
   "metadata": {},
   "source": [
    "# T-test for MASS questions"
   ]
  },
  {
   "cell_type": "markdown",
   "metadata": {},
   "source": [
    "## Load model's predictions"
   ]
  },
  {
   "cell_type": "code",
   "execution_count": 5,
   "metadata": {
    "scrolled": true
   },
   "outputs": [
    {
     "name": "stderr",
     "output_type": "stream",
     "text": [
      "\r",
      "  0%|          | 0/25 [00:00<?, ?it/s]"
     ]
    },
    {
     "name": "stdout",
     "output_type": "stream",
     "text": [
      "MASS\n"
     ]
    },
    {
     "name": "stderr",
     "output_type": "stream",
     "text": [
      "/home/hector/miniconda3/envs/diss/lib/python3.5/site-packages/sklearn/base.py:318: UserWarning: Trying to unpickle estimator StandardScaler from version 0.23.2 when using version 0.22.2.post1. This might lead to breaking code or invalid results. Use at your own risk.\n",
      "  UserWarning)\n",
      "100%|██████████| 25/25 [00:48<00:00,  1.94s/it]\n",
      "  0%|          | 0/25 [00:00<?, ?it/s]/home/hector/miniconda3/envs/diss/lib/python3.5/site-packages/sklearn/base.py:318: UserWarning: Trying to unpickle estimator StandardScaler from version 0.23.2 when using version 0.22.2.post1. This might lead to breaking code or invalid results. Use at your own risk.\n",
      "  UserWarning)\n"
     ]
    },
    {
     "name": "stdout",
     "output_type": "stream",
     "text": [
      "torch.Size([25, 36, 40, 2, 3])\n",
      "\n",
      "FORCE\n"
     ]
    },
    {
     "name": "stderr",
     "output_type": "stream",
     "text": [
      "100%|██████████| 25/25 [00:50<00:00,  2.01s/it]"
     ]
    },
    {
     "name": "stdout",
     "output_type": "stream",
     "text": [
      "torch.Size([25, 36, 40, 2, 3])\n"
     ]
    },
    {
     "name": "stderr",
     "output_type": "stream",
     "text": [
      "\n"
     ]
    }
   ],
   "source": [
    "print(\"MASS\")\n",
    "question_type = \"mass\"\n",
    "group_mass_seq_prediction = get_question_predictions_for_group_of_models(question_type)\n",
    "\n",
    "print(\"\\nFORCE\")\n",
    "question_type = \"force\"\n",
    "group_force_seq_prediction = get_question_predictions_for_group_of_models(question_type)"
   ]
  },
  {
   "cell_type": "code",
   "execution_count": 6,
   "metadata": {
    "scrolled": true
   },
   "outputs": [],
   "source": [
    "mass_solutions = [trial[list(MASS_CLASS_COLS)].idxmax(axis=1).unique()[0] for trial in DATASET]\n",
    "force_solutions = [trial[list(FORCE_CLASS_COLS)].idxmax(axis=1).unique()[0] for trial in DATASET]"
   ]
  },
  {
   "cell_type": "code",
   "execution_count": 7,
   "metadata": {},
   "outputs": [],
   "source": [
    "s = Softmax(dim=-1)\n",
    "group_force_seq_prediction = s(group_force_seq_prediction)\n",
    "group_mass_seq_prediction = s(group_mass_seq_prediction)"
   ]
  },
  {
   "cell_type": "code",
   "execution_count": 8,
   "metadata": {},
   "outputs": [],
   "source": [
    "avg_force_seq_prediction = torch.mean(group_force_seq_prediction, dim=0)\n",
    "avg_mass_seq_prediction = torch.mean(group_mass_seq_prediction, dim=0)"
   ]
  },
  {
   "cell_type": "code",
   "execution_count": 9,
   "metadata": {},
   "outputs": [
    {
     "data": {
      "text/plain": [
       "torch.Size([36, 40, 3])"
      ]
     },
     "execution_count": 9,
     "metadata": {},
     "output_type": "execute_result"
    }
   ],
   "source": [
    "avg_force_seq_prediction.shape"
   ]
  },
  {
   "cell_type": "code",
   "execution_count": 10,
   "metadata": {},
   "outputs": [],
   "source": [
    "n_trials = avg_force_seq_prediction.shape[0]\n",
    "n_windows = avg_force_seq_prediction.shape[1]\n",
    "window_second_start = [i for _ in range(n_trials) for i in range(1, n_windows+1)]\n",
    "trial_number = [i for i in range(n_trials) for _ in range(1, n_windows+1)]"
   ]
  },
  {
   "cell_type": "code",
   "execution_count": 11,
   "metadata": {},
   "outputs": [],
   "source": [
    "mass_df = pd.DataFrame(data=avg_mass_seq_prediction.reshape(n_trials*n_windows, 3).numpy(), \n",
    "                       columns=[\"rnn_%s\" % cl for cl in MASS_CLASS_COLS])\n",
    "mass_df[\"window_second_start\"] = window_second_start\n",
    "mass_df[\"trial_number\"] = trial_number\n",
    "mass_df[\"solution\"] = [mass_solutions[trial_id] for trial_id in trial_number]\n",
    "\n",
    "force_df = pd.DataFrame(data=avg_force_seq_prediction.reshape(n_trials*n_windows, 3).numpy(), \n",
    "                       columns=[\"rnn_%s\" % cl for cl in FORCE_CLASS_COLS])\n",
    "force_df[\"window_second_start\"] = window_second_start\n",
    "force_df[\"trial_number\"] = trial_number\n",
    "force_df[\"solution\"] = [force_solutions[trial_id] for trial_id in trial_number]"
   ]
  },
  {
   "cell_type": "code",
   "execution_count": 12,
   "metadata": {},
   "outputs": [],
   "source": [
    "import matplotlib.pyplot as plt\n",
    "import seaborn as sns\n",
    "\n",
    "sns.set(font_scale=3)\n",
    "sns.set_style(\"white\")"
   ]
  },
  {
   "cell_type": "markdown",
   "metadata": {},
   "source": [
    "# Plot all Force probabilities throughout the trials"
   ]
  },
  {
   "cell_type": "code",
   "execution_count": 13,
   "metadata": {},
   "outputs": [],
   "source": [
    "for trial_i in range(force_df[\"trial_number\"].max() + 1):\n",
    "    trial_df = force_df.query(\"trial_number == %d\" % trial_i)\n",
    "    \n",
    "    plt.figure(figsize=(40, 6))\n",
    "           \n",
    "    ax = sns.lineplot(y=\"rnn_attract\", x=\"window_second_start\", data=trial_df, linewidth=20, label=\"attract\", markers=True)    \n",
    "    ax = sns.lineplot(y=\"rnn_repel\", x=\"window_second_start\", data=trial_df, ax=ax, linewidth=20, label=\"repel\")    \n",
    "    ax = sns.lineplot(y=\"rnn_none\", x=\"window_second_start\", data=trial_df, ax=ax, linewidth=20, label=\"none\")\n",
    "    sns.despine(ax=ax)\n",
    "    \n",
    "    ax.set_ylabel(\"RNN probability\", weight=\"bold\")\n",
    "    ax.set_yticks([0, 0.5, 1])\n",
    "    ax.set_yticklabels(ax.get_yticks(), weight=\"bold\")\n",
    "    ax.set_xlim(0, 45)\n",
    "    ax.set_xticklabels([])\n",
    "    ax.set_xlabel(\"\")\n",
    "    ax.legend(loc=2, prop={'weight':'bold'})\n",
    "    \n",
    "    solution = trial_df.solution.unique()[0]\n",
    "    if solution == \"attract\":\n",
    "        ax.lines[1].set_linestyle(\"--\")\n",
    "        ax.lines[2].set_linestyle(\"--\")\n",
    "    elif solution == \"repel\":\n",
    "        ax.lines[0].set_linestyle(\"--\")\n",
    "        ax.lines[2].set_linestyle(\"--\")\n",
    "    else:\n",
    "        ax.lines[0].set_linestyle(\"--\")\n",
    "        ax.lines[1].set_linestyle(\"--\")        \n",
    "        \n",
    "    plt.savefig(\"cogsci_images/RNN_rw_all_prob_force_plot_%d.png\" % trial_i, bbox_inches='tight')\n",
    "    plt.close()"
   ]
  },
  {
   "cell_type": "code",
   "execution_count": 14,
   "metadata": {},
   "outputs": [],
   "source": [
    "for trial_i in range(mass_df[\"trial_number\"].max() + 1):\n",
    "    trial_df = mass_df.query(\"trial_number == %d\" % trial_i)\n",
    "    plt.figure(figsize=(40, 6))\n",
    "           \n",
    "    ax = sns.lineplot(y=\"rnn_A\", x=\"window_second_start\", data=trial_df, linewidth=20, label=\"A\", markers=True)    \n",
    "    ax = sns.lineplot(y=\"rnn_B\", x=\"window_second_start\", data=trial_df, ax=ax, linewidth=20, label=\"B\")    \n",
    "    ax = sns.lineplot(y=\"rnn_same\", x=\"window_second_start\", data=trial_df, ax=ax, linewidth=20, label=\"same\")\n",
    "    sns.despine(ax=ax)\n",
    "    \n",
    "    ax.set_ylabel(\"RNN probability\", weight=\"bold\")\n",
    "    ax.set_yticks([0, 0.5, 1])\n",
    "    ax.set_yticklabels(ax.get_yticks(), weight=\"bold\")\n",
    "    ax.set_xlim(0, 45)\n",
    "    ax.set_xticklabels([])\n",
    "    ax.set_xlabel(\"\")\n",
    "    ax.legend(loc=2, prop={'weight':'bold'})\n",
    "    \n",
    "    solution = trial_df.solution.unique()[0]\n",
    "    if solution == \"A\":\n",
    "        ax.lines[1].set_linestyle(\"--\")\n",
    "        ax.lines[2].set_linestyle(\"--\")\n",
    "    elif solution == \"B\":\n",
    "        ax.lines[0].set_linestyle(\"--\")\n",
    "        ax.lines[2].set_linestyle(\"--\")\n",
    "    else:\n",
    "        ax.lines[0].set_linestyle(\"--\")\n",
    "        ax.lines[1].set_linestyle(\"--\")        \n",
    "        \n",
    "    plt.savefig(\"cogsci_images/RNN_rw_all_prob_mass_plot_%d.png\" % trial_i, bbox_inches='tight')\n",
    "    plt.close()"
   ]
  },
  {
   "cell_type": "markdown",
   "metadata": {},
   "source": [
    "# Obtain most confusing intervals\n",
    "Most confusing = Highest values of probability for a wrong class"
   ]
  },
  {
   "cell_type": "code",
   "execution_count": 15,
   "metadata": {},
   "outputs": [],
   "source": [
    "def make_probability_of_the_correct_rnn_column_zero(df):\n",
    "    for solution in df.solution.unique():\n",
    "        df[\"rnn_\" + solution] = df[\"rnn_\" + solution] * (df[\"solution\"] != solution).astype(int)\n",
    "\n",
    "def get_confused_probabilities_df(df):\n",
    "    confused_dfs = []\n",
    "\n",
    "    for solution in df.solution.unique():\n",
    "        reshaped_df = df[[\"window_second_start\", \"trial_number\", \"solution\"]].copy()\n",
    "        reshaped_df[\"rnn_option\"] = solution\n",
    "        reshaped_df[\"rnn_value\"] = df[\"rnn_\" + solution]\n",
    "        confused_dfs.append(reshaped_df)\n",
    "\n",
    "    confused_dfs = pd.concat(confused_dfs)\n",
    "    confused_dfs = confused_dfs.query(\"solution != rnn_option\")\n",
    "    return confused_dfs\n",
    "    \n",
    "make_probability_of_the_correct_rnn_column_zero(mass_df)\n",
    "confused_mass_dfs = get_confused_probabilities_df(mass_df)\n",
    "make_probability_of_the_correct_rnn_column_zero(force_df)\n",
    "confused_force_dfs = get_confused_probabilities_df(force_df)"
   ]
  },
  {
   "cell_type": "code",
   "execution_count": 16,
   "metadata": {
    "scrolled": true
   },
   "outputs": [],
   "source": [
    "confused_mass_dfs = confused_mass_dfs.sort_values(by=\"rnn_value\", ascending=False)\n",
    "confused_force_dfs = confused_force_dfs.sort_values(by=\"rnn_value\", ascending=False)"
   ]
  },
  {
   "cell_type": "markdown",
   "metadata": {},
   "source": [
    "## Load human results"
   ]
  },
  {
   "cell_type": "code",
   "execution_count": 17,
   "metadata": {},
   "outputs": [
    {
     "name": "stdout",
     "output_type": "stream",
     "text": [
      "pygame 1.9.6\n",
      "Hello from the pygame community. https://www.pygame.org/contribute.html\n"
     ]
    }
   ],
   "source": [
    "from isaac.visualization import make_frame_curried\n",
    "import moviepy.editor as mpy\n",
    "from scipy import misc\n",
    "\n",
    "\n",
    "def make_clip(trial_data, window_second_start, solution, rnn_thinks_this_is, rnn_confidence):\n",
    "            \n",
    "    trial_data = trial_data.iloc[window_second_start*FPS:(window_second_start + SECONDS_PER_WINDOW)*FPS]\n",
    "    duration = len(trial_data)\n",
    "    n_bodies = sum([\"o\"+str(i)+\".x\" in list(trial_data.columns) for i in range(1, 5)])\n",
    "    \n",
    "    while (len(trial_data) + 1) % 60 != 0:\n",
    "        trial_data = trial_data.append(trial_data.iloc[-1], ignore_index=True)\n",
    "        \n",
    "    make_frame = make_frame_curried(trial_data, n_bodies, None, None)\n",
    "    clip = mpy.VideoClip(make_frame, duration=duration / 60)\n",
    "    return clip, trial_data"
   ]
  },
  {
   "cell_type": "code",
   "execution_count": 18,
   "metadata": {},
   "outputs": [],
   "source": [
    "%load_ext autoreload\n",
    "%autoreload 2"
   ]
  },
  {
   "cell_type": "markdown",
   "metadata": {},
   "source": [
    "# Create videos for comparing evidence seen by RNN and by IO"
   ]
  },
  {
   "cell_type": "code",
   "execution_count": 19,
   "metadata": {
    "scrolled": true
   },
   "outputs": [],
   "source": [
    "import os\n",
    "import json\n",
    "\n",
    "CONFUSING_DATA_PATH = \"cogsci_images/confusing_videos/confusing_%s\" % model_name\n",
    "os.makedirs(CONFUSING_DATA_PATH, exist_ok=True)\n",
    "FILENAME = \"confusing_%s_interval_in_trial_%d_sec_%d_to_%d_rnn_thinks_%s_while_solution_is_%s\"\n",
    "VIDEO_PATH = os.path.join(CONFUSING_DATA_PATH, FILENAME + \".mp4\")\n",
    "JSON_PATH = os.path.join(CONFUSING_DATA_PATH, \"confusing_\"+model_name+\"_%s_physics_data.json\")\n",
    "\n",
    "def write_confused_intervals(confused_df, question_type):\n",
    "\n",
    "    replays = read_dataset(\"../new_exp_data/exp7_passive.h5\")\n",
    "    print(len(replays))\n",
    "    written_replays = {}\n",
    "    number_of_written_replays = 0\n",
    "    \n",
    "    json_data = []\n",
    "\n",
    "    for row_i in range(confused_df.shape[0]):\n",
    "\n",
    "        window_second_start, trial_number, solution, rnn_thinks_this_is, rnn_confidence = (\n",
    "            confused_df.iloc[row_i][[\"window_second_start\", \"trial_number\", \"solution\", \"rnn_option\", \"rnn_value\"]])\n",
    "\n",
    "        print(\"RNN thinks the interval (%d, %d) in trial %d is %s with %.4f confidence. In reality, it is %s.\" % (\n",
    "            window_second_start, window_second_start + SECONDS_PER_WINDOW, trial_number, rnn_thinks_this_is, rnn_confidence, solution))\n",
    "\n",
    "        if trial_number in written_replays:\n",
    "            overlapping_replay = False\n",
    "            for already_written_window_start in written_replays[trial_number]:\n",
    "                if abs(already_written_window_start - window_second_start) <= 5:\n",
    "                    overlapping_replay = True\n",
    "                    break\n",
    "            if overlapping_replay:\n",
    "                print(\"Skipping trial %d and start %d\" % (trial_number, window_second_start))\n",
    "                continue\n",
    "\n",
    "        written_replays[trial_number] = written_replays.get(trial_number, []) + [window_second_start]\n",
    "        clip, trial_data = make_clip(replays[trial_number], window_second_start, solution, rnn_thinks_this_is, rnn_confidence)\n",
    "        clip.ipython_display(fps=60)\n",
    "        clip.write_videofile(VIDEO_PATH % (\n",
    "            question_type, trial_number, window_second_start, window_second_start+SECONDS_PER_WINDOW,\n",
    "            rnn_thinks_this_is, solution), fps=60)\n",
    "\n",
    "        trial_data = trial_data.to_dict(orient='list')\n",
    "        # Simplify attributes whose values are unique throughout the list\n",
    "        for key in [\"trial_type\", \"condition_world_variant\", \"tM\", \"tR\", \"world_id\"]:\n",
    "            trial_data[key] = trial_data[key][0]\n",
    "        json_data.append(trial_data)\n",
    "\n",
    "        number_of_written_replays += 1\n",
    "        if number_of_written_replays == 10:\n",
    "            break\n",
    "            \n",
    "    with open(JSON_PATH % question_type, \"w+\") as f: \n",
    "        json.dump(json_data, f)"
   ]
  },
  {
   "cell_type": "code",
   "execution_count": 20,
   "metadata": {},
   "outputs": [
    {
     "name": "stdout",
     "output_type": "stream",
     "text": [
      "36\n",
      "RNN thinks the interval (12, 17) in trial 30 is attract with 0.6580 confidence. In reality, it is none.\n"
     ]
    },
    {
     "name": "stderr",
     "output_type": "stream",
     "text": [
      "100%|█████████▉| 300/301 [00:01<00:00, 151.13it/s]"
     ]
    },
    {
     "name": "stdout",
     "output_type": "stream",
     "text": [
      "[MoviePy] >>>> Building video cogsci_images/confusing_videos/confusing_rtheta/confusing_force_interval_in_trial_30_sec_12_to_17_rnn_thinks_attract_while_solution_is_none.mp4\n",
      "[MoviePy] Writing video cogsci_images/confusing_videos/confusing_rtheta/confusing_force_interval_in_trial_30_sec_12_to_17_rnn_thinks_attract_while_solution_is_none.mp4\n"
     ]
    },
    {
     "name": "stderr",
     "output_type": "stream",
     "text": [
      "\n",
      "100%|█████████▉| 300/301 [00:02<00:00, 145.99it/s]\n"
     ]
    },
    {
     "name": "stdout",
     "output_type": "stream",
     "text": [
      "[MoviePy] Done.\n",
      "[MoviePy] >>>> Video ready: cogsci_images/confusing_videos/confusing_rtheta/confusing_force_interval_in_trial_30_sec_12_to_17_rnn_thinks_attract_while_solution_is_none.mp4 \n",
      "\n",
      "RNN thinks the interval (31, 36) in trial 35 is attract with 0.6459 confidence. In reality, it is repel.\n"
     ]
    },
    {
     "name": "stderr",
     "output_type": "stream",
     "text": [
      "100%|█████████▉| 300/301 [00:02<00:00, 149.92it/s]\n"
     ]
    },
    {
     "name": "stdout",
     "output_type": "stream",
     "text": [
      "[MoviePy] >>>> Building video cogsci_images/confusing_videos/confusing_rtheta/confusing_force_interval_in_trial_35_sec_31_to_36_rnn_thinks_attract_while_solution_is_repel.mp4\n",
      "[MoviePy] Writing video cogsci_images/confusing_videos/confusing_rtheta/confusing_force_interval_in_trial_35_sec_31_to_36_rnn_thinks_attract_while_solution_is_repel.mp4\n"
     ]
    },
    {
     "name": "stderr",
     "output_type": "stream",
     "text": [
      "100%|█████████▉| 300/301 [00:02<00:00, 146.22it/s]"
     ]
    },
    {
     "name": "stdout",
     "output_type": "stream",
     "text": [
      "[MoviePy] Done.\n",
      "[MoviePy] >>>> Video ready: cogsci_images/confusing_videos/confusing_rtheta/confusing_force_interval_in_trial_35_sec_31_to_36_rnn_thinks_attract_while_solution_is_repel.mp4 \n",
      "\n"
     ]
    },
    {
     "name": "stderr",
     "output_type": "stream",
     "text": [
      "\n"
     ]
    },
    {
     "name": "stdout",
     "output_type": "stream",
     "text": [
      "RNN thinks the interval (8, 13) in trial 17 is attract with 0.6427 confidence. In reality, it is repel.\n"
     ]
    },
    {
     "name": "stderr",
     "output_type": "stream",
     "text": [
      "100%|█████████▉| 300/301 [00:01<00:00, 153.04it/s]\n"
     ]
    },
    {
     "name": "stdout",
     "output_type": "stream",
     "text": [
      "[MoviePy] >>>> Building video cogsci_images/confusing_videos/confusing_rtheta/confusing_force_interval_in_trial_17_sec_8_to_13_rnn_thinks_attract_while_solution_is_repel.mp4\n",
      "[MoviePy] Writing video cogsci_images/confusing_videos/confusing_rtheta/confusing_force_interval_in_trial_17_sec_8_to_13_rnn_thinks_attract_while_solution_is_repel.mp4\n"
     ]
    },
    {
     "name": "stderr",
     "output_type": "stream",
     "text": [
      "100%|█████████▉| 300/301 [00:02<00:00, 148.19it/s]"
     ]
    },
    {
     "name": "stdout",
     "output_type": "stream",
     "text": [
      "[MoviePy] Done.\n",
      "[MoviePy] >>>> Video ready: cogsci_images/confusing_videos/confusing_rtheta/confusing_force_interval_in_trial_17_sec_8_to_13_rnn_thinks_attract_while_solution_is_repel.mp4 \n",
      "\n"
     ]
    },
    {
     "name": "stderr",
     "output_type": "stream",
     "text": [
      "\n"
     ]
    },
    {
     "name": "stdout",
     "output_type": "stream",
     "text": [
      "RNN thinks the interval (4, 9) in trial 25 is attract with 0.6340 confidence. In reality, it is repel.\n"
     ]
    },
    {
     "name": "stderr",
     "output_type": "stream",
     "text": [
      "100%|█████████▉| 300/301 [00:02<00:00, 148.84it/s]\n"
     ]
    },
    {
     "name": "stdout",
     "output_type": "stream",
     "text": [
      "[MoviePy] >>>> Building video cogsci_images/confusing_videos/confusing_rtheta/confusing_force_interval_in_trial_25_sec_4_to_9_rnn_thinks_attract_while_solution_is_repel.mp4\n",
      "[MoviePy] Writing video cogsci_images/confusing_videos/confusing_rtheta/confusing_force_interval_in_trial_25_sec_4_to_9_rnn_thinks_attract_while_solution_is_repel.mp4\n"
     ]
    },
    {
     "name": "stderr",
     "output_type": "stream",
     "text": [
      "100%|█████████▉| 300/301 [00:02<00:00, 138.34it/s]\n"
     ]
    },
    {
     "name": "stdout",
     "output_type": "stream",
     "text": [
      "[MoviePy] Done.\n",
      "[MoviePy] >>>> Video ready: cogsci_images/confusing_videos/confusing_rtheta/confusing_force_interval_in_trial_25_sec_4_to_9_rnn_thinks_attract_while_solution_is_repel.mp4 \n",
      "\n",
      "RNN thinks the interval (10, 15) in trial 5 is attract with 0.6205 confidence. In reality, it is none.\n"
     ]
    },
    {
     "name": "stderr",
     "output_type": "stream",
     "text": [
      "100%|█████████▉| 300/301 [00:02<00:00, 148.78it/s]\n"
     ]
    },
    {
     "name": "stdout",
     "output_type": "stream",
     "text": [
      "[MoviePy] >>>> Building video cogsci_images/confusing_videos/confusing_rtheta/confusing_force_interval_in_trial_5_sec_10_to_15_rnn_thinks_attract_while_solution_is_none.mp4\n",
      "[MoviePy] Writing video cogsci_images/confusing_videos/confusing_rtheta/confusing_force_interval_in_trial_5_sec_10_to_15_rnn_thinks_attract_while_solution_is_none.mp4\n"
     ]
    },
    {
     "name": "stderr",
     "output_type": "stream",
     "text": [
      "100%|█████████▉| 300/301 [00:02<00:00, 145.86it/s]\n"
     ]
    },
    {
     "name": "stdout",
     "output_type": "stream",
     "text": [
      "[MoviePy] Done.\n",
      "[MoviePy] >>>> Video ready: cogsci_images/confusing_videos/confusing_rtheta/confusing_force_interval_in_trial_5_sec_10_to_15_rnn_thinks_attract_while_solution_is_none.mp4 \n",
      "\n",
      "RNN thinks the interval (40, 45) in trial 32 is attract with 0.6016 confidence. In reality, it is none.\n"
     ]
    },
    {
     "name": "stderr",
     "output_type": "stream",
     "text": [
      "100%|█████████▉| 300/301 [00:02<00:00, 149.51it/s]\n"
     ]
    },
    {
     "name": "stdout",
     "output_type": "stream",
     "text": [
      "[MoviePy] >>>> Building video cogsci_images/confusing_videos/confusing_rtheta/confusing_force_interval_in_trial_32_sec_40_to_45_rnn_thinks_attract_while_solution_is_none.mp4\n",
      "[MoviePy] Writing video cogsci_images/confusing_videos/confusing_rtheta/confusing_force_interval_in_trial_32_sec_40_to_45_rnn_thinks_attract_while_solution_is_none.mp4\n"
     ]
    },
    {
     "name": "stderr",
     "output_type": "stream",
     "text": [
      "100%|█████████▉| 300/301 [00:02<00:00, 138.51it/s]"
     ]
    },
    {
     "name": "stdout",
     "output_type": "stream",
     "text": [
      "[MoviePy] Done.\n",
      "[MoviePy] >>>> Video ready: cogsci_images/confusing_videos/confusing_rtheta/confusing_force_interval_in_trial_32_sec_40_to_45_rnn_thinks_attract_while_solution_is_none.mp4 \n",
      "\n"
     ]
    },
    {
     "name": "stderr",
     "output_type": "stream",
     "text": [
      "\n"
     ]
    },
    {
     "name": "stdout",
     "output_type": "stream",
     "text": [
      "RNN thinks the interval (38, 43) in trial 23 is attract with 0.5989 confidence. In reality, it is none.\n"
     ]
    },
    {
     "name": "stderr",
     "output_type": "stream",
     "text": [
      "100%|█████████▉| 300/301 [00:02<00:00, 131.97it/s]\n"
     ]
    },
    {
     "name": "stdout",
     "output_type": "stream",
     "text": [
      "[MoviePy] >>>> Building video cogsci_images/confusing_videos/confusing_rtheta/confusing_force_interval_in_trial_23_sec_38_to_43_rnn_thinks_attract_while_solution_is_none.mp4\n",
      "[MoviePy] Writing video cogsci_images/confusing_videos/confusing_rtheta/confusing_force_interval_in_trial_23_sec_38_to_43_rnn_thinks_attract_while_solution_is_none.mp4\n"
     ]
    },
    {
     "name": "stderr",
     "output_type": "stream",
     "text": [
      "100%|█████████▉| 300/301 [00:02<00:00, 143.13it/s]"
     ]
    },
    {
     "name": "stdout",
     "output_type": "stream",
     "text": [
      "[MoviePy] Done.\n",
      "[MoviePy] >>>> Video ready: cogsci_images/confusing_videos/confusing_rtheta/confusing_force_interval_in_trial_23_sec_38_to_43_rnn_thinks_attract_while_solution_is_none.mp4 \n",
      "\n"
     ]
    },
    {
     "name": "stderr",
     "output_type": "stream",
     "text": [
      "\n"
     ]
    },
    {
     "name": "stdout",
     "output_type": "stream",
     "text": [
      "RNN thinks the interval (10, 15) in trial 7 is attract with 0.5977 confidence. In reality, it is repel.\n"
     ]
    },
    {
     "name": "stderr",
     "output_type": "stream",
     "text": [
      "100%|█████████▉| 300/301 [00:02<00:00, 145.47it/s]\n"
     ]
    },
    {
     "name": "stdout",
     "output_type": "stream",
     "text": [
      "[MoviePy] >>>> Building video cogsci_images/confusing_videos/confusing_rtheta/confusing_force_interval_in_trial_7_sec_10_to_15_rnn_thinks_attract_while_solution_is_repel.mp4\n",
      "[MoviePy] Writing video cogsci_images/confusing_videos/confusing_rtheta/confusing_force_interval_in_trial_7_sec_10_to_15_rnn_thinks_attract_while_solution_is_repel.mp4\n"
     ]
    },
    {
     "name": "stderr",
     "output_type": "stream",
     "text": [
      "100%|█████████▉| 300/301 [00:02<00:00, 144.04it/s]"
     ]
    },
    {
     "name": "stdout",
     "output_type": "stream",
     "text": [
      "[MoviePy] Done.\n",
      "[MoviePy] >>>> Video ready: cogsci_images/confusing_videos/confusing_rtheta/confusing_force_interval_in_trial_7_sec_10_to_15_rnn_thinks_attract_while_solution_is_repel.mp4 \n",
      "\n"
     ]
    },
    {
     "name": "stderr",
     "output_type": "stream",
     "text": [
      "\n"
     ]
    },
    {
     "name": "stdout",
     "output_type": "stream",
     "text": [
      "RNN thinks the interval (13, 18) in trial 15 is attract with 0.5730 confidence. In reality, it is repel.\n"
     ]
    },
    {
     "name": "stderr",
     "output_type": "stream",
     "text": [
      "100%|█████████▉| 300/301 [00:02<00:00, 149.81it/s]\n"
     ]
    },
    {
     "name": "stdout",
     "output_type": "stream",
     "text": [
      "[MoviePy] >>>> Building video cogsci_images/confusing_videos/confusing_rtheta/confusing_force_interval_in_trial_15_sec_13_to_18_rnn_thinks_attract_while_solution_is_repel.mp4\n",
      "[MoviePy] Writing video cogsci_images/confusing_videos/confusing_rtheta/confusing_force_interval_in_trial_15_sec_13_to_18_rnn_thinks_attract_while_solution_is_repel.mp4\n"
     ]
    },
    {
     "name": "stderr",
     "output_type": "stream",
     "text": [
      "100%|█████████▉| 300/301 [00:02<00:00, 144.99it/s]\n"
     ]
    },
    {
     "name": "stdout",
     "output_type": "stream",
     "text": [
      "[MoviePy] Done.\n",
      "[MoviePy] >>>> Video ready: cogsci_images/confusing_videos/confusing_rtheta/confusing_force_interval_in_trial_15_sec_13_to_18_rnn_thinks_attract_while_solution_is_repel.mp4 \n",
      "\n",
      "RNN thinks the interval (38, 43) in trial 4 is attract with 0.5704 confidence. In reality, it is none.\n"
     ]
    },
    {
     "name": "stderr",
     "output_type": "stream",
     "text": [
      "100%|█████████▉| 300/301 [00:02<00:00, 146.47it/s]\n"
     ]
    },
    {
     "name": "stdout",
     "output_type": "stream",
     "text": [
      "[MoviePy] >>>> Building video cogsci_images/confusing_videos/confusing_rtheta/confusing_force_interval_in_trial_4_sec_38_to_43_rnn_thinks_attract_while_solution_is_none.mp4\n",
      "[MoviePy] Writing video cogsci_images/confusing_videos/confusing_rtheta/confusing_force_interval_in_trial_4_sec_38_to_43_rnn_thinks_attract_while_solution_is_none.mp4\n"
     ]
    },
    {
     "name": "stderr",
     "output_type": "stream",
     "text": [
      "100%|█████████▉| 300/301 [00:02<00:00, 144.35it/s]"
     ]
    },
    {
     "name": "stdout",
     "output_type": "stream",
     "text": [
      "[MoviePy] Done.\n",
      "[MoviePy] >>>> Video ready: cogsci_images/confusing_videos/confusing_rtheta/confusing_force_interval_in_trial_4_sec_38_to_43_rnn_thinks_attract_while_solution_is_none.mp4 \n",
      "\n"
     ]
    },
    {
     "name": "stderr",
     "output_type": "stream",
     "text": [
      "\n"
     ]
    }
   ],
   "source": [
    "write_confused_intervals(confused_force_dfs, \"force\")"
   ]
  },
  {
   "cell_type": "code",
   "execution_count": 22,
   "metadata": {},
   "outputs": [
    {
     "name": "stdout",
     "output_type": "stream",
     "text": [
      "36\n",
      "RNN thinks the interval (1, 6) in trial 24 is A with 0.9346 confidence. In reality, it is same.\n"
     ]
    },
    {
     "name": "stderr",
     "output_type": "stream",
     "text": [
      "100%|█████████▉| 300/301 [00:02<00:00, 137.29it/s]\n"
     ]
    },
    {
     "name": "stdout",
     "output_type": "stream",
     "text": [
      "[MoviePy] >>>> Building video cogsci_images/confusing_videos/confusing_rtheta/confusing_mass_interval_in_trial_24_sec_1_to_6_rnn_thinks_A_while_solution_is_same.mp4\n",
      "[MoviePy] Writing video cogsci_images/confusing_videos/confusing_rtheta/confusing_mass_interval_in_trial_24_sec_1_to_6_rnn_thinks_A_while_solution_is_same.mp4\n"
     ]
    },
    {
     "name": "stderr",
     "output_type": "stream",
     "text": [
      "100%|█████████▉| 300/301 [00:02<00:00, 129.17it/s]\n"
     ]
    },
    {
     "name": "stdout",
     "output_type": "stream",
     "text": [
      "[MoviePy] Done.\n",
      "[MoviePy] >>>> Video ready: cogsci_images/confusing_videos/confusing_rtheta/confusing_mass_interval_in_trial_24_sec_1_to_6_rnn_thinks_A_while_solution_is_same.mp4 \n",
      "\n",
      "RNN thinks the interval (2, 7) in trial 24 is A with 0.9038 confidence. In reality, it is same.\n",
      "Skipping trial 24 and start 2\n",
      "RNN thinks the interval (40, 45) in trial 18 is A with 0.8881 confidence. In reality, it is same.\n"
     ]
    },
    {
     "name": "stderr",
     "output_type": "stream",
     "text": [
      "100%|█████████▉| 300/301 [00:02<00:00, 147.11it/s]\n"
     ]
    },
    {
     "name": "stdout",
     "output_type": "stream",
     "text": [
      "[MoviePy] >>>> Building video cogsci_images/confusing_videos/confusing_rtheta/confusing_mass_interval_in_trial_18_sec_40_to_45_rnn_thinks_A_while_solution_is_same.mp4\n",
      "[MoviePy] Writing video cogsci_images/confusing_videos/confusing_rtheta/confusing_mass_interval_in_trial_18_sec_40_to_45_rnn_thinks_A_while_solution_is_same.mp4\n"
     ]
    },
    {
     "name": "stderr",
     "output_type": "stream",
     "text": [
      "100%|█████████▉| 300/301 [00:02<00:00, 143.14it/s]"
     ]
    },
    {
     "name": "stdout",
     "output_type": "stream",
     "text": [
      "[MoviePy] Done.\n",
      "[MoviePy] >>>> Video ready: cogsci_images/confusing_videos/confusing_rtheta/confusing_mass_interval_in_trial_18_sec_40_to_45_rnn_thinks_A_while_solution_is_same.mp4 \n",
      "\n"
     ]
    },
    {
     "name": "stderr",
     "output_type": "stream",
     "text": [
      "\n"
     ]
    },
    {
     "name": "stdout",
     "output_type": "stream",
     "text": [
      "RNN thinks the interval (39, 44) in trial 30 is A with 0.8745 confidence. In reality, it is same.\n"
     ]
    },
    {
     "name": "stderr",
     "output_type": "stream",
     "text": [
      "100%|█████████▉| 300/301 [00:02<00:00, 128.58it/s]\n"
     ]
    },
    {
     "name": "stdout",
     "output_type": "stream",
     "text": [
      "[MoviePy] >>>> Building video cogsci_images/confusing_videos/confusing_rtheta/confusing_mass_interval_in_trial_30_sec_39_to_44_rnn_thinks_A_while_solution_is_same.mp4\n",
      "[MoviePy] Writing video cogsci_images/confusing_videos/confusing_rtheta/confusing_mass_interval_in_trial_30_sec_39_to_44_rnn_thinks_A_while_solution_is_same.mp4\n"
     ]
    },
    {
     "name": "stderr",
     "output_type": "stream",
     "text": [
      "100%|█████████▉| 300/301 [00:02<00:00, 144.88it/s]\n"
     ]
    },
    {
     "name": "stdout",
     "output_type": "stream",
     "text": [
      "[MoviePy] Done.\n",
      "[MoviePy] >>>> Video ready: cogsci_images/confusing_videos/confusing_rtheta/confusing_mass_interval_in_trial_30_sec_39_to_44_rnn_thinks_A_while_solution_is_same.mp4 \n",
      "\n",
      "RNN thinks the interval (26, 31) in trial 9 is A with 0.8724 confidence. In reality, it is same.\n"
     ]
    },
    {
     "name": "stderr",
     "output_type": "stream",
     "text": [
      "100%|█████████▉| 300/301 [00:02<00:00, 147.10it/s]"
     ]
    },
    {
     "name": "stdout",
     "output_type": "stream",
     "text": [
      "[MoviePy] >>>> Building video cogsci_images/confusing_videos/confusing_rtheta/confusing_mass_interval_in_trial_9_sec_26_to_31_rnn_thinks_A_while_solution_is_same.mp4\n",
      "[MoviePy] Writing video cogsci_images/confusing_videos/confusing_rtheta/confusing_mass_interval_in_trial_9_sec_26_to_31_rnn_thinks_A_while_solution_is_same.mp4\n"
     ]
    },
    {
     "name": "stderr",
     "output_type": "stream",
     "text": [
      "\n",
      "100%|█████████▉| 300/301 [00:02<00:00, 144.32it/s]"
     ]
    },
    {
     "name": "stdout",
     "output_type": "stream",
     "text": [
      "[MoviePy] Done.\n",
      "[MoviePy] >>>> Video ready: cogsci_images/confusing_videos/confusing_rtheta/confusing_mass_interval_in_trial_9_sec_26_to_31_rnn_thinks_A_while_solution_is_same.mp4 \n",
      "\n"
     ]
    },
    {
     "name": "stderr",
     "output_type": "stream",
     "text": [
      "\n"
     ]
    },
    {
     "name": "stdout",
     "output_type": "stream",
     "text": [
      "RNN thinks the interval (39, 44) in trial 9 is A with 0.8721 confidence. In reality, it is same.\n"
     ]
    },
    {
     "name": "stderr",
     "output_type": "stream",
     "text": [
      "100%|█████████▉| 300/301 [00:02<00:00, 143.90it/s]"
     ]
    },
    {
     "name": "stdout",
     "output_type": "stream",
     "text": [
      "[MoviePy] >>>> Building video cogsci_images/confusing_videos/confusing_rtheta/confusing_mass_interval_in_trial_9_sec_39_to_44_rnn_thinks_A_while_solution_is_same.mp4\n",
      "[MoviePy] Writing video cogsci_images/confusing_videos/confusing_rtheta/confusing_mass_interval_in_trial_9_sec_39_to_44_rnn_thinks_A_while_solution_is_same.mp4\n"
     ]
    },
    {
     "name": "stderr",
     "output_type": "stream",
     "text": [
      "\n",
      "100%|█████████▉| 300/301 [00:02<00:00, 142.86it/s]"
     ]
    },
    {
     "name": "stdout",
     "output_type": "stream",
     "text": [
      "[MoviePy] Done.\n",
      "[MoviePy] >>>> Video ready: cogsci_images/confusing_videos/confusing_rtheta/confusing_mass_interval_in_trial_9_sec_39_to_44_rnn_thinks_A_while_solution_is_same.mp4 \n",
      "\n"
     ]
    },
    {
     "name": "stderr",
     "output_type": "stream",
     "text": [
      "\n"
     ]
    },
    {
     "name": "stdout",
     "output_type": "stream",
     "text": [
      "RNN thinks the interval (33, 38) in trial 32 is A with 0.8678 confidence. In reality, it is B.\n"
     ]
    },
    {
     "name": "stderr",
     "output_type": "stream",
     "text": [
      "100%|█████████▉| 300/301 [00:02<00:00, 145.09it/s]\n"
     ]
    },
    {
     "name": "stdout",
     "output_type": "stream",
     "text": [
      "[MoviePy] >>>> Building video cogsci_images/confusing_videos/confusing_rtheta/confusing_mass_interval_in_trial_32_sec_33_to_38_rnn_thinks_A_while_solution_is_B.mp4\n",
      "[MoviePy] Writing video cogsci_images/confusing_videos/confusing_rtheta/confusing_mass_interval_in_trial_32_sec_33_to_38_rnn_thinks_A_while_solution_is_B.mp4\n"
     ]
    },
    {
     "name": "stderr",
     "output_type": "stream",
     "text": [
      "100%|█████████▉| 300/301 [00:02<00:00, 140.98it/s]"
     ]
    },
    {
     "name": "stdout",
     "output_type": "stream",
     "text": [
      "[MoviePy] Done.\n",
      "[MoviePy] >>>> Video ready: cogsci_images/confusing_videos/confusing_rtheta/confusing_mass_interval_in_trial_32_sec_33_to_38_rnn_thinks_A_while_solution_is_B.mp4 \n",
      "\n"
     ]
    },
    {
     "name": "stderr",
     "output_type": "stream",
     "text": [
      "\n"
     ]
    },
    {
     "name": "stdout",
     "output_type": "stream",
     "text": [
      "RNN thinks the interval (32, 37) in trial 32 is A with 0.8672 confidence. In reality, it is B.\n",
      "Skipping trial 32 and start 32\n",
      "RNN thinks the interval (5, 10) in trial 1 is same with 0.8668 confidence. In reality, it is A.\n"
     ]
    },
    {
     "name": "stderr",
     "output_type": "stream",
     "text": [
      "100%|█████████▉| 300/301 [00:02<00:00, 143.18it/s]"
     ]
    },
    {
     "name": "stdout",
     "output_type": "stream",
     "text": [
      "[MoviePy] >>>> Building video cogsci_images/confusing_videos/confusing_rtheta/confusing_mass_interval_in_trial_1_sec_5_to_10_rnn_thinks_same_while_solution_is_A.mp4\n"
     ]
    },
    {
     "name": "stderr",
     "output_type": "stream",
     "text": [
      "\n"
     ]
    },
    {
     "name": "stdout",
     "output_type": "stream",
     "text": [
      "[MoviePy] Writing video cogsci_images/confusing_videos/confusing_rtheta/confusing_mass_interval_in_trial_1_sec_5_to_10_rnn_thinks_same_while_solution_is_A.mp4\n"
     ]
    },
    {
     "name": "stderr",
     "output_type": "stream",
     "text": [
      "100%|█████████▉| 300/301 [00:02<00:00, 140.62it/s]"
     ]
    },
    {
     "name": "stdout",
     "output_type": "stream",
     "text": [
      "[MoviePy] Done.\n",
      "[MoviePy] >>>> Video ready: cogsci_images/confusing_videos/confusing_rtheta/confusing_mass_interval_in_trial_1_sec_5_to_10_rnn_thinks_same_while_solution_is_A.mp4 \n",
      "\n"
     ]
    },
    {
     "name": "stderr",
     "output_type": "stream",
     "text": [
      "\n"
     ]
    },
    {
     "name": "stdout",
     "output_type": "stream",
     "text": [
      "RNN thinks the interval (31, 36) in trial 32 is A with 0.8638 confidence. In reality, it is B.\n",
      "Skipping trial 32 and start 31\n",
      "RNN thinks the interval (31, 36) in trial 21 is A with 0.8550 confidence. In reality, it is same.\n"
     ]
    },
    {
     "name": "stderr",
     "output_type": "stream",
     "text": [
      "100%|█████████▉| 300/301 [00:02<00:00, 141.24it/s]\n"
     ]
    },
    {
     "name": "stdout",
     "output_type": "stream",
     "text": [
      "[MoviePy] >>>> Building video cogsci_images/confusing_videos/confusing_rtheta/confusing_mass_interval_in_trial_21_sec_31_to_36_rnn_thinks_A_while_solution_is_same.mp4\n",
      "[MoviePy] Writing video cogsci_images/confusing_videos/confusing_rtheta/confusing_mass_interval_in_trial_21_sec_31_to_36_rnn_thinks_A_while_solution_is_same.mp4\n"
     ]
    },
    {
     "name": "stderr",
     "output_type": "stream",
     "text": [
      "100%|█████████▉| 300/301 [00:02<00:00, 141.81it/s]"
     ]
    },
    {
     "name": "stdout",
     "output_type": "stream",
     "text": [
      "[MoviePy] Done.\n",
      "[MoviePy] >>>> Video ready: cogsci_images/confusing_videos/confusing_rtheta/confusing_mass_interval_in_trial_21_sec_31_to_36_rnn_thinks_A_while_solution_is_same.mp4 \n",
      "\n"
     ]
    },
    {
     "name": "stderr",
     "output_type": "stream",
     "text": [
      "\n"
     ]
    },
    {
     "name": "stdout",
     "output_type": "stream",
     "text": [
      "RNN thinks the interval (21, 26) in trial 30 is B with 0.8503 confidence. In reality, it is same.\n"
     ]
    },
    {
     "name": "stderr",
     "output_type": "stream",
     "text": [
      "100%|█████████▉| 300/301 [00:02<00:00, 143.89it/s]\n"
     ]
    },
    {
     "name": "stdout",
     "output_type": "stream",
     "text": [
      "[MoviePy] >>>> Building video cogsci_images/confusing_videos/confusing_rtheta/confusing_mass_interval_in_trial_30_sec_21_to_26_rnn_thinks_B_while_solution_is_same.mp4\n",
      "[MoviePy] Writing video cogsci_images/confusing_videos/confusing_rtheta/confusing_mass_interval_in_trial_30_sec_21_to_26_rnn_thinks_B_while_solution_is_same.mp4\n"
     ]
    },
    {
     "name": "stderr",
     "output_type": "stream",
     "text": [
      "100%|█████████▉| 300/301 [00:02<00:00, 143.12it/s]"
     ]
    },
    {
     "name": "stdout",
     "output_type": "stream",
     "text": [
      "[MoviePy] Done.\n",
      "[MoviePy] >>>> Video ready: cogsci_images/confusing_videos/confusing_rtheta/confusing_mass_interval_in_trial_30_sec_21_to_26_rnn_thinks_B_while_solution_is_same.mp4 \n",
      "\n"
     ]
    },
    {
     "name": "stderr",
     "output_type": "stream",
     "text": [
      "\n"
     ]
    },
    {
     "name": "stdout",
     "output_type": "stream",
     "text": [
      "RNN thinks the interval (6, 11) in trial 0 is A with 0.8457 confidence. In reality, it is same.\n"
     ]
    },
    {
     "name": "stderr",
     "output_type": "stream",
     "text": [
      "100%|█████████▉| 300/301 [00:02<00:00, 145.46it/s]\n"
     ]
    },
    {
     "name": "stdout",
     "output_type": "stream",
     "text": [
      "[MoviePy] >>>> Building video cogsci_images/confusing_videos/confusing_rtheta/confusing_mass_interval_in_trial_0_sec_6_to_11_rnn_thinks_A_while_solution_is_same.mp4\n",
      "[MoviePy] Writing video cogsci_images/confusing_videos/confusing_rtheta/confusing_mass_interval_in_trial_0_sec_6_to_11_rnn_thinks_A_while_solution_is_same.mp4\n"
     ]
    },
    {
     "name": "stderr",
     "output_type": "stream",
     "text": [
      "100%|█████████▉| 300/301 [00:02<00:00, 141.79it/s]"
     ]
    },
    {
     "name": "stdout",
     "output_type": "stream",
     "text": [
      "[MoviePy] Done.\n",
      "[MoviePy] >>>> Video ready: cogsci_images/confusing_videos/confusing_rtheta/confusing_mass_interval_in_trial_0_sec_6_to_11_rnn_thinks_A_while_solution_is_same.mp4 \n",
      "\n"
     ]
    },
    {
     "name": "stderr",
     "output_type": "stream",
     "text": [
      "\n"
     ]
    }
   ],
   "source": [
    "write_confused_intervals(confused_mass_dfs, \"mass\")"
   ]
  }
 ],
 "metadata": {
  "kernelspec": {
   "display_name": "Python 3",
   "language": "python",
   "name": "python3"
  },
  "language_info": {
   "codemirror_mode": {
    "name": "ipython",
    "version": 3
   },
   "file_extension": ".py",
   "mimetype": "text/x-python",
   "name": "python",
   "nbconvert_exporter": "python",
   "pygments_lexer": "ipython3",
   "version": "3.5.6"
  }
 },
 "nbformat": 4,
 "nbformat_minor": 2
}
