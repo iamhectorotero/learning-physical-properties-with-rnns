{
 "cells": [
  {
   "cell_type": "code",
   "execution_count": 1,
   "metadata": {},
   "outputs": [
    {
     "name": "stdout",
     "output_type": "stream",
     "text": [
      "pygame 1.9.6\n",
      "Hello from the pygame community. https://www.pygame.org/contribute.html\n"
     ]
    }
   ],
   "source": [
    "import isaac.constants\n",
    "isaac.constants.TQDM_DISABLE = True\n",
    "\n",
    "from torch import nn\n",
    "from isaac.utils import get_cuda_device_if_available\n",
    "import joblib\n",
    "\n",
    "from isaac.dataset import read_dataset, prepare_dataset\n",
    "from isaac.models import MultiBranchModel, ComplexRNNModel\n",
    "from isaac.constants import BASIC_TRAINING_COLS, MASS_CLASS_COLS, FORCE_CLASS_COLS, RTHETA_COLS, XY_RTHETA_COLS, XY_VXVY_RTHETA_COLS\n",
    "from isaac.evaluation import evaluate_saved_model\n",
    "from isaac.statistical_tests import z_test\n",
    "from isaac.visualization import plot_confusion_matrix\n",
    "\n",
    "from scipy.stats import ttest_ind, ttest_rel, f_oneway\n",
    "\n",
    "import torch\n",
    "import glob\n",
    "from torch.autograd import Variable\n",
    "import numpy as np\n",
    "import pandas as pd\n",
    "from tqdm import tqdm"
   ]
  },
  {
   "cell_type": "code",
   "execution_count": 2,
   "metadata": {},
   "outputs": [
    {
     "name": "stdout",
     "output_type": "stream",
     "text": [
      "cuda:0\n"
     ]
    }
   ],
   "source": [
    "device = get_cuda_device_if_available()\n",
    "print(device)"
   ]
  },
  {
   "cell_type": "code",
   "execution_count": 3,
   "metadata": {},
   "outputs": [],
   "source": [
    "HIDDEN_DIM = 25  # hidden layer dimension\n",
    "N_LAYERS = 4     # number of hidden layers\n",
    "OUTPUT_DIM = 3   # output dimension\n",
    "DROPOUT = 0.5"
   ]
  },
  {
   "cell_type": "code",
   "execution_count": 4,
   "metadata": {},
   "outputs": [],
   "source": [
    "normalise_data = True\n",
    "model_name = \"rtheta\"\n",
    "d = {\"rtheta\": RTHETA_COLS, \"xy_vxvy\": BASIC_TRAINING_COLS,\n",
    "     \"xy_rtheta\": XY_RTHETA_COLS, \"xy_vxvy_rtheta\": XY_VXVY_RTHETA_COLS}\n",
    "training_columns = d[model_name]\n",
    "\n",
    "network_dims = (len(training_columns), HIDDEN_DIM, N_LAYERS, OUTPUT_DIM, DROPOUT)\n",
    "# network_dims = (len(training_columns), 25, 3, 0.5)\n",
    "dataset_path = \"../new_exp_data/exp7_passive_rtheta.h5\"\n",
    "multiclass = False\n",
    "seq_end = 2700\n",
    "step_size = 3\n",
    "N_MODELS = None\n",
    "\n",
    "\n",
    "def get_question_accuracy_for_group_of_models(question_type):\n",
    "    global N_MODELS\n",
    "    model_paths = tqdm(sorted(glob.glob(\"models/GRU_singlebranch/\"+model_name+\"/best_\"+question_type+\"_model_seed_*.pt\")))\n",
    "    N_MODELS = len(model_paths)\n",
    "    class_columns = FORCE_CLASS_COLS if question_type == \"force\" else MASS_CLASS_COLS\n",
    "    scaler_path = \"scalers/GRU_singlebranch/\"+question_type+\"_\"+model_name+\"_scaler.sk\"\n",
    "    model_arch = MultiBranchModel if multiclass else ComplexRNNModel\n",
    "\n",
    "\n",
    "    accuracies, predicted = evaluate_saved_model(model_paths, network_dims, dataset_path, \n",
    "                                                 training_columns=training_columns, class_columns=class_columns, \n",
    "                                                 step_size=step_size, seq_end=seq_end, scaler_path=scaler_path,\n",
    "                                                 arch=model_arch, multiclass=multiclass, trials=None)\n",
    "    \n",
    "    if multiclass:\n",
    "        if question_type == \"mass\":\n",
    "            question_index = 0\n",
    "        else:\n",
    "            question_index = 1\n",
    "\n",
    "        accuracies = np.stack(accuracies)[:, question_index]\n",
    "\n",
    "        predicted = [x[:, question_index].numpy() for x in predicted]\n",
    "    else:\n",
    "        predicted = [x.numpy() for x in predicted]\n",
    "\n",
    "    \n",
    "    return accuracies, predicted"
   ]
  },
  {
   "cell_type": "code",
   "execution_count": 5,
   "metadata": {},
   "outputs": [],
   "source": [
    "def get_participant_accuracy_filtering_by_answer(passive_responses, answer_column, question_type_answer, filter_by_class):\n",
    "    \n",
    "    passive_responses = passive_responses.copy().query(question_type_answer+\" == \"+filter_by_class)\n",
    "    return passive_responses[answer_column]"
   ]
  },
  {
   "cell_type": "markdown",
   "metadata": {},
   "source": [
    "# T-test for MASS questions"
   ]
  },
  {
   "cell_type": "markdown",
   "metadata": {},
   "source": [
    "## Load model's predictions"
   ]
  },
  {
   "cell_type": "code",
   "execution_count": 6,
   "metadata": {
    "scrolled": true
   },
   "outputs": [
    {
     "name": "stderr",
     "output_type": "stream",
     "text": [
      "\r",
      "  0%|          | 0/25 [00:00<?, ?it/s]"
     ]
    },
    {
     "name": "stdout",
     "output_type": "stream",
     "text": [
      "MASS\n"
     ]
    },
    {
     "name": "stderr",
     "output_type": "stream",
     "text": [
      "100%|██████████| 25/25 [00:11<00:00,  2.17it/s]\n",
      "  0%|          | 0/25 [00:00<?, ?it/s]"
     ]
    },
    {
     "name": "stdout",
     "output_type": "stream",
     "text": [
      "\n",
      "FORCE\n"
     ]
    },
    {
     "name": "stderr",
     "output_type": "stream",
     "text": [
      "100%|██████████| 25/25 [00:11<00:00,  2.39it/s]\n"
     ]
    }
   ],
   "source": [
    "print(\"MASS\")\n",
    "question_type = \"mass\"\n",
    "group_mass_acc, group_mass_prediction = get_question_accuracy_for_group_of_models(question_type)\n",
    "     \n",
    "print(\"\\nFORCE\")\n",
    "question_type = \"force\"\n",
    "group_force_acc, group_force_prediction = get_question_accuracy_for_group_of_models(question_type)"
   ]
  },
  {
   "cell_type": "code",
   "execution_count": 7,
   "metadata": {},
   "outputs": [],
   "source": [
    "group_mass_prediction = np.array(group_mass_prediction)\n",
    "group_force_prediction = np.array(group_force_prediction)"
   ]
  },
  {
   "cell_type": "code",
   "execution_count": 8,
   "metadata": {},
   "outputs": [],
   "source": [
    "answers = []\n",
    "for question_i in range(group_mass_prediction.shape[1]):\n",
    "    \n",
    "    mass_predictions = list(group_mass_prediction[:, question_i])\n",
    "    question_mass_counts = [mass_predictions.count(key) for key in range(3)]\n",
    "    question_mass_percentages = [mass_predictions.count(key) / N_MODELS for key in range(3)]\n",
    "        \n",
    "    force_predictions = list(group_force_prediction[:, question_i])\n",
    "    question_force_counts = [force_predictions.count(key) for key in range(3)]\n",
    "    question_force_percentages = [force_predictions.count(key) / N_MODELS for key in range(3)]\n",
    "    \n",
    "    answers.append(np.hstack((question_mass_counts, question_mass_percentages, question_force_counts, question_force_percentages)))\n",
    "    \n",
    "model_answers_df = pd.DataFrame(data=answers,\n",
    "                                columns=[\"A_models\", \"B_models\", \"same_models\",\n",
    "                                         \"A_per_models\", \"B_per_models\", \"same_per_models\",\n",
    "                                         \"attract_models\", \"none_models\", \"repel_models\",\n",
    "                                         \"attract_per_models\", \"none_per_models\", \"repel_per_models\",\n",
    "                                        ])\n",
    "\n",
    "model_answers_df[[cl + \"_models\" for cl in MASS_CLASS_COLS]] = model_answers_df[[cl + \"_models\" for cl in MASS_CLASS_COLS]].astype(int)\n",
    "model_answers_df[[cl + \"_models\" for cl in FORCE_CLASS_COLS]] = model_answers_df[[cl + \"_models\" for cl in FORCE_CLASS_COLS]].astype(int)"
   ]
  },
  {
   "cell_type": "code",
   "execution_count": 9,
   "metadata": {},
   "outputs": [
    {
     "data": {
      "text/html": [
       "<div>\n",
       "<style scoped>\n",
       "    .dataframe tbody tr th:only-of-type {\n",
       "        vertical-align: middle;\n",
       "    }\n",
       "\n",
       "    .dataframe tbody tr th {\n",
       "        vertical-align: top;\n",
       "    }\n",
       "\n",
       "    .dataframe thead th {\n",
       "        text-align: right;\n",
       "    }\n",
       "</style>\n",
       "<table border=\"1\" class=\"dataframe\">\n",
       "  <thead>\n",
       "    <tr style=\"text-align: right;\">\n",
       "      <th></th>\n",
       "      <th>A_models</th>\n",
       "      <th>B_models</th>\n",
       "      <th>same_models</th>\n",
       "      <th>A_per_models</th>\n",
       "      <th>B_per_models</th>\n",
       "      <th>same_per_models</th>\n",
       "      <th>attract_models</th>\n",
       "      <th>none_models</th>\n",
       "      <th>repel_models</th>\n",
       "      <th>attract_per_models</th>\n",
       "      <th>none_per_models</th>\n",
       "      <th>repel_per_models</th>\n",
       "    </tr>\n",
       "  </thead>\n",
       "  <tbody>\n",
       "    <tr>\n",
       "      <th>0</th>\n",
       "      <td>0</td>\n",
       "      <td>0</td>\n",
       "      <td>25</td>\n",
       "      <td>0.00</td>\n",
       "      <td>0.0</td>\n",
       "      <td>1.00</td>\n",
       "      <td>25</td>\n",
       "      <td>0</td>\n",
       "      <td>0</td>\n",
       "      <td>1.00</td>\n",
       "      <td>0.00</td>\n",
       "      <td>0.00</td>\n",
       "    </tr>\n",
       "    <tr>\n",
       "      <th>1</th>\n",
       "      <td>21</td>\n",
       "      <td>0</td>\n",
       "      <td>4</td>\n",
       "      <td>0.84</td>\n",
       "      <td>0.0</td>\n",
       "      <td>0.16</td>\n",
       "      <td>25</td>\n",
       "      <td>0</td>\n",
       "      <td>0</td>\n",
       "      <td>1.00</td>\n",
       "      <td>0.00</td>\n",
       "      <td>0.00</td>\n",
       "    </tr>\n",
       "    <tr>\n",
       "      <th>2</th>\n",
       "      <td>0</td>\n",
       "      <td>25</td>\n",
       "      <td>0</td>\n",
       "      <td>0.00</td>\n",
       "      <td>1.0</td>\n",
       "      <td>0.00</td>\n",
       "      <td>25</td>\n",
       "      <td>0</td>\n",
       "      <td>0</td>\n",
       "      <td>1.00</td>\n",
       "      <td>0.00</td>\n",
       "      <td>0.00</td>\n",
       "    </tr>\n",
       "    <tr>\n",
       "      <th>3</th>\n",
       "      <td>6</td>\n",
       "      <td>0</td>\n",
       "      <td>19</td>\n",
       "      <td>0.24</td>\n",
       "      <td>0.0</td>\n",
       "      <td>0.76</td>\n",
       "      <td>0</td>\n",
       "      <td>0</td>\n",
       "      <td>25</td>\n",
       "      <td>0.00</td>\n",
       "      <td>0.00</td>\n",
       "      <td>1.00</td>\n",
       "    </tr>\n",
       "    <tr>\n",
       "      <th>4</th>\n",
       "      <td>13</td>\n",
       "      <td>0</td>\n",
       "      <td>12</td>\n",
       "      <td>0.52</td>\n",
       "      <td>0.0</td>\n",
       "      <td>0.48</td>\n",
       "      <td>1</td>\n",
       "      <td>11</td>\n",
       "      <td>13</td>\n",
       "      <td>0.04</td>\n",
       "      <td>0.44</td>\n",
       "      <td>0.52</td>\n",
       "    </tr>\n",
       "  </tbody>\n",
       "</table>\n",
       "</div>"
      ],
      "text/plain": [
       "   A_models  B_models  same_models  A_per_models  B_per_models  \\\n",
       "0         0         0           25          0.00           0.0   \n",
       "1        21         0            4          0.84           0.0   \n",
       "2         0        25            0          0.00           1.0   \n",
       "3         6         0           19          0.24           0.0   \n",
       "4        13         0           12          0.52           0.0   \n",
       "\n",
       "   same_per_models  attract_models  none_models  repel_models  \\\n",
       "0             1.00              25            0             0   \n",
       "1             0.16              25            0             0   \n",
       "2             0.00              25            0             0   \n",
       "3             0.76               0            0            25   \n",
       "4             0.48               1           11            13   \n",
       "\n",
       "   attract_per_models  none_per_models  repel_per_models  \n",
       "0                1.00             0.00              0.00  \n",
       "1                1.00             0.00              0.00  \n",
       "2                1.00             0.00              0.00  \n",
       "3                0.00             0.00              1.00  \n",
       "4                0.04             0.44              0.52  "
      ]
     },
     "execution_count": 9,
     "metadata": {},
     "output_type": "execute_result"
    }
   ],
   "source": [
    "model_answers_df.head()"
   ]
  },
  {
   "cell_type": "code",
   "execution_count": 10,
   "metadata": {},
   "outputs": [],
   "source": [
    "import json"
   ]
  },
  {
   "cell_type": "code",
   "execution_count": 11,
   "metadata": {},
   "outputs": [],
   "source": [
    "condition_world_variant = []\n",
    "world_id = []\n",
    "\n",
    "for condition_id in range(1, 5):\n",
    "    filename = \"../new_exp_data/physics_data%d.json\" % condition_id\n",
    "    fd = open(filename)\n",
    "    sim_data = json.load(fd)\n",
    "    \n",
    "    for sim in sim_data:\n",
    "        if sim[\"practice\"]:\n",
    "            continue\n",
    "        condition_world_variant.append(sim[\"condition_world_variant\"])\n",
    "        world_id.append(sim[\"world_id\"])"
   ]
  },
  {
   "cell_type": "code",
   "execution_count": 12,
   "metadata": {},
   "outputs": [],
   "source": [
    "model_answers_df[\"condition_world_variant\"] = condition_world_variant\n",
    "model_answers_df[\"world_id\"] = world_id"
   ]
  },
  {
   "cell_type": "markdown",
   "metadata": {},
   "source": [
    "## Load human results"
   ]
  },
  {
   "cell_type": "code",
   "execution_count": 13,
   "metadata": {},
   "outputs": [],
   "source": [
    "from rpy2.robjects import r, pandas2ri\n",
    "pandas2ri.activate()"
   ]
  },
  {
   "cell_type": "code",
   "execution_count": 14,
   "metadata": {},
   "outputs": [],
   "source": [
    "rdata_path = \"../new_exp_data/e7_passive_io_rtheta.rdata\"\n",
    "r['load'](rdata_path)\n",
    "\n",
    "responses = r[\"tw\"].query(\"practice == 0\")"
   ]
  },
  {
   "cell_type": "markdown",
   "metadata": {},
   "source": [
    "# Percentage of participants that get an answer right"
   ]
  },
  {
   "cell_type": "code",
   "execution_count": 15,
   "metadata": {},
   "outputs": [],
   "source": [
    "passive_responses = []\n",
    "\n",
    "for name, df in responses.groupby([\"cond_worldvar\", \"world_id\", \"true_mass\", \"true_rel\",\n",
    "                                   \"post_ent_mass.rtheta\", \"post_ent_rel.rtheta\",\n",
    "                                   \"post_att.rtheta\", \"post_none.rtheta\", \"post_rep.rtheta\", \n",
    "                                   \"post_same.rtheta\", \"post_A.rtheta\", \"post_B.rtheta\"]):\n",
    "    response = [name[0], name[1], name[2], name[3], name[4], name[5],\n",
    "               name[6], name[7], name[8], name[9], name[10], name[11]]\n",
    "\n",
    "    value_counts = df.resp_rel.value_counts()\n",
    "    force_human_accuracy = value_counts[name[3]] / value_counts.sum()     \n",
    "    response.append(force_human_accuracy)\n",
    "    \n",
    "    for cl in FORCE_CLASS_COLS:\n",
    "        response.append(value_counts[cl])\n",
    "    \n",
    "    value_counts = df.resp_mass.value_counts()\n",
    "    mass_human_accuracy = value_counts[name[2]] / value_counts.sum()     \n",
    "    response.append(mass_human_accuracy)    \n",
    "    for cl in MASS_CLASS_COLS:\n",
    "        response.append(value_counts[cl])\n",
    "        \n",
    "    passive_responses.append(response)"
   ]
  },
  {
   "cell_type": "code",
   "execution_count": 16,
   "metadata": {},
   "outputs": [],
   "source": [
    "passive_responses = pd.DataFrame(data=passive_responses, \n",
    "                                 columns=[\"cond_worldvar\", \"world_id\", \"true_mass\", \"true_rel\",  \"post_ent_mass.rtheta\", \n",
    "                                          \"post_ent_rel.rtheta\" ,\"attract_io\", \"none_io\", \"repel_io\", \"same_io\", \"A_io\", \"B_io\",\n",
    "                                          \"force_human_accuracy\", \"attract_humans\", \"none_humans\", \"repel_humans\",\n",
    "                                          \"mass_human_accuracy\", \"A_humans\", \"B_humans\", \"same_humans\"])"
   ]
  },
  {
   "cell_type": "code",
   "execution_count": 17,
   "metadata": {},
   "outputs": [
    {
     "data": {
      "text/html": [
       "<div>\n",
       "<style scoped>\n",
       "    .dataframe tbody tr th:only-of-type {\n",
       "        vertical-align: middle;\n",
       "    }\n",
       "\n",
       "    .dataframe tbody tr th {\n",
       "        vertical-align: top;\n",
       "    }\n",
       "\n",
       "    .dataframe thead th {\n",
       "        text-align: right;\n",
       "    }\n",
       "</style>\n",
       "<table border=\"1\" class=\"dataframe\">\n",
       "  <thead>\n",
       "    <tr style=\"text-align: right;\">\n",
       "      <th></th>\n",
       "      <th>cond_worldvar</th>\n",
       "      <th>world_id</th>\n",
       "      <th>true_mass</th>\n",
       "      <th>true_rel</th>\n",
       "      <th>post_ent_mass.rtheta</th>\n",
       "      <th>post_ent_rel.rtheta</th>\n",
       "      <th>attract_io</th>\n",
       "      <th>none_io</th>\n",
       "      <th>repel_io</th>\n",
       "      <th>same_io</th>\n",
       "      <th>A_io</th>\n",
       "      <th>B_io</th>\n",
       "      <th>force_human_accuracy</th>\n",
       "      <th>attract_humans</th>\n",
       "      <th>none_humans</th>\n",
       "      <th>repel_humans</th>\n",
       "      <th>mass_human_accuracy</th>\n",
       "      <th>A_humans</th>\n",
       "      <th>B_humans</th>\n",
       "      <th>same_humans</th>\n",
       "    </tr>\n",
       "  </thead>\n",
       "  <tbody>\n",
       "    <tr>\n",
       "      <th>0</th>\n",
       "      <td>1</td>\n",
       "      <td>1218</td>\n",
       "      <td>A</td>\n",
       "      <td>repel</td>\n",
       "      <td>0.000827</td>\n",
       "      <td>1.402287</td>\n",
       "      <td>0.116278</td>\n",
       "      <td>0.442520</td>\n",
       "      <td>0.441202</td>\n",
       "      <td>0.000053</td>\n",
       "      <td>9.999471e-01</td>\n",
       "      <td>1.306524e-10</td>\n",
       "      <td>0.76</td>\n",
       "      <td>4</td>\n",
       "      <td>2</td>\n",
       "      <td>19</td>\n",
       "      <td>0.52</td>\n",
       "      <td>13</td>\n",
       "      <td>5</td>\n",
       "      <td>7</td>\n",
       "    </tr>\n",
       "    <tr>\n",
       "      <th>1</th>\n",
       "      <td>1</td>\n",
       "      <td>1736</td>\n",
       "      <td>B</td>\n",
       "      <td>none</td>\n",
       "      <td>0.022527</td>\n",
       "      <td>1.413136</td>\n",
       "      <td>0.294347</td>\n",
       "      <td>0.549061</td>\n",
       "      <td>0.156592</td>\n",
       "      <td>0.002171</td>\n",
       "      <td>1.061167e-05</td>\n",
       "      <td>9.978184e-01</td>\n",
       "      <td>0.40</td>\n",
       "      <td>2</td>\n",
       "      <td>10</td>\n",
       "      <td>13</td>\n",
       "      <td>0.52</td>\n",
       "      <td>4</td>\n",
       "      <td>13</td>\n",
       "      <td>8</td>\n",
       "    </tr>\n",
       "    <tr>\n",
       "      <th>2</th>\n",
       "      <td>1</td>\n",
       "      <td>1758</td>\n",
       "      <td>B</td>\n",
       "      <td>repel</td>\n",
       "      <td>0.049913</td>\n",
       "      <td>1.555458</td>\n",
       "      <td>0.241375</td>\n",
       "      <td>0.368009</td>\n",
       "      <td>0.390617</td>\n",
       "      <td>0.005595</td>\n",
       "      <td>3.771451e-08</td>\n",
       "      <td>9.944045e-01</td>\n",
       "      <td>0.44</td>\n",
       "      <td>8</td>\n",
       "      <td>6</td>\n",
       "      <td>11</td>\n",
       "      <td>0.72</td>\n",
       "      <td>1</td>\n",
       "      <td>18</td>\n",
       "      <td>6</td>\n",
       "    </tr>\n",
       "    <tr>\n",
       "      <th>3</th>\n",
       "      <td>1</td>\n",
       "      <td>1819</td>\n",
       "      <td>B</td>\n",
       "      <td>attract</td>\n",
       "      <td>0.243940</td>\n",
       "      <td>0.924914</td>\n",
       "      <td>0.736875</td>\n",
       "      <td>0.245450</td>\n",
       "      <td>0.017676</td>\n",
       "      <td>0.040165</td>\n",
       "      <td>5.755379e-05</td>\n",
       "      <td>9.597772e-01</td>\n",
       "      <td>0.64</td>\n",
       "      <td>16</td>\n",
       "      <td>1</td>\n",
       "      <td>8</td>\n",
       "      <td>0.60</td>\n",
       "      <td>5</td>\n",
       "      <td>15</td>\n",
       "      <td>5</td>\n",
       "    </tr>\n",
       "    <tr>\n",
       "      <th>4</th>\n",
       "      <td>1</td>\n",
       "      <td>438</td>\n",
       "      <td>same</td>\n",
       "      <td>repel</td>\n",
       "      <td>0.051500</td>\n",
       "      <td>1.305047</td>\n",
       "      <td>0.127337</td>\n",
       "      <td>0.250658</td>\n",
       "      <td>0.622005</td>\n",
       "      <td>0.994825</td>\n",
       "      <td>1.722333e-03</td>\n",
       "      <td>3.453153e-03</td>\n",
       "      <td>0.56</td>\n",
       "      <td>4</td>\n",
       "      <td>7</td>\n",
       "      <td>14</td>\n",
       "      <td>0.36</td>\n",
       "      <td>7</td>\n",
       "      <td>9</td>\n",
       "      <td>9</td>\n",
       "    </tr>\n",
       "  </tbody>\n",
       "</table>\n",
       "</div>"
      ],
      "text/plain": [
       "  cond_worldvar world_id true_mass true_rel  post_ent_mass.rtheta  \\\n",
       "0             1     1218         A    repel              0.000827   \n",
       "1             1     1736         B     none              0.022527   \n",
       "2             1     1758         B    repel              0.049913   \n",
       "3             1     1819         B  attract              0.243940   \n",
       "4             1      438      same    repel              0.051500   \n",
       "\n",
       "   post_ent_rel.rtheta  attract_io   none_io  repel_io   same_io  \\\n",
       "0             1.402287    0.116278  0.442520  0.441202  0.000053   \n",
       "1             1.413136    0.294347  0.549061  0.156592  0.002171   \n",
       "2             1.555458    0.241375  0.368009  0.390617  0.005595   \n",
       "3             0.924914    0.736875  0.245450  0.017676  0.040165   \n",
       "4             1.305047    0.127337  0.250658  0.622005  0.994825   \n",
       "\n",
       "           A_io          B_io  force_human_accuracy  attract_humans  \\\n",
       "0  9.999471e-01  1.306524e-10                  0.76               4   \n",
       "1  1.061167e-05  9.978184e-01                  0.40               2   \n",
       "2  3.771451e-08  9.944045e-01                  0.44               8   \n",
       "3  5.755379e-05  9.597772e-01                  0.64              16   \n",
       "4  1.722333e-03  3.453153e-03                  0.56               4   \n",
       "\n",
       "   none_humans  repel_humans  mass_human_accuracy  A_humans  B_humans  \\\n",
       "0            2            19                 0.52        13         5   \n",
       "1           10            13                 0.52         4        13   \n",
       "2            6            11                 0.72         1        18   \n",
       "3            1             8                 0.60         5        15   \n",
       "4            7            14                 0.36         7         9   \n",
       "\n",
       "   same_humans  \n",
       "0            7  \n",
       "1            8  \n",
       "2            6  \n",
       "3            5  \n",
       "4            9  "
      ]
     },
     "execution_count": 17,
     "metadata": {},
     "output_type": "execute_result"
    }
   ],
   "source": [
    "passive_responses.head()"
   ]
  },
  {
   "cell_type": "code",
   "execution_count": 18,
   "metadata": {},
   "outputs": [],
   "source": [
    "passive_responses[\"cond_worldvar\"] = passive_responses[\"cond_worldvar\"].astype(\"int64\")\n",
    "passive_responses[\"world_id\"] = passive_responses[\"world_id\"].astype(\"int64\")\n",
    "\n",
    "passive_responses = passive_responses.merge(model_answers_df, left_on=[\"cond_worldvar\", \"world_id\"], right_on=[\"condition_world_variant\", \"world_id\"])"
   ]
  },
  {
   "cell_type": "code",
   "execution_count": 19,
   "metadata": {},
   "outputs": [
    {
     "data": {
      "text/plain": [
       "Index(['cond_worldvar', 'world_id', 'true_mass', 'true_rel',\n",
       "       'post_ent_mass.rtheta', 'post_ent_rel.rtheta', 'attract_io', 'none_io',\n",
       "       'repel_io', 'same_io', 'A_io', 'B_io', 'force_human_accuracy',\n",
       "       'attract_humans', 'none_humans', 'repel_humans', 'mass_human_accuracy',\n",
       "       'A_humans', 'B_humans', 'same_humans', 'A_models', 'B_models',\n",
       "       'same_models', 'A_per_models', 'B_per_models', 'same_per_models',\n",
       "       'attract_models', 'none_models', 'repel_models', 'attract_per_models',\n",
       "       'none_per_models', 'repel_per_models', 'condition_world_variant'],\n",
       "      dtype='object')"
      ]
     },
     "execution_count": 19,
     "metadata": {},
     "output_type": "execute_result"
    }
   ],
   "source": [
    "passive_responses.columns"
   ]
  },
  {
   "cell_type": "markdown",
   "metadata": {},
   "source": [
    "# RNN accuracy"
   ]
  },
  {
   "cell_type": "code",
   "execution_count": 20,
   "metadata": {},
   "outputs": [],
   "source": [
    "mass_rnn_accuracy = []\n",
    "mass_io_posterior = []\n",
    "\n",
    "for i, answer in enumerate(passive_responses.true_mass):\n",
    "    mass_rnn_accuracy.append(passive_responses[answer + \"_per_models\"].iloc[i])\n",
    "    mass_io_posterior.append(passive_responses[answer + \"_io\"].iloc[i])\n",
    "    \n",
    "force_rnn_accuracy = []\n",
    "force_io_posterior = []  \n",
    "for i, answer in enumerate(passive_responses.true_rel):\n",
    "    force_rnn_accuracy.append(passive_responses[answer + \"_per_models\"].iloc[i])\n",
    "    force_io_posterior.append(passive_responses[answer + \"_io\"].iloc[i])\n",
    "    \n",
    "passive_responses[\"mass_rnn_accuracy\"] = np.array(mass_rnn_accuracy)\n",
    "passive_responses[\"mass_io_posterior\"] = np.array(mass_io_posterior)\n",
    "\n",
    "passive_responses[\"force_rnn_accuracy\"] = np.array(force_rnn_accuracy)\n",
    "passive_responses[\"force_io_posterior\"] = np.array(force_io_posterior)"
   ]
  },
  {
   "cell_type": "code",
   "execution_count": 21,
   "metadata": {},
   "outputs": [
    {
     "data": {
      "text/html": [
       "<div>\n",
       "<style scoped>\n",
       "    .dataframe tbody tr th:only-of-type {\n",
       "        vertical-align: middle;\n",
       "    }\n",
       "\n",
       "    .dataframe tbody tr th {\n",
       "        vertical-align: top;\n",
       "    }\n",
       "\n",
       "    .dataframe thead th {\n",
       "        text-align: right;\n",
       "    }\n",
       "</style>\n",
       "<table border=\"1\" class=\"dataframe\">\n",
       "  <thead>\n",
       "    <tr style=\"text-align: right;\">\n",
       "      <th></th>\n",
       "      <th>cond_worldvar</th>\n",
       "      <th>world_id</th>\n",
       "      <th>true_mass</th>\n",
       "      <th>true_rel</th>\n",
       "      <th>post_ent_mass.rtheta</th>\n",
       "      <th>post_ent_rel.rtheta</th>\n",
       "      <th>attract_io</th>\n",
       "      <th>none_io</th>\n",
       "      <th>repel_io</th>\n",
       "      <th>same_io</th>\n",
       "      <th>...</th>\n",
       "      <th>none_models</th>\n",
       "      <th>repel_models</th>\n",
       "      <th>attract_per_models</th>\n",
       "      <th>none_per_models</th>\n",
       "      <th>repel_per_models</th>\n",
       "      <th>condition_world_variant</th>\n",
       "      <th>mass_rnn_accuracy</th>\n",
       "      <th>mass_io_posterior</th>\n",
       "      <th>force_rnn_accuracy</th>\n",
       "      <th>force_io_posterior</th>\n",
       "    </tr>\n",
       "  </thead>\n",
       "  <tbody>\n",
       "    <tr>\n",
       "      <th>0</th>\n",
       "      <td>1</td>\n",
       "      <td>1218</td>\n",
       "      <td>A</td>\n",
       "      <td>repel</td>\n",
       "      <td>0.000827</td>\n",
       "      <td>1.402287</td>\n",
       "      <td>0.116278</td>\n",
       "      <td>0.442520</td>\n",
       "      <td>0.441202</td>\n",
       "      <td>0.000053</td>\n",
       "      <td>...</td>\n",
       "      <td>7</td>\n",
       "      <td>18</td>\n",
       "      <td>0.00</td>\n",
       "      <td>0.28</td>\n",
       "      <td>0.72</td>\n",
       "      <td>1</td>\n",
       "      <td>1.00</td>\n",
       "      <td>0.999947</td>\n",
       "      <td>0.72</td>\n",
       "      <td>0.441202</td>\n",
       "    </tr>\n",
       "    <tr>\n",
       "      <th>1</th>\n",
       "      <td>1</td>\n",
       "      <td>1736</td>\n",
       "      <td>B</td>\n",
       "      <td>none</td>\n",
       "      <td>0.022527</td>\n",
       "      <td>1.413136</td>\n",
       "      <td>0.294347</td>\n",
       "      <td>0.549061</td>\n",
       "      <td>0.156592</td>\n",
       "      <td>0.002171</td>\n",
       "      <td>...</td>\n",
       "      <td>12</td>\n",
       "      <td>11</td>\n",
       "      <td>0.08</td>\n",
       "      <td>0.48</td>\n",
       "      <td>0.44</td>\n",
       "      <td>1</td>\n",
       "      <td>1.00</td>\n",
       "      <td>0.997818</td>\n",
       "      <td>0.48</td>\n",
       "      <td>0.549061</td>\n",
       "    </tr>\n",
       "    <tr>\n",
       "      <th>2</th>\n",
       "      <td>1</td>\n",
       "      <td>1758</td>\n",
       "      <td>B</td>\n",
       "      <td>repel</td>\n",
       "      <td>0.049913</td>\n",
       "      <td>1.555458</td>\n",
       "      <td>0.241375</td>\n",
       "      <td>0.368009</td>\n",
       "      <td>0.390617</td>\n",
       "      <td>0.005595</td>\n",
       "      <td>...</td>\n",
       "      <td>6</td>\n",
       "      <td>19</td>\n",
       "      <td>0.00</td>\n",
       "      <td>0.24</td>\n",
       "      <td>0.76</td>\n",
       "      <td>1</td>\n",
       "      <td>0.72</td>\n",
       "      <td>0.994405</td>\n",
       "      <td>0.76</td>\n",
       "      <td>0.390617</td>\n",
       "    </tr>\n",
       "    <tr>\n",
       "      <th>3</th>\n",
       "      <td>1</td>\n",
       "      <td>1819</td>\n",
       "      <td>B</td>\n",
       "      <td>attract</td>\n",
       "      <td>0.243940</td>\n",
       "      <td>0.924914</td>\n",
       "      <td>0.736875</td>\n",
       "      <td>0.245450</td>\n",
       "      <td>0.017676</td>\n",
       "      <td>0.040165</td>\n",
       "      <td>...</td>\n",
       "      <td>0</td>\n",
       "      <td>0</td>\n",
       "      <td>1.00</td>\n",
       "      <td>0.00</td>\n",
       "      <td>0.00</td>\n",
       "      <td>1</td>\n",
       "      <td>1.00</td>\n",
       "      <td>0.959777</td>\n",
       "      <td>1.00</td>\n",
       "      <td>0.736875</td>\n",
       "    </tr>\n",
       "    <tr>\n",
       "      <th>4</th>\n",
       "      <td>1</td>\n",
       "      <td>438</td>\n",
       "      <td>same</td>\n",
       "      <td>repel</td>\n",
       "      <td>0.051500</td>\n",
       "      <td>1.305047</td>\n",
       "      <td>0.127337</td>\n",
       "      <td>0.250658</td>\n",
       "      <td>0.622005</td>\n",
       "      <td>0.994825</td>\n",
       "      <td>...</td>\n",
       "      <td>1</td>\n",
       "      <td>24</td>\n",
       "      <td>0.00</td>\n",
       "      <td>0.04</td>\n",
       "      <td>0.96</td>\n",
       "      <td>1</td>\n",
       "      <td>0.80</td>\n",
       "      <td>0.994825</td>\n",
       "      <td>0.96</td>\n",
       "      <td>0.622005</td>\n",
       "    </tr>\n",
       "  </tbody>\n",
       "</table>\n",
       "<p>5 rows × 37 columns</p>\n",
       "</div>"
      ],
      "text/plain": [
       "   cond_worldvar  world_id true_mass true_rel  post_ent_mass.rtheta  \\\n",
       "0              1      1218         A    repel              0.000827   \n",
       "1              1      1736         B     none              0.022527   \n",
       "2              1      1758         B    repel              0.049913   \n",
       "3              1      1819         B  attract              0.243940   \n",
       "4              1       438      same    repel              0.051500   \n",
       "\n",
       "   post_ent_rel.rtheta  attract_io   none_io  repel_io   same_io  \\\n",
       "0             1.402287    0.116278  0.442520  0.441202  0.000053   \n",
       "1             1.413136    0.294347  0.549061  0.156592  0.002171   \n",
       "2             1.555458    0.241375  0.368009  0.390617  0.005595   \n",
       "3             0.924914    0.736875  0.245450  0.017676  0.040165   \n",
       "4             1.305047    0.127337  0.250658  0.622005  0.994825   \n",
       "\n",
       "          ...          none_models  repel_models  attract_per_models  \\\n",
       "0         ...                    7            18                0.00   \n",
       "1         ...                   12            11                0.08   \n",
       "2         ...                    6            19                0.00   \n",
       "3         ...                    0             0                1.00   \n",
       "4         ...                    1            24                0.00   \n",
       "\n",
       "   none_per_models  repel_per_models  condition_world_variant  \\\n",
       "0             0.28              0.72                        1   \n",
       "1             0.48              0.44                        1   \n",
       "2             0.24              0.76                        1   \n",
       "3             0.00              0.00                        1   \n",
       "4             0.04              0.96                        1   \n",
       "\n",
       "   mass_rnn_accuracy  mass_io_posterior  force_rnn_accuracy  \\\n",
       "0               1.00           0.999947                0.72   \n",
       "1               1.00           0.997818                0.48   \n",
       "2               0.72           0.994405                0.76   \n",
       "3               1.00           0.959777                1.00   \n",
       "4               0.80           0.994825                0.96   \n",
       "\n",
       "   force_io_posterior  \n",
       "0            0.441202  \n",
       "1            0.549061  \n",
       "2            0.390617  \n",
       "3            0.736875  \n",
       "4            0.622005  \n",
       "\n",
       "[5 rows x 37 columns]"
      ]
     },
     "execution_count": 21,
     "metadata": {},
     "output_type": "execute_result"
    }
   ],
   "source": [
    "passive_responses.head()"
   ]
  },
  {
   "cell_type": "code",
   "execution_count": 22,
   "metadata": {},
   "outputs": [],
   "source": [
    "human_mass_accuracy_list = passive_responses.mass_human_accuracy\n",
    "human_force_accuracy_list = passive_responses.force_human_accuracy\n",
    "\n",
    "model_mass_accuracy_list = passive_responses.mass_rnn_accuracy\n",
    "model_force_accuracy_list = passive_responses.force_rnn_accuracy\n",
    "\n",
    "io_mass_posterior_list = passive_responses.mass_io_posterior\n",
    "io_force_posterior_list = passive_responses.force_io_posterior"
   ]
  },
  {
   "cell_type": "markdown",
   "metadata": {},
   "source": [
    "# Perform t-test on overall accuracy"
   ]
  },
  {
   "cell_type": "code",
   "execution_count": 23,
   "metadata": {},
   "outputs": [],
   "source": [
    "import matplotlib.pyplot as plt\n",
    "from scipy.stats import spearmanr\n",
    "import seaborn as sns\n",
    "\n",
    "sns.set(font_scale=2)\n",
    "sns.set_style(\"white\")\n",
    "plt.rc('font', weight='bold')"
   ]
  },
  {
   "cell_type": "code",
   "execution_count": 24,
   "metadata": {},
   "outputs": [
    {
     "name": "stdout",
     "output_type": "stream",
     "text": [
      "0.37839031339031337 ± 0.145973580677441\n",
      "0.7566666666666666 ± 0.2507544172647369\n",
      "0.9732832819889428 ± 0.07393349954378448\n"
     ]
    }
   ],
   "source": [
    "print(np.mean(human_mass_accuracy_list), \"±\", np.std(human_mass_accuracy_list))\n",
    "print(np.mean(model_mass_accuracy_list), \"±\", np.std(model_mass_accuracy_list))\n",
    "print(np.mean(io_mass_posterior_list), \"±\", np.std(io_mass_posterior_list))"
   ]
  },
  {
   "cell_type": "code",
   "execution_count": 25,
   "metadata": {},
   "outputs": [
    {
     "name": "stdout",
     "output_type": "stream",
     "text": [
      "0.5462250712250714 ± 0.176816239172785\n",
      "0.6344444444444446 ± 0.292446048627819\n",
      "0.6066807825159446 ± 0.18170704663896928\n"
     ]
    }
   ],
   "source": [
    "print(np.mean(human_force_accuracy_list), \"±\", np.std(human_force_accuracy_list))\n",
    "print(np.mean(model_force_accuracy_list), \"±\", np.std(model_force_accuracy_list))\n",
    "print(np.mean(io_force_posterior_list), \"±\", np.std(io_force_posterior_list))"
   ]
  },
  {
   "cell_type": "code",
   "execution_count": 26,
   "metadata": {},
   "outputs": [],
   "source": [
    "from sklearn.linear_model import LinearRegression\n",
    "max_entropy = -np.sum([1/3, 1/3, 1/3] * np.log2([1/3, 1/3, 1/3]))\n",
    "\n",
    "def plot_correlation(human_accuracy_list, model_accuracy_list, solutions, xlabel=\"RNN accuracy\", savepath=None):\n",
    "    \n",
    "    print(\"Pearson corr\", np.corrcoef(model_accuracy_list, human_accuracy_list)[0][1])\n",
    "    corr, pval = spearmanr(model_accuracy_list, human_accuracy_list)\n",
    "    print(\"Spearman pval\", pval)\n",
    "    df = pd.DataFrame({\"Human accuracy\": human_accuracy_list, xlabel: model_accuracy_list, \"solution\": solutions})\n",
    "    plt.figure(figsize=(8, 6))\n",
    "    sns.regplot(x=xlabel, y=\"Human accuracy\", data=df, scatter_kws={\"s\": 100})\n",
    "    plt.title(\"$r_s$ = %.3f\" % corr, weight=\"bold\", size=30)\n",
    "    plt.ylabel(\"Human accuracy\", weight=\"bold\")\n",
    "    plt.xlabel(xlabel, weight=\"bold\")\n",
    "    sns.despine()\n",
    "    \n",
    "    if savepath is not None:\n",
    "        plt.savefig(savepath, bbox_inches='tight')\n",
    "    plt.show()"
   ]
  },
  {
   "cell_type": "code",
   "execution_count": 27,
   "metadata": {},
   "outputs": [
    {
     "name": "stdout",
     "output_type": "stream",
     "text": [
      "Pearson corr 0.0938264394465314\n",
      "Spearman pval 0.4678285315957831\n"
     ]
    },
    {
     "data": {
      "image/png": "[encoded data removed]",
      "text/plain": [
       "<Figure size 576x432 with 1 Axes>"
      ]
     },
     "metadata": {},
     "output_type": "display_data"
    },
    {
     "name": "stdout",
     "output_type": "stream",
     "text": [
      "Pearson corr 0.022796588322583095\n",
      "Spearman pval 0.500740783372535\n"
     ]
    },
    {
     "data": {
      "image/png": "[encoded data removed]",
      "text/plain": [
       "<Figure size 576x432 with 1 Axes>"
      ]
     },
     "metadata": {},
     "output_type": "display_data"
    }
   ],
   "source": [
    "plot_correlation(human_mass_accuracy_list, model_mass_accuracy_list, passive_responses.true_mass,\n",
    "                savepath=\"cogsci_images/rnn_accuracy_vs_human_accuracy_mass.pdf\")\n",
    "plot_correlation(human_mass_accuracy_list, io_mass_posterior_list, passive_responses.true_mass, \"IO posterior\",\n",
    "                savepath=\"cogsci_images/io_posterior_vs_human_accuracy_mass.pdf\")"
   ]
  },
  {
   "cell_type": "code",
   "execution_count": 28,
   "metadata": {},
   "outputs": [
    {
     "name": "stdout",
     "output_type": "stream",
     "text": [
      "Pearson corr 0.4183921196752012\n",
      "Spearman pval 0.0072956335751461834\n"
     ]
    },
    {
     "data": {
      "image/png": "[encoded data removed]",
      "text/plain": [
       "<Figure size 576x432 with 1 Axes>"
      ]
     },
     "metadata": {},
     "output_type": "display_data"
    },
    {
     "name": "stdout",
     "output_type": "stream",
     "text": [
      "Pearson corr 0.10287547142564349\n",
      "Spearman pval 0.45690845308930605\n"
     ]
    },
    {
     "data": {
      "image/png": "[encoded data removed]",
      "text/plain": [
       "<Figure size 576x432 with 1 Axes>"
      ]
     },
     "metadata": {},
     "output_type": "display_data"
    }
   ],
   "source": [
    "plot_correlation(human_force_accuracy_list, model_force_accuracy_list, \n",
    "                 passive_responses.true_rel, savepath=\"cogsci_images/rnn_accuracy_vs_human_accuracy_force.pdf\")\n",
    "plot_correlation(human_force_accuracy_list, io_force_posterior_list, passive_responses.true_rel, \"IO posterior\",\n",
    "                 savepath=\"cogsci_images/io_posterior_vs_human_accuracy_force.pdf\")"
   ]
  },
  {
   "cell_type": "markdown",
   "metadata": {},
   "source": [
    "#### Is the model significantly better answering mass questions than humans?"
   ]
  },
  {
   "cell_type": "code",
   "execution_count": 29,
   "metadata": {},
   "outputs": [
    {
     "data": {
      "text/plain": [
       "Ttest_relResult(statistic=-8.048312915486655, pvalue=1.7896074481086902e-09)"
      ]
     },
     "execution_count": 29,
     "metadata": {},
     "output_type": "execute_result"
    }
   ],
   "source": [
    "ttest_rel(human_mass_accuracy_list, model_mass_accuracy_list)"
   ]
  },
  {
   "cell_type": "markdown",
   "metadata": {},
   "source": [
    "#### Does the IO significantly overestimate mass accuracy for humans?"
   ]
  },
  {
   "cell_type": "code",
   "execution_count": 30,
   "metadata": {},
   "outputs": [
    {
     "data": {
      "text/plain": [
       "Ttest_relResult(statistic=5.635501929360337, pvalue=2.334942155740886e-06)"
      ]
     },
     "execution_count": 30,
     "metadata": {},
     "output_type": "execute_result"
    }
   ],
   "source": [
    "ttest_rel(io_mass_posterior_list, model_mass_accuracy_list)"
   ]
  },
  {
   "cell_type": "markdown",
   "metadata": {},
   "source": [
    "#### Is the model significantly better answering mass questions than humans?"
   ]
  },
  {
   "cell_type": "code",
   "execution_count": 31,
   "metadata": {},
   "outputs": [
    {
     "data": {
      "text/plain": [
       "Ttest_relResult(statistic=-1.9248528766115613, pvalue=0.06240624262668803)"
      ]
     },
     "execution_count": 31,
     "metadata": {},
     "output_type": "execute_result"
    }
   ],
   "source": [
    "ttest_rel(human_force_accuracy_list, model_force_accuracy_list)"
   ]
  },
  {
   "cell_type": "markdown",
   "metadata": {},
   "source": [
    "#### Does the IO significantly overestimate force accuracy for humans?"
   ]
  },
  {
   "cell_type": "code",
   "execution_count": 32,
   "metadata": {},
   "outputs": [
    {
     "data": {
      "text/plain": [
       "Ttest_relResult(statistic=-1.4893369024447796, pvalue=0.1453553400487548)"
      ]
     },
     "execution_count": 32,
     "metadata": {},
     "output_type": "execute_result"
    }
   ],
   "source": [
    "ttest_rel(human_force_accuracy_list, io_force_posterior_list)"
   ]
  },
  {
   "cell_type": "markdown",
   "metadata": {},
   "source": [
    "#### Is the model significantly better answering force questions than mass questions? And humans?"
   ]
  },
  {
   "cell_type": "code",
   "execution_count": 33,
   "metadata": {},
   "outputs": [
    {
     "name": "stdout",
     "output_type": "stream",
     "text": [
      "Ttest_indResult(statistic=1.8769972419595613, pvalue=0.0646862313766826)\n",
      "Ttest_indResult(statistic=-4.3304952743613745, pvalue=4.86608749152777e-05)\n",
      "Ttest_indResult(statistic=11.055834365177166, pvalue=5.216084466344975e-17)\n"
     ]
    }
   ],
   "source": [
    "print(ttest_ind(model_mass_accuracy_list, model_force_accuracy_list))\n",
    "print(ttest_ind(human_mass_accuracy_list, human_force_accuracy_list))\n",
    "print(ttest_ind(io_mass_posterior_list, io_force_posterior_list))"
   ]
  },
  {
   "cell_type": "markdown",
   "metadata": {},
   "source": [
    "# Is the model better at predicting any force class?"
   ]
  },
  {
   "cell_type": "code",
   "execution_count": 34,
   "metadata": {},
   "outputs": [],
   "source": [
    "repel_accuracy_list = get_participant_accuracy_filtering_by_answer(passive_responses, \"force_rnn_accuracy\", \n",
    "                                                                   \"true_rel\", \"'repel'\")\n",
    "\n",
    "none_accuracy_list = get_participant_accuracy_filtering_by_answer(passive_responses, \"force_rnn_accuracy\", \n",
    "                                                                   \"true_rel\", \"'none'\")\n",
    "\n",
    "attract_accuracy_list = get_participant_accuracy_filtering_by_answer(passive_responses, \"force_rnn_accuracy\", \n",
    "                                                                   \"true_rel\", \"'attract'\")"
   ]
  },
  {
   "cell_type": "code",
   "execution_count": 35,
   "metadata": {},
   "outputs": [
    {
     "name": "stdout",
     "output_type": "stream",
     "text": [
      "0.7066666666666667 0.2379542439676633\n",
      "0.35000000000000003 0.1347837774610382\n",
      "0.8466666666666668 0.22499382707581608\n",
      "\n",
      "Ttest_indResult(statistic=4.325539925489809, pvalue=0.00027240617923280275)\n",
      "Ttest_indResult(statistic=-1.417871837310018, pvalue=0.17023758262294003)\n",
      "Ttest_indResult(statistic=6.28061553362267, pvalue=2.544744028989913e-06)\n"
     ]
    }
   ],
   "source": [
    "print(np.mean(repel_accuracy_list), np.std(repel_accuracy_list))\n",
    "print(np.mean(none_accuracy_list), np.std(none_accuracy_list))\n",
    "print(np.mean(attract_accuracy_list), np.std(attract_accuracy_list))\n",
    "\n",
    "print()\n",
    "\n",
    "print(ttest_ind(repel_accuracy_list, none_accuracy_list))\n",
    "print(ttest_ind(repel_accuracy_list, attract_accuracy_list))\n",
    "print(ttest_ind(attract_accuracy_list, none_accuracy_list))"
   ]
  },
  {
   "cell_type": "markdown",
   "metadata": {},
   "source": [
    "# Are humans better at predicting any force class? And compared to RNNs?"
   ]
  },
  {
   "cell_type": "code",
   "execution_count": 36,
   "metadata": {},
   "outputs": [
    {
     "name": "stdout",
     "output_type": "stream",
     "text": [
      "0.5727350427350427 0.13531888148325485\n",
      "0.38777777777777783 0.10039803172690473\n",
      "0.6781623931623932 0.14894697893841963\n",
      "\n",
      "Ttest_indResult(statistic=3.640639395027706, pvalue=0.0014428896714880582)\n",
      "Ttest_indResult(statistic=-1.7375664164447775, pvalue=0.09626821719795242)\n",
      "Ttest_indResult(statistic=5.361722481943239, pvalue=2.204329106568638e-05)\n"
     ]
    }
   ],
   "source": [
    "human_repel_accuracy_list = get_participant_accuracy_filtering_by_answer(passive_responses, \"force_human_accuracy\", \n",
    "                                                                         \"true_rel\", \"'repel'\")\n",
    "\n",
    "human_none_accuracy_list = get_participant_accuracy_filtering_by_answer(passive_responses, \"force_human_accuracy\", \n",
    "                                                                        \"true_rel\", \"'none'\")\n",
    "\n",
    "human_attract_accuracy_list = get_participant_accuracy_filtering_by_answer(passive_responses, \"force_human_accuracy\", \n",
    "                                                                   \"true_rel\", \"'attract'\")\n",
    "\n",
    "print(np.mean(human_repel_accuracy_list), np.std(human_repel_accuracy_list))\n",
    "print(np.mean(human_none_accuracy_list), np.std(human_none_accuracy_list))\n",
    "print(np.mean(human_attract_accuracy_list), np.std(human_attract_accuracy_list))\n",
    "\n",
    "\n",
    "print()\n",
    "\n",
    "print(ttest_ind(human_repel_accuracy_list, human_none_accuracy_list))\n",
    "print(ttest_ind(human_repel_accuracy_list, human_attract_accuracy_list))\n",
    "print(ttest_ind(human_attract_accuracy_list, human_none_accuracy_list))"
   ]
  },
  {
   "cell_type": "code",
   "execution_count": 37,
   "metadata": {},
   "outputs": [
    {
     "name": "stdout",
     "output_type": "stream",
     "text": [
      "Ttest_relResult(statistic=1.4362455772455172, pvalue=0.17875669396784116)\n",
      "Ttest_relResult(statistic=-0.7367083402363096, pvalue=0.4767185726920933)\n",
      "Ttest_relResult(statistic=2.089039386270021, pvalue=0.06074149755591667)\n"
     ]
    }
   ],
   "source": [
    "print(ttest_rel(repel_accuracy_list, human_repel_accuracy_list))\n",
    "print(ttest_rel(none_accuracy_list, human_none_accuracy_list))\n",
    "print(ttest_rel(attract_accuracy_list, human_attract_accuracy_list))"
   ]
  },
  {
   "cell_type": "markdown",
   "metadata": {},
   "source": [
    "# Is the model better at predicting any mass class?"
   ]
  },
  {
   "cell_type": "code",
   "execution_count": 38,
   "metadata": {},
   "outputs": [],
   "source": [
    "a_accuracy_list = get_participant_accuracy_filtering_by_answer(passive_responses, \"mass_rnn_accuracy\", \n",
    "                                                                   \"true_mass\", \"'A'\")\n",
    "\n",
    "same_accuracy_list = get_participant_accuracy_filtering_by_answer(passive_responses, \"mass_rnn_accuracy\", \n",
    "                                                                   \"true_mass\", \"'same'\")\n",
    "\n",
    "b_accuracy_list = get_participant_accuracy_filtering_by_answer(passive_responses, \"mass_rnn_accuracy\", \n",
    "                                                                   \"true_mass\", \"'B'\")"
   ]
  },
  {
   "cell_type": "code",
   "execution_count": 39,
   "metadata": {},
   "outputs": [
    {
     "name": "stdout",
     "output_type": "stream",
     "text": [
      "0.7299999999999999 0.24772296354328288\n",
      "0.6900000000000001 0.30248966924508347\n",
      "0.8500000000000001 0.14798648586948743\n",
      "\n",
      "Ttest_indResult(statistic=0.3393125602146284, pvalue=0.7375919822746289)\n",
      "Ttest_indResult(statistic=-1.3792468442907513, pvalue=0.18167966163750623)\n",
      "Ttest_indResult(statistic=1.5758315740940774, pvalue=0.1293366915205067)\n"
     ]
    }
   ],
   "source": [
    "print(np.mean(a_accuracy_list), np.std(a_accuracy_list))\n",
    "print(np.mean(same_accuracy_list), np.std(same_accuracy_list))\n",
    "print(np.mean(b_accuracy_list), np.std(b_accuracy_list))\n",
    "\n",
    "print()\n",
    "\n",
    "print(ttest_ind(a_accuracy_list, same_accuracy_list))\n",
    "print(ttest_ind(a_accuracy_list, b_accuracy_list))\n",
    "print(ttest_ind(b_accuracy_list, same_accuracy_list))"
   ]
  },
  {
   "cell_type": "markdown",
   "metadata": {},
   "source": [
    "# Are humans better at predicting any mass class? And compared to RNNs?"
   ]
  },
  {
   "cell_type": "code",
   "execution_count": 40,
   "metadata": {},
   "outputs": [
    {
     "name": "stdout",
     "output_type": "stream",
     "text": [
      "0.4100427350427351 0.14185875067409623\n",
      "0.30391025641025643 0.11751739115262044\n",
      "0.42121794871794865 0.14699406576210686\n",
      "\n",
      "\n",
      "Ttest_indResult(statistic=1.9108454864102784, pvalue=0.0691424586904233)\n",
      "Ttest_indResult(statistic=-0.1814353668752333, pvalue=0.8576870862868097)\n",
      "Ttest_indResult(statistic=2.0673466990693723, pvalue=0.050664413609717754)\n"
     ]
    }
   ],
   "source": [
    "human_a_accuracy_list = get_participant_accuracy_filtering_by_answer(passive_responses, \"mass_human_accuracy\", \n",
    "                                                                     \"true_mass\", \"'A'\")\n",
    "\n",
    "human_same_accuracy_list = get_participant_accuracy_filtering_by_answer(passive_responses, \"mass_human_accuracy\", \n",
    "                                                                        \"true_mass\", \"'same'\")\n",
    "\n",
    "human_b_accuracy_list = get_participant_accuracy_filtering_by_answer(passive_responses, \"mass_human_accuracy\", \n",
    "                                                                     \"true_mass\", \"'B'\")\n",
    "\n",
    "print(np.mean(human_a_accuracy_list), np.std(human_a_accuracy_list))\n",
    "print(np.mean(human_same_accuracy_list), np.std(human_same_accuracy_list))\n",
    "print(np.mean(human_b_accuracy_list), np.std(human_b_accuracy_list))\n",
    "\n",
    "print()\n",
    "\n",
    "print()\n",
    "\n",
    "print(ttest_ind(human_a_accuracy_list, human_same_accuracy_list))\n",
    "print(ttest_ind(human_a_accuracy_list, human_b_accuracy_list))\n",
    "print(ttest_ind(human_b_accuracy_list, human_same_accuracy_list))"
   ]
  },
  {
   "cell_type": "code",
   "execution_count": 41,
   "metadata": {},
   "outputs": [
    {
     "name": "stdout",
     "output_type": "stream",
     "text": [
      "Ttest_relResult(statistic=4.303646816209176, pvalue=0.001248323943147818)\n",
      "Ttest_relResult(statistic=3.639974693938469, pvalue=0.003888250718047694)\n",
      "Ttest_relResult(statistic=6.990873895330753, pvalue=2.296799084339557e-05)\n"
     ]
    }
   ],
   "source": [
    "print(ttest_rel(a_accuracy_list, human_a_accuracy_list))\n",
    "print(ttest_rel(same_accuracy_list, human_same_accuracy_list))\n",
    "print(ttest_rel(b_accuracy_list, human_b_accuracy_list))"
   ]
  },
  {
   "cell_type": "markdown",
   "metadata": {},
   "source": [
    "# CONFUSION MATRICES"
   ]
  },
  {
   "cell_type": "code",
   "execution_count": 42,
   "metadata": {},
   "outputs": [],
   "source": [
    "mass_solutions_with_participant_size = []\n",
    "force_solutions_with_participant_size = []\n",
    "human_mass_answers = []\n",
    "human_force_answers = []\n",
    "\n",
    "mass_solutions_with_model_size = []\n",
    "force_solutions_with_model_size = []\n",
    "model_mass_answers = []\n",
    "model_force_answers = []\n",
    "\n",
    "for row in range(passive_responses.shape[0]):\n",
    "    mass_solution = passive_responses.iloc[row].true_mass\n",
    "    force_solution = passive_responses.iloc[row].true_rel\n",
    "    \n",
    "    human_mass_answers.extend([\"A\" for _ in range(passive_responses.iloc[row].A_humans)])\n",
    "    human_mass_answers.extend([\"B\" for _ in range(passive_responses.iloc[row].B_humans)])\n",
    "    human_mass_answers.extend([\"same\" for _ in range(passive_responses.iloc[row].same_humans)])\n",
    "    mass_solutions_with_participant_size.extend([mass_solution for _ in \n",
    "                                                 range(passive_responses.iloc[row].A_humans \n",
    "                                                        + passive_responses.iloc[row].B_humans\n",
    "                                                        + passive_responses.iloc[row].same_humans)])\n",
    "\n",
    "    \n",
    "    human_force_answers.extend([\"attract\" for _ in range(passive_responses.iloc[row].attract_humans)])\n",
    "    human_force_answers.extend([\"repel\" for _ in range(passive_responses.iloc[row].repel_humans)])\n",
    "    human_force_answers.extend([\"none\" for _ in range(passive_responses.iloc[row].none_humans)])\n",
    "    force_solutions_with_participant_size.extend([force_solution for _ in \n",
    "                                             range(passive_responses.iloc[row].attract_humans \n",
    "                                                    + passive_responses.iloc[row].repel_humans\n",
    "                                                    + passive_responses.iloc[row].none_humans)])\n",
    "\n",
    "    model_mass_answers.extend([\"A\" for _ in range(passive_responses.iloc[row].A_models)])\n",
    "    model_mass_answers.extend([\"B\" for _ in range(passive_responses.iloc[row].B_models)])\n",
    "    model_mass_answers.extend([\"same\" for _ in range(passive_responses.iloc[row].same_models)])\n",
    "    mass_solutions_with_model_size.extend([mass_solution for _ in \n",
    "                                                 range(passive_responses.iloc[row].A_models \n",
    "                                                        + passive_responses.iloc[row].B_models\n",
    "                                                        + passive_responses.iloc[row].same_models)])    \n",
    "    \n",
    "    \n",
    "    model_force_answers.extend([\"attract\" for _ in range(passive_responses.iloc[row].attract_models)])\n",
    "    model_force_answers.extend([\"repel\" for _ in range(passive_responses.iloc[row].repel_models)])\n",
    "    model_force_answers.extend([\"none\" for _ in range(passive_responses.iloc[row].none_models)])\n",
    "    force_solutions_with_model_size.extend([force_solution for _ in \n",
    "                                         range(passive_responses.iloc[row].attract_models \n",
    "                                                + passive_responses.iloc[row].repel_models\n",
    "                                                + passive_responses.iloc[row].none_models)])"
   ]
  },
  {
   "cell_type": "code",
   "execution_count": 43,
   "metadata": {},
   "outputs": [
    {
     "data": {
      "image/png": "[encoded data removed]",
      "text/plain": [
       "<Figure size 1440x648 with 4 Axes>"
      ]
     },
     "metadata": {},
     "output_type": "display_data"
    }
   ],
   "source": [
    "fig, axis = plt.subplots(1, 4, figsize=(20, 9))\n",
    "\n",
    "ax = plot_confusion_matrix(mass_solutions_with_participant_size, human_mass_answers, MASS_CLASS_COLS, ax=axis[0], normalize=True)\n",
    "ax.set_ylabel(\"True label\", fontsize=25, fontweight='bold')\n",
    "ax.set_xlabel(\"Human label\", fontsize=22, fontweight='bold')\n",
    "ax.tick_params(axis=\"both\", labelsize=25)\n",
    "ax.set_xticklabels(MASS_CLASS_COLS, fontweight='bold')\n",
    "ax.set_yticklabels(MASS_CLASS_COLS, fontweight='bold')\n",
    "\n",
    "ax = plot_confusion_matrix(mass_solutions_with_model_size, model_mass_answers, MASS_CLASS_COLS, ax=axis[1], normalize=True)\n",
    "ax.set_ylabel(\"\", fontsize=25)\n",
    "ax.set_xlabel(\"RNN label\", fontsize=22, fontweight='bold')\n",
    "ax.tick_params(axis=\"both\", labelsize=25)\n",
    "ax.set_xticklabels(MASS_CLASS_COLS, fontweight='bold')\n",
    "ax.set_yticks([])\n",
    "# ax.set_yticklabels(MASS_CLASS_COLS, fontweight='bold')\n",
    "offset = -0.025\n",
    "bbox = ax.get_position()\n",
    "ax.set_position([bbox.x0 + offset, bbox.y0, bbox.x1-bbox.x0, bbox.y1 - bbox.y0])\n",
    "\n",
    "\n",
    "ax = plot_confusion_matrix(force_solutions_with_participant_size, human_force_answers, MASS_CLASS_COLS, ax=axis[2], normalize=True)\n",
    "ax.set_ylabel(\"\", fontsize=25)\n",
    "ax.set_xlabel(\"Human label\", fontsize=22, fontweight='bold')\n",
    "ax.tick_params(axis=\"both\", labelsize=25)\n",
    "ax.set_xticklabels(FORCE_CLASS_COLS, fontweight='bold')\n",
    "ax.set_yticklabels(FORCE_CLASS_COLS, fontweight='bold')\n",
    "\n",
    "offset = 0.025\n",
    "bbox = ax.get_position()\n",
    "ax.set_position([bbox.x0 + offset, bbox.y0, bbox.x1-bbox.x0, bbox.y1 - bbox.y0])\n",
    "\n",
    "ax = plot_confusion_matrix(force_solutions_with_model_size, model_force_answers, FORCE_CLASS_COLS, ax=axis[3], normalize=True)\n",
    "ax.set_ylabel(\"\", fontsize=25)\n",
    "ax.set_xlabel(\"RNN label\", fontsize=22, fontweight='bold')\n",
    "ax.tick_params(axis=\"both\", labelsize=25)\n",
    "ax.set_xticklabels(FORCE_CLASS_COLS, fontweight='bold')\n",
    "ax.set_yticks([])\n",
    "# ax.set_yticklabels(FORCE_CLASS_COLS, fontweight='bold')\n",
    "offset = 0.0\n",
    "bbox = ax.get_position()\n",
    "ax.set_position([bbox.x0 + offset, bbox.y0, bbox.x1-bbox.x0, bbox.y1 - bbox.y0])\n",
    "\n",
    "\n",
    "f = ax.get_figure()\n",
    "# f.subplots_adjust(wspace = 0.2)\n",
    "f.align_labels()\n",
    "f.savefig(\"cogsci_images/confusion_matrices.pdf\", bbox_inches=\"tight\", transparent=True)\n",
    "f.savefig(\"cogsci_images/confusion_matrices.jpg\", bbox_inches=\"tight\", transparent=True)"
   ]
  }
 ],
 "metadata": {
  "kernelspec": {
   "display_name": "Python 3",
   "language": "python",
   "name": "python3"
  },
  "language_info": {
   "codemirror_mode": {
    "name": "ipython",
    "version": 3
   },
   "file_extension": ".py",
   "mimetype": "text/x-python",
   "name": "python",
   "nbconvert_exporter": "python",
   "pygments_lexer": "ipython3",
   "version": "3.5.6"
  }
 },
 "nbformat": 4,
 "nbformat_minor": 2
}
