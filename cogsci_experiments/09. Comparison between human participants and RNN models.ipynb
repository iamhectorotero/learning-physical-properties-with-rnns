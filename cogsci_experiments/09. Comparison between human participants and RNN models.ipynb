{
 "cells": [
  {
   "cell_type": "markdown",
   "metadata": {},
   "source": [
    "# Question to be answered:\n",
    "\n",
    "- Is the accuracy of model/human significantly better? In both force and mass questions?\n",
    "- Is the distribution of responses significantly different?"
   ]
  },
  {
   "cell_type": "code",
   "execution_count": 1,
   "metadata": {},
   "outputs": [
    {
     "name": "stdout",
     "output_type": "stream",
     "text": [
      "pygame 1.9.6\n",
      "Hello from the pygame community. https://www.pygame.org/contribute.html\n"
     ]
    }
   ],
   "source": [
    "import isaac.constants\n",
    "isaac.constants.TQDM_DISABLE = True\n",
    "\n",
    "from torch import nn\n",
    "from isaac.utils import get_cuda_device_if_available\n",
    "import joblib\n",
    "\n",
    "from isaac.dataset import read_dataset, prepare_dataset\n",
    "from isaac.models import MultiBranchModel\n",
    "from isaac.constants import BASIC_TRAINING_COLS, MASS_CLASS_COLS, FORCE_CLASS_COLS\n",
    "from isaac.evaluation import evaluate_saved_model\n",
    "from isaac.statistical_tests import z_test\n",
    "from isaac.visualization import plot_confusion_matrix\n",
    "\n",
    "from scipy.stats import ttest_ind, ttest_rel, f_oneway\n",
    "\n",
    "import torch\n",
    "import glob\n",
    "from torch.autograd import Variable\n",
    "import numpy as np\n",
    "import pandas as pd\n",
    "from tqdm import tqdm"
   ]
  },
  {
   "cell_type": "code",
   "execution_count": 2,
   "metadata": {},
   "outputs": [
    {
     "name": "stdout",
     "output_type": "stream",
     "text": [
      "cuda:0\n"
     ]
    }
   ],
   "source": [
    "device = get_cuda_device_if_available()\n",
    "print(device)"
   ]
  },
  {
   "cell_type": "code",
   "execution_count": 3,
   "metadata": {},
   "outputs": [],
   "source": [
    "normalise_data = True\n",
    "scaler_path = \"scalers_js/passive_dual_scaler.sk\"\n",
    "network_dims = (len(BASIC_TRAINING_COLS), 25, 3, 0.5)\n",
    "dataset_path = \"../new_exp_data/exp7_passive.h5\"\n",
    "class_columns = [list(MASS_CLASS_COLS), list(FORCE_CLASS_COLS)]\n",
    "multiclass = True\n",
    "seq_end = 2700\n",
    "step_size = 3\n",
    "N_MODELS = 25\n",
    "\n",
    "\n",
    "def get_question_accuracy_for_group_of_models(question_type):    \n",
    "    model_paths = tqdm(sorted(glob.glob(\"models/train_25_mb_with_js_data/best_\"+question_type+\"_model_seed_*.pt\")))\n",
    "\n",
    "    accuracies, predicted = evaluate_saved_model(model_paths, network_dims, dataset_path, \n",
    "                                                 training_columns=BASIC_TRAINING_COLS, class_columns=class_columns, \n",
    "                                                 step_size=step_size, seq_end=seq_end, scaler_path=scaler_path,\n",
    "                                                 arch=MultiBranchModel, multiclass=multiclass, trials=None)\n",
    "    \n",
    "    if question_type == \"mass\":\n",
    "        question_index = 0\n",
    "    else:\n",
    "        question_index = 1\n",
    "\n",
    "    accuracies = np.stack(accuracies)[:, question_index]\n",
    "    \n",
    "    predicted = [x[:, question_index].numpy() for x in predicted]\n",
    "\n",
    "    return accuracies, predicted"
   ]
  },
  {
   "cell_type": "code",
   "execution_count": 4,
   "metadata": {},
   "outputs": [],
   "source": [
    "def get_participant_accuracy_filtering_by_answer(passive_responses, answer_column, question_type_answer, filter_by_class):\n",
    "    \n",
    "    passive_responses = passive_responses.copy().query(question_type_answer+\" == \"+filter_by_class)\n",
    "    return passive_responses[answer_column]"
   ]
  },
  {
   "cell_type": "markdown",
   "metadata": {},
   "source": [
    "# T-test for MASS questions"
   ]
  },
  {
   "cell_type": "markdown",
   "metadata": {},
   "source": [
    "## Load model's predictions"
   ]
  },
  {
   "cell_type": "code",
   "execution_count": 5,
   "metadata": {
    "scrolled": true
   },
   "outputs": [
    {
     "name": "stderr",
     "output_type": "stream",
     "text": [
      "\r",
      "  0%|          | 0/25 [00:00<?, ?it/s]"
     ]
    },
    {
     "name": "stdout",
     "output_type": "stream",
     "text": [
      "MASS\n"
     ]
    },
    {
     "name": "stderr",
     "output_type": "stream",
     "text": [
      "100%|██████████| 25/25 [00:12<00:00,  1.89it/s]\n",
      "  0%|          | 0/25 [00:00<?, ?it/s]"
     ]
    },
    {
     "name": "stdout",
     "output_type": "stream",
     "text": [
      "\n",
      "FORCE\n"
     ]
    },
    {
     "name": "stderr",
     "output_type": "stream",
     "text": [
      "100%|██████████| 25/25 [00:13<00:00,  1.91it/s]\n"
     ]
    }
   ],
   "source": [
    "print(\"MASS\")\n",
    "question_type = \"mass\"\n",
    "group_mass_acc, group_mass_prediction = get_question_accuracy_for_group_of_models(question_type)\n",
    "     \n",
    "print(\"\\nFORCE\")\n",
    "question_type = \"force\"\n",
    "group_force_acc, group_force_prediction = get_question_accuracy_for_group_of_models(question_type)"
   ]
  },
  {
   "cell_type": "code",
   "execution_count": 6,
   "metadata": {},
   "outputs": [],
   "source": [
    "group_mass_prediction = np.array(group_mass_prediction)\n",
    "group_force_prediction = np.array(group_force_prediction)"
   ]
  },
  {
   "cell_type": "code",
   "execution_count": 7,
   "metadata": {},
   "outputs": [],
   "source": [
    "answers = []\n",
    "for question_i in range(group_mass_prediction.shape[1]):\n",
    "    \n",
    "    mass_predictions = list(group_mass_prediction[:, question_i])\n",
    "    question_mass_answers = [(key, mass_predictions.count(key)) for key in range(3)]\n",
    "    question_mass_counts = [x[1] for x in question_mass_answers]\n",
    "    \n",
    "    sorted_mass_answers = sorted(question_mass_answers, key=lambda x: x[1], reverse=True)\n",
    "    sorted_mass_answers = np.hstack(sorted_mass_answers)\n",
    "    question_mass_answers = np.concatenate((sorted_mass_answers, question_mass_counts))\n",
    "        \n",
    "    force_predictions = list(group_force_prediction[:, question_i])\n",
    "    question_force_answers = [(key, force_predictions.count(key)) for key in range(3)]\n",
    "    question_force_counts = [x[1] for x in question_force_answers]\n",
    "    \n",
    "    sorted_force_answers = sorted(question_force_answers, key=lambda x: x[1], reverse=True)\n",
    "    sorted_force_answers = np.hstack(sorted_force_answers)\n",
    "    question_force_answers = np.concatenate((sorted_force_answers, question_force_counts))\n",
    "    \n",
    "    answers.append(np.hstack((question_mass_answers, question_force_answers)))\n",
    "    \n",
    "\n",
    "model_answers_df = pd.DataFrame(data=answers, \n",
    "                                columns=[\"models_first_mass_resp\", \"models_first_mass_count\", \n",
    "                                         \"models_second_mass_resp\", \"models_second_mass_count\",\n",
    "                                         \"models_third_mass_resp\", \"models_third_mass_count\",\n",
    "                                         \"models_chose_A\", \"models_chose_B\", \"models_chose_same\",\n",
    "                                         \"models_first_rel_resp\", \"models_first_rel_count\", \n",
    "                                         \"models_second_rel_resp\", \"models_second_rel_count\",\n",
    "                                         \"models_third_rel_resp\", \"models_third_rel_count\",\n",
    "                                         \"models_chose_attract\", \"models_chose_none\", \"models_chose_repel\",\n",
    "                                         ])\n",
    "\n",
    "mass_answer_id_to_str = lambda x: MASS_CLASS_COLS[int(x)]\n",
    "rel_answer_id_to_str = lambda x: FORCE_CLASS_COLS[int(x)]\n",
    "\n",
    "model_answers_df.models_first_mass_resp = model_answers_df.models_first_mass_resp.apply(mass_answer_id_to_str)\n",
    "model_answers_df.models_second_mass_resp = model_answers_df.models_second_mass_resp.apply(mass_answer_id_to_str)\n",
    "model_answers_df.models_third_mass_resp = model_answers_df.models_third_mass_resp.apply(mass_answer_id_to_str)\n",
    "\n",
    "model_answers_df.models_first_rel_resp = model_answers_df.models_first_rel_resp.apply(rel_answer_id_to_str)\n",
    "model_answers_df.models_second_rel_resp = model_answers_df.models_second_rel_resp.apply(rel_answer_id_to_str)\n",
    "model_answers_df.models_third_rel_resp = model_answers_df.models_third_rel_resp.apply(rel_answer_id_to_str)"
   ]
  },
  {
   "cell_type": "code",
   "execution_count": 8,
   "metadata": {},
   "outputs": [
    {
     "data": {
      "text/html": [
       "<div>\n",
       "<style scoped>\n",
       "    .dataframe tbody tr th:only-of-type {\n",
       "        vertical-align: middle;\n",
       "    }\n",
       "\n",
       "    .dataframe tbody tr th {\n",
       "        vertical-align: top;\n",
       "    }\n",
       "\n",
       "    .dataframe thead th {\n",
       "        text-align: right;\n",
       "    }\n",
       "</style>\n",
       "<table border=\"1\" class=\"dataframe\">\n",
       "  <thead>\n",
       "    <tr style=\"text-align: right;\">\n",
       "      <th></th>\n",
       "      <th>models_first_mass_resp</th>\n",
       "      <th>models_first_mass_count</th>\n",
       "      <th>models_second_mass_resp</th>\n",
       "      <th>models_second_mass_count</th>\n",
       "      <th>models_third_mass_resp</th>\n",
       "      <th>models_third_mass_count</th>\n",
       "      <th>models_chose_A</th>\n",
       "      <th>models_chose_B</th>\n",
       "      <th>models_chose_same</th>\n",
       "      <th>models_first_rel_resp</th>\n",
       "      <th>models_first_rel_count</th>\n",
       "      <th>models_second_rel_resp</th>\n",
       "      <th>models_second_rel_count</th>\n",
       "      <th>models_third_rel_resp</th>\n",
       "      <th>models_third_rel_count</th>\n",
       "      <th>models_chose_attract</th>\n",
       "      <th>models_chose_none</th>\n",
       "      <th>models_chose_repel</th>\n",
       "    </tr>\n",
       "  </thead>\n",
       "  <tbody>\n",
       "    <tr>\n",
       "      <th>0</th>\n",
       "      <td>A</td>\n",
       "      <td>15</td>\n",
       "      <td>same</td>\n",
       "      <td>10</td>\n",
       "      <td>B</td>\n",
       "      <td>0</td>\n",
       "      <td>15</td>\n",
       "      <td>0</td>\n",
       "      <td>10</td>\n",
       "      <td>attract</td>\n",
       "      <td>15</td>\n",
       "      <td>none</td>\n",
       "      <td>10</td>\n",
       "      <td>repel</td>\n",
       "      <td>0</td>\n",
       "      <td>15</td>\n",
       "      <td>10</td>\n",
       "      <td>0</td>\n",
       "    </tr>\n",
       "    <tr>\n",
       "      <th>1</th>\n",
       "      <td>A</td>\n",
       "      <td>13</td>\n",
       "      <td>same</td>\n",
       "      <td>11</td>\n",
       "      <td>B</td>\n",
       "      <td>1</td>\n",
       "      <td>13</td>\n",
       "      <td>1</td>\n",
       "      <td>11</td>\n",
       "      <td>attract</td>\n",
       "      <td>17</td>\n",
       "      <td>none</td>\n",
       "      <td>8</td>\n",
       "      <td>repel</td>\n",
       "      <td>0</td>\n",
       "      <td>17</td>\n",
       "      <td>8</td>\n",
       "      <td>0</td>\n",
       "    </tr>\n",
       "    <tr>\n",
       "      <th>2</th>\n",
       "      <td>B</td>\n",
       "      <td>22</td>\n",
       "      <td>same</td>\n",
       "      <td>3</td>\n",
       "      <td>A</td>\n",
       "      <td>0</td>\n",
       "      <td>0</td>\n",
       "      <td>22</td>\n",
       "      <td>3</td>\n",
       "      <td>attract</td>\n",
       "      <td>25</td>\n",
       "      <td>none</td>\n",
       "      <td>0</td>\n",
       "      <td>repel</td>\n",
       "      <td>0</td>\n",
       "      <td>25</td>\n",
       "      <td>0</td>\n",
       "      <td>0</td>\n",
       "    </tr>\n",
       "    <tr>\n",
       "      <th>3</th>\n",
       "      <td>A</td>\n",
       "      <td>13</td>\n",
       "      <td>same</td>\n",
       "      <td>12</td>\n",
       "      <td>B</td>\n",
       "      <td>0</td>\n",
       "      <td>13</td>\n",
       "      <td>0</td>\n",
       "      <td>12</td>\n",
       "      <td>none</td>\n",
       "      <td>16</td>\n",
       "      <td>repel</td>\n",
       "      <td>7</td>\n",
       "      <td>attract</td>\n",
       "      <td>2</td>\n",
       "      <td>2</td>\n",
       "      <td>16</td>\n",
       "      <td>7</td>\n",
       "    </tr>\n",
       "    <tr>\n",
       "      <th>4</th>\n",
       "      <td>A</td>\n",
       "      <td>13</td>\n",
       "      <td>same</td>\n",
       "      <td>10</td>\n",
       "      <td>B</td>\n",
       "      <td>2</td>\n",
       "      <td>13</td>\n",
       "      <td>2</td>\n",
       "      <td>10</td>\n",
       "      <td>none</td>\n",
       "      <td>20</td>\n",
       "      <td>repel</td>\n",
       "      <td>4</td>\n",
       "      <td>attract</td>\n",
       "      <td>1</td>\n",
       "      <td>1</td>\n",
       "      <td>20</td>\n",
       "      <td>4</td>\n",
       "    </tr>\n",
       "  </tbody>\n",
       "</table>\n",
       "</div>"
      ],
      "text/plain": [
       "  models_first_mass_resp  models_first_mass_count models_second_mass_resp  \\\n",
       "0                      A                       15                    same   \n",
       "1                      A                       13                    same   \n",
       "2                      B                       22                    same   \n",
       "3                      A                       13                    same   \n",
       "4                      A                       13                    same   \n",
       "\n",
       "   models_second_mass_count models_third_mass_resp  models_third_mass_count  \\\n",
       "0                        10                      B                        0   \n",
       "1                        11                      B                        1   \n",
       "2                         3                      A                        0   \n",
       "3                        12                      B                        0   \n",
       "4                        10                      B                        2   \n",
       "\n",
       "   models_chose_A  models_chose_B  models_chose_same models_first_rel_resp  \\\n",
       "0              15               0                 10               attract   \n",
       "1              13               1                 11               attract   \n",
       "2               0              22                  3               attract   \n",
       "3              13               0                 12                  none   \n",
       "4              13               2                 10                  none   \n",
       "\n",
       "   models_first_rel_count models_second_rel_resp  models_second_rel_count  \\\n",
       "0                      15                   none                       10   \n",
       "1                      17                   none                        8   \n",
       "2                      25                   none                        0   \n",
       "3                      16                  repel                        7   \n",
       "4                      20                  repel                        4   \n",
       "\n",
       "  models_third_rel_resp  models_third_rel_count  models_chose_attract  \\\n",
       "0                 repel                       0                    15   \n",
       "1                 repel                       0                    17   \n",
       "2                 repel                       0                    25   \n",
       "3               attract                       2                     2   \n",
       "4               attract                       1                     1   \n",
       "\n",
       "   models_chose_none  models_chose_repel  \n",
       "0                 10                   0  \n",
       "1                  8                   0  \n",
       "2                  0                   0  \n",
       "3                 16                   7  \n",
       "4                 20                   4  "
      ]
     },
     "execution_count": 8,
     "metadata": {},
     "output_type": "execute_result"
    }
   ],
   "source": [
    "model_answers_df.head()"
   ]
  },
  {
   "cell_type": "code",
   "execution_count": 9,
   "metadata": {},
   "outputs": [],
   "source": [
    "import json"
   ]
  },
  {
   "cell_type": "code",
   "execution_count": 10,
   "metadata": {},
   "outputs": [],
   "source": [
    "condition_world_variant = []\n",
    "world_id = []\n",
    "\n",
    "for condition_id in range(1, 5):\n",
    "    filename = \"../new_exp_data/physics_data%d.json\" % condition_id\n",
    "    fd = open(filename)\n",
    "    sim_data = json.load(fd)\n",
    "    \n",
    "    for sim in sim_data:\n",
    "        if sim[\"practice\"]:\n",
    "            continue\n",
    "        condition_world_variant.append(sim[\"condition_world_variant\"])\n",
    "        world_id.append(sim[\"world_id\"])"
   ]
  },
  {
   "cell_type": "code",
   "execution_count": 11,
   "metadata": {},
   "outputs": [],
   "source": [
    "model_answers_df[\"condition_world_variant\"] = condition_world_variant\n",
    "model_answers_df[\"world_id\"] = world_id"
   ]
  },
  {
   "cell_type": "code",
   "execution_count": 12,
   "metadata": {},
   "outputs": [
    {
     "data": {
      "text/html": [
       "<div>\n",
       "<style scoped>\n",
       "    .dataframe tbody tr th:only-of-type {\n",
       "        vertical-align: middle;\n",
       "    }\n",
       "\n",
       "    .dataframe tbody tr th {\n",
       "        vertical-align: top;\n",
       "    }\n",
       "\n",
       "    .dataframe thead th {\n",
       "        text-align: right;\n",
       "    }\n",
       "</style>\n",
       "<table border=\"1\" class=\"dataframe\">\n",
       "  <thead>\n",
       "    <tr style=\"text-align: right;\">\n",
       "      <th></th>\n",
       "      <th>models_first_mass_resp</th>\n",
       "      <th>models_first_mass_count</th>\n",
       "      <th>models_second_mass_resp</th>\n",
       "      <th>models_second_mass_count</th>\n",
       "      <th>models_third_mass_resp</th>\n",
       "      <th>models_third_mass_count</th>\n",
       "      <th>models_chose_A</th>\n",
       "      <th>models_chose_B</th>\n",
       "      <th>models_chose_same</th>\n",
       "      <th>models_first_rel_resp</th>\n",
       "      <th>models_first_rel_count</th>\n",
       "      <th>models_second_rel_resp</th>\n",
       "      <th>models_second_rel_count</th>\n",
       "      <th>models_third_rel_resp</th>\n",
       "      <th>models_third_rel_count</th>\n",
       "      <th>models_chose_attract</th>\n",
       "      <th>models_chose_none</th>\n",
       "      <th>models_chose_repel</th>\n",
       "      <th>condition_world_variant</th>\n",
       "      <th>world_id</th>\n",
       "    </tr>\n",
       "  </thead>\n",
       "  <tbody>\n",
       "    <tr>\n",
       "      <th>0</th>\n",
       "      <td>A</td>\n",
       "      <td>15</td>\n",
       "      <td>same</td>\n",
       "      <td>10</td>\n",
       "      <td>B</td>\n",
       "      <td>0</td>\n",
       "      <td>15</td>\n",
       "      <td>0</td>\n",
       "      <td>10</td>\n",
       "      <td>attract</td>\n",
       "      <td>15</td>\n",
       "      <td>none</td>\n",
       "      <td>10</td>\n",
       "      <td>repel</td>\n",
       "      <td>0</td>\n",
       "      <td>15</td>\n",
       "      <td>10</td>\n",
       "      <td>0</td>\n",
       "      <td>1</td>\n",
       "      <td>481</td>\n",
       "    </tr>\n",
       "    <tr>\n",
       "      <th>1</th>\n",
       "      <td>A</td>\n",
       "      <td>13</td>\n",
       "      <td>same</td>\n",
       "      <td>11</td>\n",
       "      <td>B</td>\n",
       "      <td>1</td>\n",
       "      <td>13</td>\n",
       "      <td>1</td>\n",
       "      <td>11</td>\n",
       "      <td>attract</td>\n",
       "      <td>17</td>\n",
       "      <td>none</td>\n",
       "      <td>8</td>\n",
       "      <td>repel</td>\n",
       "      <td>0</td>\n",
       "      <td>17</td>\n",
       "      <td>8</td>\n",
       "      <td>0</td>\n",
       "      <td>1</td>\n",
       "      <td>856</td>\n",
       "    </tr>\n",
       "    <tr>\n",
       "      <th>2</th>\n",
       "      <td>B</td>\n",
       "      <td>22</td>\n",
       "      <td>same</td>\n",
       "      <td>3</td>\n",
       "      <td>A</td>\n",
       "      <td>0</td>\n",
       "      <td>0</td>\n",
       "      <td>22</td>\n",
       "      <td>3</td>\n",
       "      <td>attract</td>\n",
       "      <td>25</td>\n",
       "      <td>none</td>\n",
       "      <td>0</td>\n",
       "      <td>repel</td>\n",
       "      <td>0</td>\n",
       "      <td>25</td>\n",
       "      <td>0</td>\n",
       "      <td>0</td>\n",
       "      <td>1</td>\n",
       "      <td>1819</td>\n",
       "    </tr>\n",
       "    <tr>\n",
       "      <th>3</th>\n",
       "      <td>A</td>\n",
       "      <td>13</td>\n",
       "      <td>same</td>\n",
       "      <td>12</td>\n",
       "      <td>B</td>\n",
       "      <td>0</td>\n",
       "      <td>13</td>\n",
       "      <td>0</td>\n",
       "      <td>12</td>\n",
       "      <td>none</td>\n",
       "      <td>16</td>\n",
       "      <td>repel</td>\n",
       "      <td>7</td>\n",
       "      <td>attract</td>\n",
       "      <td>2</td>\n",
       "      <td>2</td>\n",
       "      <td>16</td>\n",
       "      <td>7</td>\n",
       "      <td>1</td>\n",
       "      <td>566</td>\n",
       "    </tr>\n",
       "    <tr>\n",
       "      <th>4</th>\n",
       "      <td>A</td>\n",
       "      <td>13</td>\n",
       "      <td>same</td>\n",
       "      <td>10</td>\n",
       "      <td>B</td>\n",
       "      <td>2</td>\n",
       "      <td>13</td>\n",
       "      <td>2</td>\n",
       "      <td>10</td>\n",
       "      <td>none</td>\n",
       "      <td>20</td>\n",
       "      <td>repel</td>\n",
       "      <td>4</td>\n",
       "      <td>attract</td>\n",
       "      <td>1</td>\n",
       "      <td>1</td>\n",
       "      <td>20</td>\n",
       "      <td>4</td>\n",
       "      <td>1</td>\n",
       "      <td>821</td>\n",
       "    </tr>\n",
       "  </tbody>\n",
       "</table>\n",
       "</div>"
      ],
      "text/plain": [
       "  models_first_mass_resp  models_first_mass_count models_second_mass_resp  \\\n",
       "0                      A                       15                    same   \n",
       "1                      A                       13                    same   \n",
       "2                      B                       22                    same   \n",
       "3                      A                       13                    same   \n",
       "4                      A                       13                    same   \n",
       "\n",
       "   models_second_mass_count models_third_mass_resp  models_third_mass_count  \\\n",
       "0                        10                      B                        0   \n",
       "1                        11                      B                        1   \n",
       "2                         3                      A                        0   \n",
       "3                        12                      B                        0   \n",
       "4                        10                      B                        2   \n",
       "\n",
       "   models_chose_A  models_chose_B  models_chose_same models_first_rel_resp  \\\n",
       "0              15               0                 10               attract   \n",
       "1              13               1                 11               attract   \n",
       "2               0              22                  3               attract   \n",
       "3              13               0                 12                  none   \n",
       "4              13               2                 10                  none   \n",
       "\n",
       "   models_first_rel_count models_second_rel_resp  models_second_rel_count  \\\n",
       "0                      15                   none                       10   \n",
       "1                      17                   none                        8   \n",
       "2                      25                   none                        0   \n",
       "3                      16                  repel                        7   \n",
       "4                      20                  repel                        4   \n",
       "\n",
       "  models_third_rel_resp  models_third_rel_count  models_chose_attract  \\\n",
       "0                 repel                       0                    15   \n",
       "1                 repel                       0                    17   \n",
       "2                 repel                       0                    25   \n",
       "3               attract                       2                     2   \n",
       "4               attract                       1                     1   \n",
       "\n",
       "   models_chose_none  models_chose_repel  condition_world_variant  world_id  \n",
       "0                 10                   0                        1       481  \n",
       "1                  8                   0                        1       856  \n",
       "2                  0                   0                        1      1819  \n",
       "3                 16                   7                        1       566  \n",
       "4                 20                   4                        1       821  "
      ]
     },
     "execution_count": 12,
     "metadata": {},
     "output_type": "execute_result"
    }
   ],
   "source": [
    "model_answers_df.head()"
   ]
  },
  {
   "cell_type": "markdown",
   "metadata": {},
   "source": [
    "## Load human results"
   ]
  },
  {
   "cell_type": "code",
   "execution_count": 13,
   "metadata": {},
   "outputs": [],
   "source": [
    "from rpy2.robjects import r, pandas2ri\n",
    "pandas2ri.activate()"
   ]
  },
  {
   "cell_type": "code",
   "execution_count": 14,
   "metadata": {},
   "outputs": [],
   "source": [
    "rdata_path = \"../new_exp_data/e7_passive_io_rtheta.rdata\"\n",
    "r['load'](rdata_path)\n",
    "\n",
    "responses = r[\"tw\"].query(\"practice == 0\")"
   ]
  },
  {
   "cell_type": "markdown",
   "metadata": {},
   "source": [
    "# Percentage of participants that get an answer right"
   ]
  },
  {
   "cell_type": "code",
   "execution_count": 15,
   "metadata": {},
   "outputs": [],
   "source": [
    "passive_responses = []\n",
    "\n",
    "for name, df in responses.groupby([\"cond_worldvar\", \"world_id\", \"true_mass\", \"true_rel\", \"post_ent_mass.rtheta\", \"post_ent_rel.rtheta\"]):\n",
    "    response = [name[0], name[1], name[2], name[3], name[4], name[5]]\n",
    "\n",
    "    value_counts = df.resp_rel.value_counts().sort_index().sort_values(ascending=False)\n",
    "    for i in range(len(value_counts)):\n",
    "        answer = value_counts.index[i]\n",
    "        response.append(answer)\n",
    "        if answer == name[3]:\n",
    "            got_it_right = value_counts[i]\n",
    "            \n",
    "    response.append(got_it_right / value_counts.sum())\n",
    "    response.append(value_counts[\"attract\"])\n",
    "    response.append(value_counts[\"none\"])\n",
    "    response.append(value_counts[\"repel\"])\n",
    "    \n",
    "    value_counts = df.resp_mass.value_counts().sort_index().sort_values(ascending=False)\n",
    "    \n",
    "    for i in range(len(value_counts)):\n",
    "        answer = value_counts.index[i]\n",
    "        response.append(answer)\n",
    "        if answer == name[2]:\n",
    "            got_it_right = value_counts[i]\n",
    "            \n",
    "    response.append(got_it_right / value_counts.sum())\n",
    "    response.append(value_counts[\"A\"])\n",
    "    response.append(value_counts[\"B\"])\n",
    "    response.append(value_counts[\"same\"])    \n",
    "        \n",
    "    passive_responses.append(response)"
   ]
  },
  {
   "cell_type": "code",
   "execution_count": 16,
   "metadata": {},
   "outputs": [],
   "source": [
    "passive_responses = pd.DataFrame(data=passive_responses, \n",
    "                                 columns=[\"cond_worldvar\", \"world_id\", \"true_mass\", \"true_rel\",  \"post_ent_mass.rtheta\", \"post_ent_rel.rtheta\",\n",
    "                                          \"humans_first_resp_rel\", \"humans_second_resp_rel\", \"humans_third_resp_rel\", \n",
    "                                          \"got_rel_right\", \"humans_chose_attract\", \"humans_chose_none\", \"humans_chose_repel\",\n",
    "                                          \"humans_first_resp_mass\", \"humans_second_resp_mass\", \"humans_third_resp_mass\",\n",
    "                                          \"got_mass_right\", \"humans_chose_A\", \"humans_chose_B\", \"humans_chose_same\"])"
   ]
  },
  {
   "cell_type": "code",
   "execution_count": 17,
   "metadata": {},
   "outputs": [
    {
     "data": {
      "text/html": [
       "<div>\n",
       "<style scoped>\n",
       "    .dataframe tbody tr th:only-of-type {\n",
       "        vertical-align: middle;\n",
       "    }\n",
       "\n",
       "    .dataframe tbody tr th {\n",
       "        vertical-align: top;\n",
       "    }\n",
       "\n",
       "    .dataframe thead th {\n",
       "        text-align: right;\n",
       "    }\n",
       "</style>\n",
       "<table border=\"1\" class=\"dataframe\">\n",
       "  <thead>\n",
       "    <tr style=\"text-align: right;\">\n",
       "      <th></th>\n",
       "      <th>cond_worldvar</th>\n",
       "      <th>world_id</th>\n",
       "      <th>true_mass</th>\n",
       "      <th>true_rel</th>\n",
       "      <th>post_ent_mass.rtheta</th>\n",
       "      <th>post_ent_rel.rtheta</th>\n",
       "      <th>humans_first_resp_rel</th>\n",
       "      <th>humans_second_resp_rel</th>\n",
       "      <th>humans_third_resp_rel</th>\n",
       "      <th>got_rel_right</th>\n",
       "      <th>humans_chose_attract</th>\n",
       "      <th>humans_chose_none</th>\n",
       "      <th>humans_chose_repel</th>\n",
       "      <th>humans_first_resp_mass</th>\n",
       "      <th>humans_second_resp_mass</th>\n",
       "      <th>humans_third_resp_mass</th>\n",
       "      <th>got_mass_right</th>\n",
       "      <th>humans_chose_A</th>\n",
       "      <th>humans_chose_B</th>\n",
       "      <th>humans_chose_same</th>\n",
       "    </tr>\n",
       "  </thead>\n",
       "  <tbody>\n",
       "    <tr>\n",
       "      <th>0</th>\n",
       "      <td>1</td>\n",
       "      <td>1218</td>\n",
       "      <td>A</td>\n",
       "      <td>repel</td>\n",
       "      <td>0.000827</td>\n",
       "      <td>1.402287</td>\n",
       "      <td>repel</td>\n",
       "      <td>attract</td>\n",
       "      <td>none</td>\n",
       "      <td>0.76</td>\n",
       "      <td>4</td>\n",
       "      <td>2</td>\n",
       "      <td>19</td>\n",
       "      <td>A</td>\n",
       "      <td>same</td>\n",
       "      <td>B</td>\n",
       "      <td>0.52</td>\n",
       "      <td>13</td>\n",
       "      <td>5</td>\n",
       "      <td>7</td>\n",
       "    </tr>\n",
       "    <tr>\n",
       "      <th>1</th>\n",
       "      <td>1</td>\n",
       "      <td>1736</td>\n",
       "      <td>B</td>\n",
       "      <td>none</td>\n",
       "      <td>0.022527</td>\n",
       "      <td>1.413136</td>\n",
       "      <td>repel</td>\n",
       "      <td>none</td>\n",
       "      <td>attract</td>\n",
       "      <td>0.40</td>\n",
       "      <td>2</td>\n",
       "      <td>10</td>\n",
       "      <td>13</td>\n",
       "      <td>B</td>\n",
       "      <td>same</td>\n",
       "      <td>A</td>\n",
       "      <td>0.52</td>\n",
       "      <td>4</td>\n",
       "      <td>13</td>\n",
       "      <td>8</td>\n",
       "    </tr>\n",
       "    <tr>\n",
       "      <th>2</th>\n",
       "      <td>1</td>\n",
       "      <td>1758</td>\n",
       "      <td>B</td>\n",
       "      <td>repel</td>\n",
       "      <td>0.049913</td>\n",
       "      <td>1.555458</td>\n",
       "      <td>repel</td>\n",
       "      <td>attract</td>\n",
       "      <td>none</td>\n",
       "      <td>0.44</td>\n",
       "      <td>8</td>\n",
       "      <td>6</td>\n",
       "      <td>11</td>\n",
       "      <td>B</td>\n",
       "      <td>same</td>\n",
       "      <td>A</td>\n",
       "      <td>0.72</td>\n",
       "      <td>1</td>\n",
       "      <td>18</td>\n",
       "      <td>6</td>\n",
       "    </tr>\n",
       "    <tr>\n",
       "      <th>3</th>\n",
       "      <td>1</td>\n",
       "      <td>1819</td>\n",
       "      <td>B</td>\n",
       "      <td>attract</td>\n",
       "      <td>0.243940</td>\n",
       "      <td>0.924914</td>\n",
       "      <td>attract</td>\n",
       "      <td>repel</td>\n",
       "      <td>none</td>\n",
       "      <td>0.64</td>\n",
       "      <td>16</td>\n",
       "      <td>1</td>\n",
       "      <td>8</td>\n",
       "      <td>B</td>\n",
       "      <td>same</td>\n",
       "      <td>A</td>\n",
       "      <td>0.60</td>\n",
       "      <td>5</td>\n",
       "      <td>15</td>\n",
       "      <td>5</td>\n",
       "    </tr>\n",
       "    <tr>\n",
       "      <th>4</th>\n",
       "      <td>1</td>\n",
       "      <td>438</td>\n",
       "      <td>same</td>\n",
       "      <td>repel</td>\n",
       "      <td>0.051500</td>\n",
       "      <td>1.305047</td>\n",
       "      <td>repel</td>\n",
       "      <td>none</td>\n",
       "      <td>attract</td>\n",
       "      <td>0.56</td>\n",
       "      <td>4</td>\n",
       "      <td>7</td>\n",
       "      <td>14</td>\n",
       "      <td>same</td>\n",
       "      <td>B</td>\n",
       "      <td>A</td>\n",
       "      <td>0.36</td>\n",
       "      <td>7</td>\n",
       "      <td>9</td>\n",
       "      <td>9</td>\n",
       "    </tr>\n",
       "  </tbody>\n",
       "</table>\n",
       "</div>"
      ],
      "text/plain": [
       "  cond_worldvar world_id true_mass true_rel  post_ent_mass.rtheta  \\\n",
       "0             1     1218         A    repel              0.000827   \n",
       "1             1     1736         B     none              0.022527   \n",
       "2             1     1758         B    repel              0.049913   \n",
       "3             1     1819         B  attract              0.243940   \n",
       "4             1      438      same    repel              0.051500   \n",
       "\n",
       "   post_ent_rel.rtheta humans_first_resp_rel humans_second_resp_rel  \\\n",
       "0             1.402287                 repel                attract   \n",
       "1             1.413136                 repel                   none   \n",
       "2             1.555458                 repel                attract   \n",
       "3             0.924914               attract                  repel   \n",
       "4             1.305047                 repel                   none   \n",
       "\n",
       "  humans_third_resp_rel  got_rel_right  humans_chose_attract  \\\n",
       "0                  none           0.76                     4   \n",
       "1               attract           0.40                     2   \n",
       "2                  none           0.44                     8   \n",
       "3                  none           0.64                    16   \n",
       "4               attract           0.56                     4   \n",
       "\n",
       "   humans_chose_none  humans_chose_repel humans_first_resp_mass  \\\n",
       "0                  2                  19                      A   \n",
       "1                 10                  13                      B   \n",
       "2                  6                  11                      B   \n",
       "3                  1                   8                      B   \n",
       "4                  7                  14                   same   \n",
       "\n",
       "  humans_second_resp_mass humans_third_resp_mass  got_mass_right  \\\n",
       "0                    same                      B            0.52   \n",
       "1                    same                      A            0.52   \n",
       "2                    same                      A            0.72   \n",
       "3                    same                      A            0.60   \n",
       "4                       B                      A            0.36   \n",
       "\n",
       "   humans_chose_A  humans_chose_B  humans_chose_same  \n",
       "0              13               5                  7  \n",
       "1               4              13                  8  \n",
       "2               1              18                  6  \n",
       "3               5              15                  5  \n",
       "4               7               9                  9  "
      ]
     },
     "execution_count": 17,
     "metadata": {},
     "output_type": "execute_result"
    }
   ],
   "source": [
    "passive_responses.head()"
   ]
  },
  {
   "cell_type": "code",
   "execution_count": 18,
   "metadata": {},
   "outputs": [],
   "source": [
    "passive_responses[\"cond_worldvar\"] = passive_responses[\"cond_worldvar\"].astype(\"int64\")\n",
    "passive_responses[\"world_id\"] = passive_responses[\"world_id\"].astype(\"int64\")\n",
    "\n",
    "passive_responses = passive_responses.merge(model_answers_df, left_on=[\"cond_worldvar\", \"world_id\"], right_on=[\"condition_world_variant\", \"world_id\"])"
   ]
  },
  {
   "cell_type": "markdown",
   "metadata": {},
   "source": [
    "# Percentage of models that get an answer right"
   ]
  },
  {
   "cell_type": "code",
   "execution_count": 19,
   "metadata": {},
   "outputs": [],
   "source": [
    "models_that_got_mass_question_right = []\n",
    "\n",
    "for i, answer in enumerate(passive_responses.true_mass):\n",
    "    if passive_responses.models_first_mass_resp.iloc[i] == answer:\n",
    "        models_that_got_mass_question_right.append(passive_responses.models_first_mass_count.iloc[i])\n",
    "    elif passive_responses.models_second_mass_resp.iloc[i] == answer:\n",
    "        models_that_got_mass_question_right.append(passive_responses.models_second_mass_count.iloc[i])\n",
    "    elif passive_responses.models_third_mass_resp.iloc[i] == answer:\n",
    "        models_that_got_mass_question_right.append(passive_responses.models_third_mass_count.iloc[i])\n",
    "\n",
    "        \n",
    "models_that_got_rel_question_right = []\n",
    "        \n",
    "for i, answer in enumerate(passive_responses.true_rel):\n",
    "    if passive_responses.models_first_rel_resp.iloc[i] == answer:\n",
    "        models_that_got_rel_question_right.append(passive_responses.models_first_rel_count.iloc[i])\n",
    "    elif passive_responses.models_second_rel_resp.iloc[i] == answer:\n",
    "        models_that_got_rel_question_right.append(passive_responses.models_second_rel_count.iloc[i])\n",
    "    elif passive_responses.models_third_rel_resp.iloc[i] == answer:\n",
    "        models_that_got_rel_question_right.append(passive_responses.models_third_rel_count.iloc[i])\n",
    "        \n",
    "\n",
    "passive_responses[\"models_got_mass_right\"] = np.array(models_that_got_mass_question_right) / N_MODELS\n",
    "passive_responses[\"models_got_rel_right\"] = np.array(models_that_got_rel_question_right) / N_MODELS"
   ]
  },
  {
   "cell_type": "code",
   "execution_count": 20,
   "metadata": {},
   "outputs": [
    {
     "data": {
      "text/plain": [
       "Index(['cond_worldvar', 'world_id', 'true_mass', 'true_rel',\n",
       "       'post_ent_mass.rtheta', 'post_ent_rel.rtheta', 'humans_first_resp_rel',\n",
       "       'humans_second_resp_rel', 'humans_third_resp_rel', 'got_rel_right',\n",
       "       'humans_chose_attract', 'humans_chose_none', 'humans_chose_repel',\n",
       "       'humans_first_resp_mass', 'humans_second_resp_mass',\n",
       "       'humans_third_resp_mass', 'got_mass_right', 'humans_chose_A',\n",
       "       'humans_chose_B', 'humans_chose_same', 'models_first_mass_resp',\n",
       "       'models_first_mass_count', 'models_second_mass_resp',\n",
       "       'models_second_mass_count', 'models_third_mass_resp',\n",
       "       'models_third_mass_count', 'models_chose_A', 'models_chose_B',\n",
       "       'models_chose_same', 'models_first_rel_resp', 'models_first_rel_count',\n",
       "       'models_second_rel_resp', 'models_second_rel_count',\n",
       "       'models_third_rel_resp', 'models_third_rel_count',\n",
       "       'models_chose_attract', 'models_chose_none', 'models_chose_repel',\n",
       "       'condition_world_variant', 'models_got_mass_right',\n",
       "       'models_got_rel_right'],\n",
       "      dtype='object')"
      ]
     },
     "execution_count": 20,
     "metadata": {},
     "output_type": "execute_result"
    }
   ],
   "source": [
    "passive_responses.columns"
   ]
  },
  {
   "cell_type": "code",
   "execution_count": 21,
   "metadata": {},
   "outputs": [],
   "source": [
    "passive_responses[\"model_mass\"] = passive_responses[\"models_first_mass_resp\"]\n",
    "passive_responses[\"model_relationship\"] = passive_responses[\"models_first_rel_resp\"]"
   ]
  },
  {
   "cell_type": "code",
   "execution_count": 22,
   "metadata": {},
   "outputs": [],
   "source": [
    "human_mass_accuracy_list = passive_responses.got_mass_right\n",
    "human_force_accuracy_list = passive_responses.got_rel_right\n",
    "\n",
    "model_mass_accuracy_list = passive_responses.models_got_mass_right\n",
    "model_force_accuracy_list = passive_responses.models_got_rel_right"
   ]
  },
  {
   "cell_type": "markdown",
   "metadata": {},
   "source": [
    "# Perform t-test on overall accuracy"
   ]
  },
  {
   "cell_type": "code",
   "execution_count": 23,
   "metadata": {},
   "outputs": [],
   "source": [
    "import matplotlib.pyplot as plt\n",
    "from scipy.stats import spearmanr"
   ]
  },
  {
   "cell_type": "code",
   "execution_count": 24,
   "metadata": {},
   "outputs": [
    {
     "name": "stdout",
     "output_type": "stream",
     "text": [
      "0.37839031339031337 ± 0.145973580677441\n",
      "0.508888888888889 ± 0.2625703903271334\n"
     ]
    }
   ],
   "source": [
    "print(np.mean(human_mass_accuracy_list), \"±\", np.std(human_mass_accuracy_list))\n",
    "print(np.mean(model_mass_accuracy_list), \"±\", np.std(model_mass_accuracy_list))"
   ]
  },
  {
   "cell_type": "code",
   "execution_count": 25,
   "metadata": {},
   "outputs": [],
   "source": [
    "def plot_correlation(human_accuracy_list, model_accuracy_list):\n",
    "    print(np.mean(human_accuracy_list), \"±\", np.std(human_accuracy_list))\n",
    "    print(np.mean(model_accuracy_list), \"±\", np.std(model_accuracy_list))\n",
    "    \n",
    "    plt.scatter(human_accuracy_list, model_accuracy_list)\n",
    "    plt.xlabel(\"% of RNNs guessing correctly\")\n",
    "    plt.ylabel(\"% of participants guessing correctly\")\n",
    "    plt.tick_params(axis='both', which='major')\n",
    "    plt.grid()\n",
    "    plt.tight_layout()\n",
    "    corr_coef, _ =  spearmanr(human_accuracy_list, model_accuracy_list)\n",
    "    plt.title(\"Spearman Correlation: %.3f\" % corr_coef)\n",
    "    plt.show()"
   ]
  },
  {
   "cell_type": "code",
   "execution_count": 26,
   "metadata": {},
   "outputs": [
    {
     "name": "stdout",
     "output_type": "stream",
     "text": [
      "0.5462250712250714 ± 0.176816239172785\n",
      "0.5955555555555557 ± 0.27109289556292576\n"
     ]
    },
    {
     "data": {
      "image/png": "[encoded data removed]",
      "text/plain": [
       "<Figure size 432x288 with 1 Axes>"
      ]
     },
     "metadata": {
      "needs_background": "light"
     },
     "output_type": "display_data"
    },
    {
     "name": "stdout",
     "output_type": "stream",
     "text": [
      "0.37839031339031337 ± 0.145973580677441\n",
      "0.508888888888889 ± 0.2625703903271334\n"
     ]
    },
    {
     "data": {
      "image/png": "[encoded data removed]",
      "text/plain": [
       "<Figure size 432x288 with 1 Axes>"
      ]
     },
     "metadata": {
      "needs_background": "light"
     },
     "output_type": "display_data"
    }
   ],
   "source": [
    "plot_correlation(human_force_accuracy_list, model_force_accuracy_list)\n",
    "plot_correlation(human_mass_accuracy_list, model_mass_accuracy_list)"
   ]
  },
  {
   "cell_type": "markdown",
   "metadata": {},
   "source": [
    "#### Is the model significantly better answering mass questions than humans?"
   ]
  },
  {
   "cell_type": "code",
   "execution_count": 27,
   "metadata": {},
   "outputs": [
    {
     "data": {
      "text/plain": [
       "Ttest_relResult(statistic=-3.3652400374634275, pvalue=0.0018672325620190308)"
      ]
     },
     "execution_count": 27,
     "metadata": {},
     "output_type": "execute_result"
    }
   ],
   "source": [
    "ttest_rel(human_mass_accuracy_list, model_mass_accuracy_list)"
   ]
  },
  {
   "cell_type": "markdown",
   "metadata": {},
   "source": [
    "#### Is the model significantly better answering force questions than humans?"
   ]
  },
  {
   "cell_type": "code",
   "execution_count": 28,
   "metadata": {},
   "outputs": [
    {
     "data": {
      "text/plain": [
       "Ttest_relResult(statistic=-0.9742345405313715, pvalue=0.3366257154159368)"
      ]
     },
     "execution_count": 28,
     "metadata": {},
     "output_type": "execute_result"
    }
   ],
   "source": [
    "ttest_rel(human_force_accuracy_list, model_force_accuracy_list)"
   ]
  },
  {
   "cell_type": "markdown",
   "metadata": {},
   "source": [
    "#### Is the model significantly better answering force questions than mass questions? And humans?"
   ]
  },
  {
   "cell_type": "code",
   "execution_count": 29,
   "metadata": {},
   "outputs": [
    {
     "name": "stdout",
     "output_type": "stream",
     "text": [
      "Ttest_indResult(statistic=-1.3585587195785374, pvalue=0.17864850524171333)\n",
      "Ttest_indResult(statistic=-4.3304952743613745, pvalue=4.86608749152777e-05)\n"
     ]
    }
   ],
   "source": [
    "print(ttest_ind(model_mass_accuracy_list, model_force_accuracy_list))\n",
    "print(ttest_ind(human_mass_accuracy_list, human_force_accuracy_list))"
   ]
  },
  {
   "cell_type": "markdown",
   "metadata": {},
   "source": [
    "# Is the model better at predicting any force class?"
   ]
  },
  {
   "cell_type": "code",
   "execution_count": 30,
   "metadata": {},
   "outputs": [],
   "source": [
    "repel_accuracy_list = get_participant_accuracy_filtering_by_answer(passive_responses, \"models_got_rel_right\", \n",
    "                                                                   \"true_rel\", \"'repel'\")\n",
    "\n",
    "none_accuracy_list = get_participant_accuracy_filtering_by_answer(passive_responses, \"models_got_rel_right\", \n",
    "                                                                   \"true_rel\", \"'none'\")\n",
    "\n",
    "attract_accuracy_list = get_participant_accuracy_filtering_by_answer(passive_responses, \"models_got_rel_right\", \n",
    "                                                                   \"true_rel\", \"'attract'\")"
   ]
  },
  {
   "cell_type": "code",
   "execution_count": 31,
   "metadata": {},
   "outputs": [
    {
     "name": "stdout",
     "output_type": "stream",
     "text": [
      "0.45 0.2871120571019848\n",
      "0.6 0.20912516188477498\n",
      "0.7366666666666667 0.23062716424759874\n",
      "\n",
      "Ttest_indResult(statistic=-1.400603757339189, pvalue=0.1752796905623199)\n",
      "Ttest_indResult(statistic=-2.581713888104716, pvalue=0.017020359346155697)\n",
      "Ttest_indResult(statistic=1.4559526896682922, pvalue=0.1595291945996125)\n"
     ]
    }
   ],
   "source": [
    "print(np.mean(repel_accuracy_list), np.std(repel_accuracy_list))\n",
    "print(np.mean(none_accuracy_list), np.std(none_accuracy_list))\n",
    "print(np.mean(attract_accuracy_list), np.std(attract_accuracy_list))\n",
    "\n",
    "print()\n",
    "\n",
    "print(ttest_ind(repel_accuracy_list, none_accuracy_list))\n",
    "print(ttest_ind(repel_accuracy_list, attract_accuracy_list))\n",
    "print(ttest_ind(attract_accuracy_list, none_accuracy_list))"
   ]
  },
  {
   "cell_type": "markdown",
   "metadata": {},
   "source": [
    "# Are humans better at predicting any force class? And compared to RNNs?"
   ]
  },
  {
   "cell_type": "code",
   "execution_count": 32,
   "metadata": {},
   "outputs": [
    {
     "name": "stdout",
     "output_type": "stream",
     "text": [
      "0.5727350427350427 0.13531888148325485\n",
      "0.38777777777777783 0.10039803172690473\n",
      "0.6781623931623932 0.14894697893841963\n",
      "\n",
      "Ttest_indResult(statistic=3.640639395027706, pvalue=0.0014428896714880582)\n",
      "Ttest_indResult(statistic=-1.7375664164447775, pvalue=0.09626821719795242)\n",
      "Ttest_indResult(statistic=5.361722481943239, pvalue=2.204329106568638e-05)\n"
     ]
    }
   ],
   "source": [
    "human_repel_accuracy_list = get_participant_accuracy_filtering_by_answer(passive_responses, \"got_rel_right\", \n",
    "                                                                         \"true_rel\", \"'repel'\")\n",
    "\n",
    "human_none_accuracy_list = get_participant_accuracy_filtering_by_answer(passive_responses, \"got_rel_right\", \n",
    "                                                                        \"true_rel\", \"'none'\")\n",
    "\n",
    "human_attract_accuracy_list = get_participant_accuracy_filtering_by_answer(passive_responses, \"got_rel_right\", \n",
    "                                                                   \"true_rel\", \"'attract'\")\n",
    "\n",
    "print(np.mean(human_repel_accuracy_list), np.std(human_repel_accuracy_list))\n",
    "print(np.mean(human_none_accuracy_list), np.std(human_none_accuracy_list))\n",
    "print(np.mean(human_attract_accuracy_list), np.std(human_attract_accuracy_list))\n",
    "\n",
    "\n",
    "print()\n",
    "\n",
    "print(ttest_ind(human_repel_accuracy_list, human_none_accuracy_list))\n",
    "print(ttest_ind(human_repel_accuracy_list, human_attract_accuracy_list))\n",
    "print(ttest_ind(human_attract_accuracy_list, human_none_accuracy_list))"
   ]
  },
  {
   "cell_type": "code",
   "execution_count": 33,
   "metadata": {},
   "outputs": [
    {
     "name": "stdout",
     "output_type": "stream",
     "text": [
      "Ttest_relResult(statistic=-1.105899541031833, pvalue=0.2923701116411201)\n",
      "Ttest_relResult(statistic=3.1552886091860928, pvalue=0.009155481235687034)\n",
      "Ttest_relResult(statistic=1.1650627137234846, pvalue=0.2686370821132175)\n"
     ]
    }
   ],
   "source": [
    "print(ttest_rel(repel_accuracy_list, human_repel_accuracy_list))\n",
    "print(ttest_rel(none_accuracy_list, human_none_accuracy_list))\n",
    "print(ttest_rel(attract_accuracy_list, human_attract_accuracy_list))"
   ]
  },
  {
   "cell_type": "markdown",
   "metadata": {},
   "source": [
    "# Is the model better at predicting any mass class?"
   ]
  },
  {
   "cell_type": "code",
   "execution_count": 34,
   "metadata": {},
   "outputs": [],
   "source": [
    "a_accuracy_list = get_participant_accuracy_filtering_by_answer(passive_responses, \"models_got_mass_right\", \n",
    "                                                                   \"true_mass\", \"'A'\")\n",
    "\n",
    "same_accuracy_list = get_participant_accuracy_filtering_by_answer(passive_responses, \"models_got_mass_right\", \n",
    "                                                                   \"true_mass\", \"'same'\")\n",
    "\n",
    "b_accuracy_list = get_participant_accuracy_filtering_by_answer(passive_responses, \"models_got_mass_right\", \n",
    "                                                                   \"true_mass\", \"'B'\")"
   ]
  },
  {
   "cell_type": "code",
   "execution_count": 35,
   "metadata": {},
   "outputs": [
    {
     "name": "stdout",
     "output_type": "stream",
     "text": [
      "0.47666666666666674 0.2620220516589311\n",
      "0.38333333333333336 0.22830291768223684\n",
      "0.6666666666666666 0.21060758665241755\n",
      "\n",
      "Ttest_indResult(statistic=0.8907167141967209, pvalue=0.3827190355700524)\n",
      "Ttest_indResult(statistic=-1.8745169469195684, pvalue=0.07419925055395671)\n",
      "Ttest_indResult(statistic=3.025383038787512, pvalue=0.00621745872661447)\n"
     ]
    }
   ],
   "source": [
    "print(np.mean(a_accuracy_list), np.std(a_accuracy_list))\n",
    "print(np.mean(same_accuracy_list), np.std(same_accuracy_list))\n",
    "print(np.mean(b_accuracy_list), np.std(b_accuracy_list))\n",
    "\n",
    "print()\n",
    "\n",
    "print(ttest_ind(a_accuracy_list, same_accuracy_list))\n",
    "print(ttest_ind(a_accuracy_list, b_accuracy_list))\n",
    "print(ttest_ind(b_accuracy_list, same_accuracy_list))"
   ]
  },
  {
   "cell_type": "markdown",
   "metadata": {},
   "source": [
    "# Are humans better at predicting any mass class? And compared to RNNs?"
   ]
  },
  {
   "cell_type": "code",
   "execution_count": 36,
   "metadata": {},
   "outputs": [
    {
     "name": "stdout",
     "output_type": "stream",
     "text": [
      "0.4100427350427351 0.14185875067409623\n",
      "0.30391025641025643 0.11751739115262044\n",
      "0.42121794871794865 0.14699406576210686\n",
      "\n",
      "\n",
      "Ttest_indResult(statistic=1.9108454864102784, pvalue=0.0691424586904233)\n",
      "Ttest_indResult(statistic=-0.1814353668752333, pvalue=0.8576870862868097)\n",
      "Ttest_indResult(statistic=2.0673466990693723, pvalue=0.050664413609717754)\n"
     ]
    }
   ],
   "source": [
    "human_a_accuracy_list = get_participant_accuracy_filtering_by_answer(passive_responses, \"got_mass_right\", \n",
    "                                                                     \"true_mass\", \"'A'\")\n",
    "\n",
    "human_same_accuracy_list = get_participant_accuracy_filtering_by_answer(passive_responses, \"got_mass_right\", \n",
    "                                                                        \"true_mass\", \"'same'\")\n",
    "\n",
    "human_b_accuracy_list = get_participant_accuracy_filtering_by_answer(passive_responses, \"got_mass_right\", \n",
    "                                                                     \"true_mass\", \"'B'\")\n",
    "\n",
    "print(np.mean(human_a_accuracy_list), np.std(human_a_accuracy_list))\n",
    "print(np.mean(human_same_accuracy_list), np.std(human_same_accuracy_list))\n",
    "print(np.mean(human_b_accuracy_list), np.std(human_b_accuracy_list))\n",
    "\n",
    "print()\n",
    "\n",
    "print()\n",
    "\n",
    "print(ttest_ind(human_a_accuracy_list, human_same_accuracy_list))\n",
    "print(ttest_ind(human_a_accuracy_list, human_b_accuracy_list))\n",
    "print(ttest_ind(human_b_accuracy_list, human_same_accuracy_list))"
   ]
  },
  {
   "cell_type": "code",
   "execution_count": 37,
   "metadata": {},
   "outputs": [
    {
     "name": "stdout",
     "output_type": "stream",
     "text": [
      "Ttest_relResult(statistic=0.9681227182139432, pvalue=0.3537875863049561)\n",
      "Ttest_relResult(statistic=1.1247809439416705, pvalue=0.28462656804856973)\n",
      "Ttest_relResult(statistic=4.619706885979588, pvalue=0.0007407264734344853)\n"
     ]
    }
   ],
   "source": [
    "print(ttest_rel(a_accuracy_list, human_a_accuracy_list))\n",
    "print(ttest_rel(same_accuracy_list, human_same_accuracy_list))\n",
    "print(ttest_rel(b_accuracy_list, human_b_accuracy_list))"
   ]
  },
  {
   "cell_type": "markdown",
   "metadata": {},
   "source": [
    "# Do model's correct answers correspond to examples that a higher percentage of humans guess?"
   ]
  },
  {
   "cell_type": "code",
   "execution_count": 38,
   "metadata": {},
   "outputs": [],
   "source": [
    "passive_responses[\"model_mass_correct_guesses\"] = (passive_responses[\"model_mass\"] == passive_responses[\"true_mass\"])\n",
    "passive_responses[\"model_force_correct_guesses\"] = (passive_responses[\"model_relationship\"] == passive_responses[\"true_rel\"])"
   ]
  },
  {
   "cell_type": "code",
   "execution_count": 39,
   "metadata": {},
   "outputs": [],
   "source": [
    "passive_responses[\"corRel\"] = (passive_responses[\"humans_first_resp_rel\"] == passive_responses[\"true_rel\"])\n",
    "passive_responses[\"corMass\"] = (passive_responses[\"humans_first_resp_mass\"] == passive_responses[\"true_mass\"])"
   ]
  },
  {
   "cell_type": "code",
   "execution_count": 40,
   "metadata": {},
   "outputs": [
    {
     "name": "stdout",
     "output_type": "stream",
     "text": [
      "0.5555555555555556\n",
      "0.5555555555555556\n"
     ]
    }
   ],
   "source": [
    "mass_coincidence = (passive_responses[\"humans_first_resp_mass\"] == passive_responses[\"model_mass\"]).mean()\n",
    "force_coincidence = (passive_responses[\"humans_first_resp_rel\"] == passive_responses[\"model_relationship\"]).mean()\n",
    "\n",
    "print(mass_coincidence)\n",
    "print(force_coincidence)\n",
    "\n",
    "# FLAG"
   ]
  },
  {
   "cell_type": "markdown",
   "metadata": {},
   "source": [
    "### Mass responses"
   ]
  },
  {
   "cell_type": "code",
   "execution_count": 41,
   "metadata": {},
   "outputs": [
    {
     "data": {
      "text/plain": [
       "F_onewayResult(statistic=14.39595315726459, pvalue=0.0005816314444849311)"
      ]
     },
     "execution_count": 41,
     "metadata": {},
     "output_type": "execute_result"
    }
   ],
   "source": [
    "post_mass_correct_guesses = passive_responses.query(\"model_mass_correct_guesses\")[\"got_mass_right\"]\n",
    "post_mass_wrong_guesses = passive_responses.query(\"not model_mass_correct_guesses\")[\"got_mass_right\"]\n",
    "\n",
    "f_oneway(post_mass_correct_guesses, post_mass_wrong_guesses)"
   ]
  },
  {
   "cell_type": "code",
   "execution_count": 42,
   "metadata": {},
   "outputs": [
    {
     "data": {
      "text/plain": [
       "(19, 17)"
      ]
     },
     "execution_count": 42,
     "metadata": {},
     "output_type": "execute_result"
    }
   ],
   "source": [
    "len(post_mass_correct_guesses), len(post_mass_wrong_guesses)"
   ]
  },
  {
   "cell_type": "markdown",
   "metadata": {},
   "source": [
    "### Force responses"
   ]
  },
  {
   "cell_type": "code",
   "execution_count": 43,
   "metadata": {},
   "outputs": [
    {
     "data": {
      "text/plain": [
       "F_onewayResult(statistic=0.023993851059373437, pvalue=0.8778164712009029)"
      ]
     },
     "execution_count": 43,
     "metadata": {},
     "output_type": "execute_result"
    }
   ],
   "source": [
    "post_force_correct_guesses = passive_responses.query(\"model_force_correct_guesses\")['got_rel_right']\n",
    "post_force_wrong_guesses = passive_responses.query(\"not model_force_correct_guesses\")['got_rel_right']\n",
    "\n",
    "f_oneway(post_force_correct_guesses, post_force_wrong_guesses)"
   ]
  },
  {
   "cell_type": "code",
   "execution_count": 44,
   "metadata": {},
   "outputs": [
    {
     "data": {
      "text/plain": [
       "(26, 10)"
      ]
     },
     "execution_count": 44,
     "metadata": {},
     "output_type": "execute_result"
    }
   ],
   "source": [
    "len(post_force_correct_guesses), len(post_force_wrong_guesses)"
   ]
  },
  {
   "cell_type": "markdown",
   "metadata": {},
   "source": [
    "# Are %RNNs and %participants getting a question correct correlated?"
   ]
  },
  {
   "cell_type": "code",
   "execution_count": 45,
   "metadata": {},
   "outputs": [
    {
     "data": {
      "text/html": [
       "<div>\n",
       "<style scoped>\n",
       "    .dataframe tbody tr th:only-of-type {\n",
       "        vertical-align: middle;\n",
       "    }\n",
       "\n",
       "    .dataframe tbody tr th {\n",
       "        vertical-align: top;\n",
       "    }\n",
       "\n",
       "    .dataframe thead th {\n",
       "        text-align: right;\n",
       "    }\n",
       "</style>\n",
       "<table border=\"1\" class=\"dataframe\">\n",
       "  <thead>\n",
       "    <tr style=\"text-align: right;\">\n",
       "      <th></th>\n",
       "      <th>cond_worldvar</th>\n",
       "      <th>world_id</th>\n",
       "      <th>true_mass</th>\n",
       "      <th>true_rel</th>\n",
       "      <th>post_ent_mass.rtheta</th>\n",
       "      <th>post_ent_rel.rtheta</th>\n",
       "      <th>humans_first_resp_rel</th>\n",
       "      <th>humans_second_resp_rel</th>\n",
       "      <th>humans_third_resp_rel</th>\n",
       "      <th>got_rel_right</th>\n",
       "      <th>...</th>\n",
       "      <th>models_chose_repel</th>\n",
       "      <th>condition_world_variant</th>\n",
       "      <th>models_got_mass_right</th>\n",
       "      <th>models_got_rel_right</th>\n",
       "      <th>model_mass</th>\n",
       "      <th>model_relationship</th>\n",
       "      <th>model_mass_correct_guesses</th>\n",
       "      <th>model_force_correct_guesses</th>\n",
       "      <th>corRel</th>\n",
       "      <th>corMass</th>\n",
       "    </tr>\n",
       "  </thead>\n",
       "  <tbody>\n",
       "    <tr>\n",
       "      <th>0</th>\n",
       "      <td>1</td>\n",
       "      <td>1218</td>\n",
       "      <td>A</td>\n",
       "      <td>repel</td>\n",
       "      <td>0.000827</td>\n",
       "      <td>1.402287</td>\n",
       "      <td>repel</td>\n",
       "      <td>attract</td>\n",
       "      <td>none</td>\n",
       "      <td>0.76</td>\n",
       "      <td>...</td>\n",
       "      <td>2</td>\n",
       "      <td>1</td>\n",
       "      <td>0.92</td>\n",
       "      <td>0.08</td>\n",
       "      <td>A</td>\n",
       "      <td>none</td>\n",
       "      <td>True</td>\n",
       "      <td>False</td>\n",
       "      <td>True</td>\n",
       "      <td>True</td>\n",
       "    </tr>\n",
       "    <tr>\n",
       "      <th>1</th>\n",
       "      <td>1</td>\n",
       "      <td>1736</td>\n",
       "      <td>B</td>\n",
       "      <td>none</td>\n",
       "      <td>0.022527</td>\n",
       "      <td>1.413136</td>\n",
       "      <td>repel</td>\n",
       "      <td>none</td>\n",
       "      <td>attract</td>\n",
       "      <td>0.40</td>\n",
       "      <td>...</td>\n",
       "      <td>3</td>\n",
       "      <td>1</td>\n",
       "      <td>1.00</td>\n",
       "      <td>0.84</td>\n",
       "      <td>B</td>\n",
       "      <td>none</td>\n",
       "      <td>True</td>\n",
       "      <td>True</td>\n",
       "      <td>False</td>\n",
       "      <td>True</td>\n",
       "    </tr>\n",
       "    <tr>\n",
       "      <th>2</th>\n",
       "      <td>1</td>\n",
       "      <td>1758</td>\n",
       "      <td>B</td>\n",
       "      <td>repel</td>\n",
       "      <td>0.049913</td>\n",
       "      <td>1.555458</td>\n",
       "      <td>repel</td>\n",
       "      <td>attract</td>\n",
       "      <td>none</td>\n",
       "      <td>0.44</td>\n",
       "      <td>...</td>\n",
       "      <td>4</td>\n",
       "      <td>1</td>\n",
       "      <td>0.88</td>\n",
       "      <td>0.16</td>\n",
       "      <td>B</td>\n",
       "      <td>none</td>\n",
       "      <td>True</td>\n",
       "      <td>False</td>\n",
       "      <td>True</td>\n",
       "      <td>True</td>\n",
       "    </tr>\n",
       "    <tr>\n",
       "      <th>3</th>\n",
       "      <td>1</td>\n",
       "      <td>1819</td>\n",
       "      <td>B</td>\n",
       "      <td>attract</td>\n",
       "      <td>0.243940</td>\n",
       "      <td>0.924914</td>\n",
       "      <td>attract</td>\n",
       "      <td>repel</td>\n",
       "      <td>none</td>\n",
       "      <td>0.64</td>\n",
       "      <td>...</td>\n",
       "      <td>0</td>\n",
       "      <td>1</td>\n",
       "      <td>0.88</td>\n",
       "      <td>1.00</td>\n",
       "      <td>B</td>\n",
       "      <td>attract</td>\n",
       "      <td>True</td>\n",
       "      <td>True</td>\n",
       "      <td>True</td>\n",
       "      <td>True</td>\n",
       "    </tr>\n",
       "    <tr>\n",
       "      <th>4</th>\n",
       "      <td>1</td>\n",
       "      <td>438</td>\n",
       "      <td>same</td>\n",
       "      <td>repel</td>\n",
       "      <td>0.051500</td>\n",
       "      <td>1.305047</td>\n",
       "      <td>repel</td>\n",
       "      <td>none</td>\n",
       "      <td>attract</td>\n",
       "      <td>0.56</td>\n",
       "      <td>...</td>\n",
       "      <td>11</td>\n",
       "      <td>1</td>\n",
       "      <td>0.72</td>\n",
       "      <td>0.44</td>\n",
       "      <td>same</td>\n",
       "      <td>none</td>\n",
       "      <td>True</td>\n",
       "      <td>False</td>\n",
       "      <td>True</td>\n",
       "      <td>True</td>\n",
       "    </tr>\n",
       "  </tbody>\n",
       "</table>\n",
       "<p>5 rows × 47 columns</p>\n",
       "</div>"
      ],
      "text/plain": [
       "   cond_worldvar  world_id true_mass true_rel  post_ent_mass.rtheta  \\\n",
       "0              1      1218         A    repel              0.000827   \n",
       "1              1      1736         B     none              0.022527   \n",
       "2              1      1758         B    repel              0.049913   \n",
       "3              1      1819         B  attract              0.243940   \n",
       "4              1       438      same    repel              0.051500   \n",
       "\n",
       "   post_ent_rel.rtheta humans_first_resp_rel humans_second_resp_rel  \\\n",
       "0             1.402287                 repel                attract   \n",
       "1             1.413136                 repel                   none   \n",
       "2             1.555458                 repel                attract   \n",
       "3             0.924914               attract                  repel   \n",
       "4             1.305047                 repel                   none   \n",
       "\n",
       "  humans_third_resp_rel  got_rel_right   ...     models_chose_repel  \\\n",
       "0                  none           0.76   ...                      2   \n",
       "1               attract           0.40   ...                      3   \n",
       "2                  none           0.44   ...                      4   \n",
       "3                  none           0.64   ...                      0   \n",
       "4               attract           0.56   ...                     11   \n",
       "\n",
       "   condition_world_variant  models_got_mass_right models_got_rel_right  \\\n",
       "0                        1                   0.92                 0.08   \n",
       "1                        1                   1.00                 0.84   \n",
       "2                        1                   0.88                 0.16   \n",
       "3                        1                   0.88                 1.00   \n",
       "4                        1                   0.72                 0.44   \n",
       "\n",
       "  model_mass model_relationship  model_mass_correct_guesses  \\\n",
       "0          A               none                        True   \n",
       "1          B               none                        True   \n",
       "2          B               none                        True   \n",
       "3          B            attract                        True   \n",
       "4       same               none                        True   \n",
       "\n",
       "   model_force_correct_guesses  corRel  corMass  \n",
       "0                        False    True     True  \n",
       "1                         True   False     True  \n",
       "2                        False    True     True  \n",
       "3                         True    True     True  \n",
       "4                        False    True     True  \n",
       "\n",
       "[5 rows x 47 columns]"
      ]
     },
     "execution_count": 45,
     "metadata": {},
     "output_type": "execute_result"
    }
   ],
   "source": [
    "passive_responses.head()"
   ]
  },
  {
   "cell_type": "code",
   "execution_count": 46,
   "metadata": {},
   "outputs": [],
   "source": [
    "import matplotlib.pyplot as plt"
   ]
  },
  {
   "cell_type": "code",
   "execution_count": 62,
   "metadata": {
    "scrolled": false
   },
   "outputs": [
    {
     "data": {
      "image/png": "[encoded data removed]",
      "text/plain": [
       "<Figure size 2160x720 with 3 Axes>"
      ]
     },
     "metadata": {
      "needs_background": "light"
     },
     "output_type": "display_data"
    },
    {
     "data": {
      "image/png": "[encoded data removed]",
      "text/plain": [
       "<Figure size 2160x720 with 3 Axes>"
      ]
     },
     "metadata": {
      "needs_background": "light"
     },
     "output_type": "display_data"
    }
   ],
   "source": [
    "def plot_correlation(class_columns, true_class):\n",
    "    \n",
    "    f, axes = plt.subplots(1, 3, figsize=(30, 10))\n",
    "    c = [\"r\", \"y\", \"b\"]\n",
    "    \n",
    "    for i, cl in enumerate(class_columns):\n",
    "        corr_coef, _ = spearmanr(passive_responses[\"humans_chose_\"+cl], passive_responses[\"models_chose_\"+cl])        \n",
    "        is_example_correct = (passive_responses[true_class] == cl)\n",
    "        \n",
    "        passive_responses[is_example_correct].plot(kind=\"scatter\", x=\"models_chose_\"+cl, y=\"humans_chose_\"+cl, \n",
    "                                                   marker=\"o\", ax=axes[i], label=cl+\" example\", s=200)\n",
    "        passive_responses[~is_example_correct].plot(kind=\"scatter\", x=\"models_chose_\"+cl, y=\"humans_chose_\"+cl, c=\"r\", \n",
    "                                                    marker=\"x\", ax=axes[i], label=\"other\", s=200)\n",
    "\n",
    "        axes[i].set_title(\"Correlation = %.3f\" % corr_coef, fontsize=35)\n",
    "        axes[i].set_xlabel(\"# RNNs selecting \"+cl, fontsize=35)\n",
    "        axes[i].set_ylabel(\"# participants selecting \"+cl, fontsize=35)\n",
    "        axes[i].legend(fontsize=30)\n",
    "        axes[i].set_xlim((-0.05, 26))\n",
    "        axes[i].set_ylim((-0.05, 26))\n",
    "        axes[i].tick_params(axis='both', which='major', labelsize=35)\n",
    "        axes[i].grid()\n",
    "\n",
    "    plt.tight_layout()\n",
    "    plt.savefig(\"cogsci_images/\"+true_class.split(\"_\")[1]+\"_percentages_correlation.pdf\")\n",
    "    plt.savefig(\"cogsci_images/\"+true_class.split(\"_\")[1]+\"_percentages_correlation.jpg\")\n",
    "\n",
    "plot_correlation(MASS_CLASS_COLS, \"true_mass\")\n",
    "plot_correlation(FORCE_CLASS_COLS, \"true_rel\")"
   ]
  },
  {
   "cell_type": "markdown",
   "metadata": {},
   "source": [
    "# CONFUSION MATRICES"
   ]
  },
  {
   "cell_type": "code",
   "execution_count": 48,
   "metadata": {},
   "outputs": [],
   "source": [
    "N_PARTICIPANTS = 25\n",
    "mass_solutions = []\n",
    "force_solutions = []\n",
    "human_mass_answers = []\n",
    "human_force_answers = []\n",
    "model_mass_answers = []\n",
    "model_force_answers = []\n",
    "\n",
    "for row in range(passive_responses.shape[0]):\n",
    "    mass_solution = passive_responses.iloc[row].true_mass\n",
    "    mass_solutions.extend([mass_solution for _ in range(N_PARTICIPANTS)])\n",
    "    force_solution = passive_responses.iloc[row].true_rel\n",
    "    force_solutions.extend([force_solution for _ in range(N_PARTICIPANTS)])\n",
    "    \n",
    "    human_mass_answers.extend([\"A\" for _ in range(passive_responses.iloc[row].humans_chose_A)])\n",
    "    human_mass_answers.extend([\"B\" for _ in range(passive_responses.iloc[row].humans_chose_B)])\n",
    "    human_mass_answers.extend([\"same\" for _ in range(passive_responses.iloc[row].humans_chose_same)])\n",
    "    human_force_answers.extend([\"attract\" for _ in range(passive_responses.iloc[row].humans_chose_attract)])\n",
    "    human_force_answers.extend([\"repel\" for _ in range(passive_responses.iloc[row].humans_chose_repel)])\n",
    "    human_force_answers.extend([\"none\" for _ in range(passive_responses.iloc[row].humans_chose_none)])\n",
    "    \n",
    "    model_mass_answers.extend([\"A\" for _ in range(passive_responses.iloc[row].models_chose_A)])\n",
    "    model_mass_answers.extend([\"B\" for _ in range(passive_responses.iloc[row].models_chose_B)])\n",
    "    model_mass_answers.extend([\"same\" for _ in range(passive_responses.iloc[row].models_chose_same)])\n",
    "    model_force_answers.extend([\"attract\" for _ in range(passive_responses.iloc[row].models_chose_attract)])\n",
    "    model_force_answers.extend([\"repel\" for _ in range(passive_responses.iloc[row].models_chose_repel)])\n",
    "    model_force_answers.extend([\"none\" for _ in range(passive_responses.iloc[row].models_chose_none)])"
   ]
  },
  {
   "cell_type": "code",
   "execution_count": 61,
   "metadata": {},
   "outputs": [
    {
     "data": {
      "image/png": "[encoded data removed]",
      "text/plain": [
       "<Figure size 1440x648 with 4 Axes>"
      ]
     },
     "metadata": {
      "needs_background": "light"
     },
     "output_type": "display_data"
    }
   ],
   "source": [
    "fig, axis = plt.subplots(1, 4, figsize=(20, 9))\n",
    "\n",
    "\n",
    "ax = plot_confusion_matrix(force_solutions, human_force_answers, MASS_CLASS_COLS, ax=axis[0], normalize=True)\n",
    "ax.set_xlabel(\"Human label\", fontsize=22, fontweight='bold')\n",
    "ax.set_ylabel(\"True label\", fontsize=25, fontweight='bold')\n",
    "ax.tick_params(axis=\"both\", labelsize=25)\n",
    "ax.set_xticklabels(FORCE_CLASS_COLS, fontweight='bold')\n",
    "ax.set_yticklabels(FORCE_CLASS_COLS, fontweight='bold')\n",
    "\n",
    "ax = plot_confusion_matrix(force_solutions, model_force_answers, FORCE_CLASS_COLS, ax=axis[1], normalize=True)\n",
    "ax.set_ylabel(\"\", fontsize=25)\n",
    "ax.set_xlabel(\"RNN label\", fontsize=22, fontweight='bold')\n",
    "ax.tick_params(axis=\"both\", labelsize=25)\n",
    "ax.set_xticklabels(FORCE_CLASS_COLS, fontweight='bold')\n",
    "ax.set_yticks([])\n",
    "# ax.set_yticklabels(FORCE_CLASS_COLS, fontweight='bold')\n",
    "offset = -0.025\n",
    "bbox = ax.get_position()\n",
    "ax.set_position([bbox.x0 + offset, bbox.y0, bbox.x1-bbox.x0, bbox.y1 - bbox.y0])\n",
    "\n",
    "ax = plot_confusion_matrix(mass_solutions, human_mass_answers, MASS_CLASS_COLS, ax=axis[2], normalize=True)\n",
    "ax.set_ylabel(\"\", fontsize=25)\n",
    "ax.set_xlabel(\"Human label\", fontsize=22, fontweight='bold')\n",
    "ax.tick_params(axis=\"both\", labelsize=25)\n",
    "ax.set_xticklabels(MASS_CLASS_COLS, fontweight='bold')\n",
    "ax.set_yticklabels(MASS_CLASS_COLS, fontweight='bold')\n",
    "\n",
    "offset = 0.00\n",
    "bbox = ax.get_position()\n",
    "ax.set_position([bbox.x0 + offset, bbox.y0, bbox.x1-bbox.x0, bbox.y1 - bbox.y0])\n",
    "\n",
    "ax = plot_confusion_matrix(mass_solutions, model_mass_answers, MASS_CLASS_COLS, ax=axis[3], normalize=True)\n",
    "ax.set_ylabel(\"\", fontsize=25)\n",
    "ax.set_xlabel(\"RNN label\", fontsize=22, fontweight='bold')\n",
    "ax.tick_params(axis=\"both\", labelsize=25)\n",
    "ax.set_xticklabels(MASS_CLASS_COLS, fontweight='bold')\n",
    "ax.set_yticks([])\n",
    "# ax.set_yticklabels(MASS_CLASS_COLS, fontweight='bold')\n",
    "offset = -0.025\n",
    "bbox = ax.get_position()\n",
    "ax.set_position([bbox.x0 + offset, bbox.y0, bbox.x1-bbox.x0, bbox.y1 - bbox.y0])\n",
    "\n",
    "\n",
    "f = ax.get_figure()\n",
    "# f.subplots_adjust(wspace = 0.2)\n",
    "f.align_labels()\n",
    "f.savefig(\"cogsci_images/confusion_matrices.pdf\", bbox_inches=\"tight\")\n",
    "f.savefig(\"cogsci_images/confusion_matrices.jpg\", bbox_inches=\"tight\")"
   ]
  },
  {
   "cell_type": "markdown",
   "metadata": {},
   "source": [
    "# Are correct guesses / errors correlated between humans and model?"
   ]
  },
  {
   "cell_type": "code",
   "execution_count": 51,
   "metadata": {},
   "outputs": [],
   "source": [
    "from scipy.stats import chisquare"
   ]
  },
  {
   "cell_type": "code",
   "execution_count": 52,
   "metadata": {},
   "outputs": [],
   "source": [
    "def test_for_independence(first_answers, second_answers):\n",
    "    both_correct = (first_answers & second_answers).sum()\n",
    "    both_wrong = (~first_answers & ~second_answers).sum()\n",
    "    first_correct_second_wrong = (first_answers & ~second_answers).sum()\n",
    "    first_wrong_second_correct = (~first_answers & second_answers).sum()\n",
    "    matrix = np.array([[both_correct, first_correct_second_wrong], [first_wrong_second_correct, both_wrong]])\n",
    "    \n",
    "    accuracy_first = first_answers.sum() / len(first_answers)\n",
    "    accuracy_sec = second_answers.sum() / len(second_answers)\n",
    "    total_answers = len(first_answers)\n",
    "    \n",
    "    \n",
    "    expected_first = np.array([[accuracy_first/2, accuracy_first/2], [(1 - accuracy_first)/2, (1 - accuracy_first)/2]])\n",
    "    expected_sec = np.array([[accuracy_sec/2, (1 - accuracy_sec)/2], [accuracy_sec/2, (1 - accuracy_sec)/2]])\n",
    "    expected = expected_first * expected_sec\n",
    "    expected /= np.sum(expected)\n",
    "    expected *= total_answers\n",
    "    \n",
    "    chisquare_results = chisquare(matrix, expected, axis=None)\n",
    "    print(\"Expected\")\n",
    "    print(expected)\n",
    "    print(\"Reality\")\n",
    "    print(matrix)\n",
    "    return chisquare_results"
   ]
  },
  {
   "cell_type": "code",
   "execution_count": 53,
   "metadata": {},
   "outputs": [
    {
     "name": "stdout",
     "output_type": "stream",
     "text": [
      "Expected\n",
      "[[20.94444444  8.05555556]\n",
      " [ 5.05555556  1.94444444]]\n",
      "Reality\n",
      "[[20  9]\n",
      " [ 6  1]]\n"
     ]
    },
    {
     "data": {
      "text/plain": [
       "Power_divergenceResult(statistic=0.788480485032209, pvalue=0.8522203189889314)"
      ]
     },
     "execution_count": 53,
     "metadata": {},
     "output_type": "execute_result"
    }
   ],
   "source": [
    "test_for_independence(passive_responses[\"corRel\"], passive_responses[\"model_force_correct_guesses\"])"
   ]
  },
  {
   "cell_type": "code",
   "execution_count": 54,
   "metadata": {},
   "outputs": [
    {
     "name": "stdout",
     "output_type": "stream",
     "text": [
      "Expected\n",
      "[[ 6.86111111  6.13888889]\n",
      " [12.13888889 10.86111111]]\n",
      "Reality\n",
      "[[11  2]\n",
      " [ 8 15]]\n"
     ]
    },
    {
     "data": {
      "text/plain": [
       "Power_divergenceResult(statistic=8.275634985555566, pvalue=0.04064574159320783)"
      ]
     },
     "execution_count": 54,
     "metadata": {},
     "output_type": "execute_result"
    }
   ],
   "source": [
    "test_for_independence(passive_responses[\"corMass\"], passive_responses[\"model_mass_correct_guesses\"])\n",
    "#FLAG"
   ]
  },
  {
   "cell_type": "code",
   "execution_count": 55,
   "metadata": {},
   "outputs": [],
   "source": [
    "def test_for_coincidence(first_answers, second_answers, true_answers):\n",
    "    \n",
    "    matrix = []\n",
    "    all_classes = sorted(first_answers.unique())\n",
    "    \n",
    "    for class_name in all_classes:\n",
    "        this_class_coincidences = []\n",
    "        for second_class_name in all_classes:\n",
    "            n_coincidences = ((first_answers == class_name) & (second_answers == second_class_name)).sum()\n",
    "            this_class_coincidences.append(n_coincidences)\n",
    "            \n",
    "        matrix.append(this_class_coincidences)\n",
    "    \n",
    "    matrix = np.array(matrix)\n",
    "    \n",
    "    expected = []    \n",
    "    for class_name in all_classes:\n",
    "        this_class_prob = []\n",
    "        for second_class_name in all_classes:\n",
    "            prob = 0\n",
    "            for true_class in all_classes:\n",
    "                # p_humans(first_class\\true_class) * p_rnn(first_class\\true_class)\n",
    "                class_examples = (true_answers == true_class).sum()\n",
    "                \n",
    "                p_class = class_examples / len(first_answers)\n",
    "                p_first_given_class = ((first_answers == class_name) & (true_answers == true_class)).sum() / class_examples\n",
    "                p_second_given_class = ((second_answers == second_class_name) & (true_answers == true_class)).sum() / class_examples\n",
    "                val = p_class * p_first_given_class * p_second_given_class\n",
    "                \n",
    "                prob += val\n",
    "\n",
    "            this_class_prob.append(prob)\n",
    "        expected.append(this_class_prob)\n",
    "    expected = np.array(expected) \n",
    "    expected /= np.sum(expected)\n",
    "    expected *= len(first_answers)\n",
    "    print(\"Expected:\")\n",
    "    print(all_classes)\n",
    "    print(expected)\n",
    "    print()\n",
    "    print(\"Reality:\")\n",
    "    print(all_classes)\n",
    "    print(matrix)\n",
    "    chisquare_results = chisquare(matrix, expected, axis=None)\n",
    "    \n",
    "    return chisquare_results"
   ]
  },
  {
   "cell_type": "code",
   "execution_count": 56,
   "metadata": {},
   "outputs": [
    {
     "name": "stdout",
     "output_type": "stream",
     "text": [
      "Expected:\n",
      "['attract', 'none', 'repel']\n",
      "[[11.          3.5         0.5       ]\n",
      " [ 0.          5.58333333  1.41666667]\n",
      " [ 0.          8.91666667  5.08333333]]\n",
      "\n",
      "Reality:\n",
      "['attract', 'none', 'repel']\n",
      "[[11  3  1]\n",
      " [ 0  5  2]\n",
      " [ 0 10  4]]\n"
     ]
    },
    {
     "data": {
      "text/plain": [
       "Power_divergenceResult(statistic=nan, pvalue=nan)"
      ]
     },
     "execution_count": 56,
     "metadata": {},
     "output_type": "execute_result"
    }
   ],
   "source": [
    "test_for_coincidence(passive_responses[\"humans_first_resp_rel\"], passive_responses[\"model_relationship\"], passive_responses[\"true_rel\"])"
   ]
  },
  {
   "cell_type": "code",
   "execution_count": 57,
   "metadata": {},
   "outputs": [
    {
     "name": "stdout",
     "output_type": "stream",
     "text": [
      "Expected:\n",
      "['A', 'B', 'same']\n",
      "[[5.41666667 3.33333333 4.25      ]\n",
      " [4.83333333 4.83333333 4.33333333]\n",
      " [2.75       3.83333333 2.41666667]]\n",
      "\n",
      "Reality:\n",
      "['A', 'B', 'same']\n",
      "[[8 2 3]\n",
      " [4 7 3]\n",
      " [1 3 5]]\n"
     ]
    },
    {
     "data": {
      "text/plain": [
       "Power_divergenceResult(statistic=7.714520649999969, pvalue=0.46184169330290026)"
      ]
     },
     "execution_count": 57,
     "metadata": {},
     "output_type": "execute_result"
    }
   ],
   "source": [
    "test_for_coincidence(passive_responses[\"humans_first_resp_mass\"], passive_responses[\"model_mass\"], passive_responses[\"true_mass\"])\n",
    "# FLAG"
   ]
  },
  {
   "cell_type": "markdown",
   "metadata": {},
   "source": [
    "# Are correct guesses / errors correlated to informativeness?"
   ]
  },
  {
   "cell_type": "markdown",
   "metadata": {},
   "source": [
    "### Mass responses"
   ]
  },
  {
   "cell_type": "code",
   "execution_count": 58,
   "metadata": {},
   "outputs": [
    {
     "name": "stdout",
     "output_type": "stream",
     "text": [
      "[[ 1.         -0.00779539]\n",
      " [-0.00779539  1.        ]]\n",
      "[[ 1.         -0.19292631]\n",
      " [-0.19292631  1.        ]]\n"
     ]
    }
   ],
   "source": [
    "print(np.corrcoef(passive_responses[\"post_ent_mass.rtheta\"], passive_responses[\"got_mass_right\"]))\n",
    "print(np.corrcoef(passive_responses[\"post_ent_rel.rtheta\"], passive_responses[\"got_rel_right\"]))"
   ]
  },
  {
   "cell_type": "code",
   "execution_count": 59,
   "metadata": {},
   "outputs": [
    {
     "name": "stdout",
     "output_type": "stream",
     "text": [
      "[[1.         0.49075677]\n",
      " [0.49075677 1.        ]]\n",
      "[[1.         0.15665722]\n",
      " [0.15665722 1.        ]]\n"
     ]
    }
   ],
   "source": [
    "print(np.corrcoef(passive_responses[\"models_got_mass_right\"], passive_responses[\"got_mass_right\"]))\n",
    "print(np.corrcoef(passive_responses[\"models_got_rel_right\"], passive_responses[\"got_rel_right\"]))"
   ]
  }
 ],
 "metadata": {
  "kernelspec": {
   "display_name": "Python 3",
   "language": "python",
   "name": "python3"
  },
  "language_info": {
   "codemirror_mode": {
    "name": "ipython",
    "version": 3
   },
   "file_extension": ".py",
   "mimetype": "text/x-python",
   "name": "python",
   "nbconvert_exporter": "python",
   "pygments_lexer": "ipython3",
   "version": "3.5.6"
  }
 },
 "nbformat": 4,
 "nbformat_minor": 2
}
