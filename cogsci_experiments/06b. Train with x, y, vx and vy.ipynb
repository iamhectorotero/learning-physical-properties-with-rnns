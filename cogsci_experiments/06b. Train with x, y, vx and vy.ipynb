{
 "cells": [
  {
   "cell_type": "code",
   "execution_count": 1,
   "metadata": {},
   "outputs": [],
   "source": [
    "import pandas as pd\n",
    "import numpy as np\n",
    "import torch\n",
    "import torch.utils.data\n",
    "import torch.nn as nn\n",
    "from torch.autograd import Variable\n",
    "from sklearn.model_selection import train_test_split\n",
    "import joblib\n",
    "from tqdm import tqdm\n",
    "import matplotlib.pyplot as plt\n",
    "from copy import deepcopy"
   ]
  },
  {
   "cell_type": "code",
   "execution_count": 2,
   "metadata": {},
   "outputs": [
    {
     "name": "stdout",
     "output_type": "stream",
     "text": [
      "cuda:0\n"
     ]
    }
   ],
   "source": [
    "from isaac.utils import get_cuda_device_if_available, create_directory\n",
    "device = get_cuda_device_if_available()\n",
    "print(device)\n",
    "\n",
    "data_directory = \"xy_vxvy/\"\n",
    "create_directory(data_directory)\n",
    "create_directory(\"models/xy_vxvy/\")\n",
    "create_directory(\"scalers\")"
   ]
  },
  {
   "cell_type": "code",
   "execution_count": 3,
   "metadata": {},
   "outputs": [],
   "source": [
    "from isaac.dataset import read_dataset, prepare_dataset\n",
    "from isaac.utils import plot_confusion_matrix\n",
    "from isaac.constants import BASIC_TRAINING_COLS, FORCE_CLASS_COLS, MASS_CLASS_COLS\n",
    "from isaac.training import training_loop\n",
    "from isaac.models import MultiBranchModel, initialise_model\n",
    "from isaac.evaluation import get_best_model_and_its_accuracy"
   ]
  },
  {
   "cell_type": "code",
   "execution_count": 4,
   "metadata": {},
   "outputs": [],
   "source": [
    "BATCH_SIZE = 128\n",
    "EPOCHS = 60\n",
    "NORMALISE_DATA = True\n",
    "STEP_SIZE = 3\n",
    "SEQ_END = 2700\n",
    "\n",
    "INPUT_DIM = len(BASIC_TRAINING_COLS)   # input dimension\n",
    "HIDDEN_DIM = 25  # hidden layer dimension\n",
    "N_LAYERS = 4     # number of hidden layers\n",
    "OUTPUT_DIM = 3   # output dimension\n",
    "DROPOUT = 0.5\n",
    "\n",
    "network_params = (INPUT_DIM, HIDDEN_DIM, OUTPUT_DIM, DROPOUT)"
   ]
  },
  {
   "cell_type": "markdown",
   "metadata": {},
   "source": [
    "## Read dataset and preprocess it"
   ]
  },
  {
   "cell_type": "code",
   "execution_count": 5,
   "metadata": {},
   "outputs": [
    {
     "name": "stderr",
     "output_type": "stream",
     "text": [
      "100%|██████████| 5465/5465 [00:55<00:00, 98.29it/s] \n",
      "100%|██████████| 2735/2735 [00:30<00:00, 90.97it/s]\n"
     ]
    }
   ],
   "source": [
    "train_trials = read_dataset(\"data/r_train_trials.h5\")\n",
    "val_trials = read_dataset(\"data/r_val_trials.h5\")\n",
    "\n",
    "train_classes = [trial.combined_solution.iloc[0] for trial in train_trials]\n",
    "val_classes = [trial.combined_solution.iloc[0] for trial in val_trials]\n",
    "\n",
    "np.random.seed(37)\n",
    "train_trials, _ = train_test_split(train_trials, train_size=4000, stratify=train_classes)\n",
    "val_trials, _ = train_test_split(val_trials, train_size=1000, stratify=val_classes)"
   ]
  },
  {
   "cell_type": "markdown",
   "metadata": {},
   "source": [
    "## Train model and plot loss and accuracy"
   ]
  },
  {
   "cell_type": "code",
   "execution_count": 6,
   "metadata": {
    "scrolled": false
   },
   "outputs": [
    {
     "name": "stderr",
     "output_type": "stream",
     "text": [
      "100%|██████████| 4000/4000 [00:05<00:00, 747.07it/s]\n",
      "100%|██████████| 1000/1000 [00:01<00:00, 766.27it/s]\n",
      "Train_loss: ([0.50908969 0.40775177]) Train_acc: ([75.175 77.   ]) Val_acc: ([67.4 67.7]): 100%|██████████| 60/60 [22:36<00:00, 22.64s/it]\n",
      "Train_loss: ([0.74005193 0.79424416]) Train_acc: ([61.8  47.45]) Val_acc: ([59.1 45. ]): 100%|██████████| 60/60 [22:37<00:00, 22.62s/it]  \n",
      "Train_loss: ([0.85105061 0.88699806]) Train_acc: ([58.125 54.3  ]) Val_acc: ([55.6 50.1]): 100%|██████████| 60/60 [22:39<00:00, 22.63s/it]\n",
      "Train_loss: ([0.80121654 0.76192341]) Train_acc: ([61.15  58.575]) Val_acc: ([58.7 54.8]): 100%|██████████| 60/60 [22:37<00:00, 22.61s/it]\n",
      "Train_loss: ([0.6551912  0.60006597]) Train_acc: ([67.275 49.85 ]) Val_acc: ([65.3 48.6]): 100%|██████████| 60/60 [22:41<00:00, 22.74s/it]\n",
      "Train_loss: ([0.69241616 0.65817352]) Train_acc: ([64.775 62.15 ]) Val_acc: ([58.6 54.3]): 100%|██████████| 60/60 [22:45<00:00, 22.75s/it]\n",
      "Train_loss: ([0.48770538 0.50130782]) Train_acc: ([74.75 78.  ]) Val_acc: ([67.1 67.7]): 100%|██████████| 60/60 [22:44<00:00, 22.75s/it]  \n",
      "Train_loss: ([0.9196746  0.94530173]) Train_acc: ([53.75 48.35]) Val_acc: ([52.1 44.9]): 100%|██████████| 60/60 [22:45<00:00, 22.77s/it]  \n",
      "Train_loss: ([0.53123011 0.46224516]) Train_acc: ([74.45 73.7 ]) Val_acc: ([68.5 65.8]): 100%|██████████| 60/60 [22:45<00:00, 22.76s/it]  \n",
      "Train_loss: ([0.90249173 1.04720559]) Train_acc: ([55.35 42.15]) Val_acc: ([54.1 40.5]): 100%|██████████| 60/60 [22:45<00:00, 22.75s/it]  \n",
      "Train_loss: ([0.48805513 0.43940361]) Train_acc: ([77.85 73.6 ]) Val_acc: ([65.4 66.3]): 100%|██████████| 60/60 [22:45<00:00, 22.76s/it]  \n",
      "Train_loss: ([0.67480487 0.69069241]) Train_acc: ([65.95 57.4 ]) Val_acc: ([62.4 54.3]): 100%|██████████| 60/60 [22:45<00:00, 22.75s/it]  \n",
      "Train_loss: ([0.68313647 0.59538766]) Train_acc: ([62.8   62.525]) Val_acc: ([57.6 56.2]): 100%|██████████| 60/60 [22:45<00:00, 22.75s/it]\n",
      "Train_loss: ([0.86845913 0.83831662]) Train_acc: ([55.525 49.45 ]) Val_acc: ([51.9 46.2]): 100%|██████████| 60/60 [22:45<00:00, 22.76s/it]\n",
      "Train_loss: ([0.65669921 0.64358386]) Train_acc: ([68.7   59.225]) Val_acc: ([63.7 56.2]): 100%|██████████| 60/60 [22:45<00:00, 22.76s/it]\n",
      "Train_loss: ([0.77739194 0.79258481]) Train_acc: ([63.4   53.825]) Val_acc: ([56.8 51. ]): 100%|██████████| 60/60 [22:45<00:00, 22.77s/it]\n",
      "Train_loss: ([0.72863251 0.75084981]) Train_acc: ([60.1  50.15]) Val_acc: ([57.1 48.1]): 100%|██████████| 60/60 [22:45<00:00, 22.75s/it]  \n",
      "Train_loss: ([0.34245524 0.28230662]) Train_acc: ([83.725 76.55 ]) Val_acc: ([71. 65.]): 100%|██████████| 60/60 [22:45<00:00, 22.76s/it]  \n",
      "Train_loss: ([0.77302587 0.77086463]) Train_acc: ([61.725 55.8  ]) Val_acc: ([59.4 51. ]): 100%|██████████| 60/60 [22:45<00:00, 22.76s/it]\n",
      "Train_loss: ([0.77236406 0.77042199]) Train_acc: ([62.35 59.4 ]) Val_acc: ([59.7 54.4]): 100%|██████████| 60/60 [22:45<00:00, 22.76s/it]  \n",
      "Train_loss: ([0.7854209  0.72118974]) Train_acc: ([54.475 48.5  ]) Val_acc: ([52.2 48.2]): 100%|██████████| 60/60 [22:45<00:00, 22.75s/it]\n",
      "Train_loss: ([0.89952578 0.66148408]) Train_acc: ([59.1   60.775]) Val_acc: ([54.7 53.7]): 100%|██████████| 60/60 [22:45<00:00, 22.77s/it]\n",
      "Train_loss: ([0.80063761 0.87235147]) Train_acc: ([60.225 54.8  ]) Val_acc: ([58.7 50. ]): 100%|██████████| 60/60 [22:47<00:00, 22.80s/it]\n",
      "Train_loss: ([0.54388697 0.56575883]) Train_acc: ([72.725 60.3  ]) Val_acc: ([65.5 55.1]): 100%|██████████| 60/60 [22:47<00:00, 22.79s/it]\n",
      "Train_loss: ([0.53492887 0.57348639]) Train_acc: ([71.15  69.875]) Val_acc: ([63.6 65. ]): 100%|██████████| 60/60 [22:46<00:00, 22.78s/it]\n"
     ]
    }
   ],
   "source": [
    "N_MODELS = 25\n",
    "\n",
    "stats_dfs = []\n",
    "loaders, scaler = prepare_dataset([train_trials, val_trials], \n",
    "                                  class_columns=[list(MASS_CLASS_COLS), list(FORCE_CLASS_COLS)], \n",
    "                                  multiclass=True,\n",
    "                                  batch_size=BATCH_SIZE, normalise_data=NORMALISE_DATA,\n",
    "                                  device=device, training_columns=BASIC_TRAINING_COLS)\n",
    "\n",
    "\n",
    "for seed in range(N_MODELS):\n",
    "    df = pd.DataFrame()\n",
    "\n",
    "    model, error, optimizer = initialise_model(network_params, lr=0.01, seed=seed, device=device, arch=MultiBranchModel)\n",
    "    epoch_losses, epoch_accuracies, [best_mass_model, best_force_model] = training_loop(model, optimizer, \n",
    "                                                                                        error,\n",
    "                                                                                        loaders[0], loaders[1], \n",
    "                                                                                        EPOCHS, seq_end=SEQ_END,\n",
    "                                                                                        step_size=STEP_SIZE,\n",
    "                                                                                        multibranch=True)\n",
    "\n",
    "    torch.save(best_mass_model.state_dict(), \"models/xy_vxvy/best_mass_model_seed_%d.pt\" % seed)\n",
    "    torch.save(best_force_model.state_dict(), \"models/xy_vxvy/best_force_model_seed_%d.pt\" % seed)\n",
    "    \n",
    "    \n",
    "    train_accuracies = np.array(epoch_accuracies[0])\n",
    "    val_accuracies = np.array(epoch_accuracies[1]) \n",
    "    \n",
    "    df[\"Epoch\"] = np.arange(EPOCHS)\n",
    "    df[\"Mass Loss\"] = epoch_losses[:, 0]\n",
    "    df[\"Force Loss\"] = epoch_losses[:, 1]\n",
    "    df[\"Mass Train Accuracy\"] = train_accuracies[:, 0]\n",
    "    df[\"Mass Val Accuracy\"] = val_accuracies[:, 0]\n",
    "    df[\"Force Train Accuracy\"] = train_accuracies[:, 1]\n",
    "    df[\"Force Val Accuracy\"] = val_accuracies[:,1]\n",
    "    df[\"seed\"] = str(seed)\n",
    "    stats_dfs.append(df)\n",
    "        \n",
    "stats = pd.concat(stats_dfs)\n",
    "stats.to_hdf(data_directory+\"stats.h5\", key=\"stats\")"
   ]
  },
  {
   "cell_type": "markdown",
   "metadata": {},
   "source": [
    "## Save model and scaler"
   ]
  },
  {
   "cell_type": "code",
   "execution_count": 7,
   "metadata": {},
   "outputs": [
    {
     "data": {
      "text/plain": [
       "['scalers/passive_xy_vxvy_scaler.sk']"
      ]
     },
     "execution_count": 7,
     "metadata": {},
     "output_type": "execute_result"
    }
   ],
   "source": [
    "joblib.dump(scaler, \"scalers/passive_xy_vxvy_scaler.sk\")"
   ]
  }
 ],
 "metadata": {
  "kernelspec": {
   "display_name": "Python 3",
   "language": "python",
   "name": "python3"
  },
  "language_info": {
   "codemirror_mode": {
    "name": "ipython",
    "version": 3
   },
   "file_extension": ".py",
   "mimetype": "text/x-python",
   "name": "python",
   "nbconvert_exporter": "python",
   "pygments_lexer": "ipython3",
   "version": "3.5.6"
  }
 },
 "nbformat": 4,
 "nbformat_minor": 2
}
