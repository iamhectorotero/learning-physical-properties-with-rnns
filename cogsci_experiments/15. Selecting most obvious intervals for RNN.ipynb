{
 "cells": [
  {
   "cell_type": "code",
   "execution_count": 1,
   "metadata": {},
   "outputs": [],
   "source": [
    "import isaac.constants\n",
    "isaac.constants.TQDM_DISABLE = True\n",
    "\n",
    "from torch import nn\n",
    "from torch.nn import Softmax\n",
    "from isaac.utils import get_cuda_device_if_available\n",
    "import joblib\n",
    "\n",
    "from isaac.dataset import read_dataset, prepare_dataset\n",
    "from isaac.models import MultiBranchModel, ComplexRNNModel\n",
    "from isaac.constants import BASIC_TRAINING_COLS, MASS_CLASS_COLS, FORCE_CLASS_COLS, RTHETA_COLS, XY_RTHETA_COLS, XY_VXVY_RTHETA_COLS\n",
    "from isaac.evaluation import predict_with_a_group_of_saved_models, evaluate_saved_model\n",
    "\n",
    "import torch\n",
    "import glob\n",
    "from torch.autograd import Variable\n",
    "import numpy as np\n",
    "import pandas as pd\n",
    "from tqdm import tqdm\n"
   ]
  },
  {
   "cell_type": "code",
   "execution_count": 2,
   "metadata": {},
   "outputs": [],
   "source": [
    "SECONDS_PER_WINDOW = 5 # seconds\n",
    "FPS = 60\n",
    "STEP_SIZE = 3\n",
    "# PD_STEP_SIZE = 10\n",
    "SEQ_END = 2700"
   ]
  },
  {
   "cell_type": "code",
   "execution_count": 3,
   "metadata": {},
   "outputs": [
    {
     "name": "stdout",
     "output_type": "stream",
     "text": [
      "cpu\n"
     ]
    }
   ],
   "source": [
    "device = get_cuda_device_if_available()\n",
    "print(device)"
   ]
  },
  {
   "cell_type": "code",
   "execution_count": 4,
   "metadata": {},
   "outputs": [],
   "source": [
    "HIDDEN_DIM = 25  # hidden layer dimension\n",
    "N_LAYERS = 4     # number of hidden layers\n",
    "OUTPUT_DIM = 3   # output dimension\n",
    "DROPOUT = 0.5"
   ]
  },
  {
   "cell_type": "code",
   "execution_count": 5,
   "metadata": {},
   "outputs": [],
   "source": [
    "normalise_data = True\n",
    "model_name = \"xy_vxvy\"\n",
    "d = {\"rtheta\": RTHETA_COLS, \"xy_vxvy\": BASIC_TRAINING_COLS,\n",
    "     \"xy_rtheta\": XY_RTHETA_COLS, \"xy_vxvy_rtheta\": XY_VXVY_RTHETA_COLS}\n",
    "training_columns = d[model_name]\n",
    "\n",
    "dataset_path = \"../new_exp_data/exp7_passive.h5\"\n",
    "multiclass = False\n",
    "DATASET = read_dataset(dataset_path)\n",
    "\n",
    "\n",
    "def get_question_predictions_for_group_of_models(question_type):    \n",
    "    \n",
    "    if not multiclass:\n",
    "        class_columns = FORCE_CLASS_COLS if question_type == \"force\" else MASS_CLASS_COLS\n",
    "        models = sorted(glob.glob(\"models/GRU_singlebranch/\"+model_name+\"/best_\"+question_type+\"_model_seed_*.pt\"))\n",
    "        scaler_path = \"scalers/GRU_singlebranch/\"+question_type+\"_\"+model_name+\"_scaler.sk\"\n",
    "        model_arch = ComplexRNNModel\n",
    "        network_dims = (len(training_columns), HIDDEN_DIM, N_LAYERS, OUTPUT_DIM, DROPOUT)\n",
    "\n",
    "    else:\n",
    "        class_columns = [list(MASS_CLASS_COLS), list(FORCE_CLASS_COLS)]\n",
    "        models = sorted(glob.glob(\"models/\"+model_name+\"/best_\"+question_type+\"_model_seed_*.pt\"))\n",
    "        scaler_path = \"scalers/passive_\"+model_name+\"_scaler.sk\"\n",
    "        model_arch = MultiBranchModel\n",
    "        network_dims = (len(training_columns), HIDDEN_DIM, OUTPUT_DIM, DROPOUT)\n",
    "\n",
    "    \n",
    "    predictions = predict_with_a_group_of_saved_models(tqdm(models), network_dims, None, \n",
    "                                                       training_columns=training_columns, \n",
    "                                                       class_columns=class_columns, step_size=STEP_SIZE, \n",
    "                                                       seq_end=SEQ_END, scaler_path=scaler_path,\n",
    "                                                       arch=model_arch, multiclass=multiclass, trials=DATASET,\n",
    "                                                       predict_rolling_windows=True, seconds_per_window=SECONDS_PER_WINDOW)\n",
    "    predictions = torch.stack(predictions)\n",
    "    if multiclass:\n",
    "        if question_type == \"mass\":\n",
    "            predictions = predictions[:, :, :, 0]\n",
    "        else:\n",
    "            predictions = predictions[:, :, :, 1]\n",
    "\n",
    "    return predictions"
   ]
  },
  {
   "cell_type": "markdown",
   "metadata": {},
   "source": [
    "# T-test for MASS questions"
   ]
  },
  {
   "cell_type": "markdown",
   "metadata": {},
   "source": [
    "## Load model's predictions"
   ]
  },
  {
   "cell_type": "code",
   "execution_count": 6,
   "metadata": {
    "scrolled": true
   },
   "outputs": [
    {
     "name": "stderr",
     "output_type": "stream",
     "text": [
      "\r",
      "  0%|          | 0/25 [00:00<?, ?it/s]"
     ]
    },
    {
     "name": "stdout",
     "output_type": "stream",
     "text": [
      "MASS\n"
     ]
    },
    {
     "name": "stderr",
     "output_type": "stream",
     "text": [
      "100%|██████████| 25/25 [00:37<00:00,  1.41s/it]\n",
      "  0%|          | 0/25 [00:00<?, ?it/s]"
     ]
    },
    {
     "name": "stdout",
     "output_type": "stream",
     "text": [
      "\n",
      "FORCE\n"
     ]
    },
    {
     "name": "stderr",
     "output_type": "stream",
     "text": [
      "100%|██████████| 25/25 [00:37<00:00,  1.49s/it]\n"
     ]
    }
   ],
   "source": [
    "print(\"MASS\")\n",
    "question_type = \"mass\"\n",
    "group_mass_seq_prediction = get_question_predictions_for_group_of_models(question_type)\n",
    "\n",
    "print(\"\\nFORCE\")\n",
    "question_type = \"force\"\n",
    "group_force_seq_prediction = get_question_predictions_for_group_of_models(question_type)"
   ]
  },
  {
   "cell_type": "code",
   "execution_count": 7,
   "metadata": {
    "scrolled": true
   },
   "outputs": [],
   "source": [
    "mass_solutions = [trial[list(MASS_CLASS_COLS)].idxmax(axis=1).unique()[0] for trial in DATASET]\n",
    "force_solutions = [trial[list(FORCE_CLASS_COLS)].idxmax(axis=1).unique()[0] for trial in DATASET]"
   ]
  },
  {
   "cell_type": "code",
   "execution_count": 8,
   "metadata": {},
   "outputs": [],
   "source": [
    "s = Softmax(dim=-1)\n",
    "group_force_seq_prediction = s(group_force_seq_prediction)\n",
    "group_mass_seq_prediction = s(group_mass_seq_prediction)"
   ]
  },
  {
   "cell_type": "code",
   "execution_count": 9,
   "metadata": {},
   "outputs": [],
   "source": [
    "avg_force_seq_prediction = torch.mean(group_force_seq_prediction, dim=0)\n",
    "avg_mass_seq_prediction = torch.mean(group_mass_seq_prediction, dim=0)"
   ]
  },
  {
   "cell_type": "code",
   "execution_count": 10,
   "metadata": {},
   "outputs": [
    {
     "data": {
      "text/plain": [
       "torch.Size([36, 40, 3])"
      ]
     },
     "execution_count": 10,
     "metadata": {},
     "output_type": "execute_result"
    }
   ],
   "source": [
    "avg_force_seq_prediction.shape"
   ]
  },
  {
   "cell_type": "code",
   "execution_count": 11,
   "metadata": {},
   "outputs": [],
   "source": [
    "n_trials = avg_force_seq_prediction.shape[0]\n",
    "n_windows = avg_force_seq_prediction.shape[1]\n",
    "window_second_start = [i for _ in range(n_trials) for i in range(1, n_windows+1)]\n",
    "trial_number = [i for i in range(n_trials) for _ in range(1, n_windows+1)]"
   ]
  },
  {
   "cell_type": "code",
   "execution_count": 12,
   "metadata": {},
   "outputs": [],
   "source": [
    "mass_df = pd.DataFrame(data=avg_mass_seq_prediction.reshape(n_trials*n_windows, 3).numpy(), \n",
    "                       columns=[\"rnn_%s\" % cl for cl in MASS_CLASS_COLS])\n",
    "mass_df[\"window_second_start\"] = window_second_start\n",
    "mass_df[\"trial_number\"] = trial_number\n",
    "mass_df[\"solution\"] = [mass_solutions[trial_id] for trial_id in trial_number]\n",
    "\n",
    "force_df = pd.DataFrame(data=avg_force_seq_prediction.reshape(n_trials*n_windows, 3).numpy(), \n",
    "                       columns=[\"rnn_%s\" % cl for cl in FORCE_CLASS_COLS])\n",
    "force_df[\"window_second_start\"] = window_second_start\n",
    "force_df[\"trial_number\"] = trial_number\n",
    "force_df[\"solution\"] = [force_solutions[trial_id] for trial_id in trial_number]"
   ]
  },
  {
   "cell_type": "code",
   "execution_count": 13,
   "metadata": {},
   "outputs": [],
   "source": [
    "import matplotlib.pyplot as plt\n",
    "import seaborn as sns\n",
    "\n",
    "sns.set(font_scale=3)\n",
    "sns.set_style(\"white\")"
   ]
  },
  {
   "cell_type": "markdown",
   "metadata": {},
   "source": [
    "# Obtain most obvious intervals\n",
    "Most obvious = Highest values of probability for a correct class"
   ]
  },
  {
   "cell_type": "code",
   "execution_count": 14,
   "metadata": {},
   "outputs": [],
   "source": [
    "def entropy_rnn_responses(responses):\n",
    "    responses = responses.tolist()\n",
    "    return -np.sum(responses * np.log2(responses))\n",
    "\n",
    "def get_probabilities_df(df, task):\n",
    "    rows = []\n",
    "    \n",
    "    class_columns = FORCE_CLASS_COLS if task == \"force\" else MASS_CLASS_COLS\n",
    "    rnn_columns = [\"rnn_\" + cl for cl in class_columns]\n",
    "\n",
    "    \n",
    "    for i in range(df.shape[0]):\n",
    "        row = df.iloc[i]\n",
    "        window_second_start = row.window_second_start\n",
    "        trial_number = row.trial_number\n",
    "        solution = row.solution\n",
    "        \n",
    "        rnn_solution_probability = row[\"rnn_\"+solution]\n",
    "        rnn_preferred_option = class_columns[np.argmax(row[rnn_columns].values)]\n",
    "        rnn_preferred_option_probability = max(row[rnn_columns])\n",
    "        rnn_entropy = entropy_rnn_responses(row[rnn_columns].values)\n",
    "        \n",
    "        wrong_options = [\"rnn_\" + cl for cl in class_columns if cl != solution]\n",
    "        max_probability_for_a_wrong_option = max(row[wrong_options])\n",
    "        \n",
    "        \n",
    "        rows.append([window_second_start, trial_number, solution,\n",
    "                    rnn_solution_probability, rnn_preferred_option, rnn_preferred_option_probability,\n",
    "                    rnn_entropy, max_probability_for_a_wrong_option])\n",
    "        \n",
    "\n",
    "    df = pd.DataFrame(data=rows, columns=[\"window_second_start\", \"trial_number\", \"solution\", \"rnn_solution_probability\",\n",
    "                                         \"rnn_preferred_option\", \"rnn_preferred_option_probability\", \"entropy\",\n",
    "                                         \"max_probability_for_a_wrong_option\"])\n",
    "    return df\n",
    "\n",
    "    \n",
    "obvious_mass_dfs = get_probabilities_df(mass_df, \"mass\").query(\"solution == rnn_preferred_option\")\n",
    "obvious_force_dfs = get_probabilities_df(force_df, \"force\").query(\"solution == rnn_preferred_option\")"
   ]
  },
  {
   "cell_type": "code",
   "execution_count": 15,
   "metadata": {
    "scrolled": true
   },
   "outputs": [],
   "source": [
    "obvious_mass_dfs = obvious_mass_dfs.sort_values(by=\"rnn_solution_probability\", ascending=False)\n",
    "obvious_force_dfs = obvious_force_dfs.sort_values(by=\"rnn_solution_probability\", ascending=False)"
   ]
  },
  {
   "cell_type": "markdown",
   "metadata": {},
   "source": [
    "## Load human results"
   ]
  },
  {
   "cell_type": "code",
   "execution_count": 16,
   "metadata": {},
   "outputs": [
    {
     "name": "stdout",
     "output_type": "stream",
     "text": [
      "pygame 1.9.6\n",
      "Hello from the pygame community. https://www.pygame.org/contribute.html\n"
     ]
    }
   ],
   "source": [
    "from isaac.visualization import make_frame_curried\n",
    "import moviepy.editor as mpy\n",
    "from scipy import misc\n",
    "\n",
    "\n",
    "def make_clip(trial_data, window_second_start, solution, rnn_thinks_this_is, rnn_confidence):\n",
    "            \n",
    "    trial_data = trial_data.iloc[window_second_start*FPS:(window_second_start + SECONDS_PER_WINDOW)*FPS]\n",
    "    duration = len(trial_data)\n",
    "    n_bodies = sum([\"o\"+str(i)+\".x\" in list(trial_data.columns) for i in range(1, 5)])\n",
    "    \n",
    "    while (len(trial_data) + 1) % 60 != 0:\n",
    "        trial_data = trial_data.append(trial_data.iloc[-1], ignore_index=True)\n",
    "        \n",
    "    make_frame = make_frame_curried(trial_data, n_bodies, None, None)\n",
    "    clip = mpy.VideoClip(make_frame, duration=duration / 60)\n",
    "    return clip, trial_data"
   ]
  },
  {
   "cell_type": "code",
   "execution_count": 17,
   "metadata": {},
   "outputs": [],
   "source": [
    "%load_ext autoreload\n",
    "%autoreload 2"
   ]
  },
  {
   "cell_type": "markdown",
   "metadata": {},
   "source": [
    "# Create videos for comparing evidence seen by RNN and by IO"
   ]
  },
  {
   "cell_type": "code",
   "execution_count": 18,
   "metadata": {
    "scrolled": true
   },
   "outputs": [],
   "source": [
    "import os\n",
    "import json\n",
    "\n",
    "OBVIOUS_DATA_PATH = \"cogsci_images/obvious_videos/obvious_%s\" % model_name\n",
    "os.makedirs(OBVIOUS_DATA_PATH, exist_ok=True)\n",
    "FILENAME = \"obvious_%s_interval_in_trial_%d_sec_%d_to_%d_rnn_thinks_%s__prob_%.4f\"\n",
    "VIDEO_PATH = os.path.join(OBVIOUS_DATA_PATH, FILENAME + \".mp4\")\n",
    "JSON_PATH = os.path.join(OBVIOUS_DATA_PATH, \"obvious_\"+model_name+\"_%s_physics_data.json\")\n",
    "JSON_DATA = []\n",
    "\n",
    "\n",
    "def write_obvious_intervals(confused_df, question_type, solution):\n",
    "\n",
    "    replays = read_dataset(\"../new_exp_data/exp7_passive.h5\")\n",
    "    written_replays = {}\n",
    "    number_of_written_replays = 0\n",
    "    \n",
    "    \n",
    "    confused_df = confused_df.query(\"solution == '%s'\" % solution).copy()\n",
    "\n",
    "    for row_i in range(confused_df.shape[0]):\n",
    "\n",
    "        window_second_start, trial_number, solution, rnn_preferred_option, rnn_preferred_option_probability, rnn_solution_probability = (\n",
    "            confused_df.iloc[row_i][[\"window_second_start\", \"trial_number\", \"solution\", \"rnn_preferred_option\",\n",
    "                                     \"rnn_preferred_option_probability\", \"rnn_solution_probability\"]])\n",
    "\n",
    "        print(\"RNN thinks the interval (%d, %d) in trial %d is %s with %.4f confidence\" % (\n",
    "            window_second_start, window_second_start + SECONDS_PER_WINDOW, trial_number,\n",
    "            rnn_preferred_option, rnn_preferred_option_probability))\n",
    "\n",
    "        if trial_number in written_replays:\n",
    "            overlapping_replay = False\n",
    "            for already_written_window_start in written_replays[trial_number]:\n",
    "                if abs(already_written_window_start - window_second_start) <= 5:\n",
    "                    overlapping_replay = True\n",
    "                    break\n",
    "            if overlapping_replay:\n",
    "                print(\"Skipping trial %d and start %d\" % (trial_number, window_second_start))\n",
    "                continue\n",
    "\n",
    "        written_replays[trial_number] = written_replays.get(trial_number, []) + [window_second_start]\n",
    "        clip, trial_data = make_clip(replays[trial_number], window_second_start, solution, rnn_preferred_option, rnn_preferred_option_probability)\n",
    "        clip.ipython_display(fps=60)\n",
    "        clip.write_videofile(VIDEO_PATH % (\n",
    "            question_type, trial_number, window_second_start, window_second_start+SECONDS_PER_WINDOW,\n",
    "            rnn_preferred_option, rnn_preferred_option_probability), fps=60)\n",
    "\n",
    "        trial_data = trial_data.to_dict(orient='list')\n",
    "        # Simplify attributes whose values are unique throughout the list\n",
    "        for key in [\"trial_type\", \"condition_world_variant\", \"tM\", \"tR\", \"world_id\"]:\n",
    "            trial_data[key] = trial_data[key][0]\n",
    "        JSON_DATA.append(trial_data)\n",
    "\n",
    "        number_of_written_replays += 1\n",
    "        if number_of_written_replays == 5:\n",
    "            break\n",
    "    \n",
    "    print(number_of_written_replays)"
   ]
  },
  {
   "cell_type": "code",
   "execution_count": 19,
   "metadata": {},
   "outputs": [
    {
     "name": "stdout",
     "output_type": "stream",
     "text": [
      "RNN thinks the interval (18, 23) in trial 2 is attract with 0.9913 confidence\n"
     ]
    },
    {
     "name": "stderr",
     "output_type": "stream",
     "text": [
      "100%|█████████▉| 300/301 [00:02<00:00, 116.20it/s]"
     ]
    },
    {
     "name": "stdout",
     "output_type": "stream",
     "text": [
      "[MoviePy] >>>> Building video cogsci_images/obvious_videos/obvious_xy_vxvy/obvious_force_interval_in_trial_2_sec_18_to_23_rnn_thinks_attract__prob_0.9913.mp4\n",
      "[MoviePy] Writing video cogsci_images/obvious_videos/obvious_xy_vxvy/obvious_force_interval_in_trial_2_sec_18_to_23_rnn_thinks_attract__prob_0.9913.mp4\n"
     ]
    },
    {
     "name": "stderr",
     "output_type": "stream",
     "text": [
      "\n",
      "100%|█████████▉| 300/301 [00:02<00:00, 126.94it/s]"
     ]
    },
    {
     "name": "stdout",
     "output_type": "stream",
     "text": [
      "[MoviePy] Done.\n",
      "[MoviePy] >>>> Video ready: cogsci_images/obvious_videos/obvious_xy_vxvy/obvious_force_interval_in_trial_2_sec_18_to_23_rnn_thinks_attract__prob_0.9913.mp4 \n",
      "\n"
     ]
    },
    {
     "name": "stderr",
     "output_type": "stream",
     "text": [
      "\n"
     ]
    },
    {
     "name": "stdout",
     "output_type": "stream",
     "text": [
      "RNN thinks the interval (17, 22) in trial 2 is attract with 0.9877 confidence\n",
      "Skipping trial 2 and start 17\n",
      "RNN thinks the interval (20, 25) in trial 2 is attract with 0.9875 confidence\n",
      "Skipping trial 2 and start 20\n",
      "RNN thinks the interval (26, 31) in trial 19 is attract with 0.9858 confidence\n"
     ]
    },
    {
     "name": "stderr",
     "output_type": "stream",
     "text": [
      "100%|█████████▉| 300/301 [00:02<00:00, 129.87it/s]"
     ]
    },
    {
     "name": "stdout",
     "output_type": "stream",
     "text": [
      "[MoviePy] >>>> Building video cogsci_images/obvious_videos/obvious_xy_vxvy/obvious_force_interval_in_trial_19_sec_26_to_31_rnn_thinks_attract__prob_0.9858.mp4\n",
      "[MoviePy] Writing video cogsci_images/obvious_videos/obvious_xy_vxvy/obvious_force_interval_in_trial_19_sec_26_to_31_rnn_thinks_attract__prob_0.9858.mp4\n"
     ]
    },
    {
     "name": "stderr",
     "output_type": "stream",
     "text": [
      "\n",
      "100%|█████████▉| 300/301 [00:02<00:00, 126.35it/s]"
     ]
    },
    {
     "name": "stdout",
     "output_type": "stream",
     "text": [
      "[MoviePy] Done.\n",
      "[MoviePy] >>>> Video ready: cogsci_images/obvious_videos/obvious_xy_vxvy/obvious_force_interval_in_trial_19_sec_26_to_31_rnn_thinks_attract__prob_0.9858.mp4 \n",
      "\n"
     ]
    },
    {
     "name": "stderr",
     "output_type": "stream",
     "text": [
      "\n"
     ]
    },
    {
     "name": "stdout",
     "output_type": "stream",
     "text": [
      "RNN thinks the interval (27, 32) in trial 18 is attract with 0.9845 confidence\n"
     ]
    },
    {
     "name": "stderr",
     "output_type": "stream",
     "text": [
      "100%|█████████▉| 300/301 [00:02<00:00, 130.06it/s]"
     ]
    },
    {
     "name": "stdout",
     "output_type": "stream",
     "text": [
      "[MoviePy] >>>> Building video cogsci_images/obvious_videos/obvious_xy_vxvy/obvious_force_interval_in_trial_18_sec_27_to_32_rnn_thinks_attract__prob_0.9845.mp4\n",
      "[MoviePy] Writing video cogsci_images/obvious_videos/obvious_xy_vxvy/obvious_force_interval_in_trial_18_sec_27_to_32_rnn_thinks_attract__prob_0.9845.mp4\n"
     ]
    },
    {
     "name": "stderr",
     "output_type": "stream",
     "text": [
      "\n",
      "100%|█████████▉| 300/301 [00:02<00:00, 128.32it/s]"
     ]
    },
    {
     "name": "stdout",
     "output_type": "stream",
     "text": [
      "[MoviePy] Done.\n",
      "[MoviePy] >>>> Video ready: cogsci_images/obvious_videos/obvious_xy_vxvy/obvious_force_interval_in_trial_18_sec_27_to_32_rnn_thinks_attract__prob_0.9845.mp4 \n",
      "\n"
     ]
    },
    {
     "name": "stderr",
     "output_type": "stream",
     "text": [
      "\n"
     ]
    },
    {
     "name": "stdout",
     "output_type": "stream",
     "text": [
      "RNN thinks the interval (19, 24) in trial 2 is attract with 0.9837 confidence\n",
      "Skipping trial 2 and start 19\n",
      "RNN thinks the interval (30, 35) in trial 19 is attract with 0.9830 confidence\n",
      "Skipping trial 19 and start 30\n",
      "RNN thinks the interval (25, 30) in trial 19 is attract with 0.9820 confidence\n",
      "Skipping trial 19 and start 25\n",
      "RNN thinks the interval (24, 29) in trial 19 is attract with 0.9815 confidence\n",
      "Skipping trial 19 and start 24\n",
      "RNN thinks the interval (28, 33) in trial 19 is attract with 0.9810 confidence\n",
      "Skipping trial 19 and start 28\n",
      "RNN thinks the interval (30, 35) in trial 18 is attract with 0.9806 confidence\n",
      "Skipping trial 18 and start 30\n",
      "RNN thinks the interval (29, 34) in trial 18 is attract with 0.9800 confidence\n",
      "Skipping trial 18 and start 29\n",
      "RNN thinks the interval (32, 37) in trial 18 is attract with 0.9765 confidence\n",
      "Skipping trial 18 and start 32\n",
      "RNN thinks the interval (31, 36) in trial 18 is attract with 0.9732 confidence\n",
      "Skipping trial 18 and start 31\n",
      "RNN thinks the interval (27, 32) in trial 19 is attract with 0.9732 confidence\n",
      "Skipping trial 19 and start 27\n",
      "RNN thinks the interval (25, 30) in trial 18 is attract with 0.9708 confidence\n",
      "Skipping trial 18 and start 25\n",
      "RNN thinks the interval (26, 31) in trial 18 is attract with 0.9664 confidence\n",
      "Skipping trial 18 and start 26\n",
      "RNN thinks the interval (26, 31) in trial 11 is attract with 0.9655 confidence\n"
     ]
    },
    {
     "name": "stderr",
     "output_type": "stream",
     "text": [
      "100%|█████████▉| 300/301 [00:02<00:00, 129.36it/s]\n"
     ]
    },
    {
     "name": "stdout",
     "output_type": "stream",
     "text": [
      "[MoviePy] >>>> Building video cogsci_images/obvious_videos/obvious_xy_vxvy/obvious_force_interval_in_trial_11_sec_26_to_31_rnn_thinks_attract__prob_0.9655.mp4\n",
      "[MoviePy] Writing video cogsci_images/obvious_videos/obvious_xy_vxvy/obvious_force_interval_in_trial_11_sec_26_to_31_rnn_thinks_attract__prob_0.9655.mp4\n"
     ]
    },
    {
     "name": "stderr",
     "output_type": "stream",
     "text": [
      "100%|█████████▉| 300/301 [00:02<00:00, 128.06it/s]"
     ]
    },
    {
     "name": "stdout",
     "output_type": "stream",
     "text": [
      "[MoviePy] Done.\n",
      "[MoviePy] >>>> Video ready: cogsci_images/obvious_videos/obvious_xy_vxvy/obvious_force_interval_in_trial_11_sec_26_to_31_rnn_thinks_attract__prob_0.9655.mp4 \n",
      "\n"
     ]
    },
    {
     "name": "stderr",
     "output_type": "stream",
     "text": [
      "\n"
     ]
    },
    {
     "name": "stdout",
     "output_type": "stream",
     "text": [
      "RNN thinks the interval (29, 34) in trial 19 is attract with 0.9652 confidence\n",
      "Skipping trial 19 and start 29\n",
      "RNN thinks the interval (16, 21) in trial 2 is attract with 0.9647 confidence\n",
      "Skipping trial 2 and start 16\n",
      "RNN thinks the interval (23, 28) in trial 19 is attract with 0.9639 confidence\n",
      "Skipping trial 19 and start 23\n",
      "RNN thinks the interval (19, 24) in trial 11 is attract with 0.9637 confidence\n"
     ]
    },
    {
     "name": "stderr",
     "output_type": "stream",
     "text": [
      "100%|█████████▉| 300/301 [00:02<00:00, 118.18it/s]"
     ]
    },
    {
     "name": "stdout",
     "output_type": "stream",
     "text": [
      "[MoviePy] >>>> Building video cogsci_images/obvious_videos/obvious_xy_vxvy/obvious_force_interval_in_trial_11_sec_19_to_24_rnn_thinks_attract__prob_0.9637.mp4\n",
      "[MoviePy] Writing video cogsci_images/obvious_videos/obvious_xy_vxvy/obvious_force_interval_in_trial_11_sec_19_to_24_rnn_thinks_attract__prob_0.9637.mp4\n"
     ]
    },
    {
     "name": "stderr",
     "output_type": "stream",
     "text": [
      "\n",
      "100%|█████████▉| 300/301 [00:02<00:00, 126.60it/s]\n"
     ]
    },
    {
     "name": "stdout",
     "output_type": "stream",
     "text": [
      "[MoviePy] Done.\n",
      "[MoviePy] >>>> Video ready: cogsci_images/obvious_videos/obvious_xy_vxvy/obvious_force_interval_in_trial_11_sec_19_to_24_rnn_thinks_attract__prob_0.9637.mp4 \n",
      "\n",
      "5\n",
      "RNN thinks the interval (19, 24) in trial 8 is repel with 0.6346 confidence\n"
     ]
    },
    {
     "name": "stderr",
     "output_type": "stream",
     "text": [
      "100%|█████████▉| 300/301 [00:02<00:00, 131.78it/s]\n"
     ]
    },
    {
     "name": "stdout",
     "output_type": "stream",
     "text": [
      "[MoviePy] >>>> Building video cogsci_images/obvious_videos/obvious_xy_vxvy/obvious_force_interval_in_trial_8_sec_19_to_24_rnn_thinks_repel__prob_0.6346.mp4\n",
      "[MoviePy] Writing video cogsci_images/obvious_videos/obvious_xy_vxvy/obvious_force_interval_in_trial_8_sec_19_to_24_rnn_thinks_repel__prob_0.6346.mp4\n"
     ]
    },
    {
     "name": "stderr",
     "output_type": "stream",
     "text": [
      "100%|█████████▉| 300/301 [00:02<00:00, 129.98it/s]"
     ]
    },
    {
     "name": "stdout",
     "output_type": "stream",
     "text": [
      "[MoviePy] Done.\n",
      "[MoviePy] >>>> Video ready: cogsci_images/obvious_videos/obvious_xy_vxvy/obvious_force_interval_in_trial_8_sec_19_to_24_rnn_thinks_repel__prob_0.6346.mp4 \n",
      "\n"
     ]
    },
    {
     "name": "stderr",
     "output_type": "stream",
     "text": [
      "\n"
     ]
    },
    {
     "name": "stdout",
     "output_type": "stream",
     "text": [
      "RNN thinks the interval (31, 36) in trial 17 is repel with 0.6309 confidence\n"
     ]
    },
    {
     "name": "stderr",
     "output_type": "stream",
     "text": [
      "100%|█████████▉| 300/301 [00:02<00:00, 132.44it/s]\n"
     ]
    },
    {
     "name": "stdout",
     "output_type": "stream",
     "text": [
      "[MoviePy] >>>> Building video cogsci_images/obvious_videos/obvious_xy_vxvy/obvious_force_interval_in_trial_17_sec_31_to_36_rnn_thinks_repel__prob_0.6309.mp4\n",
      "[MoviePy] Writing video cogsci_images/obvious_videos/obvious_xy_vxvy/obvious_force_interval_in_trial_17_sec_31_to_36_rnn_thinks_repel__prob_0.6309.mp4\n"
     ]
    },
    {
     "name": "stderr",
     "output_type": "stream",
     "text": [
      "100%|█████████▉| 300/301 [00:02<00:00, 122.02it/s]"
     ]
    },
    {
     "name": "stdout",
     "output_type": "stream",
     "text": [
      "[MoviePy] Done.\n",
      "[MoviePy] >>>> Video ready: cogsci_images/obvious_videos/obvious_xy_vxvy/obvious_force_interval_in_trial_17_sec_31_to_36_rnn_thinks_repel__prob_0.6309.mp4 \n",
      "\n"
     ]
    },
    {
     "name": "stderr",
     "output_type": "stream",
     "text": [
      "\n"
     ]
    },
    {
     "name": "stdout",
     "output_type": "stream",
     "text": [
      "RNN thinks the interval (32, 37) in trial 8 is repel with 0.6308 confidence\n"
     ]
    },
    {
     "name": "stderr",
     "output_type": "stream",
     "text": [
      "100%|█████████▉| 300/301 [00:02<00:00, 131.18it/s]\n"
     ]
    },
    {
     "name": "stdout",
     "output_type": "stream",
     "text": [
      "[MoviePy] >>>> Building video cogsci_images/obvious_videos/obvious_xy_vxvy/obvious_force_interval_in_trial_8_sec_32_to_37_rnn_thinks_repel__prob_0.6308.mp4\n",
      "[MoviePy] Writing video cogsci_images/obvious_videos/obvious_xy_vxvy/obvious_force_interval_in_trial_8_sec_32_to_37_rnn_thinks_repel__prob_0.6308.mp4\n"
     ]
    },
    {
     "name": "stderr",
     "output_type": "stream",
     "text": [
      "100%|█████████▉| 300/301 [00:02<00:00, 123.40it/s]"
     ]
    },
    {
     "name": "stdout",
     "output_type": "stream",
     "text": [
      "[MoviePy] Done.\n",
      "[MoviePy] >>>> Video ready: cogsci_images/obvious_videos/obvious_xy_vxvy/obvious_force_interval_in_trial_8_sec_32_to_37_rnn_thinks_repel__prob_0.6308.mp4 \n",
      "\n"
     ]
    },
    {
     "name": "stderr",
     "output_type": "stream",
     "text": [
      "\n"
     ]
    },
    {
     "name": "stdout",
     "output_type": "stream",
     "text": [
      "RNN thinks the interval (15, 20) in trial 8 is repel with 0.6303 confidence\n",
      "Skipping trial 8 and start 15\n",
      "RNN thinks the interval (15, 20) in trial 25 is repel with 0.6216 confidence\n"
     ]
    },
    {
     "name": "stderr",
     "output_type": "stream",
     "text": [
      "100%|█████████▉| 300/301 [00:02<00:00, 115.88it/s]"
     ]
    },
    {
     "name": "stdout",
     "output_type": "stream",
     "text": [
      "[MoviePy] >>>> Building video cogsci_images/obvious_videos/obvious_xy_vxvy/obvious_force_interval_in_trial_25_sec_15_to_20_rnn_thinks_repel__prob_0.6216.mp4\n",
      "[MoviePy] Writing video cogsci_images/obvious_videos/obvious_xy_vxvy/obvious_force_interval_in_trial_25_sec_15_to_20_rnn_thinks_repel__prob_0.6216.mp4\n"
     ]
    },
    {
     "name": "stderr",
     "output_type": "stream",
     "text": [
      "\n",
      "100%|█████████▉| 300/301 [00:02<00:00, 128.15it/s]"
     ]
    },
    {
     "name": "stdout",
     "output_type": "stream",
     "text": [
      "[MoviePy] Done.\n",
      "[MoviePy] >>>> Video ready: cogsci_images/obvious_videos/obvious_xy_vxvy/obvious_force_interval_in_trial_25_sec_15_to_20_rnn_thinks_repel__prob_0.6216.mp4 \n",
      "\n"
     ]
    },
    {
     "name": "stderr",
     "output_type": "stream",
     "text": [
      "\n"
     ]
    },
    {
     "name": "stdout",
     "output_type": "stream",
     "text": [
      "RNN thinks the interval (11, 16) in trial 6 is repel with 0.6210 confidence\n"
     ]
    },
    {
     "name": "stderr",
     "output_type": "stream",
     "text": [
      "100%|█████████▉| 300/301 [00:02<00:00, 130.48it/s]"
     ]
    },
    {
     "name": "stdout",
     "output_type": "stream",
     "text": [
      "[MoviePy] >>>> Building video cogsci_images/obvious_videos/obvious_xy_vxvy/obvious_force_interval_in_trial_6_sec_11_to_16_rnn_thinks_repel__prob_0.6210.mp4\n",
      "[MoviePy] Writing video cogsci_images/obvious_videos/obvious_xy_vxvy/obvious_force_interval_in_trial_6_sec_11_to_16_rnn_thinks_repel__prob_0.6210.mp4\n"
     ]
    },
    {
     "name": "stderr",
     "output_type": "stream",
     "text": [
      "\n",
      "100%|█████████▉| 300/301 [00:02<00:00, 128.07it/s]"
     ]
    },
    {
     "name": "stdout",
     "output_type": "stream",
     "text": [
      "[MoviePy] Done.\n",
      "[MoviePy] >>>> Video ready: cogsci_images/obvious_videos/obvious_xy_vxvy/obvious_force_interval_in_trial_6_sec_11_to_16_rnn_thinks_repel__prob_0.6210.mp4 \n",
      "\n"
     ]
    },
    {
     "name": "stderr",
     "output_type": "stream",
     "text": [
      "\n"
     ]
    },
    {
     "name": "stdout",
     "output_type": "stream",
     "text": [
      "5\n",
      "RNN thinks the interval (19, 24) in trial 31 is none with 0.9157 confidence\n"
     ]
    },
    {
     "name": "stderr",
     "output_type": "stream",
     "text": [
      "100%|█████████▉| 300/301 [00:02<00:00, 131.43it/s]\n"
     ]
    },
    {
     "name": "stdout",
     "output_type": "stream",
     "text": [
      "[MoviePy] >>>> Building video cogsci_images/obvious_videos/obvious_xy_vxvy/obvious_force_interval_in_trial_31_sec_19_to_24_rnn_thinks_none__prob_0.9157.mp4\n",
      "[MoviePy] Writing video cogsci_images/obvious_videos/obvious_xy_vxvy/obvious_force_interval_in_trial_31_sec_19_to_24_rnn_thinks_none__prob_0.9157.mp4\n"
     ]
    },
    {
     "name": "stderr",
     "output_type": "stream",
     "text": [
      "100%|█████████▉| 300/301 [00:02<00:00, 129.11it/s]"
     ]
    },
    {
     "name": "stdout",
     "output_type": "stream",
     "text": [
      "[MoviePy] Done.\n",
      "[MoviePy] >>>> Video ready: cogsci_images/obvious_videos/obvious_xy_vxvy/obvious_force_interval_in_trial_31_sec_19_to_24_rnn_thinks_none__prob_0.9157.mp4 \n",
      "\n"
     ]
    },
    {
     "name": "stderr",
     "output_type": "stream",
     "text": [
      "\n"
     ]
    },
    {
     "name": "stdout",
     "output_type": "stream",
     "text": [
      "RNN thinks the interval (24, 29) in trial 3 is none with 0.8955 confidence\n"
     ]
    },
    {
     "name": "stderr",
     "output_type": "stream",
     "text": [
      "100%|█████████▉| 300/301 [00:02<00:00, 131.06it/s]"
     ]
    },
    {
     "name": "stdout",
     "output_type": "stream",
     "text": [
      "[MoviePy] >>>> Building video cogsci_images/obvious_videos/obvious_xy_vxvy/obvious_force_interval_in_trial_3_sec_24_to_29_rnn_thinks_none__prob_0.8955.mp4\n",
      "[MoviePy] Writing video cogsci_images/obvious_videos/obvious_xy_vxvy/obvious_force_interval_in_trial_3_sec_24_to_29_rnn_thinks_none__prob_0.8955.mp4\n"
     ]
    },
    {
     "name": "stderr",
     "output_type": "stream",
     "text": [
      "\n",
      "100%|█████████▉| 300/301 [00:02<00:00, 123.93it/s]\n"
     ]
    },
    {
     "name": "stdout",
     "output_type": "stream",
     "text": [
      "[MoviePy] Done.\n",
      "[MoviePy] >>>> Video ready: cogsci_images/obvious_videos/obvious_xy_vxvy/obvious_force_interval_in_trial_3_sec_24_to_29_rnn_thinks_none__prob_0.8955.mp4 \n",
      "\n",
      "RNN thinks the interval (20, 25) in trial 31 is none with 0.8892 confidence\n",
      "Skipping trial 31 and start 20\n",
      "RNN thinks the interval (25, 30) in trial 3 is none with 0.8885 confidence\n",
      "Skipping trial 3 and start 25\n",
      "RNN thinks the interval (26, 31) in trial 3 is none with 0.8561 confidence\n",
      "Skipping trial 3 and start 26\n",
      "RNN thinks the interval (34, 39) in trial 31 is none with 0.8551 confidence\n"
     ]
    },
    {
     "name": "stderr",
     "output_type": "stream",
     "text": [
      "100%|█████████▉| 300/301 [00:02<00:00, 121.25it/s]"
     ]
    },
    {
     "name": "stdout",
     "output_type": "stream",
     "text": [
      "[MoviePy] >>>> Building video cogsci_images/obvious_videos/obvious_xy_vxvy/obvious_force_interval_in_trial_31_sec_34_to_39_rnn_thinks_none__prob_0.8551.mp4\n",
      "[MoviePy] Writing video cogsci_images/obvious_videos/obvious_xy_vxvy/obvious_force_interval_in_trial_31_sec_34_to_39_rnn_thinks_none__prob_0.8551.mp4\n"
     ]
    },
    {
     "name": "stderr",
     "output_type": "stream",
     "text": [
      "\n",
      "100%|█████████▉| 300/301 [00:02<00:00, 127.28it/s]"
     ]
    },
    {
     "name": "stdout",
     "output_type": "stream",
     "text": [
      "[MoviePy] Done.\n"
     ]
    },
    {
     "name": "stderr",
     "output_type": "stream",
     "text": [
      "\n"
     ]
    },
    {
     "name": "stdout",
     "output_type": "stream",
     "text": [
      "[MoviePy] >>>> Video ready: cogsci_images/obvious_videos/obvious_xy_vxvy/obvious_force_interval_in_trial_31_sec_34_to_39_rnn_thinks_none__prob_0.8551.mp4 \n",
      "\n",
      "RNN thinks the interval (19, 24) in trial 3 is none with 0.8520 confidence\n",
      "Skipping trial 3 and start 19\n",
      "RNN thinks the interval (18, 23) in trial 3 is none with 0.8496 confidence\n"
     ]
    },
    {
     "name": "stderr",
     "output_type": "stream",
     "text": [
      "100%|█████████▉| 300/301 [00:02<00:00, 132.34it/s]\n"
     ]
    },
    {
     "name": "stdout",
     "output_type": "stream",
     "text": [
      "[MoviePy] >>>> Building video cogsci_images/obvious_videos/obvious_xy_vxvy/obvious_force_interval_in_trial_3_sec_18_to_23_rnn_thinks_none__prob_0.8496.mp4\n",
      "[MoviePy] Writing video cogsci_images/obvious_videos/obvious_xy_vxvy/obvious_force_interval_in_trial_3_sec_18_to_23_rnn_thinks_none__prob_0.8496.mp4\n"
     ]
    },
    {
     "name": "stderr",
     "output_type": "stream",
     "text": [
      "100%|█████████▉| 300/301 [00:02<00:00, 126.64it/s]\n"
     ]
    },
    {
     "name": "stdout",
     "output_type": "stream",
     "text": [
      "[MoviePy] Done.\n",
      "[MoviePy] >>>> Video ready: cogsci_images/obvious_videos/obvious_xy_vxvy/obvious_force_interval_in_trial_3_sec_18_to_23_rnn_thinks_none__prob_0.8496.mp4 \n",
      "\n",
      "RNN thinks the interval (40, 45) in trial 31 is none with 0.8402 confidence\n"
     ]
    },
    {
     "name": "stderr",
     "output_type": "stream",
     "text": [
      "100%|█████████▉| 300/301 [00:02<00:00, 128.47it/s]"
     ]
    },
    {
     "name": "stdout",
     "output_type": "stream",
     "text": [
      "[MoviePy] >>>> Building video cogsci_images/obvious_videos/obvious_xy_vxvy/obvious_force_interval_in_trial_31_sec_40_to_45_rnn_thinks_none__prob_0.8402.mp4\n",
      "[MoviePy] Writing video cogsci_images/obvious_videos/obvious_xy_vxvy/obvious_force_interval_in_trial_31_sec_40_to_45_rnn_thinks_none__prob_0.8402.mp4\n"
     ]
    },
    {
     "name": "stderr",
     "output_type": "stream",
     "text": [
      "\n",
      "100%|█████████▉| 300/301 [00:02<00:00, 125.99it/s]\n"
     ]
    },
    {
     "name": "stdout",
     "output_type": "stream",
     "text": [
      "[MoviePy] Done.\n",
      "[MoviePy] >>>> Video ready: cogsci_images/obvious_videos/obvious_xy_vxvy/obvious_force_interval_in_trial_31_sec_40_to_45_rnn_thinks_none__prob_0.8402.mp4 \n",
      "\n",
      "5\n"
     ]
    }
   ],
   "source": [
    "write_obvious_intervals(obvious_force_dfs, \"force\", \"attract\")\n",
    "write_obvious_intervals(obvious_force_dfs, \"force\", \"repel\")\n",
    "write_obvious_intervals(obvious_force_dfs, \"force\", \"none\")\n",
    "\n",
    "with open(JSON_PATH % \"force\", \"w+\") as f: \n",
    "    json.dump(JSON_DATA, f)"
   ]
  },
  {
   "cell_type": "code",
   "execution_count": 20,
   "metadata": {},
   "outputs": [
    {
     "name": "stdout",
     "output_type": "stream",
     "text": [
      "RNN thinks the interval (22, 27) in trial 7 is A with 0.7588 confidence\n"
     ]
    },
    {
     "name": "stderr",
     "output_type": "stream",
     "text": [
      "100%|█████████▉| 300/301 [00:02<00:00, 130.40it/s]"
     ]
    },
    {
     "name": "stdout",
     "output_type": "stream",
     "text": [
      "[MoviePy] >>>> Building video cogsci_images/obvious_videos/obvious_xy_vxvy/obvious_mass_interval_in_trial_7_sec_22_to_27_rnn_thinks_A__prob_0.7588.mp4\n",
      "[MoviePy] Writing video cogsci_images/obvious_videos/obvious_xy_vxvy/obvious_mass_interval_in_trial_7_sec_22_to_27_rnn_thinks_A__prob_0.7588.mp4\n"
     ]
    },
    {
     "name": "stderr",
     "output_type": "stream",
     "text": [
      "\n",
      "100%|█████████▉| 300/301 [00:02<00:00, 119.70it/s]"
     ]
    },
    {
     "name": "stdout",
     "output_type": "stream",
     "text": [
      "[MoviePy] Done.\n",
      "[MoviePy] >>>> Video ready: cogsci_images/obvious_videos/obvious_xy_vxvy/obvious_mass_interval_in_trial_7_sec_22_to_27_rnn_thinks_A__prob_0.7588.mp4 \n",
      "\n"
     ]
    },
    {
     "name": "stderr",
     "output_type": "stream",
     "text": [
      "\n"
     ]
    },
    {
     "name": "stdout",
     "output_type": "stream",
     "text": [
      "RNN thinks the interval (7, 12) in trial 10 is A with 0.7584 confidence\n"
     ]
    },
    {
     "name": "stderr",
     "output_type": "stream",
     "text": [
      "100%|█████████▉| 300/301 [00:02<00:00, 126.74it/s]"
     ]
    },
    {
     "name": "stdout",
     "output_type": "stream",
     "text": [
      "[MoviePy] >>>> Building video cogsci_images/obvious_videos/obvious_xy_vxvy/obvious_mass_interval_in_trial_10_sec_7_to_12_rnn_thinks_A__prob_0.7584.mp4\n",
      "[MoviePy] Writing video cogsci_images/obvious_videos/obvious_xy_vxvy/obvious_mass_interval_in_trial_10_sec_7_to_12_rnn_thinks_A__prob_0.7584.mp4\n"
     ]
    },
    {
     "name": "stderr",
     "output_type": "stream",
     "text": [
      "\n",
      "100%|█████████▉| 300/301 [00:02<00:00, 123.82it/s]"
     ]
    },
    {
     "name": "stdout",
     "output_type": "stream",
     "text": [
      "[MoviePy] Done.\n",
      "[MoviePy] >>>> Video ready: cogsci_images/obvious_videos/obvious_xy_vxvy/obvious_mass_interval_in_trial_10_sec_7_to_12_rnn_thinks_A__prob_0.7584.mp4 \n",
      "\n"
     ]
    },
    {
     "name": "stderr",
     "output_type": "stream",
     "text": [
      "\n"
     ]
    },
    {
     "name": "stdout",
     "output_type": "stream",
     "text": [
      "RNN thinks the interval (24, 29) in trial 7 is A with 0.7521 confidence\n",
      "Skipping trial 7 and start 24\n",
      "RNN thinks the interval (39, 44) in trial 19 is A with 0.7447 confidence\n"
     ]
    },
    {
     "name": "stderr",
     "output_type": "stream",
     "text": [
      "100%|█████████▉| 300/301 [00:02<00:00, 130.35it/s]"
     ]
    },
    {
     "name": "stdout",
     "output_type": "stream",
     "text": [
      "[MoviePy] >>>> Building video cogsci_images/obvious_videos/obvious_xy_vxvy/obvious_mass_interval_in_trial_19_sec_39_to_44_rnn_thinks_A__prob_0.7447.mp4\n",
      "[MoviePy] Writing video cogsci_images/obvious_videos/obvious_xy_vxvy/obvious_mass_interval_in_trial_19_sec_39_to_44_rnn_thinks_A__prob_0.7447.mp4\n"
     ]
    },
    {
     "name": "stderr",
     "output_type": "stream",
     "text": [
      "\n",
      "100%|█████████▉| 300/301 [00:02<00:00, 126.56it/s]\n"
     ]
    },
    {
     "name": "stdout",
     "output_type": "stream",
     "text": [
      "[MoviePy] Done.\n",
      "[MoviePy] >>>> Video ready: cogsci_images/obvious_videos/obvious_xy_vxvy/obvious_mass_interval_in_trial_19_sec_39_to_44_rnn_thinks_A__prob_0.7447.mp4 \n",
      "\n",
      "RNN thinks the interval (23, 28) in trial 7 is A with 0.7394 confidence\n",
      "Skipping trial 7 and start 23\n",
      "RNN thinks the interval (27, 32) in trial 1 is A with 0.7346 confidence\n"
     ]
    },
    {
     "name": "stderr",
     "output_type": "stream",
     "text": [
      "100%|█████████▉| 300/301 [00:02<00:00, 126.72it/s]"
     ]
    },
    {
     "name": "stdout",
     "output_type": "stream",
     "text": [
      "[MoviePy] >>>> Building video cogsci_images/obvious_videos/obvious_xy_vxvy/obvious_mass_interval_in_trial_1_sec_27_to_32_rnn_thinks_A__prob_0.7346.mp4\n",
      "[MoviePy] Writing video cogsci_images/obvious_videos/obvious_xy_vxvy/obvious_mass_interval_in_trial_1_sec_27_to_32_rnn_thinks_A__prob_0.7346.mp4\n"
     ]
    },
    {
     "name": "stderr",
     "output_type": "stream",
     "text": [
      "\n",
      "100%|█████████▉| 300/301 [00:02<00:00, 119.60it/s]\n"
     ]
    },
    {
     "name": "stdout",
     "output_type": "stream",
     "text": [
      "[MoviePy] Done.\n",
      "[MoviePy] >>>> Video ready: cogsci_images/obvious_videos/obvious_xy_vxvy/obvious_mass_interval_in_trial_1_sec_27_to_32_rnn_thinks_A__prob_0.7346.mp4 \n",
      "\n",
      "RNN thinks the interval (5, 10) in trial 34 is A with 0.7323 confidence\n"
     ]
    },
    {
     "name": "stderr",
     "output_type": "stream",
     "text": [
      "100%|█████████▉| 300/301 [00:02<00:00, 130.24it/s]"
     ]
    },
    {
     "name": "stdout",
     "output_type": "stream",
     "text": [
      "[MoviePy] >>>> Building video cogsci_images/obvious_videos/obvious_xy_vxvy/obvious_mass_interval_in_trial_34_sec_5_to_10_rnn_thinks_A__prob_0.7323.mp4\n",
      "[MoviePy] Writing video cogsci_images/obvious_videos/obvious_xy_vxvy/obvious_mass_interval_in_trial_34_sec_5_to_10_rnn_thinks_A__prob_0.7323.mp4\n"
     ]
    },
    {
     "name": "stderr",
     "output_type": "stream",
     "text": [
      "\n",
      "100%|█████████▉| 300/301 [00:02<00:00, 113.19it/s]"
     ]
    },
    {
     "name": "stdout",
     "output_type": "stream",
     "text": [
      "[MoviePy] Done.\n",
      "[MoviePy] >>>> Video ready: cogsci_images/obvious_videos/obvious_xy_vxvy/obvious_mass_interval_in_trial_34_sec_5_to_10_rnn_thinks_A__prob_0.7323.mp4 \n",
      "\n"
     ]
    },
    {
     "name": "stderr",
     "output_type": "stream",
     "text": [
      "\n"
     ]
    },
    {
     "name": "stdout",
     "output_type": "stream",
     "text": [
      "5\n",
      "RNN thinks the interval (7, 12) in trial 35 is B with 0.7173 confidence\n"
     ]
    },
    {
     "name": "stderr",
     "output_type": "stream",
     "text": [
      "100%|█████████▉| 300/301 [00:02<00:00, 127.98it/s]"
     ]
    },
    {
     "name": "stdout",
     "output_type": "stream",
     "text": [
      "[MoviePy] >>>> Building video cogsci_images/obvious_videos/obvious_xy_vxvy/obvious_mass_interval_in_trial_35_sec_7_to_12_rnn_thinks_B__prob_0.7173.mp4\n",
      "[MoviePy] Writing video cogsci_images/obvious_videos/obvious_xy_vxvy/obvious_mass_interval_in_trial_35_sec_7_to_12_rnn_thinks_B__prob_0.7173.mp4\n"
     ]
    },
    {
     "name": "stderr",
     "output_type": "stream",
     "text": [
      "\n",
      "100%|█████████▉| 300/301 [00:02<00:00, 126.19it/s]\n"
     ]
    },
    {
     "name": "stdout",
     "output_type": "stream",
     "text": [
      "[MoviePy] Done.\n",
      "[MoviePy] >>>> Video ready: cogsci_images/obvious_videos/obvious_xy_vxvy/obvious_mass_interval_in_trial_35_sec_7_to_12_rnn_thinks_B__prob_0.7173.mp4 \n",
      "\n",
      "RNN thinks the interval (24, 29) in trial 8 is B with 0.7108 confidence\n"
     ]
    },
    {
     "name": "stderr",
     "output_type": "stream",
     "text": [
      "100%|█████████▉| 300/301 [00:02<00:00, 129.14it/s]"
     ]
    },
    {
     "name": "stdout",
     "output_type": "stream",
     "text": [
      "[MoviePy] >>>> Building video cogsci_images/obvious_videos/obvious_xy_vxvy/obvious_mass_interval_in_trial_8_sec_24_to_29_rnn_thinks_B__prob_0.7108.mp4\n",
      "[MoviePy] Writing video cogsci_images/obvious_videos/obvious_xy_vxvy/obvious_mass_interval_in_trial_8_sec_24_to_29_rnn_thinks_B__prob_0.7108.mp4\n"
     ]
    },
    {
     "name": "stderr",
     "output_type": "stream",
     "text": [
      "\n",
      "100%|█████████▉| 300/301 [00:02<00:00, 125.43it/s]\n"
     ]
    },
    {
     "name": "stdout",
     "output_type": "stream",
     "text": [
      "[MoviePy] Done.\n",
      "[MoviePy] >>>> Video ready: cogsci_images/obvious_videos/obvious_xy_vxvy/obvious_mass_interval_in_trial_8_sec_24_to_29_rnn_thinks_B__prob_0.7108.mp4 \n",
      "\n",
      "RNN thinks the interval (2, 7) in trial 5 is B with 0.7107 confidence\n"
     ]
    },
    {
     "name": "stderr",
     "output_type": "stream",
     "text": [
      "100%|█████████▉| 300/301 [00:02<00:00, 128.91it/s]"
     ]
    },
    {
     "name": "stdout",
     "output_type": "stream",
     "text": [
      "[MoviePy] >>>> Building video cogsci_images/obvious_videos/obvious_xy_vxvy/obvious_mass_interval_in_trial_5_sec_2_to_7_rnn_thinks_B__prob_0.7107.mp4\n",
      "[MoviePy] Writing video cogsci_images/obvious_videos/obvious_xy_vxvy/obvious_mass_interval_in_trial_5_sec_2_to_7_rnn_thinks_B__prob_0.7107.mp4\n"
     ]
    },
    {
     "name": "stderr",
     "output_type": "stream",
     "text": [
      "\n",
      "100%|█████████▉| 300/301 [00:02<00:00, 124.38it/s]\n"
     ]
    },
    {
     "name": "stdout",
     "output_type": "stream",
     "text": [
      "[MoviePy] Done.\n",
      "[MoviePy] >>>> Video ready: cogsci_images/obvious_videos/obvious_xy_vxvy/obvious_mass_interval_in_trial_5_sec_2_to_7_rnn_thinks_B__prob_0.7107.mp4 \n",
      "\n",
      "RNN thinks the interval (3, 8) in trial 5 is B with 0.7078 confidence\n",
      "Skipping trial 5 and start 3\n",
      "RNN thinks the interval (4, 9) in trial 5 is B with 0.7073 confidence\n",
      "Skipping trial 5 and start 4\n",
      "RNN thinks the interval (6, 11) in trial 35 is B with 0.7042 confidence\n",
      "Skipping trial 35 and start 6\n",
      "RNN thinks the interval (5, 10) in trial 5 is B with 0.6976 confidence\n",
      "Skipping trial 5 and start 5\n",
      "RNN thinks the interval (35, 40) in trial 14 is B with 0.6973 confidence\n"
     ]
    },
    {
     "name": "stderr",
     "output_type": "stream",
     "text": [
      "100%|█████████▉| 300/301 [00:02<00:00, 128.66it/s]\n"
     ]
    },
    {
     "name": "stdout",
     "output_type": "stream",
     "text": [
      "[MoviePy] >>>> Building video cogsci_images/obvious_videos/obvious_xy_vxvy/obvious_mass_interval_in_trial_14_sec_35_to_40_rnn_thinks_B__prob_0.6973.mp4\n",
      "[MoviePy] Writing video cogsci_images/obvious_videos/obvious_xy_vxvy/obvious_mass_interval_in_trial_14_sec_35_to_40_rnn_thinks_B__prob_0.6973.mp4\n"
     ]
    },
    {
     "name": "stderr",
     "output_type": "stream",
     "text": [
      "100%|█████████▉| 300/301 [00:02<00:00, 105.39it/s]"
     ]
    },
    {
     "name": "stdout",
     "output_type": "stream",
     "text": [
      "[MoviePy] Done.\n",
      "[MoviePy] >>>> Video ready: cogsci_images/obvious_videos/obvious_xy_vxvy/obvious_mass_interval_in_trial_14_sec_35_to_40_rnn_thinks_B__prob_0.6973.mp4 \n",
      "\n"
     ]
    },
    {
     "name": "stderr",
     "output_type": "stream",
     "text": [
      "\n"
     ]
    },
    {
     "name": "stdout",
     "output_type": "stream",
     "text": [
      "RNN thinks the interval (27, 32) in trial 5 is B with 0.6826 confidence\n"
     ]
    },
    {
     "name": "stderr",
     "output_type": "stream",
     "text": [
      "100%|█████████▉| 300/301 [00:02<00:00, 129.82it/s]\n"
     ]
    },
    {
     "name": "stdout",
     "output_type": "stream",
     "text": [
      "[MoviePy] >>>> Building video cogsci_images/obvious_videos/obvious_xy_vxvy/obvious_mass_interval_in_trial_5_sec_27_to_32_rnn_thinks_B__prob_0.6826.mp4\n",
      "[MoviePy] Writing video cogsci_images/obvious_videos/obvious_xy_vxvy/obvious_mass_interval_in_trial_5_sec_27_to_32_rnn_thinks_B__prob_0.6826.mp4\n"
     ]
    },
    {
     "name": "stderr",
     "output_type": "stream",
     "text": [
      "100%|█████████▉| 300/301 [00:02<00:00, 128.16it/s]"
     ]
    },
    {
     "name": "stdout",
     "output_type": "stream",
     "text": [
      "[MoviePy] Done.\n",
      "[MoviePy] >>>> Video ready: cogsci_images/obvious_videos/obvious_xy_vxvy/obvious_mass_interval_in_trial_5_sec_27_to_32_rnn_thinks_B__prob_0.6826.mp4 \n",
      "\n"
     ]
    },
    {
     "name": "stderr",
     "output_type": "stream",
     "text": [
      "\n"
     ]
    },
    {
     "name": "stdout",
     "output_type": "stream",
     "text": [
      "5\n",
      "RNN thinks the interval (25, 30) in trial 21 is same with 0.5276 confidence\n"
     ]
    },
    {
     "name": "stderr",
     "output_type": "stream",
     "text": [
      "100%|█████████▉| 300/301 [00:02<00:00, 129.60it/s]\n"
     ]
    },
    {
     "name": "stdout",
     "output_type": "stream",
     "text": [
      "[MoviePy] >>>> Building video cogsci_images/obvious_videos/obvious_xy_vxvy/obvious_mass_interval_in_trial_21_sec_25_to_30_rnn_thinks_same__prob_0.5276.mp4\n",
      "[MoviePy] Writing video cogsci_images/obvious_videos/obvious_xy_vxvy/obvious_mass_interval_in_trial_21_sec_25_to_30_rnn_thinks_same__prob_0.5276.mp4\n"
     ]
    },
    {
     "name": "stderr",
     "output_type": "stream",
     "text": [
      "100%|█████████▉| 300/301 [00:02<00:00, 125.44it/s]\n"
     ]
    },
    {
     "name": "stdout",
     "output_type": "stream",
     "text": [
      "[MoviePy] Done.\n",
      "[MoviePy] >>>> Video ready: cogsci_images/obvious_videos/obvious_xy_vxvy/obvious_mass_interval_in_trial_21_sec_25_to_30_rnn_thinks_same__prob_0.5276.mp4 \n",
      "\n",
      "RNN thinks the interval (24, 29) in trial 21 is same with 0.5108 confidence\n",
      "Skipping trial 21 and start 24\n",
      "RNN thinks the interval (1, 6) in trial 33 is same with 0.5060 confidence\n"
     ]
    },
    {
     "name": "stderr",
     "output_type": "stream",
     "text": [
      "100%|█████████▉| 300/301 [00:02<00:00, 132.03it/s]\n"
     ]
    },
    {
     "name": "stdout",
     "output_type": "stream",
     "text": [
      "[MoviePy] >>>> Building video cogsci_images/obvious_videos/obvious_xy_vxvy/obvious_mass_interval_in_trial_33_sec_1_to_6_rnn_thinks_same__prob_0.5060.mp4\n",
      "[MoviePy] Writing video cogsci_images/obvious_videos/obvious_xy_vxvy/obvious_mass_interval_in_trial_33_sec_1_to_6_rnn_thinks_same__prob_0.5060.mp4\n"
     ]
    },
    {
     "name": "stderr",
     "output_type": "stream",
     "text": [
      "100%|█████████▉| 300/301 [00:02<00:00, 124.00it/s]\n"
     ]
    },
    {
     "name": "stdout",
     "output_type": "stream",
     "text": [
      "[MoviePy] Done.\n",
      "[MoviePy] >>>> Video ready: cogsci_images/obvious_videos/obvious_xy_vxvy/obvious_mass_interval_in_trial_33_sec_1_to_6_rnn_thinks_same__prob_0.5060.mp4 \n",
      "\n",
      "RNN thinks the interval (20, 25) in trial 33 is same with 0.4978 confidence\n"
     ]
    },
    {
     "name": "stderr",
     "output_type": "stream",
     "text": [
      "100%|█████████▉| 300/301 [00:02<00:00, 129.43it/s]"
     ]
    },
    {
     "name": "stdout",
     "output_type": "stream",
     "text": [
      "[MoviePy] >>>> Building video cogsci_images/obvious_videos/obvious_xy_vxvy/obvious_mass_interval_in_trial_33_sec_20_to_25_rnn_thinks_same__prob_0.4978.mp4\n",
      "[MoviePy] Writing video cogsci_images/obvious_videos/obvious_xy_vxvy/obvious_mass_interval_in_trial_33_sec_20_to_25_rnn_thinks_same__prob_0.4978.mp4\n"
     ]
    },
    {
     "name": "stderr",
     "output_type": "stream",
     "text": [
      "\n",
      "100%|█████████▉| 300/301 [00:02<00:00, 122.38it/s]"
     ]
    },
    {
     "name": "stdout",
     "output_type": "stream",
     "text": [
      "[MoviePy] Done.\n",
      "[MoviePy] >>>> Video ready: cogsci_images/obvious_videos/obvious_xy_vxvy/obvious_mass_interval_in_trial_33_sec_20_to_25_rnn_thinks_same__prob_0.4978.mp4 \n",
      "\n"
     ]
    },
    {
     "name": "stderr",
     "output_type": "stream",
     "text": [
      "\n"
     ]
    },
    {
     "name": "stdout",
     "output_type": "stream",
     "text": [
      "RNN thinks the interval (3, 8) in trial 33 is same with 0.4977 confidence\n",
      "Skipping trial 33 and start 3\n",
      "RNN thinks the interval (18, 23) in trial 24 is same with 0.4977 confidence\n"
     ]
    },
    {
     "name": "stderr",
     "output_type": "stream",
     "text": [
      "100%|█████████▉| 300/301 [00:02<00:00, 118.87it/s]"
     ]
    },
    {
     "name": "stdout",
     "output_type": "stream",
     "text": [
      "[MoviePy] >>>> Building video cogsci_images/obvious_videos/obvious_xy_vxvy/obvious_mass_interval_in_trial_24_sec_18_to_23_rnn_thinks_same__prob_0.4977.mp4\n",
      "[MoviePy] Writing video cogsci_images/obvious_videos/obvious_xy_vxvy/obvious_mass_interval_in_trial_24_sec_18_to_23_rnn_thinks_same__prob_0.4977.mp4\n"
     ]
    },
    {
     "name": "stderr",
     "output_type": "stream",
     "text": [
      "\n",
      "100%|█████████▉| 300/301 [00:02<00:00, 122.69it/s]\n"
     ]
    },
    {
     "name": "stdout",
     "output_type": "stream",
     "text": [
      "[MoviePy] Done.\n",
      "[MoviePy] >>>> Video ready: cogsci_images/obvious_videos/obvious_xy_vxvy/obvious_mass_interval_in_trial_24_sec_18_to_23_rnn_thinks_same__prob_0.4977.mp4 \n",
      "\n",
      "RNN thinks the interval (19, 24) in trial 33 is same with 0.4974 confidence\n",
      "Skipping trial 33 and start 19\n",
      "RNN thinks the interval (14, 19) in trial 33 is same with 0.4962 confidence\n"
     ]
    },
    {
     "name": "stderr",
     "output_type": "stream",
     "text": [
      "100%|█████████▉| 300/301 [00:02<00:00, 131.20it/s]"
     ]
    },
    {
     "name": "stdout",
     "output_type": "stream",
     "text": [
      "[MoviePy] >>>> Building video cogsci_images/obvious_videos/obvious_xy_vxvy/obvious_mass_interval_in_trial_33_sec_14_to_19_rnn_thinks_same__prob_0.4962.mp4\n",
      "[MoviePy] Writing video cogsci_images/obvious_videos/obvious_xy_vxvy/obvious_mass_interval_in_trial_33_sec_14_to_19_rnn_thinks_same__prob_0.4962.mp4\n"
     ]
    },
    {
     "name": "stderr",
     "output_type": "stream",
     "text": [
      "\n",
      "100%|█████████▉| 300/301 [00:02<00:00, 125.59it/s]\n"
     ]
    },
    {
     "name": "stdout",
     "output_type": "stream",
     "text": [
      "[MoviePy] Done.\n",
      "[MoviePy] >>>> Video ready: cogsci_images/obvious_videos/obvious_xy_vxvy/obvious_mass_interval_in_trial_33_sec_14_to_19_rnn_thinks_same__prob_0.4962.mp4 \n",
      "\n",
      "5\n"
     ]
    }
   ],
   "source": [
    "JSON_DATA = []\n",
    "\n",
    "write_obvious_intervals(obvious_mass_dfs, \"mass\", \"A\")\n",
    "write_obvious_intervals(obvious_mass_dfs, \"mass\", \"B\")\n",
    "write_obvious_intervals(obvious_mass_dfs, \"mass\", \"same\")\n",
    "\n",
    "with open(JSON_PATH % \"mass\", \"w+\") as f: \n",
    "    json.dump(JSON_DATA, f)"
   ]
  }
 ],
 "metadata": {
  "kernelspec": {
   "display_name": "Python 3",
   "language": "python",
   "name": "python3"
  },
  "language_info": {
   "codemirror_mode": {
    "name": "ipython",
    "version": 3
   },
   "file_extension": ".py",
   "mimetype": "text/x-python",
   "name": "python",
   "nbconvert_exporter": "python",
   "pygments_lexer": "ipython3",
   "version": "3.5.6"
  }
 },
 "nbformat": 4,
 "nbformat_minor": 2
}
