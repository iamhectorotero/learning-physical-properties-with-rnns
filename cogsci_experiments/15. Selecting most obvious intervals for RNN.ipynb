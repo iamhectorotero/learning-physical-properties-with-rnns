{
 "cells": [
  {
   "cell_type": "code",
   "execution_count": 1,
   "metadata": {},
   "outputs": [],
   "source": [
    "import isaac.constants\n",
    "isaac.constants.TQDM_DISABLE = True\n",
    "\n",
    "from torch import nn\n",
    "from torch.nn import Softmax\n",
    "from isaac.utils import get_cuda_device_if_available\n",
    "import joblib\n",
    "\n",
    "from isaac.dataset import read_dataset, prepare_dataset\n",
    "from isaac.models import MultiBranchModel, ComplexRNNModel\n",
    "from isaac.constants import BASIC_TRAINING_COLS, MASS_CLASS_COLS, FORCE_CLASS_COLS, RTHETA_COLS, XY_RTHETA_COLS, XY_VXVY_RTHETA_COLS\n",
    "from isaac.evaluation import predict_with_a_group_of_saved_models, evaluate_saved_model\n",
    "\n",
    "import torch\n",
    "import glob\n",
    "from torch.autograd import Variable\n",
    "import numpy as np\n",
    "import pandas as pd\n",
    "from tqdm import tqdm\n"
   ]
  },
  {
   "cell_type": "code",
   "execution_count": 2,
   "metadata": {},
   "outputs": [],
   "source": [
    "SECONDS_PER_WINDOW = 5 # seconds\n",
    "FPS = 60\n",
    "STEP_SIZE = 3\n",
    "# PD_STEP_SIZE = 10\n",
    "SEQ_END = 2700"
   ]
  },
  {
   "cell_type": "code",
   "execution_count": 3,
   "metadata": {},
   "outputs": [
    {
     "name": "stdout",
     "output_type": "stream",
     "text": [
      "cpu\n"
     ]
    }
   ],
   "source": [
    "device = get_cuda_device_if_available()\n",
    "print(device)"
   ]
  },
  {
   "cell_type": "code",
   "execution_count": 4,
   "metadata": {},
   "outputs": [],
   "source": [
    "normalise_data = True\n",
    "model_name = \"xy_vxvy_rtheta\"\n",
    "scaler_path = \"scalers/passive_\"+model_name+\"_scaler.sk\"\n",
    "training_columns = XY_VXVY_RTHETA_COLS\n",
    "network_dims = (len(training_columns), 25, 3, 0.5)\n",
    "dataset_path = \"../new_exp_data/exp7_passive_rtheta.h5\"\n",
    "class_columns = [list(MASS_CLASS_COLS), list(FORCE_CLASS_COLS)]\n",
    "multiclass = True\n",
    "DATASET = read_dataset(dataset_path)\n",
    "\n",
    "\n",
    "def get_question_predictions_for_group_of_models(question_type):    \n",
    "    models = sorted(glob.glob(\"models/\"+model_name+\"/best_\"+question_type+\"_model_seed_*.pt\"))\n",
    "\n",
    "    group_predictions = []\n",
    "    \n",
    "    predictions = predict_with_a_group_of_saved_models(tqdm(models), network_dims, None, \n",
    "                                                       training_columns=training_columns, \n",
    "                                                       class_columns=class_columns, step_size=STEP_SIZE, \n",
    "                                                       seq_end=SEQ_END, scaler_path=scaler_path,\n",
    "                                                       arch=MultiBranchModel, multiclass=multiclass, trials=DATASET,\n",
    "                                                       predict_rolling_windows=True, seconds_per_window=SECONDS_PER_WINDOW)\n",
    "\n",
    "    predictions = torch.stack(predictions)\n",
    "    \n",
    "    print(predictions.shape)\n",
    "    if question_type == \"mass\":\n",
    "        predictions = predictions[:, :, :, 0]\n",
    "    else:\n",
    "        predictions = predictions[:, :, :, 1]\n",
    "\n",
    "    return predictions\n",
    "\n",
    "def get_question_accuracy_for_group_of_models(question_type):    \n",
    "    model_paths = tqdm(sorted(glob.glob(\"models/\"+model_name+\"/best_\"+question_type+\"_model_seed_*.pt\")))\n",
    "\n",
    "    accuracies, predicted = evaluate_saved_model(model_paths, network_dims, dataset_path, \n",
    "                                                 training_columns=training_columns, class_columns=class_columns, \n",
    "                                                 step_size=STEP_SIZE, seq_end=SEQ_END, scaler_path=scaler_path,\n",
    "                                                 arch=MultiBranchModel, multiclass=multiclass, trials=None)\n",
    "    \n",
    "    if question_type == \"mass\":\n",
    "        question_index = 0\n",
    "    else:\n",
    "        question_index = 1\n",
    "\n",
    "    accuracies = np.stack(accuracies)[:, question_index]\n",
    "    \n",
    "    predicted = [x[:, question_index].numpy() for x in predicted]\n",
    "\n",
    "    return accuracies, predicted"
   ]
  },
  {
   "cell_type": "markdown",
   "metadata": {},
   "source": [
    "# T-test for MASS questions"
   ]
  },
  {
   "cell_type": "markdown",
   "metadata": {},
   "source": [
    "## Load model's predictions"
   ]
  },
  {
   "cell_type": "code",
   "execution_count": 5,
   "metadata": {
    "scrolled": true
   },
   "outputs": [
    {
     "name": "stderr",
     "output_type": "stream",
     "text": [
      "\r",
      "  0%|          | 0/25 [00:00<?, ?it/s]"
     ]
    },
    {
     "name": "stdout",
     "output_type": "stream",
     "text": [
      "MASS\n"
     ]
    },
    {
     "name": "stderr",
     "output_type": "stream",
     "text": [
      "/home/hector/miniconda3/envs/diss/lib/python3.5/site-packages/sklearn/base.py:318: UserWarning: Trying to unpickle estimator StandardScaler from version 0.23.2 when using version 0.22.2.post1. This might lead to breaking code or invalid results. Use at your own risk.\n",
      "  UserWarning)\n",
      "100%|██████████| 25/25 [00:57<00:00,  2.57s/it]\n",
      "  0%|          | 0/25 [00:00<?, ?it/s]/home/hector/miniconda3/envs/diss/lib/python3.5/site-packages/sklearn/base.py:318: UserWarning: Trying to unpickle estimator StandardScaler from version 0.23.2 when using version 0.22.2.post1. This might lead to breaking code or invalid results. Use at your own risk.\n",
      "  UserWarning)\n"
     ]
    },
    {
     "name": "stdout",
     "output_type": "stream",
     "text": [
      "torch.Size([25, 36, 40, 2, 3])\n",
      "\n",
      "FORCE\n"
     ]
    },
    {
     "name": "stderr",
     "output_type": "stream",
     "text": [
      "100%|██████████| 25/25 [00:58<00:00,  2.20s/it]"
     ]
    },
    {
     "name": "stdout",
     "output_type": "stream",
     "text": [
      "torch.Size([25, 36, 40, 2, 3])\n"
     ]
    },
    {
     "name": "stderr",
     "output_type": "stream",
     "text": [
      "\n"
     ]
    }
   ],
   "source": [
    "print(\"MASS\")\n",
    "question_type = \"mass\"\n",
    "group_mass_seq_prediction = get_question_predictions_for_group_of_models(question_type)\n",
    "\n",
    "print(\"\\nFORCE\")\n",
    "question_type = \"force\"\n",
    "group_force_seq_prediction = get_question_predictions_for_group_of_models(question_type)"
   ]
  },
  {
   "cell_type": "code",
   "execution_count": 6,
   "metadata": {
    "scrolled": true
   },
   "outputs": [],
   "source": [
    "mass_solutions = [trial[list(MASS_CLASS_COLS)].idxmax(axis=1).unique()[0] for trial in DATASET]\n",
    "force_solutions = [trial[list(FORCE_CLASS_COLS)].idxmax(axis=1).unique()[0] for trial in DATASET]"
   ]
  },
  {
   "cell_type": "code",
   "execution_count": 7,
   "metadata": {},
   "outputs": [],
   "source": [
    "s = Softmax(dim=-1)\n",
    "group_force_seq_prediction = s(group_force_seq_prediction)\n",
    "group_mass_seq_prediction = s(group_mass_seq_prediction)"
   ]
  },
  {
   "cell_type": "code",
   "execution_count": 8,
   "metadata": {},
   "outputs": [],
   "source": [
    "avg_force_seq_prediction = torch.mean(group_force_seq_prediction, dim=0)\n",
    "avg_mass_seq_prediction = torch.mean(group_mass_seq_prediction, dim=0)"
   ]
  },
  {
   "cell_type": "code",
   "execution_count": 9,
   "metadata": {},
   "outputs": [
    {
     "data": {
      "text/plain": [
       "torch.Size([36, 40, 3])"
      ]
     },
     "execution_count": 9,
     "metadata": {},
     "output_type": "execute_result"
    }
   ],
   "source": [
    "avg_force_seq_prediction.shape"
   ]
  },
  {
   "cell_type": "code",
   "execution_count": 10,
   "metadata": {},
   "outputs": [],
   "source": [
    "n_trials = avg_force_seq_prediction.shape[0]\n",
    "n_windows = avg_force_seq_prediction.shape[1]\n",
    "window_second_start = [i for _ in range(n_trials) for i in range(1, n_windows+1)]\n",
    "trial_number = [i for i in range(n_trials) for _ in range(1, n_windows+1)]"
   ]
  },
  {
   "cell_type": "code",
   "execution_count": 11,
   "metadata": {},
   "outputs": [],
   "source": [
    "mass_df = pd.DataFrame(data=avg_mass_seq_prediction.reshape(n_trials*n_windows, 3).numpy(), \n",
    "                       columns=[\"rnn_%s\" % cl for cl in MASS_CLASS_COLS])\n",
    "mass_df[\"window_second_start\"] = window_second_start\n",
    "mass_df[\"trial_number\"] = trial_number\n",
    "mass_df[\"solution\"] = [mass_solutions[trial_id] for trial_id in trial_number]\n",
    "\n",
    "force_df = pd.DataFrame(data=avg_force_seq_prediction.reshape(n_trials*n_windows, 3).numpy(), \n",
    "                       columns=[\"rnn_%s\" % cl for cl in FORCE_CLASS_COLS])\n",
    "force_df[\"window_second_start\"] = window_second_start\n",
    "force_df[\"trial_number\"] = trial_number\n",
    "force_df[\"solution\"] = [force_solutions[trial_id] for trial_id in trial_number]"
   ]
  },
  {
   "cell_type": "code",
   "execution_count": 12,
   "metadata": {},
   "outputs": [],
   "source": [
    "import matplotlib.pyplot as plt\n",
    "import seaborn as sns\n",
    "\n",
    "sns.set(font_scale=3)\n",
    "sns.set_style(\"white\")"
   ]
  },
  {
   "cell_type": "markdown",
   "metadata": {},
   "source": [
    "# Obtain most obvious intervals\n",
    "Most obvious = Highest values of probability for a correct class"
   ]
  },
  {
   "cell_type": "code",
   "execution_count": 13,
   "metadata": {},
   "outputs": [],
   "source": [
    "def make_probability_of_the_incorrect_rnn_column_zero(df):\n",
    "    \n",
    "    for solution in df.solution.unique():\n",
    "        df[\"rnn_\" + solution] = df[\"rnn_\" + solution] * (df[\"solution\"] == solution).astype(int)\n",
    "\n",
    "def get_obvious_probabilities_df(df):\n",
    "    obvious_dfs = []\n",
    "\n",
    "    for solution in df.solution.unique():\n",
    "        reshaped_df = df[[\"window_second_start\", \"trial_number\", \"solution\"]].copy()\n",
    "        reshaped_df[\"rnn_option\"] = solution\n",
    "        reshaped_df[\"rnn_value\"] = df[\"rnn_\" + solution]\n",
    "        obvious_dfs.append(reshaped_df)\n",
    "\n",
    "    obvious_dfs = pd.concat(obvious_dfs)\n",
    "    obvious_dfs = obvious_dfs.query(\"solution == rnn_option\")\n",
    "    return obvious_dfs\n",
    "    \n",
    "make_probability_of_the_incorrect_rnn_column_zero(mass_df)\n",
    "obvious_mass_dfs = get_obvious_probabilities_df(mass_df)\n",
    "make_probability_of_the_incorrect_rnn_column_zero(force_df)\n",
    "obvious_force_dfs = get_obvious_probabilities_df(force_df)"
   ]
  },
  {
   "cell_type": "code",
   "execution_count": 14,
   "metadata": {
    "scrolled": true
   },
   "outputs": [],
   "source": [
    "obvious_mass_dfs = obvious_mass_dfs.sort_values(by=\"rnn_value\", ascending=False)\n",
    "obvious_force_dfs = obvious_force_dfs.sort_values(by=\"rnn_value\", ascending=False)"
   ]
  },
  {
   "cell_type": "markdown",
   "metadata": {},
   "source": [
    "## Load human results"
   ]
  },
  {
   "cell_type": "code",
   "execution_count": 15,
   "metadata": {},
   "outputs": [
    {
     "name": "stdout",
     "output_type": "stream",
     "text": [
      "pygame 1.9.6\n",
      "Hello from the pygame community. https://www.pygame.org/contribute.html\n"
     ]
    }
   ],
   "source": [
    "from isaac.visualization import make_frame_curried\n",
    "import moviepy.editor as mpy\n",
    "from scipy import misc\n",
    "\n",
    "\n",
    "def make_clip(trial_data, window_second_start, solution, rnn_thinks_this_is, rnn_confidence):\n",
    "            \n",
    "    trial_data = trial_data.iloc[window_second_start*FPS:(window_second_start + SECONDS_PER_WINDOW)*FPS]\n",
    "    duration = len(trial_data)\n",
    "    n_bodies = sum([\"o\"+str(i)+\".x\" in list(trial_data.columns) for i in range(1, 5)])\n",
    "    \n",
    "    while (len(trial_data) + 1) % 60 != 0:\n",
    "        trial_data = trial_data.append(trial_data.iloc[-1], ignore_index=True)\n",
    "        \n",
    "    make_frame = make_frame_curried(trial_data, n_bodies, None, None)\n",
    "    clip = mpy.VideoClip(make_frame, duration=duration / 60)\n",
    "    return clip, trial_data"
   ]
  },
  {
   "cell_type": "code",
   "execution_count": 16,
   "metadata": {},
   "outputs": [],
   "source": [
    "%load_ext autoreload\n",
    "%autoreload 2"
   ]
  },
  {
   "cell_type": "markdown",
   "metadata": {},
   "source": [
    "# Create videos for comparing evidence seen by RNN and by IO"
   ]
  },
  {
   "cell_type": "code",
   "execution_count": 17,
   "metadata": {
    "scrolled": true
   },
   "outputs": [],
   "source": [
    "import os\n",
    "import json\n",
    "\n",
    "OBVIOUS_DATA_PATH = \"cogsci_images/obvious_videos/obvious_%s\" % model_name\n",
    "os.makedirs(OBVIOUS_DATA_PATH, exist_ok=True)\n",
    "FILENAME = \"obvious_%s_interval_in_trial_%d_sec_%d_to_%d_rnn_thinks_%s_while_solution_is_%s\"\n",
    "VIDEO_PATH = os.path.join(OBVIOUS_DATA_PATH, FILENAME + \".mp4\")\n",
    "JSON_PATH = os.path.join(OBVIOUS_DATA_PATH, \"obvious_\"+model_name+\"_%s_physics_data.json\")\n",
    "\n",
    "def write_obvious_intervals(confused_df, question_type):\n",
    "\n",
    "    replays = read_dataset(\"../new_exp_data/exp7_passive.h5\")\n",
    "    print(len(replays))\n",
    "    written_replays = {}\n",
    "    number_of_written_replays = 0\n",
    "    \n",
    "    json_data = []\n",
    "\n",
    "    for row_i in range(confused_df.shape[0]):\n",
    "\n",
    "        window_second_start, trial_number, solution, rnn_thinks_this_is, rnn_confidence = (\n",
    "            confused_df.iloc[row_i][[\"window_second_start\", \"trial_number\", \"solution\", \"rnn_option\", \"rnn_value\"]])\n",
    "\n",
    "        print(\"RNN thinks the interval (%d, %d) in trial %d is %s with %.4f confidence. In reality, it is %s.\" % (\n",
    "            window_second_start, window_second_start + SECONDS_PER_WINDOW, trial_number, rnn_thinks_this_is, rnn_confidence, solution))\n",
    "\n",
    "        if trial_number in written_replays:\n",
    "            overlapping_replay = False\n",
    "            for already_written_window_start in written_replays[trial_number]:\n",
    "                if abs(already_written_window_start - window_second_start) <= 5:\n",
    "                    overlapping_replay = True\n",
    "                    break\n",
    "            if overlapping_replay:\n",
    "                print(\"Skipping trial %d and start %d\" % (trial_number, window_second_start))\n",
    "                continue\n",
    "\n",
    "        written_replays[trial_number] = written_replays.get(trial_number, []) + [window_second_start]\n",
    "        clip, trial_data = make_clip(replays[trial_number], window_second_start, solution, rnn_thinks_this_is, rnn_confidence)\n",
    "        clip.ipython_display(fps=60)\n",
    "        clip.write_videofile(VIDEO_PATH % (\n",
    "            question_type, trial_number, window_second_start, window_second_start+SECONDS_PER_WINDOW,\n",
    "            rnn_thinks_this_is, solution), fps=60)\n",
    "\n",
    "        trial_data = trial_data.to_dict(orient='list')\n",
    "        # Simplify attributes whose values are unique throughout the list\n",
    "        for key in [\"trial_type\", \"condition_world_variant\", \"tM\", \"tR\", \"world_id\"]:\n",
    "            trial_data[key] = trial_data[key][0]\n",
    "        json_data.append(trial_data)\n",
    "\n",
    "        number_of_written_replays += 1\n",
    "        if number_of_written_replays == 10:\n",
    "            break\n",
    "            \n",
    "    with open(JSON_PATH % question_type, \"w+\") as f: \n",
    "        json.dump(json_data, f)"
   ]
  },
  {
   "cell_type": "code",
   "execution_count": 18,
   "metadata": {},
   "outputs": [
    {
     "name": "stdout",
     "output_type": "stream",
     "text": [
      "36\n",
      "RNN thinks the interval (27, 32) in trial 18 is attract with 0.9949 confidence. In reality, it is attract.\n"
     ]
    },
    {
     "name": "stderr",
     "output_type": "stream",
     "text": [
      "100%|█████████▉| 300/301 [00:02<00:00, 141.69it/s]\n"
     ]
    },
    {
     "name": "stdout",
     "output_type": "stream",
     "text": [
      "[MoviePy] >>>> Building video cogsci_images/obvious_videos/obvious_xy_vxvy_rtheta/obvious_force_interval_in_trial_18_sec_27_to_32_rnn_thinks_attract_while_solution_is_attract.mp4\n",
      "[MoviePy] Writing video cogsci_images/obvious_videos/obvious_xy_vxvy_rtheta/obvious_force_interval_in_trial_18_sec_27_to_32_rnn_thinks_attract_while_solution_is_attract.mp4\n"
     ]
    },
    {
     "name": "stderr",
     "output_type": "stream",
     "text": [
      "100%|█████████▉| 300/301 [00:02<00:00, 138.71it/s]"
     ]
    },
    {
     "name": "stdout",
     "output_type": "stream",
     "text": [
      "[MoviePy] Done.\n",
      "[MoviePy] >>>> Video ready: cogsci_images/obvious_videos/obvious_xy_vxvy_rtheta/obvious_force_interval_in_trial_18_sec_27_to_32_rnn_thinks_attract_while_solution_is_attract.mp4 \n",
      "\n"
     ]
    },
    {
     "name": "stderr",
     "output_type": "stream",
     "text": [
      "\n"
     ]
    },
    {
     "name": "stdout",
     "output_type": "stream",
     "text": [
      "RNN thinks the interval (18, 23) in trial 2 is attract with 0.9940 confidence. In reality, it is attract.\n"
     ]
    },
    {
     "name": "stderr",
     "output_type": "stream",
     "text": [
      "100%|█████████▉| 300/301 [00:02<00:00, 145.23it/s]\n"
     ]
    },
    {
     "name": "stdout",
     "output_type": "stream",
     "text": [
      "[MoviePy] >>>> Building video cogsci_images/obvious_videos/obvious_xy_vxvy_rtheta/obvious_force_interval_in_trial_2_sec_18_to_23_rnn_thinks_attract_while_solution_is_attract.mp4\n",
      "[MoviePy] Writing video cogsci_images/obvious_videos/obvious_xy_vxvy_rtheta/obvious_force_interval_in_trial_2_sec_18_to_23_rnn_thinks_attract_while_solution_is_attract.mp4\n"
     ]
    },
    {
     "name": "stderr",
     "output_type": "stream",
     "text": [
      "100%|█████████▉| 300/301 [00:02<00:00, 139.89it/s]"
     ]
    },
    {
     "name": "stdout",
     "output_type": "stream",
     "text": [
      "[MoviePy] Done.\n",
      "[MoviePy] >>>> Video ready: cogsci_images/obvious_videos/obvious_xy_vxvy_rtheta/obvious_force_interval_in_trial_2_sec_18_to_23_rnn_thinks_attract_while_solution_is_attract.mp4 \n",
      "\n"
     ]
    },
    {
     "name": "stderr",
     "output_type": "stream",
     "text": [
      "\n"
     ]
    },
    {
     "name": "stdout",
     "output_type": "stream",
     "text": [
      "RNN thinks the interval (20, 25) in trial 2 is attract with 0.9930 confidence. In reality, it is attract.\n",
      "Skipping trial 2 and start 20\n",
      "RNN thinks the interval (30, 35) in trial 18 is attract with 0.9927 confidence. In reality, it is attract.\n",
      "Skipping trial 18 and start 30\n",
      "RNN thinks the interval (29, 34) in trial 18 is attract with 0.9907 confidence. In reality, it is attract.\n",
      "Skipping trial 18 and start 29\n",
      "RNN thinks the interval (26, 31) in trial 18 is attract with 0.9907 confidence. In reality, it is attract.\n",
      "Skipping trial 18 and start 26\n",
      "RNN thinks the interval (19, 24) in trial 2 is attract with 0.9901 confidence. In reality, it is attract.\n",
      "Skipping trial 2 and start 19\n",
      "RNN thinks the interval (17, 22) in trial 2 is attract with 0.9894 confidence. In reality, it is attract.\n",
      "Skipping trial 2 and start 17\n",
      "RNN thinks the interval (25, 30) in trial 18 is attract with 0.9889 confidence. In reality, it is attract.\n",
      "Skipping trial 18 and start 25\n",
      "RNN thinks the interval (9, 14) in trial 1 is attract with 0.9851 confidence. In reality, it is attract.\n"
     ]
    },
    {
     "name": "stderr",
     "output_type": "stream",
     "text": [
      "100%|█████████▉| 300/301 [00:02<00:00, 142.29it/s]"
     ]
    },
    {
     "name": "stdout",
     "output_type": "stream",
     "text": [
      "[MoviePy] >>>> Building video cogsci_images/obvious_videos/obvious_xy_vxvy_rtheta/obvious_force_interval_in_trial_1_sec_9_to_14_rnn_thinks_attract_while_solution_is_attract.mp4\n",
      "[MoviePy] Writing video cogsci_images/obvious_videos/obvious_xy_vxvy_rtheta/obvious_force_interval_in_trial_1_sec_9_to_14_rnn_thinks_attract_while_solution_is_attract.mp4\n"
     ]
    },
    {
     "name": "stderr",
     "output_type": "stream",
     "text": [
      "\n",
      "100%|█████████▉| 300/301 [00:02<00:00, 138.40it/s]"
     ]
    },
    {
     "name": "stdout",
     "output_type": "stream",
     "text": [
      "[MoviePy] Done.\n",
      "[MoviePy] >>>> Video ready: cogsci_images/obvious_videos/obvious_xy_vxvy_rtheta/obvious_force_interval_in_trial_1_sec_9_to_14_rnn_thinks_attract_while_solution_is_attract.mp4 \n",
      "\n"
     ]
    },
    {
     "name": "stderr",
     "output_type": "stream",
     "text": [
      "\n"
     ]
    },
    {
     "name": "stdout",
     "output_type": "stream",
     "text": [
      "RNN thinks the interval (24, 29) in trial 19 is attract with 0.9841 confidence. In reality, it is attract.\n"
     ]
    },
    {
     "name": "stderr",
     "output_type": "stream",
     "text": [
      "100%|█████████▉| 300/301 [00:02<00:00, 142.58it/s]"
     ]
    },
    {
     "name": "stdout",
     "output_type": "stream",
     "text": [
      "[MoviePy] >>>> Building video cogsci_images/obvious_videos/obvious_xy_vxvy_rtheta/obvious_force_interval_in_trial_19_sec_24_to_29_rnn_thinks_attract_while_solution_is_attract.mp4\n",
      "[MoviePy] Writing video cogsci_images/obvious_videos/obvious_xy_vxvy_rtheta/obvious_force_interval_in_trial_19_sec_24_to_29_rnn_thinks_attract_while_solution_is_attract.mp4\n"
     ]
    },
    {
     "name": "stderr",
     "output_type": "stream",
     "text": [
      "\n",
      "100%|█████████▉| 300/301 [00:02<00:00, 135.57it/s]"
     ]
    },
    {
     "name": "stdout",
     "output_type": "stream",
     "text": [
      "[MoviePy] Done.\n",
      "[MoviePy] >>>> Video ready: cogsci_images/obvious_videos/obvious_xy_vxvy_rtheta/obvious_force_interval_in_trial_19_sec_24_to_29_rnn_thinks_attract_while_solution_is_attract.mp4 \n",
      "\n"
     ]
    },
    {
     "name": "stderr",
     "output_type": "stream",
     "text": [
      "\n"
     ]
    },
    {
     "name": "stdout",
     "output_type": "stream",
     "text": [
      "RNN thinks the interval (26, 31) in trial 0 is attract with 0.9837 confidence. In reality, it is attract.\n"
     ]
    },
    {
     "name": "stderr",
     "output_type": "stream",
     "text": [
      "100%|█████████▉| 300/301 [00:02<00:00, 126.99it/s]\n"
     ]
    },
    {
     "name": "stdout",
     "output_type": "stream",
     "text": [
      "[MoviePy] >>>> Building video cogsci_images/obvious_videos/obvious_xy_vxvy_rtheta/obvious_force_interval_in_trial_0_sec_26_to_31_rnn_thinks_attract_while_solution_is_attract.mp4\n",
      "[MoviePy] Writing video cogsci_images/obvious_videos/obvious_xy_vxvy_rtheta/obvious_force_interval_in_trial_0_sec_26_to_31_rnn_thinks_attract_while_solution_is_attract.mp4\n"
     ]
    },
    {
     "name": "stderr",
     "output_type": "stream",
     "text": [
      "100%|█████████▉| 300/301 [00:02<00:00, 132.20it/s]\n"
     ]
    },
    {
     "name": "stdout",
     "output_type": "stream",
     "text": [
      "[MoviePy] Done.\n",
      "[MoviePy] >>>> Video ready: cogsci_images/obvious_videos/obvious_xy_vxvy_rtheta/obvious_force_interval_in_trial_0_sec_26_to_31_rnn_thinks_attract_while_solution_is_attract.mp4 \n",
      "\n",
      "RNN thinks the interval (28, 33) in trial 19 is attract with 0.9821 confidence. In reality, it is attract.\n",
      "Skipping trial 19 and start 28\n",
      "RNN thinks the interval (27, 32) in trial 19 is attract with 0.9804 confidence. In reality, it is attract.\n",
      "Skipping trial 19 and start 27\n",
      "RNN thinks the interval (26, 31) in trial 19 is attract with 0.9794 confidence. In reality, it is attract.\n",
      "Skipping trial 19 and start 26\n",
      "RNN thinks the interval (28, 33) in trial 11 is attract with 0.9790 confidence. In reality, it is attract.\n"
     ]
    },
    {
     "name": "stderr",
     "output_type": "stream",
     "text": [
      "100%|█████████▉| 300/301 [00:02<00:00, 140.01it/s]\n"
     ]
    },
    {
     "name": "stdout",
     "output_type": "stream",
     "text": [
      "[MoviePy] >>>> Building video cogsci_images/obvious_videos/obvious_xy_vxvy_rtheta/obvious_force_interval_in_trial_11_sec_28_to_33_rnn_thinks_attract_while_solution_is_attract.mp4\n",
      "[MoviePy] Writing video cogsci_images/obvious_videos/obvious_xy_vxvy_rtheta/obvious_force_interval_in_trial_11_sec_28_to_33_rnn_thinks_attract_while_solution_is_attract.mp4\n"
     ]
    },
    {
     "name": "stderr",
     "output_type": "stream",
     "text": [
      "100%|█████████▉| 300/301 [00:02<00:00, 140.07it/s]"
     ]
    },
    {
     "name": "stdout",
     "output_type": "stream",
     "text": [
      "[MoviePy] Done.\n",
      "[MoviePy] >>>> Video ready: cogsci_images/obvious_videos/obvious_xy_vxvy_rtheta/obvious_force_interval_in_trial_11_sec_28_to_33_rnn_thinks_attract_while_solution_is_attract.mp4 \n",
      "\n"
     ]
    },
    {
     "name": "stderr",
     "output_type": "stream",
     "text": [
      "\n"
     ]
    },
    {
     "name": "stdout",
     "output_type": "stream",
     "text": [
      "RNN thinks the interval (23, 28) in trial 0 is attract with 0.9790 confidence. In reality, it is attract.\n",
      "Skipping trial 0 and start 23\n",
      "RNN thinks the interval (24, 29) in trial 18 is attract with 0.9773 confidence. In reality, it is attract.\n",
      "Skipping trial 18 and start 24\n",
      "RNN thinks the interval (28, 33) in trial 18 is attract with 0.9765 confidence. In reality, it is attract.\n",
      "Skipping trial 18 and start 28\n",
      "RNN thinks the interval (24, 29) in trial 1 is attract with 0.9761 confidence. In reality, it is attract.\n"
     ]
    },
    {
     "name": "stderr",
     "output_type": "stream",
     "text": [
      "100%|█████████▉| 300/301 [00:02<00:00, 143.75it/s]\n"
     ]
    },
    {
     "name": "stdout",
     "output_type": "stream",
     "text": [
      "[MoviePy] >>>> Building video cogsci_images/obvious_videos/obvious_xy_vxvy_rtheta/obvious_force_interval_in_trial_1_sec_24_to_29_rnn_thinks_attract_while_solution_is_attract.mp4\n",
      "[MoviePy] Writing video cogsci_images/obvious_videos/obvious_xy_vxvy_rtheta/obvious_force_interval_in_trial_1_sec_24_to_29_rnn_thinks_attract_while_solution_is_attract.mp4\n"
     ]
    },
    {
     "name": "stderr",
     "output_type": "stream",
     "text": [
      "100%|█████████▉| 300/301 [00:02<00:00, 138.69it/s]\n"
     ]
    },
    {
     "name": "stdout",
     "output_type": "stream",
     "text": [
      "[MoviePy] Done.\n",
      "[MoviePy] >>>> Video ready: cogsci_images/obvious_videos/obvious_xy_vxvy_rtheta/obvious_force_interval_in_trial_1_sec_24_to_29_rnn_thinks_attract_while_solution_is_attract.mp4 \n",
      "\n",
      "RNN thinks the interval (24, 29) in trial 0 is attract with 0.9757 confidence. In reality, it is attract.\n",
      "Skipping trial 0 and start 24\n",
      "RNN thinks the interval (25, 30) in trial 19 is attract with 0.9731 confidence. In reality, it is attract.\n",
      "Skipping trial 19 and start 25\n",
      "RNN thinks the interval (31, 36) in trial 18 is attract with 0.9723 confidence. In reality, it is attract.\n",
      "Skipping trial 18 and start 31\n",
      "RNN thinks the interval (23, 28) in trial 1 is attract with 0.9719 confidence. In reality, it is attract.\n",
      "Skipping trial 1 and start 23\n",
      "RNN thinks the interval (16, 21) in trial 2 is attract with 0.9718 confidence. In reality, it is attract.\n",
      "Skipping trial 2 and start 16\n",
      "RNN thinks the interval (22, 27) in trial 1 is attract with 0.9705 confidence. In reality, it is attract.\n",
      "Skipping trial 1 and start 22\n",
      "RNN thinks the interval (19, 24) in trial 11 is attract with 0.9702 confidence. In reality, it is attract.\n"
     ]
    },
    {
     "name": "stderr",
     "output_type": "stream",
     "text": [
      "100%|█████████▉| 300/301 [00:02<00:00, 143.55it/s]"
     ]
    },
    {
     "name": "stdout",
     "output_type": "stream",
     "text": [
      "[MoviePy] >>>> Building video cogsci_images/obvious_videos/obvious_xy_vxvy_rtheta/obvious_force_interval_in_trial_11_sec_19_to_24_rnn_thinks_attract_while_solution_is_attract.mp4\n",
      "[MoviePy] Writing video cogsci_images/obvious_videos/obvious_xy_vxvy_rtheta/obvious_force_interval_in_trial_11_sec_19_to_24_rnn_thinks_attract_while_solution_is_attract.mp4\n"
     ]
    },
    {
     "name": "stderr",
     "output_type": "stream",
     "text": [
      "\n",
      "100%|█████████▉| 300/301 [00:02<00:00, 137.65it/s]"
     ]
    },
    {
     "name": "stdout",
     "output_type": "stream",
     "text": [
      "[MoviePy] Done.\n"
     ]
    },
    {
     "name": "stderr",
     "output_type": "stream",
     "text": [
      "\n"
     ]
    },
    {
     "name": "stdout",
     "output_type": "stream",
     "text": [
      "[MoviePy] >>>> Video ready: cogsci_images/obvious_videos/obvious_xy_vxvy_rtheta/obvious_force_interval_in_trial_11_sec_19_to_24_rnn_thinks_attract_while_solution_is_attract.mp4 \n",
      "\n",
      "RNN thinks the interval (30, 35) in trial 19 is attract with 0.9690 confidence. In reality, it is attract.\n"
     ]
    },
    {
     "name": "stderr",
     "output_type": "stream",
     "text": [
      "100%|█████████▉| 300/301 [00:02<00:00, 147.63it/s]\n"
     ]
    },
    {
     "name": "stdout",
     "output_type": "stream",
     "text": [
      "[MoviePy] >>>> Building video cogsci_images/obvious_videos/obvious_xy_vxvy_rtheta/obvious_force_interval_in_trial_19_sec_30_to_35_rnn_thinks_attract_while_solution_is_attract.mp4\n",
      "[MoviePy] Writing video cogsci_images/obvious_videos/obvious_xy_vxvy_rtheta/obvious_force_interval_in_trial_19_sec_30_to_35_rnn_thinks_attract_while_solution_is_attract.mp4\n"
     ]
    },
    {
     "name": "stderr",
     "output_type": "stream",
     "text": [
      "100%|█████████▉| 300/301 [00:02<00:00, 141.19it/s]"
     ]
    },
    {
     "name": "stdout",
     "output_type": "stream",
     "text": [
      "[MoviePy] Done.\n",
      "[MoviePy] >>>> Video ready: cogsci_images/obvious_videos/obvious_xy_vxvy_rtheta/obvious_force_interval_in_trial_19_sec_30_to_35_rnn_thinks_attract_while_solution_is_attract.mp4 \n",
      "\n"
     ]
    },
    {
     "name": "stderr",
     "output_type": "stream",
     "text": [
      "\n"
     ]
    },
    {
     "name": "stdout",
     "output_type": "stream",
     "text": [
      "RNN thinks the interval (21, 26) in trial 2 is attract with 0.9676 confidence. In reality, it is attract.\n",
      "Skipping trial 2 and start 21\n",
      "RNN thinks the interval (27, 32) in trial 11 is attract with 0.9675 confidence. In reality, it is attract.\n",
      "Skipping trial 11 and start 27\n",
      "RNN thinks the interval (25, 30) in trial 0 is attract with 0.9668 confidence. In reality, it is attract.\n",
      "Skipping trial 0 and start 25\n",
      "RNN thinks the interval (26, 31) in trial 11 is attract with 0.9654 confidence. In reality, it is attract.\n",
      "Skipping trial 11 and start 26\n",
      "RNN thinks the interval (17, 22) in trial 11 is attract with 0.9605 confidence. In reality, it is attract.\n",
      "Skipping trial 11 and start 17\n",
      "RNN thinks the interval (32, 37) in trial 18 is attract with 0.9580 confidence. In reality, it is attract.\n",
      "Skipping trial 18 and start 32\n",
      "RNN thinks the interval (21, 26) in trial 1 is attract with 0.9576 confidence. In reality, it is attract.\n",
      "Skipping trial 1 and start 21\n",
      "RNN thinks the interval (16, 21) in trial 28 is attract with 0.9531 confidence. In reality, it is attract.\n"
     ]
    },
    {
     "name": "stderr",
     "output_type": "stream",
     "text": [
      "100%|█████████▉| 300/301 [00:02<00:00, 142.31it/s]"
     ]
    },
    {
     "name": "stdout",
     "output_type": "stream",
     "text": [
      "[MoviePy] >>>> Building video cogsci_images/obvious_videos/obvious_xy_vxvy_rtheta/obvious_force_interval_in_trial_28_sec_16_to_21_rnn_thinks_attract_while_solution_is_attract.mp4\n",
      "[MoviePy] Writing video cogsci_images/obvious_videos/obvious_xy_vxvy_rtheta/obvious_force_interval_in_trial_28_sec_16_to_21_rnn_thinks_attract_while_solution_is_attract.mp4\n"
     ]
    },
    {
     "name": "stderr",
     "output_type": "stream",
     "text": [
      "\n",
      "100%|█████████▉| 300/301 [00:02<00:00, 141.42it/s]"
     ]
    },
    {
     "name": "stdout",
     "output_type": "stream",
     "text": [
      "[MoviePy] Done.\n",
      "[MoviePy] >>>> Video ready: cogsci_images/obvious_videos/obvious_xy_vxvy_rtheta/obvious_force_interval_in_trial_28_sec_16_to_21_rnn_thinks_attract_while_solution_is_attract.mp4 \n",
      "\n"
     ]
    },
    {
     "name": "stderr",
     "output_type": "stream",
     "text": [
      "\n"
     ]
    }
   ],
   "source": [
    "write_obvious_intervals(obvious_force_dfs, \"force\")"
   ]
  },
  {
   "cell_type": "code",
   "execution_count": 19,
   "metadata": {},
   "outputs": [
    {
     "name": "stdout",
     "output_type": "stream",
     "text": [
      "36\n",
      "RNN thinks the interval (17, 22) in trial 28 is A with 0.9553 confidence. In reality, it is A.\n"
     ]
    },
    {
     "name": "stderr",
     "output_type": "stream",
     "text": [
      "100%|█████████▉| 300/301 [00:02<00:00, 145.29it/s]\n"
     ]
    },
    {
     "name": "stdout",
     "output_type": "stream",
     "text": [
      "[MoviePy] >>>> Building video cogsci_images/obvious_videos/obvious_xy_vxvy_rtheta/obvious_mass_interval_in_trial_28_sec_17_to_22_rnn_thinks_A_while_solution_is_A.mp4\n",
      "[MoviePy] Writing video cogsci_images/obvious_videos/obvious_xy_vxvy_rtheta/obvious_mass_interval_in_trial_28_sec_17_to_22_rnn_thinks_A_while_solution_is_A.mp4\n"
     ]
    },
    {
     "name": "stderr",
     "output_type": "stream",
     "text": [
      "100%|█████████▉| 300/301 [00:02<00:00, 140.08it/s]\n"
     ]
    },
    {
     "name": "stdout",
     "output_type": "stream",
     "text": [
      "[MoviePy] Done.\n",
      "[MoviePy] >>>> Video ready: cogsci_images/obvious_videos/obvious_xy_vxvy_rtheta/obvious_mass_interval_in_trial_28_sec_17_to_22_rnn_thinks_A_while_solution_is_A.mp4 \n",
      "\n",
      "RNN thinks the interval (16, 21) in trial 11 is B with 0.9509 confidence. In reality, it is B.\n"
     ]
    },
    {
     "name": "stderr",
     "output_type": "stream",
     "text": [
      "100%|█████████▉| 300/301 [00:02<00:00, 137.10it/s]"
     ]
    },
    {
     "name": "stdout",
     "output_type": "stream",
     "text": [
      "[MoviePy] >>>> Building video cogsci_images/obvious_videos/obvious_xy_vxvy_rtheta/obvious_mass_interval_in_trial_11_sec_16_to_21_rnn_thinks_B_while_solution_is_B.mp4\n",
      "[MoviePy] Writing video cogsci_images/obvious_videos/obvious_xy_vxvy_rtheta/obvious_mass_interval_in_trial_11_sec_16_to_21_rnn_thinks_B_while_solution_is_B.mp4\n"
     ]
    },
    {
     "name": "stderr",
     "output_type": "stream",
     "text": [
      "\n",
      "100%|█████████▉| 300/301 [00:02<00:00, 137.60it/s]\n"
     ]
    },
    {
     "name": "stdout",
     "output_type": "stream",
     "text": [
      "[MoviePy] Done.\n",
      "[MoviePy] >>>> Video ready: cogsci_images/obvious_videos/obvious_xy_vxvy_rtheta/obvious_mass_interval_in_trial_11_sec_16_to_21_rnn_thinks_B_while_solution_is_B.mp4 \n",
      "\n",
      "RNN thinks the interval (23, 28) in trial 1 is A with 0.9488 confidence. In reality, it is A.\n"
     ]
    },
    {
     "name": "stderr",
     "output_type": "stream",
     "text": [
      "100%|█████████▉| 300/301 [00:02<00:00, 144.55it/s]"
     ]
    },
    {
     "name": "stdout",
     "output_type": "stream",
     "text": [
      "[MoviePy] >>>> Building video cogsci_images/obvious_videos/obvious_xy_vxvy_rtheta/obvious_mass_interval_in_trial_1_sec_23_to_28_rnn_thinks_A_while_solution_is_A.mp4\n",
      "[MoviePy] Writing video cogsci_images/obvious_videos/obvious_xy_vxvy_rtheta/obvious_mass_interval_in_trial_1_sec_23_to_28_rnn_thinks_A_while_solution_is_A.mp4\n"
     ]
    },
    {
     "name": "stderr",
     "output_type": "stream",
     "text": [
      "\n",
      "100%|█████████▉| 300/301 [00:02<00:00, 134.61it/s]"
     ]
    },
    {
     "name": "stdout",
     "output_type": "stream",
     "text": [
      "[MoviePy] Done.\n",
      "[MoviePy] >>>> Video ready: cogsci_images/obvious_videos/obvious_xy_vxvy_rtheta/obvious_mass_interval_in_trial_1_sec_23_to_28_rnn_thinks_A_while_solution_is_A.mp4 \n",
      "\n"
     ]
    },
    {
     "name": "stderr",
     "output_type": "stream",
     "text": [
      "\n"
     ]
    },
    {
     "name": "stdout",
     "output_type": "stream",
     "text": [
      "RNN thinks the interval (14, 19) in trial 11 is B with 0.9446 confidence. In reality, it is B.\n",
      "Skipping trial 11 and start 14\n",
      "RNN thinks the interval (16, 21) in trial 28 is A with 0.9420 confidence. In reality, it is A.\n",
      "Skipping trial 28 and start 16\n",
      "RNN thinks the interval (22, 27) in trial 1 is A with 0.9377 confidence. In reality, it is A.\n",
      "Skipping trial 1 and start 22\n",
      "RNN thinks the interval (18, 23) in trial 28 is A with 0.9366 confidence. In reality, it is A.\n",
      "Skipping trial 28 and start 18\n",
      "RNN thinks the interval (1, 6) in trial 5 is B with 0.9343 confidence. In reality, it is B.\n"
     ]
    },
    {
     "name": "stderr",
     "output_type": "stream",
     "text": [
      "100%|█████████▉| 300/301 [00:02<00:00, 144.43it/s]\n"
     ]
    },
    {
     "name": "stdout",
     "output_type": "stream",
     "text": [
      "[MoviePy] >>>> Building video cogsci_images/obvious_videos/obvious_xy_vxvy_rtheta/obvious_mass_interval_in_trial_5_sec_1_to_6_rnn_thinks_B_while_solution_is_B.mp4\n",
      "[MoviePy] Writing video cogsci_images/obvious_videos/obvious_xy_vxvy_rtheta/obvious_mass_interval_in_trial_5_sec_1_to_6_rnn_thinks_B_while_solution_is_B.mp4\n"
     ]
    },
    {
     "name": "stderr",
     "output_type": "stream",
     "text": [
      "100%|█████████▉| 300/301 [00:02<00:00, 137.85it/s]\n"
     ]
    },
    {
     "name": "stdout",
     "output_type": "stream",
     "text": [
      "[MoviePy] Done.\n",
      "[MoviePy] >>>> Video ready: cogsci_images/obvious_videos/obvious_xy_vxvy_rtheta/obvious_mass_interval_in_trial_5_sec_1_to_6_rnn_thinks_B_while_solution_is_B.mp4 \n",
      "\n",
      "RNN thinks the interval (15, 20) in trial 11 is B with 0.9323 confidence. In reality, it is B.\n",
      "Skipping trial 11 and start 15\n",
      "RNN thinks the interval (38, 43) in trial 19 is A with 0.9286 confidence. In reality, it is A.\n"
     ]
    },
    {
     "name": "stderr",
     "output_type": "stream",
     "text": [
      "100%|█████████▉| 300/301 [00:02<00:00, 143.85it/s]"
     ]
    },
    {
     "name": "stdout",
     "output_type": "stream",
     "text": [
      "[MoviePy] >>>> Building video cogsci_images/obvious_videos/obvious_xy_vxvy_rtheta/obvious_mass_interval_in_trial_19_sec_38_to_43_rnn_thinks_A_while_solution_is_A.mp4\n",
      "[MoviePy] Writing video cogsci_images/obvious_videos/obvious_xy_vxvy_rtheta/obvious_mass_interval_in_trial_19_sec_38_to_43_rnn_thinks_A_while_solution_is_A.mp4\n"
     ]
    },
    {
     "name": "stderr",
     "output_type": "stream",
     "text": [
      "\n",
      "100%|█████████▉| 300/301 [00:02<00:00, 140.08it/s]"
     ]
    },
    {
     "name": "stdout",
     "output_type": "stream",
     "text": [
      "[MoviePy] Done.\n",
      "[MoviePy] >>>> Video ready: cogsci_images/obvious_videos/obvious_xy_vxvy_rtheta/obvious_mass_interval_in_trial_19_sec_38_to_43_rnn_thinks_A_while_solution_is_A.mp4 \n",
      "\n"
     ]
    },
    {
     "name": "stderr",
     "output_type": "stream",
     "text": [
      "\n"
     ]
    },
    {
     "name": "stdout",
     "output_type": "stream",
     "text": [
      "RNN thinks the interval (13, 18) in trial 11 is B with 0.9252 confidence. In reality, it is B.\n",
      "Skipping trial 11 and start 13\n",
      "RNN thinks the interval (17, 22) in trial 11 is B with 0.9172 confidence. In reality, it is B.\n",
      "Skipping trial 11 and start 17\n",
      "RNN thinks the interval (21, 26) in trial 1 is A with 0.9161 confidence. In reality, it is A.\n",
      "Skipping trial 1 and start 21\n",
      "RNN thinks the interval (24, 29) in trial 7 is A with 0.9153 confidence. In reality, it is A.\n"
     ]
    },
    {
     "name": "stderr",
     "output_type": "stream",
     "text": [
      "100%|█████████▉| 300/301 [00:02<00:00, 143.22it/s]"
     ]
    },
    {
     "name": "stdout",
     "output_type": "stream",
     "text": [
      "[MoviePy] >>>> Building video cogsci_images/obvious_videos/obvious_xy_vxvy_rtheta/obvious_mass_interval_in_trial_7_sec_24_to_29_rnn_thinks_A_while_solution_is_A.mp4\n",
      "[MoviePy] Writing video cogsci_images/obvious_videos/obvious_xy_vxvy_rtheta/obvious_mass_interval_in_trial_7_sec_24_to_29_rnn_thinks_A_while_solution_is_A.mp4\n"
     ]
    },
    {
     "name": "stderr",
     "output_type": "stream",
     "text": [
      "\n",
      "100%|█████████▉| 300/301 [00:02<00:00, 142.75it/s]"
     ]
    },
    {
     "name": "stdout",
     "output_type": "stream",
     "text": [
      "[MoviePy] Done.\n",
      "[MoviePy] >>>> Video ready: cogsci_images/obvious_videos/obvious_xy_vxvy_rtheta/obvious_mass_interval_in_trial_7_sec_24_to_29_rnn_thinks_A_while_solution_is_A.mp4 \n",
      "\n"
     ]
    },
    {
     "name": "stderr",
     "output_type": "stream",
     "text": [
      "\n"
     ]
    },
    {
     "name": "stdout",
     "output_type": "stream",
     "text": [
      "RNN thinks the interval (14, 19) in trial 1 is A with 0.9142 confidence. In reality, it is A.\n"
     ]
    },
    {
     "name": "stderr",
     "output_type": "stream",
     "text": [
      "100%|█████████▉| 300/301 [00:02<00:00, 143.13it/s]"
     ]
    },
    {
     "name": "stdout",
     "output_type": "stream",
     "text": [
      "[MoviePy] >>>> Building video cogsci_images/obvious_videos/obvious_xy_vxvy_rtheta/obvious_mass_interval_in_trial_1_sec_14_to_19_rnn_thinks_A_while_solution_is_A.mp4\n",
      "[MoviePy] Writing video cogsci_images/obvious_videos/obvious_xy_vxvy_rtheta/obvious_mass_interval_in_trial_1_sec_14_to_19_rnn_thinks_A_while_solution_is_A.mp4\n"
     ]
    },
    {
     "name": "stderr",
     "output_type": "stream",
     "text": [
      "\n",
      "100%|█████████▉| 300/301 [00:02<00:00, 140.03it/s]"
     ]
    },
    {
     "name": "stdout",
     "output_type": "stream",
     "text": [
      "[MoviePy] Done.\n",
      "[MoviePy] >>>> Video ready: cogsci_images/obvious_videos/obvious_xy_vxvy_rtheta/obvious_mass_interval_in_trial_1_sec_14_to_19_rnn_thinks_A_while_solution_is_A.mp4 \n",
      "\n"
     ]
    },
    {
     "name": "stderr",
     "output_type": "stream",
     "text": [
      "\n"
     ]
    },
    {
     "name": "stdout",
     "output_type": "stream",
     "text": [
      "RNN thinks the interval (23, 28) in trial 7 is A with 0.9140 confidence. In reality, it is A.\n",
      "Skipping trial 7 and start 23\n",
      "RNN thinks the interval (15, 20) in trial 28 is A with 0.9128 confidence. In reality, it is A.\n",
      "Skipping trial 28 and start 15\n",
      "RNN thinks the interval (27, 32) in trial 11 is B with 0.9121 confidence. In reality, it is B.\n"
     ]
    },
    {
     "name": "stderr",
     "output_type": "stream",
     "text": [
      "100%|█████████▉| 300/301 [00:02<00:00, 146.81it/s]\n"
     ]
    },
    {
     "name": "stdout",
     "output_type": "stream",
     "text": [
      "[MoviePy] >>>> Building video cogsci_images/obvious_videos/obvious_xy_vxvy_rtheta/obvious_mass_interval_in_trial_11_sec_27_to_32_rnn_thinks_B_while_solution_is_B.mp4\n",
      "[MoviePy] Writing video cogsci_images/obvious_videos/obvious_xy_vxvy_rtheta/obvious_mass_interval_in_trial_11_sec_27_to_32_rnn_thinks_B_while_solution_is_B.mp4\n"
     ]
    },
    {
     "name": "stderr",
     "output_type": "stream",
     "text": [
      "100%|█████████▉| 300/301 [00:02<00:00, 142.21it/s]"
     ]
    },
    {
     "name": "stdout",
     "output_type": "stream",
     "text": [
      "[MoviePy] Done.\n",
      "[MoviePy] >>>> Video ready: cogsci_images/obvious_videos/obvious_xy_vxvy_rtheta/obvious_mass_interval_in_trial_11_sec_27_to_32_rnn_thinks_B_while_solution_is_B.mp4 \n",
      "\n"
     ]
    },
    {
     "name": "stderr",
     "output_type": "stream",
     "text": [
      "\n"
     ]
    },
    {
     "name": "stdout",
     "output_type": "stream",
     "text": [
      "RNN thinks the interval (39, 44) in trial 19 is A with 0.9119 confidence. In reality, it is A.\n",
      "Skipping trial 19 and start 39\n",
      "RNN thinks the interval (27, 32) in trial 1 is A with 0.9106 confidence. In reality, it is A.\n",
      "Skipping trial 1 and start 27\n",
      "RNN thinks the interval (5, 10) in trial 19 is A with 0.9027 confidence. In reality, it is A.\n"
     ]
    },
    {
     "name": "stderr",
     "output_type": "stream",
     "text": [
      "100%|█████████▉| 300/301 [00:02<00:00, 134.30it/s]\n"
     ]
    },
    {
     "name": "stdout",
     "output_type": "stream",
     "text": [
      "[MoviePy] >>>> Building video cogsci_images/obvious_videos/obvious_xy_vxvy_rtheta/obvious_mass_interval_in_trial_19_sec_5_to_10_rnn_thinks_A_while_solution_is_A.mp4\n",
      "[MoviePy] Writing video cogsci_images/obvious_videos/obvious_xy_vxvy_rtheta/obvious_mass_interval_in_trial_19_sec_5_to_10_rnn_thinks_A_while_solution_is_A.mp4\n"
     ]
    },
    {
     "name": "stderr",
     "output_type": "stream",
     "text": [
      "100%|█████████▉| 300/301 [00:02<00:00, 126.39it/s]"
     ]
    },
    {
     "name": "stdout",
     "output_type": "stream",
     "text": [
      "[MoviePy] Done.\n",
      "[MoviePy] >>>> Video ready: cogsci_images/obvious_videos/obvious_xy_vxvy_rtheta/obvious_mass_interval_in_trial_19_sec_5_to_10_rnn_thinks_A_while_solution_is_A.mp4 \n",
      "\n"
     ]
    },
    {
     "name": "stderr",
     "output_type": "stream",
     "text": [
      "\n"
     ]
    },
    {
     "name": "stdout",
     "output_type": "stream",
     "text": [
      "RNN thinks the interval (28, 33) in trial 11 is B with 0.9023 confidence. In reality, it is B.\n",
      "Skipping trial 11 and start 28\n",
      "RNN thinks the interval (37, 42) in trial 19 is A with 0.9007 confidence. In reality, it is A.\n",
      "Skipping trial 19 and start 37\n",
      "RNN thinks the interval (3, 8) in trial 5 is B with 0.9005 confidence. In reality, it is B.\n",
      "Skipping trial 5 and start 3\n",
      "RNN thinks the interval (2, 7) in trial 5 is B with 0.8996 confidence. In reality, it is B.\n",
      "Skipping trial 5 and start 2\n",
      "RNN thinks the interval (2, 7) in trial 32 is B with 0.8948 confidence. In reality, it is B.\n"
     ]
    },
    {
     "name": "stderr",
     "output_type": "stream",
     "text": [
      "100%|█████████▉| 300/301 [00:02<00:00, 142.50it/s]"
     ]
    },
    {
     "name": "stdout",
     "output_type": "stream",
     "text": [
      "[MoviePy] >>>> Building video cogsci_images/obvious_videos/obvious_xy_vxvy_rtheta/obvious_mass_interval_in_trial_32_sec_2_to_7_rnn_thinks_B_while_solution_is_B.mp4\n",
      "[MoviePy] Writing video cogsci_images/obvious_videos/obvious_xy_vxvy_rtheta/obvious_mass_interval_in_trial_32_sec_2_to_7_rnn_thinks_B_while_solution_is_B.mp4\n"
     ]
    },
    {
     "name": "stderr",
     "output_type": "stream",
     "text": [
      "\n",
      "100%|█████████▉| 300/301 [00:02<00:00, 139.02it/s]"
     ]
    },
    {
     "name": "stdout",
     "output_type": "stream",
     "text": [
      "[MoviePy] Done.\n",
      "[MoviePy] >>>> Video ready: cogsci_images/obvious_videos/obvious_xy_vxvy_rtheta/obvious_mass_interval_in_trial_32_sec_2_to_7_rnn_thinks_B_while_solution_is_B.mp4 \n",
      "\n"
     ]
    },
    {
     "name": "stderr",
     "output_type": "stream",
     "text": [
      "\n"
     ]
    }
   ],
   "source": [
    "write_obvious_intervals(obvious_mass_dfs, \"mass\")"
   ]
  }
 ],
 "metadata": {
  "kernelspec": {
   "display_name": "Python 3",
   "language": "python",
   "name": "python3"
  },
  "language_info": {
   "codemirror_mode": {
    "name": "ipython",
    "version": 3
   },
   "file_extension": ".py",
   "mimetype": "text/x-python",
   "name": "python",
   "nbconvert_exporter": "python",
   "pygments_lexer": "ipython3",
   "version": "3.5.6"
  }
 },
 "nbformat": 4,
 "nbformat_minor": 2
}
