{
 "cells": [
  {
   "cell_type": "markdown",
   "metadata": {},
   "source": [
    "# Question to be answered:\n",
    "\n",
    "- Is the accuracy of model/human significantly better? In both force and mass questions?\n",
    "- Is the distribution of responses significantly different?"
   ]
  },
  {
   "cell_type": "code",
   "execution_count": 1,
   "metadata": {},
   "outputs": [
    {
     "name": "stdout",
     "output_type": "stream",
     "text": [
      "pygame 1.9.6\n",
      "Hello from the pygame community. https://www.pygame.org/contribute.html\n"
     ]
    }
   ],
   "source": [
    "import isaac.constants\n",
    "isaac.constants.TQDM_DISABLE = True\n",
    "\n",
    "from torch import nn\n",
    "from isaac.utils import get_cuda_device_if_available\n",
    "import joblib\n",
    "\n",
    "from isaac.dataset import read_dataset, prepare_dataset\n",
    "from isaac.models import MultiBranchModel\n",
    "from isaac.constants import BASIC_TRAINING_COLS, MASS_CLASS_COLS, FORCE_CLASS_COLS\n",
    "from isaac.evaluation import evaluate_saved_model\n",
    "from isaac.statistical_tests import z_test\n",
    "from isaac.visualization import plot_confusion_matrix\n",
    "\n",
    "from scipy.stats import ttest_ind, ttest_rel, f_oneway\n",
    "\n",
    "import torch\n",
    "import glob\n",
    "from torch.autograd import Variable\n",
    "import numpy as np\n",
    "import pandas as pd\n",
    "from tqdm import tqdm"
   ]
  },
  {
   "cell_type": "code",
   "execution_count": 2,
   "metadata": {},
   "outputs": [
    {
     "name": "stdout",
     "output_type": "stream",
     "text": [
      "cpu\n"
     ]
    }
   ],
   "source": [
    "device = get_cuda_device_if_available()\n",
    "print(device)"
   ]
  },
  {
   "cell_type": "markdown",
   "metadata": {},
   "source": [
    "RTHETA_ATTRS = [obj+\".\"+attr for obj in [\"o1\", \"o2\", \"o3\", \"o4\"] for attr in [\"x\", \"y\", \"r\", \"theta\"]]\n",
    "\n",
    "def add_r_theta_attributes(trials):\n",
    "    for trial in tqdm(trials):\n",
    "        for obj in [\"o1\", \"o2\", \"o3\", \"o4\"]:\n",
    "            trial[obj+\".r\"] = (trial[obj+\".vx\"]**2 + trial[obj+\".vy\"]**2)**0.5\n",
    "            trial[obj+\".theta\"] = (np.arctan2(trial[obj+\".vx\"], trial[obj+\".vy\"]) * 180 / np.pi)"
   ]
  },
  {
   "cell_type": "code",
   "execution_count": 3,
   "metadata": {},
   "outputs": [],
   "source": [
    "def get_question_accuracy_for_group_of_models(question_type):\n",
    "    normalise_data = True\n",
    "    scaler_path = \"scalers/passive_dual_scaler.sk\"\n",
    "    network_dims = (len(BASIC_TRAINING_COLS), 25, 3, 0.5)\n",
    "    dataset_path = \"../new_exp_data/exp7_passive.h5\"\n",
    "    class_columns = [list(MASS_CLASS_COLS), list(FORCE_CLASS_COLS)]\n",
    "    multiclass = True\n",
    "    seq_end = 2700\n",
    "    step_size = 3\n",
    "    \n",
    "    models = sorted(glob.glob(\"models/train_25_mb/best_\"+question_type+\"_model_seed_*.pt\"))\n",
    "\n",
    "    group_accuracy = []\n",
    "    group_predictions = []\n",
    "    \n",
    "    # trials = read_dataset(dataset_path)\n",
    "    # add_r_theta_attributes(trials)\n",
    "\n",
    "    for model_path in tqdm(models):\n",
    "        accuracies, predicted = evaluate_saved_model(model_path, network_dims, dataset_path, \n",
    "                                                     training_columns=BASIC_TRAINING_COLS, class_columns=class_columns, \n",
    "                                                     step_size=step_size, seq_end=seq_end, scaler_path=scaler_path,\n",
    "                                                     arch=MultiBranchModel, multiclass=multiclass, trials=None)\n",
    "\n",
    "        if question_type == \"mass\":\n",
    "            accuracy = accuracies[0]\n",
    "            predicted = predicted[:, 0]\n",
    "        else:\n",
    "            accuracy = accuracies[1]\n",
    "            predicted = predicted[:, 1]\n",
    "\n",
    "        group_accuracy.append(accuracy)\n",
    "        group_predictions.append(predicted.numpy())\n",
    "\n",
    "    return group_accuracy, group_predictions\n",
    "\n",
    "\n",
    "def get_participant_accuracy_filtering_by_answer(passive_responses, answer_column, question_type_answer, filter_by_class):\n",
    "    \n",
    "    passive_responses = passive_responses.copy().query(question_type_answer+\" == \"+filter_by_class)\n",
    "    return passive_responses[answer_column]"
   ]
  },
  {
   "cell_type": "markdown",
   "metadata": {},
   "source": [
    "# T-test for MASS questions"
   ]
  },
  {
   "cell_type": "markdown",
   "metadata": {},
   "source": [
    "## Load model's predictions"
   ]
  },
  {
   "cell_type": "code",
   "execution_count": 4,
   "metadata": {
    "scrolled": true
   },
   "outputs": [
    {
     "name": "stderr",
     "output_type": "stream",
     "text": [
      "\r",
      "  0%|          | 0/25 [00:00<?, ?it/s]"
     ]
    },
    {
     "name": "stdout",
     "output_type": "stream",
     "text": [
      "MASS\n"
     ]
    },
    {
     "name": "stderr",
     "output_type": "stream",
     "text": [
      "\r",
      "  4%|▍         | 1/25 [00:01<00:24,  1.04s/it]"
     ]
    },
    {
     "name": "stdout",
     "output_type": "stream",
     "text": [
      "Model's accuracy on test set: [69.44444444 63.88888889]\n"
     ]
    },
    {
     "name": "stderr",
     "output_type": "stream",
     "text": [
      "\r",
      "  8%|▊         | 2/25 [00:01<00:23,  1.00s/it]"
     ]
    },
    {
     "name": "stdout",
     "output_type": "stream",
     "text": [
      "Model's accuracy on test set: [52.77777778 75.        ]\n"
     ]
    },
    {
     "name": "stderr",
     "output_type": "stream",
     "text": [
      "\r",
      " 12%|█▏        | 3/25 [00:02<00:20,  1.05it/s]"
     ]
    },
    {
     "name": "stdout",
     "output_type": "stream",
     "text": [
      "Model's accuracy on test set: [50.         72.22222222]\n"
     ]
    },
    {
     "name": "stderr",
     "output_type": "stream",
     "text": [
      "\r",
      " 16%|█▌        | 4/25 [00:03<00:18,  1.11it/s]"
     ]
    },
    {
     "name": "stdout",
     "output_type": "stream",
     "text": [
      "Model's accuracy on test set: [69.44444444 63.88888889]\n"
     ]
    },
    {
     "name": "stderr",
     "output_type": "stream",
     "text": [
      "\r",
      " 20%|██        | 5/25 [00:04<00:17,  1.16it/s]"
     ]
    },
    {
     "name": "stdout",
     "output_type": "stream",
     "text": [
      "Model's accuracy on test set: [63.88888889 61.11111111]\n"
     ]
    },
    {
     "name": "stderr",
     "output_type": "stream",
     "text": [
      "\r",
      " 24%|██▍       | 6/25 [00:05<00:15,  1.19it/s]"
     ]
    },
    {
     "name": "stdout",
     "output_type": "stream",
     "text": [
      "Model's accuracy on test set: [52.77777778 72.22222222]\n"
     ]
    },
    {
     "name": "stderr",
     "output_type": "stream",
     "text": [
      "\r",
      " 28%|██▊       | 7/25 [00:05<00:14,  1.21it/s]"
     ]
    },
    {
     "name": "stdout",
     "output_type": "stream",
     "text": [
      "Model's accuracy on test set: [52.77777778 61.11111111]\n"
     ]
    },
    {
     "name": "stderr",
     "output_type": "stream",
     "text": [
      "\r",
      " 32%|███▏      | 8/25 [00:06<00:13,  1.22it/s]"
     ]
    },
    {
     "name": "stdout",
     "output_type": "stream",
     "text": [
      "Model's accuracy on test set: [50.         55.55555556]\n"
     ]
    },
    {
     "name": "stderr",
     "output_type": "stream",
     "text": [
      "\r",
      " 36%|███▌      | 9/25 [00:07<00:12,  1.24it/s]"
     ]
    },
    {
     "name": "stdout",
     "output_type": "stream",
     "text": [
      "Model's accuracy on test set: [47.22222222 52.77777778]\n"
     ]
    },
    {
     "name": "stderr",
     "output_type": "stream",
     "text": [
      "\r",
      " 40%|████      | 10/25 [00:08<00:12,  1.25it/s]"
     ]
    },
    {
     "name": "stdout",
     "output_type": "stream",
     "text": [
      "Model's accuracy on test set: [47.22222222 63.88888889]\n"
     ]
    },
    {
     "name": "stderr",
     "output_type": "stream",
     "text": [
      "\r",
      " 44%|████▍     | 11/25 [00:09<00:11,  1.25it/s]"
     ]
    },
    {
     "name": "stdout",
     "output_type": "stream",
     "text": [
      "Model's accuracy on test set: [50.         77.77777778]\n"
     ]
    },
    {
     "name": "stderr",
     "output_type": "stream",
     "text": [
      "\r",
      " 48%|████▊     | 12/25 [00:09<00:10,  1.26it/s]"
     ]
    },
    {
     "name": "stdout",
     "output_type": "stream",
     "text": [
      "Model's accuracy on test set: [55.55555556 77.77777778]\n"
     ]
    },
    {
     "name": "stderr",
     "output_type": "stream",
     "text": [
      "\r",
      " 52%|█████▏    | 13/25 [00:10<00:09,  1.27it/s]"
     ]
    },
    {
     "name": "stdout",
     "output_type": "stream",
     "text": [
      "Model's accuracy on test set: [58.33333333 52.77777778]\n"
     ]
    },
    {
     "name": "stderr",
     "output_type": "stream",
     "text": [
      "\r",
      " 56%|█████▌    | 14/25 [00:11<00:08,  1.27it/s]"
     ]
    },
    {
     "name": "stdout",
     "output_type": "stream",
     "text": [
      "Model's accuracy on test set: [61.11111111 75.        ]\n"
     ]
    },
    {
     "name": "stderr",
     "output_type": "stream",
     "text": [
      "\r",
      " 60%|██████    | 15/25 [00:12<00:07,  1.28it/s]"
     ]
    },
    {
     "name": "stdout",
     "output_type": "stream",
     "text": [
      "Model's accuracy on test set: [50.         63.88888889]\n"
     ]
    },
    {
     "name": "stderr",
     "output_type": "stream",
     "text": [
      "\r",
      " 64%|██████▍   | 16/25 [00:12<00:06,  1.29it/s]"
     ]
    },
    {
     "name": "stdout",
     "output_type": "stream",
     "text": [
      "Model's accuracy on test set: [55.55555556 61.11111111]\n"
     ]
    },
    {
     "name": "stderr",
     "output_type": "stream",
     "text": [
      "\r",
      " 68%|██████▊   | 17/25 [00:13<00:06,  1.29it/s]"
     ]
    },
    {
     "name": "stdout",
     "output_type": "stream",
     "text": [
      "Model's accuracy on test set: [41.66666667 66.66666667]\n"
     ]
    },
    {
     "name": "stderr",
     "output_type": "stream",
     "text": [
      "\r",
      " 72%|███████▏  | 18/25 [00:14<00:05,  1.28it/s]"
     ]
    },
    {
     "name": "stdout",
     "output_type": "stream",
     "text": [
      "Model's accuracy on test set: [66.66666667 69.44444444]\n"
     ]
    },
    {
     "name": "stderr",
     "output_type": "stream",
     "text": [
      "\r",
      " 76%|███████▌  | 19/25 [00:15<00:04,  1.27it/s]"
     ]
    },
    {
     "name": "stdout",
     "output_type": "stream",
     "text": [
      "Model's accuracy on test set: [50.         55.55555556]\n"
     ]
    },
    {
     "name": "stderr",
     "output_type": "stream",
     "text": [
      "\r",
      " 80%|████████  | 20/25 [00:16<00:03,  1.26it/s]"
     ]
    },
    {
     "name": "stdout",
     "output_type": "stream",
     "text": [
      "Model's accuracy on test set: [52.77777778 66.66666667]\n"
     ]
    },
    {
     "name": "stderr",
     "output_type": "stream",
     "text": [
      "\r",
      " 84%|████████▍ | 21/25 [00:16<00:03,  1.26it/s]"
     ]
    },
    {
     "name": "stdout",
     "output_type": "stream",
     "text": [
      "Model's accuracy on test set: [41.66666667 72.22222222]\n"
     ]
    },
    {
     "name": "stderr",
     "output_type": "stream",
     "text": [
      "\r",
      " 88%|████████▊ | 22/25 [00:17<00:02,  1.25it/s]"
     ]
    },
    {
     "name": "stdout",
     "output_type": "stream",
     "text": [
      "Model's accuracy on test set: [52.77777778 58.33333333]\n"
     ]
    },
    {
     "name": "stderr",
     "output_type": "stream",
     "text": [
      "\r",
      " 92%|█████████▏| 23/25 [00:18<00:01,  1.25it/s]"
     ]
    },
    {
     "name": "stdout",
     "output_type": "stream",
     "text": [
      "Model's accuracy on test set: [50.         61.11111111]\n"
     ]
    },
    {
     "name": "stderr",
     "output_type": "stream",
     "text": [
      "\r",
      " 96%|█████████▌| 24/25 [00:19<00:00,  1.25it/s]"
     ]
    },
    {
     "name": "stdout",
     "output_type": "stream",
     "text": [
      "Model's accuracy on test set: [41.66666667 58.33333333]\n"
     ]
    },
    {
     "name": "stderr",
     "output_type": "stream",
     "text": [
      "100%|██████████| 25/25 [00:20<00:00,  1.24it/s]\n",
      "  0%|          | 0/25 [00:00<?, ?it/s]"
     ]
    },
    {
     "name": "stdout",
     "output_type": "stream",
     "text": [
      "Model's accuracy on test set: [58.33333333 75.        ]\n",
      "\n",
      "FORCE\n"
     ]
    },
    {
     "name": "stderr",
     "output_type": "stream",
     "text": [
      "\r",
      "  4%|▍         | 1/25 [00:01<00:24,  1.01s/it]"
     ]
    },
    {
     "name": "stdout",
     "output_type": "stream",
     "text": [
      "Model's accuracy on test set: [69.44444444 69.44444444]\n"
     ]
    },
    {
     "name": "stderr",
     "output_type": "stream",
     "text": [
      "\r",
      "  8%|▊         | 2/25 [00:01<00:22,  1.01it/s]"
     ]
    },
    {
     "name": "stdout",
     "output_type": "stream",
     "text": [
      "Model's accuracy on test set: [66.66666667 69.44444444]\n"
     ]
    },
    {
     "name": "stderr",
     "output_type": "stream",
     "text": [
      "\r",
      " 12%|█▏        | 3/25 [00:02<00:21,  1.02it/s]"
     ]
    },
    {
     "name": "stdout",
     "output_type": "stream",
     "text": [
      "Model's accuracy on test set: [50.         72.22222222]\n"
     ]
    },
    {
     "name": "stderr",
     "output_type": "stream",
     "text": [
      "\r",
      " 16%|█▌        | 4/25 [00:03<00:20,  1.03it/s]"
     ]
    },
    {
     "name": "stdout",
     "output_type": "stream",
     "text": [
      "Model's accuracy on test set: [58.33333333 66.66666667]\n"
     ]
    },
    {
     "name": "stderr",
     "output_type": "stream",
     "text": [
      "\r",
      " 20%|██        | 5/25 [00:04<00:18,  1.07it/s]"
     ]
    },
    {
     "name": "stdout",
     "output_type": "stream",
     "text": [
      "Model's accuracy on test set: [61.11111111 66.66666667]\n"
     ]
    },
    {
     "name": "stderr",
     "output_type": "stream",
     "text": [
      "\r",
      " 24%|██▍       | 6/25 [00:05<00:17,  1.09it/s]"
     ]
    },
    {
     "name": "stdout",
     "output_type": "stream",
     "text": [
      "Model's accuracy on test set: [55.55555556 63.88888889]\n"
     ]
    },
    {
     "name": "stderr",
     "output_type": "stream",
     "text": [
      "\r",
      " 28%|██▊       | 7/25 [00:06<00:15,  1.13it/s]"
     ]
    },
    {
     "name": "stdout",
     "output_type": "stream",
     "text": [
      "Model's accuracy on test set: [55.55555556 69.44444444]\n"
     ]
    },
    {
     "name": "stderr",
     "output_type": "stream",
     "text": [
      "\r",
      " 32%|███▏      | 8/25 [00:07<00:14,  1.16it/s]"
     ]
    },
    {
     "name": "stdout",
     "output_type": "stream",
     "text": [
      "Model's accuracy on test set: [55.55555556 50.        ]\n"
     ]
    },
    {
     "name": "stderr",
     "output_type": "stream",
     "text": [
      "\r",
      " 36%|███▌      | 9/25 [00:08<00:13,  1.19it/s]"
     ]
    },
    {
     "name": "stdout",
     "output_type": "stream",
     "text": [
      "Model's accuracy on test set: [44.44444444 58.33333333]\n"
     ]
    },
    {
     "name": "stderr",
     "output_type": "stream",
     "text": [
      "\r",
      " 40%|████      | 10/25 [00:08<00:12,  1.21it/s]"
     ]
    },
    {
     "name": "stdout",
     "output_type": "stream",
     "text": [
      "Model's accuracy on test set: [44.44444444 58.33333333]\n"
     ]
    },
    {
     "name": "stderr",
     "output_type": "stream",
     "text": [
      "\r",
      " 44%|████▍     | 11/25 [00:09<00:11,  1.23it/s]"
     ]
    },
    {
     "name": "stdout",
     "output_type": "stream",
     "text": [
      "Model's accuracy on test set: [58.33333333 72.22222222]\n"
     ]
    },
    {
     "name": "stderr",
     "output_type": "stream",
     "text": [
      "\r",
      " 48%|████▊     | 12/25 [00:10<00:10,  1.23it/s]"
     ]
    },
    {
     "name": "stdout",
     "output_type": "stream",
     "text": [
      "Model's accuracy on test set: [63.88888889 63.88888889]\n"
     ]
    },
    {
     "name": "stderr",
     "output_type": "stream",
     "text": [
      "\r",
      " 52%|█████▏    | 13/25 [00:11<00:09,  1.22it/s]"
     ]
    },
    {
     "name": "stdout",
     "output_type": "stream",
     "text": [
      "Model's accuracy on test set: [55.55555556 61.11111111]\n"
     ]
    },
    {
     "name": "stderr",
     "output_type": "stream",
     "text": [
      "\r",
      " 56%|█████▌    | 14/25 [00:12<00:09,  1.21it/s]"
     ]
    },
    {
     "name": "stdout",
     "output_type": "stream",
     "text": [
      "Model's accuracy on test set: [52.77777778 80.55555556]\n"
     ]
    },
    {
     "name": "stderr",
     "output_type": "stream",
     "text": [
      "\r",
      " 60%|██████    | 15/25 [00:13<00:08,  1.16it/s]"
     ]
    },
    {
     "name": "stdout",
     "output_type": "stream",
     "text": [
      "Model's accuracy on test set: [61.11111111 61.11111111]\n"
     ]
    },
    {
     "name": "stderr",
     "output_type": "stream",
     "text": [
      "\r",
      " 64%|██████▍   | 16/25 [00:13<00:08,  1.12it/s]"
     ]
    },
    {
     "name": "stdout",
     "output_type": "stream",
     "text": [
      "Model's accuracy on test set: [55.55555556 63.88888889]\n"
     ]
    },
    {
     "name": "stderr",
     "output_type": "stream",
     "text": [
      "\r",
      " 68%|██████▊   | 17/25 [00:14<00:07,  1.10it/s]"
     ]
    },
    {
     "name": "stdout",
     "output_type": "stream",
     "text": [
      "Model's accuracy on test set: [58.33333333 66.66666667]\n"
     ]
    },
    {
     "name": "stderr",
     "output_type": "stream",
     "text": [
      "\r",
      " 72%|███████▏  | 18/25 [00:15<00:06,  1.12it/s]"
     ]
    },
    {
     "name": "stdout",
     "output_type": "stream",
     "text": [
      "Model's accuracy on test set: [66.66666667 69.44444444]\n"
     ]
    },
    {
     "name": "stderr",
     "output_type": "stream",
     "text": [
      "\r",
      " 76%|███████▌  | 19/25 [00:16<00:05,  1.08it/s]"
     ]
    },
    {
     "name": "stdout",
     "output_type": "stream",
     "text": [
      "Model's accuracy on test set: [52.77777778 61.11111111]\n"
     ]
    },
    {
     "name": "stderr",
     "output_type": "stream",
     "text": [
      "\r",
      " 80%|████████  | 20/25 [00:17<00:04,  1.03it/s]"
     ]
    },
    {
     "name": "stdout",
     "output_type": "stream",
     "text": [
      "Model's accuracy on test set: [52.77777778 66.66666667]\n"
     ]
    },
    {
     "name": "stderr",
     "output_type": "stream",
     "text": [
      "\r",
      " 84%|████████▍ | 21/25 [00:18<00:03,  1.06it/s]"
     ]
    },
    {
     "name": "stdout",
     "output_type": "stream",
     "text": [
      "Model's accuracy on test set: [41.66666667 75.        ]\n"
     ]
    },
    {
     "name": "stderr",
     "output_type": "stream",
     "text": [
      "\r",
      " 88%|████████▊ | 22/25 [00:19<00:02,  1.11it/s]"
     ]
    },
    {
     "name": "stdout",
     "output_type": "stream",
     "text": [
      "Model's accuracy on test set: [61.11111111 58.33333333]\n"
     ]
    },
    {
     "name": "stderr",
     "output_type": "stream",
     "text": [
      "\r",
      " 92%|█████████▏| 23/25 [00:20<00:01,  1.12it/s]"
     ]
    },
    {
     "name": "stdout",
     "output_type": "stream",
     "text": [
      "Model's accuracy on test set: [52.77777778 61.11111111]\n"
     ]
    },
    {
     "name": "stderr",
     "output_type": "stream",
     "text": [
      "\r",
      " 96%|█████████▌| 24/25 [00:21<00:00,  1.15it/s]"
     ]
    },
    {
     "name": "stdout",
     "output_type": "stream",
     "text": [
      "Model's accuracy on test set: [44.44444444 61.11111111]\n"
     ]
    },
    {
     "name": "stderr",
     "output_type": "stream",
     "text": [
      "\r",
      "100%|██████████| 25/25 [00:22<00:00,  1.16it/s]"
     ]
    },
    {
     "name": "stdout",
     "output_type": "stream",
     "text": [
      "Model's accuracy on test set: [58.33333333 75.        ]\n"
     ]
    },
    {
     "name": "stderr",
     "output_type": "stream",
     "text": [
      "\n"
     ]
    }
   ],
   "source": [
    "print(\"MASS\")\n",
    "question_type = \"mass\"\n",
    "group_mass_acc, group_mass_prediction = get_question_accuracy_for_group_of_models(question_type)\n",
    "     \n",
    "print(\"\\nFORCE\")\n",
    "question_type = \"force\"\n",
    "group_force_acc, group_force_prediction = get_question_accuracy_for_group_of_models(question_type)"
   ]
  },
  {
   "cell_type": "code",
   "execution_count": 5,
   "metadata": {},
   "outputs": [],
   "source": [
    "group_mass_prediction = np.array(group_mass_prediction)\n",
    "group_force_prediction = np.array(group_force_prediction)"
   ]
  },
  {
   "cell_type": "code",
   "execution_count": 6,
   "metadata": {},
   "outputs": [],
   "source": [
    "answers = []\n",
    "for question_i in range(group_mass_prediction.shape[1]):\n",
    "    \n",
    "    mass_predictions = list(group_mass_prediction[:, question_i])\n",
    "    question_mass_answers = [(key, mass_predictions.count(key) / 25) for key in range(3)]\n",
    "    question_mass_counts = [x[1] for x in question_mass_answers]\n",
    "    \n",
    "    sorted_mass_answers = sorted(question_mass_answers, key=lambda x: x[1], reverse=True)\n",
    "    sorted_mass_answers = np.hstack(sorted_mass_answers)\n",
    "    question_mass_answers = np.concatenate((sorted_mass_answers, question_mass_counts))\n",
    "        \n",
    "    force_predictions = list(group_force_prediction[:, question_i])\n",
    "    question_force_answers = [(key, force_predictions.count(key) / 25) for key in range(3)]\n",
    "    question_force_counts = [x[1] for x in question_force_answers]\n",
    "    \n",
    "    sorted_force_answers = sorted(question_force_answers, key=lambda x: x[1], reverse=True)\n",
    "    sorted_force_answers = np.hstack(sorted_force_answers)\n",
    "    question_force_answers = np.concatenate((sorted_force_answers, question_force_counts))\n",
    "    \n",
    "    answers.append(np.hstack((question_mass_answers, question_force_answers)))\n",
    "    \n",
    "\n",
    "model_answers_df = pd.DataFrame(data=answers, \n",
    "                                columns=[\"models_first_mass_resp\", \"models_first_mass_count\", \n",
    "                                         \"models_second_mass_resp\", \"models_second_mass_count\",\n",
    "                                         \"models_third_mass_resp\", \"models_third_mass_count\",\n",
    "                                         \"models_chose_A\", \"models_chose_B\", \"models_chose_same\",\n",
    "                                         \"models_first_rel_resp\", \"models_first_rel_count\", \n",
    "                                         \"models_second_rel_resp\", \"models_second_rel_count\",\n",
    "                                         \"models_third_rel_resp\", \"models_third_rel_count\",\n",
    "                                         \"models_chose_attract\", \"models_chose_none\", \"models_chose_repel\",\n",
    "                                         ])\n",
    "\n",
    "mass_answer_id_to_str = lambda x: MASS_CLASS_COLS[int(x)]\n",
    "rel_answer_id_to_str = lambda x: FORCE_CLASS_COLS[int(x)]\n",
    "\n",
    "model_answers_df.models_first_mass_resp = model_answers_df.models_first_mass_resp.apply(mass_answer_id_to_str)\n",
    "model_answers_df.models_second_mass_resp = model_answers_df.models_second_mass_resp.apply(mass_answer_id_to_str)\n",
    "model_answers_df.models_third_mass_resp = model_answers_df.models_third_mass_resp.apply(mass_answer_id_to_str)\n",
    "\n",
    "model_answers_df.models_first_rel_resp = model_answers_df.models_first_rel_resp.apply(rel_answer_id_to_str)\n",
    "model_answers_df.models_second_rel_resp = model_answers_df.models_second_rel_resp.apply(rel_answer_id_to_str)\n",
    "model_answers_df.models_third_rel_resp = model_answers_df.models_third_rel_resp.apply(rel_answer_id_to_str)"
   ]
  },
  {
   "cell_type": "code",
   "execution_count": 7,
   "metadata": {},
   "outputs": [
    {
     "data": {
      "text/html": [
       "<div>\n",
       "<style scoped>\n",
       "    .dataframe tbody tr th:only-of-type {\n",
       "        vertical-align: middle;\n",
       "    }\n",
       "\n",
       "    .dataframe tbody tr th {\n",
       "        vertical-align: top;\n",
       "    }\n",
       "\n",
       "    .dataframe thead th {\n",
       "        text-align: right;\n",
       "    }\n",
       "</style>\n",
       "<table border=\"1\" class=\"dataframe\">\n",
       "  <thead>\n",
       "    <tr style=\"text-align: right;\">\n",
       "      <th></th>\n",
       "      <th>models_first_mass_resp</th>\n",
       "      <th>models_first_mass_count</th>\n",
       "      <th>models_second_mass_resp</th>\n",
       "      <th>models_second_mass_count</th>\n",
       "      <th>models_third_mass_resp</th>\n",
       "      <th>models_third_mass_count</th>\n",
       "      <th>models_chose_A</th>\n",
       "      <th>models_chose_B</th>\n",
       "      <th>models_chose_same</th>\n",
       "      <th>models_first_rel_resp</th>\n",
       "      <th>models_first_rel_count</th>\n",
       "      <th>models_second_rel_resp</th>\n",
       "      <th>models_second_rel_count</th>\n",
       "      <th>models_third_rel_resp</th>\n",
       "      <th>models_third_rel_count</th>\n",
       "      <th>models_chose_attract</th>\n",
       "      <th>models_chose_none</th>\n",
       "      <th>models_chose_repel</th>\n",
       "    </tr>\n",
       "  </thead>\n",
       "  <tbody>\n",
       "    <tr>\n",
       "      <th>0</th>\n",
       "      <td>A</td>\n",
       "      <td>0.48</td>\n",
       "      <td>same</td>\n",
       "      <td>0.44</td>\n",
       "      <td>B</td>\n",
       "      <td>0.08</td>\n",
       "      <td>0.48</td>\n",
       "      <td>0.08</td>\n",
       "      <td>0.44</td>\n",
       "      <td>attract</td>\n",
       "      <td>0.84</td>\n",
       "      <td>none</td>\n",
       "      <td>0.16</td>\n",
       "      <td>repel</td>\n",
       "      <td>0.00</td>\n",
       "      <td>0.84</td>\n",
       "      <td>0.16</td>\n",
       "      <td>0.00</td>\n",
       "    </tr>\n",
       "    <tr>\n",
       "      <th>1</th>\n",
       "      <td>A</td>\n",
       "      <td>0.76</td>\n",
       "      <td>same</td>\n",
       "      <td>0.24</td>\n",
       "      <td>B</td>\n",
       "      <td>0.00</td>\n",
       "      <td>0.76</td>\n",
       "      <td>0.00</td>\n",
       "      <td>0.24</td>\n",
       "      <td>attract</td>\n",
       "      <td>1.00</td>\n",
       "      <td>none</td>\n",
       "      <td>0.00</td>\n",
       "      <td>repel</td>\n",
       "      <td>0.00</td>\n",
       "      <td>1.00</td>\n",
       "      <td>0.00</td>\n",
       "      <td>0.00</td>\n",
       "    </tr>\n",
       "    <tr>\n",
       "      <th>2</th>\n",
       "      <td>B</td>\n",
       "      <td>0.96</td>\n",
       "      <td>same</td>\n",
       "      <td>0.04</td>\n",
       "      <td>A</td>\n",
       "      <td>0.00</td>\n",
       "      <td>0.00</td>\n",
       "      <td>0.96</td>\n",
       "      <td>0.04</td>\n",
       "      <td>attract</td>\n",
       "      <td>1.00</td>\n",
       "      <td>none</td>\n",
       "      <td>0.00</td>\n",
       "      <td>repel</td>\n",
       "      <td>0.00</td>\n",
       "      <td>1.00</td>\n",
       "      <td>0.00</td>\n",
       "      <td>0.00</td>\n",
       "    </tr>\n",
       "    <tr>\n",
       "      <th>3</th>\n",
       "      <td>same</td>\n",
       "      <td>0.60</td>\n",
       "      <td>A</td>\n",
       "      <td>0.36</td>\n",
       "      <td>B</td>\n",
       "      <td>0.04</td>\n",
       "      <td>0.36</td>\n",
       "      <td>0.04</td>\n",
       "      <td>0.60</td>\n",
       "      <td>none</td>\n",
       "      <td>0.64</td>\n",
       "      <td>repel</td>\n",
       "      <td>0.24</td>\n",
       "      <td>attract</td>\n",
       "      <td>0.12</td>\n",
       "      <td>0.12</td>\n",
       "      <td>0.64</td>\n",
       "      <td>0.24</td>\n",
       "    </tr>\n",
       "    <tr>\n",
       "      <th>4</th>\n",
       "      <td>same</td>\n",
       "      <td>0.72</td>\n",
       "      <td>A</td>\n",
       "      <td>0.24</td>\n",
       "      <td>B</td>\n",
       "      <td>0.04</td>\n",
       "      <td>0.24</td>\n",
       "      <td>0.04</td>\n",
       "      <td>0.72</td>\n",
       "      <td>none</td>\n",
       "      <td>0.60</td>\n",
       "      <td>repel</td>\n",
       "      <td>0.40</td>\n",
       "      <td>attract</td>\n",
       "      <td>0.00</td>\n",
       "      <td>0.00</td>\n",
       "      <td>0.60</td>\n",
       "      <td>0.40</td>\n",
       "    </tr>\n",
       "  </tbody>\n",
       "</table>\n",
       "</div>"
      ],
      "text/plain": [
       "  models_first_mass_resp  models_first_mass_count models_second_mass_resp  \\\n",
       "0                      A                     0.48                    same   \n",
       "1                      A                     0.76                    same   \n",
       "2                      B                     0.96                    same   \n",
       "3                   same                     0.60                       A   \n",
       "4                   same                     0.72                       A   \n",
       "\n",
       "   models_second_mass_count models_third_mass_resp  models_third_mass_count  \\\n",
       "0                      0.44                      B                     0.08   \n",
       "1                      0.24                      B                     0.00   \n",
       "2                      0.04                      A                     0.00   \n",
       "3                      0.36                      B                     0.04   \n",
       "4                      0.24                      B                     0.04   \n",
       "\n",
       "   models_chose_A  models_chose_B  models_chose_same models_first_rel_resp  \\\n",
       "0            0.48            0.08               0.44               attract   \n",
       "1            0.76            0.00               0.24               attract   \n",
       "2            0.00            0.96               0.04               attract   \n",
       "3            0.36            0.04               0.60                  none   \n",
       "4            0.24            0.04               0.72                  none   \n",
       "\n",
       "   models_first_rel_count models_second_rel_resp  models_second_rel_count  \\\n",
       "0                    0.84                   none                     0.16   \n",
       "1                    1.00                   none                     0.00   \n",
       "2                    1.00                   none                     0.00   \n",
       "3                    0.64                  repel                     0.24   \n",
       "4                    0.60                  repel                     0.40   \n",
       "\n",
       "  models_third_rel_resp  models_third_rel_count  models_chose_attract  \\\n",
       "0                 repel                    0.00                  0.84   \n",
       "1                 repel                    0.00                  1.00   \n",
       "2                 repel                    0.00                  1.00   \n",
       "3               attract                    0.12                  0.12   \n",
       "4               attract                    0.00                  0.00   \n",
       "\n",
       "   models_chose_none  models_chose_repel  \n",
       "0               0.16                0.00  \n",
       "1               0.00                0.00  \n",
       "2               0.00                0.00  \n",
       "3               0.64                0.24  \n",
       "4               0.60                0.40  "
      ]
     },
     "execution_count": 7,
     "metadata": {},
     "output_type": "execute_result"
    }
   ],
   "source": [
    "model_answers_df.head()"
   ]
  },
  {
   "cell_type": "markdown",
   "metadata": {},
   "source": [
    "model_answers_df.to_hdf(\"../new_exp_data/rnn_answers_with_counts.h5\", key=\"key\")"
   ]
  },
  {
   "cell_type": "code",
   "execution_count": 8,
   "metadata": {},
   "outputs": [],
   "source": [
    "import json"
   ]
  },
  {
   "cell_type": "code",
   "execution_count": 9,
   "metadata": {},
   "outputs": [],
   "source": [
    "condition_world_variant = []\n",
    "world_id = []\n",
    "\n",
    "for condition_id in range(1, 5):\n",
    "    filename = \"../new_exp_data/physics_data%d.json\" % condition_id\n",
    "    fd = open(filename)\n",
    "    sim_data = json.load(fd)\n",
    "    \n",
    "    for sim in sim_data:\n",
    "        if sim[\"practice\"]:\n",
    "            continue\n",
    "        condition_world_variant.append(sim[\"condition_world_variant\"])\n",
    "        world_id.append(sim[\"world_id\"])"
   ]
  },
  {
   "cell_type": "code",
   "execution_count": 10,
   "metadata": {},
   "outputs": [],
   "source": [
    "model_answers_df[\"condition_world_variant\"] = condition_world_variant\n",
    "model_answers_df[\"world_id\"] = world_id"
   ]
  },
  {
   "cell_type": "code",
   "execution_count": 11,
   "metadata": {},
   "outputs": [
    {
     "data": {
      "text/html": [
       "<div>\n",
       "<style scoped>\n",
       "    .dataframe tbody tr th:only-of-type {\n",
       "        vertical-align: middle;\n",
       "    }\n",
       "\n",
       "    .dataframe tbody tr th {\n",
       "        vertical-align: top;\n",
       "    }\n",
       "\n",
       "    .dataframe thead th {\n",
       "        text-align: right;\n",
       "    }\n",
       "</style>\n",
       "<table border=\"1\" class=\"dataframe\">\n",
       "  <thead>\n",
       "    <tr style=\"text-align: right;\">\n",
       "      <th></th>\n",
       "      <th>models_first_mass_resp</th>\n",
       "      <th>models_first_mass_count</th>\n",
       "      <th>models_second_mass_resp</th>\n",
       "      <th>models_second_mass_count</th>\n",
       "      <th>models_third_mass_resp</th>\n",
       "      <th>models_third_mass_count</th>\n",
       "      <th>models_chose_A</th>\n",
       "      <th>models_chose_B</th>\n",
       "      <th>models_chose_same</th>\n",
       "      <th>models_first_rel_resp</th>\n",
       "      <th>models_first_rel_count</th>\n",
       "      <th>models_second_rel_resp</th>\n",
       "      <th>models_second_rel_count</th>\n",
       "      <th>models_third_rel_resp</th>\n",
       "      <th>models_third_rel_count</th>\n",
       "      <th>models_chose_attract</th>\n",
       "      <th>models_chose_none</th>\n",
       "      <th>models_chose_repel</th>\n",
       "      <th>condition_world_variant</th>\n",
       "      <th>world_id</th>\n",
       "    </tr>\n",
       "  </thead>\n",
       "  <tbody>\n",
       "    <tr>\n",
       "      <th>0</th>\n",
       "      <td>A</td>\n",
       "      <td>0.48</td>\n",
       "      <td>same</td>\n",
       "      <td>0.44</td>\n",
       "      <td>B</td>\n",
       "      <td>0.08</td>\n",
       "      <td>0.48</td>\n",
       "      <td>0.08</td>\n",
       "      <td>0.44</td>\n",
       "      <td>attract</td>\n",
       "      <td>0.84</td>\n",
       "      <td>none</td>\n",
       "      <td>0.16</td>\n",
       "      <td>repel</td>\n",
       "      <td>0.00</td>\n",
       "      <td>0.84</td>\n",
       "      <td>0.16</td>\n",
       "      <td>0.00</td>\n",
       "      <td>1</td>\n",
       "      <td>481</td>\n",
       "    </tr>\n",
       "    <tr>\n",
       "      <th>1</th>\n",
       "      <td>A</td>\n",
       "      <td>0.76</td>\n",
       "      <td>same</td>\n",
       "      <td>0.24</td>\n",
       "      <td>B</td>\n",
       "      <td>0.00</td>\n",
       "      <td>0.76</td>\n",
       "      <td>0.00</td>\n",
       "      <td>0.24</td>\n",
       "      <td>attract</td>\n",
       "      <td>1.00</td>\n",
       "      <td>none</td>\n",
       "      <td>0.00</td>\n",
       "      <td>repel</td>\n",
       "      <td>0.00</td>\n",
       "      <td>1.00</td>\n",
       "      <td>0.00</td>\n",
       "      <td>0.00</td>\n",
       "      <td>1</td>\n",
       "      <td>856</td>\n",
       "    </tr>\n",
       "    <tr>\n",
       "      <th>2</th>\n",
       "      <td>B</td>\n",
       "      <td>0.96</td>\n",
       "      <td>same</td>\n",
       "      <td>0.04</td>\n",
       "      <td>A</td>\n",
       "      <td>0.00</td>\n",
       "      <td>0.00</td>\n",
       "      <td>0.96</td>\n",
       "      <td>0.04</td>\n",
       "      <td>attract</td>\n",
       "      <td>1.00</td>\n",
       "      <td>none</td>\n",
       "      <td>0.00</td>\n",
       "      <td>repel</td>\n",
       "      <td>0.00</td>\n",
       "      <td>1.00</td>\n",
       "      <td>0.00</td>\n",
       "      <td>0.00</td>\n",
       "      <td>1</td>\n",
       "      <td>1819</td>\n",
       "    </tr>\n",
       "    <tr>\n",
       "      <th>3</th>\n",
       "      <td>same</td>\n",
       "      <td>0.60</td>\n",
       "      <td>A</td>\n",
       "      <td>0.36</td>\n",
       "      <td>B</td>\n",
       "      <td>0.04</td>\n",
       "      <td>0.36</td>\n",
       "      <td>0.04</td>\n",
       "      <td>0.60</td>\n",
       "      <td>none</td>\n",
       "      <td>0.64</td>\n",
       "      <td>repel</td>\n",
       "      <td>0.24</td>\n",
       "      <td>attract</td>\n",
       "      <td>0.12</td>\n",
       "      <td>0.12</td>\n",
       "      <td>0.64</td>\n",
       "      <td>0.24</td>\n",
       "      <td>1</td>\n",
       "      <td>566</td>\n",
       "    </tr>\n",
       "    <tr>\n",
       "      <th>4</th>\n",
       "      <td>same</td>\n",
       "      <td>0.72</td>\n",
       "      <td>A</td>\n",
       "      <td>0.24</td>\n",
       "      <td>B</td>\n",
       "      <td>0.04</td>\n",
       "      <td>0.24</td>\n",
       "      <td>0.04</td>\n",
       "      <td>0.72</td>\n",
       "      <td>none</td>\n",
       "      <td>0.60</td>\n",
       "      <td>repel</td>\n",
       "      <td>0.40</td>\n",
       "      <td>attract</td>\n",
       "      <td>0.00</td>\n",
       "      <td>0.00</td>\n",
       "      <td>0.60</td>\n",
       "      <td>0.40</td>\n",
       "      <td>1</td>\n",
       "      <td>821</td>\n",
       "    </tr>\n",
       "  </tbody>\n",
       "</table>\n",
       "</div>"
      ],
      "text/plain": [
       "  models_first_mass_resp  models_first_mass_count models_second_mass_resp  \\\n",
       "0                      A                     0.48                    same   \n",
       "1                      A                     0.76                    same   \n",
       "2                      B                     0.96                    same   \n",
       "3                   same                     0.60                       A   \n",
       "4                   same                     0.72                       A   \n",
       "\n",
       "   models_second_mass_count models_third_mass_resp  models_third_mass_count  \\\n",
       "0                      0.44                      B                     0.08   \n",
       "1                      0.24                      B                     0.00   \n",
       "2                      0.04                      A                     0.00   \n",
       "3                      0.36                      B                     0.04   \n",
       "4                      0.24                      B                     0.04   \n",
       "\n",
       "   models_chose_A  models_chose_B  models_chose_same models_first_rel_resp  \\\n",
       "0            0.48            0.08               0.44               attract   \n",
       "1            0.76            0.00               0.24               attract   \n",
       "2            0.00            0.96               0.04               attract   \n",
       "3            0.36            0.04               0.60                  none   \n",
       "4            0.24            0.04               0.72                  none   \n",
       "\n",
       "   models_first_rel_count models_second_rel_resp  models_second_rel_count  \\\n",
       "0                    0.84                   none                     0.16   \n",
       "1                    1.00                   none                     0.00   \n",
       "2                    1.00                   none                     0.00   \n",
       "3                    0.64                  repel                     0.24   \n",
       "4                    0.60                  repel                     0.40   \n",
       "\n",
       "  models_third_rel_resp  models_third_rel_count  models_chose_attract  \\\n",
       "0                 repel                    0.00                  0.84   \n",
       "1                 repel                    0.00                  1.00   \n",
       "2                 repel                    0.00                  1.00   \n",
       "3               attract                    0.12                  0.12   \n",
       "4               attract                    0.00                  0.00   \n",
       "\n",
       "   models_chose_none  models_chose_repel  condition_world_variant  world_id  \n",
       "0               0.16                0.00                        1       481  \n",
       "1               0.00                0.00                        1       856  \n",
       "2               0.00                0.00                        1      1819  \n",
       "3               0.64                0.24                        1       566  \n",
       "4               0.60                0.40                        1       821  "
      ]
     },
     "execution_count": 11,
     "metadata": {},
     "output_type": "execute_result"
    }
   ],
   "source": [
    "model_answers_df.head()"
   ]
  },
  {
   "cell_type": "markdown",
   "metadata": {},
   "source": [
    "## Load human results"
   ]
  },
  {
   "cell_type": "code",
   "execution_count": 12,
   "metadata": {},
   "outputs": [],
   "source": [
    "from rpy2.robjects import r, pandas2ri\n",
    "pandas2ri.activate()"
   ]
  },
  {
   "cell_type": "code",
   "execution_count": 13,
   "metadata": {},
   "outputs": [],
   "source": [
    "rdata_path = \"../new_exp_data/e7_passive_io_rtheta.rdata\"\n",
    "r['load'](rdata_path)\n",
    "\n",
    "responses = r[\"tw\"].query(\"practice == 0\")"
   ]
  },
  {
   "cell_type": "markdown",
   "metadata": {},
   "source": [
    "# Percentage of participants that get an answer right"
   ]
  },
  {
   "cell_type": "code",
   "execution_count": 14,
   "metadata": {},
   "outputs": [],
   "source": [
    "passive_responses = []\n",
    "\n",
    "for name, df in responses.groupby([\"cond_worldvar\", \"world_id\", \"true_mass\", \"true_rel\", \"post_ent_mass.rtheta\", \"post_ent_rel.rtheta\"]):\n",
    "    response = [name[0], name[1], name[2], name[3], name[4], name[5]]\n",
    "\n",
    "    value_counts = df.resp_rel.value_counts().sort_index().sort_values(ascending=False)\n",
    "    for i in range(len(value_counts)):\n",
    "        answer = value_counts.index[i]\n",
    "        response.append(answer)\n",
    "        if answer == name[3]:\n",
    "            got_it_right = value_counts[i]\n",
    "            \n",
    "    response.append(got_it_right / value_counts.sum())\n",
    "    response.append(value_counts[\"attract\"] / value_counts.sum())\n",
    "    response.append(value_counts[\"none\"] / value_counts.sum())\n",
    "    response.append(value_counts[\"repel\"] / value_counts.sum())\n",
    "    \n",
    "    value_counts = df.resp_mass.value_counts().sort_index().sort_values(ascending=False)\n",
    "    \n",
    "    for i in range(len(value_counts)):\n",
    "        answer = value_counts.index[i]\n",
    "        response.append(answer)\n",
    "        if answer == name[2]:\n",
    "            got_it_right = value_counts[i]\n",
    "            \n",
    "    response.append(got_it_right / value_counts.sum())\n",
    "    response.append(value_counts[\"A\"] / value_counts.sum())\n",
    "    response.append(value_counts[\"B\"] / value_counts.sum())\n",
    "    response.append(value_counts[\"same\"] / value_counts.sum())    \n",
    "        \n",
    "    passive_responses.append(response)"
   ]
  },
  {
   "cell_type": "code",
   "execution_count": 15,
   "metadata": {},
   "outputs": [],
   "source": [
    "passive_responses = pd.DataFrame(data=passive_responses, \n",
    "                                 columns=[\"cond_worldvar\", \"world_id\", \"true_mass\", \"true_rel\",  \"post_ent_mass.rtheta\", \"post_ent_rel.rtheta\",\n",
    "                                          \"humans_first_resp_rel\", \"humans_second_resp_rel\", \"humans_third_resp_rel\", \n",
    "                                          \"got_rel_right\", \"humans_chose_attract\", \"humans_chose_none\", \"humans_chose_repel\",\n",
    "                                          \"humans_first_resp_mass\", \"humans_second_resp_mass\", \"humans_third_resp_mass\",\n",
    "                                          \"got_mass_right\", \"humans_chose_A\", \"humans_chose_B\", \"humans_chose_same\"])"
   ]
  },
  {
   "cell_type": "code",
   "execution_count": 16,
   "metadata": {},
   "outputs": [
    {
     "data": {
      "text/html": [
       "<div>\n",
       "<style scoped>\n",
       "    .dataframe tbody tr th:only-of-type {\n",
       "        vertical-align: middle;\n",
       "    }\n",
       "\n",
       "    .dataframe tbody tr th {\n",
       "        vertical-align: top;\n",
       "    }\n",
       "\n",
       "    .dataframe thead th {\n",
       "        text-align: right;\n",
       "    }\n",
       "</style>\n",
       "<table border=\"1\" class=\"dataframe\">\n",
       "  <thead>\n",
       "    <tr style=\"text-align: right;\">\n",
       "      <th></th>\n",
       "      <th>cond_worldvar</th>\n",
       "      <th>world_id</th>\n",
       "      <th>true_mass</th>\n",
       "      <th>true_rel</th>\n",
       "      <th>post_ent_mass.rtheta</th>\n",
       "      <th>post_ent_rel.rtheta</th>\n",
       "      <th>humans_first_resp_rel</th>\n",
       "      <th>humans_second_resp_rel</th>\n",
       "      <th>humans_third_resp_rel</th>\n",
       "      <th>got_rel_right</th>\n",
       "      <th>humans_chose_attract</th>\n",
       "      <th>humans_chose_none</th>\n",
       "      <th>humans_chose_repel</th>\n",
       "      <th>humans_first_resp_mass</th>\n",
       "      <th>humans_second_resp_mass</th>\n",
       "      <th>humans_third_resp_mass</th>\n",
       "      <th>got_mass_right</th>\n",
       "      <th>humans_chose_A</th>\n",
       "      <th>humans_chose_B</th>\n",
       "      <th>humans_chose_same</th>\n",
       "    </tr>\n",
       "  </thead>\n",
       "  <tbody>\n",
       "    <tr>\n",
       "      <th>0</th>\n",
       "      <td>1</td>\n",
       "      <td>1218</td>\n",
       "      <td>A</td>\n",
       "      <td>repel</td>\n",
       "      <td>0.000827</td>\n",
       "      <td>1.402287</td>\n",
       "      <td>repel</td>\n",
       "      <td>attract</td>\n",
       "      <td>none</td>\n",
       "      <td>0.76</td>\n",
       "      <td>0.16</td>\n",
       "      <td>0.08</td>\n",
       "      <td>0.76</td>\n",
       "      <td>A</td>\n",
       "      <td>same</td>\n",
       "      <td>B</td>\n",
       "      <td>0.52</td>\n",
       "      <td>0.52</td>\n",
       "      <td>0.20</td>\n",
       "      <td>0.28</td>\n",
       "    </tr>\n",
       "    <tr>\n",
       "      <th>1</th>\n",
       "      <td>1</td>\n",
       "      <td>1736</td>\n",
       "      <td>B</td>\n",
       "      <td>none</td>\n",
       "      <td>0.022527</td>\n",
       "      <td>1.413136</td>\n",
       "      <td>repel</td>\n",
       "      <td>none</td>\n",
       "      <td>attract</td>\n",
       "      <td>0.40</td>\n",
       "      <td>0.08</td>\n",
       "      <td>0.40</td>\n",
       "      <td>0.52</td>\n",
       "      <td>B</td>\n",
       "      <td>same</td>\n",
       "      <td>A</td>\n",
       "      <td>0.52</td>\n",
       "      <td>0.16</td>\n",
       "      <td>0.52</td>\n",
       "      <td>0.32</td>\n",
       "    </tr>\n",
       "    <tr>\n",
       "      <th>2</th>\n",
       "      <td>1</td>\n",
       "      <td>1758</td>\n",
       "      <td>B</td>\n",
       "      <td>repel</td>\n",
       "      <td>0.049913</td>\n",
       "      <td>1.555458</td>\n",
       "      <td>repel</td>\n",
       "      <td>attract</td>\n",
       "      <td>none</td>\n",
       "      <td>0.44</td>\n",
       "      <td>0.32</td>\n",
       "      <td>0.24</td>\n",
       "      <td>0.44</td>\n",
       "      <td>B</td>\n",
       "      <td>same</td>\n",
       "      <td>A</td>\n",
       "      <td>0.72</td>\n",
       "      <td>0.04</td>\n",
       "      <td>0.72</td>\n",
       "      <td>0.24</td>\n",
       "    </tr>\n",
       "    <tr>\n",
       "      <th>3</th>\n",
       "      <td>1</td>\n",
       "      <td>1819</td>\n",
       "      <td>B</td>\n",
       "      <td>attract</td>\n",
       "      <td>0.243940</td>\n",
       "      <td>0.924914</td>\n",
       "      <td>attract</td>\n",
       "      <td>repel</td>\n",
       "      <td>none</td>\n",
       "      <td>0.64</td>\n",
       "      <td>0.64</td>\n",
       "      <td>0.04</td>\n",
       "      <td>0.32</td>\n",
       "      <td>B</td>\n",
       "      <td>same</td>\n",
       "      <td>A</td>\n",
       "      <td>0.60</td>\n",
       "      <td>0.20</td>\n",
       "      <td>0.60</td>\n",
       "      <td>0.20</td>\n",
       "    </tr>\n",
       "    <tr>\n",
       "      <th>4</th>\n",
       "      <td>1</td>\n",
       "      <td>438</td>\n",
       "      <td>same</td>\n",
       "      <td>repel</td>\n",
       "      <td>0.051500</td>\n",
       "      <td>1.305047</td>\n",
       "      <td>repel</td>\n",
       "      <td>none</td>\n",
       "      <td>attract</td>\n",
       "      <td>0.56</td>\n",
       "      <td>0.16</td>\n",
       "      <td>0.28</td>\n",
       "      <td>0.56</td>\n",
       "      <td>same</td>\n",
       "      <td>B</td>\n",
       "      <td>A</td>\n",
       "      <td>0.36</td>\n",
       "      <td>0.28</td>\n",
       "      <td>0.36</td>\n",
       "      <td>0.36</td>\n",
       "    </tr>\n",
       "  </tbody>\n",
       "</table>\n",
       "</div>"
      ],
      "text/plain": [
       "  cond_worldvar world_id true_mass true_rel  post_ent_mass.rtheta  \\\n",
       "0             1     1218         A    repel              0.000827   \n",
       "1             1     1736         B     none              0.022527   \n",
       "2             1     1758         B    repel              0.049913   \n",
       "3             1     1819         B  attract              0.243940   \n",
       "4             1      438      same    repel              0.051500   \n",
       "\n",
       "   post_ent_rel.rtheta humans_first_resp_rel humans_second_resp_rel  \\\n",
       "0             1.402287                 repel                attract   \n",
       "1             1.413136                 repel                   none   \n",
       "2             1.555458                 repel                attract   \n",
       "3             0.924914               attract                  repel   \n",
       "4             1.305047                 repel                   none   \n",
       "\n",
       "  humans_third_resp_rel  got_rel_right  humans_chose_attract  \\\n",
       "0                  none           0.76                  0.16   \n",
       "1               attract           0.40                  0.08   \n",
       "2                  none           0.44                  0.32   \n",
       "3                  none           0.64                  0.64   \n",
       "4               attract           0.56                  0.16   \n",
       "\n",
       "   humans_chose_none  humans_chose_repel humans_first_resp_mass  \\\n",
       "0               0.08                0.76                      A   \n",
       "1               0.40                0.52                      B   \n",
       "2               0.24                0.44                      B   \n",
       "3               0.04                0.32                      B   \n",
       "4               0.28                0.56                   same   \n",
       "\n",
       "  humans_second_resp_mass humans_third_resp_mass  got_mass_right  \\\n",
       "0                    same                      B            0.52   \n",
       "1                    same                      A            0.52   \n",
       "2                    same                      A            0.72   \n",
       "3                    same                      A            0.60   \n",
       "4                       B                      A            0.36   \n",
       "\n",
       "   humans_chose_A  humans_chose_B  humans_chose_same  \n",
       "0            0.52            0.20               0.28  \n",
       "1            0.16            0.52               0.32  \n",
       "2            0.04            0.72               0.24  \n",
       "3            0.20            0.60               0.20  \n",
       "4            0.28            0.36               0.36  "
      ]
     },
     "execution_count": 16,
     "metadata": {},
     "output_type": "execute_result"
    }
   ],
   "source": [
    "passive_responses.head()"
   ]
  },
  {
   "cell_type": "code",
   "execution_count": 17,
   "metadata": {},
   "outputs": [],
   "source": [
    "passive_responses[\"cond_worldvar\"] = passive_responses[\"cond_worldvar\"].astype(\"int64\")\n",
    "passive_responses[\"world_id\"] = passive_responses[\"world_id\"].astype(\"int64\")\n",
    "\n",
    "passive_responses = passive_responses.merge(model_answers_df, left_on=[\"cond_worldvar\", \"world_id\"], right_on=[\"condition_world_variant\", \"world_id\"])"
   ]
  },
  {
   "cell_type": "markdown",
   "metadata": {},
   "source": [
    "# Percentage of models that get an answer right"
   ]
  },
  {
   "cell_type": "code",
   "execution_count": 18,
   "metadata": {},
   "outputs": [],
   "source": [
    "models_that_got_mass_question_right = []\n",
    "\n",
    "for i, answer in enumerate(passive_responses.true_mass):\n",
    "    if passive_responses.models_first_mass_resp.iloc[i] == answer:\n",
    "        models_that_got_mass_question_right.append(passive_responses.models_first_mass_count.iloc[i])\n",
    "    elif passive_responses.models_second_mass_resp.iloc[i] == answer:\n",
    "        models_that_got_mass_question_right.append(passive_responses.models_second_mass_count.iloc[i])\n",
    "    elif passive_responses.models_third_mass_resp.iloc[i] == answer:\n",
    "        models_that_got_mass_question_right.append(passive_responses.models_third_mass_count.iloc[i])\n",
    "\n",
    "        \n",
    "models_that_got_rel_question_right = []\n",
    "        \n",
    "for i, answer in enumerate(passive_responses.true_rel):\n",
    "    if passive_responses.models_first_rel_resp.iloc[i] == answer:\n",
    "        models_that_got_rel_question_right.append(passive_responses.models_first_rel_count.iloc[i])\n",
    "    elif passive_responses.models_second_rel_resp.iloc[i] == answer:\n",
    "        models_that_got_rel_question_right.append(passive_responses.models_second_rel_count.iloc[i])\n",
    "    elif passive_responses.models_third_rel_resp.iloc[i] == answer:\n",
    "        models_that_got_rel_question_right.append(passive_responses.models_third_rel_count.iloc[i])\n",
    "        \n",
    "\n",
    "passive_responses[\"models_got_mass_right\"] = np.array(models_that_got_mass_question_right)\n",
    "passive_responses[\"models_got_rel_right\"] = np.array(models_that_got_rel_question_right)"
   ]
  },
  {
   "cell_type": "code",
   "execution_count": 19,
   "metadata": {},
   "outputs": [
    {
     "data": {
      "text/plain": [
       "Index(['cond_worldvar', 'world_id', 'true_mass', 'true_rel',\n",
       "       'post_ent_mass.rtheta', 'post_ent_rel.rtheta', 'humans_first_resp_rel',\n",
       "       'humans_second_resp_rel', 'humans_third_resp_rel', 'got_rel_right',\n",
       "       'humans_chose_attract', 'humans_chose_none', 'humans_chose_repel',\n",
       "       'humans_first_resp_mass', 'humans_second_resp_mass',\n",
       "       'humans_third_resp_mass', 'got_mass_right', 'humans_chose_A',\n",
       "       'humans_chose_B', 'humans_chose_same', 'models_first_mass_resp',\n",
       "       'models_first_mass_count', 'models_second_mass_resp',\n",
       "       'models_second_mass_count', 'models_third_mass_resp',\n",
       "       'models_third_mass_count', 'models_chose_A', 'models_chose_B',\n",
       "       'models_chose_same', 'models_first_rel_resp', 'models_first_rel_count',\n",
       "       'models_second_rel_resp', 'models_second_rel_count',\n",
       "       'models_third_rel_resp', 'models_third_rel_count',\n",
       "       'models_chose_attract', 'models_chose_none', 'models_chose_repel',\n",
       "       'condition_world_variant', 'models_got_mass_right',\n",
       "       'models_got_rel_right'],\n",
       "      dtype='object')"
      ]
     },
     "execution_count": 19,
     "metadata": {},
     "output_type": "execute_result"
    }
   ],
   "source": [
    "passive_responses.columns"
   ]
  },
  {
   "cell_type": "code",
   "execution_count": 20,
   "metadata": {},
   "outputs": [],
   "source": [
    "passive_responses[\"model_mass\"] = passive_responses[\"models_first_mass_resp\"]\n",
    "passive_responses[\"model_relationship\"] = passive_responses[\"models_first_rel_resp\"]"
   ]
  },
  {
   "cell_type": "code",
   "execution_count": 21,
   "metadata": {},
   "outputs": [],
   "source": [
    "human_mass_accuracy_list = passive_responses.got_mass_right\n",
    "human_force_accuracy_list = passive_responses.got_rel_right\n",
    "\n",
    "model_mass_accuracy_list = passive_responses.models_got_mass_right\n",
    "model_force_accuracy_list = passive_responses.models_got_rel_right"
   ]
  },
  {
   "cell_type": "markdown",
   "metadata": {},
   "source": [
    "# Perform t-test on overall accuracy"
   ]
  },
  {
   "cell_type": "code",
   "execution_count": 22,
   "metadata": {},
   "outputs": [
    {
     "name": "stdout",
     "output_type": "stream",
     "text": [
      "0.37839031339031337 ± 0.145973580677441\n",
      "0.5366666666666666 ± 0.2839992175263086\n"
     ]
    }
   ],
   "source": [
    "print(np.mean(human_mass_accuracy_list), \"±\", np.std(human_mass_accuracy_list))\n",
    "print(np.mean(model_mass_accuracy_list), \"±\", np.std(model_mass_accuracy_list))"
   ]
  },
  {
   "cell_type": "code",
   "execution_count": 23,
   "metadata": {},
   "outputs": [
    {
     "name": "stdout",
     "output_type": "stream",
     "text": [
      "0.5462250712250714 ± 0.176816239172785\n",
      "0.6566666666666667 ± 0.21320308523929843\n"
     ]
    }
   ],
   "source": [
    "print(np.mean(human_force_accuracy_list), \"±\", np.std(human_force_accuracy_list))\n",
    "print(np.mean(model_force_accuracy_list), \"±\", np.std(model_force_accuracy_list))"
   ]
  },
  {
   "cell_type": "markdown",
   "metadata": {},
   "source": [
    "#### Is the model significantly better answering mass questions than humans?"
   ]
  },
  {
   "cell_type": "code",
   "execution_count": 24,
   "metadata": {},
   "outputs": [
    {
     "data": {
      "text/plain": [
       "Ttest_relResult(statistic=-3.6873191331691264, pvalue=0.000763240022957818)"
      ]
     },
     "execution_count": 24,
     "metadata": {},
     "output_type": "execute_result"
    }
   ],
   "source": [
    "ttest_rel(human_mass_accuracy_list, model_mass_accuracy_list)"
   ]
  },
  {
   "cell_type": "markdown",
   "metadata": {},
   "source": [
    "#### Is the model significantly better answering force questions than humans?"
   ]
  },
  {
   "cell_type": "code",
   "execution_count": 25,
   "metadata": {},
   "outputs": [
    {
     "data": {
      "text/plain": [
       "Ttest_relResult(statistic=-2.364560857365549, pvalue=0.023727816753575937)"
      ]
     },
     "execution_count": 25,
     "metadata": {},
     "output_type": "execute_result"
    }
   ],
   "source": [
    "ttest_rel(human_force_accuracy_list, model_force_accuracy_list)"
   ]
  },
  {
   "cell_type": "markdown",
   "metadata": {},
   "source": [
    "#### Is the model significantly better answering force questions than mass questions? And humans?"
   ]
  },
  {
   "cell_type": "code",
   "execution_count": 26,
   "metadata": {},
   "outputs": [
    {
     "name": "stdout",
     "output_type": "stream",
     "text": [
      "Ttest_indResult(statistic=-1.9991187485802633, pvalue=0.049479134569990736)\n",
      "Ttest_indResult(statistic=-4.3304952743613745, pvalue=4.86608749152777e-05)\n"
     ]
    }
   ],
   "source": [
    "print(ttest_ind(model_mass_accuracy_list, model_force_accuracy_list))\n",
    "print(ttest_ind(human_mass_accuracy_list, human_force_accuracy_list))"
   ]
  },
  {
   "cell_type": "markdown",
   "metadata": {},
   "source": [
    "# Is the model better at predicting any force class?"
   ]
  },
  {
   "cell_type": "code",
   "execution_count": 27,
   "metadata": {},
   "outputs": [],
   "source": [
    "repel_accuracy_list = get_participant_accuracy_filtering_by_answer(passive_responses, \"models_got_rel_right\", \n",
    "                                                                   \"true_rel\", \"'repel'\")\n",
    "\n",
    "none_accuracy_list = get_participant_accuracy_filtering_by_answer(passive_responses, \"models_got_rel_right\", \n",
    "                                                                   \"true_rel\", \"'none'\")\n",
    "\n",
    "attract_accuracy_list = get_participant_accuracy_filtering_by_answer(passive_responses, \"models_got_rel_right\", \n",
    "                                                                   \"true_rel\", \"'attract'\")"
   ]
  },
  {
   "cell_type": "code",
   "execution_count": 28,
   "metadata": {},
   "outputs": [
    {
     "name": "stdout",
     "output_type": "stream",
     "text": [
      "0.5233333333333333 0.21507104769251384\n",
      "0.6566666666666666 0.13211947455070944\n",
      "0.79 0.19261360284258222\n",
      "\n",
      "Ttest_indResult(statistic=-1.7519733256128291, pvalue=0.09370781302830289)\n",
      "Ttest_indResult(statistic=-3.0633583242699354, pvalue=0.005691672124483616)\n",
      "Ttest_indResult(statistic=1.8932832289250123, pvalue=0.0715480390565109)\n"
     ]
    }
   ],
   "source": [
    "print(np.mean(repel_accuracy_list), np.std(repel_accuracy_list))\n",
    "print(np.mean(none_accuracy_list), np.std(none_accuracy_list))\n",
    "print(np.mean(attract_accuracy_list), np.std(attract_accuracy_list))\n",
    "\n",
    "print()\n",
    "\n",
    "print(ttest_ind(repel_accuracy_list, none_accuracy_list))\n",
    "print(ttest_ind(repel_accuracy_list, attract_accuracy_list))\n",
    "print(ttest_ind(attract_accuracy_list, none_accuracy_list))"
   ]
  },
  {
   "cell_type": "markdown",
   "metadata": {},
   "source": [
    "# Are humans better at predicting any force class? And compared to RNNs?"
   ]
  },
  {
   "cell_type": "code",
   "execution_count": 29,
   "metadata": {},
   "outputs": [
    {
     "name": "stdout",
     "output_type": "stream",
     "text": [
      "0.5727350427350427 0.13531888148325485\n",
      "0.38777777777777783 0.10039803172690473\n",
      "0.6781623931623932 0.14894697893841963\n",
      "\n",
      "Ttest_indResult(statistic=3.640639395027706, pvalue=0.0014428896714880582)\n",
      "Ttest_indResult(statistic=-1.7375664164447775, pvalue=0.09626821719795242)\n",
      "Ttest_indResult(statistic=5.361722481943239, pvalue=2.204329106568638e-05)\n"
     ]
    }
   ],
   "source": [
    "human_repel_accuracy_list = get_participant_accuracy_filtering_by_answer(passive_responses, \"got_rel_right\", \n",
    "                                                                         \"true_rel\", \"'repel'\")\n",
    "\n",
    "human_none_accuracy_list = get_participant_accuracy_filtering_by_answer(passive_responses, \"got_rel_right\", \n",
    "                                                                        \"true_rel\", \"'none'\")\n",
    "\n",
    "human_attract_accuracy_list = get_participant_accuracy_filtering_by_answer(passive_responses, \"got_rel_right\", \n",
    "                                                                   \"true_rel\", \"'attract'\")\n",
    "\n",
    "print(np.mean(human_repel_accuracy_list), np.std(human_repel_accuracy_list))\n",
    "print(np.mean(human_none_accuracy_list), np.std(human_none_accuracy_list))\n",
    "print(np.mean(human_attract_accuracy_list), np.std(human_attract_accuracy_list))\n",
    "\n",
    "\n",
    "print()\n",
    "\n",
    "print(ttest_ind(human_repel_accuracy_list, human_none_accuracy_list))\n",
    "print(ttest_ind(human_repel_accuracy_list, human_attract_accuracy_list))\n",
    "print(ttest_ind(human_attract_accuracy_list, human_none_accuracy_list))"
   ]
  },
  {
   "cell_type": "code",
   "execution_count": 30,
   "metadata": {},
   "outputs": [
    {
     "name": "stdout",
     "output_type": "stream",
     "text": [
      "Ttest_relResult(statistic=-0.5291850077677979, pvalue=0.607190819213975)\n",
      "Ttest_relResult(statistic=4.788593129525713, pvalue=0.0005635761649337808)\n",
      "Ttest_relResult(statistic=1.695568588698561, pvalue=0.11805184220926189)\n"
     ]
    }
   ],
   "source": [
    "print(ttest_rel(repel_accuracy_list, human_repel_accuracy_list))\n",
    "print(ttest_rel(none_accuracy_list, human_none_accuracy_list))\n",
    "print(ttest_rel(attract_accuracy_list, human_attract_accuracy_list))"
   ]
  },
  {
   "cell_type": "markdown",
   "metadata": {},
   "source": [
    "# Is the model better at predicting any mass class?"
   ]
  },
  {
   "cell_type": "code",
   "execution_count": 31,
   "metadata": {},
   "outputs": [],
   "source": [
    "a_accuracy_list = get_participant_accuracy_filtering_by_answer(passive_responses, \"models_got_mass_right\", \n",
    "                                                                   \"true_mass\", \"'A'\")\n",
    "\n",
    "same_accuracy_list = get_participant_accuracy_filtering_by_answer(passive_responses, \"models_got_mass_right\", \n",
    "                                                                   \"true_mass\", \"'same'\")\n",
    "\n",
    "b_accuracy_list = get_participant_accuracy_filtering_by_answer(passive_responses, \"models_got_mass_right\", \n",
    "                                                                   \"true_mass\", \"'B'\")"
   ]
  },
  {
   "cell_type": "code",
   "execution_count": 32,
   "metadata": {},
   "outputs": [
    {
     "name": "stdout",
     "output_type": "stream",
     "text": [
      "0.5166666666666667 0.29141417642630607\n",
      "0.39333333333333337 0.2208066021557226\n",
      "0.7000000000000001 0.24630604269214884\n",
      "\n",
      "Ttest_indResult(statistic=1.118786463923166, pvalue=0.27529874421091305)\n",
      "Ttest_indResult(statistic=-1.5935792331068999, pvalue=0.12529739565212536)\n",
      "Ttest_indResult(statistic=3.074752405610619, pvalue=0.005542451189118525)\n"
     ]
    }
   ],
   "source": [
    "print(np.mean(a_accuracy_list), np.std(a_accuracy_list))\n",
    "print(np.mean(same_accuracy_list), np.std(same_accuracy_list))\n",
    "print(np.mean(b_accuracy_list), np.std(b_accuracy_list))\n",
    "\n",
    "print()\n",
    "\n",
    "print(ttest_ind(a_accuracy_list, same_accuracy_list))\n",
    "print(ttest_ind(a_accuracy_list, b_accuracy_list))\n",
    "print(ttest_ind(b_accuracy_list, same_accuracy_list))"
   ]
  },
  {
   "cell_type": "markdown",
   "metadata": {},
   "source": [
    "# Are humans better at predicting any mass class? And compared to RNNs?"
   ]
  },
  {
   "cell_type": "code",
   "execution_count": 33,
   "metadata": {},
   "outputs": [
    {
     "name": "stdout",
     "output_type": "stream",
     "text": [
      "0.4100427350427351 0.14185875067409623\n",
      "0.30391025641025643 0.11751739115262044\n",
      "0.42121794871794865 0.14699406576210686\n",
      "\n",
      "\n",
      "Ttest_indResult(statistic=1.9108454864102784, pvalue=0.0691424586904233)\n",
      "Ttest_indResult(statistic=-0.1814353668752333, pvalue=0.8576870862868097)\n",
      "Ttest_indResult(statistic=2.0673466990693723, pvalue=0.050664413609717754)\n"
     ]
    }
   ],
   "source": [
    "human_a_accuracy_list = get_participant_accuracy_filtering_by_answer(passive_responses, \"got_mass_right\", \n",
    "                                                                     \"true_mass\", \"'A'\")\n",
    "\n",
    "human_same_accuracy_list = get_participant_accuracy_filtering_by_answer(passive_responses, \"got_mass_right\", \n",
    "                                                                        \"true_mass\", \"'same'\")\n",
    "\n",
    "human_b_accuracy_list = get_participant_accuracy_filtering_by_answer(passive_responses, \"got_mass_right\", \n",
    "                                                                     \"true_mass\", \"'B'\")\n",
    "\n",
    "print(np.mean(human_a_accuracy_list), np.std(human_a_accuracy_list))\n",
    "print(np.mean(human_same_accuracy_list), np.std(human_same_accuracy_list))\n",
    "print(np.mean(human_b_accuracy_list), np.std(human_b_accuracy_list))\n",
    "\n",
    "print()\n",
    "\n",
    "print()\n",
    "\n",
    "print(ttest_ind(human_a_accuracy_list, human_same_accuracy_list))\n",
    "print(ttest_ind(human_a_accuracy_list, human_b_accuracy_list))\n",
    "print(ttest_ind(human_b_accuracy_list, human_same_accuracy_list))"
   ]
  },
  {
   "cell_type": "code",
   "execution_count": 34,
   "metadata": {},
   "outputs": [
    {
     "name": "stdout",
     "output_type": "stream",
     "text": [
      "Ttest_relResult(statistic=1.1748586914436814, pvalue=0.2648568286198724)\n",
      "Ttest_relResult(statistic=1.4025056601341677, pvalue=0.18835103389704)\n",
      "Ttest_relResult(statistic=4.85866796379548, pvalue=0.0005037380051173388)\n"
     ]
    }
   ],
   "source": [
    "print(ttest_rel(a_accuracy_list, human_a_accuracy_list))\n",
    "print(ttest_rel(same_accuracy_list, human_same_accuracy_list))\n",
    "print(ttest_rel(b_accuracy_list, human_b_accuracy_list))"
   ]
  },
  {
   "cell_type": "markdown",
   "metadata": {},
   "source": [
    "# Do model's correct answers correspond to examples that a higher percentage of humans guess?"
   ]
  },
  {
   "cell_type": "code",
   "execution_count": 35,
   "metadata": {},
   "outputs": [],
   "source": [
    "passive_responses[\"model_mass_correct_guesses\"] = (passive_responses[\"model_mass\"] == passive_responses[\"true_mass\"])\n",
    "passive_responses[\"model_force_correct_guesses\"] = (passive_responses[\"model_relationship\"] == passive_responses[\"true_rel\"])"
   ]
  },
  {
   "cell_type": "code",
   "execution_count": 36,
   "metadata": {},
   "outputs": [],
   "source": [
    "passive_responses[\"corRel\"] = (passive_responses[\"humans_first_resp_rel\"] == passive_responses[\"true_rel\"])\n",
    "passive_responses[\"corMass\"] = (passive_responses[\"humans_first_resp_mass\"] == passive_responses[\"true_mass\"])"
   ]
  },
  {
   "cell_type": "code",
   "execution_count": 37,
   "metadata": {},
   "outputs": [
    {
     "name": "stdout",
     "output_type": "stream",
     "text": [
      "0.5277777777777778\n",
      "0.6111111111111112\n"
     ]
    }
   ],
   "source": [
    "mass_coincidence = (passive_responses[\"humans_first_resp_mass\"] == passive_responses[\"model_mass\"]).mean()\n",
    "force_coincidence = (passive_responses[\"humans_first_resp_rel\"] == passive_responses[\"model_relationship\"]).mean()\n",
    "\n",
    "print(mass_coincidence)\n",
    "print(force_coincidence)\n",
    "\n",
    "# FLAG"
   ]
  },
  {
   "cell_type": "markdown",
   "metadata": {},
   "source": [
    "### Mass responses"
   ]
  },
  {
   "cell_type": "code",
   "execution_count": 38,
   "metadata": {},
   "outputs": [
    {
     "data": {
      "text/plain": [
       "F_onewayResult(statistic=4.659555307287202, pvalue=0.03802985826378633)"
      ]
     },
     "execution_count": 38,
     "metadata": {},
     "output_type": "execute_result"
    }
   ],
   "source": [
    "post_mass_correct_guesses = passive_responses.query(\"model_mass_correct_guesses\")[\"got_mass_right\"]\n",
    "post_mass_wrong_guesses = passive_responses.query(\"not model_mass_correct_guesses\")[\"got_mass_right\"]\n",
    "\n",
    "f_oneway(post_mass_correct_guesses, post_mass_wrong_guesses)"
   ]
  },
  {
   "cell_type": "code",
   "execution_count": 39,
   "metadata": {},
   "outputs": [
    {
     "data": {
      "text/plain": [
       "(20, 16)"
      ]
     },
     "execution_count": 39,
     "metadata": {},
     "output_type": "execute_result"
    }
   ],
   "source": [
    "len(post_mass_correct_guesses), len(post_mass_wrong_guesses)"
   ]
  },
  {
   "cell_type": "markdown",
   "metadata": {},
   "source": [
    "### Force responses"
   ]
  },
  {
   "cell_type": "code",
   "execution_count": 40,
   "metadata": {},
   "outputs": [
    {
     "data": {
      "text/plain": [
       "F_onewayResult(statistic=1.1022776604149753, pvalue=0.3011724606372818)"
      ]
     },
     "execution_count": 40,
     "metadata": {},
     "output_type": "execute_result"
    }
   ],
   "source": [
    "post_force_correct_guesses = passive_responses.query(\"model_force_correct_guesses\")['got_rel_right']\n",
    "post_force_wrong_guesses = passive_responses.query(\"not model_force_correct_guesses\")['got_rel_right']\n",
    "\n",
    "f_oneway(post_force_correct_guesses, post_force_wrong_guesses)"
   ]
  },
  {
   "cell_type": "code",
   "execution_count": 41,
   "metadata": {},
   "outputs": [
    {
     "data": {
      "text/plain": [
       "(29, 7)"
      ]
     },
     "execution_count": 41,
     "metadata": {},
     "output_type": "execute_result"
    }
   ],
   "source": [
    "len(post_force_correct_guesses), len(post_force_wrong_guesses)"
   ]
  },
  {
   "cell_type": "markdown",
   "metadata": {},
   "source": [
    "# Are %RNNs and %participants getting a question correct correlated?"
   ]
  },
  {
   "cell_type": "code",
   "execution_count": 42,
   "metadata": {},
   "outputs": [
    {
     "data": {
      "text/html": [
       "<div>\n",
       "<style scoped>\n",
       "    .dataframe tbody tr th:only-of-type {\n",
       "        vertical-align: middle;\n",
       "    }\n",
       "\n",
       "    .dataframe tbody tr th {\n",
       "        vertical-align: top;\n",
       "    }\n",
       "\n",
       "    .dataframe thead th {\n",
       "        text-align: right;\n",
       "    }\n",
       "</style>\n",
       "<table border=\"1\" class=\"dataframe\">\n",
       "  <thead>\n",
       "    <tr style=\"text-align: right;\">\n",
       "      <th></th>\n",
       "      <th>cond_worldvar</th>\n",
       "      <th>world_id</th>\n",
       "      <th>true_mass</th>\n",
       "      <th>true_rel</th>\n",
       "      <th>post_ent_mass.rtheta</th>\n",
       "      <th>post_ent_rel.rtheta</th>\n",
       "      <th>humans_first_resp_rel</th>\n",
       "      <th>humans_second_resp_rel</th>\n",
       "      <th>humans_third_resp_rel</th>\n",
       "      <th>got_rel_right</th>\n",
       "      <th>...</th>\n",
       "      <th>models_chose_repel</th>\n",
       "      <th>condition_world_variant</th>\n",
       "      <th>models_got_mass_right</th>\n",
       "      <th>models_got_rel_right</th>\n",
       "      <th>model_mass</th>\n",
       "      <th>model_relationship</th>\n",
       "      <th>model_mass_correct_guesses</th>\n",
       "      <th>model_force_correct_guesses</th>\n",
       "      <th>corRel</th>\n",
       "      <th>corMass</th>\n",
       "    </tr>\n",
       "  </thead>\n",
       "  <tbody>\n",
       "    <tr>\n",
       "      <th>0</th>\n",
       "      <td>1</td>\n",
       "      <td>1218</td>\n",
       "      <td>A</td>\n",
       "      <td>repel</td>\n",
       "      <td>0.000827</td>\n",
       "      <td>1.402287</td>\n",
       "      <td>repel</td>\n",
       "      <td>attract</td>\n",
       "      <td>none</td>\n",
       "      <td>0.76</td>\n",
       "      <td>...</td>\n",
       "      <td>0.16</td>\n",
       "      <td>1</td>\n",
       "      <td>0.88</td>\n",
       "      <td>0.16</td>\n",
       "      <td>A</td>\n",
       "      <td>none</td>\n",
       "      <td>True</td>\n",
       "      <td>False</td>\n",
       "      <td>True</td>\n",
       "      <td>True</td>\n",
       "    </tr>\n",
       "    <tr>\n",
       "      <th>1</th>\n",
       "      <td>1</td>\n",
       "      <td>1736</td>\n",
       "      <td>B</td>\n",
       "      <td>none</td>\n",
       "      <td>0.022527</td>\n",
       "      <td>1.413136</td>\n",
       "      <td>repel</td>\n",
       "      <td>none</td>\n",
       "      <td>attract</td>\n",
       "      <td>0.40</td>\n",
       "      <td>...</td>\n",
       "      <td>0.16</td>\n",
       "      <td>1</td>\n",
       "      <td>1.00</td>\n",
       "      <td>0.80</td>\n",
       "      <td>B</td>\n",
       "      <td>none</td>\n",
       "      <td>True</td>\n",
       "      <td>True</td>\n",
       "      <td>False</td>\n",
       "      <td>True</td>\n",
       "    </tr>\n",
       "    <tr>\n",
       "      <th>2</th>\n",
       "      <td>1</td>\n",
       "      <td>1758</td>\n",
       "      <td>B</td>\n",
       "      <td>repel</td>\n",
       "      <td>0.049913</td>\n",
       "      <td>1.555458</td>\n",
       "      <td>repel</td>\n",
       "      <td>attract</td>\n",
       "      <td>none</td>\n",
       "      <td>0.44</td>\n",
       "      <td>...</td>\n",
       "      <td>0.68</td>\n",
       "      <td>1</td>\n",
       "      <td>0.92</td>\n",
       "      <td>0.68</td>\n",
       "      <td>B</td>\n",
       "      <td>repel</td>\n",
       "      <td>True</td>\n",
       "      <td>True</td>\n",
       "      <td>True</td>\n",
       "      <td>True</td>\n",
       "    </tr>\n",
       "    <tr>\n",
       "      <th>3</th>\n",
       "      <td>1</td>\n",
       "      <td>1819</td>\n",
       "      <td>B</td>\n",
       "      <td>attract</td>\n",
       "      <td>0.243940</td>\n",
       "      <td>0.924914</td>\n",
       "      <td>attract</td>\n",
       "      <td>repel</td>\n",
       "      <td>none</td>\n",
       "      <td>0.64</td>\n",
       "      <td>...</td>\n",
       "      <td>0.00</td>\n",
       "      <td>1</td>\n",
       "      <td>0.96</td>\n",
       "      <td>1.00</td>\n",
       "      <td>B</td>\n",
       "      <td>attract</td>\n",
       "      <td>True</td>\n",
       "      <td>True</td>\n",
       "      <td>True</td>\n",
       "      <td>True</td>\n",
       "    </tr>\n",
       "    <tr>\n",
       "      <th>4</th>\n",
       "      <td>1</td>\n",
       "      <td>438</td>\n",
       "      <td>same</td>\n",
       "      <td>repel</td>\n",
       "      <td>0.051500</td>\n",
       "      <td>1.305047</td>\n",
       "      <td>repel</td>\n",
       "      <td>none</td>\n",
       "      <td>attract</td>\n",
       "      <td>0.56</td>\n",
       "      <td>...</td>\n",
       "      <td>0.56</td>\n",
       "      <td>1</td>\n",
       "      <td>0.64</td>\n",
       "      <td>0.56</td>\n",
       "      <td>same</td>\n",
       "      <td>repel</td>\n",
       "      <td>True</td>\n",
       "      <td>True</td>\n",
       "      <td>True</td>\n",
       "      <td>True</td>\n",
       "    </tr>\n",
       "  </tbody>\n",
       "</table>\n",
       "<p>5 rows × 47 columns</p>\n",
       "</div>"
      ],
      "text/plain": [
       "   cond_worldvar  world_id true_mass true_rel  post_ent_mass.rtheta  \\\n",
       "0              1      1218         A    repel              0.000827   \n",
       "1              1      1736         B     none              0.022527   \n",
       "2              1      1758         B    repel              0.049913   \n",
       "3              1      1819         B  attract              0.243940   \n",
       "4              1       438      same    repel              0.051500   \n",
       "\n",
       "   post_ent_rel.rtheta humans_first_resp_rel humans_second_resp_rel  \\\n",
       "0             1.402287                 repel                attract   \n",
       "1             1.413136                 repel                   none   \n",
       "2             1.555458                 repel                attract   \n",
       "3             0.924914               attract                  repel   \n",
       "4             1.305047                 repel                   none   \n",
       "\n",
       "  humans_third_resp_rel  got_rel_right   ...     models_chose_repel  \\\n",
       "0                  none           0.76   ...                   0.16   \n",
       "1               attract           0.40   ...                   0.16   \n",
       "2                  none           0.44   ...                   0.68   \n",
       "3                  none           0.64   ...                   0.00   \n",
       "4               attract           0.56   ...                   0.56   \n",
       "\n",
       "   condition_world_variant  models_got_mass_right models_got_rel_right  \\\n",
       "0                        1                   0.88                 0.16   \n",
       "1                        1                   1.00                 0.80   \n",
       "2                        1                   0.92                 0.68   \n",
       "3                        1                   0.96                 1.00   \n",
       "4                        1                   0.64                 0.56   \n",
       "\n",
       "  model_mass model_relationship  model_mass_correct_guesses  \\\n",
       "0          A               none                        True   \n",
       "1          B               none                        True   \n",
       "2          B              repel                        True   \n",
       "3          B            attract                        True   \n",
       "4       same              repel                        True   \n",
       "\n",
       "   model_force_correct_guesses  corRel  corMass  \n",
       "0                        False    True     True  \n",
       "1                         True   False     True  \n",
       "2                         True    True     True  \n",
       "3                         True    True     True  \n",
       "4                         True    True     True  \n",
       "\n",
       "[5 rows x 47 columns]"
      ]
     },
     "execution_count": 42,
     "metadata": {},
     "output_type": "execute_result"
    }
   ],
   "source": [
    "passive_responses.head()"
   ]
  },
  {
   "cell_type": "code",
   "execution_count": 43,
   "metadata": {},
   "outputs": [],
   "source": [
    "import matplotlib.pyplot as plt"
   ]
  },
  {
   "cell_type": "code",
   "execution_count": 55,
   "metadata": {
    "scrolled": false
   },
   "outputs": [
    {
     "data": {
      "image/png": "[encoded data removed]",
      "text/plain": [
       "<Figure size 2160x720 with 3 Axes>"
      ]
     },
     "metadata": {
      "needs_background": "light"
     },
     "output_type": "display_data"
    },
    {
     "data": {
      "image/png": "[encoded data removed]",
      "text/plain": [
       "<Figure size 2160x720 with 3 Axes>"
      ]
     },
     "metadata": {
      "needs_background": "light"
     },
     "output_type": "display_data"
    }
   ],
   "source": [
    "def plot_correlation(class_columns, true_class):\n",
    "    \n",
    "    f, axes = plt.subplots(1, 3, figsize=(30, 10))\n",
    "    c = [\"r\", \"y\", \"b\"]\n",
    "    \n",
    "    for i, cl in enumerate(class_columns):\n",
    "        corr_coef = np.corrcoef(passive_responses[\"humans_chose_\"+cl], passive_responses[\"models_chose_\"+cl])[0][1]        \n",
    "        is_example_correct = (passive_responses[true_class] == cl)\n",
    "        \n",
    "        passive_responses[is_example_correct].plot(kind=\"scatter\", x=\"models_chose_\"+cl, y=\"humans_chose_\"+cl, \n",
    "                                                   marker=\"o\", ax=axes[i], label=cl+\" example\", s=200)\n",
    "        passive_responses[~is_example_correct].plot(kind=\"scatter\", x=\"models_chose_\"+cl, y=\"humans_chose_\"+cl, c=\"r\", \n",
    "                                                    marker=\"x\", ax=axes[i], label=\"other\", s=200)\n",
    "\n",
    "        axes[i].set_title(\"Correlation = %.3f\" % corr_coef, fontsize=35)\n",
    "        axes[i].set_xlabel(\"% of RNNs selecting \"+cl, fontsize=35)\n",
    "        axes[i].set_ylabel(\"% of participants selecting \"+cl, fontsize=35)\n",
    "        axes[i].legend(fontsize=30)\n",
    "        axes[i].set_xlim((-0.05, 1.05))\n",
    "        axes[i].set_ylim((-0.05, 1.05))\n",
    "        axes[i].tick_params(axis='both', which='major', labelsize=35)\n",
    "        axes[i].grid()\n",
    "\n",
    "    plt.tight_layout()\n",
    "    plt.savefig(\"cogsci_images/\"+true_class.split(\"_\")[1]+\"_percentages_correlation.pdf\")\n",
    "\n",
    "plot_correlation(MASS_CLASS_COLS, \"true_mass\")\n",
    "plot_correlation(FORCE_CLASS_COLS, \"true_rel\")"
   ]
  },
  {
   "cell_type": "markdown",
   "metadata": {},
   "source": [
    "print(np.corrcoef(passive_responses.models_got_mass_right, passive_responses.got_mass_right)[0][1])\n",
    "passive_responses.plot(kind=\"scatter\", x=\"models_got_mass_right\", y=\"got_mass_right\")"
   ]
  },
  {
   "cell_type": "markdown",
   "metadata": {},
   "source": [
    "print(np.corrcoef(passive_responses.models_got_rel_right, passive_responses.got_rel_right)[0][1])\n",
    "passive_responses.plot(kind=\"scatter\", x=\"models_got_rel_right\", y=\"got_rel_right\")"
   ]
  },
  {
   "cell_type": "markdown",
   "metadata": {},
   "source": [
    "# CONFUSION MATRICES"
   ]
  },
  {
   "cell_type": "code",
   "execution_count": 45,
   "metadata": {},
   "outputs": [
    {
     "data": {
      "image/png": "[encoded data removed]",
      "text/plain": [
       "<Figure size 720x360 with 4 Axes>"
      ]
     },
     "metadata": {
      "needs_background": "light"
     },
     "output_type": "display_data"
    }
   ],
   "source": [
    "fig, axis = plt.subplots(1, 4, figsize=(10, 5))\n",
    "\n",
    "ax = plot_confusion_matrix(passive_responses.true_rel, passive_responses.humans_first_resp_rel, FORCE_CLASS_COLS, ax=axis[0])\n",
    "ax.set_xlabel(\"Human prediction\", fontsize=15)\n",
    "ax.set_ylabel(\"True label\", fontsize=15)\n",
    "ax.tick_params(axis=\"both\", labelsize=15)\n",
    "\n",
    "ax = plot_confusion_matrix(passive_responses.true_rel, passive_responses.models_first_rel_resp, FORCE_CLASS_COLS, ax=axis[1])\n",
    "ax.set_ylabel(\"\", fontsize=15)\n",
    "ax.set_xlabel(\"RNN prediction\", fontsize=15)\n",
    "ax.tick_params(axis=\"both\", labelsize=15)\n",
    "\n",
    "ax = plot_confusion_matrix(passive_responses.true_mass, passive_responses.humans_first_resp_mass, MASS_CLASS_COLS, ax=axis[2])\n",
    "ax.set_ylabel(\"\", fontsize=15)\n",
    "ax.set_xlabel(\"Human prediction\", fontsize=15)\n",
    "ax.tick_params(axis=\"both\", labelsize=15)\n",
    "\n",
    "ax = plot_confusion_matrix(passive_responses.true_mass, passive_responses.models_first_mass_resp, MASS_CLASS_COLS, ax=axis[3])\n",
    "ax.set_ylabel(\"\", fontsize=15)\n",
    "ax.set_xlabel(\"RNN prediction\", fontsize=15)\n",
    "ax.tick_params(axis=\"both\", labelsize=15)\n",
    "\n",
    "f = ax.get_figure()\n",
    "f.tight_layout()\n",
    "f.align_labels()\n",
    "f.savefig(\"cogsci_images/confusion_matrices.pdf\", bbox_inches=\"tight\")"
   ]
  },
  {
   "cell_type": "markdown",
   "metadata": {},
   "source": [
    "# Are correct guesses / errors correlated between humans and model?"
   ]
  },
  {
   "cell_type": "code",
   "execution_count": 46,
   "metadata": {},
   "outputs": [],
   "source": [
    "from scipy.stats import chisquare"
   ]
  },
  {
   "cell_type": "code",
   "execution_count": 47,
   "metadata": {},
   "outputs": [],
   "source": [
    "def test_for_independence(first_answers, second_answers):\n",
    "    both_correct = (first_answers & second_answers).sum()\n",
    "    both_wrong = (~first_answers & ~second_answers).sum()\n",
    "    first_correct_second_wrong = (first_answers & ~second_answers).sum()\n",
    "    first_wrong_second_correct = (~first_answers & second_answers).sum()\n",
    "    matrix = np.array([[both_correct, first_correct_second_wrong], [first_wrong_second_correct, both_wrong]])\n",
    "    \n",
    "    accuracy_first = first_answers.sum() / len(first_answers)\n",
    "    accuracy_sec = second_answers.sum() / len(second_answers)\n",
    "    total_answers = len(first_answers)\n",
    "    \n",
    "    \n",
    "    expected_first = np.array([[accuracy_first/2, accuracy_first/2], [(1 - accuracy_first)/2, (1 - accuracy_first)/2]])\n",
    "    expected_sec = np.array([[accuracy_sec/2, (1 - accuracy_sec)/2], [accuracy_sec/2, (1 - accuracy_sec)/2]])\n",
    "    expected = expected_first * expected_sec\n",
    "    expected /= np.sum(expected)\n",
    "    expected *= total_answers\n",
    "    \n",
    "    chisquare_results = chisquare(matrix, expected, axis=None)\n",
    "    print(\"Expected\")\n",
    "    print(expected)\n",
    "    print(\"Reality\")\n",
    "    print(matrix)\n",
    "    return chisquare_results"
   ]
  },
  {
   "cell_type": "code",
   "execution_count": 48,
   "metadata": {},
   "outputs": [
    {
     "name": "stdout",
     "output_type": "stream",
     "text": [
      "Expected\n",
      "[[23.36111111  5.63888889]\n",
      " [ 5.63888889  1.36111111]]\n",
      "Reality\n",
      "[[22  7]\n",
      " [ 7  0]]\n"
     ]
    },
    {
     "data": {
      "text/plain": [
       "Power_divergenceResult(statistic=2.097502972651607, pvalue=0.5524180941443271)"
      ]
     },
     "execution_count": 48,
     "metadata": {},
     "output_type": "execute_result"
    }
   ],
   "source": [
    "test_for_independence(passive_responses[\"corRel\"], passive_responses[\"model_force_correct_guesses\"])"
   ]
  },
  {
   "cell_type": "code",
   "execution_count": 49,
   "metadata": {},
   "outputs": [
    {
     "name": "stdout",
     "output_type": "stream",
     "text": [
      "Expected\n",
      "[[ 7.22222222  5.77777778]\n",
      " [12.77777778 10.22222222]]\n",
      "Reality\n",
      "[[11  2]\n",
      " [ 9 14]]\n"
     ]
    },
    {
     "data": {
      "text/plain": [
       "Power_divergenceResult(statistic=6.959197324414716, pvalue=0.07320972635128)"
      ]
     },
     "execution_count": 49,
     "metadata": {},
     "output_type": "execute_result"
    }
   ],
   "source": [
    "test_for_independence(passive_responses[\"corMass\"], passive_responses[\"model_mass_correct_guesses\"])\n",
    "#FLAG"
   ]
  },
  {
   "cell_type": "code",
   "execution_count": 50,
   "metadata": {},
   "outputs": [],
   "source": [
    "def test_for_coincidence(first_answers, second_answers, true_answers):\n",
    "    \n",
    "    matrix = []\n",
    "    all_classes = sorted(first_answers.unique())\n",
    "    \n",
    "    for class_name in all_classes:\n",
    "        this_class_coincidences = []\n",
    "        for second_class_name in all_classes:\n",
    "            n_coincidences = ((first_answers == class_name) & (second_answers == second_class_name)).sum()\n",
    "            this_class_coincidences.append(n_coincidences)\n",
    "            \n",
    "        matrix.append(this_class_coincidences)\n",
    "    \n",
    "    matrix = np.array(matrix)\n",
    "    \n",
    "    expected = []    \n",
    "    for class_name in all_classes:\n",
    "        this_class_prob = []\n",
    "        for second_class_name in all_classes:\n",
    "            prob = 0\n",
    "            for true_class in all_classes:\n",
    "                # p_humans(first_class\\true_class) * p_rnn(first_class\\true_class)\n",
    "                class_examples = (true_answers == true_class).sum()\n",
    "                \n",
    "                p_class = class_examples / len(first_answers)\n",
    "                p_first_given_class = ((first_answers == class_name) & (true_answers == true_class)).sum() / class_examples\n",
    "                p_second_given_class = ((second_answers == second_class_name) & (true_answers == true_class)).sum() / class_examples\n",
    "                val = p_class * p_first_given_class * p_second_given_class\n",
    "                \n",
    "                prob += val\n",
    "\n",
    "            this_class_prob.append(prob)\n",
    "        expected.append(this_class_prob)\n",
    "    expected = np.array(expected) \n",
    "    expected /= np.sum(expected)\n",
    "    expected *= len(first_answers)\n",
    "    print(\"Expected:\")\n",
    "    print(all_classes)\n",
    "    print(expected)\n",
    "    print()\n",
    "    print(\"Reality:\")\n",
    "    print(all_classes)\n",
    "    print(matrix)\n",
    "    chisquare_results = chisquare(matrix, expected, axis=None)\n",
    "    \n",
    "    return chisquare_results"
   ]
  },
  {
   "cell_type": "code",
   "execution_count": 51,
   "metadata": {},
   "outputs": [
    {
     "name": "stdout",
     "output_type": "stream",
     "text": [
      "Expected:\n",
      "['attract', 'none', 'repel']\n",
      "[[11.          3.75        0.25      ]\n",
      " [ 0.          5.91666667  1.08333333]\n",
      " [ 0.          7.33333333  6.66666667]]\n",
      "\n",
      "Reality:\n",
      "['attract', 'none', 'repel']\n",
      "[[11  4  0]\n",
      " [ 0  5  2]\n",
      " [ 0  8  6]]\n"
     ]
    },
    {
     "data": {
      "text/plain": [
       "Power_divergenceResult(statistic=nan, pvalue=nan)"
      ]
     },
     "execution_count": 51,
     "metadata": {},
     "output_type": "execute_result"
    }
   ],
   "source": [
    "test_for_coincidence(passive_responses[\"humans_first_resp_rel\"], passive_responses[\"model_relationship\"], passive_responses[\"true_rel\"])"
   ]
  },
  {
   "cell_type": "code",
   "execution_count": 52,
   "metadata": {},
   "outputs": [
    {
     "name": "stdout",
     "output_type": "stream",
     "text": [
      "Expected:\n",
      "['A', 'B', 'same']\n",
      "[[4.16666667 3.33333333 5.5       ]\n",
      " [3.75       4.83333333 5.41666667]\n",
      " [2.08333333 3.83333333 3.08333333]]\n",
      "\n",
      "Reality:\n",
      "['A', 'B', 'same']\n",
      "[[7 2 4]\n",
      " [2 7 5]\n",
      " [1 3 5]]\n"
     ]
    },
    {
     "data": {
      "text/plain": [
       "Power_divergenceResult(statistic=6.625007420689579, pvalue=0.5775775702624837)"
      ]
     },
     "execution_count": 52,
     "metadata": {},
     "output_type": "execute_result"
    }
   ],
   "source": [
    "test_for_coincidence(passive_responses[\"humans_first_resp_mass\"], passive_responses[\"model_mass\"], passive_responses[\"true_mass\"])\n",
    "# FLAG"
   ]
  },
  {
   "cell_type": "markdown",
   "metadata": {},
   "source": [
    "# Are correct guesses / errors correlated to informativeness?"
   ]
  },
  {
   "cell_type": "markdown",
   "metadata": {},
   "source": [
    "### Mass responses"
   ]
  },
  {
   "cell_type": "code",
   "execution_count": 53,
   "metadata": {},
   "outputs": [
    {
     "name": "stdout",
     "output_type": "stream",
     "text": [
      "[[ 1.         -0.00779539]\n",
      " [-0.00779539  1.        ]]\n",
      "[[ 1.         -0.19292631]\n",
      " [-0.19292631  1.        ]]\n"
     ]
    }
   ],
   "source": [
    "print(np.corrcoef(passive_responses[\"post_ent_mass.rtheta\"], passive_responses[\"got_mass_right\"]))\n",
    "print(np.corrcoef(passive_responses[\"post_ent_rel.rtheta\"], passive_responses[\"got_rel_right\"]))"
   ]
  },
  {
   "cell_type": "code",
   "execution_count": 54,
   "metadata": {},
   "outputs": [
    {
     "name": "stdout",
     "output_type": "stream",
     "text": [
      "[[1.         0.45199166]\n",
      " [0.45199166 1.        ]]\n",
      "[[1.         0.00484687]\n",
      " [0.00484687 1.        ]]\n"
     ]
    }
   ],
   "source": [
    "print(np.corrcoef(passive_responses[\"models_got_mass_right\"], passive_responses[\"got_mass_right\"]))\n",
    "print(np.corrcoef(passive_responses[\"models_got_rel_right\"], passive_responses[\"got_rel_right\"]))"
   ]
  },
  {
   "cell_type": "markdown",
   "metadata": {},
   "source": [
    "post_mass_correct_guesses = not_na_passive_responses.query(\"corMass == 1\")[\"post_ent_mass.rtheta\"]\n",
    "post_mass_wrong_guesses = not_na_passive_responses.query(\"corMass == 0\")[\"post_ent_mass.rtheta\"]\n",
    "\n",
    "f_oneway(post_mass_correct_guesses, post_mass_wrong_guesses)"
   ]
  },
  {
   "cell_type": "markdown",
   "metadata": {},
   "source": [
    "### Force responses"
   ]
  },
  {
   "cell_type": "markdown",
   "metadata": {},
   "source": [
    "post_force_correct_guesses = not_na_passive_responses[not_na_passive_responses.model_force_correct_guesses]['post_ent_rel.rtheta']\n",
    "post_force_wrong_guesses = not_na_passive_responses[~not_na_passive_responses.model_force_correct_guesses]['post_ent_rel.rtheta']\n",
    "\n",
    "f_oneway(post_force_correct_guesses, post_force_wrong_guesses)"
   ]
  },
  {
   "cell_type": "markdown",
   "metadata": {},
   "source": [
    "post_force_correct_guesses = not_na_passive_responses[(not_na_passive_responses.corRel).astype(bool)]['post_ent_rel.rtheta']\n",
    "post_force_wrong_guesses = not_na_passive_responses[~(not_na_passive_responses.corRel).astype(bool)]['post_ent_rel.rtheta']\n",
    "\n",
    "f_oneway(post_force_correct_guesses, post_force_wrong_guesses)"
   ]
  },
  {
   "cell_type": "markdown",
   "metadata": {},
   "source": [
    "### What percentage of the time does the model match the most common participant answer? second most common? and third?\n",
    "print((passive_responses[\"model_mass\"] == passive_responses[\"resp_mass\"]).sum() / len(passive_responses))\n",
    "print((passive_responses[\"model_mass\"] == passive_responses[\"second_resp_mass\"]).sum() / len(passive_responses))\n",
    "print((passive_responses[\"model_mass\"] == passive_responses[\"third_resp_mass\"]).sum() / len(passive_responses))\n",
    "print()\n",
    "print((passive_responses[\"model_relationship\"] == passive_responses[\"resp_rel\"]).sum() / len(passive_responses))\n",
    "print((passive_responses[\"model_relationship\"] == passive_responses[\"second_resp_rel\"]).sum() / len(passive_responses))\n",
    "print((passive_responses[\"model_relationship\"] == passive_responses[\"third_resp_rel\"]).sum() / len(passive_responses))"
   ]
  }
 ],
 "metadata": {
  "kernelspec": {
   "display_name": "Python 3",
   "language": "python",
   "name": "python3"
  },
  "language_info": {
   "codemirror_mode": {
    "name": "ipython",
    "version": 3
   },
   "file_extension": ".py",
   "mimetype": "text/x-python",
   "name": "python",
   "nbconvert_exporter": "python",
   "pygments_lexer": "ipython3",
   "version": "3.5.6"
  }
 },
 "nbformat": 4,
 "nbformat_minor": 2
}
