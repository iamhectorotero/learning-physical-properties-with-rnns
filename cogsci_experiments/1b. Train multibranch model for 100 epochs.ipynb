{
 "cells": [
  {
   "cell_type": "code",
   "execution_count": 1,
   "metadata": {},
   "outputs": [],
   "source": [
    "import pandas as pd\n",
    "import numpy as np\n",
    "import torch\n",
    "import torch.utils.data\n",
    "import torch.nn as nn\n",
    "from torch.autograd import Variable\n",
    "from sklearn.model_selection import train_test_split\n",
    "import joblib\n",
    "from tqdm import tqdm\n",
    "import matplotlib.pyplot as plt\n",
    "from copy import deepcopy"
   ]
  },
  {
   "cell_type": "code",
   "execution_count": 2,
   "metadata": {},
   "outputs": [
    {
     "name": "stdout",
     "output_type": "stream",
     "text": [
      "cuda:0\n"
     ]
    }
   ],
   "source": [
    "from isaac.utils import get_cuda_device_if_available, create_directory\n",
    "device = get_cuda_device_if_available()\n",
    "print(device)\n",
    "\n",
    "data_directory = \"remove_initialisation_effects/\"\n",
    "create_directory(data_directory)\n",
    "create_directory(\"models\")\n",
    "create_directory(\"scalers\")"
   ]
  },
  {
   "cell_type": "code",
   "execution_count": 3,
   "metadata": {},
   "outputs": [],
   "source": [
    "from isaac.dataset import read_dataset, prepare_dataset\n",
    "from isaac.utils import plot_confusion_matrix\n",
    "from isaac.constants import BASIC_TRAINING_COLS, FORCE_CLASS_COLS, MASS_CLASS_COLS\n",
    "from isaac.training import training_loop\n",
    "from isaac.models import MultiBranchModel, initialise_model\n",
    "from isaac.evaluation import get_best_model_and_its_accuracy"
   ]
  },
  {
   "cell_type": "code",
   "execution_count": 4,
   "metadata": {},
   "outputs": [],
   "source": [
    "BATCH_SIZE = 128\n",
    "EPOCHS = 100\n",
    "NORMALISE_DATA = True\n",
    "STEP_SIZE = 1\n",
    "SEQ_END = 2700\n",
    "\n",
    "INPUT_DIM = len(BASIC_TRAINING_COLS)    # input dimension\n",
    "HIDDEN_DIM = 25  # hidden layer dimension\n",
    "N_LAYERS = 4     # number of hidden layers\n",
    "OUTPUT_DIM = 3   # output dimension\n",
    "DROPOUT = 0.5\n",
    "\n",
    "network_params = (INPUT_DIM, HIDDEN_DIM, OUTPUT_DIM, DROPOUT)"
   ]
  },
  {
   "cell_type": "markdown",
   "metadata": {},
   "source": [
    "## Read dataset and preprocess it"
   ]
  },
  {
   "cell_type": "code",
   "execution_count": 5,
   "metadata": {},
   "outputs": [
    {
     "name": "stderr",
     "output_type": "stream",
     "text": [
      "100%|██████████| 3500/3500 [00:34<00:00, 102.79it/s]\n",
      "100%|██████████| 1000/1000 [00:10<00:00, 97.47it/s]\n"
     ]
    }
   ],
   "source": [
    "train_trials = read_dataset(\"data/train_passive_trials.h5\")\n",
    "val_trials = read_dataset(\"data/val_passive_trials.h5\")"
   ]
  },
  {
   "cell_type": "markdown",
   "metadata": {},
   "source": [
    "## Train model and plot loss and accuracy"
   ]
  },
  {
   "cell_type": "code",
   "execution_count": 6,
   "metadata": {
    "scrolled": true
   },
   "outputs": [
    {
     "name": "stderr",
     "output_type": "stream",
     "text": [
      "100%|██████████| 3500/3500 [00:05<00:00, 613.38it/s]\n",
      "100%|██████████| 1000/1000 [00:01<00:00, 668.46it/s]\n",
      "Train_loss: ([0.8356112  0.89984073]) Train_acc: ([57.37142857 48.94285714]) Val_acc: ([59.  48.7]): 100%|██████████| 100/100 [19:31<00:00, 11.67s/it]\n",
      "Train_loss: ([0.59038335 0.65417118]) Train_acc: ([67.14285714 59.71428571]) Val_acc: ([56.5 55.1]): 100%|██████████| 100/100 [19:28<00:00, 11.77s/it]\n",
      "Train_loss: ([0.50793313 0.55336084]) Train_acc: ([76.02857143 69.68571429]) Val_acc: ([58.8 58.6]): 100%|██████████| 100/100 [19:24<00:00, 11.58s/it]\n",
      "Train_loss: ([0.59642567 0.684926  ]) Train_acc: ([65.94285714 56.11428571]) Val_acc: ([55.9 49.4]): 100%|██████████| 100/100 [19:19<00:00, 11.78s/it]\n",
      "Train_loss: ([0.74724249 0.83186054]) Train_acc: ([56.11428571 48.6       ]) Val_acc: ([50.9 43.9]): 100%|██████████| 100/100 [19:28<00:00, 11.91s/it]\n"
     ]
    }
   ],
   "source": [
    "N_MODELS = 3\n",
    "\n",
    "stats_dfs = []\n",
    "loaders, scaler = prepare_dataset([train_trials, val_trials], \n",
    "                                  class_columns=[list(MASS_CLASS_COLS), list(FORCE_CLASS_COLS)], \n",
    "                                  multiclass=True,\n",
    "                                  batch_size=BATCH_SIZE, normalise_data=NORMALISE_DATA,\n",
    "                                  device=device)\n",
    "\n",
    "\n",
    "for seed in range(N_MODELS):\n",
    "    df = pd.DataFrame()\n",
    "\n",
    "    model, error, optimizer = initialise_model(network_params, lr=0.01, seed=seed, device=device, arch=MultiBranchModel)\n",
    "    epoch_losses, epoch_accuracies, [best_mass_model, best_force_model] = training_loop(model, optimizer, \n",
    "                                                                                        error,\n",
    "                                                                                        loaders[0], loaders[1], \n",
    "                                                                                        EPOCHS, seq_end=SEQ_END,\n",
    "                                                                                        step_size=STEP_SIZE,\n",
    "                                                                                        multibranch=True)\n",
    "\n",
    "    torch.save(best_mass_model.state_dict(), \"models/best_mass_model_seed_%d.pt\" % seed)\n",
    "    torch.save(best_force_model.state_dict(), \"models/best_force_model_seed_%d.pt\" % seed)\n",
    "    \n",
    "    \n",
    "    train_accuracies = np.array(epoch_accuracies[0])\n",
    "    val_accuracies = np.array(epoch_accuracies[1]) \n",
    "    \n",
    "    df[\"Epoch\"] = np.arange(EPOCHS)\n",
    "    df[\"Mass Loss\"] = epoch_losses[:, 0]\n",
    "    df[\"Force Loss\"] = epoch_losses[:, 1]\n",
    "    df[\"Mass Train Accuracy\"] = train_accuracies[:, 0]\n",
    "    df[\"Mass Val Accuracy\"] = val_accuracies[:, 0]\n",
    "    df[\"Force Train Accuracy\"] = train_accuracies[:, 1]\n",
    "    df[\"Force Val Accuracy\"] = val_accuracies[:,1]\n",
    "    df[\"seed\"] = str(seed)\n",
    "    stats_dfs.append(df)\n",
    "        \n",
    "stats = pd.concat(stats_dfs)\n",
    "stats.to_hdf(data_directory+\"stats.h5\", key=\"stats\")"
   ]
  },
  {
   "cell_type": "markdown",
   "metadata": {},
   "source": [
    "## Save model and scaler"
   ]
  },
  {
   "cell_type": "code",
   "execution_count": 7,
   "metadata": {},
   "outputs": [
    {
     "data": {
      "text/plain": [
       "['scalers/passive_dual_scaler.sk']"
      ]
     },
     "execution_count": 7,
     "metadata": {},
     "output_type": "execute_result"
    }
   ],
   "source": [
    "joblib.dump(scaler, \"scalers/passive_dual_scaler.sk\")"
   ]
  }
 ],
 "metadata": {
  "kernelspec": {
   "display_name": "Python 3",
   "language": "python",
   "name": "python3"
  },
  "language_info": {
   "codemirror_mode": {
    "name": "ipython",
    "version": 3
   },
   "file_extension": ".py",
   "mimetype": "text/x-python",
   "name": "python",
   "nbconvert_exporter": "python",
   "pygments_lexer": "ipython3",
   "version": "3.5.6"
  }
 },
 "nbformat": 4,
 "nbformat_minor": 2
}
