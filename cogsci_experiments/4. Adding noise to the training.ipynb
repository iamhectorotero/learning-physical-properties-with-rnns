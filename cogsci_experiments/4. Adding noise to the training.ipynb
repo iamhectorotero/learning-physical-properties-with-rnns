{
 "cells": [
  {
   "cell_type": "code",
   "execution_count": 1,
   "metadata": {},
   "outputs": [],
   "source": [
    "import pandas as pd\n",
    "import numpy as np\n",
    "import torch\n",
    "import torch.utils.data\n",
    "import torch.nn as nn\n",
    "from torch.autograd import Variable\n",
    "from sklearn.model_selection import train_test_split\n",
    "import joblib\n",
    "from tqdm import tqdm\n",
    "import matplotlib.pyplot as plt\n",
    "from copy import deepcopy"
   ]
  },
  {
   "cell_type": "code",
   "execution_count": 2,
   "metadata": {},
   "outputs": [
    {
     "name": "stdout",
     "output_type": "stream",
     "text": [
      "cuda:0\n"
     ]
    }
   ],
   "source": [
    "from isaac.utils import get_cuda_device_if_available, create_directory\n",
    "device = get_cuda_device_if_available()\n",
    "print(device)\n",
    "\n",
    "data_directory = \"adding_noise_to_training/\"\n",
    "create_directory(data_directory)\n",
    "create_directory(\"models\")\n",
    "create_directory(\"scalers\")"
   ]
  },
  {
   "cell_type": "code",
   "execution_count": 3,
   "metadata": {},
   "outputs": [],
   "source": [
    "from isaac.dataset import read_dataset, prepare_dataset\n",
    "from isaac.utils import plot_confusion_matrix\n",
    "from isaac.constants import BASIC_TRAINING_COLS, FORCE_CLASS_COLS, MASS_CLASS_COLS\n",
    "from isaac.training import training_loop\n",
    "from isaac.models import MultiBranchModel, initialise_model\n",
    "from isaac.evaluation import get_best_model_and_its_accuracy\n",
    "from isaac.noise import add_noise_to_dataloader"
   ]
  },
  {
   "cell_type": "code",
   "execution_count": 4,
   "metadata": {},
   "outputs": [],
   "source": [
    "BATCH_SIZE = 128\n",
    "EPOCHS = 100\n",
    "NORMALISE_DATA = True\n",
    "STEP_SIZE = 3\n",
    "SEQ_END = 1800\n",
    "\n",
    "INPUT_DIM = len(BASIC_TRAINING_COLS)    # input dimension\n",
    "HIDDEN_DIM = 25  # hidden layer dimension\n",
    "N_LAYERS = 4     # number of hidden layers\n",
    "OUTPUT_DIM = 3   # output dimension\n",
    "DROPOUT = 0.5\n",
    "\n",
    "network_params = (INPUT_DIM, HIDDEN_DIM, OUTPUT_DIM, DROPOUT)"
   ]
  },
  {
   "cell_type": "markdown",
   "metadata": {},
   "source": [
    "## Read dataset and preprocess it"
   ]
  },
  {
   "cell_type": "code",
   "execution_count": 5,
   "metadata": {},
   "outputs": [
    {
     "name": "stderr",
     "output_type": "stream",
     "text": [
      "100%|██████████| 3500/3500 [00:28<00:00, 121.97it/s]\n",
      "100%|██████████| 1000/1000 [00:09<00:00, 105.14it/s]\n"
     ]
    }
   ],
   "source": [
    "train_trials = read_dataset(\"data/train_passive_trials.h5\")\n",
    "val_trials = read_dataset(\"data/val_passive_trials.h5\")"
   ]
  },
  {
   "cell_type": "markdown",
   "metadata": {},
   "source": [
    "## Train model and plot loss and accuracy"
   ]
  },
  {
   "cell_type": "code",
   "execution_count": 6,
   "metadata": {
    "scrolled": true
   },
   "outputs": [
    {
     "name": "stderr",
     "output_type": "stream",
     "text": [
      "100%|██████████| 3500/3500 [00:05<00:00, 689.93it/s]\n",
      "100%|██████████| 1000/1000 [00:01<00:00, 670.96it/s]\n"
     ]
    },
    {
     "name": "stdout",
     "output_type": "stream",
     "text": [
      "0.025\n"
     ]
    },
    {
     "name": "stderr",
     "output_type": "stream",
     "text": [
      "Train_loss: ([0.68585552 0.69788508]) Train_acc: ([64.37142857 56.22857143]) Val_acc: ([53.6 47.9]): 100%|██████████| 100/100 [14:33<00:00,  8.81s/it]\n",
      "Train_loss: ([0.63198239 0.64164907]) Train_acc: ([70.91428571 65.31428571]) Val_acc: ([57.6 56.8]): 100%|██████████| 100/100 [14:35<00:00,  8.69s/it]\n",
      "Train_loss: ([0.5871331  0.51192162]) Train_acc: ([72.65714286 71.08571429]) Val_acc: ([54.9 52. ]): 100%|██████████| 100/100 [14:31<00:00,  8.77s/it]\n"
     ]
    },
    {
     "name": "stdout",
     "output_type": "stream",
     "text": [
      "0.0625\n"
     ]
    },
    {
     "name": "stderr",
     "output_type": "stream",
     "text": [
      "Train_loss: ([0.28693282 0.31830745]) Train_acc: ([84.88571429 82.48571429]) Val_acc: ([61.2 63.9]): 100%|██████████| 100/100 [14:35<00:00,  8.79s/it]\n",
      "Train_loss: ([0.78342802 0.79568502]) Train_acc: ([61.25714286 57.8       ]) Val_acc: ([51.3 51.8]): 100%|██████████| 100/100 [14:34<00:00,  8.77s/it]\n",
      "Train_loss: ([0.88038532 0.905165  ]) Train_acc: ([55.37142857 48.42857143]) Val_acc: ([48.8 45.7]): 100%|██████████| 100/100 [14:36<00:00,  8.79s/it]\n"
     ]
    },
    {
     "name": "stdout",
     "output_type": "stream",
     "text": [
      "0.125\n"
     ]
    },
    {
     "name": "stderr",
     "output_type": "stream",
     "text": [
      "Train_loss: ([0.67635185 0.7433301 ]) Train_acc: ([67.25714286 58.71428571]) Val_acc: ([54.3 50.9]): 100%|██████████| 100/100 [14:26<00:00,  8.72s/it]\n",
      "Train_loss: ([0.55982399 0.51008848]) Train_acc: ([77.4        75.65714286]) Val_acc: ([53.  55.1]): 100%|██████████| 100/100 [14:37<00:00,  8.78s/it]\n",
      "Train_loss: ([0.40258311 0.40281282]) Train_acc: ([83.08571429 78.85714286]) Val_acc: ([54.5 54.8]): 100%|██████████| 100/100 [14:26<00:00,  8.70s/it]\n"
     ]
    },
    {
     "name": "stdout",
     "output_type": "stream",
     "text": [
      "0.25\n"
     ]
    },
    {
     "name": "stderr",
     "output_type": "stream",
     "text": [
      "Train_loss: ([0.64920697 0.59976909]) Train_acc: ([70.48571429 70.4       ]) Val_acc: ([57.5 53.5]): 100%|██████████| 100/100 [14:33<00:00,  8.77s/it]\n",
      "Train_loss: ([0.7080596  0.61524862]) Train_acc: ([66.37142857 72.11428571]) Val_acc: ([53.5 51.1]): 100%|██████████| 100/100 [14:29<00:00,  8.77s/it]\n",
      "Train_loss: ([0.35488293 0.45096434]) Train_acc: ([84.45714286 76.82857143]) Val_acc: ([56.5 53.6]): 100%|██████████| 100/100 [14:34<00:00,  8.79s/it]\n"
     ]
    },
    {
     "name": "stdout",
     "output_type": "stream",
     "text": [
      "0\n"
     ]
    },
    {
     "name": "stderr",
     "output_type": "stream",
     "text": [
      "Train_loss: ([0.58330193 0.57347459]) Train_acc: ([71.82857143 68.08571429]) Val_acc: ([49.6 55.2]): 100%|██████████| 100/100 [14:33<00:00,  8.78s/it]\n",
      "Train_loss: ([0.86719576 0.84949754]) Train_acc: ([54.65714286 46.97142857]) Val_acc: ([48.6 44.6]): 100%|██████████| 100/100 [14:26<00:00,  8.59s/it]\n",
      "Train_loss: ([0.99715294 0.99506863]) Train_acc: ([47.88571429 42.8       ]) Val_acc: ([46.8 41.4]): 100%|██████████| 100/100 [14:31<00:00,  8.77s/it]\n"
     ]
    }
   ],
   "source": [
    "N_MODELS = 3\n",
    "\n",
    "stats_dfs = []\n",
    "loaders, scaler = prepare_dataset([train_trials, val_trials], \n",
    "                                  class_columns=[list(MASS_CLASS_COLS), list(FORCE_CLASS_COLS)], \n",
    "                                  multiclass=True,\n",
    "                                  batch_size=BATCH_SIZE, normalise_data=NORMALISE_DATA,\n",
    "                                  device=device)\n",
    "\n",
    "\n",
    "for noise_level in [0.025, 0.0625, 0.125, 0.25, 0]:\n",
    "    print(noise_level)\n",
    "    noise_directory = \"models/noise_level_%.4f/\" % noise_level\n",
    "    create_directory(noise_directory)\n",
    "    \n",
    "    train_loader = add_noise_to_dataloader(loaders[0], noise_deviation=noise_level)\n",
    "\n",
    "    for seed in range(N_MODELS):\n",
    "        df = pd.DataFrame()\n",
    "\n",
    "        model, error, optimizer = initialise_model(network_params, lr=0.01, seed=seed, device=device, arch=MultiBranchModel)\n",
    "        epoch_losses, epoch_accuracies, [best_mass_model, best_force_model] = training_loop(model, optimizer, \n",
    "                                                                                            error,\n",
    "                                                                                            train_loader, loaders[1], \n",
    "                                                                                            EPOCHS, seq_end=SEQ_END,\n",
    "                                                                                            step_size=STEP_SIZE,\n",
    "                                                                                            multibranch=True)\n",
    "\n",
    "        torch.save(best_mass_model.state_dict(), noise_directory + \"best_mass_model_seed_%d.pt\" % seed)\n",
    "        torch.save(best_force_model.state_dict(), noise_directory + \"best_force_model_seed_%d.pt\" % seed)\n",
    "\n",
    "\n",
    "        train_accuracies = np.array(epoch_accuracies[0])\n",
    "        val_accuracies = np.array(epoch_accuracies[1]) \n",
    "\n",
    "        df[\"Epoch\"] = np.arange(EPOCHS)\n",
    "        df[\"Mass Loss\"] = epoch_losses[:, 0]\n",
    "        df[\"Force Loss\"] = epoch_losses[:, 1]\n",
    "        df[\"Mass Train Accuracy\"] = train_accuracies[:, 0]\n",
    "        df[\"Mass Val Accuracy\"] = val_accuracies[:, 0]\n",
    "        df[\"Force Train Accuracy\"] = train_accuracies[:, 1]\n",
    "        df[\"Force Val Accuracy\"] = val_accuracies[:,1]\n",
    "        df[\"seed\"] = str(seed)\n",
    "        df[\"noise\"] = noise_level\n",
    "        stats_dfs.append(df)\n",
    "        \n",
    "stats = pd.concat(stats_dfs)\n",
    "stats.to_hdf(data_directory+\"stats.h5\", key=\"stats\")"
   ]
  },
  {
   "cell_type": "markdown",
   "metadata": {},
   "source": [
    "## Save model and scaler"
   ]
  },
  {
   "cell_type": "code",
   "execution_count": 7,
   "metadata": {},
   "outputs": [
    {
     "data": {
      "text/plain": [
       "['scalers/passive_dual_scaler.sk']"
      ]
     },
     "execution_count": 7,
     "metadata": {},
     "output_type": "execute_result"
    }
   ],
   "source": [
    "joblib.dump(scaler, \"scalers/passive_dual_scaler.sk\")"
   ]
  }
 ],
 "metadata": {
  "kernelspec": {
   "display_name": "Python 3",
   "language": "python",
   "name": "python3"
  },
  "language_info": {
   "codemirror_mode": {
    "name": "ipython",
    "version": 3
   },
   "file_extension": ".py",
   "mimetype": "text/x-python",
   "name": "python",
   "nbconvert_exporter": "python",
   "pygments_lexer": "ipython3",
   "version": "3.5.6"
  }
 },
 "nbformat": 4,
 "nbformat_minor": 2
}
