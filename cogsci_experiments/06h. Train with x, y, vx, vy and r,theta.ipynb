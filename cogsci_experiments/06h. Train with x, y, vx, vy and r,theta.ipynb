{
 "cells": [
  {
   "cell_type": "code",
   "execution_count": 1,
   "metadata": {},
   "outputs": [],
   "source": [
    "import pandas as pd\n",
    "import numpy as np\n",
    "import torch\n",
    "import torch.utils.data\n",
    "import torch.nn as nn\n",
    "from torch.autograd import Variable\n",
    "from sklearn.model_selection import train_test_split\n",
    "import joblib\n",
    "from tqdm import tqdm\n",
    "import matplotlib.pyplot as plt\n",
    "from copy import deepcopy"
   ]
  },
  {
   "cell_type": "code",
   "execution_count": 2,
   "metadata": {},
   "outputs": [
    {
     "name": "stdout",
     "output_type": "stream",
     "text": [
      "cuda:0\n"
     ]
    }
   ],
   "source": [
    "from isaac.utils import get_cuda_device_if_available, create_directory\n",
    "device = get_cuda_device_if_available()\n",
    "print(device)\n",
    "\n",
    "data_directory = \"xy_vxvy_rtheta/\"\n",
    "create_directory(data_directory)\n",
    "create_directory(\"models/xy_vxvy_rtheta/\")\n",
    "create_directory(\"scalers\")"
   ]
  },
  {
   "cell_type": "code",
   "execution_count": 3,
   "metadata": {},
   "outputs": [],
   "source": [
    "from isaac.dataset import read_dataset, prepare_dataset\n",
    "from isaac.utils import plot_confusion_matrix\n",
    "from isaac.constants import FORCE_CLASS_COLS, MASS_CLASS_COLS, XY_VXVY_RTHETA_COLS\n",
    "from isaac.training import training_loop\n",
    "from isaac.models import MultiBranchModel, initialise_model\n",
    "from isaac.evaluation import get_best_model_and_its_accuracy"
   ]
  },
  {
   "cell_type": "code",
   "execution_count": 4,
   "metadata": {},
   "outputs": [],
   "source": [
    "BATCH_SIZE = 128\n",
    "EPOCHS = 60\n",
    "NORMALISE_DATA = True\n",
    "STEP_SIZE = 3\n",
    "SEQ_END = 2700\n",
    "\n",
    "INPUT_DIM = 24    # input dimension\n",
    "HIDDEN_DIM = 25  # hidden layer dimension\n",
    "N_LAYERS = 4     # number of hidden layers\n",
    "OUTPUT_DIM = 3   # output dimension\n",
    "DROPOUT = 0.5\n",
    "\n",
    "network_params = (INPUT_DIM, HIDDEN_DIM, OUTPUT_DIM, DROPOUT)"
   ]
  },
  {
   "cell_type": "markdown",
   "metadata": {},
   "source": [
    "## Read dataset and preprocess it"
   ]
  },
  {
   "cell_type": "code",
   "execution_count": 5,
   "metadata": {},
   "outputs": [
    {
     "name": "stderr",
     "output_type": "stream",
     "text": [
      "100%|██████████| 10935/10935 [01:16<00:00, 142.49it/s]\n"
     ]
    }
   ],
   "source": [
    "train_trials = read_dataset(\"data/r_train_trials.h5\")\n",
    "val_trials = read_dataset(\"data/r_val_trials.h5\")\n",
    "\n",
    "train_classes = [trial.combined_solution.iloc[0] for trial in train_trials]\n",
    "val_classes = [trial.combined_solution.iloc[0] for trial in val_trials]\n",
    "\n",
    "np.random.seed(37)\n",
    "train_trials, _ = train_test_split(train_trials, train_size=4000, stratify=train_classes)\n",
    "val_trials, _ = train_test_split(val_trials, train_size=1000, stratify=val_classes)"
   ]
  },
  {
   "cell_type": "markdown",
   "metadata": {},
   "source": [
    "## Train model and plot loss and accuracy"
   ]
  },
  {
   "cell_type": "code",
   "execution_count": 7,
   "metadata": {
    "scrolled": false
   },
   "outputs": [
    {
     "name": "stderr",
     "output_type": "stream",
     "text": [
      "100%|██████████| 3500/3500 [00:11<00:00, 314.20it/s]\n",
      "100%|██████████| 1000/1000 [00:02<00:00, 335.50it/s]\n",
      "Train_loss: ([0.42423393 0.30547512]) Train_acc: ([81.11428571 84.45714286]) Val_acc: ([67.7 69.4]): 100%|██████████| 60/60 [09:18<00:00,  9.51s/it]\n",
      "Train_loss: ([0.44353925 0.28658367]) Train_acc: ([79.88571429 82.37142857]) Val_acc: ([67.9 72.1]): 100%|██████████| 60/60 [09:27<00:00,  9.34s/it]\n",
      "Train_loss: ([0.4646638  0.26124691]) Train_acc: ([80.34285714 83.11428571]) Val_acc: ([68.6 69.8]): 100%|██████████| 60/60 [09:23<00:00,  9.54s/it]\n",
      "Train_loss: ([0.41803144 0.28133629]) Train_acc: ([80.54285714 83.54285714]) Val_acc: ([66.3 73.9]): 100%|██████████| 60/60 [09:30<00:00,  9.55s/it]\n",
      "Train_loss: ([0.44898194 0.25864986]) Train_acc: ([81.05714286 88.        ]) Val_acc: ([68.2 72.6]): 100%|██████████| 60/60 [09:30<00:00,  9.54s/it]\n",
      "Train_loss: ([0.49371289 0.28662452]) Train_acc: ([79.6        84.57142857]) Val_acc: ([66.8 68.9]): 100%|██████████| 60/60 [09:31<00:00,  9.51s/it]\n",
      "Train_loss: ([0.42156316 0.2982894 ]) Train_acc: ([79.34285714 82.28571429]) Val_acc: ([69.  68.6]): 100%|██████████| 60/60 [09:22<00:00,  9.35s/it]\n",
      "Train_loss: ([0.6077936 0.4550129]) Train_acc: ([70.94285714 75.14285714]) Val_acc: ([62.3 66.3]): 100%|██████████| 60/60 [09:26<00:00,  9.38s/it]  \n",
      "Train_loss: ([0.44413011 0.30273399]) Train_acc: ([80.6        81.88571429]) Val_acc: ([69.  68.8]): 100%|██████████| 60/60 [09:27<00:00,  9.50s/it]\n",
      "Train_loss: ([0.80963208 0.56588162]) Train_acc: ([58.77142857 65.88571429]) Val_acc: ([58.  63.6]): 100%|██████████| 60/60 [09:29<00:00,  9.42s/it]\n",
      "Train_loss: ([0.45563605 0.27325259]) Train_acc: ([78.08571429 84.94285714]) Val_acc: ([66.8 74. ]): 100%|██████████| 60/60 [09:32<00:00,  9.54s/it]\n",
      "Train_loss: ([0.5299468  0.39575633]) Train_acc: ([75.08571429 80.8       ]) Val_acc: ([67.7 69.5]): 100%|██████████| 60/60 [09:29<00:00,  9.39s/it]\n",
      "Train_loss: ([0.40823741 0.25263608]) Train_acc: ([82.88571429 87.37142857]) Val_acc: ([66.2 72.1]): 100%|██████████| 60/60 [09:23<00:00,  9.46s/it]\n",
      "Train_loss: ([0.43039538 0.26630605]) Train_acc: ([79.54285714 85.74285714]) Val_acc: ([67.  73.1]): 100%|██████████| 60/60 [09:28<00:00,  9.63s/it]\n",
      "Train_loss: ([0.39086308 0.254401  ]) Train_acc: ([80.2        82.57142857]) Val_acc: ([68.5 69.2]): 100%|██████████| 60/60 [09:33<00:00,  9.40s/it]\n",
      "Train_loss: ([0.390073   0.25743742]) Train_acc: ([80.17142857 82.45714286]) Val_acc: ([68.  70.9]): 100%|██████████| 60/60 [09:25<00:00,  9.35s/it]\n",
      "Train_loss: ([0.41127484 0.27555059]) Train_acc: ([80.25714286 83.57142857]) Val_acc: ([66.4 71.1]): 100%|██████████| 60/60 [09:30<00:00,  9.56s/it]\n",
      "Train_loss: ([0.37762844 0.27957167]) Train_acc: ([83.65714286 85.91428571]) Val_acc: ([68.5 74.8]): 100%|██████████| 60/60 [09:27<00:00,  9.50s/it]\n",
      "Train_loss: ([0.40635918 0.29250825]) Train_acc: ([81.25714286 80.51428571]) Val_acc: ([69.  71.9]): 100%|██████████| 60/60 [09:33<00:00,  9.53s/it]\n",
      "Train_loss: ([0.47934276 0.33632496]) Train_acc: ([78.91428571 84.48571429]) Val_acc: ([70.1 73.6]): 100%|██████████| 60/60 [09:26<00:00,  9.49s/it]\n",
      "Train_loss: ([0.39868274 0.30239879]) Train_acc: ([78.48571429 81.74285714]) Val_acc: ([68.5 70.1]): 100%|██████████| 60/60 [09:24<00:00,  9.50s/it]\n",
      "Train_loss: ([0.43225985 0.27253033]) Train_acc: ([76.34285714 82.28571429]) Val_acc: ([64.1 69. ]): 100%|██████████| 60/60 [09:24<00:00,  9.56s/it]\n",
      "Train_loss: ([0.39538869 0.26990192]) Train_acc: ([80.62857143 87.02857143]) Val_acc: ([68.  72.9]): 100%|██████████| 60/60 [09:27<00:00,  9.43s/it]\n",
      "Train_loss: ([0.42032921 0.28324099]) Train_acc: ([80.31428571 86.25714286]) Val_acc: ([69.3 72.8]): 100%|██████████| 60/60 [09:28<00:00,  9.55s/it]\n",
      "Train_loss: ([0.60314632 0.39737052]) Train_acc: ([71.02857143 77.68571429]) Val_acc: ([63.8 71.2]): 100%|██████████| 60/60 [09:24<00:00,  9.39s/it]\n"
     ]
    }
   ],
   "source": [
    "N_MODELS = 25\n",
    "\n",
    "stats_dfs = []\n",
    "loaders, scaler = prepare_dataset([train_trials, val_trials], \n",
    "                                  class_columns=[list(MASS_CLASS_COLS), list(FORCE_CLASS_COLS)], \n",
    "                                  multiclass=True,\n",
    "                                  batch_size=BATCH_SIZE, normalise_data=NORMALISE_DATA,\n",
    "                                  device=device, training_columns=XY_VXVY_RTHETA_COLS)\n",
    "\n",
    "\n",
    "for seed in range(N_MODELS):\n",
    "    df = pd.DataFrame()\n",
    "\n",
    "    model, error, optimizer = initialise_model(network_params, lr=0.01, seed=seed, device=device, arch=MultiBranchModel)\n",
    "    epoch_losses, epoch_accuracies, [best_mass_model, best_force_model] = training_loop(model, optimizer, \n",
    "                                                                                        error,\n",
    "                                                                                        loaders[0], loaders[1], \n",
    "                                                                                        EPOCHS, seq_end=SEQ_END,\n",
    "                                                                                        step_size=STEP_SIZE,\n",
    "                                                                                        multibranch=True)\n",
    "\n",
    "    torch.save(best_mass_model.state_dict(), \"models/xy_vxvy_rtheta/best_mass_model_seed_%d.pt\" % seed)\n",
    "    torch.save(best_force_model.state_dict(), \"models/xy_vxvy_rtheta/best_force_model_seed_%d.pt\" % seed)\n",
    "    \n",
    "    \n",
    "    train_accuracies = np.array(epoch_accuracies[0])\n",
    "    val_accuracies = np.array(epoch_accuracies[1]) \n",
    "    \n",
    "    df[\"Epoch\"] = np.arange(EPOCHS)\n",
    "    df[\"Mass Loss\"] = epoch_losses[:, 0]\n",
    "    df[\"Force Loss\"] = epoch_losses[:, 1]\n",
    "    df[\"Mass Train Accuracy\"] = train_accuracies[:, 0]\n",
    "    df[\"Mass Val Accuracy\"] = val_accuracies[:, 0]\n",
    "    df[\"Force Train Accuracy\"] = train_accuracies[:, 1]\n",
    "    df[\"Force Val Accuracy\"] = val_accuracies[:,1]\n",
    "    df[\"seed\"] = str(seed)\n",
    "    stats_dfs.append(df)\n",
    "        \n",
    "stats = pd.concat(stats_dfs)\n",
    "stats.to_hdf(data_directory+\"stats.h5\", key=\"stats\")"
   ]
  },
  {
   "cell_type": "markdown",
   "metadata": {},
   "source": [
    "## Save model and scaler"
   ]
  },
  {
   "cell_type": "code",
   "execution_count": 9,
   "metadata": {},
   "outputs": [
    {
     "data": {
      "text/plain": [
       "['scalers/passive_xy_vxvy_rtheta_scaler.sk']"
      ]
     },
     "execution_count": 9,
     "metadata": {},
     "output_type": "execute_result"
    }
   ],
   "source": [
    "joblib.dump(scaler, \"scalers/passive_xy_vxvy_rtheta_scaler.sk\")"
   ]
  }
 ],
 "metadata": {
  "kernelspec": {
   "display_name": "Python 3",
   "language": "python",
   "name": "python3"
  },
  "language_info": {
   "codemirror_mode": {
    "name": "ipython",
    "version": 3
   },
   "file_extension": ".py",
   "mimetype": "text/x-python",
   "name": "python",
   "nbconvert_exporter": "python",
   "pygments_lexer": "ipython3",
   "version": "3.5.6"
  }
 },
 "nbformat": 4,
 "nbformat_minor": 2
}
