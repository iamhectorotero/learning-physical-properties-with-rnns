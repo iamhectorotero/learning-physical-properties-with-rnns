{
 "cells": [
  {
   "cell_type": "code",
   "execution_count": 1,
   "metadata": {},
   "outputs": [],
   "source": [
    "import pandas as pd\n",
    "import numpy as np\n",
    "import torch\n",
    "import torch.utils.data\n",
    "import torch.nn as nn\n",
    "from torch.autograd import Variable\n",
    "from sklearn.model_selection import train_test_split\n",
    "import joblib\n",
    "from tqdm import tqdm\n",
    "import matplotlib.pyplot as plt\n",
    "from copy import deepcopy"
   ]
  },
  {
   "cell_type": "code",
   "execution_count": 2,
   "metadata": {},
   "outputs": [
    {
     "name": "stdout",
     "output_type": "stream",
     "text": [
      "cuda:0\n"
     ]
    }
   ],
   "source": [
    "from isaac.utils import get_cuda_device_if_available, create_directory\n",
    "device = get_cuda_device_if_available()\n",
    "print(device)\n",
    "\n",
    "data_directory = \"r_theta/\"\n",
    "create_directory(data_directory)\n",
    "create_directory(\"models/r_theta/\")\n",
    "create_directory(\"scalers\")"
   ]
  },
  {
   "cell_type": "code",
   "execution_count": 3,
   "metadata": {},
   "outputs": [],
   "source": [
    "from isaac.dataset import read_dataset, prepare_dataset\n",
    "from isaac.utils import plot_confusion_matrix\n",
    "from isaac.constants import BASIC_TRAINING_COLS, FORCE_CLASS_COLS, MASS_CLASS_COLS\n",
    "from isaac.training import training_loop\n",
    "from isaac.models import MultiBranchModel, initialise_model\n",
    "from isaac.evaluation import get_best_model_and_its_accuracy"
   ]
  },
  {
   "cell_type": "code",
   "execution_count": 4,
   "metadata": {},
   "outputs": [],
   "source": [
    "BATCH_SIZE = 128\n",
    "EPOCHS = 100\n",
    "NORMALISE_DATA = True\n",
    "STEP_SIZE = 3\n",
    "SEQ_END = 2700\n",
    "\n",
    "INPUT_DIM = len(BASIC_TRAINING_COLS)    # input dimension\n",
    "HIDDEN_DIM = 25  # hidden layer dimension\n",
    "N_LAYERS = 4     # number of hidden layers\n",
    "OUTPUT_DIM = 3   # output dimension\n",
    "DROPOUT = 0.5\n",
    "\n",
    "network_params = (INPUT_DIM, HIDDEN_DIM, OUTPUT_DIM, DROPOUT)"
   ]
  },
  {
   "cell_type": "markdown",
   "metadata": {},
   "source": [
    "## Read dataset and preprocess it"
   ]
  },
  {
   "cell_type": "code",
   "execution_count": 5,
   "metadata": {},
   "outputs": [
    {
     "name": "stderr",
     "output_type": "stream",
     "text": [
      "100%|██████████| 3500/3500 [00:33<00:00, 102.96it/s]\n",
      "100%|██████████| 1000/1000 [00:08<00:00, 114.98it/s]\n"
     ]
    }
   ],
   "source": [
    "train_trials = read_dataset(\"data/train_passive_trials.h5\", cols=BASIC_TRAINING_COLS)\n",
    "val_trials = read_dataset(\"data/val_passive_trials.h5\", cols=BASIC_TRAINING_COLS)"
   ]
  },
  {
   "cell_type": "code",
   "execution_count": 6,
   "metadata": {},
   "outputs": [
    {
     "name": "stderr",
     "output_type": "stream",
     "text": [
      "100%|██████████| 3500/3500 [03:40<00:00, 14.57it/s]\n",
      "100%|██████████| 1000/1000 [01:11<00:00, 13.99it/s]\n"
     ]
    }
   ],
   "source": [
    "RTHETA_ATTRS = [obj+\".\"+attr for obj in [\"o1\", \"o2\", \"o3\", \"o4\"] for attr in [\"x\", \"y\", \"r\", \"theta\"]]\n",
    "\n",
    "def add_r_theta_attributes(trials):\n",
    "    for trial in tqdm(trials):\n",
    "        for obj in [\"o1\", \"o2\", \"o3\", \"o4\"]:\n",
    "            trial[obj+\".r\"] = (trial[obj+\".vx\"]**2 + trial[obj+\".vy\"]**2)**0.5\n",
    "            trial[obj+\".theta\"] = (np.arctan2(trial[obj+\".vx\"], trial[obj+\".vy\"]) * 180 / np.pi)\n",
    "\n",
    "add_r_theta_attributes(train_trials)\n",
    "add_r_theta_attributes(val_trials)"
   ]
  },
  {
   "cell_type": "code",
   "execution_count": 7,
   "metadata": {},
   "outputs": [
    {
     "data": {
      "text/html": [
       "<div>\n",
       "<style scoped>\n",
       "    .dataframe tbody tr th:only-of-type {\n",
       "        vertical-align: middle;\n",
       "    }\n",
       "\n",
       "    .dataframe tbody tr th {\n",
       "        vertical-align: top;\n",
       "    }\n",
       "\n",
       "    .dataframe thead th {\n",
       "        text-align: right;\n",
       "    }\n",
       "</style>\n",
       "<table border=\"1\" class=\"dataframe\">\n",
       "  <thead>\n",
       "    <tr style=\"text-align: right;\">\n",
       "      <th></th>\n",
       "      <th>o1.x</th>\n",
       "      <th>o1.y</th>\n",
       "      <th>o1.r</th>\n",
       "      <th>o1.theta</th>\n",
       "      <th>o2.x</th>\n",
       "      <th>o2.y</th>\n",
       "      <th>o2.r</th>\n",
       "      <th>o2.theta</th>\n",
       "      <th>o3.x</th>\n",
       "      <th>o3.y</th>\n",
       "      <th>o3.r</th>\n",
       "      <th>o3.theta</th>\n",
       "      <th>o4.x</th>\n",
       "      <th>o4.y</th>\n",
       "      <th>o4.r</th>\n",
       "      <th>o4.theta</th>\n",
       "    </tr>\n",
       "  </thead>\n",
       "  <tbody>\n",
       "    <tr>\n",
       "      <th>0</th>\n",
       "      <td>1.31253</td>\n",
       "      <td>3.013948</td>\n",
       "      <td>5.507783</td>\n",
       "      <td>132.610561</td>\n",
       "      <td>4.258775</td>\n",
       "      <td>2.160018</td>\n",
       "      <td>12.634763</td>\n",
       "      <td>-43.695787</td>\n",
       "      <td>5.422599</td>\n",
       "      <td>2.014424</td>\n",
       "      <td>8.036512</td>\n",
       "      <td>-75.857927</td>\n",
       "      <td>4.985966</td>\n",
       "      <td>2.753544</td>\n",
       "      <td>11.011006</td>\n",
       "      <td>121.950045</td>\n",
       "    </tr>\n",
       "    <tr>\n",
       "      <th>1</th>\n",
       "      <td>1.38005</td>\n",
       "      <td>2.951850</td>\n",
       "      <td>5.504239</td>\n",
       "      <td>132.603147</td>\n",
       "      <td>4.113570</td>\n",
       "      <td>2.312260</td>\n",
       "      <td>12.623376</td>\n",
       "      <td>-43.645417</td>\n",
       "      <td>5.292690</td>\n",
       "      <td>2.047320</td>\n",
       "      <td>8.040282</td>\n",
       "      <td>-75.790595</td>\n",
       "      <td>5.141500</td>\n",
       "      <td>2.656210</td>\n",
       "      <td>11.008778</td>\n",
       "      <td>122.040371</td>\n",
       "    </tr>\n",
       "    <tr>\n",
       "      <th>2</th>\n",
       "      <td>1.44754</td>\n",
       "      <td>2.889800</td>\n",
       "      <td>5.500725</td>\n",
       "      <td>132.595496</td>\n",
       "      <td>3.968610</td>\n",
       "      <td>2.464420</td>\n",
       "      <td>12.609304</td>\n",
       "      <td>-43.611090</td>\n",
       "      <td>5.162780</td>\n",
       "      <td>2.080590</td>\n",
       "      <td>8.046592</td>\n",
       "      <td>-75.634300</td>\n",
       "      <td>5.296840</td>\n",
       "      <td>2.558500</td>\n",
       "      <td>11.011026</td>\n",
       "      <td>122.167324</td>\n",
       "    </tr>\n",
       "    <tr>\n",
       "      <th>3</th>\n",
       "      <td>1.51500</td>\n",
       "      <td>2.827800</td>\n",
       "      <td>5.497245</td>\n",
       "      <td>132.587777</td>\n",
       "      <td>3.823870</td>\n",
       "      <td>2.616460</td>\n",
       "      <td>12.595276</td>\n",
       "      <td>-43.591654</td>\n",
       "      <td>5.022060</td>\n",
       "      <td>2.065790</td>\n",
       "      <td>8.489894</td>\n",
       "      <td>-96.006138</td>\n",
       "      <td>5.462840</td>\n",
       "      <td>2.508930</td>\n",
       "      <td>10.394279</td>\n",
       "      <td>106.626837</td>\n",
       "    </tr>\n",
       "    <tr>\n",
       "      <th>4</th>\n",
       "      <td>1.58242</td>\n",
       "      <td>2.765840</td>\n",
       "      <td>5.493810</td>\n",
       "      <td>132.579773</td>\n",
       "      <td>3.679300</td>\n",
       "      <td>2.768370</td>\n",
       "      <td>12.582110</td>\n",
       "      <td>-43.580452</td>\n",
       "      <td>4.881720</td>\n",
       "      <td>2.051290</td>\n",
       "      <td>8.464804</td>\n",
       "      <td>-95.895654</td>\n",
       "      <td>5.473250</td>\n",
       "      <td>2.467860</td>\n",
       "      <td>9.910181</td>\n",
       "      <td>-100.935681</td>\n",
       "    </tr>\n",
       "  </tbody>\n",
       "</table>\n",
       "</div>"
      ],
      "text/plain": [
       "      o1.x      o1.y      o1.r    o1.theta      o2.x      o2.y       o2.r  \\\n",
       "0  1.31253  3.013948  5.507783  132.610561  4.258775  2.160018  12.634763   \n",
       "1  1.38005  2.951850  5.504239  132.603147  4.113570  2.312260  12.623376   \n",
       "2  1.44754  2.889800  5.500725  132.595496  3.968610  2.464420  12.609304   \n",
       "3  1.51500  2.827800  5.497245  132.587777  3.823870  2.616460  12.595276   \n",
       "4  1.58242  2.765840  5.493810  132.579773  3.679300  2.768370  12.582110   \n",
       "\n",
       "    o2.theta      o3.x      o3.y      o3.r   o3.theta      o4.x      o4.y  \\\n",
       "0 -43.695787  5.422599  2.014424  8.036512 -75.857927  4.985966  2.753544   \n",
       "1 -43.645417  5.292690  2.047320  8.040282 -75.790595  5.141500  2.656210   \n",
       "2 -43.611090  5.162780  2.080590  8.046592 -75.634300  5.296840  2.558500   \n",
       "3 -43.591654  5.022060  2.065790  8.489894 -96.006138  5.462840  2.508930   \n",
       "4 -43.580452  4.881720  2.051290  8.464804 -95.895654  5.473250  2.467860   \n",
       "\n",
       "        o4.r    o4.theta  \n",
       "0  11.011006  121.950045  \n",
       "1  11.008778  122.040371  \n",
       "2  11.011026  122.167324  \n",
       "3  10.394279  106.626837  \n",
       "4   9.910181 -100.935681  "
      ]
     },
     "execution_count": 7,
     "metadata": {},
     "output_type": "execute_result"
    }
   ],
   "source": [
    "train_trials[0][RTHETA_ATTRS].head()"
   ]
  },
  {
   "cell_type": "markdown",
   "metadata": {},
   "source": [
    "## Train model and plot loss and accuracy"
   ]
  },
  {
   "cell_type": "code",
   "execution_count": 8,
   "metadata": {
    "scrolled": true
   },
   "outputs": [
    {
     "name": "stderr",
     "output_type": "stream",
     "text": [
      "100%|██████████| 3500/3500 [00:06<00:00, 546.47it/s]\n",
      "100%|██████████| 1000/1000 [00:01<00:00, 542.07it/s]\n",
      "Train_loss: ([0.53783192 0.59829779]) Train_acc: ([76.22857143 73.34285714]) Val_acc: ([64.4 63.4]): 100%|██████████| 100/100 [20:01<00:00, 11.76s/it]\n",
      "Train_loss: ([0.54278776 0.64404561]) Train_acc: ([74.         64.25714286]) Val_acc: ([61.4 61.3]): 100%|██████████| 100/100 [19:21<00:00, 11.45s/it]\n",
      "Train_loss: ([0.5234014  0.50845636]) Train_acc: ([76.62857143 76.57142857]) Val_acc: ([66.4 66. ]): 100%|██████████| 100/100 [19:11<00:00, 11.63s/it]\n"
     ]
    }
   ],
   "source": [
    "N_MODELS = 3\n",
    "\n",
    "stats_dfs = []\n",
    "loaders, scaler = prepare_dataset([train_trials, val_trials], \n",
    "                                  class_columns=[list(MASS_CLASS_COLS), list(FORCE_CLASS_COLS)], \n",
    "                                  multiclass=True,\n",
    "                                  batch_size=BATCH_SIZE, normalise_data=NORMALISE_DATA,\n",
    "                                  device=device, training_columns=RTHETA_ATTRS)\n",
    "\n",
    "\n",
    "for seed in range(N_MODELS):\n",
    "    df = pd.DataFrame()\n",
    "\n",
    "    model, error, optimizer = initialise_model(network_params, lr=0.01, seed=seed, device=device, arch=MultiBranchModel)\n",
    "    epoch_losses, epoch_accuracies, [best_mass_model, best_force_model] = training_loop(model, optimizer, \n",
    "                                                                                        error,\n",
    "                                                                                        loaders[0], loaders[1], \n",
    "                                                                                        EPOCHS, seq_end=SEQ_END,\n",
    "                                                                                        step_size=STEP_SIZE,\n",
    "                                                                                        multibranch=True)\n",
    "\n",
    "    torch.save(best_mass_model.state_dict(), \"models/r_theta/best_mass_model_seed_%d.pt\" % seed)\n",
    "    torch.save(best_force_model.state_dict(), \"models/r_theta/best_force_model_seed_%d.pt\" % seed)\n",
    "    \n",
    "    \n",
    "    train_accuracies = np.array(epoch_accuracies[0])\n",
    "    val_accuracies = np.array(epoch_accuracies[1]) \n",
    "    \n",
    "    df[\"Epoch\"] = np.arange(EPOCHS)\n",
    "    df[\"Mass Loss\"] = epoch_losses[:, 0]\n",
    "    df[\"Force Loss\"] = epoch_losses[:, 1]\n",
    "    df[\"Mass Train Accuracy\"] = train_accuracies[:, 0]\n",
    "    df[\"Mass Val Accuracy\"] = val_accuracies[:, 0]\n",
    "    df[\"Force Train Accuracy\"] = train_accuracies[:, 1]\n",
    "    df[\"Force Val Accuracy\"] = val_accuracies[:,1]\n",
    "    df[\"seed\"] = str(seed)\n",
    "    stats_dfs.append(df)\n",
    "        \n",
    "stats = pd.concat(stats_dfs)\n",
    "stats.to_hdf(data_directory+\"stats.h5\", key=\"stats\")"
   ]
  },
  {
   "cell_type": "markdown",
   "metadata": {},
   "source": [
    "## Save model and scaler"
   ]
  },
  {
   "cell_type": "code",
   "execution_count": 9,
   "metadata": {},
   "outputs": [
    {
     "data": {
      "text/plain": [
       "['scalers/passive_rtheta_scaler.sk']"
      ]
     },
     "execution_count": 9,
     "metadata": {},
     "output_type": "execute_result"
    }
   ],
   "source": [
    "joblib.dump(scaler, \"scalers/passive_rtheta_scaler.sk\")"
   ]
  }
 ],
 "metadata": {
  "kernelspec": {
   "display_name": "Python 3",
   "language": "python",
   "name": "python3"
  },
  "language_info": {
   "codemirror_mode": {
    "name": "ipython",
    "version": 3
   },
   "file_extension": ".py",
   "mimetype": "text/x-python",
   "name": "python",
   "nbconvert_exporter": "python",
   "pygments_lexer": "ipython3",
   "version": "3.5.6"
  }
 },
 "nbformat": 4,
 "nbformat_minor": 2
}
