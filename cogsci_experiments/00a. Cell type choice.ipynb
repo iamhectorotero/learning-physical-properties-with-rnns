{
 "cells": [
  {
   "cell_type": "code",
   "execution_count": 1,
   "metadata": {},
   "outputs": [],
   "source": [
    "import torch\n",
    "import torch.nn as nn"
   ]
  },
  {
   "cell_type": "code",
   "execution_count": 2,
   "metadata": {},
   "outputs": [],
   "source": [
    "from isaac.dataset import read_dataset, prepare_dataset\n",
    "from isaac.constants import POSITION_COLS, MASS_CLASS_COLS, BASIC_TRAINING_COLS, FORCE_CLASS_COLS\n",
    "from isaac.sanity import class_proportions\n",
    "from isaac.models import initialise_model\n",
    "from isaac.training import training_loop\n",
    "import matplotlib.pyplot as plt\n",
    "import numpy as np\n",
    "import pandas as pd"
   ]
  },
  {
   "cell_type": "code",
   "execution_count": 3,
   "metadata": {},
   "outputs": [
    {
     "name": "stdout",
     "output_type": "stream",
     "text": [
      "cuda:0\n"
     ]
    }
   ],
   "source": [
    "from isaac.utils import get_cuda_device_if_available, create_directory\n",
    "device = get_cuda_device_if_available()\n",
    "print(device)\n",
    "\n",
    "directory = \"cell_type_choice_plots/\"\n",
    "create_directory(directory)"
   ]
  },
  {
   "cell_type": "code",
   "execution_count": 4,
   "metadata": {},
   "outputs": [],
   "source": [
    "TR_COLS = BASIC_TRAINING_COLS\n",
    "NORMALISE_DATA = True\n",
    "BATCH_SIZE = 128\n",
    "EPOCHS = 25\n",
    "STEP_SIZE = 1\n",
    "SEQ_END = 2700"
   ]
  },
  {
   "cell_type": "code",
   "execution_count": 5,
   "metadata": {},
   "outputs": [
    {
     "name": "stderr",
     "output_type": "stream",
     "text": [
      "100%|██████████| 3500/3500 [00:33<00:00, 104.75it/s]\n",
      "100%|██████████| 1000/1000 [00:09<00:00, 105.01it/s]\n"
     ]
    }
   ],
   "source": [
    "train_trials = read_dataset(\"data/train_passive_trials.h5\", n_trials=3500, cols=TR_COLS)\n",
    "val_trials = read_dataset(\"data/val_passive_trials.h5\", n_trials=1000, cols=TR_COLS)"
   ]
  },
  {
   "cell_type": "code",
   "execution_count": 6,
   "metadata": {},
   "outputs": [],
   "source": [
    "INPUT_DIM = len(TR_COLS)    # input dimension\n",
    "HIDDEN_DIM = 25  # hidden layer dimension\n",
    "N_LAYERS = 4     # number of hidden layers\n",
    "OUTPUT_DIM = 3   # output dimension\n",
    "DROPOUT = 0.5\n",
    "\n",
    "network_params = (INPUT_DIM, HIDDEN_DIM, N_LAYERS, OUTPUT_DIM, DROPOUT)"
   ]
  },
  {
   "cell_type": "markdown",
   "metadata": {},
   "source": [
    "# MASS TRAINING"
   ]
  },
  {
   "cell_type": "code",
   "execution_count": 7,
   "metadata": {},
   "outputs": [
    {
     "name": "stderr",
     "output_type": "stream",
     "text": [
      "100%|██████████| 3500/3500 [00:03<00:00, 996.91it/s] \n",
      "100%|██████████| 1000/1000 [00:00<00:00, 1092.02it/s]\n"
     ]
    }
   ],
   "source": [
    "loaders, scaler = prepare_dataset([train_trials, val_trials], class_columns=MASS_CLASS_COLS, \n",
    "                                  training_columns=TR_COLS, batch_size=BATCH_SIZE, \n",
    "                                  normalise_data=NORMALISE_DATA, device=device)"
   ]
  },
  {
   "cell_type": "code",
   "execution_count": 8,
   "metadata": {},
   "outputs": [],
   "source": [
    "train_loader, val_loader = loaders"
   ]
  },
  {
   "cell_type": "code",
   "execution_count": 9,
   "metadata": {},
   "outputs": [
    {
     "name": "stdout",
     "output_type": "stream",
     "text": [
      "[1188 1174 1138]\n",
      "Majority class:  0.3394285714285714\n",
      "[340 349 311]\n",
      "Majority class:  0.349\n"
     ]
    },
    {
     "data": {
      "text/plain": [
       "(array([340, 349, 311]), 0.349)"
      ]
     },
     "execution_count": 9,
     "metadata": {},
     "output_type": "execute_result"
    }
   ],
   "source": [
    "class_proportions(train_loader)\n",
    "class_proportions(val_loader)"
   ]
  },
  {
   "cell_type": "code",
   "execution_count": 10,
   "metadata": {},
   "outputs": [
    {
     "name": "stderr",
     "output_type": "stream",
     "text": [
      "Train_loss: ([0.65387614]) Train_acc: (72.77142857142857) Val_acc: ([55.9]): 100%|██████████| 25/25 [13:32<00:00, 32.76s/it] \n",
      "Train_loss: ([0.54862248]) Train_acc: (77.42857142857143) Val_acc: ([58.6]): 100%|██████████| 25/25 [13:32<00:00, 32.57s/it]\n",
      "Train_loss: ([0.57437534]) Train_acc: (74.02857142857142) Val_acc: ([59.9]): 100%|██████████| 25/25 [13:13<00:00, 32.00s/it] \n",
      "Train_loss: ([1.10445257]) Train_acc: (32.51428571428571) Val_acc: ([31.1]): 100%|██████████| 25/25 [11:31<00:00, 27.39s/it] \n",
      "Train_loss: ([1.1071615]) Train_acc: (32.68571428571428) Val_acc: ([36.0]): 100%|██████████| 25/25 [11:13<00:00, 26.83s/it]  \n",
      "Train_loss: ([1.10429655]) Train_acc: (34.371428571428574) Val_acc: ([35.4]): 100%|██████████| 25/25 [11:21<00:00, 27.25s/it]\n",
      "Train_loss: ([1.07911892]) Train_acc: (40.285714285714285) Val_acc: ([36.6]): 100%|██████████| 25/25 [13:13<00:00, 31.82s/it]\n",
      "Train_loss: ([1.09853391]) Train_acc: (33.94285714285714) Val_acc: ([34.0]): 100%|██████████| 25/25 [13:13<00:00, 31.78s/it]\n",
      "Train_loss: ([1.09139603]) Train_acc: (38.48571428571429) Val_acc: ([34.3]): 100%|██████████| 25/25 [13:16<00:00, 32.07s/it] \n"
     ]
    }
   ],
   "source": [
    "labels = [\"GRU\", \"RNN\", \"LSTM\"]\n",
    "\n",
    "stats_dfs = []\n",
    "\n",
    "for cell_type, cell_label in zip([nn.GRU, nn.RNN, nn.LSTM], labels):\n",
    "    \n",
    "    cell_type_directory = \"models/cell_type_%s/\" % cell_label\n",
    "    create_directory(cell_type_directory)\n",
    "    \n",
    "    for seed in [0, 42, 72]:\n",
    "        df = pd.DataFrame(columns=[\"cell_type\", \"Epoch\", \"Loss\"])\n",
    "\n",
    "        model, error, optimizer = initialise_model(network_params, lr=0.01, cell_type=cell_type, seed=seed, device=device)\n",
    "        epoch_losses, epoch_accuracies, best_model = training_loop(model, optimizer, error, train_loader, \n",
    "                                                                   val_loader, EPOCHS, seq_end=SEQ_END,\n",
    "                                                                   step_size=STEP_SIZE)\n",
    "        \n",
    "        torch.save(best_model.state_dict(), cell_type_directory + \"best_mass_model_seed_%d.pt\" % seed)\n",
    "\n",
    "        df[\"Epoch\"] = np.arange(EPOCHS)\n",
    "        df[\"Loss\"] = epoch_losses\n",
    "        df[\"Train Accuracy\"] = epoch_accuracies[0]\n",
    "        df[\"Val Accuracy\"] = epoch_accuracies[1]\n",
    "        df[\"cell_type\"] = cell_label\n",
    "        stats_dfs.append(df)\n",
    "        \n",
    "stats = pd.concat(stats_dfs)\n",
    "stats.to_hdf(directory+\"mass_stats.h5\", key=\"stats\")"
   ]
  },
  {
   "cell_type": "markdown",
   "metadata": {},
   "source": [
    "# FORCE TRAINING"
   ]
  },
  {
   "cell_type": "code",
   "execution_count": 11,
   "metadata": {},
   "outputs": [
    {
     "name": "stderr",
     "output_type": "stream",
     "text": [
      "100%|██████████| 3500/3500 [00:03<00:00, 946.91it/s]\n",
      "100%|██████████| 1000/1000 [00:01<00:00, 995.72it/s]\n"
     ]
    }
   ],
   "source": [
    "loaders, scaler = prepare_dataset([train_trials, val_trials], class_columns=FORCE_CLASS_COLS, \n",
    "                                  training_columns=TR_COLS, batch_size=BATCH_SIZE, \n",
    "                                  normalise_data=NORMALISE_DATA, device=device)"
   ]
  },
  {
   "cell_type": "code",
   "execution_count": 12,
   "metadata": {},
   "outputs": [],
   "source": [
    "train_loader, val_loader = loaders"
   ]
  },
  {
   "cell_type": "code",
   "execution_count": 13,
   "metadata": {},
   "outputs": [
    {
     "name": "stdout",
     "output_type": "stream",
     "text": [
      "[1183 1169 1148]\n",
      "Majority class:  0.338\n",
      "[337 350 313]\n",
      "Majority class:  0.35\n"
     ]
    },
    {
     "data": {
      "text/plain": [
       "(array([337, 350, 313]), 0.35)"
      ]
     },
     "execution_count": 13,
     "metadata": {},
     "output_type": "execute_result"
    }
   ],
   "source": [
    "class_proportions(train_loader)\n",
    "class_proportions(val_loader)"
   ]
  },
  {
   "cell_type": "code",
   "execution_count": 14,
   "metadata": {},
   "outputs": [
    {
     "name": "stderr",
     "output_type": "stream",
     "text": [
      "Train_loss: ([0.67409354]) Train_acc: (60.17142857142857) Val_acc: ([53.2]): 100%|██████████| 25/25 [13:25<00:00, 32.86s/it] \n",
      "Train_loss: ([0.76193574]) Train_acc: (49.371428571428574) Val_acc: ([50.1]): 100%|██████████| 25/25 [13:39<00:00, 32.37s/it]\n",
      "Train_loss: ([0.98409577]) Train_acc: (53.97142857142857) Val_acc: ([44.4]): 100%|██████████| 25/25 [13:41<00:00, 32.98s/it]\n",
      "Train_loss: ([1.103018]) Train_acc: (33.48571428571429) Val_acc: ([32.0]): 100%|██████████| 25/25 [11:41<00:00, 28.06s/it]   \n",
      "Train_loss: ([1.10386604]) Train_acc: (33.22857142857143) Val_acc: ([33.3]): 100%|██████████| 25/25 [11:38<00:00, 27.90s/it] \n",
      "Train_loss: ([1.10598423]) Train_acc: (34.17142857142857) Val_acc: ([33.7]): 100%|██████████| 25/25 [11:29<00:00, 27.61s/it] \n",
      "Train_loss: ([0.96951999]) Train_acc: (53.68571428571428) Val_acc: ([42.7]): 100%|██████████| 25/25 [13:01<00:00, 31.39s/it] \n",
      "Train_loss: ([0.99109282]) Train_acc: (51.2) Val_acc: ([41.4]): 100%|██████████| 25/25 [12:59<00:00, 32.13s/it]              \n",
      "Train_loss: ([0.93441281]) Train_acc: (57.142857142857146) Val_acc: ([42.9]): 100%|██████████| 25/25 [13:27<00:00, 32.31s/it]\n"
     ]
    }
   ],
   "source": [
    "stats_dfs = []\n",
    "\n",
    "for cell_type, cell_label in zip([nn.GRU, nn.RNN, nn.LSTM], labels):\n",
    "\n",
    "    cell_type_directory = \"models/cell_type_%s/\" % cell_label\n",
    "    create_directory(cell_type_directory)\n",
    "    \n",
    "    for seed in [0, 42, 72]:\n",
    "        df = pd.DataFrame(columns=[\"cell_type\", \"Epoch\", \"Loss\"])\n",
    "        model, error, optimizer = initialise_model(network_params, lr=0.01, cell_type=cell_type, seed=seed, device=device)\n",
    "        epoch_losses, epoch_accuracies, best_model = training_loop(model, optimizer, error, train_loader, \n",
    "                                                                   val_loader, EPOCHS, seq_end=SEQ_END,\n",
    "                                                                   step_size=STEP_SIZE)\n",
    "        \n",
    "        torch.save(best_model.state_dict(), cell_type_directory + \"best_force_model_seed_%d.pt\" % seed)\n",
    "\n",
    "        df[\"Epoch\"] = np.arange(EPOCHS)\n",
    "        df[\"Loss\"] = epoch_losses\n",
    "        df[\"Train Accuracy\"] = epoch_accuracies[0]\n",
    "        df[\"Val Accuracy\"] = epoch_accuracies[1]\n",
    "        df[\"cell_type\"] = cell_label\n",
    "        stats_dfs.append(df)\n",
    "\n",
    "stats = pd.concat(stats_dfs)\n",
    "stats.to_hdf(directory+\"force_stats.h5\", key=\"stats\")"
   ]
  }
 ],
 "metadata": {
  "kernelspec": {
   "display_name": "Python 3",
   "language": "python",
   "name": "python3"
  },
  "language_info": {
   "codemirror_mode": {
    "name": "ipython",
    "version": 3
   },
   "file_extension": ".py",
   "mimetype": "text/x-python",
   "name": "python",
   "nbconvert_exporter": "python",
   "pygments_lexer": "ipython3",
   "version": "3.5.6"
  }
 },
 "nbformat": 4,
 "nbformat_minor": 2
}
