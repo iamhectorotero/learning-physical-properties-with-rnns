{
 "cells": [
  {
   "cell_type": "code",
   "execution_count": 6,
   "metadata": {},
   "outputs": [],
   "source": [
    "import pandas as pd\n",
    "import numpy as np\n",
    "import torch\n",
    "import torch.utils.data\n",
    "import torch.nn as nn\n",
    "from torch.autograd import Variable\n",
    "from sklearn.model_selection import train_test_split\n",
    "import joblib\n",
    "from tqdm import tqdm\n",
    "import matplotlib.pyplot as plt\n",
    "from copy import deepcopy"
   ]
  },
  {
   "cell_type": "code",
   "execution_count": 7,
   "metadata": {},
   "outputs": [
    {
     "name": "stdout",
     "output_type": "stream",
     "text": [
      "cuda:0\n"
     ]
    }
   ],
   "source": [
    "from isaac.utils import get_cuda_device_if_available, create_directory\n",
    "device = get_cuda_device_if_available()\n",
    "print(device)\n",
    "\n",
    "data_directory = \"r_theta/\"\n",
    "create_directory(data_directory)\n",
    "create_directory(\"models/r_theta/\")\n",
    "create_directory(\"scalers\")"
   ]
  },
  {
   "cell_type": "code",
   "execution_count": 8,
   "metadata": {},
   "outputs": [],
   "source": [
    "from isaac.dataset import read_dataset, prepare_dataset\n",
    "from isaac.utils import plot_confusion_matrix\n",
    "from isaac.constants import BASIC_TRAINING_COLS, FORCE_CLASS_COLS, MASS_CLASS_COLS\n",
    "from isaac.training import training_loop\n",
    "from isaac.models import MultiBranchModel, initialise_model\n",
    "from isaac.evaluation import get_best_model_and_its_accuracy"
   ]
  },
  {
   "cell_type": "code",
   "execution_count": 9,
   "metadata": {},
   "outputs": [],
   "source": [
    "BATCH_SIZE = 128\n",
    "EPOCHS = 60\n",
    "NORMALISE_DATA = True\n",
    "STEP_SIZE = 3\n",
    "SEQ_END = 2700\n",
    "\n",
    "INPUT_DIM = 8    # input dimension\n",
    "HIDDEN_DIM = 25  # hidden layer dimension\n",
    "N_LAYERS = 4     # number of hidden layers\n",
    "OUTPUT_DIM = 3   # output dimension\n",
    "DROPOUT = 0.5\n",
    "\n",
    "network_params = (INPUT_DIM, HIDDEN_DIM, OUTPUT_DIM, DROPOUT)"
   ]
  },
  {
   "cell_type": "markdown",
   "metadata": {},
   "source": [
    "## Read dataset and preprocess it"
   ]
  },
  {
   "cell_type": "code",
   "execution_count": 10,
   "metadata": {},
   "outputs": [
    {
     "name": "stderr",
     "output_type": "stream",
     "text": [
      "100%|██████████| 10935/10935 [01:13<00:00, 147.97it/s]\n"
     ]
    }
   ],
   "source": [
    "all_trials = read_dataset(\"data/r_passive_trials.h5\", cols=BASIC_TRAINING_COLS)\n",
    "idx = np.random.permutation(np.arange(len(all_trials)))\n",
    "train_idx = idx[:3500]\n",
    "val_idx = idx[3500:4500]\n",
    "\n",
    "train_trials = []\n",
    "\n",
    "for index in train_idx:\n",
    "    train_trials.append(all_trials[index])\n",
    "    \n",
    "val_trials = []\n",
    "\n",
    "for index in val_idx:\n",
    "    val_trials.append(all_trials[index])"
   ]
  },
  {
   "cell_type": "code",
   "execution_count": 6,
   "metadata": {},
   "outputs": [
    {
     "name": "stderr",
     "output_type": "stream",
     "text": [
      "100%|██████████| 3500/3500 [04:52<00:00, 11.13it/s]\n",
      "100%|██████████| 1000/1000 [01:32<00:00, 10.51it/s]\n"
     ]
    }
   ],
   "source": [
    "RTHETA_ATTRS = [obj+\".\"+attr for obj in [\"o1\", \"o2\", \"o3\", \"o4\"] for attr in [\"r\", \"theta\"]]\n",
    "\n",
    "def add_r_theta_attributes(trials):\n",
    "    for trial in tqdm(trials):\n",
    "        for obj in [\"o1\", \"o2\", \"o3\", \"o4\"]:\n",
    "            trial[obj+\".r\"] = (trial[obj+\".vx\"]**2 + trial[obj+\".vy\"]**2)**0.5\n",
    "            trial[obj+\".theta\"] = (np.arctan2(trial[obj+\".vx\"], trial[obj+\".vy\"]) * 180 / np.pi)\n",
    "\n",
    "add_r_theta_attributes(train_trials)\n",
    "add_r_theta_attributes(val_trials)"
   ]
  },
  {
   "cell_type": "code",
   "execution_count": 7,
   "metadata": {},
   "outputs": [
    {
     "data": {
      "text/html": [
       "<div>\n",
       "<style scoped>\n",
       "    .dataframe tbody tr th:only-of-type {\n",
       "        vertical-align: middle;\n",
       "    }\n",
       "\n",
       "    .dataframe tbody tr th {\n",
       "        vertical-align: top;\n",
       "    }\n",
       "\n",
       "    .dataframe thead th {\n",
       "        text-align: right;\n",
       "    }\n",
       "</style>\n",
       "<table border=\"1\" class=\"dataframe\">\n",
       "  <thead>\n",
       "    <tr style=\"text-align: right;\">\n",
       "      <th></th>\n",
       "      <th>o1.r</th>\n",
       "      <th>o1.theta</th>\n",
       "      <th>o2.r</th>\n",
       "      <th>o2.theta</th>\n",
       "      <th>o3.r</th>\n",
       "      <th>o3.theta</th>\n",
       "      <th>o4.r</th>\n",
       "      <th>o4.theta</th>\n",
       "    </tr>\n",
       "  </thead>\n",
       "  <tbody>\n",
       "    <tr>\n",
       "      <th>0</th>\n",
       "      <td>8.708749</td>\n",
       "      <td>172.808526</td>\n",
       "      <td>8.649439</td>\n",
       "      <td>83.422085</td>\n",
       "      <td>5.104416</td>\n",
       "      <td>-161.452707</td>\n",
       "      <td>9.885524</td>\n",
       "      <td>151.765350</td>\n",
       "    </tr>\n",
       "    <tr>\n",
       "      <th>1</th>\n",
       "      <td>8.701666</td>\n",
       "      <td>172.804167</td>\n",
       "      <td>8.642233</td>\n",
       "      <td>83.422048</td>\n",
       "      <td>5.091265</td>\n",
       "      <td>-160.258772</td>\n",
       "      <td>9.961262</td>\n",
       "      <td>151.392565</td>\n",
       "    </tr>\n",
       "    <tr>\n",
       "      <th>2</th>\n",
       "      <td>8.694689</td>\n",
       "      <td>172.797433</td>\n",
       "      <td>8.635034</td>\n",
       "      <td>83.422084</td>\n",
       "      <td>5.082018</td>\n",
       "      <td>-159.760252</td>\n",
       "      <td>9.988861</td>\n",
       "      <td>151.251176</td>\n",
       "    </tr>\n",
       "    <tr>\n",
       "      <th>3</th>\n",
       "      <td>8.687808</td>\n",
       "      <td>172.788840</td>\n",
       "      <td>8.627838</td>\n",
       "      <td>83.422054</td>\n",
       "      <td>5.074320</td>\n",
       "      <td>-159.461835</td>\n",
       "      <td>10.001982</td>\n",
       "      <td>151.173335</td>\n",
       "    </tr>\n",
       "    <tr>\n",
       "      <th>4</th>\n",
       "      <td>8.681039</td>\n",
       "      <td>172.778130</td>\n",
       "      <td>8.620650</td>\n",
       "      <td>83.422098</td>\n",
       "      <td>5.067583</td>\n",
       "      <td>-159.266433</td>\n",
       "      <td>10.007381</td>\n",
       "      <td>151.127534</td>\n",
       "    </tr>\n",
       "  </tbody>\n",
       "</table>\n",
       "</div>"
      ],
      "text/plain": [
       "       o1.r    o1.theta      o2.r   o2.theta      o3.r    o3.theta       o4.r  \\\n",
       "0  8.708749  172.808526  8.649439  83.422085  5.104416 -161.452707   9.885524   \n",
       "1  8.701666  172.804167  8.642233  83.422048  5.091265 -160.258772   9.961262   \n",
       "2  8.694689  172.797433  8.635034  83.422084  5.082018 -159.760252   9.988861   \n",
       "3  8.687808  172.788840  8.627838  83.422054  5.074320 -159.461835  10.001982   \n",
       "4  8.681039  172.778130  8.620650  83.422098  5.067583 -159.266433  10.007381   \n",
       "\n",
       "     o4.theta  \n",
       "0  151.765350  \n",
       "1  151.392565  \n",
       "2  151.251176  \n",
       "3  151.173335  \n",
       "4  151.127534  "
      ]
     },
     "execution_count": 7,
     "metadata": {},
     "output_type": "execute_result"
    }
   ],
   "source": [
    "train_trials[0][RTHETA_ATTRS].head()"
   ]
  },
  {
   "cell_type": "markdown",
   "metadata": {},
   "source": [
    "## Train model and plot loss and accuracy"
   ]
  },
  {
   "cell_type": "code",
   "execution_count": 8,
   "metadata": {
    "scrolled": false
   },
   "outputs": [
    {
     "name": "stderr",
     "output_type": "stream",
     "text": [
      "100%|██████████| 3500/3500 [00:06<00:00, 551.91it/s]\n",
      "100%|██████████| 1000/1000 [00:01<00:00, 559.86it/s]\n",
      "Train_loss: ([0.34667045 0.43778939]) Train_acc: ([82.25714286 74.65714286]) Val_acc: ([74.7 62. ]): 100%|██████████| 60/60 [09:13<00:00,  9.33s/it]\n",
      "Train_loss: ([0.340045   0.45869921]) Train_acc: ([82.6        74.08571429]) Val_acc: ([75.6 65.9]): 100%|██████████| 60/60 [09:14<00:00,  9.29s/it]\n",
      "Train_loss: ([0.34596939 0.39351491]) Train_acc: ([83.08571429 77.2       ]) Val_acc: ([73.3 63.6]): 100%|██████████| 60/60 [09:13<00:00,  9.25s/it]\n",
      "Train_loss: ([0.44615042 0.51755046]) Train_acc: ([79.74285714 71.68571429]) Val_acc: ([72.8 62.9]): 100%|██████████| 60/60 [09:15<00:00,  9.28s/it]\n",
      "Train_loss: ([0.36959799 0.38868694]) Train_acc: ([80.25714286 81.2       ]) Val_acc: ([70.8 64.8]): 100%|██████████| 60/60 [09:14<00:00,  9.27s/it]\n",
      "Train_loss: ([0.38964769 0.48140156]) Train_acc: ([80.31428571 74.42857143]) Val_acc: ([72.1 62.7]): 100%|██████████| 60/60 [09:17<00:00,  9.17s/it]\n",
      "Train_loss: ([0.77324533 0.65189486]) Train_acc: ([61.57142857 65.54285714]) Val_acc: ([62.5 62.8]): 100%|██████████| 60/60 [09:16<00:00,  9.23s/it]\n",
      "Train_loss: ([0.32473192 0.45121877]) Train_acc: ([81.8        75.05714286]) Val_acc: ([75.9 66.3]): 100%|██████████| 60/60 [09:18<00:00,  9.32s/it]\n",
      "Train_loss: ([0.44142401 0.47709269]) Train_acc: ([76.8        73.91428571]) Val_acc: ([71.2 64.4]): 100%|██████████| 60/60 [09:17<00:00,  9.26s/it]\n",
      "Train_loss: ([0.47641843 0.45729205]) Train_acc: ([78.2        77.65714286]) Val_acc: ([71.7 66.7]): 100%|██████████| 60/60 [09:17<00:00,  9.24s/it]\n",
      "Train_loss: ([0.37051739 0.43563728]) Train_acc: ([82.42857143 76.28571429]) Val_acc: ([73.2 63.1]): 100%|██████████| 60/60 [09:17<00:00,  9.26s/it]\n",
      "Train_loss: ([0.3715694  0.51174493]) Train_acc: ([83.88571429 73.57142857]) Val_acc: ([78.1 66.1]): 100%|██████████| 60/60 [09:15<00:00,  9.38s/it]\n",
      "Train_loss: ([0.39475658 0.48691902]) Train_acc: ([80.2        72.65714286]) Val_acc: ([77.1 64.6]): 100%|██████████| 60/60 [09:12<00:00,  9.21s/it]\n",
      "Train_loss: ([0.43687138 0.44303757]) Train_acc: ([80.31428571 77.4       ]) Val_acc: ([68.8 64. ]): 100%|██████████| 60/60 [09:17<00:00,  9.37s/it]\n",
      "Train_loss: ([0.81932727 0.68692854]) Train_acc: ([56.91428571 66.4       ]) Val_acc: ([55.3 62.9]): 100%|██████████| 60/60 [09:16<00:00,  9.23s/it]\n",
      "Train_loss: ([0.5430618  0.55605309]) Train_acc: ([73.57142857 70.82857143]) Val_acc: ([69.7 63.2]): 100%|██████████| 60/60 [09:20<00:00,  9.35s/it]\n",
      "Train_loss: ([0.29384668 0.42975067]) Train_acc: ([83.85714286 78.14285714]) Val_acc: ([71.3 64.7]): 100%|██████████| 60/60 [09:17<00:00,  9.35s/it]\n",
      "Train_loss: ([0.52030152 0.50482711]) Train_acc: ([75.82857143 75.62857143]) Val_acc: ([70.4 66.1]): 100%|██████████| 60/60 [09:20<00:00,  9.40s/it]\n",
      "Train_loss: ([0.4098363  0.46033049]) Train_acc: ([79.8        73.54285714]) Val_acc: ([73.8 64.3]): 100%|██████████| 60/60 [09:16<00:00,  9.26s/it]\n",
      "Train_loss: ([0.42461438 0.46563333]) Train_acc: ([79.91428571 74.48571429]) Val_acc: ([75.1 65.1]): 100%|██████████| 60/60 [09:18<00:00,  9.20s/it]\n",
      "Train_loss: ([0.6048566  0.63145451]) Train_acc: ([70.71428571 65.02857143]) Val_acc: ([70.9 63.7]): 100%|██████████| 60/60 [09:18<00:00,  9.41s/it]\n",
      "Train_loss: ([0.57015168 0.53624654]) Train_acc: ([71.68571429 72.8       ]) Val_acc: ([67.8 63.4]): 100%|██████████| 60/60 [09:18<00:00,  9.28s/it]\n",
      "Train_loss: ([0.43057488 0.49803577]) Train_acc: ([79.85714286 71.82857143]) Val_acc: ([70.  64.8]): 100%|██████████| 60/60 [09:20<00:00,  9.40s/it]\n",
      "Train_loss: ([0.39498185 0.49138871]) Train_acc: ([81.6        73.91428571]) Val_acc: ([75. 64.]): 100%|██████████| 60/60 [09:18<00:00,  9.20s/it]  \n",
      "Train_loss: ([0.42129361 0.49401776]) Train_acc: ([78.4        73.77142857]) Val_acc: ([71.3 65.6]): 100%|██████████| 60/60 [09:19<00:00,  9.40s/it]\n"
     ]
    }
   ],
   "source": [
    "N_MODELS = 25\n",
    "\n",
    "stats_dfs = []\n",
    "loaders, scaler = prepare_dataset([train_trials, val_trials], \n",
    "                                  class_columns=[list(MASS_CLASS_COLS), list(FORCE_CLASS_COLS)], \n",
    "                                  multiclass=True,\n",
    "                                  batch_size=BATCH_SIZE, normalise_data=NORMALISE_DATA,\n",
    "                                  device=device, training_columns=RTHETA_ATTRS)\n",
    "\n",
    "\n",
    "for seed in range(N_MODELS):\n",
    "    df = pd.DataFrame()\n",
    "\n",
    "    model, error, optimizer = initialise_model(network_params, lr=0.01, seed=seed, device=device, arch=MultiBranchModel)\n",
    "    epoch_losses, epoch_accuracies, [best_mass_model, best_force_model] = training_loop(model, optimizer, \n",
    "                                                                                        error,\n",
    "                                                                                        loaders[0], loaders[1], \n",
    "                                                                                        EPOCHS, seq_end=SEQ_END,\n",
    "                                                                                        step_size=STEP_SIZE,\n",
    "                                                                                        multibranch=True)\n",
    "\n",
    "    torch.save(best_mass_model.state_dict(), \"models/r_theta/best_mass_model_seed_%d.pt\" % seed)\n",
    "    torch.save(best_force_model.state_dict(), \"models/r_theta/best_force_model_seed_%d.pt\" % seed)\n",
    "    \n",
    "    \n",
    "    train_accuracies = np.array(epoch_accuracies[0])\n",
    "    val_accuracies = np.array(epoch_accuracies[1]) \n",
    "    \n",
    "    df[\"Epoch\"] = np.arange(EPOCHS)\n",
    "    df[\"Mass Loss\"] = epoch_losses[:, 0]\n",
    "    df[\"Force Loss\"] = epoch_losses[:, 1]\n",
    "    df[\"Mass Train Accuracy\"] = train_accuracies[:, 0]\n",
    "    df[\"Mass Val Accuracy\"] = val_accuracies[:, 0]\n",
    "    df[\"Force Train Accuracy\"] = train_accuracies[:, 1]\n",
    "    df[\"Force Val Accuracy\"] = val_accuracies[:,1]\n",
    "    df[\"seed\"] = str(seed)\n",
    "    stats_dfs.append(df)\n",
    "        \n",
    "stats = pd.concat(stats_dfs)\n",
    "stats.to_hdf(data_directory+\"stats.h5\", key=\"stats\")"
   ]
  },
  {
   "cell_type": "markdown",
   "metadata": {},
   "source": [
    "## Save model and scaler"
   ]
  },
  {
   "cell_type": "code",
   "execution_count": 9,
   "metadata": {},
   "outputs": [
    {
     "data": {
      "text/plain": [
       "['scalers/passive_rtheta_scaler.sk']"
      ]
     },
     "execution_count": 9,
     "metadata": {},
     "output_type": "execute_result"
    }
   ],
   "source": [
    "joblib.dump(scaler, \"scalers/passive_rtheta_scaler.sk\")"
   ]
  }
 ],
 "metadata": {
  "kernelspec": {
   "display_name": "Python 3",
   "language": "python",
   "name": "python3"
  },
  "language_info": {
   "codemirror_mode": {
    "name": "ipython",
    "version": 3
   },
   "file_extension": ".py",
   "mimetype": "text/x-python",
   "name": "python",
   "nbconvert_exporter": "python",
   "pygments_lexer": "ipython3",
   "version": "3.5.6"
  }
 },
 "nbformat": 4,
 "nbformat_minor": 2
}
