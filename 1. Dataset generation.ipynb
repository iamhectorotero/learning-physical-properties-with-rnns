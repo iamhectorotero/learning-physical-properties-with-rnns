{
 "cells": [
  {
   "cell_type": "code",
   "execution_count": 1,
   "metadata": {},
   "outputs": [],
   "source": [
    "import seaborn as sns\n",
    "from tqdm import tqdm\n",
    "import pandas as pd\n",
    "from rpy2.robjects import r, pandas2ri\n",
    "import numpy as np\n",
    "import matplotlib.pyplot as plt\n",
    "from tqdm import tqdm\n",
    "import os"
   ]
  },
  {
   "cell_type": "code",
   "execution_count": 2,
   "metadata": {},
   "outputs": [],
   "source": [
    "pandas2ri.activate()"
   ]
  },
  {
   "cell_type": "code",
   "execution_count": 3,
   "metadata": {},
   "outputs": [],
   "source": [
    "from isaac.constants import BASIC_TRAINING_COLS, YOKED_TRAINING_COLS"
   ]
  },
  {
   "cell_type": "code",
   "execution_count": 4,
   "metadata": {},
   "outputs": [],
   "source": [
    "def are_all_coordinates_within_bounds(trial):\n",
    "    \n",
    "    for coord in [\"o1.x\", \"o2.x\", \"o3.x\", \"o4.x\", \"o1.y\", \"o2.y\", \"o3.y\", \"o4.y\"]:\n",
    "        if (trial[coord] < 0).any().any():\n",
    "            return False\n",
    "        \n",
    "    for x_coord in [\"o1.x\", \"o2.x\", \"o3.x\", \"o4.x\"]:\n",
    "        if (trial[x_coord] > 6).any().any():\n",
    "            return False \n",
    "        \n",
    "    for y_coord in [\"o1.y\", \"o2.y\", \"o3.y\", \"o4.y\"]:\n",
    "        if (trial[y_coord] > 4).any().any():\n",
    "            return False\n",
    "    \n",
    "    return True"
   ]
  },
  {
   "cell_type": "markdown",
   "metadata": {},
   "source": [
    "# Experiment 1 "
   ]
  },
  {
   "cell_type": "code",
   "execution_count": 5,
   "metadata": {},
   "outputs": [
    {
     "data": {
      "text/html": [
       "\n",
       "    <span>StrVector with 4 elements.</span>\n",
       "    <table>\n",
       "      <tbody>\n",
       "      <tr>\n",
       "      \n",
       "      <td>\n",
       "        'df.l'\n",
       "      </td>\n",
       "      \n",
       "      <td>\n",
       "        'df.w'\n",
       "      </td>\n",
       "      \n",
       "      <td>\n",
       "        'ls.clips'\n",
       "      </td>\n",
       "      \n",
       "      <td>\n",
       "        'ls.events'\n",
       "      </td>\n",
       "      \n",
       "      </tr>\n",
       "      </tbody>\n",
       "    </table>\n",
       "    "
      ],
      "text/plain": [
       "R object with classes: ('character',) mapped to:\n",
       "<StrVector - Python:0x7fc39b1840c8 / R:0x55cc44804c28>\n",
       "['df.l', 'df.w', 'ls.clips', 'ls.events']"
      ]
     },
     "execution_count": 5,
     "metadata": {},
     "output_type": "execute_result"
    }
   ],
   "source": [
    "rdata_path = \"data/experiment1.rdata\"\n",
    "r['load'](rdata_path)"
   ]
  },
  {
   "cell_type": "code",
   "execution_count": 6,
   "metadata": {
    "scrolled": true
   },
   "outputs": [
    {
     "name": "stderr",
     "output_type": "stream",
     "text": [
      "/home/hector/miniconda3/envs/diss/lib/python3.5/site-packages/rpy2/robjects/pandas2ri.py:191: FutureWarning: from_items is deprecated. Please use DataFrame.from_dict(dict(items), ...) instead. DataFrame.from_dict(OrderedDict(items)) may be used to preserve the key order.\n",
      "  res = PandasDataFrame.from_items(items)\n"
     ]
    }
   ],
   "source": [
    "all_trials = r['ls.clips']\n",
    "\n",
    "is_active = (r['df.l'].condition == '1')\n",
    "responses = r['df.l'][[\"trueMass\", \"trueRelationship\"]]\n",
    "YOKED_PATH = \"data/yoked_trials_exp1.h5\"\n",
    "ALTERNATIVE_TRAINING_COLS = [\"object\"+str(obj)+\".\"+attr for obj in range(1, 5) for attr in [\"x\", \"y\", \"vx\", \"vy\"]]"
   ]
  },
  {
   "cell_type": "code",
   "execution_count": 7,
   "metadata": {},
   "outputs": [],
   "source": [
    "if os.path.exists(YOKED_PATH):\n",
    "    os.remove(YOKED_PATH)"
   ]
  },
  {
   "cell_type": "code",
   "execution_count": 8,
   "metadata": {},
   "outputs": [
    {
     "name": "stderr",
     "output_type": "stream",
     "text": [
      "/home/hector/miniconda3/envs/diss/lib/python3.5/site-packages/rpy2/robjects/pandas2ri.py:191: FutureWarning: from_items is deprecated. Please use DataFrame.from_dict(dict(items), ...) instead. DataFrame.from_dict(OrderedDict(items)) may be used to preserve the key order.\n",
      "  res = PandasDataFrame.from_items(items)\n"
     ]
    }
   ],
   "source": [
    "flat_trials = []\n",
    "trial_i = 0\n",
    "\n",
    "for participant in all_trials:\n",
    "    for trial in participant:\n",
    "        trial = pandas2ri.ri2py_dataframe(trial)\n",
    "        # print(trial[\"idControlledObject\"].nunique() > 1, is_active[trial_i])\n",
    "        flat_trials.append(trial)\n",
    "        trial_i += 1"
   ]
  },
  {
   "cell_type": "code",
   "execution_count": 9,
   "metadata": {},
   "outputs": [
    {
     "data": {
      "text/plain": [
       "(484, 704, 704)"
      ]
     },
     "execution_count": 9,
     "metadata": {},
     "output_type": "execute_result"
    }
   ],
   "source": [
    "len(flat_trials), len(is_active), len(responses)"
   ]
  },
  {
   "cell_type": "code",
   "execution_count": 10,
   "metadata": {},
   "outputs": [],
   "source": [
    "flat_trials = np.array(flat_trials)\n",
    "active_trials = flat_trials[is_active.iloc[:-220]]"
   ]
  },
  {
   "cell_type": "code",
   "execution_count": 11,
   "metadata": {},
   "outputs": [
    {
     "data": {
      "text/plain": [
       "220"
      ]
     },
     "execution_count": 11,
     "metadata": {},
     "output_type": "execute_result"
    }
   ],
   "source": [
    "len(active_trials)"
   ]
  },
  {
   "cell_type": "code",
   "execution_count": 12,
   "metadata": {
    "scrolled": true
   },
   "outputs": [
    {
     "name": "stderr",
     "output_type": "stream",
     "text": [
      "100%|██████████| 220/220 [00:02<00:00, 74.63it/s]"
     ]
    },
    {
     "name": "stdout",
     "output_type": "stream",
     "text": [
      "Not all columns are available for participant\n",
      "Not all columns are available for participant\n",
      "Not all columns are available for participant\n",
      "Not all columns are available for participant\n",
      "Not all columns are available for participant\n",
      "Not all columns are available for participant\n",
      "Not all columns are available for participant\n",
      "Not all columns are available for participant\n",
      "Not all columns are available for participant\n",
      "Not all columns are available for participant\n",
      "Not all columns are available for participant\n",
      "Not all columns are available for participant\n",
      "Not all columns are available for participant\n",
      "Not all columns are available for participant\n",
      "Not all columns are available for participant\n",
      "Not all columns are available for participant\n",
      "Not all columns are available for participant\n",
      "Not all columns are available for participant\n",
      "Not all columns are available for participant\n",
      "Not all columns are available for participant\n",
      "Not all columns are available for participant\n",
      "Not all columns are available for participant\n",
      "Not all columns are available for participant\n",
      "Not all columns are available for participant\n",
      "Not all columns are available for participant\n",
      "Not all columns are available for participant\n",
      "Not all columns are available for participant\n",
      "Not all columns are available for participant\n",
      "Not all columns are available for participant\n",
      "Not all columns are available for participant\n",
      "Not all columns are available for participant\n",
      "Not all columns are available for participant\n",
      "Not all columns are available for participant\n",
      "Not all columns are available for participant\n",
      "Not all columns are available for participant\n",
      "Not all columns are available for participant\n",
      "Not all columns are available for participant\n",
      "Not all columns are available for participant\n",
      "Not all columns are available for participant\n",
      "Not all columns are available for participant\n",
      "Not all columns are available for participant\n",
      "Not all columns are available for participant\n",
      "Not all columns are available for participant\n",
      "Not all columns are available for participant\n",
      "Not all columns are available for participant\n",
      "Not all columns are available for participant\n",
      "Not all columns are available for participant\n",
      "Not all columns are available for participant\n",
      "Not all columns are available for participant\n",
      "Not all columns are available for participant\n",
      "Not all columns are available for participant\n",
      "Not all columns are available for participant\n",
      "Not all columns are available for participant\n",
      "Not all columns are available for participant\n",
      "Not all columns are available for participant\n",
      "Not all columns are available for participant\n",
      "Not all columns are available for participant\n",
      "Not all columns are available for participant\n",
      "Not all columns are available for participant\n",
      "Not all columns are available for participant\n",
      "Not all columns are available for participant\n",
      "Not all columns are available for participant\n",
      "Not all columns are available for participant\n",
      "Not all columns are available for participant\n",
      "Not all columns are available for participant\n",
      "Not all columns are available for participant\n",
      "Not all columns are available for participant\n",
      "Not all columns are available for participant\n",
      "Not all columns are available for participant\n",
      "Not all columns are available for participant\n",
      "Not all columns are available for participant\n",
      "Not all columns are available for participant\n",
      "Not all columns are available for participant\n",
      "Not all columns are available for participant\n",
      "Not all columns are available for participant\n",
      "Not all columns are available for participant\n",
      "Not all columns are available for participant\n"
     ]
    },
    {
     "name": "stderr",
     "output_type": "stream",
     "text": [
      "\n"
     ]
    }
   ],
   "source": [
    "mass_trials = []\n",
    "force_trials = []\n",
    "\n",
    "trial_counter = -1\n",
    "skipped = 0\n",
    "\n",
    "for trial in tqdm(active_trials):\n",
    "    trial_counter += 1\n",
    "\n",
    "    if set(ALTERNATIVE_TRAINING_COLS).issubset(trial.columns):\n",
    "        trial = trial.rename({alt_col: col for col, alt_col in \n",
    "                              zip(BASIC_TRAINING_COLS, ALTERNATIVE_TRAINING_COLS)}, axis=\"columns\")\n",
    "    else:\n",
    "        print(\"Not all columns are available for participant\")\n",
    "        skipped += 1\n",
    "        continue\n",
    "\n",
    "    if not are_all_coordinates_within_bounds(trial):\n",
    "        print(\"Skipping trial because coordinates out of bounds\")\n",
    "        continue\n",
    "\n",
    "\n",
    "    trial[\"C_none\"] = (trial[\"idControlledObject\"] == \"none\")\n",
    "    trial[\"C_O1\"] = (trial[\"idControlledObject\"] == \"object1\")\n",
    "    trial[\"C_O2\"] = (trial[\"idControlledObject\"] == \"object2\")\n",
    "    trial[\"C_O3\"] = (trial[\"idControlledObject\"] == \"object3\")\n",
    "    trial[\"C_O4\"] = (trial[\"idControlledObject\"] == \"object4\")\n",
    "\n",
    "    trial = trial[YOKED_TRAINING_COLS + [\"idControlledObject\"]].copy()\n",
    "\n",
    "    true_mass = responses.iloc[trial_counter][\"trueMass\"]\n",
    "    trial[\"A\"] = (true_mass == \"A\")\n",
    "    trial[\"B\"] = (true_mass == \"B\")\n",
    "    trial[\"same\"] = (true_mass == \"same\")\n",
    "\n",
    "    true_relationship = responses.iloc[trial_counter][\"trueRelationship\"]\n",
    "    trial[\"attract\"] = (true_relationship == \"attract\")\n",
    "    trial[\"none\"] = (true_relationship == \"none\")\n",
    "    trial[\"repel\"] = (true_relationship == \"repel\")\n",
    "\n",
    "    trial.to_hdf(path_or_buf=YOKED_PATH, key=\"trial_\"+str(trial_counter))"
   ]
  },
  {
   "cell_type": "code",
   "execution_count": 13,
   "metadata": {},
   "outputs": [
    {
     "data": {
      "text/plain": [
       "7.0"
      ]
     },
     "execution_count": 13,
     "metadata": {},
     "output_type": "execute_result"
    }
   ],
   "source": [
    "skipped / 11"
   ]
  },
  {
   "cell_type": "markdown",
   "metadata": {},
   "source": [
    "# Experiment 2 "
   ]
  },
  {
   "cell_type": "code",
   "execution_count": 23,
   "metadata": {},
   "outputs": [
    {
     "data": {
      "text/html": [
       "\n",
       "    <span>StrVector with 4 elements.</span>\n",
       "    <table>\n",
       "      <tbody>\n",
       "      <tr>\n",
       "      \n",
       "      <td>\n",
       "        'df.l'\n",
       "      </td>\n",
       "      \n",
       "      <td>\n",
       "        'df.w'\n",
       "      </td>\n",
       "      \n",
       "      <td>\n",
       "        'ls.clips'\n",
       "      </td>\n",
       "      \n",
       "      <td>\n",
       "        'ls.events'\n",
       "      </td>\n",
       "      \n",
       "      </tr>\n",
       "      </tbody>\n",
       "    </table>\n",
       "    "
      ],
      "text/plain": [
       "R object with classes: ('character',) mapped to:\n",
       "<StrVector - Python:0x7fc3895dfb48 / R:0x55cc43a91ef8>\n",
       "['df.l', 'df.w', 'ls.clips', 'ls.events']"
      ]
     },
     "execution_count": 23,
     "metadata": {},
     "output_type": "execute_result"
    }
   ],
   "source": [
    "MASS_PATH = \"data/mass_trials_exp2.h5\"\n",
    "FORCE_PATH = \"data/force_trials_exp2.h5\"\n",
    "\n",
    "rdata_path = \"data/experiment2.rdata\"\n",
    "r['load'](rdata_path)"
   ]
  },
  {
   "cell_type": "code",
   "execution_count": 24,
   "metadata": {},
   "outputs": [
    {
     "name": "stderr",
     "output_type": "stream",
     "text": [
      "/home/hector/miniconda3/envs/diss/lib/python3.5/site-packages/rpy2/robjects/pandas2ri.py:191: FutureWarning: from_items is deprecated. Please use DataFrame.from_dict(dict(items), ...) instead. DataFrame.from_dict(OrderedDict(items)) may be used to preserve the key order.\n",
      "  res = PandasDataFrame.from_items(items)\n"
     ]
    }
   ],
   "source": [
    "responses = r['df.l'].query(\"experiment == 'experiment_4'\")[[\"trueMass\", \"trueRelationship\"]]\n",
    "all_trials = r['ls.clips']"
   ]
  },
  {
   "cell_type": "code",
   "execution_count": 25,
   "metadata": {},
   "outputs": [],
   "source": [
    "if os.path.exists(MASS_PATH):\n",
    "    os.remove(MASS_PATH)\n",
    "\n",
    "if os.path.exists(FORCE_PATH):\n",
    "    os.remove(FORCE_PATH)"
   ]
  },
  {
   "cell_type": "code",
   "execution_count": 26,
   "metadata": {},
   "outputs": [
    {
     "name": "stderr",
     "output_type": "stream",
     "text": [
      "  0%|          | 0/40 [00:00<?, ?it/s]/home/hector/miniconda3/envs/diss/lib/python3.5/site-packages/rpy2/robjects/pandas2ri.py:191: FutureWarning: from_items is deprecated. Please use DataFrame.from_dict(dict(items), ...) instead. DataFrame.from_dict(OrderedDict(items)) may be used to preserve the key order.\n",
      "  res = PandasDataFrame.from_items(items)\n",
      " 85%|████████▌ | 34/40 [00:32<00:06,  1.01s/it]"
     ]
    },
    {
     "name": "stdout",
     "output_type": "stream",
     "text": [
      "SKIPPING\n",
      "Skipping trial for force\n",
      "SKIPPING\n",
      "Skipping trial for mass\n"
     ]
    },
    {
     "name": "stderr",
     "output_type": "stream",
     "text": [
      "100%|██████████| 40/40 [00:38<00:00,  1.01it/s]\n"
     ]
    }
   ],
   "source": [
    "trial_counter = -1\n",
    "\n",
    "for participant in tqdm(all_trials):\n",
    "    for trial in participant:\n",
    "        trial_counter += 1\n",
    "        trial = pandas2ri.ri2py_dataframe(trial)\n",
    "        \n",
    "        if trial.question.unique()[0] == \"mass\":\n",
    "            hdf_path = MASS_PATH\n",
    "        else:\n",
    "            hdf_path = FORCE_PATH\n",
    "        \n",
    "        if not are_all_coordinates_within_bounds(trial):\n",
    "            print(\"SKIPPING\")\n",
    "            if trial.question.unique()[0] == \"mass\":\n",
    "                print(\"Skipping trial for mass\")\n",
    "            elif trial.question.unique()[0] == \"relationship\":\n",
    "                print(\"Skipping trial for force\")\n",
    "            continue\n",
    "\n",
    "        trial[\"C_none\"] = (trial[\"idControlledObject\"] == \"none\")\n",
    "        trial[\"C_O1\"] = (trial[\"idControlledObject\"] == \"object1\")\n",
    "        trial[\"C_O2\"] = (trial[\"idControlledObject\"] == \"object2\")\n",
    "        trial[\"C_O3\"] = (trial[\"idControlledObject\"] == \"object3\")\n",
    "        trial[\"C_O4\"] = (trial[\"idControlledObject\"] == \"object4\")\n",
    "            \n",
    "        trial = trial[YOKED_TRAINING_COLS + [\"idControlledObject\"]].copy()\n",
    "                \n",
    "        true_mass = responses.iloc[trial_counter][\"trueMass\"]\n",
    "        trial[\"A\"] = (true_mass == \"A\")\n",
    "        trial[\"B\"] = (true_mass == \"B\")\n",
    "        trial[\"same\"] = (true_mass == \"same\")\n",
    "\n",
    "        true_relationship = responses.iloc[trial_counter][\"trueRelationship\"]\n",
    "        trial[\"attract\"] = (true_relationship == \"attract\")\n",
    "        trial[\"none\"] = (true_relationship == \"none\")\n",
    "        trial[\"repel\"] = (true_relationship == \"repel\")\n",
    "\n",
    "        trial.to_hdf(path_or_buf=hdf_path, key=\"trial_\"+str(trial_counter), format=\"table\")"
   ]
  },
  {
   "cell_type": "markdown",
   "metadata": {},
   "source": [
    "# READING DATASET"
   ]
  },
  {
   "cell_type": "code",
   "execution_count": 18,
   "metadata": {},
   "outputs": [],
   "source": [
    "from isaac.dataset import read_dataset"
   ]
  },
  {
   "cell_type": "code",
   "execution_count": 19,
   "metadata": {},
   "outputs": [
    {
     "name": "stderr",
     "output_type": "stream",
     "text": [
      "100%|██████████| 400/400 [00:07<00:00, 55.93it/s]\n"
     ]
    }
   ],
   "source": [
    "yoked_dataset = read_dataset(MASS_PATH)"
   ]
  },
  {
   "cell_type": "code",
   "execution_count": 20,
   "metadata": {},
   "outputs": [
    {
     "data": {
      "text/html": [
       "<div>\n",
       "<style scoped>\n",
       "    .dataframe tbody tr th:only-of-type {\n",
       "        vertical-align: middle;\n",
       "    }\n",
       "\n",
       "    .dataframe tbody tr th {\n",
       "        vertical-align: top;\n",
       "    }\n",
       "\n",
       "    .dataframe thead th {\n",
       "        text-align: right;\n",
       "    }\n",
       "</style>\n",
       "<table border=\"1\" class=\"dataframe\">\n",
       "  <thead>\n",
       "    <tr style=\"text-align: right;\">\n",
       "      <th></th>\n",
       "      <th>o1.x</th>\n",
       "      <th>o1.y</th>\n",
       "      <th>o1.vx</th>\n",
       "      <th>o1.vy</th>\n",
       "      <th>o2.x</th>\n",
       "      <th>o2.y</th>\n",
       "      <th>o2.vx</th>\n",
       "      <th>o2.vy</th>\n",
       "      <th>o3.x</th>\n",
       "      <th>o3.y</th>\n",
       "      <th>...</th>\n",
       "      <th>C_O4</th>\n",
       "      <th>mouseX</th>\n",
       "      <th>mouseY</th>\n",
       "      <th>idControlledObject</th>\n",
       "      <th>A</th>\n",
       "      <th>B</th>\n",
       "      <th>same</th>\n",
       "      <th>attract</th>\n",
       "      <th>none</th>\n",
       "      <th>repel</th>\n",
       "    </tr>\n",
       "  </thead>\n",
       "  <tbody>\n",
       "    <tr>\n",
       "      <th>0</th>\n",
       "      <td>2.72027</td>\n",
       "      <td>2.54902</td>\n",
       "      <td>6.82968</td>\n",
       "      <td>6.11876</td>\n",
       "      <td>1.51623</td>\n",
       "      <td>2.09434</td>\n",
       "      <td>5.78482</td>\n",
       "      <td>-4.91547</td>\n",
       "      <td>3.77683</td>\n",
       "      <td>0.93449</td>\n",
       "      <td>...</td>\n",
       "      <td>False</td>\n",
       "      <td>492.0</td>\n",
       "      <td>377.0</td>\n",
       "      <td>none</td>\n",
       "      <td>False</td>\n",
       "      <td>False</td>\n",
       "      <td>True</td>\n",
       "      <td>True</td>\n",
       "      <td>False</td>\n",
       "      <td>False</td>\n",
       "    </tr>\n",
       "    <tr>\n",
       "      <th>1</th>\n",
       "      <td>2.83388</td>\n",
       "      <td>2.65091</td>\n",
       "      <td>6.81662</td>\n",
       "      <td>6.11355</td>\n",
       "      <td>1.61265</td>\n",
       "      <td>2.01252</td>\n",
       "      <td>5.78554</td>\n",
       "      <td>-4.90928</td>\n",
       "      <td>3.74444</td>\n",
       "      <td>0.79531</td>\n",
       "      <td>...</td>\n",
       "      <td>False</td>\n",
       "      <td>492.0</td>\n",
       "      <td>377.0</td>\n",
       "      <td>none</td>\n",
       "      <td>False</td>\n",
       "      <td>False</td>\n",
       "      <td>True</td>\n",
       "      <td>True</td>\n",
       "      <td>False</td>\n",
       "      <td>False</td>\n",
       "    </tr>\n",
       "    <tr>\n",
       "      <th>2</th>\n",
       "      <td>2.94729</td>\n",
       "      <td>2.75271</td>\n",
       "      <td>6.80479</td>\n",
       "      <td>6.10797</td>\n",
       "      <td>1.70907</td>\n",
       "      <td>1.93080</td>\n",
       "      <td>5.78529</td>\n",
       "      <td>-4.90279</td>\n",
       "      <td>3.71758</td>\n",
       "      <td>0.66116</td>\n",
       "      <td>...</td>\n",
       "      <td>False</td>\n",
       "      <td>492.0</td>\n",
       "      <td>377.0</td>\n",
       "      <td>none</td>\n",
       "      <td>False</td>\n",
       "      <td>False</td>\n",
       "      <td>True</td>\n",
       "      <td>True</td>\n",
       "      <td>False</td>\n",
       "      <td>False</td>\n",
       "    </tr>\n",
       "    <tr>\n",
       "      <th>3</th>\n",
       "      <td>3.06053</td>\n",
       "      <td>2.85442</td>\n",
       "      <td>6.79407</td>\n",
       "      <td>6.10224</td>\n",
       "      <td>1.80548</td>\n",
       "      <td>1.84920</td>\n",
       "      <td>5.78417</td>\n",
       "      <td>-4.89625</td>\n",
       "      <td>3.69105</td>\n",
       "      <td>0.52739</td>\n",
       "      <td>...</td>\n",
       "      <td>False</td>\n",
       "      <td>492.0</td>\n",
       "      <td>377.0</td>\n",
       "      <td>none</td>\n",
       "      <td>False</td>\n",
       "      <td>False</td>\n",
       "      <td>True</td>\n",
       "      <td>True</td>\n",
       "      <td>False</td>\n",
       "      <td>False</td>\n",
       "    </tr>\n",
       "    <tr>\n",
       "      <th>4</th>\n",
       "      <td>3.17360</td>\n",
       "      <td>2.95602</td>\n",
       "      <td>6.78430</td>\n",
       "      <td>6.09650</td>\n",
       "      <td>1.90185</td>\n",
       "      <td>1.76770</td>\n",
       "      <td>5.78231</td>\n",
       "      <td>-4.88980</td>\n",
       "      <td>3.66849</td>\n",
       "      <td>0.50496</td>\n",
       "      <td>...</td>\n",
       "      <td>False</td>\n",
       "      <td>492.0</td>\n",
       "      <td>377.0</td>\n",
       "      <td>none</td>\n",
       "      <td>False</td>\n",
       "      <td>False</td>\n",
       "      <td>True</td>\n",
       "      <td>True</td>\n",
       "      <td>False</td>\n",
       "      <td>False</td>\n",
       "    </tr>\n",
       "  </tbody>\n",
       "</table>\n",
       "<p>5 rows × 30 columns</p>\n",
       "</div>"
      ],
      "text/plain": [
       "      o1.x     o1.y    o1.vx    o1.vy     o2.x     o2.y    o2.vx    o2.vy  \\\n",
       "0  2.72027  2.54902  6.82968  6.11876  1.51623  2.09434  5.78482 -4.91547   \n",
       "1  2.83388  2.65091  6.81662  6.11355  1.61265  2.01252  5.78554 -4.90928   \n",
       "2  2.94729  2.75271  6.80479  6.10797  1.70907  1.93080  5.78529 -4.90279   \n",
       "3  3.06053  2.85442  6.79407  6.10224  1.80548  1.84920  5.78417 -4.89625   \n",
       "4  3.17360  2.95602  6.78430  6.09650  1.90185  1.76770  5.78231 -4.88980   \n",
       "\n",
       "      o3.x     o3.y  ...     C_O4  mouseX  mouseY  idControlledObject      A  \\\n",
       "0  3.77683  0.93449  ...    False   492.0   377.0                none  False   \n",
       "1  3.74444  0.79531  ...    False   492.0   377.0                none  False   \n",
       "2  3.71758  0.66116  ...    False   492.0   377.0                none  False   \n",
       "3  3.69105  0.52739  ...    False   492.0   377.0                none  False   \n",
       "4  3.66849  0.50496  ...    False   492.0   377.0                none  False   \n",
       "\n",
       "       B  same  attract   none  repel  \n",
       "0  False  True     True  False  False  \n",
       "1  False  True     True  False  False  \n",
       "2  False  True     True  False  False  \n",
       "3  False  True     True  False  False  \n",
       "4  False  True     True  False  False  \n",
       "\n",
       "[5 rows x 30 columns]"
      ]
     },
     "execution_count": 20,
     "metadata": {},
     "output_type": "execute_result"
    }
   ],
   "source": [
    "yoked_dataset[0].head()"
   ]
  },
  {
   "cell_type": "code",
   "execution_count": 21,
   "metadata": {},
   "outputs": [
    {
     "name": "stderr",
     "output_type": "stream",
     "text": [
      "100%|██████████| 10/10 [00:00<00:00, 174.70it/s]\n"
     ]
    }
   ],
   "source": [
    "df_list = read_dataset(\"data/train_passive_trials.h5\", n_trials=10)"
   ]
  },
  {
   "cell_type": "code",
   "execution_count": 22,
   "metadata": {},
   "outputs": [
    {
     "data": {
      "text/html": [
       "<div>\n",
       "<style scoped>\n",
       "    .dataframe tbody tr th:only-of-type {\n",
       "        vertical-align: middle;\n",
       "    }\n",
       "\n",
       "    .dataframe tbody tr th {\n",
       "        vertical-align: top;\n",
       "    }\n",
       "\n",
       "    .dataframe thead th {\n",
       "        text-align: right;\n",
       "    }\n",
       "</style>\n",
       "<table border=\"1\" class=\"dataframe\">\n",
       "  <thead>\n",
       "    <tr style=\"text-align: right;\">\n",
       "      <th></th>\n",
       "      <th>o1.x</th>\n",
       "      <th>o1.y</th>\n",
       "      <th>o1.vx</th>\n",
       "      <th>o1.vy</th>\n",
       "      <th>o2.x</th>\n",
       "      <th>o2.y</th>\n",
       "      <th>o2.vx</th>\n",
       "      <th>o2.vy</th>\n",
       "      <th>o3.x</th>\n",
       "      <th>o3.y</th>\n",
       "      <th>...</th>\n",
       "      <th>o4.x</th>\n",
       "      <th>o4.y</th>\n",
       "      <th>o4.vx</th>\n",
       "      <th>o4.vy</th>\n",
       "      <th>A</th>\n",
       "      <th>B</th>\n",
       "      <th>same</th>\n",
       "      <th>attract</th>\n",
       "      <th>none</th>\n",
       "      <th>repel</th>\n",
       "    </tr>\n",
       "  </thead>\n",
       "  <tbody>\n",
       "    <tr>\n",
       "      <th>0</th>\n",
       "      <td>4.555363</td>\n",
       "      <td>1.439802</td>\n",
       "      <td>-6.937327</td>\n",
       "      <td>6.954494</td>\n",
       "      <td>0.808312</td>\n",
       "      <td>0.608930</td>\n",
       "      <td>6.549034</td>\n",
       "      <td>5.213333</td>\n",
       "      <td>1.637953</td>\n",
       "      <td>0.979222</td>\n",
       "      <td>...</td>\n",
       "      <td>2.312489</td>\n",
       "      <td>1.325347</td>\n",
       "      <td>-5.571054</td>\n",
       "      <td>6.824184</td>\n",
       "      <td>False</td>\n",
       "      <td>True</td>\n",
       "      <td>False</td>\n",
       "      <td>False</td>\n",
       "      <td>True</td>\n",
       "      <td>False</td>\n",
       "    </tr>\n",
       "    <tr>\n",
       "      <th>1</th>\n",
       "      <td>4.440096</td>\n",
       "      <td>1.555637</td>\n",
       "      <td>-6.915997</td>\n",
       "      <td>6.950097</td>\n",
       "      <td>0.917101</td>\n",
       "      <td>0.695618</td>\n",
       "      <td>6.527328</td>\n",
       "      <td>5.201250</td>\n",
       "      <td>1.644658</td>\n",
       "      <td>0.941331</td>\n",
       "      <td>...</td>\n",
       "      <td>2.220093</td>\n",
       "      <td>1.439238</td>\n",
       "      <td>-5.543806</td>\n",
       "      <td>6.833471</td>\n",
       "      <td>False</td>\n",
       "      <td>True</td>\n",
       "      <td>False</td>\n",
       "      <td>False</td>\n",
       "      <td>True</td>\n",
       "      <td>False</td>\n",
       "    </tr>\n",
       "    <tr>\n",
       "      <th>2</th>\n",
       "      <td>4.325193</td>\n",
       "      <td>1.671406</td>\n",
       "      <td>-6.894182</td>\n",
       "      <td>6.946143</td>\n",
       "      <td>1.025478</td>\n",
       "      <td>0.782050</td>\n",
       "      <td>6.502610</td>\n",
       "      <td>5.185913</td>\n",
       "      <td>1.651257</td>\n",
       "      <td>0.903450</td>\n",
       "      <td>...</td>\n",
       "      <td>2.128247</td>\n",
       "      <td>1.553392</td>\n",
       "      <td>-5.510725</td>\n",
       "      <td>6.849251</td>\n",
       "      <td>False</td>\n",
       "      <td>True</td>\n",
       "      <td>False</td>\n",
       "      <td>False</td>\n",
       "      <td>True</td>\n",
       "      <td>False</td>\n",
       "    </tr>\n",
       "    <tr>\n",
       "      <th>3</th>\n",
       "      <td>4.210661</td>\n",
       "      <td>1.787117</td>\n",
       "      <td>-6.871926</td>\n",
       "      <td>6.942690</td>\n",
       "      <td>1.133387</td>\n",
       "      <td>0.868146</td>\n",
       "      <td>6.474587</td>\n",
       "      <td>5.165781</td>\n",
       "      <td>1.657747</td>\n",
       "      <td>0.865570</td>\n",
       "      <td>...</td>\n",
       "      <td>2.037060</td>\n",
       "      <td>1.667969</td>\n",
       "      <td>-5.471231</td>\n",
       "      <td>6.874611</td>\n",
       "      <td>False</td>\n",
       "      <td>True</td>\n",
       "      <td>False</td>\n",
       "      <td>False</td>\n",
       "      <td>True</td>\n",
       "      <td>False</td>\n",
       "    </tr>\n",
       "    <tr>\n",
       "      <th>4</th>\n",
       "      <td>4.096507</td>\n",
       "      <td>1.902780</td>\n",
       "      <td>-6.849294</td>\n",
       "      <td>6.939785</td>\n",
       "      <td>1.240779</td>\n",
       "      <td>0.953792</td>\n",
       "      <td>6.443504</td>\n",
       "      <td>5.138741</td>\n",
       "      <td>1.664126</td>\n",
       "      <td>0.827684</td>\n",
       "      <td>...</td>\n",
       "      <td>1.946629</td>\n",
       "      <td>1.783198</td>\n",
       "      <td>-5.425823</td>\n",
       "      <td>6.913776</td>\n",
       "      <td>False</td>\n",
       "      <td>True</td>\n",
       "      <td>False</td>\n",
       "      <td>False</td>\n",
       "      <td>True</td>\n",
       "      <td>False</td>\n",
       "    </tr>\n",
       "  </tbody>\n",
       "</table>\n",
       "<p>5 rows × 22 columns</p>\n",
       "</div>"
      ],
      "text/plain": [
       "       o1.x      o1.y     o1.vx     o1.vy      o2.x      o2.y     o2.vx  \\\n",
       "0  4.555363  1.439802 -6.937327  6.954494  0.808312  0.608930  6.549034   \n",
       "1  4.440096  1.555637 -6.915997  6.950097  0.917101  0.695618  6.527328   \n",
       "2  4.325193  1.671406 -6.894182  6.946143  1.025478  0.782050  6.502610   \n",
       "3  4.210661  1.787117 -6.871926  6.942690  1.133387  0.868146  6.474587   \n",
       "4  4.096507  1.902780 -6.849294  6.939785  1.240779  0.953792  6.443504   \n",
       "\n",
       "      o2.vy      o3.x      o3.y  ...        o4.x      o4.y     o4.vx  \\\n",
       "0  5.213333  1.637953  0.979222  ...    2.312489  1.325347 -5.571054   \n",
       "1  5.201250  1.644658  0.941331  ...    2.220093  1.439238 -5.543806   \n",
       "2  5.185913  1.651257  0.903450  ...    2.128247  1.553392 -5.510725   \n",
       "3  5.165781  1.657747  0.865570  ...    2.037060  1.667969 -5.471231   \n",
       "4  5.138741  1.664126  0.827684  ...    1.946629  1.783198 -5.425823   \n",
       "\n",
       "      o4.vy      A     B   same  attract  none  repel  \n",
       "0  6.824184  False  True  False    False  True  False  \n",
       "1  6.833471  False  True  False    False  True  False  \n",
       "2  6.849251  False  True  False    False  True  False  \n",
       "3  6.874611  False  True  False    False  True  False  \n",
       "4  6.913776  False  True  False    False  True  False  \n",
       "\n",
       "[5 rows x 22 columns]"
      ]
     },
     "execution_count": 22,
     "metadata": {},
     "output_type": "execute_result"
    }
   ],
   "source": [
    "df_list[0].head()"
   ]
  }
 ],
 "metadata": {
  "kernelspec": {
   "display_name": "Python 3",
   "language": "python",
   "name": "python3"
  },
  "language_info": {
   "codemirror_mode": {
    "name": "ipython",
    "version": 3
   },
   "file_extension": ".py",
   "mimetype": "text/x-python",
   "name": "python",
   "nbconvert_exporter": "python",
   "pygments_lexer": "ipython3",
   "version": "3.5.6"
  }
 },
 "nbformat": 4,
 "nbformat_minor": 2
}
