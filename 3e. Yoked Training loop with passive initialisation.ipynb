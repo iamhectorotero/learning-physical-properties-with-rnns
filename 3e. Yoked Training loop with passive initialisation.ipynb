{
 "cells": [
  {
   "cell_type": "code",
   "execution_count": 1,
   "metadata": {},
   "outputs": [],
   "source": [
    "import pandas as pd\n",
    "import numpy as np\n",
    "import torch\n",
    "import torch.utils.data\n",
    "import torch.nn as nn\n",
    "from torch.autograd import Variable\n",
    "import joblib\n",
    "from tqdm import tqdm\n",
    "import matplotlib.pyplot as plt"
   ]
  },
  {
   "cell_type": "code",
   "execution_count": 2,
   "metadata": {},
   "outputs": [
    {
     "data": {
      "text/plain": [
       "True"
      ]
     },
     "execution_count": 2,
     "metadata": {},
     "output_type": "execute_result"
    }
   ],
   "source": [
    "torch.cuda.is_available()"
   ]
  },
  {
   "cell_type": "code",
   "execution_count": 3,
   "metadata": {},
   "outputs": [],
   "source": [
    "from isaac.dataset import read_dataset, prepare_dataset, sample_subsequences, split_in_subsequences\n",
    "from isaac.models import ComplexRNNModel, initialise_model\n",
    "from isaac.constants import *\n",
    "from isaac.training import evaluate, training_loop, evaluate_saved_model\n",
    "from isaac.sanity import class_proportions"
   ]
  },
  {
   "cell_type": "code",
   "execution_count": 4,
   "metadata": {},
   "outputs": [],
   "source": [
    "BATCH_SIZE = 64\n",
    "EPOCHS = 50\n",
    "NORMALISE_DATA = True\n",
    "STEP_SIZE = 2\n",
    "SEQ_END = 1800"
   ]
  },
  {
   "cell_type": "code",
   "execution_count": 5,
   "metadata": {},
   "outputs": [],
   "source": [
    "TR_COLS = ALT_BASIC_TRAINING_COLS + MOUSE_CONTROL_COLS + MOUSE_POSITION_COLS"
   ]
  },
  {
   "cell_type": "code",
   "execution_count": 8,
   "metadata": {},
   "outputs": [
    {
     "data": {
      "text/plain": [
       "7"
      ]
     },
     "execution_count": 8,
     "metadata": {},
     "output_type": "execute_result"
    }
   ],
   "source": [
    "len(MOUSE_CONTROL_COLS + MOUSE_POSITION_COLS)"
   ]
  },
  {
   "cell_type": "code",
   "execution_count": 9,
   "metadata": {},
   "outputs": [
    {
     "data": {
      "text/plain": [
       "23"
      ]
     },
     "execution_count": 9,
     "metadata": {},
     "output_type": "execute_result"
    }
   ],
   "source": [
    "len(TR_COLS)"
   ]
  },
  {
   "cell_type": "markdown",
   "metadata": {},
   "source": [
    "# Define common model, loss and optimizer"
   ]
  },
  {
   "cell_type": "code",
   "execution_count": 10,
   "metadata": {},
   "outputs": [],
   "source": [
    "INPUT_DIM = len(TR_COLS)    # input dimension\n",
    "HIDDEN_DIM = 25  # hidden layer dimension\n",
    "N_LAYERS = 4     # number of hidden layers\n",
    "OUTPUT_DIM = 3   # output dimension\n",
    "DROPOUT = 0.5\n",
    "\n",
    "network_dims = (INPUT_DIM, HIDDEN_DIM, N_LAYERS, OUTPUT_DIM)"
   ]
  },
  {
   "cell_type": "code",
   "execution_count": 11,
   "metadata": {
    "scrolled": true
   },
   "outputs": [
    {
     "name": "stderr",
     "output_type": "stream",
     "text": [
      "100%|██████████| 143/143 [00:01<00:00, 102.34it/s]\n",
      "100%|██████████| 399/399 [00:06<00:00, 60.05it/s]\n",
      "100%|██████████| 399/399 [00:06<00:00, 61.12it/s]\n"
     ]
    }
   ],
   "source": [
    "exp1_trials = read_dataset(\"data/yoked_trials_exp1.h5\")\n",
    "exp2_mass_trials = read_dataset(\"data/mass_trials_exp2.h5\")\n",
    "exp2_force_trials = read_dataset(\"data/force_trials_exp2.h5\")\n",
    "\n",
    "first_half = [trial[:1801] for trial in exp1_trials]\n",
    "# second_half = [trial[-1801:] for trial in exp1_trials]"
   ]
  },
  {
   "cell_type": "code",
   "execution_count": 12,
   "metadata": {},
   "outputs": [],
   "source": [
    "yoked_trials = first_half + exp2_mass_trials + exp2_force_trials"
   ]
  },
  {
   "cell_type": "code",
   "execution_count": 13,
   "metadata": {},
   "outputs": [
    {
     "name": "stderr",
     "output_type": "stream",
     "text": [
      "  0%|          | 0/941 [00:00<?, ?it/s]/home/hector/miniconda3/envs/diss/lib/python3.5/site-packages/pandas/core/generic.py:4405: SettingWithCopyWarning: \n",
      "A value is trying to be set on a copy of a slice from a DataFrame.\n",
      "Try using .loc[row_indexer,col_indexer] = value instead\n",
      "\n",
      "See the caveats in the documentation: http://pandas.pydata.org/pandas-docs/stable/indexing.html#indexing-view-versus-copy\n",
      "  self[name] = value\n",
      "/home/hector/miniconda3/envs/diss/lib/python3.5/site-packages/ipykernel_launcher.py:4: SettingWithCopyWarning: \n",
      "A value is trying to be set on a copy of a slice from a DataFrame.\n",
      "Try using .loc[row_indexer,col_indexer] = value instead\n",
      "\n",
      "See the caveats in the documentation: http://pandas.pydata.org/pandas-docs/stable/indexing.html#indexing-view-versus-copy\n",
      "  after removing the cwd from sys.path.\n",
      "/home/hector/miniconda3/envs/diss/lib/python3.5/site-packages/ipykernel_launcher.py:5: SettingWithCopyWarning: \n",
      "A value is trying to be set on a copy of a slice from a DataFrame.\n",
      "Try using .loc[row_indexer,col_indexer] = value instead\n",
      "\n",
      "See the caveats in the documentation: http://pandas.pydata.org/pandas-docs/stable/indexing.html#indexing-view-versus-copy\n",
      "  \"\"\"\n",
      "/home/hector/miniconda3/envs/diss/lib/python3.5/site-packages/ipykernel_launcher.py:6: SettingWithCopyWarning: \n",
      "A value is trying to be set on a copy of a slice from a DataFrame.\n",
      "Try using .loc[row_indexer,col_indexer] = value instead\n",
      "\n",
      "See the caveats in the documentation: http://pandas.pydata.org/pandas-docs/stable/indexing.html#indexing-view-versus-copy\n",
      "  \n",
      "/home/hector/miniconda3/envs/diss/lib/python3.5/site-packages/ipykernel_launcher.py:7: SettingWithCopyWarning: \n",
      "A value is trying to be set on a copy of a slice from a DataFrame.\n",
      "Try using .loc[row_indexer,col_indexer] = value instead\n",
      "\n",
      "See the caveats in the documentation: http://pandas.pydata.org/pandas-docs/stable/indexing.html#indexing-view-versus-copy\n",
      "  import sys\n",
      "100%|██████████| 941/941 [00:35<00:00, 26.74it/s] \n"
     ]
    }
   ],
   "source": [
    "for trial in tqdm(yoked_trials):\n",
    "    trial.mouseX = trial.mouseX * (trial.idControlledObject != \"none\").astype(int)\n",
    "    trial.mouseY = trial.mouseY * (trial.idControlledObject != \"none\").astype(int)\n",
    "    trial[\"mouse.vx\"] *= (trial.idControlledObject != \"none\").astype(int)\n",
    "    trial[\"mouse.vy\"] *= (trial.idControlledObject != \"none\").astype(int)\n",
    "    trial[\"mouse.speed\"] *= (trial.idControlledObject != \"none\").astype(int)\n",
    "    trial[\"mouse.angle\"] *= (trial.idControlledObject != \"none\").astype(int)"
   ]
  },
  {
   "cell_type": "code",
   "execution_count": 14,
   "metadata": {},
   "outputs": [],
   "source": [
    "np.random.seed(0)\n",
    "indices = np.arange(len(yoked_trials))\n",
    "test_indices = np.random.choice(indices, 150, replace=False)\n",
    "val_indices = np.random.choice(list(set(indices) - set(test_indices)), 150, replace=False)\n",
    "train_indices = list(set(indices) - set(test_indices) - set(val_indices))\n",
    "\n",
    "train_trials = [yoked_trials[i] for i in train_indices]\n",
    "val_trials = [yoked_trials[i] for i in val_indices]\n",
    "test_trials = [yoked_trials[i] for i in test_indices]"
   ]
  },
  {
   "cell_type": "markdown",
   "metadata": {
    "scrolled": true
   },
   "source": [
    "passive_trials = read_dataset(\"data/train_passive_trials.h5\", n_trials=len(train_trials) // 2)\n",
    "passive_trials = [trial[:1801] for trial in passive_trials]"
   ]
  },
  {
   "cell_type": "markdown",
   "metadata": {},
   "source": [
    "train_trials += passive_trials"
   ]
  },
  {
   "cell_type": "code",
   "execution_count": 15,
   "metadata": {
    "scrolled": true
   },
   "outputs": [
    {
     "data": {
      "text/plain": [
       "(641, 150, 150)"
      ]
     },
     "execution_count": 15,
     "metadata": {},
     "output_type": "execute_result"
    }
   ],
   "source": [
    "len(train_trials), len(val_trials), len(test_trials)"
   ]
  },
  {
   "cell_type": "markdown",
   "metadata": {},
   "source": [
    "# FORCE TRAINING  (Humans achieve 63% +- 21%)"
   ]
  },
  {
   "cell_type": "markdown",
   "metadata": {},
   "source": [
    "## Read dataset and preprocess it"
   ]
  },
  {
   "cell_type": "code",
   "execution_count": 17,
   "metadata": {},
   "outputs": [],
   "source": [
    "scaler_path = \"scalers/passive_force_scaler.sk\"\n",
    "scaler = joblib.load(scaler_path)"
   ]
  },
  {
   "cell_type": "markdown",
   "metadata": {
    "scrolled": true
   },
   "source": [
    "\n",
    "import warnings\n",
    "warnings.filterwarnings('ignore')\n",
    "for dataset in [train_trials, val_trials, test_trials]:\n",
    "    for i, trial in enumerate(tqdm(dataset)):\n",
    "        dataset[i][BASIC_TRAINING_COLS] = scaler.transform(trial[BASIC_TRAINING_COLS])"
   ]
  },
  {
   "cell_type": "code",
   "execution_count": 18,
   "metadata": {
    "scrolled": true
   },
   "outputs": [
    {
     "name": "stderr",
     "output_type": "stream",
     "text": [
      "100%|██████████| 641/641 [00:01<00:00, 338.75it/s]\n",
      "100%|██████████| 150/150 [00:00<00:00, 340.80it/s]\n",
      "100%|██████████| 150/150 [00:00<00:00, 342.10it/s]\n"
     ]
    }
   ],
   "source": [
    "loaders, scaler = prepare_dataset([train_trials, val_trials, test_trials], class_columns=FORCE_CLASS_COLS, \n",
    "                                  training_columns=TR_COLS,\n",
    "                                  batch_size=BATCH_SIZE, normalise_data=NORMALISE_DATA, \n",
    "                                  categorical_columns=MOUSE_CONTROL_COLS, normalisation_cols=ALT_BASIC_TRAINING_COLS)"
   ]
  },
  {
   "cell_type": "code",
   "execution_count": 19,
   "metadata": {},
   "outputs": [],
   "source": [
    "train_loader, val_loader, test_loader = loaders"
   ]
  },
  {
   "cell_type": "code",
   "execution_count": 20,
   "metadata": {},
   "outputs": [
    {
     "name": "stdout",
     "output_type": "stream",
     "text": [
      "[207 247 187]\n",
      "Majority class:  0.38533541341653665\n",
      "\n",
      "[58 52 40]\n",
      "Majority class:  0.38666666666666666\n",
      "\n",
      "[53 46 51]\n",
      "Majority class:  0.35333333333333333\n"
     ]
    }
   ],
   "source": [
    "class_proportions(train_loader)\n",
    "print()\n",
    "class_proportions(val_loader)\n",
    "print()\n",
    "class_proportions(test_loader)"
   ]
  },
  {
   "cell_type": "markdown",
   "metadata": {},
   "source": [
    "## Define model, loss and optimizer"
   ]
  },
  {
   "cell_type": "markdown",
   "metadata": {},
   "source": [
    "model_path = \"models/passive_force_model.pt\"\n",
    "model = ComplexRNNModel(*network_dims, DROPOUT)\n",
    "model.load_state_dict(torch.load(model_path))\n",
    "model = model.cuda()\n",
    "model.rec_layer.requires_grad = True\n",
    "\n",
    "error = nn.CrossEntropyLoss().cuda()\n",
    "optimizer = torch.optim.Adam(model.parameters(), lr=0.01)\n",
    "model.train()"
   ]
  },
  {
   "cell_type": "code",
   "execution_count": 28,
   "metadata": {},
   "outputs": [],
   "source": [
    "network_dims = (len(ALT_BASIC_TRAINING_COLS), HIDDEN_DIM, N_LAYERS, OUTPUT_DIM)\n",
    "model_path = \"models/passive_force_model.pt\"\n",
    "pretrained_model = ComplexRNNModel(*network_dims, DROPOUT)\n",
    "pretrained_model.load_state_dict(torch.load(model_path))\n",
    "\n",
    "class DualRNNModel(nn.Module):\n",
    "    def __init__(self, dropout=0.):\n",
    "        super(DualRNNModel, self).__init__()\n",
    "        # RNN\n",
    "        self.rec_layer = pretrained_model.rec_layer\n",
    "        # self.gru_one = nn.GRU(9, 4, 2, batch_first=True, dropout=dropout)\n",
    "        \n",
    "        self.gru = nn.GRU(25 + 7, 15, 2, batch_first=True, dropout=dropout)\n",
    "        # Readout layer\n",
    "        self.fc = nn.Linear(15, 3)\n",
    "    \n",
    "    def forward(self, x):\n",
    "        obj = x[:, : , :-7]\n",
    "        mouse = x[:, :, -7:]\n",
    "        \n",
    "        out, _ = self.rec_layer(obj)\n",
    "        # mouse, _ = self.gru_one(mouse)\n",
    "        \n",
    "        out = torch.cat((out, mouse), dim=2)\n",
    "        out, _ = self.gru(out)\n",
    "        \n",
    "        out = self.fc(out[:, -1, :]) \n",
    "        return out"
   ]
  },
  {
   "cell_type": "code",
   "execution_count": 29,
   "metadata": {},
   "outputs": [],
   "source": [
    "dual = DualRNNModel(DROPOUT)\n",
    "error = nn.CrossEntropyLoss().cuda()\n",
    "dual.rec_layer.requires_grad = False\n",
    "\n",
    "optimizer = torch.optim.Adam(dual.parameters(), lr=0.0001)\n",
    "\n",
    "dual = dual.cuda()"
   ]
  },
  {
   "cell_type": "code",
   "execution_count": 30,
   "metadata": {},
   "outputs": [
    {
     "data": {
      "text/plain": [
       "DualRNNModel(\n",
       "  (rec_layer): GRU(16, 25, num_layers=4, batch_first=True, dropout=0.5)\n",
       "  (gru): GRU(32, 15, num_layers=2, batch_first=True, dropout=0.5)\n",
       "  (fc): Linear(in_features=15, out_features=3, bias=True)\n",
       ")"
      ]
     },
     "execution_count": 30,
     "metadata": {},
     "output_type": "execute_result"
    }
   ],
   "source": [
    "dual.train()"
   ]
  },
  {
   "cell_type": "markdown",
   "metadata": {},
   "source": [
    "## Train model and plot loss and accuracy"
   ]
  },
  {
   "cell_type": "code",
   "execution_count": 42,
   "metadata": {
    "scrolled": true
   },
   "outputs": [
    {
     "name": "stderr",
     "output_type": "stream",
     "text": [
      "\n",
      "  0%|          | 0/50 [00:00<?, ?it/s]\u001b[A\n",
      "Train_loss (-1.00)\t Train_acc (54.76)\t Val_acc (54.00):   0%|          | 0/50 [00:00<?, ?it/s]\u001b[A\n",
      "Train_loss (-1.00)\t Train_acc (54.76)\t Val_acc (54.00):   2%|▏         | 1/50 [00:05<04:09,  5.10s/it]\u001b[A\n",
      "Train_loss (0.88)\t Train_acc (55.07)\t Val_acc (54.67):   2%|▏         | 1/50 [00:05<04:09,  5.10s/it] \u001b[A\n",
      "Train_loss (0.88)\t Train_acc (55.07)\t Val_acc (54.67):   4%|▍         | 2/50 [00:10<04:04,  5.09s/it]\u001b[A\n",
      "Train_loss (0.88)\t Train_acc (54.76)\t Val_acc (54.00):   4%|▍         | 2/50 [00:10<04:04,  5.09s/it]\u001b[A\n",
      "Train_loss (0.88)\t Train_acc (54.76)\t Val_acc (54.00):   6%|▌         | 3/50 [00:15<03:59,  5.09s/it]\u001b[A\n",
      "Train_loss (0.88)\t Train_acc (54.76)\t Val_acc (53.33):   6%|▌         | 3/50 [00:16<03:59,  5.09s/it]\u001b[A\n",
      "Train_loss (0.88)\t Train_acc (54.76)\t Val_acc (53.33):   8%|▊         | 4/50 [00:20<03:53,  5.08s/it]\u001b[A\n",
      "Train_loss (0.88)\t Train_acc (55.38)\t Val_acc (54.00):   8%|▊         | 4/50 [00:21<03:53,  5.08s/it]\u001b[A\n",
      "Train_loss (0.88)\t Train_acc (55.38)\t Val_acc (54.00):  10%|█         | 5/50 [00:25<03:48,  5.08s/it]\u001b[A\n",
      "Train_loss (0.90)\t Train_acc (55.23)\t Val_acc (54.00):  10%|█         | 5/50 [00:26<03:48,  5.08s/it]\u001b[A\n",
      "Train_loss (0.90)\t Train_acc (55.23)\t Val_acc (54.00):  12%|█▏        | 6/50 [00:30<03:42,  5.06s/it]\u001b[A\n",
      "Train_loss (0.87)\t Train_acc (55.07)\t Val_acc (54.00):  12%|█▏        | 6/50 [00:31<03:42,  5.06s/it]\u001b[A\n",
      "Train_loss (0.87)\t Train_acc (55.07)\t Val_acc (54.00):  14%|█▍        | 7/50 [00:35<03:37,  5.06s/it]\u001b[A\n",
      "Train_loss (0.88)\t Train_acc (55.38)\t Val_acc (54.67):  14%|█▍        | 7/50 [00:36<03:37,  5.06s/it]\u001b[A\n",
      "Train_loss (0.88)\t Train_acc (55.38)\t Val_acc (54.67):  16%|█▌        | 8/50 [00:40<03:33,  5.08s/it]\u001b[A\n",
      "Train_loss (0.87)\t Train_acc (55.69)\t Val_acc (54.67):  16%|█▌        | 8/50 [00:41<03:33,  5.08s/it]\u001b[A\n",
      "Train_loss (0.87)\t Train_acc (55.69)\t Val_acc (54.67):  18%|█▊        | 9/50 [00:45<03:27,  5.07s/it]\u001b[A\n",
      "Train_loss (0.86)\t Train_acc (56.01)\t Val_acc (54.67):  18%|█▊        | 9/50 [00:46<03:27,  5.07s/it]\u001b[A\n",
      "Train_loss (0.86)\t Train_acc (56.01)\t Val_acc (54.67):  20%|██        | 10/50 [00:50<03:22,  5.07s/it]\u001b[A\n",
      "Train_loss (0.88)\t Train_acc (56.32)\t Val_acc (54.67):  20%|██        | 10/50 [00:51<03:22,  5.07s/it]\u001b[A\n",
      "Train_loss (0.88)\t Train_acc (56.32)\t Val_acc (54.67):  22%|██▏       | 11/50 [00:55<03:18,  5.08s/it]\u001b[A\n",
      "Train_loss (0.86)\t Train_acc (56.63)\t Val_acc (54.67):  22%|██▏       | 11/50 [00:56<03:18,  5.08s/it]\u001b[A\n",
      "Train_loss (0.86)\t Train_acc (56.63)\t Val_acc (54.67):  24%|██▍       | 12/50 [01:00<03:12,  5.08s/it]\u001b[A\n",
      "Train_loss (0.87)\t Train_acc (56.32)\t Val_acc (54.67):  24%|██▍       | 12/50 [01:01<03:12,  5.08s/it]\u001b[A\n",
      "Train_loss (0.87)\t Train_acc (56.32)\t Val_acc (54.67):  26%|██▌       | 13/50 [01:06<03:08,  5.09s/it]\u001b[A\n",
      "Train_loss (0.88)\t Train_acc (56.94)\t Val_acc (54.00):  26%|██▌       | 13/50 [01:06<03:08,  5.09s/it]\u001b[A\n",
      "Train_loss (0.88)\t Train_acc (56.94)\t Val_acc (54.00):  28%|██▊       | 14/50 [01:11<03:02,  5.06s/it]\u001b[A\n",
      "Train_loss (0.87)\t Train_acc (56.79)\t Val_acc (54.00):  28%|██▊       | 14/50 [01:11<03:02,  5.06s/it]\u001b[A\n",
      "Train_loss (0.87)\t Train_acc (56.79)\t Val_acc (54.00):  30%|███       | 15/50 [01:16<02:58,  5.09s/it]\u001b[A\n",
      "Train_loss (0.87)\t Train_acc (57.25)\t Val_acc (54.00):  30%|███       | 15/50 [01:17<02:58,  5.09s/it]\u001b[A\n",
      "Train_loss (0.87)\t Train_acc (57.25)\t Val_acc (54.00):  32%|███▏      | 16/50 [01:21<02:53,  5.11s/it]\u001b[A\n",
      "Train_loss (0.85)\t Train_acc (57.25)\t Val_acc (54.00):  32%|███▏      | 16/50 [01:22<02:53,  5.11s/it]\u001b[A\n",
      "Train_loss (0.85)\t Train_acc (57.25)\t Val_acc (54.00):  34%|███▍      | 17/50 [01:26<02:49,  5.14s/it]\u001b[A\n",
      "Train_loss (0.86)\t Train_acc (57.41)\t Val_acc (53.33):  34%|███▍      | 17/50 [01:27<02:49,  5.14s/it]\u001b[A\n",
      "Train_loss (0.86)\t Train_acc (57.41)\t Val_acc (53.33):  36%|███▌      | 18/50 [01:31<02:44,  5.15s/it]\u001b[A\n",
      "Train_loss (0.88)\t Train_acc (57.72)\t Val_acc (54.00):  36%|███▌      | 18/50 [01:32<02:44,  5.15s/it]\u001b[A\n",
      "Train_loss (0.88)\t Train_acc (57.72)\t Val_acc (54.00):  38%|███▊      | 19/50 [01:36<02:39,  5.13s/it]\u001b[A\n",
      "Train_loss (0.87)\t Train_acc (57.57)\t Val_acc (54.00):  38%|███▊      | 19/50 [01:37<02:39,  5.13s/it]\u001b[A\n",
      "Train_loss (0.87)\t Train_acc (57.57)\t Val_acc (54.00):  40%|████      | 20/50 [01:41<02:33,  5.12s/it]\u001b[A\n",
      "Train_loss (0.86)\t Train_acc (57.57)\t Val_acc (54.00):  40%|████      | 20/50 [01:42<02:33,  5.12s/it]\u001b[A\n",
      "Train_loss (0.86)\t Train_acc (57.57)\t Val_acc (54.00):  42%|████▏     | 21/50 [01:46<02:28,  5.11s/it]\u001b[A\n",
      "Train_loss (0.85)\t Train_acc (57.72)\t Val_acc (54.00):  42%|████▏     | 21/50 [01:47<02:28,  5.11s/it]\u001b[A\n",
      "Train_loss (0.85)\t Train_acc (57.72)\t Val_acc (54.00):  44%|████▍     | 22/50 [01:52<02:23,  5.12s/it]\u001b[A\n",
      "Train_loss (0.85)\t Train_acc (58.03)\t Val_acc (54.00):  44%|████▍     | 22/50 [01:53<02:23,  5.12s/it]\u001b[A\n",
      "Train_loss (0.85)\t Train_acc (58.03)\t Val_acc (54.00):  46%|████▌     | 23/50 [01:57<02:19,  5.16s/it]\u001b[A\n",
      "Train_loss (0.85)\t Train_acc (58.03)\t Val_acc (54.00):  46%|████▌     | 23/50 [01:58<02:19,  5.16s/it]\u001b[A\n",
      "Train_loss (0.85)\t Train_acc (58.03)\t Val_acc (54.00):  48%|████▊     | 24/50 [02:02<02:13,  5.12s/it]\u001b[A\n",
      "Train_loss (0.86)\t Train_acc (57.88)\t Val_acc (54.00):  48%|████▊     | 24/50 [02:03<02:13,  5.12s/it]\u001b[A\n",
      "Train_loss (0.86)\t Train_acc (57.88)\t Val_acc (54.00):  50%|█████     | 25/50 [02:07<02:08,  5.14s/it]\u001b[A\n",
      "Train_loss (0.86)\t Train_acc (57.72)\t Val_acc (54.00):  50%|█████     | 25/50 [02:08<02:08,  5.14s/it]\u001b[A\n",
      "Train_loss (0.86)\t Train_acc (57.72)\t Val_acc (54.00):  52%|█████▏    | 26/50 [02:13<02:06,  5.25s/it]\u001b[A\n",
      "Train_loss (0.86)\t Train_acc (57.72)\t Val_acc (54.00):  52%|█████▏    | 26/50 [02:14<02:06,  5.25s/it]\u001b[A\n",
      "Train_loss (0.86)\t Train_acc (57.72)\t Val_acc (54.00):  54%|█████▍    | 27/50 [02:18<02:00,  5.25s/it]\u001b[A\n",
      "Train_loss (0.84)\t Train_acc (57.72)\t Val_acc (54.00):  54%|█████▍    | 27/50 [02:19<02:00,  5.25s/it]\u001b[A\n",
      "Train_loss (0.84)\t Train_acc (57.72)\t Val_acc (54.00):  56%|█████▌    | 28/50 [02:23<01:55,  5.25s/it]\u001b[A\n",
      "Train_loss (0.86)\t Train_acc (57.72)\t Val_acc (54.67):  56%|█████▌    | 28/50 [02:24<01:55,  5.25s/it]\u001b[A\n",
      "Train_loss (0.86)\t Train_acc (57.72)\t Val_acc (54.67):  58%|█████▊    | 29/50 [02:28<01:49,  5.22s/it]\u001b[A\n",
      "Train_loss (0.85)\t Train_acc (58.19)\t Val_acc (55.33):  58%|█████▊    | 29/50 [02:29<01:49,  5.22s/it]\u001b[A\n",
      "Train_loss (0.85)\t Train_acc (58.19)\t Val_acc (55.33):  60%|██████    | 30/50 [02:34<01:44,  5.24s/it]\u001b[A\n",
      "Train_loss (0.84)\t Train_acc (57.88)\t Val_acc (55.33):  60%|██████    | 30/50 [02:34<01:44,  5.24s/it]\u001b[A\n",
      "Train_loss (0.84)\t Train_acc (57.88)\t Val_acc (55.33):  62%|██████▏   | 31/50 [02:39<01:39,  5.23s/it]\u001b[A\n",
      "Train_loss (0.84)\t Train_acc (57.72)\t Val_acc (54.67):  62%|██████▏   | 31/50 [02:40<01:39,  5.23s/it]\u001b[A\n",
      "Train_loss (0.84)\t Train_acc (57.72)\t Val_acc (54.67):  64%|██████▍   | 32/50 [02:44<01:33,  5.20s/it]\u001b[A\n",
      "Train_loss (0.85)\t Train_acc (57.88)\t Val_acc (54.67):  64%|██████▍   | 32/50 [02:45<01:33,  5.20s/it]\u001b[A\n",
      "Train_loss (0.85)\t Train_acc (57.88)\t Val_acc (54.67):  66%|██████▌   | 33/50 [02:49<01:27,  5.18s/it]\u001b[A\n",
      "Train_loss (0.84)\t Train_acc (58.03)\t Val_acc (54.67):  66%|██████▌   | 33/50 [02:50<01:27,  5.18s/it]\u001b[A\n",
      "Train_loss (0.84)\t Train_acc (58.03)\t Val_acc (54.67):  68%|██████▊   | 34/50 [02:54<01:22,  5.15s/it]\u001b[A\n",
      "Train_loss (0.84)\t Train_acc (58.19)\t Val_acc (55.33):  68%|██████▊   | 34/50 [02:55<01:22,  5.15s/it]\u001b[A\n",
      "Train_loss (0.84)\t Train_acc (58.19)\t Val_acc (55.33):  70%|███████   | 35/50 [02:59<01:17,  5.14s/it]\u001b[A\n",
      "Train_loss (0.83)\t Train_acc (57.88)\t Val_acc (54.67):  70%|███████   | 35/50 [03:00<01:17,  5.14s/it]\u001b[A\n",
      "Train_loss (0.83)\t Train_acc (57.88)\t Val_acc (54.67):  72%|███████▏  | 36/50 [03:04<01:12,  5.15s/it]\u001b[A\n",
      "Train_loss (0.82)\t Train_acc (57.72)\t Val_acc (54.67):  72%|███████▏  | 36/50 [03:05<01:12,  5.15s/it]\u001b[A\n",
      "Train_loss (0.82)\t Train_acc (57.72)\t Val_acc (54.67):  74%|███████▍  | 37/50 [03:09<01:06,  5.12s/it]\u001b[A\n",
      "Train_loss (0.83)\t Train_acc (58.19)\t Val_acc (54.67):  74%|███████▍  | 37/50 [03:10<01:06,  5.12s/it]\u001b[A\n",
      "Train_loss (0.83)\t Train_acc (58.19)\t Val_acc (54.67):  76%|███████▌  | 38/50 [03:15<01:01,  5.13s/it]\u001b[A\n",
      "Train_loss (0.83)\t Train_acc (59.13)\t Val_acc (55.33):  76%|███████▌  | 38/50 [03:15<01:01,  5.13s/it]\u001b[A\n"
     ]
    },
    {
     "name": "stderr",
     "output_type": "stream",
     "text": [
      "Train_loss (0.83)\t Train_acc (59.13)\t Val_acc (55.33):  78%|███████▊  | 39/50 [03:20<00:56,  5.10s/it]\u001b[A\n",
      "Train_loss (0.83)\t Train_acc (58.97)\t Val_acc (55.33):  78%|███████▊  | 39/50 [03:20<00:56,  5.10s/it]\u001b[A\n",
      "Train_loss (0.83)\t Train_acc (58.97)\t Val_acc (55.33):  80%|████████  | 40/50 [03:25<00:51,  5.12s/it]\u001b[A\n",
      "Train_loss (0.84)\t Train_acc (58.97)\t Val_acc (55.33):  80%|████████  | 40/50 [03:26<00:51,  5.12s/it]\u001b[A\n",
      "Train_loss (0.84)\t Train_acc (58.97)\t Val_acc (55.33):  82%|████████▏ | 41/50 [03:30<00:46,  5.13s/it]\u001b[A\n",
      "Train_loss (0.83)\t Train_acc (59.28)\t Val_acc (56.00):  82%|████████▏ | 41/50 [03:31<00:46,  5.13s/it]\u001b[A\n",
      "Train_loss (0.83)\t Train_acc (59.28)\t Val_acc (56.00):  84%|████████▍ | 42/50 [03:35<00:41,  5.13s/it]\u001b[A\n",
      "Train_loss (0.83)\t Train_acc (59.44)\t Val_acc (56.67):  84%|████████▍ | 42/50 [03:36<00:41,  5.13s/it]\u001b[A\n",
      "Train_loss (0.83)\t Train_acc (59.44)\t Val_acc (56.67):  86%|████████▌ | 43/50 [03:40<00:35,  5.13s/it]\u001b[A\n",
      "Train_loss (0.83)\t Train_acc (59.28)\t Val_acc (54.67):  86%|████████▌ | 43/50 [03:41<00:35,  5.13s/it]\u001b[A\n",
      "Train_loss (0.83)\t Train_acc (59.28)\t Val_acc (54.67):  88%|████████▊ | 44/50 [03:45<00:30,  5.13s/it]\u001b[A\n",
      "Train_loss (0.82)\t Train_acc (59.75)\t Val_acc (55.33):  88%|████████▊ | 44/50 [03:46<00:30,  5.13s/it]\u001b[A\n",
      "Train_loss (0.82)\t Train_acc (59.75)\t Val_acc (55.33):  90%|█████████ | 45/50 [03:50<00:25,  5.12s/it]\u001b[A\n",
      "Train_loss (0.82)\t Train_acc (59.44)\t Val_acc (55.33):  90%|█████████ | 45/50 [03:51<00:25,  5.12s/it]\u001b[A\n",
      "Train_loss (0.82)\t Train_acc (59.44)\t Val_acc (55.33):  92%|█████████▏| 46/50 [03:55<00:20,  5.06s/it]\u001b[A\n",
      "Train_loss (0.83)\t Train_acc (59.44)\t Val_acc (55.33):  92%|█████████▏| 46/50 [03:56<00:20,  5.06s/it]\u001b[A\n",
      "Train_loss (0.83)\t Train_acc (59.44)\t Val_acc (55.33):  94%|█████████▍| 47/50 [04:00<00:15,  5.08s/it]\u001b[A\n",
      "Train_loss (0.83)\t Train_acc (58.03)\t Val_acc (54.67):  94%|█████████▍| 47/50 [04:01<00:15,  5.08s/it]\u001b[A\n",
      "Train_loss (0.83)\t Train_acc (58.03)\t Val_acc (54.67):  96%|█████████▌| 48/50 [04:06<00:10,  5.09s/it]\u001b[A\n",
      "Train_loss (0.82)\t Train_acc (58.97)\t Val_acc (54.67):  96%|█████████▌| 48/50 [04:06<00:10,  5.09s/it]\u001b[A\n",
      "Train_loss (0.82)\t Train_acc (58.97)\t Val_acc (54.67):  98%|█████████▊| 49/50 [04:11<00:05,  5.09s/it]\u001b[A\n",
      "Train_loss (0.81)\t Train_acc (59.13)\t Val_acc (55.33):  98%|█████████▊| 49/50 [04:12<00:05,  5.09s/it]\u001b[A\n",
      "Train_loss (0.81)\t Train_acc (59.13)\t Val_acc (55.33): 100%|██████████| 50/50 [04:16<00:00,  5.11s/it]\u001b[A"
     ]
    }
   ],
   "source": [
    "epoch_losses, epoch_accuracies, best_model = training_loop(dual, optimizer, error, train_loader, val_loader,                                                           \n",
    "                                                           EPOCHS, seq_end=SEQ_END, step_size=STEP_SIZE)"
   ]
  },
  {
   "cell_type": "code",
   "execution_count": 45,
   "metadata": {},
   "outputs": [
    {
     "data": {
      "image/png": "[encoded data removed]",
      "text/plain": [
       "<Figure size 432x288 with 1 Axes>"
      ]
     },
     "metadata": {
      "needs_background": "light"
     },
     "output_type": "display_data"
    },
    {
     "data": {
      "image/png": "[encoded data removed]",
      "text/plain": [
       "<Figure size 432x288 with 1 Axes>"
      ]
     },
     "metadata": {
      "needs_background": "light"
     },
     "output_type": "display_data"
    }
   ],
   "source": [
    "plt.plot(epoch_losses)\n",
    "plt.show()\n",
    "plt.plot(np.array(epoch_accuracies).T)\n",
    "plt.show()"
   ]
  },
  {
   "cell_type": "code",
   "execution_count": 46,
   "metadata": {},
   "outputs": [
    {
     "data": {
      "text/plain": [
       "(59.75039001560062, 56.666666666666664)"
      ]
     },
     "execution_count": 46,
     "metadata": {},
     "output_type": "execute_result"
    }
   ],
   "source": [
    "max(epoch_accuracies[0]), max(epoch_accuracies[1])"
   ]
  },
  {
   "cell_type": "markdown",
   "metadata": {},
   "source": [
    "## Save model and scaler"
   ]
  },
  {
   "cell_type": "code",
   "execution_count": 47,
   "metadata": {},
   "outputs": [
    {
     "data": {
      "text/plain": [
       "['scalers/yoked_force_scaler.sk']"
      ]
     },
     "execution_count": 47,
     "metadata": {},
     "output_type": "execute_result"
    }
   ],
   "source": [
    "torch.save(best_model.state_dict(), \"models/yoked_force_model.pt\")\n",
    "joblib.dump(scaler, \"scalers/yoked_force_scaler.sk\")"
   ]
  },
  {
   "cell_type": "markdown",
   "metadata": {},
   "source": [
    "## Evaluate saved model"
   ]
  },
  {
   "cell_type": "code",
   "execution_count": 48,
   "metadata": {},
   "outputs": [
    {
     "name": "stderr",
     "output_type": "stream",
     "text": [
      "\n",
      "  0%|          | 0/150 [00:00<?, ?it/s]\u001b[A\n",
      " 20%|██        | 30/150 [00:00<00:00, 299.83it/s]\u001b[A\n",
      " 41%|████▏     | 62/150 [00:00<00:00, 305.59it/s]\u001b[A\n",
      " 63%|██████▎   | 94/150 [00:00<00:00, 308.91it/s]\u001b[A\n",
      " 83%|████████▎ | 125/150 [00:00<00:00, 308.73it/s]\u001b[A\n",
      "100%|██████████| 150/150 [00:00<00:00, 309.97it/s]\u001b[A"
     ]
    },
    {
     "name": "stdout",
     "output_type": "stream",
     "text": [
      "Model's accuracy on test set: 38.666666666666664\n"
     ]
    },
    {
     "data": {
      "image/png": "[encoded data removed]",
      "text/plain": [
       "<Figure size 432x288 with 2 Axes>"
      ]
     },
     "metadata": {
      "needs_background": "light"
     },
     "output_type": "display_data"
    },
    {
     "data": {
      "image/png": "[encoded data removed]",
      "text/plain": [
       "<Figure size 432x288 with 2 Axes>"
      ]
     },
     "metadata": {
      "needs_background": "light"
     },
     "output_type": "display_data"
    }
   ],
   "source": [
    "model_path = \"models/yoked_force_model.pt\"\n",
    "scaler_path = \"scalers/yoked_force_scaler.sk\"\n",
    "network_dims = (INPUT_DIM, HIDDEN_DIM, N_LAYERS, OUTPUT_DIM)\n",
    "class_columns = FORCE_CLASS_COLS\n",
    "\n",
    "evaluate_saved_model(model_path, (DROPOUT,), None, training_columns=TR_COLS, arch=DualRNNModel,\n",
    "                     trials=test_trials, class_columns=class_columns, step_size=STEP_SIZE, scaler_path=scaler_path,\n",
    "                     categorical_columns=MOUSE_CONTROL_COLS, normalisation_cols=ALT_BASIC_TRAINING_COLS)"
   ]
  },
  {
   "cell_type": "markdown",
   "metadata": {},
   "source": [
    "# MASS TRAINING (Humans achieve 45% +- 20%)"
   ]
  },
  {
   "cell_type": "markdown",
   "metadata": {},
   "source": [
    "## Read dataset and preprocess it"
   ]
  },
  {
   "cell_type": "markdown",
   "metadata": {},
   "source": [
    "scaler = joblib.load(\"scalers/passive_mass_scaler.sk\")"
   ]
  },
  {
   "cell_type": "code",
   "execution_count": null,
   "metadata": {
    "scrolled": true
   },
   "outputs": [],
   "source": [
    "loaders, scaler = prepare_dataset([train_trials, val_trials, test_trials], training_columns=BASIC_TRAINING_COLS, \n",
    "                                  class_columns=MASS_CLASS_COLS, batch_size=BATCH_SIZE, \n",
    "                                  normalise_data=NORMALISE_DATA, categorical_columns=MOUSE_CONTROL_COLS)"
   ]
  },
  {
   "cell_type": "code",
   "execution_count": null,
   "metadata": {},
   "outputs": [],
   "source": [
    "train_loader, val_loader, test_loader = loaders"
   ]
  },
  {
   "cell_type": "code",
   "execution_count": null,
   "metadata": {},
   "outputs": [],
   "source": [
    "class_proportions(train_loader)\n",
    "class_proportions(val_loader)\n",
    "class_proportions(test_loader)"
   ]
  },
  {
   "cell_type": "markdown",
   "metadata": {},
   "source": [
    "## Define model, loss and optimizer"
   ]
  },
  {
   "cell_type": "markdown",
   "metadata": {},
   "source": [
    "## Train model and plot loss and accuracy"
   ]
  },
  {
   "cell_type": "code",
   "execution_count": null,
   "metadata": {},
   "outputs": [],
   "source": [
    "model_path = \"models/passive_mass_model.pt\"\n",
    "model = ComplexRNNModel(*network_dims, DROPOUT)\n",
    "model.load_state_dict(torch.load(model_path))\n",
    "model.train()\n",
    "model = model.cuda()\n",
    "model.rec_layer.requires_grad = True\n",
    "\n",
    "error = nn.CrossEntropyLoss().cuda()\n",
    "optimizer = torch.optim.Adam(model.parameters(), lr=0.01)"
   ]
  },
  {
   "cell_type": "code",
   "execution_count": null,
   "metadata": {
    "scrolled": true
   },
   "outputs": [],
   "source": [
    "epoch_losses, epoch_accuracies, best_model = training_loop(model, optimizer, error, train_loader, val_loader, EPOCHS, \n",
    "                                                           step_size=STEP_SIZE)"
   ]
  },
  {
   "cell_type": "code",
   "execution_count": null,
   "metadata": {},
   "outputs": [],
   "source": [
    "plt.plot(epoch_losses)\n",
    "plt.show()\n",
    "plt.plot(np.array(epoch_accuracies).T)\n",
    "plt.show()"
   ]
  },
  {
   "cell_type": "code",
   "execution_count": null,
   "metadata": {},
   "outputs": [],
   "source": [
    "max(epoch_accuracies[1])"
   ]
  },
  {
   "cell_type": "markdown",
   "metadata": {},
   "source": [
    "## Save model and scaler"
   ]
  },
  {
   "cell_type": "code",
   "execution_count": null,
   "metadata": {},
   "outputs": [],
   "source": [
    "torch.save(best_model.state_dict(), \"models/yoked_mass_model.pt\")\n",
    "joblib.dump(scaler, \"scalers/yoked_mass_scaler.sk\")"
   ]
  },
  {
   "cell_type": "markdown",
   "metadata": {},
   "source": [
    "## Load model and evaluate"
   ]
  },
  {
   "cell_type": "code",
   "execution_count": null,
   "metadata": {},
   "outputs": [],
   "source": [
    "model_path = \"models/yoked_mass_model.pt\"\n",
    "scaler_path = \"scalers/yoked_mass_scaler.sk\"\n",
    "network_dims = (INPUT_DIM, HIDDEN_DIM, N_LAYERS, OUTPUT_DIM)\n",
    "class_columns = MASS_CLASS_COLS\n",
    "\n",
    "evaluate_saved_model(model_path, network_dims, None, BASIC_TRAINING_COLS,\n",
    "                     class_columns, step_size=STEP_SIZE, scaler_path=scaler_path, trials=test_trials)"
   ]
  }
 ],
 "metadata": {
  "kernelspec": {
   "display_name": "Python 3",
   "language": "python",
   "name": "python3"
  },
  "language_info": {
   "codemirror_mode": {
    "name": "ipython",
    "version": 3
   },
   "file_extension": ".py",
   "mimetype": "text/x-python",
   "name": "python",
   "nbconvert_exporter": "python",
   "pygments_lexer": "ipython3",
   "version": "3.5.6"
  }
 },
 "nbformat": 4,
 "nbformat_minor": 2
}
