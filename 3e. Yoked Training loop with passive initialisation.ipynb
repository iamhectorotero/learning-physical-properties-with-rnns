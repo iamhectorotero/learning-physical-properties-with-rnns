{
 "cells": [
  {
   "cell_type": "code",
   "execution_count": 1,
   "metadata": {},
   "outputs": [],
   "source": [
    "import pandas as pd\n",
    "import numpy as np\n",
    "import torch\n",
    "import torch.utils.data\n",
    "import torch.nn as nn\n",
    "from torch.autograd import Variable\n",
    "import joblib\n",
    "from tqdm import tqdm\n",
    "import matplotlib.pyplot as plt"
   ]
  },
  {
   "cell_type": "code",
   "execution_count": 2,
   "metadata": {},
   "outputs": [
    {
     "data": {
      "text/plain": [
       "True"
      ]
     },
     "execution_count": 2,
     "metadata": {},
     "output_type": "execute_result"
    }
   ],
   "source": [
    "torch.cuda.is_available()"
   ]
  },
  {
   "cell_type": "code",
   "execution_count": 3,
   "metadata": {},
   "outputs": [],
   "source": [
    "from isaac.dataset import read_dataset, prepare_dataset, sample_subsequences, split_in_subsequences, add_mouse_columns_to_passive_trials\n",
    "from isaac.utils import plot_confusion_matrix\n",
    "from isaac.models import RNNModel, ComplexRNNModel, initialise_model\n",
    "from isaac.constants import BASIC_TRAINING_COLS, FORCE_CLASS_COLS, MASS_CLASS_COLS, YOKED_TRAINING_COLS, MOUSE_COLS\n",
    "from isaac.training import evaluate, training_loop, evaluate_saved_model\n",
    "from isaac.sanity import class_proportions"
   ]
  },
  {
   "cell_type": "code",
   "execution_count": 4,
   "metadata": {},
   "outputs": [],
   "source": [
    "BATCH_SIZE = 128\n",
    "EPOCHS = 200\n",
    "NORMALISE_DATA = True\n",
    "STEP_SIZE = 2\n",
    "SEQ_END = 1800"
   ]
  },
  {
   "cell_type": "markdown",
   "metadata": {},
   "source": [
    "# Define common model, loss and optimizer"
   ]
  },
  {
   "cell_type": "code",
   "execution_count": 5,
   "metadata": {},
   "outputs": [],
   "source": [
    "INPUT_DIM = len(BASIC_TRAINING_COLS)    # input dimension\n",
    "HIDDEN_DIM = 25  # hidden layer dimension\n",
    "N_LAYERS = 4     # number of hidden layers\n",
    "OUTPUT_DIM = 3   # output dimension\n",
    "DROPOUT = 0.5\n",
    "\n",
    "network_dims = (INPUT_DIM, HIDDEN_DIM, N_LAYERS, OUTPUT_DIM)"
   ]
  },
  {
   "cell_type": "code",
   "execution_count": 6,
   "metadata": {
    "scrolled": true
   },
   "outputs": [
    {
     "name": "stderr",
     "output_type": "stream",
     "text": [
      "100%|██████████| 143/143 [00:00<00:00, 170.70it/s]\n",
      "100%|██████████| 399/399 [00:06<00:00, 60.28it/s]\n",
      "100%|██████████| 399/399 [00:06<00:00, 58.97it/s]\n"
     ]
    }
   ],
   "source": [
    "exp1_trials = read_dataset(\"data/yoked_trials_exp1.h5\")\n",
    "exp2_mass_trials = read_dataset(\"data/mass_trials_exp2.h5\")\n",
    "exp2_force_trials = read_dataset(\"data/force_trials_exp2.h5\")\n",
    "\n",
    "first_half = [trial[:1801] for trial in exp1_trials]\n",
    "second_half = [trial[-1801:] for trial in exp1_trials]"
   ]
  },
  {
   "cell_type": "code",
   "execution_count": 34,
   "metadata": {},
   "outputs": [],
   "source": [
    "yoked_trials = first_half + second_half"
   ]
  },
  {
   "cell_type": "markdown",
   "metadata": {},
   "source": [
    "for trial in tqdm(yoked_trials):\n",
    "    trial.mouseX = trial.mouseX * (trial.idControlledObject != \"none\").astype(int)\n",
    "    trial.mouseY = trial.mouseY * (trial.idControlledObject != \"none\").astype(int)"
   ]
  },
  {
   "cell_type": "code",
   "execution_count": 48,
   "metadata": {},
   "outputs": [],
   "source": [
    "np.random.seed(0)\n",
    "indices = np.arange(len(yoked_trials))\n",
    "test_indices = np.random.choice(indices, 1, replace=False)\n",
    "val_indices = np.random.choice(list(set(indices) - set(test_indices)), 100, replace=False)\n",
    "train_indices = list(set(indices) - set(test_indices) - set(val_indices))\n",
    "\n",
    "train_trials = [yoked_trials[i] for i in train_indices]\n",
    "val_trials = [yoked_trials[i] for i in val_indices]\n",
    "test_trials = [yoked_trials[i] for i in test_indices]"
   ]
  },
  {
   "cell_type": "markdown",
   "metadata": {},
   "source": [
    "train_trials = exp2_force_trials + exp2_mass_trials\n",
    "val_trials = first_half\n",
    "test_trials = second_half"
   ]
  },
  {
   "cell_type": "code",
   "execution_count": 49,
   "metadata": {
    "scrolled": true
   },
   "outputs": [
    {
     "data": {
      "text/plain": [
       "(185, 100, 1)"
      ]
     },
     "execution_count": 49,
     "metadata": {},
     "output_type": "execute_result"
    }
   ],
   "source": [
    "len(train_trials), len(val_trials), len(test_trials)"
   ]
  },
  {
   "cell_type": "markdown",
   "metadata": {},
   "source": [
    "# FORCE TRAINING  (Humans achieve 63% +- 21%)"
   ]
  },
  {
   "cell_type": "markdown",
   "metadata": {},
   "source": [
    "## Read dataset and preprocess it"
   ]
  },
  {
   "cell_type": "code",
   "execution_count": 50,
   "metadata": {},
   "outputs": [],
   "source": [
    "scaler_path = \"scalers/passive_force_scaler.sk\"\n",
    "scaler = joblib.load(scaler_path)"
   ]
  },
  {
   "cell_type": "code",
   "execution_count": 51,
   "metadata": {
    "scrolled": true
   },
   "outputs": [
    {
     "name": "stderr",
     "output_type": "stream",
     "text": [
      "\n",
      "  0%|          | 0/185 [00:00<?, ?it/s]\u001b[A\n",
      " 64%|██████▍   | 119/185 [00:00<00:00, 1188.21it/s]\u001b[A\n",
      "100%|██████████| 185/185 [00:00<00:00, 1186.79it/s]\u001b[A\n",
      "  0%|          | 0/100 [00:00<?, ?it/s]\u001b[A\n",
      "100%|██████████| 100/100 [00:00<00:00, 1027.18it/s]\u001b[A\n",
      "  0%|          | 0/1 [00:00<?, ?it/s]\u001b[A\n",
      "100%|██████████| 1/1 [00:00<00:00, 387.43it/s]\u001b[A"
     ]
    }
   ],
   "source": [
    "loaders, scaler = prepare_dataset([train_trials, val_trials, test_trials], class_columns=FORCE_CLASS_COLS, \n",
    "                                  training_columns=BASIC_TRAINING_COLS,\n",
    "                                  batch_size=BATCH_SIZE, normalise_data=NORMALISE_DATA)"
   ]
  },
  {
   "cell_type": "code",
   "execution_count": 52,
   "metadata": {},
   "outputs": [],
   "source": [
    "train_loader, val_loader, test_loader = loaders"
   ]
  },
  {
   "cell_type": "code",
   "execution_count": 53,
   "metadata": {},
   "outputs": [
    {
     "name": "stdout",
     "output_type": "stream",
     "text": [
      "[47 85 53]\n",
      "Majority class:  0.4594594594594595\n",
      "\n",
      "[31 45 24]\n",
      "Majority class:  0.45\n",
      "\n",
      "[1]\n",
      "Majority class:  1.0\n"
     ]
    }
   ],
   "source": [
    "class_proportions(train_loader)\n",
    "print()\n",
    "class_proportions(val_loader)\n",
    "print()\n",
    "class_proportions(test_loader)"
   ]
  },
  {
   "cell_type": "markdown",
   "metadata": {},
   "source": [
    "## Define model, loss and optimizer"
   ]
  },
  {
   "cell_type": "code",
   "execution_count": 56,
   "metadata": {},
   "outputs": [
    {
     "data": {
      "text/plain": [
       "ComplexRNNModel(\n",
       "  (rec_one): GRU(16, 25, num_layers=2, batch_first=True, dropout=0.5)\n",
       "  (rec_two): GRU(25, 25, num_layers=2, batch_first=True, dropout=0.5)\n",
       "  (fc): Linear(in_features=25, out_features=3, bias=True)\n",
       ")"
      ]
     },
     "execution_count": 56,
     "metadata": {},
     "output_type": "execute_result"
    }
   ],
   "source": [
    "model_path = \"models/passive_force_model.pt\"\n",
    "model = ComplexRNNModel(*network_dims, DROPOUT)\n",
    "model.load_state_dict(torch.load(model_path))\n",
    "model = model.cuda()\n",
    "model.rec_one.requires_grad = False\n",
    "\n",
    "error = nn.CrossEntropyLoss().cuda()\n",
    "optimizer = torch.optim.Adam(model.parameters(), lr=0.0005)\n",
    "model.train()"
   ]
  },
  {
   "cell_type": "markdown",
   "metadata": {},
   "source": [
    "model_path = \"models/passive_force_model.pt\"\n",
    "pretrained_model = ComplexRNNModel(*network_dims, DROPOUT)\n",
    "pretrained_model.load_state_dict(torch.load(model_path))\n",
    "\n",
    "class DualRNNModel(nn.Module):\n",
    "    def __init__(self, dropout=0.):\n",
    "        super(DualRNNModel, self).__init__()\n",
    "        # RNN\n",
    "        self.lstm = pretrained_model.lstm\n",
    "        self.gru = nn.GRU(25 + 7, 20, 2, batch_first=True, dropout=dropout)\n",
    "        # Readout layer\n",
    "        self.fc = nn.Linear(20, 3)\n",
    "    \n",
    "    def forward(self, x):\n",
    "        obj = x[:, : , :-7]\n",
    "        mouse = x[:, :, -7:]\n",
    "        \n",
    "        out, _ = self.lstm(obj)\n",
    "        \n",
    "        out = torch.cat((out, mouse), dim=2)\n",
    "        out, _ = self.gru(out)\n",
    "        \n",
    "        out = self.fc(out[:, -1, :]) \n",
    "        return out"
   ]
  },
  {
   "cell_type": "markdown",
   "metadata": {},
   "source": [
    "dual = DualRNNModel(DROPOUT)\n",
    "error = nn.CrossEntropyLoss().cuda()\n",
    "\n",
    "dual.lstm.requires_grad = True\n",
    "optimizer = torch.optim.Adam(dual.parameters(), lr=0.0001)\n",
    "\n",
    "dual.train()\n",
    "dual = dual.cuda()"
   ]
  },
  {
   "cell_type": "markdown",
   "metadata": {},
   "source": [
    "## Train model and plot loss and accuracy"
   ]
  },
  {
   "cell_type": "code",
   "execution_count": 57,
   "metadata": {
    "scrolled": true
   },
   "outputs": [
    {
     "name": "stderr",
     "output_type": "stream",
     "text": [
      "\n",
      "\n",
      "  0%|          | 0/200 [00:00<?, ?it/s]\u001b[A\u001b[A\n",
      "\n",
      "Train_loss (2.93)\t Train_acc (47.03)\t Val_acc (48.00):   0%|          | 0/200 [00:00<?, ?it/s]\u001b[A\u001b[A\n",
      "\n",
      "Train_loss (2.93)\t Train_acc (47.03)\t Val_acc (48.00):   0%|          | 1/200 [00:00<02:24,  1.38it/s]\u001b[A\u001b[A\n",
      "\n",
      "Train_loss (2.87)\t Train_acc (48.11)\t Val_acc (49.00):   0%|          | 1/200 [00:01<02:24,  1.38it/s]\u001b[A\u001b[A\n",
      "\n",
      "Train_loss (2.87)\t Train_acc (48.11)\t Val_acc (49.00):   1%|          | 2/200 [00:01<02:21,  1.40it/s]\u001b[A\u001b[A\n",
      "\n",
      "Train_loss (2.77)\t Train_acc (49.19)\t Val_acc (50.00):   1%|          | 2/200 [00:02<02:21,  1.40it/s]\u001b[A\u001b[A\n",
      "\n",
      "Train_loss (2.77)\t Train_acc (49.19)\t Val_acc (50.00):   2%|▏         | 3/200 [00:02<02:18,  1.42it/s]\u001b[A\u001b[A\n",
      "\n",
      "Train_loss (2.72)\t Train_acc (49.19)\t Val_acc (50.00):   2%|▏         | 3/200 [00:02<02:18,  1.42it/s]\u001b[A\u001b[A\n",
      "\n",
      "Train_loss (2.72)\t Train_acc (49.19)\t Val_acc (50.00):   2%|▏         | 4/200 [00:02<02:14,  1.46it/s]\u001b[A\u001b[A\n",
      "\n",
      "Train_loss (2.60)\t Train_acc (49.73)\t Val_acc (50.00):   2%|▏         | 4/200 [00:03<02:14,  1.46it/s]\u001b[A\u001b[A\n",
      "\n",
      "Train_loss (2.60)\t Train_acc (49.73)\t Val_acc (50.00):   2%|▎         | 5/200 [00:03<02:15,  1.44it/s]\u001b[A\u001b[A\n",
      "\n",
      "Train_loss (2.47)\t Train_acc (51.35)\t Val_acc (50.00):   2%|▎         | 5/200 [00:04<02:15,  1.44it/s]\u001b[A\u001b[A\n",
      "\n",
      "Train_loss (2.47)\t Train_acc (51.35)\t Val_acc (50.00):   3%|▎         | 6/200 [00:04<02:15,  1.44it/s]\u001b[A\u001b[A\n",
      "\n",
      "Train_loss (2.45)\t Train_acc (51.35)\t Val_acc (49.00):   3%|▎         | 6/200 [00:04<02:15,  1.44it/s]\u001b[A\u001b[A\n",
      "\n",
      "Train_loss (2.45)\t Train_acc (51.35)\t Val_acc (49.00):   4%|▎         | 7/200 [00:04<02:13,  1.44it/s]\u001b[A\u001b[A\n",
      "\n",
      "Train_loss (2.42)\t Train_acc (51.89)\t Val_acc (49.00):   4%|▎         | 7/200 [00:05<02:13,  1.44it/s]\u001b[A\u001b[A\n",
      "\n",
      "Train_loss (2.42)\t Train_acc (51.89)\t Val_acc (49.00):   4%|▍         | 8/200 [00:05<02:13,  1.44it/s]\u001b[A\u001b[A\n",
      "\n",
      "Train_loss (2.22)\t Train_acc (52.97)\t Val_acc (49.00):   4%|▍         | 8/200 [00:06<02:13,  1.44it/s]\u001b[A\u001b[A\n",
      "\n",
      "Train_loss (2.22)\t Train_acc (52.97)\t Val_acc (49.00):   4%|▍         | 9/200 [00:06<02:13,  1.44it/s]\u001b[A\u001b[A\n",
      "\n",
      "Train_loss (2.18)\t Train_acc (54.05)\t Val_acc (49.00):   4%|▍         | 9/200 [00:06<02:13,  1.44it/s]\u001b[A\u001b[A\n",
      "\n",
      "Train_loss (2.18)\t Train_acc (54.05)\t Val_acc (49.00):   5%|▌         | 10/200 [00:06<02:10,  1.45it/s]\u001b[A\u001b[A\n",
      "\n",
      "Train_loss (2.15)\t Train_acc (54.05)\t Val_acc (50.00):   5%|▌         | 10/200 [00:07<02:10,  1.45it/s]\u001b[A\u001b[A\n",
      "\n",
      "Train_loss (2.15)\t Train_acc (54.05)\t Val_acc (50.00):   6%|▌         | 11/200 [00:07<02:09,  1.46it/s]\u001b[A\u001b[A\n",
      "\n",
      "Train_loss (2.09)\t Train_acc (55.14)\t Val_acc (50.00):   6%|▌         | 11/200 [00:08<02:09,  1.46it/s]\u001b[A\u001b[A\n",
      "\n",
      "Train_loss (2.09)\t Train_acc (55.14)\t Val_acc (50.00):   6%|▌         | 12/200 [00:08<02:08,  1.46it/s]\u001b[A\u001b[A\n",
      "\n",
      "Train_loss (2.02)\t Train_acc (54.05)\t Val_acc (52.00):   6%|▌         | 12/200 [00:08<02:08,  1.46it/s]\u001b[A\u001b[A\n",
      "\n",
      "Train_loss (2.02)\t Train_acc (54.05)\t Val_acc (52.00):   6%|▋         | 13/200 [00:08<02:07,  1.46it/s]\u001b[A\u001b[A\n",
      "\n",
      "Train_loss (1.89)\t Train_acc (54.05)\t Val_acc (52.00):   6%|▋         | 13/200 [00:09<02:07,  1.46it/s]\u001b[A\u001b[A\n",
      "\n",
      "Train_loss (1.89)\t Train_acc (54.05)\t Val_acc (52.00):   7%|▋         | 14/200 [00:09<02:06,  1.47it/s]\u001b[A\u001b[A\n",
      "\n",
      "Train_loss (1.85)\t Train_acc (54.05)\t Val_acc (52.00):   7%|▋         | 14/200 [00:10<02:06,  1.47it/s]\u001b[A\u001b[A\n",
      "\n",
      "Train_loss (1.85)\t Train_acc (54.05)\t Val_acc (52.00):   8%|▊         | 15/200 [00:10<02:06,  1.47it/s]\u001b[A\u001b[A\n",
      "\n",
      "Train_loss (1.85)\t Train_acc (54.05)\t Val_acc (52.00):   8%|▊         | 15/200 [00:10<02:06,  1.47it/s]\u001b[A\u001b[A\n",
      "\n",
      "Train_loss (1.85)\t Train_acc (54.05)\t Val_acc (52.00):   8%|▊         | 16/200 [00:10<02:04,  1.47it/s]\u001b[A\u001b[A\n",
      "\n",
      "Train_loss (1.82)\t Train_acc (54.05)\t Val_acc (52.00):   8%|▊         | 16/200 [00:11<02:04,  1.47it/s]\u001b[A\u001b[A\n",
      "\n",
      "Train_loss (1.82)\t Train_acc (54.05)\t Val_acc (52.00):   8%|▊         | 17/200 [00:11<02:02,  1.49it/s]\u001b[A\u001b[A\n",
      "\n",
      "Train_loss (1.65)\t Train_acc (53.51)\t Val_acc (52.00):   8%|▊         | 17/200 [00:12<02:02,  1.49it/s]\u001b[A\u001b[A\n",
      "\n",
      "Train_loss (1.65)\t Train_acc (53.51)\t Val_acc (52.00):   9%|▉         | 18/200 [00:12<02:01,  1.50it/s]\u001b[A\u001b[A\n",
      "\n",
      "Train_loss (1.66)\t Train_acc (54.59)\t Val_acc (52.00):   9%|▉         | 18/200 [00:12<02:01,  1.50it/s]\u001b[A\u001b[A\n",
      "\n",
      "Train_loss (1.66)\t Train_acc (54.59)\t Val_acc (52.00):  10%|▉         | 19/200 [00:12<02:00,  1.51it/s]\u001b[A\u001b[A\n",
      "\n",
      "Train_loss (1.58)\t Train_acc (55.68)\t Val_acc (54.00):  10%|▉         | 19/200 [00:13<02:00,  1.51it/s]\u001b[A\u001b[A\n",
      "\n",
      "Train_loss (1.58)\t Train_acc (55.68)\t Val_acc (54.00):  10%|█         | 20/200 [00:13<01:58,  1.51it/s]\u001b[A\u001b[A\n",
      "\n",
      "Train_loss (1.62)\t Train_acc (55.68)\t Val_acc (55.00):  10%|█         | 20/200 [00:14<01:58,  1.51it/s]\u001b[A\u001b[A\n",
      "\n",
      "Train_loss (1.62)\t Train_acc (55.68)\t Val_acc (55.00):  10%|█         | 21/200 [00:14<01:58,  1.52it/s]\u001b[A\u001b[A\n",
      "\n",
      "Train_loss (1.55)\t Train_acc (56.22)\t Val_acc (55.00):  10%|█         | 21/200 [00:14<01:58,  1.52it/s]\u001b[A\u001b[A\n",
      "\n",
      "Train_loss (1.55)\t Train_acc (56.22)\t Val_acc (55.00):  11%|█         | 22/200 [00:14<01:57,  1.52it/s]\u001b[A\u001b[A\n",
      "\n",
      "Train_loss (1.58)\t Train_acc (56.22)\t Val_acc (54.00):  11%|█         | 22/200 [00:15<01:57,  1.52it/s]\u001b[A\u001b[A\n",
      "\n",
      "Train_loss (1.58)\t Train_acc (56.22)\t Val_acc (54.00):  12%|█▏        | 23/200 [00:15<01:56,  1.52it/s]\u001b[A\u001b[A\n",
      "\n",
      "Train_loss (1.46)\t Train_acc (56.22)\t Val_acc (52.00):  12%|█▏        | 23/200 [00:16<01:56,  1.52it/s]\u001b[A\u001b[A\n",
      "\n",
      "Train_loss (1.46)\t Train_acc (56.22)\t Val_acc (52.00):  12%|█▏        | 24/200 [00:16<01:55,  1.52it/s]\u001b[A\u001b[A\n",
      "\n",
      "Train_loss (1.46)\t Train_acc (57.30)\t Val_acc (52.00):  12%|█▏        | 24/200 [00:16<01:55,  1.52it/s]\u001b[A\u001b[A\n",
      "\n",
      "Train_loss (1.46)\t Train_acc (57.30)\t Val_acc (52.00):  12%|█▎        | 25/200 [00:16<01:55,  1.51it/s]\u001b[A\u001b[A\n",
      "\n",
      "Train_loss (1.36)\t Train_acc (58.38)\t Val_acc (51.00):  12%|█▎        | 25/200 [00:17<01:55,  1.51it/s]\u001b[A\u001b[A\n",
      "\n",
      "Train_loss (1.36)\t Train_acc (58.38)\t Val_acc (51.00):  13%|█▎        | 26/200 [00:17<01:57,  1.48it/s]\u001b[A\u001b[A\n",
      "\n",
      "Train_loss (1.37)\t Train_acc (58.38)\t Val_acc (51.00):  13%|█▎        | 26/200 [00:18<01:57,  1.48it/s]\u001b[A\u001b[A\n",
      "\n",
      "Train_loss (1.37)\t Train_acc (58.38)\t Val_acc (51.00):  14%|█▎        | 27/200 [00:18<01:59,  1.45it/s]\u001b[A\u001b[A\n",
      "\n",
      "Train_loss (1.33)\t Train_acc (57.84)\t Val_acc (51.00):  14%|█▎        | 27/200 [00:19<01:59,  1.45it/s]\u001b[A\u001b[A\n",
      "\n",
      "Train_loss (1.33)\t Train_acc (57.84)\t Val_acc (51.00):  14%|█▍        | 28/200 [00:19<02:00,  1.43it/s]\u001b[A\u001b[A\n",
      "\n",
      "Train_loss (1.29)\t Train_acc (58.38)\t Val_acc (51.00):  14%|█▍        | 28/200 [00:19<02:00,  1.43it/s]\u001b[A\u001b[A\n",
      "\n",
      "Train_loss (1.29)\t Train_acc (58.38)\t Val_acc (51.00):  14%|█▍        | 29/200 [00:19<02:00,  1.42it/s]\u001b[A\u001b[A\n",
      "\n",
      "Train_loss (1.29)\t Train_acc (58.92)\t Val_acc (51.00):  14%|█▍        | 29/200 [00:20<02:00,  1.42it/s]\u001b[A\u001b[A\n",
      "\n",
      "Train_loss (1.29)\t Train_acc (58.92)\t Val_acc (51.00):  15%|█▌        | 30/200 [00:20<02:00,  1.41it/s]\u001b[A\u001b[A\n",
      "\n",
      "Train_loss (1.28)\t Train_acc (59.46)\t Val_acc (52.00):  15%|█▌        | 30/200 [00:21<02:00,  1.41it/s]\u001b[A\u001b[A\n",
      "\n",
      "Train_loss (1.28)\t Train_acc (59.46)\t Val_acc (52.00):  16%|█▌        | 31/200 [00:21<02:01,  1.39it/s]\u001b[A\u001b[A\n",
      "\n",
      "Train_loss (1.18)\t Train_acc (60.00)\t Val_acc (53.00):  16%|█▌        | 31/200 [00:21<02:01,  1.39it/s]\u001b[A\u001b[A\n",
      "\n",
      "Train_loss (1.18)\t Train_acc (60.00)\t Val_acc (53.00):  16%|█▌        | 32/200 [00:21<02:02,  1.38it/s]\u001b[A\u001b[A\n",
      "\n",
      "Train_loss (1.13)\t Train_acc (60.00)\t Val_acc (53.00):  16%|█▌        | 32/200 [00:22<02:02,  1.38it/s]\u001b[A\u001b[A\n",
      "\n",
      "Train_loss (1.13)\t Train_acc (60.00)\t Val_acc (53.00):  16%|█▋        | 33/200 [00:22<02:02,  1.37it/s]\u001b[A\u001b[A\n",
      "\n",
      "Train_loss (1.22)\t Train_acc (59.46)\t Val_acc (53.00):  16%|█▋        | 33/200 [00:23<02:02,  1.37it/s]\u001b[A\u001b[A\n",
      "\n",
      "Train_loss (1.22)\t Train_acc (59.46)\t Val_acc (53.00):  17%|█▋        | 34/200 [00:23<01:57,  1.41it/s]\u001b[A\u001b[A\n",
      "\n",
      "Train_loss (1.16)\t Train_acc (60.00)\t Val_acc (53.00):  17%|█▋        | 34/200 [00:24<01:57,  1.41it/s]\u001b[A\u001b[A\n",
      "\n",
      "Train_loss (1.16)\t Train_acc (60.00)\t Val_acc (53.00):  18%|█▊        | 35/200 [00:24<01:54,  1.45it/s]\u001b[A\u001b[A\n",
      "\n",
      "Train_loss (1.12)\t Train_acc (60.00)\t Val_acc (53.00):  18%|█▊        | 35/200 [00:24<01:54,  1.45it/s]\u001b[A\u001b[A\n",
      "\n",
      "Train_loss (1.12)\t Train_acc (60.00)\t Val_acc (53.00):  18%|█▊        | 36/200 [00:24<01:51,  1.47it/s]\u001b[A\u001b[A\n",
      "\n",
      "Train_loss (1.11)\t Train_acc (60.54)\t Val_acc (53.00):  18%|█▊        | 36/200 [00:25<01:51,  1.47it/s]\u001b[A\u001b[A\n",
      "\n"
     ]
    },
    {
     "name": "stderr",
     "output_type": "stream",
     "text": [
      "Train_loss (1.11)\t Train_acc (60.54)\t Val_acc (53.00):  18%|█▊        | 37/200 [00:25<01:51,  1.47it/s]\u001b[A\u001b[A\n",
      "\n",
      "Train_loss (1.06)\t Train_acc (60.00)\t Val_acc (52.00):  18%|█▊        | 37/200 [00:26<01:51,  1.47it/s]\u001b[A\u001b[A\n",
      "\n",
      "Train_loss (1.06)\t Train_acc (60.00)\t Val_acc (52.00):  19%|█▉        | 38/200 [00:26<01:49,  1.48it/s]\u001b[A\u001b[A\n",
      "\n",
      "Train_loss (1.02)\t Train_acc (60.00)\t Val_acc (51.00):  19%|█▉        | 38/200 [00:26<01:49,  1.48it/s]\u001b[A\u001b[A\n",
      "\n",
      "Train_loss (1.02)\t Train_acc (60.00)\t Val_acc (51.00):  20%|█▉        | 39/200 [00:26<01:47,  1.50it/s]\u001b[A\u001b[A\n",
      "\n",
      "Train_loss (1.07)\t Train_acc (60.00)\t Val_acc (51.00):  20%|█▉        | 39/200 [00:27<01:47,  1.50it/s]\u001b[A\u001b[A\n",
      "\n",
      "Train_loss (1.07)\t Train_acc (60.00)\t Val_acc (51.00):  20%|██        | 40/200 [00:27<01:45,  1.52it/s]\u001b[A\u001b[A\n",
      "\n",
      "Train_loss (1.09)\t Train_acc (60.00)\t Val_acc (50.00):  20%|██        | 40/200 [00:27<01:45,  1.52it/s]\u001b[A\u001b[A\n",
      "\n",
      "Train_loss (1.09)\t Train_acc (60.00)\t Val_acc (50.00):  20%|██        | 41/200 [00:27<01:44,  1.53it/s]\u001b[A\u001b[A\n",
      "\n",
      "Train_loss (1.01)\t Train_acc (60.00)\t Val_acc (49.00):  20%|██        | 41/200 [00:28<01:44,  1.53it/s]\u001b[A\u001b[A\n",
      "\n",
      "Train_loss (1.01)\t Train_acc (60.00)\t Val_acc (49.00):  21%|██        | 42/200 [00:28<01:43,  1.53it/s]\u001b[A\u001b[A\n",
      "\n",
      "Train_loss (1.00)\t Train_acc (61.08)\t Val_acc (49.00):  21%|██        | 42/200 [00:29<01:43,  1.53it/s]\u001b[A\u001b[A\n",
      "\n",
      "Train_loss (1.00)\t Train_acc (61.08)\t Val_acc (49.00):  22%|██▏       | 43/200 [00:29<01:42,  1.53it/s]\u001b[A\u001b[A\n",
      "\n",
      "Train_loss (1.01)\t Train_acc (61.08)\t Val_acc (51.00):  22%|██▏       | 43/200 [00:29<01:42,  1.53it/s]\u001b[A\u001b[A\n",
      "\n",
      "Train_loss (1.01)\t Train_acc (61.08)\t Val_acc (51.00):  22%|██▏       | 44/200 [00:29<01:41,  1.54it/s]\u001b[A\u001b[A\n",
      "\n",
      "Train_loss (0.96)\t Train_acc (61.08)\t Val_acc (51.00):  22%|██▏       | 44/200 [00:30<01:41,  1.54it/s]\u001b[A\u001b[A\n",
      "\n",
      "Train_loss (0.96)\t Train_acc (61.08)\t Val_acc (51.00):  22%|██▎       | 45/200 [00:30<01:40,  1.54it/s]\u001b[A\u001b[A\n",
      "\n",
      "Train_loss (0.97)\t Train_acc (62.70)\t Val_acc (51.00):  22%|██▎       | 45/200 [00:31<01:40,  1.54it/s]\u001b[A\u001b[A\n",
      "\n",
      "Train_loss (0.97)\t Train_acc (62.70)\t Val_acc (51.00):  23%|██▎       | 46/200 [00:31<01:40,  1.53it/s]\u001b[A\u001b[A\n",
      "\n",
      "Train_loss (1.00)\t Train_acc (63.24)\t Val_acc (51.00):  23%|██▎       | 46/200 [00:31<01:40,  1.53it/s]\u001b[A\u001b[A\n",
      "\n",
      "Train_loss (1.00)\t Train_acc (63.24)\t Val_acc (51.00):  24%|██▎       | 47/200 [00:31<01:43,  1.47it/s]\u001b[A\u001b[A\n",
      "\n",
      "Train_loss (0.94)\t Train_acc (62.70)\t Val_acc (52.00):  24%|██▎       | 47/200 [00:32<01:43,  1.47it/s]\u001b[A\u001b[A\n",
      "\n",
      "Train_loss (0.94)\t Train_acc (62.70)\t Val_acc (52.00):  24%|██▍       | 48/200 [00:32<01:46,  1.43it/s]\u001b[A\u001b[A\n",
      "\n",
      "Train_loss (0.94)\t Train_acc (62.70)\t Val_acc (52.00):  24%|██▍       | 48/200 [00:33<01:46,  1.43it/s]\u001b[A\u001b[A\n",
      "\n",
      "Train_loss (0.94)\t Train_acc (62.70)\t Val_acc (52.00):  24%|██▍       | 49/200 [00:33<01:48,  1.39it/s]\u001b[A\u001b[A\n",
      "\n",
      "Train_loss (0.89)\t Train_acc (62.70)\t Val_acc (52.00):  24%|██▍       | 49/200 [00:34<01:48,  1.39it/s]\u001b[A\u001b[A\n",
      "\n",
      "Train_loss (0.89)\t Train_acc (62.70)\t Val_acc (52.00):  25%|██▌       | 50/200 [00:34<01:46,  1.41it/s]\u001b[A\u001b[A\n",
      "\n",
      "Train_loss (0.94)\t Train_acc (63.24)\t Val_acc (51.00):  25%|██▌       | 50/200 [00:34<01:46,  1.41it/s]\u001b[A\u001b[A\n",
      "\n",
      "Train_loss (0.94)\t Train_acc (63.24)\t Val_acc (51.00):  26%|██▌       | 51/200 [00:34<01:43,  1.43it/s]\u001b[A\u001b[A\n",
      "\n",
      "Train_loss (0.89)\t Train_acc (64.32)\t Val_acc (51.00):  26%|██▌       | 51/200 [00:35<01:43,  1.43it/s]\u001b[A\u001b[A\n",
      "\n",
      "Train_loss (0.89)\t Train_acc (64.32)\t Val_acc (51.00):  26%|██▌       | 52/200 [00:35<01:42,  1.44it/s]\u001b[A\u001b[A\n",
      "\n",
      "Train_loss (0.87)\t Train_acc (63.78)\t Val_acc (51.00):  26%|██▌       | 52/200 [00:36<01:42,  1.44it/s]\u001b[A\u001b[A\n",
      "\n",
      "Train_loss (0.87)\t Train_acc (63.78)\t Val_acc (51.00):  26%|██▋       | 53/200 [00:36<01:39,  1.47it/s]\u001b[A\u001b[A\n",
      "\n",
      "Train_loss (0.89)\t Train_acc (63.78)\t Val_acc (51.00):  26%|██▋       | 53/200 [00:36<01:39,  1.47it/s]\u001b[A\u001b[A\n",
      "\n",
      "Train_loss (0.89)\t Train_acc (63.78)\t Val_acc (51.00):  27%|██▋       | 54/200 [00:36<01:39,  1.47it/s]\u001b[A\u001b[A\n",
      "\n",
      "Train_loss (0.88)\t Train_acc (64.86)\t Val_acc (50.00):  27%|██▋       | 54/200 [00:37<01:39,  1.47it/s]\u001b[A\u001b[A\n",
      "\n",
      "Train_loss (0.88)\t Train_acc (64.86)\t Val_acc (50.00):  28%|██▊       | 55/200 [00:37<01:38,  1.47it/s]\u001b[A\u001b[A\n",
      "\n",
      "Train_loss (0.86)\t Train_acc (64.86)\t Val_acc (50.00):  28%|██▊       | 55/200 [00:38<01:38,  1.47it/s]\u001b[A\u001b[A\n",
      "\n",
      "Train_loss (0.86)\t Train_acc (64.86)\t Val_acc (50.00):  28%|██▊       | 56/200 [00:38<01:37,  1.47it/s]\u001b[A\u001b[A\n",
      "\n",
      "Train_loss (0.82)\t Train_acc (65.41)\t Val_acc (50.00):  28%|██▊       | 56/200 [00:38<01:37,  1.47it/s]\u001b[A\u001b[A\n",
      "\n",
      "Train_loss (0.82)\t Train_acc (65.41)\t Val_acc (50.00):  28%|██▊       | 57/200 [00:38<01:37,  1.47it/s]\u001b[A\u001b[A\n",
      "\n",
      "Train_loss (0.81)\t Train_acc (64.86)\t Val_acc (50.00):  28%|██▊       | 57/200 [00:39<01:37,  1.47it/s]\u001b[A\u001b[A\n",
      "\n",
      "Train_loss (0.81)\t Train_acc (64.86)\t Val_acc (50.00):  29%|██▉       | 58/200 [00:39<01:36,  1.48it/s]\u001b[A\u001b[A\n",
      "\n",
      "Train_loss (0.80)\t Train_acc (65.41)\t Val_acc (50.00):  29%|██▉       | 58/200 [00:40<01:36,  1.48it/s]\u001b[A\u001b[A\n",
      "\n",
      "Train_loss (0.80)\t Train_acc (65.41)\t Val_acc (50.00):  30%|██▉       | 59/200 [00:40<01:35,  1.48it/s]\u001b[A\u001b[A\n",
      "\n",
      "Train_loss (0.82)\t Train_acc (65.41)\t Val_acc (50.00):  30%|██▉       | 59/200 [00:40<01:35,  1.48it/s]\u001b[A\u001b[A\n",
      "\n",
      "Train_loss (0.82)\t Train_acc (65.41)\t Val_acc (50.00):  30%|███       | 60/200 [00:40<01:34,  1.48it/s]\u001b[A\u001b[A\n",
      "\n",
      "Train_loss (0.79)\t Train_acc (65.41)\t Val_acc (50.00):  30%|███       | 60/200 [00:41<01:34,  1.48it/s]\u001b[A\u001b[A\n",
      "\n",
      "Train_loss (0.79)\t Train_acc (65.41)\t Val_acc (50.00):  30%|███       | 61/200 [00:41<01:34,  1.48it/s]\u001b[A\u001b[A\n",
      "\n",
      "Train_loss (0.78)\t Train_acc (66.49)\t Val_acc (49.00):  30%|███       | 61/200 [00:42<01:34,  1.48it/s]\u001b[A\u001b[A\n",
      "\n",
      "Train_loss (0.78)\t Train_acc (66.49)\t Val_acc (49.00):  31%|███       | 62/200 [00:42<01:33,  1.48it/s]\u001b[A\u001b[A\n",
      "\n",
      "Train_loss (0.77)\t Train_acc (67.03)\t Val_acc (49.00):  31%|███       | 62/200 [00:42<01:33,  1.48it/s]\u001b[A\u001b[A\n",
      "\n",
      "Train_loss (0.77)\t Train_acc (67.03)\t Val_acc (49.00):  32%|███▏      | 63/200 [00:42<01:33,  1.47it/s]\u001b[A\u001b[A\n",
      "\n",
      "Train_loss (0.77)\t Train_acc (66.49)\t Val_acc (49.00):  32%|███▏      | 63/200 [00:43<01:33,  1.47it/s]\u001b[A\u001b[A\n",
      "\n",
      "Train_loss (0.77)\t Train_acc (66.49)\t Val_acc (49.00):  32%|███▏      | 64/200 [00:43<01:32,  1.47it/s]\u001b[A\u001b[A\n",
      "\n",
      "Train_loss (0.77)\t Train_acc (66.49)\t Val_acc (50.00):  32%|███▏      | 64/200 [00:44<01:32,  1.47it/s]\u001b[A\u001b[A\n",
      "\n",
      "Train_loss (0.77)\t Train_acc (66.49)\t Val_acc (50.00):  32%|███▎      | 65/200 [00:44<01:34,  1.43it/s]\u001b[A\u001b[A\n",
      "\n",
      "Train_loss (0.74)\t Train_acc (66.49)\t Val_acc (50.00):  32%|███▎      | 65/200 [00:45<01:34,  1.43it/s]\u001b[A\u001b[A\n",
      "\n",
      "Train_loss (0.74)\t Train_acc (66.49)\t Val_acc (50.00):  33%|███▎      | 66/200 [00:45<01:35,  1.41it/s]\u001b[A\u001b[A\n",
      "\n",
      "Train_loss (0.73)\t Train_acc (66.49)\t Val_acc (50.00):  33%|███▎      | 66/200 [00:45<01:35,  1.41it/s]\u001b[A\u001b[A\n",
      "\n",
      "Train_loss (0.73)\t Train_acc (66.49)\t Val_acc (50.00):  34%|███▎      | 67/200 [00:45<01:33,  1.43it/s]\u001b[A\u001b[A\n",
      "\n",
      "Train_loss (0.73)\t Train_acc (66.49)\t Val_acc (50.00):  34%|███▎      | 67/200 [00:46<01:33,  1.43it/s]\u001b[A\u001b[A\n",
      "\n",
      "Train_loss (0.73)\t Train_acc (66.49)\t Val_acc (50.00):  34%|███▍      | 68/200 [00:46<01:30,  1.45it/s]\u001b[A\u001b[A\n",
      "\n",
      "Train_loss (0.69)\t Train_acc (67.57)\t Val_acc (50.00):  34%|███▍      | 68/200 [00:47<01:30,  1.45it/s]\u001b[A\u001b[A\n",
      "\n",
      "Train_loss (0.69)\t Train_acc (67.57)\t Val_acc (50.00):  34%|███▍      | 69/200 [00:47<01:29,  1.46it/s]\u001b[A\u001b[A\n",
      "\n",
      "Train_loss (0.69)\t Train_acc (67.57)\t Val_acc (49.00):  34%|███▍      | 69/200 [00:47<01:29,  1.46it/s]\u001b[A\u001b[A\n",
      "\n",
      "Train_loss (0.69)\t Train_acc (67.57)\t Val_acc (49.00):  35%|███▌      | 70/200 [00:47<01:28,  1.46it/s]\u001b[A\u001b[A\n",
      "\n",
      "Train_loss (0.71)\t Train_acc (68.11)\t Val_acc (49.00):  35%|███▌      | 70/200 [00:48<01:28,  1.46it/s]\u001b[A\u001b[A\n",
      "\n",
      "Train_loss (0.71)\t Train_acc (68.11)\t Val_acc (49.00):  36%|███▌      | 71/200 [00:48<01:28,  1.46it/s]\u001b[A\u001b[A\n",
      "\n",
      "Train_loss (0.72)\t Train_acc (68.65)\t Val_acc (49.00):  36%|███▌      | 71/200 [00:49<01:28,  1.46it/s]\u001b[A\u001b[A\n",
      "\n",
      "Train_loss (0.72)\t Train_acc (68.65)\t Val_acc (49.00):  36%|███▌      | 72/200 [00:49<01:27,  1.47it/s]\u001b[A\u001b[A\n",
      "\n",
      "Train_loss (0.68)\t Train_acc (68.65)\t Val_acc (49.00):  36%|███▌      | 72/200 [00:49<01:27,  1.47it/s]\u001b[A\u001b[A\n",
      "\n",
      "Train_loss (0.68)\t Train_acc (68.65)\t Val_acc (49.00):  36%|███▋      | 73/200 [00:49<01:25,  1.49it/s]\u001b[A\u001b[A\n",
      "\n"
     ]
    },
    {
     "name": "stderr",
     "output_type": "stream",
     "text": [
      "Train_loss (0.68)\t Train_acc (68.65)\t Val_acc (49.00):  36%|███▋      | 73/200 [00:50<01:25,  1.49it/s]\u001b[A\u001b[A\n",
      "\n",
      "Train_loss (0.68)\t Train_acc (68.65)\t Val_acc (49.00):  37%|███▋      | 74/200 [00:50<01:24,  1.48it/s]\u001b[A\u001b[A\n",
      "\n",
      "Train_loss (0.69)\t Train_acc (68.11)\t Val_acc (49.00):  37%|███▋      | 74/200 [00:51<01:24,  1.48it/s]\u001b[A\u001b[A\n",
      "\n",
      "Train_loss (0.69)\t Train_acc (68.11)\t Val_acc (49.00):  38%|███▊      | 75/200 [00:51<01:23,  1.50it/s]\u001b[A\u001b[A\n",
      "\n",
      "Train_loss (0.66)\t Train_acc (68.11)\t Val_acc (48.00):  38%|███▊      | 75/200 [00:51<01:23,  1.50it/s]\u001b[A\u001b[A\n",
      "\n",
      "Train_loss (0.66)\t Train_acc (68.11)\t Val_acc (48.00):  38%|███▊      | 76/200 [00:51<01:21,  1.52it/s]\u001b[A\u001b[A\n",
      "\n",
      "Train_loss (0.66)\t Train_acc (68.11)\t Val_acc (49.00):  38%|███▊      | 76/200 [00:52<01:21,  1.52it/s]\u001b[A\u001b[A\n",
      "\n",
      "Train_loss (0.66)\t Train_acc (68.11)\t Val_acc (49.00):  38%|███▊      | 77/200 [00:52<01:20,  1.53it/s]\u001b[A\u001b[A\n",
      "\n",
      "Train_loss (0.64)\t Train_acc (69.19)\t Val_acc (49.00):  38%|███▊      | 77/200 [00:53<01:20,  1.53it/s]\u001b[A\u001b[A\n",
      "\n",
      "Train_loss (0.64)\t Train_acc (69.19)\t Val_acc (49.00):  39%|███▉      | 78/200 [00:53<01:19,  1.53it/s]\u001b[A\u001b[A\n",
      "\n",
      "Train_loss (0.67)\t Train_acc (69.19)\t Val_acc (49.00):  39%|███▉      | 78/200 [00:53<01:19,  1.53it/s]\u001b[A\u001b[A\n",
      "\n",
      "Train_loss (0.67)\t Train_acc (69.19)\t Val_acc (49.00):  40%|███▉      | 79/200 [00:53<01:18,  1.54it/s]\u001b[A\u001b[A\n",
      "\n",
      "Train_loss (0.62)\t Train_acc (69.19)\t Val_acc (49.00):  40%|███▉      | 79/200 [00:54<01:18,  1.54it/s]\u001b[A\u001b[A\n",
      "\n",
      "Train_loss (0.62)\t Train_acc (69.19)\t Val_acc (49.00):  40%|████      | 80/200 [00:54<01:18,  1.53it/s]\u001b[A\u001b[A\n",
      "\n",
      "Train_loss (0.64)\t Train_acc (69.73)\t Val_acc (49.00):  40%|████      | 80/200 [00:55<01:18,  1.53it/s]\u001b[A\u001b[A\n",
      "\n",
      "Train_loss (0.64)\t Train_acc (69.73)\t Val_acc (49.00):  40%|████      | 81/200 [00:55<01:17,  1.54it/s]\u001b[A\u001b[A\n",
      "\n",
      "Train_loss (0.65)\t Train_acc (69.73)\t Val_acc (49.00):  40%|████      | 81/200 [00:55<01:17,  1.54it/s]\u001b[A\u001b[A\n",
      "\n",
      "Train_loss (0.65)\t Train_acc (69.73)\t Val_acc (49.00):  41%|████      | 82/200 [00:55<01:16,  1.54it/s]\u001b[A\u001b[A\n",
      "\n",
      "Train_loss (0.62)\t Train_acc (70.27)\t Val_acc (49.00):  41%|████      | 82/200 [00:56<01:16,  1.54it/s]\u001b[A\u001b[A\n",
      "\n",
      "Train_loss (0.62)\t Train_acc (70.27)\t Val_acc (49.00):  42%|████▏     | 83/200 [00:56<01:15,  1.54it/s]\u001b[A\u001b[A\n",
      "\n",
      "Train_loss (0.60)\t Train_acc (70.27)\t Val_acc (49.00):  42%|████▏     | 83/200 [00:57<01:15,  1.54it/s]\u001b[A\u001b[A\n",
      "\n",
      "Train_loss (0.60)\t Train_acc (70.27)\t Val_acc (49.00):  42%|████▏     | 84/200 [00:57<01:17,  1.49it/s]\u001b[A\u001b[A\n",
      "\n",
      "Train_loss (0.58)\t Train_acc (70.27)\t Val_acc (49.00):  42%|████▏     | 84/200 [00:57<01:17,  1.49it/s]\u001b[A\u001b[A\n",
      "\n",
      "Train_loss (0.58)\t Train_acc (70.27)\t Val_acc (49.00):  42%|████▎     | 85/200 [00:57<01:18,  1.46it/s]\u001b[A\u001b[A\n",
      "\n",
      "Train_loss (0.57)\t Train_acc (71.35)\t Val_acc (49.00):  42%|████▎     | 85/200 [00:58<01:18,  1.46it/s]\u001b[A\u001b[A\n",
      "\n",
      "Train_loss (0.57)\t Train_acc (71.35)\t Val_acc (49.00):  43%|████▎     | 86/200 [00:58<01:19,  1.43it/s]\u001b[A\u001b[A\n",
      "\n",
      "Train_loss (0.56)\t Train_acc (71.89)\t Val_acc (48.00):  43%|████▎     | 86/200 [00:59<01:19,  1.43it/s]\u001b[A\u001b[A\n",
      "\n",
      "Train_loss (0.56)\t Train_acc (71.89)\t Val_acc (48.00):  44%|████▎     | 87/200 [00:59<01:19,  1.42it/s]\u001b[A\u001b[A\n",
      "\n",
      "Train_loss (0.58)\t Train_acc (72.43)\t Val_acc (48.00):  44%|████▎     | 87/200 [00:59<01:19,  1.42it/s]\u001b[A\u001b[A\n",
      "\n",
      "Train_loss (0.58)\t Train_acc (72.43)\t Val_acc (48.00):  44%|████▍     | 88/200 [00:59<01:17,  1.45it/s]\u001b[A\u001b[A\n",
      "\n",
      "Train_loss (0.55)\t Train_acc (72.43)\t Val_acc (48.00):  44%|████▍     | 88/200 [01:00<01:17,  1.45it/s]\u001b[A\u001b[A\n",
      "\n",
      "Train_loss (0.55)\t Train_acc (72.43)\t Val_acc (48.00):  44%|████▍     | 89/200 [01:00<01:15,  1.48it/s]\u001b[A\u001b[A\n",
      "\n",
      "Train_loss (0.57)\t Train_acc (72.43)\t Val_acc (47.00):  44%|████▍     | 89/200 [01:01<01:15,  1.48it/s]\u001b[A\u001b[A\n",
      "\n",
      "Train_loss (0.57)\t Train_acc (72.43)\t Val_acc (47.00):  45%|████▌     | 90/200 [01:01<01:13,  1.49it/s]\u001b[A\u001b[A\n",
      "\n",
      "Train_loss (0.56)\t Train_acc (72.43)\t Val_acc (48.00):  45%|████▌     | 90/200 [01:01<01:13,  1.49it/s]\u001b[A\u001b[A\n",
      "\n",
      "Train_loss (0.56)\t Train_acc (72.43)\t Val_acc (48.00):  46%|████▌     | 91/200 [01:01<01:12,  1.50it/s]\u001b[A\u001b[A\n",
      "\n",
      "Train_loss (0.53)\t Train_acc (72.43)\t Val_acc (48.00):  46%|████▌     | 91/200 [01:02<01:12,  1.50it/s]\u001b[A\u001b[A\n",
      "\n",
      "Train_loss (0.53)\t Train_acc (72.43)\t Val_acc (48.00):  46%|████▌     | 92/200 [01:02<01:11,  1.51it/s]\u001b[A\u001b[A\n",
      "\n",
      "Train_loss (0.56)\t Train_acc (72.43)\t Val_acc (48.00):  46%|████▌     | 92/200 [01:03<01:11,  1.51it/s]\u001b[A\u001b[A\n",
      "\n",
      "Train_loss (0.56)\t Train_acc (72.43)\t Val_acc (48.00):  46%|████▋     | 93/200 [01:03<01:10,  1.52it/s]\u001b[A\u001b[A\n",
      "\n",
      "Train_loss (0.55)\t Train_acc (72.97)\t Val_acc (48.00):  46%|████▋     | 93/200 [01:03<01:10,  1.52it/s]\u001b[A\u001b[A\n",
      "\n",
      "Train_loss (0.55)\t Train_acc (72.97)\t Val_acc (48.00):  47%|████▋     | 94/200 [01:03<01:09,  1.52it/s]\u001b[A\u001b[A\n",
      "\n",
      "Train_loss (0.51)\t Train_acc (72.97)\t Val_acc (48.00):  47%|████▋     | 94/200 [01:04<01:09,  1.52it/s]\u001b[A\u001b[A\n",
      "\n",
      "Train_loss (0.51)\t Train_acc (72.97)\t Val_acc (48.00):  48%|████▊     | 95/200 [01:04<01:08,  1.53it/s]\u001b[A\u001b[A\n",
      "\n",
      "Train_loss (0.50)\t Train_acc (74.05)\t Val_acc (48.00):  48%|████▊     | 95/200 [01:05<01:08,  1.53it/s]\u001b[A\u001b[A\n",
      "\n",
      "Train_loss (0.50)\t Train_acc (74.05)\t Val_acc (48.00):  48%|████▊     | 96/200 [01:05<01:08,  1.53it/s]\u001b[A\u001b[A\n",
      "\n",
      "Train_loss (0.54)\t Train_acc (74.05)\t Val_acc (48.00):  48%|████▊     | 96/200 [01:05<01:08,  1.53it/s]\u001b[A\u001b[A\n",
      "\n",
      "Train_loss (0.54)\t Train_acc (74.05)\t Val_acc (48.00):  48%|████▊     | 97/200 [01:05<01:07,  1.53it/s]\u001b[A\u001b[A\n",
      "\n",
      "Train_loss (0.53)\t Train_acc (75.14)\t Val_acc (48.00):  48%|████▊     | 97/200 [01:06<01:07,  1.53it/s]\u001b[A\u001b[A\n",
      "\n",
      "Train_loss (0.53)\t Train_acc (75.14)\t Val_acc (48.00):  49%|████▉     | 98/200 [01:06<01:08,  1.48it/s]\u001b[A\u001b[A\n",
      "\n",
      "Train_loss (0.50)\t Train_acc (75.68)\t Val_acc (48.00):  49%|████▉     | 98/200 [01:07<01:08,  1.48it/s]\u001b[A\u001b[A\n",
      "\n",
      "Train_loss (0.50)\t Train_acc (75.68)\t Val_acc (48.00):  50%|████▉     | 99/200 [01:07<01:08,  1.47it/s]\u001b[A\u001b[A\n",
      "\n",
      "Train_loss (0.54)\t Train_acc (75.68)\t Val_acc (49.00):  50%|████▉     | 99/200 [01:07<01:08,  1.47it/s]\u001b[A\u001b[A\n",
      "\n",
      "Train_loss (0.54)\t Train_acc (75.68)\t Val_acc (49.00):  50%|█████     | 100/200 [01:07<01:08,  1.47it/s]\u001b[A\u001b[A\n",
      "\n",
      "Train_loss (0.48)\t Train_acc (75.68)\t Val_acc (49.00):  50%|█████     | 100/200 [01:08<01:08,  1.47it/s]\u001b[A\u001b[A\n",
      "\n",
      "Train_loss (0.48)\t Train_acc (75.68)\t Val_acc (49.00):  50%|█████     | 101/200 [01:08<01:07,  1.47it/s]\u001b[A\u001b[A\n",
      "\n",
      "Train_loss (0.49)\t Train_acc (75.68)\t Val_acc (49.00):  50%|█████     | 101/200 [01:09<01:07,  1.47it/s]\u001b[A\u001b[A\n",
      "\n",
      "Train_loss (0.49)\t Train_acc (75.68)\t Val_acc (49.00):  51%|█████     | 102/200 [01:09<01:06,  1.47it/s]\u001b[A\u001b[A\n",
      "\n",
      "Train_loss (0.48)\t Train_acc (75.68)\t Val_acc (49.00):  51%|█████     | 102/200 [01:09<01:06,  1.47it/s]\u001b[A\u001b[A\n",
      "\n",
      "Train_loss (0.48)\t Train_acc (75.68)\t Val_acc (49.00):  52%|█████▏    | 103/200 [01:09<01:06,  1.46it/s]\u001b[A\u001b[A\n",
      "\n",
      "Train_loss (0.48)\t Train_acc (75.68)\t Val_acc (49.00):  52%|█████▏    | 103/200 [01:10<01:06,  1.46it/s]\u001b[A\u001b[A\n",
      "\n",
      "Train_loss (0.48)\t Train_acc (75.68)\t Val_acc (49.00):  52%|█████▏    | 104/200 [01:10<01:05,  1.46it/s]\u001b[A\u001b[A\n",
      "\n",
      "Train_loss (0.49)\t Train_acc (75.68)\t Val_acc (49.00):  52%|█████▏    | 104/200 [01:11<01:05,  1.46it/s]\u001b[A\u001b[A\n",
      "\n",
      "Train_loss (0.49)\t Train_acc (75.68)\t Val_acc (49.00):  52%|█████▎    | 105/200 [01:11<01:04,  1.47it/s]\u001b[A\u001b[A\n",
      "\n",
      "Train_loss (0.46)\t Train_acc (75.68)\t Val_acc (49.00):  52%|█████▎    | 105/200 [01:11<01:04,  1.47it/s]\u001b[A\u001b[A\n",
      "\n",
      "Train_loss (0.46)\t Train_acc (75.68)\t Val_acc (49.00):  53%|█████▎    | 106/200 [01:11<01:03,  1.49it/s]\u001b[A\u001b[A\n",
      "\n",
      "Train_loss (0.45)\t Train_acc (75.68)\t Val_acc (50.00):  53%|█████▎    | 106/200 [01:12<01:03,  1.49it/s]\u001b[A\u001b[A\n",
      "\n",
      "Train_loss (0.45)\t Train_acc (75.68)\t Val_acc (50.00):  54%|█████▎    | 107/200 [01:12<01:02,  1.48it/s]\u001b[A\u001b[A\n",
      "\n",
      "Train_loss (0.45)\t Train_acc (75.68)\t Val_acc (50.00):  54%|█████▎    | 107/200 [01:13<01:02,  1.48it/s]\u001b[A\u001b[A\n",
      "\n",
      "Train_loss (0.45)\t Train_acc (75.68)\t Val_acc (50.00):  54%|█████▍    | 108/200 [01:13<01:02,  1.48it/s]\u001b[A\u001b[A\n",
      "\n",
      "Train_loss (0.42)\t Train_acc (75.14)\t Val_acc (50.00):  54%|█████▍    | 108/200 [01:13<01:02,  1.48it/s]\u001b[A\u001b[A\n",
      "\n",
      "Train_loss (0.42)\t Train_acc (75.14)\t Val_acc (50.00):  55%|█████▍    | 109/200 [01:13<01:01,  1.47it/s]\u001b[A\u001b[A\n",
      "\n",
      "Train_loss (0.49)\t Train_acc (75.68)\t Val_acc (49.00):  55%|█████▍    | 109/200 [01:14<01:01,  1.47it/s]\u001b[A\u001b[A\n",
      "\n"
     ]
    },
    {
     "name": "stderr",
     "output_type": "stream",
     "text": [
      "Train_loss (0.49)\t Train_acc (75.68)\t Val_acc (49.00):  55%|█████▌    | 110/200 [01:14<01:02,  1.45it/s]\u001b[A\u001b[A\n",
      "\n",
      "Train_loss (0.44)\t Train_acc (76.22)\t Val_acc (49.00):  55%|█████▌    | 110/200 [01:15<01:02,  1.45it/s]\u001b[A\u001b[A\n",
      "\n",
      "Train_loss (0.44)\t Train_acc (76.22)\t Val_acc (49.00):  56%|█████▌    | 111/200 [01:15<01:03,  1.41it/s]\u001b[A\u001b[A\n",
      "\n",
      "Train_loss (0.45)\t Train_acc (76.22)\t Val_acc (49.00):  56%|█████▌    | 111/200 [01:16<01:03,  1.41it/s]\u001b[A\u001b[A\n",
      "\n",
      "Train_loss (0.45)\t Train_acc (76.22)\t Val_acc (49.00):  56%|█████▌    | 112/200 [01:16<01:03,  1.39it/s]\u001b[A\u001b[A\n",
      "\n",
      "Train_loss (0.44)\t Train_acc (75.68)\t Val_acc (49.00):  56%|█████▌    | 112/200 [01:16<01:03,  1.39it/s]\u001b[A\u001b[A\n",
      "\n",
      "Train_loss (0.44)\t Train_acc (75.68)\t Val_acc (49.00):  56%|█████▋    | 113/200 [01:16<01:03,  1.38it/s]\u001b[A\u001b[A\n",
      "\n",
      "Train_loss (0.43)\t Train_acc (75.68)\t Val_acc (49.00):  56%|█████▋    | 113/200 [01:17<01:03,  1.38it/s]\u001b[A\u001b[A\n",
      "\n",
      "Train_loss (0.43)\t Train_acc (75.68)\t Val_acc (49.00):  57%|█████▋    | 114/200 [01:17<01:02,  1.38it/s]\u001b[A\u001b[A\n",
      "\n",
      "Train_loss (0.44)\t Train_acc (75.68)\t Val_acc (49.00):  57%|█████▋    | 114/200 [01:18<01:02,  1.38it/s]\u001b[A\u001b[A\n",
      "\n",
      "Train_loss (0.44)\t Train_acc (75.68)\t Val_acc (49.00):  57%|█████▊    | 115/200 [01:18<01:01,  1.39it/s]\u001b[A\u001b[A\n",
      "\n",
      "Train_loss (0.44)\t Train_acc (75.68)\t Val_acc (49.00):  57%|█████▊    | 115/200 [01:19<01:01,  1.39it/s]\u001b[A\u001b[A\n",
      "\n",
      "Train_loss (0.44)\t Train_acc (75.68)\t Val_acc (49.00):  58%|█████▊    | 116/200 [01:19<01:00,  1.39it/s]\u001b[A\u001b[A\n",
      "\n",
      "Train_loss (0.43)\t Train_acc (76.22)\t Val_acc (49.00):  58%|█████▊    | 116/200 [01:19<01:00,  1.39it/s]\u001b[A\u001b[A\n",
      "\n",
      "Train_loss (0.43)\t Train_acc (76.22)\t Val_acc (49.00):  58%|█████▊    | 117/200 [01:19<00:58,  1.43it/s]\u001b[A\u001b[A\n",
      "\n",
      "Train_loss (0.39)\t Train_acc (77.30)\t Val_acc (49.00):  58%|█████▊    | 117/200 [01:20<00:58,  1.43it/s]\u001b[A\u001b[A\n",
      "\n",
      "Train_loss (0.39)\t Train_acc (77.30)\t Val_acc (49.00):  59%|█████▉    | 118/200 [01:20<00:57,  1.44it/s]\u001b[A\u001b[A\n",
      "\n",
      "Train_loss (0.38)\t Train_acc (77.30)\t Val_acc (49.00):  59%|█████▉    | 118/200 [01:21<00:57,  1.44it/s]\u001b[A\u001b[A\n",
      "\n",
      "Train_loss (0.38)\t Train_acc (77.30)\t Val_acc (49.00):  60%|█████▉    | 119/200 [01:21<00:56,  1.44it/s]\u001b[A\u001b[A\n",
      "\n",
      "Train_loss (0.38)\t Train_acc (77.84)\t Val_acc (49.00):  60%|█████▉    | 119/200 [01:21<00:56,  1.44it/s]\u001b[A\u001b[A\n",
      "\n",
      "Train_loss (0.38)\t Train_acc (77.84)\t Val_acc (49.00):  60%|██████    | 120/200 [01:21<00:54,  1.47it/s]\u001b[A\u001b[A\n",
      "\n",
      "Train_loss (0.41)\t Train_acc (77.84)\t Val_acc (49.00):  60%|██████    | 120/200 [01:22<00:54,  1.47it/s]\u001b[A\u001b[A\n",
      "\n",
      "Train_loss (0.41)\t Train_acc (77.84)\t Val_acc (49.00):  60%|██████    | 121/200 [01:22<00:53,  1.49it/s]\u001b[A\u001b[A\n",
      "\n",
      "Train_loss (0.38)\t Train_acc (77.84)\t Val_acc (49.00):  60%|██████    | 121/200 [01:23<00:53,  1.49it/s]\u001b[A\u001b[A\n",
      "\n",
      "Train_loss (0.38)\t Train_acc (77.84)\t Val_acc (49.00):  61%|██████    | 122/200 [01:23<00:52,  1.48it/s]\u001b[A\u001b[A\n",
      "\n",
      "Train_loss (0.38)\t Train_acc (78.38)\t Val_acc (49.00):  61%|██████    | 122/200 [01:23<00:52,  1.48it/s]\u001b[A\u001b[A\n",
      "\n",
      "Train_loss (0.38)\t Train_acc (78.38)\t Val_acc (49.00):  62%|██████▏   | 123/200 [01:23<00:52,  1.48it/s]\u001b[A\u001b[A\n",
      "\n",
      "Train_loss (0.37)\t Train_acc (78.38)\t Val_acc (49.00):  62%|██████▏   | 123/200 [01:24<00:52,  1.48it/s]\u001b[A\u001b[A\n",
      "\n",
      "Train_loss (0.37)\t Train_acc (78.38)\t Val_acc (49.00):  62%|██████▏   | 124/200 [01:24<00:51,  1.47it/s]\u001b[A\u001b[A\n",
      "\n",
      "Train_loss (0.44)\t Train_acc (78.38)\t Val_acc (49.00):  62%|██████▏   | 124/200 [01:25<00:51,  1.47it/s]\u001b[A\u001b[A\n",
      "\n",
      "Train_loss (0.44)\t Train_acc (78.38)\t Val_acc (49.00):  62%|██████▎   | 125/200 [01:25<00:50,  1.47it/s]\u001b[A\u001b[A\n",
      "\n",
      "Train_loss (0.38)\t Train_acc (78.38)\t Val_acc (49.00):  62%|██████▎   | 125/200 [01:25<00:50,  1.47it/s]\u001b[A\u001b[A\n",
      "\n",
      "Train_loss (0.38)\t Train_acc (78.38)\t Val_acc (49.00):  63%|██████▎   | 126/200 [01:25<00:49,  1.49it/s]\u001b[A\u001b[A\n",
      "\n",
      "Train_loss (0.35)\t Train_acc (78.38)\t Val_acc (49.00):  63%|██████▎   | 126/200 [01:26<00:49,  1.49it/s]\u001b[A\u001b[A\n",
      "\n",
      "Train_loss (0.35)\t Train_acc (78.38)\t Val_acc (49.00):  64%|██████▎   | 127/200 [01:26<00:48,  1.50it/s]\u001b[A\u001b[A\n",
      "\n",
      "Train_loss (0.39)\t Train_acc (78.38)\t Val_acc (49.00):  64%|██████▎   | 127/200 [01:27<00:48,  1.50it/s]\u001b[A\u001b[A\n",
      "\n",
      "Train_loss (0.39)\t Train_acc (78.38)\t Val_acc (49.00):  64%|██████▍   | 128/200 [01:27<00:47,  1.51it/s]\u001b[A\u001b[A\n",
      "\n",
      "Train_loss (0.39)\t Train_acc (78.38)\t Val_acc (49.00):  64%|██████▍   | 128/200 [01:27<00:47,  1.51it/s]\u001b[A\u001b[A\n",
      "\n",
      "Train_loss (0.39)\t Train_acc (78.38)\t Val_acc (49.00):  64%|██████▍   | 129/200 [01:27<00:46,  1.52it/s]\u001b[A\u001b[A\n",
      "\n",
      "Train_loss (0.35)\t Train_acc (78.92)\t Val_acc (49.00):  64%|██████▍   | 129/200 [01:28<00:46,  1.52it/s]\u001b[A\u001b[A\n",
      "\n",
      "Train_loss (0.35)\t Train_acc (78.92)\t Val_acc (49.00):  65%|██████▌   | 130/200 [01:28<00:45,  1.53it/s]\u001b[A\u001b[A\n",
      "\n",
      "Train_loss (0.41)\t Train_acc (78.92)\t Val_acc (49.00):  65%|██████▌   | 130/200 [01:28<00:45,  1.53it/s]\u001b[A\u001b[A\n",
      "\n",
      "Train_loss (0.41)\t Train_acc (78.92)\t Val_acc (49.00):  66%|██████▌   | 131/200 [01:28<00:45,  1.53it/s]\u001b[A\u001b[A\n",
      "\n",
      "Train_loss (0.37)\t Train_acc (78.92)\t Val_acc (50.00):  66%|██████▌   | 131/200 [01:29<00:45,  1.53it/s]\u001b[A\u001b[A\n",
      "\n",
      "Train_loss (0.37)\t Train_acc (78.92)\t Val_acc (50.00):  66%|██████▌   | 132/200 [01:29<00:44,  1.52it/s]\u001b[A\u001b[A\n",
      "\n",
      "Train_loss (0.36)\t Train_acc (78.92)\t Val_acc (49.00):  66%|██████▌   | 132/200 [01:30<00:44,  1.52it/s]\u001b[A\u001b[A\n",
      "\n",
      "Train_loss (0.36)\t Train_acc (78.92)\t Val_acc (49.00):  66%|██████▋   | 133/200 [01:30<00:43,  1.52it/s]\u001b[A\u001b[A\n",
      "\n",
      "Train_loss (0.32)\t Train_acc (78.92)\t Val_acc (49.00):  66%|██████▋   | 133/200 [01:30<00:43,  1.52it/s]\u001b[A\u001b[A\n",
      "\n",
      "Train_loss (0.32)\t Train_acc (78.92)\t Val_acc (49.00):  67%|██████▋   | 134/200 [01:30<00:43,  1.53it/s]\u001b[A\u001b[A\n",
      "\n",
      "Train_loss (0.36)\t Train_acc (78.92)\t Val_acc (49.00):  67%|██████▋   | 134/200 [01:31<00:43,  1.53it/s]\u001b[A\u001b[A\n",
      "\n",
      "Train_loss (0.36)\t Train_acc (78.92)\t Val_acc (49.00):  68%|██████▊   | 135/200 [01:31<00:42,  1.53it/s]\u001b[A\u001b[A\n",
      "\n",
      "Train_loss (0.31)\t Train_acc (78.92)\t Val_acc (49.00):  68%|██████▊   | 135/200 [01:32<00:42,  1.53it/s]\u001b[A\u001b[A\n",
      "\n",
      "Train_loss (0.31)\t Train_acc (78.92)\t Val_acc (49.00):  68%|██████▊   | 136/200 [01:32<00:43,  1.47it/s]\u001b[A\u001b[A\n",
      "\n",
      "Train_loss (0.34)\t Train_acc (78.38)\t Val_acc (49.00):  68%|██████▊   | 136/200 [01:33<00:43,  1.47it/s]\u001b[A\u001b[A\n",
      "\n",
      "Train_loss (0.34)\t Train_acc (78.38)\t Val_acc (49.00):  68%|██████▊   | 137/200 [01:33<00:43,  1.44it/s]\u001b[A\u001b[A\n",
      "\n",
      "Train_loss (0.31)\t Train_acc (78.38)\t Val_acc (49.00):  68%|██████▊   | 137/200 [01:33<00:43,  1.44it/s]\u001b[A\u001b[A\n",
      "\n",
      "Train_loss (0.31)\t Train_acc (78.38)\t Val_acc (49.00):  69%|██████▉   | 138/200 [01:33<00:43,  1.43it/s]\u001b[A\u001b[A\n",
      "\n",
      "Train_loss (0.37)\t Train_acc (78.38)\t Val_acc (49.00):  69%|██████▉   | 138/200 [01:34<00:43,  1.43it/s]\u001b[A\u001b[A\n",
      "\n",
      "Train_loss (0.37)\t Train_acc (78.38)\t Val_acc (49.00):  70%|██████▉   | 139/200 [01:34<00:43,  1.41it/s]\u001b[A\u001b[A\n",
      "\n",
      "Train_loss (0.32)\t Train_acc (77.84)\t Val_acc (48.00):  70%|██████▉   | 139/200 [01:35<00:43,  1.41it/s]\u001b[A\u001b[A\n",
      "\n",
      "Train_loss (0.32)\t Train_acc (77.84)\t Val_acc (48.00):  70%|███████   | 140/200 [01:35<00:43,  1.39it/s]\u001b[A\u001b[A\n",
      "\n",
      "Train_loss (0.33)\t Train_acc (77.84)\t Val_acc (48.00):  70%|███████   | 140/200 [01:35<00:43,  1.39it/s]\u001b[A\u001b[A\n",
      "\n",
      "Train_loss (0.33)\t Train_acc (77.84)\t Val_acc (48.00):  70%|███████   | 141/200 [01:35<00:42,  1.40it/s]\u001b[A\u001b[A\n",
      "\n",
      "Train_loss (0.34)\t Train_acc (78.38)\t Val_acc (48.00):  70%|███████   | 141/200 [01:36<00:42,  1.40it/s]\u001b[A\u001b[A\n",
      "\n",
      "Train_loss (0.34)\t Train_acc (78.38)\t Val_acc (48.00):  71%|███████   | 142/200 [01:36<00:41,  1.41it/s]\u001b[A\u001b[A\n",
      "\n",
      "Train_loss (0.32)\t Train_acc (78.38)\t Val_acc (48.00):  71%|███████   | 142/200 [01:37<00:41,  1.41it/s]\u001b[A\u001b[A\n",
      "\n",
      "Train_loss (0.32)\t Train_acc (78.38)\t Val_acc (48.00):  72%|███████▏  | 143/200 [01:37<00:40,  1.41it/s]\u001b[A\u001b[A\n",
      "\n",
      "Train_loss (0.33)\t Train_acc (78.38)\t Val_acc (48.00):  72%|███████▏  | 143/200 [01:38<00:40,  1.41it/s]\u001b[A\u001b[A\n",
      "\n",
      "Train_loss (0.33)\t Train_acc (78.38)\t Val_acc (48.00):  72%|███████▏  | 144/200 [01:38<00:38,  1.44it/s]\u001b[A\u001b[A\n",
      "\n",
      "Train_loss (0.31)\t Train_acc (78.38)\t Val_acc (48.00):  72%|███████▏  | 144/200 [01:38<00:38,  1.44it/s]\u001b[A\u001b[A\n",
      "\n",
      "Train_loss (0.31)\t Train_acc (78.38)\t Val_acc (48.00):  72%|███████▎  | 145/200 [01:38<00:37,  1.45it/s]\u001b[A\u001b[A\n",
      "\n",
      "Train_loss (0.31)\t Train_acc (78.92)\t Val_acc (48.00):  72%|███████▎  | 145/200 [01:39<00:37,  1.45it/s]\u001b[A\u001b[A\n",
      "\n",
      "Train_loss (0.31)\t Train_acc (78.92)\t Val_acc (48.00):  73%|███████▎  | 146/200 [01:39<00:37,  1.46it/s]\u001b[A\u001b[A\n",
      "\n"
     ]
    },
    {
     "name": "stderr",
     "output_type": "stream",
     "text": [
      "Train_loss (0.32)\t Train_acc (78.92)\t Val_acc (47.00):  73%|███████▎  | 146/200 [01:40<00:37,  1.46it/s]\u001b[A\u001b[A\n",
      "\n",
      "Train_loss (0.32)\t Train_acc (78.92)\t Val_acc (47.00):  74%|███████▎  | 147/200 [01:40<00:36,  1.46it/s]\u001b[A\u001b[A\n",
      "\n",
      "Train_loss (0.28)\t Train_acc (78.38)\t Val_acc (48.00):  74%|███████▎  | 147/200 [01:40<00:36,  1.46it/s]\u001b[A\u001b[A\n",
      "\n",
      "Train_loss (0.28)\t Train_acc (78.38)\t Val_acc (48.00):  74%|███████▍  | 148/200 [01:40<00:35,  1.48it/s]\u001b[A\u001b[A\n",
      "\n",
      "Train_loss (0.31)\t Train_acc (78.38)\t Val_acc (48.00):  74%|███████▍  | 148/200 [01:41<00:35,  1.48it/s]\u001b[A\u001b[A\n",
      "\n",
      "Train_loss (0.31)\t Train_acc (78.38)\t Val_acc (48.00):  74%|███████▍  | 149/200 [01:41<00:34,  1.48it/s]\u001b[A\u001b[A\n",
      "\n",
      "Train_loss (0.28)\t Train_acc (78.38)\t Val_acc (48.00):  74%|███████▍  | 149/200 [01:42<00:34,  1.48it/s]\u001b[A\u001b[A\n",
      "\n",
      "Train_loss (0.28)\t Train_acc (78.38)\t Val_acc (48.00):  75%|███████▌  | 150/200 [01:42<00:33,  1.48it/s]\u001b[A\u001b[A\n",
      "\n",
      "Train_loss (0.33)\t Train_acc (78.38)\t Val_acc (48.00):  75%|███████▌  | 150/200 [01:42<00:33,  1.48it/s]\u001b[A\u001b[A\n",
      "\n",
      "Train_loss (0.33)\t Train_acc (78.38)\t Val_acc (48.00):  76%|███████▌  | 151/200 [01:42<00:32,  1.50it/s]\u001b[A\u001b[A\n",
      "\n",
      "Train_loss (0.29)\t Train_acc (78.92)\t Val_acc (48.00):  76%|███████▌  | 151/200 [01:43<00:32,  1.50it/s]\u001b[A\u001b[A\n",
      "\n",
      "Train_loss (0.29)\t Train_acc (78.92)\t Val_acc (48.00):  76%|███████▌  | 152/200 [01:43<00:31,  1.51it/s]\u001b[A\u001b[A\n",
      "\n",
      "Train_loss (0.28)\t Train_acc (78.92)\t Val_acc (47.00):  76%|███████▌  | 152/200 [01:44<00:31,  1.51it/s]\u001b[A\u001b[A\n",
      "\n",
      "Train_loss (0.28)\t Train_acc (78.92)\t Val_acc (47.00):  76%|███████▋  | 153/200 [01:44<00:30,  1.52it/s]\u001b[A\u001b[A\n",
      "\n",
      "Train_loss (0.31)\t Train_acc (78.92)\t Val_acc (47.00):  76%|███████▋  | 153/200 [01:44<00:30,  1.52it/s]\u001b[A\u001b[A\n",
      "\n",
      "Train_loss (0.31)\t Train_acc (78.92)\t Val_acc (47.00):  77%|███████▋  | 154/200 [01:44<00:30,  1.53it/s]\u001b[A\u001b[A\n",
      "\n",
      "Train_loss (0.29)\t Train_acc (78.92)\t Val_acc (47.00):  77%|███████▋  | 154/200 [01:45<00:30,  1.53it/s]\u001b[A\u001b[A\n",
      "\n",
      "Train_loss (0.29)\t Train_acc (78.92)\t Val_acc (47.00):  78%|███████▊  | 155/200 [01:45<00:29,  1.53it/s]\u001b[A\u001b[A\n",
      "\n",
      "Train_loss (0.28)\t Train_acc (78.92)\t Val_acc (47.00):  78%|███████▊  | 155/200 [01:45<00:29,  1.53it/s]\u001b[A\u001b[A\n",
      "\n",
      "Train_loss (0.28)\t Train_acc (78.92)\t Val_acc (47.00):  78%|███████▊  | 156/200 [01:45<00:28,  1.54it/s]\u001b[A\u001b[A\n",
      "\n",
      "Train_loss (0.29)\t Train_acc (78.92)\t Val_acc (47.00):  78%|███████▊  | 156/200 [01:46<00:28,  1.54it/s]\u001b[A\u001b[A\n",
      "\n",
      "Train_loss (0.29)\t Train_acc (78.92)\t Val_acc (47.00):  78%|███████▊  | 157/200 [01:46<00:27,  1.54it/s]\u001b[A\u001b[A\n",
      "\n",
      "Train_loss (0.27)\t Train_acc (78.92)\t Val_acc (47.00):  78%|███████▊  | 157/200 [01:47<00:27,  1.54it/s]\u001b[A\u001b[A\n",
      "\n",
      "Train_loss (0.27)\t Train_acc (78.92)\t Val_acc (47.00):  79%|███████▉  | 158/200 [01:47<00:27,  1.54it/s]\u001b[A\u001b[A\n",
      "\n",
      "Train_loss (0.30)\t Train_acc (78.92)\t Val_acc (47.00):  79%|███████▉  | 158/200 [01:47<00:27,  1.54it/s]\u001b[A\u001b[A\n",
      "\n",
      "Train_loss (0.30)\t Train_acc (78.92)\t Val_acc (47.00):  80%|███████▉  | 159/200 [01:47<00:27,  1.48it/s]\u001b[A\u001b[A\n",
      "\n",
      "Train_loss (0.29)\t Train_acc (78.92)\t Val_acc (47.00):  80%|███████▉  | 159/200 [01:48<00:27,  1.48it/s]\u001b[A\u001b[A\n",
      "\n",
      "Train_loss (0.29)\t Train_acc (78.92)\t Val_acc (47.00):  80%|████████  | 160/200 [01:48<00:27,  1.44it/s]\u001b[A\u001b[A\n",
      "\n",
      "Train_loss (0.27)\t Train_acc (78.92)\t Val_acc (47.00):  80%|████████  | 160/200 [01:49<00:27,  1.44it/s]\u001b[A\u001b[A\n",
      "\n",
      "Train_loss (0.27)\t Train_acc (78.92)\t Val_acc (47.00):  80%|████████  | 161/200 [01:49<00:27,  1.44it/s]\u001b[A\u001b[A\n",
      "\n",
      "Train_loss (0.28)\t Train_acc (78.92)\t Val_acc (47.00):  80%|████████  | 161/200 [01:50<00:27,  1.44it/s]\u001b[A\u001b[A\n",
      "\n",
      "Train_loss (0.28)\t Train_acc (78.92)\t Val_acc (47.00):  81%|████████  | 162/200 [01:50<00:26,  1.41it/s]\u001b[A\u001b[A\n",
      "\n",
      "Train_loss (0.27)\t Train_acc (78.92)\t Val_acc (47.00):  81%|████████  | 162/200 [01:50<00:26,  1.41it/s]\u001b[A\u001b[A\n",
      "\n",
      "Train_loss (0.27)\t Train_acc (78.92)\t Val_acc (47.00):  82%|████████▏ | 163/200 [01:50<00:26,  1.40it/s]\u001b[A\u001b[A\n",
      "\n",
      "Train_loss (0.27)\t Train_acc (78.92)\t Val_acc (47.00):  82%|████████▏ | 163/200 [01:51<00:26,  1.40it/s]\u001b[A\u001b[A\n",
      "\n",
      "Train_loss (0.27)\t Train_acc (78.92)\t Val_acc (47.00):  82%|████████▏ | 164/200 [01:51<00:25,  1.42it/s]\u001b[A\u001b[A\n",
      "\n",
      "Train_loss (0.27)\t Train_acc (78.92)\t Val_acc (47.00):  82%|████████▏ | 164/200 [01:52<00:25,  1.42it/s]\u001b[A\u001b[A\n",
      "\n",
      "Train_loss (0.27)\t Train_acc (78.92)\t Val_acc (47.00):  82%|████████▎ | 165/200 [01:52<00:24,  1.44it/s]\u001b[A\u001b[A\n",
      "\n",
      "Train_loss (0.28)\t Train_acc (78.92)\t Val_acc (47.00):  82%|████████▎ | 165/200 [01:52<00:24,  1.44it/s]\u001b[A\u001b[A\n",
      "\n",
      "Train_loss (0.28)\t Train_acc (78.92)\t Val_acc (47.00):  83%|████████▎ | 166/200 [01:52<00:23,  1.46it/s]\u001b[A\u001b[A\n",
      "\n",
      "Train_loss (0.25)\t Train_acc (78.92)\t Val_acc (47.00):  83%|████████▎ | 166/200 [01:53<00:23,  1.46it/s]\u001b[A\u001b[A\n",
      "\n",
      "Train_loss (0.25)\t Train_acc (78.92)\t Val_acc (47.00):  84%|████████▎ | 167/200 [01:53<00:22,  1.49it/s]\u001b[A\u001b[A\n",
      "\n",
      "Train_loss (0.26)\t Train_acc (78.92)\t Val_acc (47.00):  84%|████████▎ | 167/200 [01:54<00:22,  1.49it/s]\u001b[A\u001b[A\n",
      "\n",
      "Train_loss (0.26)\t Train_acc (78.92)\t Val_acc (47.00):  84%|████████▍ | 168/200 [01:54<00:21,  1.50it/s]\u001b[A\u001b[A\n",
      "\n",
      "Train_loss (0.25)\t Train_acc (78.92)\t Val_acc (48.00):  84%|████████▍ | 168/200 [01:54<00:21,  1.50it/s]\u001b[A\u001b[A\n",
      "\n",
      "Train_loss (0.25)\t Train_acc (78.92)\t Val_acc (48.00):  84%|████████▍ | 169/200 [01:54<00:20,  1.51it/s]\u001b[A\u001b[A\n",
      "\n",
      "Train_loss (0.27)\t Train_acc (78.92)\t Val_acc (48.00):  84%|████████▍ | 169/200 [01:55<00:20,  1.51it/s]\u001b[A\u001b[A\n",
      "\n",
      "Train_loss (0.27)\t Train_acc (78.92)\t Val_acc (48.00):  85%|████████▌ | 170/200 [01:55<00:19,  1.50it/s]\u001b[A\u001b[A\n",
      "\n",
      "Train_loss (0.25)\t Train_acc (78.92)\t Val_acc (48.00):  85%|████████▌ | 170/200 [01:56<00:19,  1.50it/s]\u001b[A\u001b[A\n",
      "\n",
      "Train_loss (0.25)\t Train_acc (78.92)\t Val_acc (48.00):  86%|████████▌ | 171/200 [01:56<00:19,  1.51it/s]\u001b[A\u001b[A\n",
      "\n",
      "Train_loss (0.24)\t Train_acc (78.92)\t Val_acc (48.00):  86%|████████▌ | 171/200 [01:56<00:19,  1.51it/s]\u001b[A\u001b[A\n",
      "\n",
      "Train_loss (0.24)\t Train_acc (78.92)\t Val_acc (48.00):  86%|████████▌ | 172/200 [01:56<00:18,  1.49it/s]\u001b[A\u001b[A\n",
      "\n",
      "Train_loss (0.25)\t Train_acc (78.92)\t Val_acc (48.00):  86%|████████▌ | 172/200 [01:57<00:18,  1.49it/s]\u001b[A\u001b[A\n",
      "\n",
      "Train_loss (0.25)\t Train_acc (78.92)\t Val_acc (48.00):  86%|████████▋ | 173/200 [01:57<00:18,  1.49it/s]\u001b[A\u001b[A\n",
      "\n",
      "Train_loss (0.26)\t Train_acc (78.92)\t Val_acc (48.00):  86%|████████▋ | 173/200 [01:58<00:18,  1.49it/s]\u001b[A\u001b[A\n",
      "\n",
      "Train_loss (0.26)\t Train_acc (78.92)\t Val_acc (48.00):  87%|████████▋ | 174/200 [01:58<00:17,  1.50it/s]\u001b[A\u001b[A\n",
      "\n",
      "Train_loss (0.26)\t Train_acc (79.46)\t Val_acc (48.00):  87%|████████▋ | 174/200 [01:58<00:17,  1.50it/s]\u001b[A\u001b[A\n",
      "\n",
      "Train_loss (0.26)\t Train_acc (79.46)\t Val_acc (48.00):  88%|████████▊ | 175/200 [01:58<00:17,  1.46it/s]\u001b[A\u001b[A\n",
      "\n",
      "Train_loss (0.26)\t Train_acc (79.46)\t Val_acc (48.00):  88%|████████▊ | 175/200 [01:59<00:17,  1.46it/s]\u001b[A\u001b[A\n",
      "\n",
      "Train_loss (0.26)\t Train_acc (79.46)\t Val_acc (48.00):  88%|████████▊ | 176/200 [01:59<00:16,  1.43it/s]\u001b[A\u001b[A\n",
      "\n",
      "Train_loss (0.25)\t Train_acc (79.46)\t Val_acc (47.00):  88%|████████▊ | 176/200 [02:00<00:16,  1.43it/s]\u001b[A\u001b[A\n",
      "\n",
      "Train_loss (0.25)\t Train_acc (79.46)\t Val_acc (47.00):  88%|████████▊ | 177/200 [02:00<00:16,  1.41it/s]\u001b[A\u001b[A\n",
      "\n",
      "Train_loss (0.23)\t Train_acc (79.46)\t Val_acc (49.00):  88%|████████▊ | 177/200 [02:01<00:16,  1.41it/s]\u001b[A\u001b[A\n",
      "\n",
      "Train_loss (0.23)\t Train_acc (79.46)\t Val_acc (49.00):  89%|████████▉ | 178/200 [02:01<00:15,  1.41it/s]\u001b[A\u001b[A\n",
      "\n",
      "Train_loss (0.25)\t Train_acc (79.46)\t Val_acc (50.00):  89%|████████▉ | 178/200 [02:01<00:15,  1.41it/s]\u001b[A\u001b[A\n",
      "\n",
      "Train_loss (0.25)\t Train_acc (79.46)\t Val_acc (50.00):  90%|████████▉ | 179/200 [02:01<00:14,  1.41it/s]\u001b[A\u001b[A\n",
      "\n",
      "Train_loss (0.25)\t Train_acc (80.00)\t Val_acc (50.00):  90%|████████▉ | 179/200 [02:02<00:14,  1.41it/s]\u001b[A\u001b[A\n",
      "\n",
      "Train_loss (0.25)\t Train_acc (80.00)\t Val_acc (50.00):  90%|█████████ | 180/200 [02:02<00:14,  1.41it/s]\u001b[A\u001b[A\n",
      "\n",
      "Train_loss (0.24)\t Train_acc (80.00)\t Val_acc (50.00):  90%|█████████ | 180/200 [02:03<00:14,  1.41it/s]\u001b[A\u001b[A\n",
      "\n",
      "Train_loss (0.24)\t Train_acc (80.00)\t Val_acc (50.00):  90%|█████████ | 181/200 [02:03<00:13,  1.44it/s]\u001b[A\u001b[A\n",
      "\n",
      "Train_loss (0.23)\t Train_acc (80.54)\t Val_acc (50.00):  90%|█████████ | 181/200 [02:03<00:13,  1.44it/s]\u001b[A\u001b[A\n",
      "\n",
      "Train_loss (0.23)\t Train_acc (80.54)\t Val_acc (50.00):  91%|█████████ | 182/200 [02:03<00:12,  1.47it/s]\u001b[A\u001b[A\n",
      "\n",
      "Train_loss (0.22)\t Train_acc (80.54)\t Val_acc (50.00):  91%|█████████ | 182/200 [02:04<00:12,  1.47it/s]\u001b[A\u001b[A\n",
      "\n"
     ]
    },
    {
     "name": "stderr",
     "output_type": "stream",
     "text": [
      "Train_loss (0.22)\t Train_acc (80.54)\t Val_acc (50.00):  92%|█████████▏| 183/200 [02:04<00:11,  1.48it/s]\u001b[A\u001b[A\n",
      "\n",
      "Train_loss (0.24)\t Train_acc (80.54)\t Val_acc (50.00):  92%|█████████▏| 183/200 [02:05<00:11,  1.48it/s]\u001b[A\u001b[A\n",
      "\n",
      "Train_loss (0.24)\t Train_acc (80.54)\t Val_acc (50.00):  92%|█████████▏| 184/200 [02:05<00:10,  1.48it/s]\u001b[A\u001b[A\n",
      "\n",
      "Train_loss (0.22)\t Train_acc (80.54)\t Val_acc (50.00):  92%|█████████▏| 184/200 [02:05<00:10,  1.48it/s]\u001b[A\u001b[A\n",
      "\n",
      "Train_loss (0.22)\t Train_acc (80.54)\t Val_acc (50.00):  92%|█████████▎| 185/200 [02:05<00:10,  1.48it/s]\u001b[A\u001b[A\n",
      "\n",
      "Train_loss (0.23)\t Train_acc (80.54)\t Val_acc (49.00):  92%|█████████▎| 185/200 [02:06<00:10,  1.48it/s]\u001b[A\u001b[A\n",
      "\n",
      "Train_loss (0.23)\t Train_acc (80.54)\t Val_acc (49.00):  93%|█████████▎| 186/200 [02:06<00:09,  1.50it/s]\u001b[A\u001b[A\n",
      "\n",
      "Train_loss (0.23)\t Train_acc (80.54)\t Val_acc (49.00):  93%|█████████▎| 186/200 [02:07<00:09,  1.50it/s]\u001b[A\u001b[A\n",
      "\n",
      "Train_loss (0.23)\t Train_acc (80.54)\t Val_acc (49.00):  94%|█████████▎| 187/200 [02:07<00:08,  1.46it/s]\u001b[A\u001b[A\n",
      "\n",
      "Train_loss (0.24)\t Train_acc (80.54)\t Val_acc (49.00):  94%|█████████▎| 187/200 [02:07<00:08,  1.46it/s]\u001b[A\u001b[A\n",
      "\n",
      "Train_loss (0.24)\t Train_acc (80.54)\t Val_acc (49.00):  94%|█████████▍| 188/200 [02:07<00:08,  1.42it/s]\u001b[A\u001b[A\n",
      "\n",
      "Train_loss (0.24)\t Train_acc (81.08)\t Val_acc (49.00):  94%|█████████▍| 188/200 [02:08<00:08,  1.42it/s]\u001b[A\u001b[A\n",
      "\n",
      "Train_loss (0.24)\t Train_acc (81.08)\t Val_acc (49.00):  94%|█████████▍| 189/200 [02:08<00:07,  1.45it/s]\u001b[A\u001b[A\n",
      "\n",
      "Train_loss (0.23)\t Train_acc (81.08)\t Val_acc (49.00):  94%|█████████▍| 189/200 [02:09<00:07,  1.45it/s]\u001b[A\u001b[A\n",
      "\n",
      "Train_loss (0.23)\t Train_acc (81.08)\t Val_acc (49.00):  95%|█████████▌| 190/200 [02:09<00:07,  1.43it/s]\u001b[A\u001b[A\n",
      "\n",
      "Train_loss (0.21)\t Train_acc (81.08)\t Val_acc (49.00):  95%|█████████▌| 190/200 [02:10<00:07,  1.43it/s]\u001b[A\u001b[A\n",
      "\n",
      "Train_loss (0.21)\t Train_acc (81.08)\t Val_acc (49.00):  96%|█████████▌| 191/200 [02:10<00:06,  1.41it/s]\u001b[A\u001b[A\n",
      "\n",
      "Train_loss (0.21)\t Train_acc (81.08)\t Val_acc (49.00):  96%|█████████▌| 191/200 [02:10<00:06,  1.41it/s]\u001b[A\u001b[A\n",
      "\n",
      "Train_loss (0.21)\t Train_acc (81.08)\t Val_acc (49.00):  96%|█████████▌| 192/200 [02:10<00:05,  1.41it/s]\u001b[A\u001b[A\n",
      "\n",
      "Train_loss (0.24)\t Train_acc (81.08)\t Val_acc (49.00):  96%|█████████▌| 192/200 [02:11<00:05,  1.41it/s]\u001b[A\u001b[A\n",
      "\n",
      "Train_loss (0.24)\t Train_acc (81.08)\t Val_acc (49.00):  96%|█████████▋| 193/200 [02:11<00:04,  1.40it/s]\u001b[A\u001b[A\n",
      "\n",
      "Train_loss (0.22)\t Train_acc (81.08)\t Val_acc (49.00):  96%|█████████▋| 193/200 [02:12<00:04,  1.40it/s]\u001b[A\u001b[A\n",
      "\n",
      "Train_loss (0.22)\t Train_acc (81.08)\t Val_acc (49.00):  97%|█████████▋| 194/200 [02:12<00:04,  1.40it/s]\u001b[A\u001b[A\n",
      "\n",
      "Train_loss (0.23)\t Train_acc (81.62)\t Val_acc (49.00):  97%|█████████▋| 194/200 [02:12<00:04,  1.40it/s]\u001b[A\u001b[A\n",
      "\n",
      "Train_loss (0.23)\t Train_acc (81.62)\t Val_acc (49.00):  98%|█████████▊| 195/200 [02:12<00:03,  1.40it/s]\u001b[A\u001b[A\n",
      "\n",
      "Train_loss (0.21)\t Train_acc (82.16)\t Val_acc (49.00):  98%|█████████▊| 195/200 [02:13<00:03,  1.40it/s]\u001b[A\u001b[A\n",
      "\n",
      "Train_loss (0.21)\t Train_acc (82.16)\t Val_acc (49.00):  98%|█████████▊| 196/200 [02:13<00:02,  1.41it/s]\u001b[A\u001b[A\n",
      "\n",
      "Train_loss (0.22)\t Train_acc (82.16)\t Val_acc (49.00):  98%|█████████▊| 196/200 [02:14<00:02,  1.41it/s]\u001b[A\u001b[A\n",
      "\n",
      "Train_loss (0.22)\t Train_acc (82.16)\t Val_acc (49.00):  98%|█████████▊| 197/200 [02:14<00:02,  1.41it/s]\u001b[A\u001b[A\n",
      "\n",
      "Train_loss (0.21)\t Train_acc (82.16)\t Val_acc (51.00):  98%|█████████▊| 197/200 [02:15<00:02,  1.41it/s]\u001b[A\u001b[A\n",
      "\n",
      "Train_loss (0.21)\t Train_acc (82.16)\t Val_acc (51.00):  99%|█████████▉| 198/200 [02:15<00:01,  1.41it/s]\u001b[A\u001b[A\n",
      "\n",
      "Train_loss (0.21)\t Train_acc (82.16)\t Val_acc (51.00):  99%|█████████▉| 198/200 [02:15<00:01,  1.41it/s]\u001b[A\u001b[A\n",
      "\n",
      "Train_loss (0.21)\t Train_acc (82.16)\t Val_acc (51.00): 100%|█████████▉| 199/200 [02:15<00:00,  1.40it/s]\u001b[A\u001b[A\n",
      "\n",
      "Train_loss (0.21)\t Train_acc (82.16)\t Val_acc (51.00): 100%|█████████▉| 199/200 [02:16<00:00,  1.40it/s]\u001b[A\u001b[A\n",
      "\n",
      "Train_loss (0.21)\t Train_acc (82.16)\t Val_acc (51.00): 100%|██████████| 200/200 [02:16<00:00,  1.41it/s]\u001b[A\u001b[A"
     ]
    }
   ],
   "source": [
    "epoch_losses, epoch_accuracies, best_model = training_loop(model, optimizer, error, train_loader, val_loader, \n",
    "                                                           EPOCHS, seq_end=SEQ_END, step_size=STEP_SIZE)"
   ]
  },
  {
   "cell_type": "code",
   "execution_count": 58,
   "metadata": {},
   "outputs": [
    {
     "data": {
      "image/png": "[encoded data removed]",
      "text/plain": [
       "<Figure size 432x288 with 1 Axes>"
      ]
     },
     "metadata": {
      "needs_background": "light"
     },
     "output_type": "display_data"
    },
    {
     "data": {
      "image/png": "[encoded data removed]",
      "text/plain": [
       "<Figure size 432x288 with 1 Axes>"
      ]
     },
     "metadata": {
      "needs_background": "light"
     },
     "output_type": "display_data"
    }
   ],
   "source": [
    "plt.plot(epoch_losses)\n",
    "plt.show()\n",
    "plt.plot(np.array(epoch_accuracies).T)\n",
    "plt.show()"
   ]
  },
  {
   "cell_type": "code",
   "execution_count": 59,
   "metadata": {},
   "outputs": [
    {
     "data": {
      "text/plain": [
       "55.0"
      ]
     },
     "execution_count": 59,
     "metadata": {},
     "output_type": "execute_result"
    }
   ],
   "source": [
    "max(epoch_accuracies[1])"
   ]
  },
  {
   "cell_type": "markdown",
   "metadata": {},
   "source": [
    "## Save model and scaler"
   ]
  },
  {
   "cell_type": "code",
   "execution_count": 60,
   "metadata": {},
   "outputs": [
    {
     "data": {
      "text/plain": [
       "['scalers/yoked_force_scaler.sk']"
      ]
     },
     "execution_count": 60,
     "metadata": {},
     "output_type": "execute_result"
    }
   ],
   "source": [
    "torch.save(best_model.state_dict(), \"models/yoked_force_model.pt\")\n",
    "joblib.dump(scaler, \"scalers/yoked_force_scaler.sk\")"
   ]
  },
  {
   "cell_type": "markdown",
   "metadata": {},
   "source": [
    "## Evaluate saved model"
   ]
  },
  {
   "cell_type": "code",
   "execution_count": 61,
   "metadata": {},
   "outputs": [
    {
     "name": "stderr",
     "output_type": "stream",
     "text": [
      "\n",
      "\n",
      "  0%|          | 0/1 [00:00<?, ?it/s]\u001b[A\u001b[A\n",
      "\n",
      "100%|██████████| 1/1 [00:00<00:00, 559.24it/s]\u001b[A\u001b[A"
     ]
    },
    {
     "name": "stdout",
     "output_type": "stream",
     "text": [
      "Model's accuracy on test set: 100.0\n"
     ]
    },
    {
     "data": {
      "image/png": "[encoded data removed]",
      "text/plain": [
       "<Figure size 432x288 with 2 Axes>"
      ]
     },
     "metadata": {
      "needs_background": "light"
     },
     "output_type": "display_data"
    },
    {
     "data": {
      "image/png": "[encoded data removed]",
      "text/plain": [
       "<Figure size 432x288 with 2 Axes>"
      ]
     },
     "metadata": {
      "needs_background": "light"
     },
     "output_type": "display_data"
    }
   ],
   "source": [
    "model_path = \"models/yoked_force_model.pt\"\n",
    "scaler_path = \"scalers/yoked_force_scaler.sk\"\n",
    "network_dims = (INPUT_DIM, HIDDEN_DIM, N_LAYERS, OUTPUT_DIM)\n",
    "class_columns = FORCE_CLASS_COLS\n",
    "\n",
    "evaluate_saved_model(model_path, list(network_dims) + [DROPOUT], None, BASIC_TRAINING_COLS,\n",
    "                     class_columns=class_columns, step_size=STEP_SIZE, scaler_path=scaler_path, trials=test_trials)"
   ]
  },
  {
   "cell_type": "markdown",
   "metadata": {},
   "source": [
    "# MASS TRAINING (Humans achieve 45% +- 20%)"
   ]
  },
  {
   "cell_type": "markdown",
   "metadata": {},
   "source": [
    "## Read dataset and preprocess it"
   ]
  },
  {
   "cell_type": "code",
   "execution_count": 22,
   "metadata": {},
   "outputs": [],
   "source": [
    "scaler = joblib.load(\"scalers/passive_mass_scaler.sk\")"
   ]
  },
  {
   "cell_type": "code",
   "execution_count": 23,
   "metadata": {
    "scrolled": true
   },
   "outputs": [
    {
     "name": "stderr",
     "output_type": "stream",
     "text": [
      "100%|██████████| 734/734 [00:00<00:00, 1210.44it/s]\n",
      "100%|██████████| 250/250 [00:00<00:00, 1191.50it/s]\n",
      "100%|██████████| 100/100 [00:00<00:00, 1159.76it/s]\n"
     ]
    }
   ],
   "source": [
    "loaders, scaler = prepare_dataset([train_trials, val_trials, test_trials], training_columns=BASIC_TRAINING_COLS, \n",
    "                                  class_columns=MASS_CLASS_COLS, batch_size=BATCH_SIZE, \n",
    "                                  normalise_data=NORMALISE_DATA, scaler=scaler)"
   ]
  },
  {
   "cell_type": "code",
   "execution_count": 24,
   "metadata": {},
   "outputs": [],
   "source": [
    "train_loader, val_loader, test_loader = loaders"
   ]
  },
  {
   "cell_type": "code",
   "execution_count": 25,
   "metadata": {},
   "outputs": [
    {
     "name": "stdout",
     "output_type": "stream",
     "text": [
      "[266 226 242]\n",
      "Majority class:  0.36239782016348776\n",
      "[84 69 97]\n",
      "Majority class:  0.388\n",
      "[34 22 44]\n",
      "Majority class:  0.44\n"
     ]
    }
   ],
   "source": [
    "class_proportions(train_loader)\n",
    "class_proportions(val_loader)\n",
    "class_proportions(test_loader)"
   ]
  },
  {
   "cell_type": "markdown",
   "metadata": {},
   "source": [
    "## Define model, loss and optimizer"
   ]
  },
  {
   "cell_type": "markdown",
   "metadata": {},
   "source": [
    "## Train model and plot loss and accuracy"
   ]
  },
  {
   "cell_type": "code",
   "execution_count": 28,
   "metadata": {},
   "outputs": [],
   "source": [
    "model_path = \"models/passive_mass_model.pt\"\n",
    "model = ComplexRNNModel(*network_dims, DROPOUT)\n",
    "model.load_state_dict(torch.load(model_path))\n",
    "model.train()\n",
    "model = model.cuda()\n",
    "model.rec_one.requires_grad = False\n",
    "\n",
    "error = nn.CrossEntropyLoss().cuda()\n",
    "optimizer = torch.optim.Adam(model.parameters(), lr=0.005)"
   ]
  },
  {
   "cell_type": "code",
   "execution_count": 29,
   "metadata": {
    "scrolled": true
   },
   "outputs": [
    {
     "name": "stderr",
     "output_type": "stream",
     "text": [
      "\n",
      "  0%|          | 0/200 [00:00<?, ?it/s]\u001b[A\n",
      "Train_loss (1.83)\t Train_acc (52.18)\t Val_acc (50.40):   0%|          | 0/200 [00:02<?, ?it/s]\u001b[A\n",
      "Train_loss (1.83)\t Train_acc (52.18)\t Val_acc (50.40):   0%|          | 1/200 [00:02<06:40,  2.01s/it]\u001b[A\n",
      "Train_loss (1.17)\t Train_acc (54.22)\t Val_acc (50.40):   0%|          | 1/200 [00:03<06:40,  2.01s/it]\u001b[A\n",
      "Train_loss (1.17)\t Train_acc (54.22)\t Val_acc (50.40):   1%|          | 2/200 [00:03<06:37,  2.01s/it]\u001b[A\n",
      "Train_loss (0.97)\t Train_acc (54.36)\t Val_acc (46.00):   1%|          | 2/200 [00:05<06:37,  2.01s/it]\u001b[A\n",
      "Train_loss (0.97)\t Train_acc (54.36)\t Val_acc (46.00):   2%|▏         | 3/200 [00:05<06:33,  2.00s/it]\u001b[A\n",
      "Train_loss (0.95)\t Train_acc (54.77)\t Val_acc (49.20):   2%|▏         | 3/200 [00:07<06:33,  2.00s/it]\u001b[A\n",
      "Train_loss (0.95)\t Train_acc (54.77)\t Val_acc (49.20):   2%|▏         | 4/200 [00:07<06:30,  1.99s/it]\u001b[A\n",
      "Train_loss (0.93)\t Train_acc (55.18)\t Val_acc (47.20):   2%|▏         | 4/200 [00:09<06:30,  1.99s/it]\u001b[A\n",
      "Train_loss (0.93)\t Train_acc (55.18)\t Val_acc (47.20):   2%|▎         | 5/200 [00:09<06:28,  1.99s/it]\u001b[A\n",
      "Train_loss (0.90)\t Train_acc (56.81)\t Val_acc (48.00):   2%|▎         | 5/200 [00:12<06:28,  1.99s/it]\u001b[A\n",
      "Train_loss (0.90)\t Train_acc (56.81)\t Val_acc (48.00):   3%|▎         | 6/200 [00:12<06:30,  2.02s/it]\u001b[A\n",
      "Train_loss (0.88)\t Train_acc (58.31)\t Val_acc (49.20):   3%|▎         | 6/200 [00:14<06:30,  2.02s/it]\u001b[A\n",
      "Train_loss (0.88)\t Train_acc (58.31)\t Val_acc (49.20):   4%|▎         | 7/200 [00:14<06:29,  2.02s/it]\u001b[A\n",
      "Train_loss (0.85)\t Train_acc (59.13)\t Val_acc (50.00):   4%|▎         | 7/200 [00:16<06:29,  2.02s/it]\u001b[A\n",
      "Train_loss (0.85)\t Train_acc (59.13)\t Val_acc (50.00):   4%|▍         | 8/200 [00:16<06:25,  2.01s/it]\u001b[A\n",
      "Train_loss (0.83)\t Train_acc (60.49)\t Val_acc (51.20):   4%|▍         | 8/200 [00:18<06:25,  2.01s/it]\u001b[A\n",
      "Train_loss (0.83)\t Train_acc (60.49)\t Val_acc (51.20):   4%|▍         | 9/200 [00:18<06:21,  2.00s/it]\u001b[A\n",
      "Train_loss (0.83)\t Train_acc (62.13)\t Val_acc (52.00):   4%|▍         | 9/200 [00:19<06:21,  2.00s/it]\u001b[A\n",
      "Train_loss (0.83)\t Train_acc (62.13)\t Val_acc (52.00):   5%|▌         | 10/200 [00:19<06:18,  1.99s/it]\u001b[A\n",
      "Train_loss (0.80)\t Train_acc (62.53)\t Val_acc (50.40):   5%|▌         | 10/200 [00:22<06:18,  1.99s/it]\u001b[A\n",
      "Train_loss (0.80)\t Train_acc (62.53)\t Val_acc (50.40):   6%|▌         | 11/200 [00:22<06:18,  2.00s/it]\u001b[A\n",
      "Train_loss (0.77)\t Train_acc (64.44)\t Val_acc (50.40):   6%|▌         | 11/200 [00:24<06:18,  2.00s/it]\u001b[A\n",
      "Train_loss (0.77)\t Train_acc (64.44)\t Val_acc (50.40):   6%|▌         | 12/200 [00:24<06:16,  2.00s/it]\u001b[A\n",
      "Train_loss (0.74)\t Train_acc (64.85)\t Val_acc (50.80):   6%|▌         | 12/200 [00:26<06:16,  2.00s/it]\u001b[A\n",
      "Train_loss (0.74)\t Train_acc (64.85)\t Val_acc (50.80):   6%|▋         | 13/200 [00:26<06:13,  2.00s/it]\u001b[A\n",
      "Train_loss (0.73)\t Train_acc (65.12)\t Val_acc (50.40):   6%|▋         | 13/200 [00:27<06:13,  2.00s/it]\u001b[A\n",
      "Train_loss (0.73)\t Train_acc (65.12)\t Val_acc (50.40):   7%|▋         | 14/200 [00:27<06:10,  1.99s/it]\u001b[A\n",
      "Train_loss (0.69)\t Train_acc (65.53)\t Val_acc (49.20):   7%|▋         | 14/200 [00:29<06:10,  1.99s/it]\u001b[A\n",
      "Train_loss (0.69)\t Train_acc (65.53)\t Val_acc (49.20):   8%|▊         | 15/200 [00:29<06:07,  1.98s/it]\u001b[A\n",
      "Train_loss (0.67)\t Train_acc (65.53)\t Val_acc (47.60):   8%|▊         | 15/200 [00:31<06:07,  1.98s/it]\u001b[A\n",
      "Train_loss (0.67)\t Train_acc (65.53)\t Val_acc (47.60):   8%|▊         | 16/200 [00:31<06:04,  1.98s/it]\u001b[A\n",
      "Train_loss (0.64)\t Train_acc (66.62)\t Val_acc (47.60):   8%|▊         | 16/200 [00:33<06:04,  1.98s/it]\u001b[A\n",
      "Train_loss (0.64)\t Train_acc (66.62)\t Val_acc (47.60):   8%|▊         | 17/200 [00:33<06:01,  1.98s/it]\u001b[A\n",
      "Train_loss (0.62)\t Train_acc (67.71)\t Val_acc (47.60):   8%|▊         | 17/200 [00:35<06:01,  1.98s/it]\u001b[A\n",
      "Train_loss (0.62)\t Train_acc (67.71)\t Val_acc (47.60):   9%|▉         | 18/200 [00:35<05:59,  1.98s/it]\u001b[A\n",
      "Train_loss (0.60)\t Train_acc (68.12)\t Val_acc (49.20):   9%|▉         | 18/200 [00:37<05:59,  1.98s/it]\u001b[A\n",
      "Train_loss (0.60)\t Train_acc (68.12)\t Val_acc (49.20):  10%|▉         | 19/200 [00:37<05:57,  1.97s/it]\u001b[A\n",
      "Train_loss (0.57)\t Train_acc (69.48)\t Val_acc (50.00):  10%|▉         | 19/200 [00:39<05:57,  1.97s/it]\u001b[A\n",
      "Train_loss (0.57)\t Train_acc (69.48)\t Val_acc (50.00):  10%|█         | 20/200 [00:39<05:55,  1.98s/it]\u001b[A\n",
      "Train_loss (0.55)\t Train_acc (71.12)\t Val_acc (50.40):  10%|█         | 20/200 [00:41<05:55,  1.98s/it]\u001b[A\n",
      "Train_loss (0.55)\t Train_acc (71.12)\t Val_acc (50.40):  10%|█         | 21/200 [00:41<05:53,  1.97s/it]\u001b[A\n",
      "Train_loss (0.50)\t Train_acc (68.94)\t Val_acc (49.20):  10%|█         | 21/200 [00:43<05:53,  1.97s/it]\u001b[A\n",
      "Train_loss (0.50)\t Train_acc (68.94)\t Val_acc (49.20):  11%|█         | 22/200 [00:43<05:51,  1.97s/it]\u001b[A\n",
      "Train_loss (0.48)\t Train_acc (71.93)\t Val_acc (49.60):  11%|█         | 22/200 [00:45<05:51,  1.97s/it]\u001b[A\n",
      "Train_loss (0.48)\t Train_acc (71.93)\t Val_acc (49.60):  12%|█▏        | 23/200 [00:45<05:49,  1.97s/it]\u001b[A\n",
      "Train_loss (0.44)\t Train_acc (71.66)\t Val_acc (48.40):  12%|█▏        | 23/200 [00:47<05:49,  1.97s/it]\u001b[A\n",
      "Train_loss (0.44)\t Train_acc (71.66)\t Val_acc (48.40):  12%|█▏        | 24/200 [00:47<05:46,  1.97s/it]\u001b[A\n",
      "Train_loss (0.42)\t Train_acc (74.25)\t Val_acc (50.40):  12%|█▏        | 24/200 [00:49<05:46,  1.97s/it]\u001b[A\n",
      "Train_loss (0.42)\t Train_acc (74.25)\t Val_acc (50.40):  12%|█▎        | 25/200 [00:49<05:44,  1.97s/it]\u001b[A\n",
      "Train_loss (0.41)\t Train_acc (72.07)\t Val_acc (51.60):  12%|█▎        | 25/200 [00:51<05:44,  1.97s/it]\u001b[A\n",
      "Train_loss (0.41)\t Train_acc (72.07)\t Val_acc (51.60):  13%|█▎        | 26/200 [00:51<05:43,  1.97s/it]\u001b[A\n",
      "Train_loss (0.39)\t Train_acc (73.71)\t Val_acc (51.60):  13%|█▎        | 26/200 [00:53<05:43,  1.97s/it]\u001b[A\n",
      "Train_loss (0.39)\t Train_acc (73.71)\t Val_acc (51.60):  14%|█▎        | 27/200 [00:53<05:40,  1.97s/it]\u001b[A\n",
      "Train_loss (0.37)\t Train_acc (73.71)\t Val_acc (48.40):  14%|█▎        | 27/200 [00:55<05:40,  1.97s/it]\u001b[A\n",
      "Train_loss (0.37)\t Train_acc (73.71)\t Val_acc (48.40):  14%|█▍        | 28/200 [00:55<05:38,  1.97s/it]\u001b[A\n",
      "Train_loss (0.35)\t Train_acc (72.75)\t Val_acc (48.80):  14%|█▍        | 28/200 [00:57<05:38,  1.97s/it]\u001b[A\n",
      "Train_loss (0.35)\t Train_acc (72.75)\t Val_acc (48.80):  14%|█▍        | 29/200 [00:57<05:35,  1.96s/it]\u001b[A\n",
      "Train_loss (0.33)\t Train_acc (75.34)\t Val_acc (50.00):  14%|█▍        | 29/200 [00:59<05:35,  1.96s/it]\u001b[A\n",
      "Train_loss (0.33)\t Train_acc (75.34)\t Val_acc (50.00):  15%|█▌        | 30/200 [00:59<05:34,  1.97s/it]\u001b[A\n",
      "Train_loss (0.31)\t Train_acc (73.57)\t Val_acc (48.80):  15%|█▌        | 30/200 [01:01<05:34,  1.97s/it]\u001b[A\n",
      "Train_loss (0.31)\t Train_acc (73.57)\t Val_acc (48.80):  16%|█▌        | 31/200 [01:01<05:31,  1.96s/it]\u001b[A\n",
      "Train_loss (0.32)\t Train_acc (76.16)\t Val_acc (48.80):  16%|█▌        | 31/200 [01:03<05:31,  1.96s/it]\u001b[A\n",
      "Train_loss (0.32)\t Train_acc (76.16)\t Val_acc (48.80):  16%|█▌        | 32/200 [01:03<05:29,  1.96s/it]\u001b[A\n",
      "Train_loss (0.29)\t Train_acc (74.66)\t Val_acc (49.60):  16%|█▌        | 32/200 [01:05<05:29,  1.96s/it]\u001b[A\n",
      "Train_loss (0.29)\t Train_acc (74.66)\t Val_acc (49.60):  16%|█▋        | 33/200 [01:05<05:27,  1.96s/it]\u001b[A\n",
      "Train_loss (0.29)\t Train_acc (76.98)\t Val_acc (52.40):  16%|█▋        | 33/200 [01:07<05:27,  1.96s/it]\u001b[A\n",
      "Train_loss (0.29)\t Train_acc (76.98)\t Val_acc (52.40):  17%|█▋        | 34/200 [01:07<05:27,  1.97s/it]\u001b[A\n",
      "Train_loss (0.25)\t Train_acc (74.52)\t Val_acc (50.80):  17%|█▋        | 34/200 [01:09<05:27,  1.97s/it]\u001b[A\n",
      "Train_loss (0.25)\t Train_acc (74.52)\t Val_acc (50.80):  18%|█▊        | 35/200 [01:09<05:25,  1.97s/it]\u001b[A\n",
      "Train_loss (0.27)\t Train_acc (76.16)\t Val_acc (51.60):  18%|█▊        | 35/200 [01:11<05:25,  1.97s/it]\u001b[A\n",
      "Train_loss (0.27)\t Train_acc (76.16)\t Val_acc (51.60):  18%|█▊        | 36/200 [01:11<05:22,  1.97s/it]\u001b[A\n",
      "Train_loss (0.26)\t Train_acc (77.79)\t Val_acc (51.20):  18%|█▊        | 36/200 [01:13<05:22,  1.97s/it]\u001b[A\n",
      "Train_loss (0.26)\t Train_acc (77.79)\t Val_acc (51.20):  18%|█▊        | 37/200 [01:13<05:20,  1.97s/it]\u001b[A\n",
      "Train_loss (0.28)\t Train_acc (75.48)\t Val_acc (48.00):  18%|█▊        | 37/200 [01:15<05:20,  1.97s/it]\u001b[A\n",
      "Train_loss (0.28)\t Train_acc (75.48)\t Val_acc (48.00):  19%|█▉        | 38/200 [01:15<05:18,  1.97s/it]\u001b[A\n"
     ]
    },
    {
     "name": "stderr",
     "output_type": "stream",
     "text": [
      "Train_loss (0.24)\t Train_acc (79.02)\t Val_acc (48.40):  19%|█▉        | 38/200 [01:17<05:18,  1.97s/it]\u001b[A\n",
      "Train_loss (0.24)\t Train_acc (79.02)\t Val_acc (48.40):  20%|█▉        | 39/200 [01:17<05:16,  1.97s/it]\u001b[A\n",
      "Train_loss (0.22)\t Train_acc (79.16)\t Val_acc (54.00):  20%|█▉        | 39/200 [01:19<05:16,  1.97s/it]\u001b[A\n",
      "Train_loss (0.22)\t Train_acc (79.16)\t Val_acc (54.00):  20%|██        | 40/200 [01:19<05:14,  1.97s/it]\u001b[A\n",
      "Train_loss (0.26)\t Train_acc (75.75)\t Val_acc (52.40):  20%|██        | 40/200 [01:21<05:14,  1.97s/it]\u001b[A\n",
      "Train_loss (0.26)\t Train_acc (75.75)\t Val_acc (52.40):  20%|██        | 41/200 [01:21<05:13,  1.97s/it]\u001b[A\n",
      "Train_loss (0.25)\t Train_acc (79.84)\t Val_acc (51.20):  20%|██        | 41/200 [01:23<05:13,  1.97s/it]\u001b[A\n",
      "Train_loss (0.25)\t Train_acc (79.84)\t Val_acc (51.20):  21%|██        | 42/200 [01:23<05:11,  1.97s/it]\u001b[A\n",
      "Train_loss (0.23)\t Train_acc (79.43)\t Val_acc (52.00):  21%|██        | 42/200 [01:25<05:11,  1.97s/it]\u001b[A\n",
      "Train_loss (0.23)\t Train_acc (79.43)\t Val_acc (52.00):  22%|██▏       | 43/200 [01:25<05:08,  1.97s/it]\u001b[A\n",
      "Train_loss (0.22)\t Train_acc (79.70)\t Val_acc (50.40):  22%|██▏       | 43/200 [01:27<05:08,  1.97s/it]\u001b[A\n",
      "Train_loss (0.22)\t Train_acc (79.70)\t Val_acc (50.40):  22%|██▏       | 44/200 [01:27<05:06,  1.96s/it]\u001b[A\n",
      "Train_loss (0.21)\t Train_acc (80.11)\t Val_acc (50.80):  22%|██▏       | 44/200 [01:28<05:06,  1.96s/it]\u001b[A\n",
      "Train_loss (0.21)\t Train_acc (80.11)\t Val_acc (50.80):  22%|██▎       | 45/200 [01:28<05:03,  1.96s/it]\u001b[A\n",
      "Train_loss (0.20)\t Train_acc (79.70)\t Val_acc (51.60):  22%|██▎       | 45/200 [01:30<05:03,  1.96s/it]\u001b[A\n",
      "Train_loss (0.20)\t Train_acc (79.70)\t Val_acc (51.60):  23%|██▎       | 46/200 [01:30<05:01,  1.96s/it]\u001b[A\n",
      "Train_loss (0.21)\t Train_acc (80.25)\t Val_acc (50.00):  23%|██▎       | 46/200 [01:32<05:01,  1.96s/it]\u001b[A\n",
      "Train_loss (0.21)\t Train_acc (80.25)\t Val_acc (50.00):  24%|██▎       | 47/200 [01:32<05:00,  1.96s/it]\u001b[A\n",
      "Train_loss (0.18)\t Train_acc (79.43)\t Val_acc (48.80):  24%|██▎       | 47/200 [01:34<05:00,  1.96s/it]\u001b[A\n",
      "Train_loss (0.18)\t Train_acc (79.43)\t Val_acc (48.80):  24%|██▍       | 48/200 [01:34<04:58,  1.96s/it]\u001b[A\n",
      "Train_loss (0.19)\t Train_acc (78.75)\t Val_acc (49.60):  24%|██▍       | 48/200 [01:36<04:58,  1.96s/it]\u001b[A\n",
      "Train_loss (0.19)\t Train_acc (78.75)\t Val_acc (49.60):  24%|██▍       | 49/200 [01:36<04:58,  1.98s/it]\u001b[A\n",
      "Train_loss (0.15)\t Train_acc (79.16)\t Val_acc (48.00):  24%|██▍       | 49/200 [01:38<04:58,  1.98s/it]\u001b[A\n",
      "Train_loss (0.15)\t Train_acc (79.16)\t Val_acc (48.00):  25%|██▌       | 50/200 [01:38<05:00,  2.00s/it]\u001b[A\n",
      "Train_loss (0.16)\t Train_acc (80.65)\t Val_acc (46.00):  25%|██▌       | 50/200 [01:41<05:00,  2.00s/it]\u001b[A\n",
      "Train_loss (0.16)\t Train_acc (80.65)\t Val_acc (46.00):  26%|██▌       | 51/200 [01:41<05:08,  2.07s/it]\u001b[A\n",
      "Train_loss (0.16)\t Train_acc (79.16)\t Val_acc (46.40):  26%|██▌       | 51/200 [01:43<05:08,  2.07s/it]\u001b[A\n",
      "Train_loss (0.16)\t Train_acc (79.16)\t Val_acc (46.40):  26%|██▌       | 52/200 [01:43<05:13,  2.12s/it]\u001b[A\n",
      "Train_loss (0.16)\t Train_acc (82.02)\t Val_acc (49.20):  26%|██▌       | 52/200 [01:45<05:13,  2.12s/it]\u001b[A\n",
      "Train_loss (0.16)\t Train_acc (82.02)\t Val_acc (49.20):  26%|██▋       | 53/200 [01:45<05:15,  2.14s/it]\u001b[A\n",
      "Train_loss (0.15)\t Train_acc (80.38)\t Val_acc (50.00):  26%|██▋       | 53/200 [01:47<05:15,  2.14s/it]\u001b[A\n",
      "Train_loss (0.15)\t Train_acc (80.38)\t Val_acc (50.00):  27%|██▋       | 54/200 [01:47<05:07,  2.11s/it]\u001b[A\n",
      "Train_loss (0.12)\t Train_acc (79.97)\t Val_acc (51.20):  27%|██▋       | 54/200 [01:49<05:07,  2.11s/it]\u001b[A\n",
      "Train_loss (0.12)\t Train_acc (79.97)\t Val_acc (51.20):  28%|██▊       | 55/200 [01:49<04:59,  2.07s/it]\u001b[A\n",
      "Train_loss (0.12)\t Train_acc (78.75)\t Val_acc (49.20):  28%|██▊       | 55/200 [01:51<04:59,  2.07s/it]\u001b[A\n",
      "Train_loss (0.12)\t Train_acc (78.75)\t Val_acc (49.20):  28%|██▊       | 56/200 [01:51<04:53,  2.04s/it]\u001b[A\n",
      "Train_loss (0.11)\t Train_acc (80.65)\t Val_acc (51.60):  28%|██▊       | 56/200 [01:53<04:53,  2.04s/it]\u001b[A\n",
      "Train_loss (0.11)\t Train_acc (80.65)\t Val_acc (51.60):  28%|██▊       | 57/200 [01:53<04:49,  2.02s/it]\u001b[A\n",
      "Train_loss (0.12)\t Train_acc (81.61)\t Val_acc (50.40):  28%|██▊       | 57/200 [01:55<04:49,  2.02s/it]\u001b[A\n",
      "Train_loss (0.12)\t Train_acc (81.61)\t Val_acc (50.40):  29%|██▉       | 58/200 [01:55<04:45,  2.01s/it]\u001b[A\n",
      "Train_loss (0.13)\t Train_acc (81.34)\t Val_acc (50.40):  29%|██▉       | 58/200 [01:57<04:45,  2.01s/it]\u001b[A\n",
      "Train_loss (0.13)\t Train_acc (81.34)\t Val_acc (50.40):  30%|██▉       | 59/200 [01:57<04:41,  2.00s/it]\u001b[A\n",
      "Train_loss (0.15)\t Train_acc (83.65)\t Val_acc (51.20):  30%|██▉       | 59/200 [01:59<04:41,  2.00s/it]\u001b[A\n",
      "Train_loss (0.15)\t Train_acc (83.65)\t Val_acc (51.20):  30%|███       | 60/200 [01:59<04:40,  2.00s/it]\u001b[A\n",
      "Train_loss (0.11)\t Train_acc (82.70)\t Val_acc (49.60):  30%|███       | 60/200 [02:01<04:40,  2.00s/it]\u001b[A\n",
      "Train_loss (0.11)\t Train_acc (82.70)\t Val_acc (49.60):  30%|███       | 61/200 [02:01<04:36,  1.99s/it]\u001b[A\n",
      "Train_loss (0.11)\t Train_acc (82.29)\t Val_acc (47.60):  30%|███       | 61/200 [02:03<04:36,  1.99s/it]\u001b[A\n",
      "Train_loss (0.11)\t Train_acc (82.29)\t Val_acc (47.60):  31%|███       | 62/200 [02:03<04:35,  1.99s/it]\u001b[A\n",
      "Train_loss (0.12)\t Train_acc (80.38)\t Val_acc (48.40):  31%|███       | 62/200 [02:05<04:35,  1.99s/it]\u001b[A\n",
      "Train_loss (0.12)\t Train_acc (80.38)\t Val_acc (48.40):  32%|███▏      | 63/200 [02:05<04:34,  2.00s/it]\u001b[A\n",
      "Train_loss (0.18)\t Train_acc (78.47)\t Val_acc (50.80):  32%|███▏      | 63/200 [02:07<04:34,  2.00s/it]\u001b[A\n",
      "Train_loss (0.18)\t Train_acc (78.47)\t Val_acc (50.80):  32%|███▏      | 64/200 [02:07<04:31,  1.99s/it]\u001b[A\n",
      "Train_loss (0.59)\t Train_acc (71.93)\t Val_acc (51.20):  32%|███▏      | 64/200 [02:09<04:31,  1.99s/it]\u001b[A\n",
      "Train_loss (0.59)\t Train_acc (71.93)\t Val_acc (51.20):  32%|███▎      | 65/200 [02:09<04:28,  1.99s/it]\u001b[A\n",
      "Train_loss (0.83)\t Train_acc (66.49)\t Val_acc (54.40):  32%|███▎      | 65/200 [02:11<04:28,  1.99s/it]\u001b[A\n",
      "Train_loss (0.83)\t Train_acc (66.49)\t Val_acc (54.40):  33%|███▎      | 66/200 [02:11<04:26,  1.99s/it]\u001b[A\n",
      "Train_loss (0.82)\t Train_acc (67.57)\t Val_acc (47.60):  33%|███▎      | 66/200 [02:13<04:26,  1.99s/it]\u001b[A\n",
      "Train_loss (0.82)\t Train_acc (67.57)\t Val_acc (47.60):  34%|███▎      | 67/200 [02:13<04:25,  2.00s/it]\u001b[A\n",
      "Train_loss (0.75)\t Train_acc (67.30)\t Val_acc (44.80):  34%|███▎      | 67/200 [02:15<04:25,  2.00s/it]\u001b[A\n",
      "Train_loss (0.75)\t Train_acc (67.30)\t Val_acc (44.80):  34%|███▍      | 68/200 [02:15<04:32,  2.06s/it]\u001b[A\n",
      "Train_loss (0.73)\t Train_acc (66.89)\t Val_acc (42.80):  34%|███▍      | 68/200 [02:17<04:32,  2.06s/it]\u001b[A\n",
      "Train_loss (0.73)\t Train_acc (66.89)\t Val_acc (42.80):  34%|███▍      | 69/200 [02:17<04:28,  2.05s/it]\u001b[A\n",
      "Train_loss (0.73)\t Train_acc (66.89)\t Val_acc (44.40):  34%|███▍      | 69/200 [02:19<04:28,  2.05s/it]\u001b[A\n",
      "Train_loss (0.73)\t Train_acc (66.89)\t Val_acc (44.40):  35%|███▌      | 70/200 [02:19<04:26,  2.05s/it]\u001b[A\n",
      "Train_loss (0.73)\t Train_acc (64.99)\t Val_acc (44.80):  35%|███▌      | 70/200 [02:21<04:26,  2.05s/it]\u001b[A\n",
      "Train_loss (0.73)\t Train_acc (64.99)\t Val_acc (44.80):  36%|███▌      | 71/200 [02:21<04:24,  2.05s/it]\u001b[A\n",
      "Train_loss (0.71)\t Train_acc (63.49)\t Val_acc (45.20):  36%|███▌      | 71/200 [02:23<04:24,  2.05s/it]\u001b[A\n",
      "Train_loss (0.71)\t Train_acc (63.49)\t Val_acc (45.20):  36%|███▌      | 72/200 [02:23<04:19,  2.03s/it]\u001b[A\n",
      "Train_loss (0.69)\t Train_acc (66.62)\t Val_acc (44.40):  36%|███▌      | 72/200 [02:25<04:19,  2.03s/it]\u001b[A\n",
      "Train_loss (0.69)\t Train_acc (66.62)\t Val_acc (44.40):  36%|███▋      | 73/200 [02:25<04:22,  2.06s/it]\u001b[A\n",
      "Train_loss (0.69)\t Train_acc (65.94)\t Val_acc (44.40):  36%|███▋      | 73/200 [02:28<04:22,  2.06s/it]\u001b[A\n",
      "Train_loss (0.69)\t Train_acc (65.94)\t Val_acc (44.40):  37%|███▋      | 74/200 [02:28<04:23,  2.09s/it]\u001b[A\n",
      "Train_loss (0.69)\t Train_acc (66.21)\t Val_acc (46.00):  37%|███▋      | 74/200 [02:30<04:23,  2.09s/it]\u001b[A\n",
      "Train_loss (0.69)\t Train_acc (66.21)\t Val_acc (46.00):  38%|███▊      | 75/200 [02:30<04:20,  2.08s/it]\u001b[A\n",
      "Train_loss (0.67)\t Train_acc (66.21)\t Val_acc (47.60):  38%|███▊      | 75/200 [02:32<04:20,  2.08s/it]\u001b[A\n",
      "Train_loss (0.67)\t Train_acc (66.21)\t Val_acc (47.60):  38%|███▊      | 76/200 [02:32<04:17,  2.08s/it]\u001b[A\n"
     ]
    },
    {
     "name": "stderr",
     "output_type": "stream",
     "text": [
      "Train_loss (0.63)\t Train_acc (67.57)\t Val_acc (46.00):  38%|███▊      | 76/200 [02:34<04:17,  2.08s/it]\u001b[A\n",
      "Train_loss (0.63)\t Train_acc (67.57)\t Val_acc (46.00):  38%|███▊      | 77/200 [02:34<04:15,  2.08s/it]\u001b[A\n",
      "Train_loss (0.62)\t Train_acc (67.85)\t Val_acc (43.60):  38%|███▊      | 77/200 [02:36<04:15,  2.08s/it]\u001b[A\n",
      "Train_loss (0.62)\t Train_acc (67.85)\t Val_acc (43.60):  39%|███▉      | 78/200 [02:36<04:12,  2.07s/it]\u001b[A\n",
      "Train_loss (0.59)\t Train_acc (68.26)\t Val_acc (43.60):  39%|███▉      | 78/200 [02:38<04:12,  2.07s/it]\u001b[A\n",
      "Train_loss (0.59)\t Train_acc (68.26)\t Val_acc (43.60):  40%|███▉      | 79/200 [02:38<04:08,  2.05s/it]\u001b[A\n",
      "Train_loss (0.59)\t Train_acc (70.44)\t Val_acc (44.00):  40%|███▉      | 79/200 [02:40<04:08,  2.05s/it]\u001b[A\n",
      "Train_loss (0.59)\t Train_acc (70.44)\t Val_acc (44.00):  40%|████      | 80/200 [02:40<04:08,  2.07s/it]\u001b[A\n",
      "Train_loss (0.54)\t Train_acc (69.62)\t Val_acc (44.40):  40%|████      | 80/200 [02:42<04:08,  2.07s/it]\u001b[A\n",
      "Train_loss (0.54)\t Train_acc (69.62)\t Val_acc (44.40):  40%|████      | 81/200 [02:42<04:08,  2.09s/it]\u001b[A\n",
      "Train_loss (0.52)\t Train_acc (70.44)\t Val_acc (46.40):  40%|████      | 81/200 [02:44<04:08,  2.09s/it]\u001b[A\n",
      "Train_loss (0.52)\t Train_acc (70.44)\t Val_acc (46.40):  41%|████      | 82/200 [02:44<04:09,  2.11s/it]\u001b[A\n",
      "Train_loss (0.50)\t Train_acc (70.71)\t Val_acc (47.60):  41%|████      | 82/200 [02:46<04:09,  2.11s/it]\u001b[A\n",
      "Train_loss (0.50)\t Train_acc (70.71)\t Val_acc (47.60):  42%|████▏     | 83/200 [02:46<04:09,  2.13s/it]\u001b[A\n",
      "Train_loss (0.47)\t Train_acc (70.98)\t Val_acc (48.40):  42%|████▏     | 83/200 [02:49<04:09,  2.13s/it]\u001b[A\n",
      "Train_loss (0.47)\t Train_acc (70.98)\t Val_acc (48.40):  42%|████▏     | 84/200 [02:49<04:07,  2.14s/it]\u001b[A\n",
      "Train_loss (0.49)\t Train_acc (72.48)\t Val_acc (46.40):  42%|████▏     | 84/200 [02:51<04:07,  2.14s/it]\u001b[A\n",
      "Train_loss (0.49)\t Train_acc (72.48)\t Val_acc (46.40):  42%|████▎     | 85/200 [02:51<04:04,  2.12s/it]\u001b[A\n",
      "Train_loss (0.44)\t Train_acc (73.02)\t Val_acc (48.00):  42%|████▎     | 85/200 [02:53<04:04,  2.12s/it]\u001b[A\n",
      "Train_loss (0.44)\t Train_acc (73.02)\t Val_acc (48.00):  43%|████▎     | 86/200 [02:53<04:02,  2.13s/it]\u001b[A\n",
      "Train_loss (0.42)\t Train_acc (72.75)\t Val_acc (47.20):  43%|████▎     | 86/200 [02:55<04:02,  2.13s/it]\u001b[A\n",
      "Train_loss (0.42)\t Train_acc (72.75)\t Val_acc (47.20):  44%|████▎     | 87/200 [02:55<03:56,  2.09s/it]\u001b[A\n",
      "Train_loss (0.44)\t Train_acc (73.71)\t Val_acc (48.00):  44%|████▎     | 87/200 [02:57<03:56,  2.09s/it]\u001b[A\n",
      "Train_loss (0.44)\t Train_acc (73.71)\t Val_acc (48.00):  44%|████▍     | 88/200 [02:57<03:50,  2.05s/it]\u001b[A\n",
      "Train_loss (0.39)\t Train_acc (73.30)\t Val_acc (46.80):  44%|████▍     | 88/200 [02:59<03:50,  2.05s/it]\u001b[A\n",
      "Train_loss (0.39)\t Train_acc (73.30)\t Val_acc (46.80):  44%|████▍     | 89/200 [02:59<03:45,  2.03s/it]\u001b[A\n",
      "Train_loss (0.36)\t Train_acc (75.75)\t Val_acc (48.00):  44%|████▍     | 89/200 [03:01<03:45,  2.03s/it]\u001b[A\n",
      "Train_loss (0.36)\t Train_acc (75.75)\t Val_acc (48.00):  45%|████▌     | 90/200 [03:01<03:41,  2.01s/it]\u001b[A\n",
      "Train_loss (0.36)\t Train_acc (76.43)\t Val_acc (45.60):  45%|████▌     | 90/200 [03:03<03:41,  2.01s/it]\u001b[A\n",
      "Train_loss (0.36)\t Train_acc (76.43)\t Val_acc (45.60):  46%|████▌     | 91/200 [03:03<03:38,  2.00s/it]\u001b[A\n",
      "Train_loss (0.34)\t Train_acc (75.75)\t Val_acc (44.80):  46%|████▌     | 91/200 [03:05<03:38,  2.00s/it]\u001b[A\n",
      "Train_loss (0.34)\t Train_acc (75.75)\t Val_acc (44.80):  46%|████▌     | 92/200 [03:05<03:35,  2.00s/it]\u001b[A\n",
      "Train_loss (0.35)\t Train_acc (77.38)\t Val_acc (47.60):  46%|████▌     | 92/200 [03:07<03:35,  2.00s/it]\u001b[A\n",
      "Train_loss (0.35)\t Train_acc (77.38)\t Val_acc (47.60):  46%|████▋     | 93/200 [03:07<03:33,  2.00s/it]\u001b[A\n",
      "Train_loss (0.33)\t Train_acc (78.75)\t Val_acc (48.40):  46%|████▋     | 93/200 [03:09<03:33,  2.00s/it]\u001b[A\n",
      "Train_loss (0.33)\t Train_acc (78.75)\t Val_acc (48.40):  47%|████▋     | 94/200 [03:09<03:31,  1.99s/it]\u001b[A\n",
      "Train_loss (0.30)\t Train_acc (77.79)\t Val_acc (44.80):  47%|████▋     | 94/200 [03:11<03:31,  1.99s/it]\u001b[A\n",
      "Train_loss (0.30)\t Train_acc (77.79)\t Val_acc (44.80):  48%|████▊     | 95/200 [03:11<03:28,  1.99s/it]\u001b[A\n",
      "Train_loss (0.29)\t Train_acc (76.16)\t Val_acc (46.00):  48%|████▊     | 95/200 [03:13<03:28,  1.99s/it]\u001b[A\n",
      "Train_loss (0.29)\t Train_acc (76.16)\t Val_acc (46.00):  48%|████▊     | 96/200 [03:13<03:26,  1.99s/it]\u001b[A\n",
      "Train_loss (0.30)\t Train_acc (76.16)\t Val_acc (46.80):  48%|████▊     | 96/200 [03:15<03:26,  1.99s/it]\u001b[A\n",
      "Train_loss (0.30)\t Train_acc (76.16)\t Val_acc (46.80):  48%|████▊     | 97/200 [03:15<03:24,  1.98s/it]\u001b[A\n",
      "Train_loss (0.28)\t Train_acc (77.52)\t Val_acc (43.20):  48%|████▊     | 97/200 [03:17<03:24,  1.98s/it]\u001b[A\n",
      "Train_loss (0.28)\t Train_acc (77.52)\t Val_acc (43.20):  49%|████▉     | 98/200 [03:17<03:22,  1.98s/it]\u001b[A\n",
      "Train_loss (0.29)\t Train_acc (77.66)\t Val_acc (44.40):  49%|████▉     | 98/200 [03:19<03:22,  1.98s/it]\u001b[A\n",
      "Train_loss (0.29)\t Train_acc (77.66)\t Val_acc (44.40):  50%|████▉     | 99/200 [03:19<03:21,  1.99s/it]\u001b[A\n",
      "Train_loss (0.25)\t Train_acc (77.25)\t Val_acc (44.80):  50%|████▉     | 99/200 [03:21<03:21,  1.99s/it]\u001b[A\n",
      "Train_loss (0.25)\t Train_acc (77.25)\t Val_acc (44.80):  50%|█████     | 100/200 [03:21<03:20,  2.00s/it]\u001b[A\n",
      "Train_loss (0.30)\t Train_acc (80.52)\t Val_acc (44.80):  50%|█████     | 100/200 [03:23<03:20,  2.00s/it]\u001b[A\n",
      "Train_loss (0.30)\t Train_acc (80.52)\t Val_acc (44.80):  50%|█████     | 101/200 [03:23<03:18,  2.00s/it]\u001b[A\n",
      "Train_loss (0.25)\t Train_acc (79.97)\t Val_acc (45.60):  50%|█████     | 101/200 [03:25<03:18,  2.00s/it]\u001b[A\n",
      "Train_loss (0.25)\t Train_acc (79.97)\t Val_acc (45.60):  51%|█████     | 102/200 [03:25<03:15,  2.00s/it]\u001b[A\n",
      "Train_loss (0.26)\t Train_acc (79.70)\t Val_acc (44.80):  51%|█████     | 102/200 [03:27<03:15,  2.00s/it]\u001b[A\n",
      "Train_loss (0.26)\t Train_acc (79.70)\t Val_acc (44.80):  52%|█████▏    | 103/200 [03:27<03:12,  1.99s/it]\u001b[A\n",
      "Train_loss (0.22)\t Train_acc (78.75)\t Val_acc (46.40):  52%|█████▏    | 103/200 [03:29<03:12,  1.99s/it]\u001b[A\n",
      "Train_loss (0.22)\t Train_acc (78.75)\t Val_acc (46.40):  52%|█████▏    | 104/200 [03:29<03:10,  1.99s/it]\u001b[A\n",
      "Train_loss (0.24)\t Train_acc (77.66)\t Val_acc (44.80):  52%|█████▏    | 104/200 [03:31<03:10,  1.99s/it]\u001b[A\n",
      "Train_loss (0.24)\t Train_acc (77.66)\t Val_acc (44.80):  52%|█████▎    | 105/200 [03:31<03:08,  1.98s/it]\u001b[A\n",
      "Train_loss (0.23)\t Train_acc (79.43)\t Val_acc (44.80):  52%|█████▎    | 105/200 [03:33<03:08,  1.98s/it]\u001b[A\n",
      "Train_loss (0.23)\t Train_acc (79.43)\t Val_acc (44.80):  53%|█████▎    | 106/200 [03:33<03:05,  1.98s/it]\u001b[A\n",
      "Train_loss (0.19)\t Train_acc (79.56)\t Val_acc (46.80):  53%|█████▎    | 106/200 [03:34<03:05,  1.98s/it]\u001b[A\n",
      "Train_loss (0.19)\t Train_acc (79.56)\t Val_acc (46.80):  54%|█████▎    | 107/200 [03:34<03:03,  1.97s/it]\u001b[A\n",
      "Train_loss (0.22)\t Train_acc (76.29)\t Val_acc (44.80):  54%|█████▎    | 107/200 [03:36<03:03,  1.97s/it]\u001b[A\n",
      "Train_loss (0.22)\t Train_acc (76.29)\t Val_acc (44.80):  54%|█████▍    | 108/200 [03:36<03:02,  1.99s/it]\u001b[A\n",
      "Train_loss (0.19)\t Train_acc (78.34)\t Val_acc (45.60):  54%|█████▍    | 108/200 [03:38<03:02,  1.99s/it]\u001b[A\n",
      "Train_loss (0.19)\t Train_acc (78.34)\t Val_acc (45.60):  55%|█████▍    | 109/200 [03:38<03:00,  1.99s/it]\u001b[A\n",
      "Train_loss (0.23)\t Train_acc (80.79)\t Val_acc (47.20):  55%|█████▍    | 109/200 [03:40<03:00,  1.99s/it]\u001b[A\n",
      "Train_loss (0.23)\t Train_acc (80.79)\t Val_acc (47.20):  55%|█████▌    | 110/200 [03:40<02:58,  1.98s/it]\u001b[A\n",
      "Train_loss (0.21)\t Train_acc (77.38)\t Val_acc (46.80):  55%|█████▌    | 110/200 [03:43<02:58,  1.98s/it]\u001b[A\n",
      "Train_loss (0.21)\t Train_acc (77.38)\t Val_acc (46.80):  56%|█████▌    | 111/200 [03:43<02:58,  2.01s/it]\u001b[A\n",
      "Train_loss (0.23)\t Train_acc (78.07)\t Val_acc (47.60):  56%|█████▌    | 111/200 [03:45<02:58,  2.01s/it]\u001b[A\n",
      "Train_loss (0.23)\t Train_acc (78.07)\t Val_acc (47.60):  56%|█████▌    | 112/200 [03:45<02:56,  2.00s/it]\u001b[A\n",
      "Train_loss (0.18)\t Train_acc (80.25)\t Val_acc (46.80):  56%|█████▌    | 112/200 [03:46<02:56,  2.00s/it]\u001b[A\n",
      "Train_loss (0.18)\t Train_acc (80.25)\t Val_acc (46.80):  56%|█████▋    | 113/200 [03:46<02:53,  1.99s/it]\u001b[A\n",
      "Train_loss (0.17)\t Train_acc (79.56)\t Val_acc (43.60):  56%|█████▋    | 113/200 [03:48<02:53,  1.99s/it]\u001b[A\n",
      "Train_loss (0.17)\t Train_acc (79.56)\t Val_acc (43.60):  57%|█████▋    | 114/200 [03:48<02:50,  1.99s/it]\u001b[A\n"
     ]
    },
    {
     "name": "stderr",
     "output_type": "stream",
     "text": [
      "Train_loss (0.19)\t Train_acc (79.56)\t Val_acc (44.40):  57%|█████▋    | 114/200 [03:50<02:50,  1.99s/it]\u001b[A\n",
      "Train_loss (0.19)\t Train_acc (79.56)\t Val_acc (44.40):  57%|█████▊    | 115/200 [03:50<02:48,  1.98s/it]\u001b[A\n",
      "Train_loss (0.20)\t Train_acc (80.52)\t Val_acc (44.80):  57%|█████▊    | 115/200 [03:52<02:48,  1.98s/it]\u001b[A\n",
      "Train_loss (0.20)\t Train_acc (80.52)\t Val_acc (44.80):  58%|█████▊    | 116/200 [03:52<02:46,  1.99s/it]\u001b[A\n",
      "Train_loss (0.18)\t Train_acc (79.16)\t Val_acc (44.40):  58%|█████▊    | 116/200 [03:54<02:46,  1.99s/it]\u001b[A\n",
      "Train_loss (0.18)\t Train_acc (79.16)\t Val_acc (44.40):  58%|█████▊    | 117/200 [03:54<02:44,  1.98s/it]\u001b[A\n",
      "Train_loss (0.16)\t Train_acc (77.79)\t Val_acc (45.60):  58%|█████▊    | 117/200 [03:56<02:44,  1.98s/it]\u001b[A\n",
      "Train_loss (0.16)\t Train_acc (77.79)\t Val_acc (45.60):  59%|█████▉    | 118/200 [03:56<02:42,  1.98s/it]\u001b[A\n",
      "Train_loss (0.18)\t Train_acc (79.70)\t Val_acc (44.00):  59%|█████▉    | 118/200 [03:58<02:42,  1.98s/it]\u001b[A\n",
      "Train_loss (0.18)\t Train_acc (79.70)\t Val_acc (44.00):  60%|█████▉    | 119/200 [03:58<02:40,  1.98s/it]\u001b[A\n",
      "Train_loss (0.14)\t Train_acc (78.47)\t Val_acc (45.60):  60%|█████▉    | 119/200 [04:00<02:40,  1.98s/it]\u001b[A\n",
      "Train_loss (0.14)\t Train_acc (78.47)\t Val_acc (45.60):  60%|██████    | 120/200 [04:00<02:37,  1.97s/it]\u001b[A\n",
      "Train_loss (0.15)\t Train_acc (79.84)\t Val_acc (46.00):  60%|██████    | 120/200 [04:02<02:37,  1.97s/it]\u001b[A\n",
      "Train_loss (0.15)\t Train_acc (79.84)\t Val_acc (46.00):  60%|██████    | 121/200 [04:02<02:35,  1.97s/it]\u001b[A\n",
      "Train_loss (0.14)\t Train_acc (79.43)\t Val_acc (44.00):  60%|██████    | 121/200 [04:04<02:35,  1.97s/it]\u001b[A\n",
      "Train_loss (0.14)\t Train_acc (79.43)\t Val_acc (44.00):  61%|██████    | 122/200 [04:04<02:33,  1.97s/it]\u001b[A\n",
      "Train_loss (0.16)\t Train_acc (79.56)\t Val_acc (44.80):  61%|██████    | 122/200 [04:06<02:33,  1.97s/it]\u001b[A\n",
      "Train_loss (0.16)\t Train_acc (79.56)\t Val_acc (44.80):  62%|██████▏   | 123/200 [04:06<02:31,  1.97s/it]\u001b[A\n",
      "Train_loss (0.17)\t Train_acc (79.16)\t Val_acc (46.80):  62%|██████▏   | 123/200 [04:08<02:31,  1.97s/it]\u001b[A\n",
      "Train_loss (0.17)\t Train_acc (79.16)\t Val_acc (46.80):  62%|██████▏   | 124/200 [04:08<02:30,  1.98s/it]\u001b[A\n",
      "Train_loss (0.15)\t Train_acc (79.70)\t Val_acc (46.80):  62%|██████▏   | 124/200 [04:10<02:30,  1.98s/it]\u001b[A\n",
      "Train_loss (0.15)\t Train_acc (79.70)\t Val_acc (46.80):  62%|██████▎   | 125/200 [04:10<02:28,  1.98s/it]\u001b[A\n",
      "Train_loss (0.14)\t Train_acc (78.34)\t Val_acc (47.20):  62%|██████▎   | 125/200 [04:12<02:28,  1.98s/it]\u001b[A\n",
      "Train_loss (0.14)\t Train_acc (78.34)\t Val_acc (47.20):  63%|██████▎   | 126/200 [04:12<02:26,  1.98s/it]\u001b[A\n",
      "Train_loss (0.17)\t Train_acc (77.38)\t Val_acc (46.80):  63%|██████▎   | 126/200 [04:14<02:26,  1.98s/it]\u001b[A\n",
      "Train_loss (0.17)\t Train_acc (77.38)\t Val_acc (46.80):  64%|██████▎   | 127/200 [04:14<02:26,  2.01s/it]\u001b[A\n",
      "Train_loss (0.15)\t Train_acc (78.61)\t Val_acc (46.00):  64%|██████▎   | 127/200 [04:16<02:26,  2.01s/it]\u001b[A\n",
      "Train_loss (0.15)\t Train_acc (78.61)\t Val_acc (46.00):  64%|██████▍   | 128/200 [04:16<02:23,  1.99s/it]\u001b[A\n",
      "Train_loss (0.14)\t Train_acc (76.84)\t Val_acc (44.80):  64%|██████▍   | 128/200 [04:18<02:23,  1.99s/it]\u001b[A\n",
      "Train_loss (0.14)\t Train_acc (76.84)\t Val_acc (44.80):  64%|██████▍   | 129/200 [04:18<02:21,  1.99s/it]\u001b[A\n",
      "Train_loss (0.16)\t Train_acc (79.70)\t Val_acc (45.60):  64%|██████▍   | 129/200 [04:20<02:21,  1.99s/it]\u001b[A\n",
      "Train_loss (0.16)\t Train_acc (79.70)\t Val_acc (45.60):  65%|██████▌   | 130/200 [04:20<02:18,  1.98s/it]\u001b[A\n",
      "Train_loss (0.17)\t Train_acc (75.89)\t Val_acc (47.20):  65%|██████▌   | 130/200 [04:22<02:18,  1.98s/it]\u001b[A\n",
      "Train_loss (0.17)\t Train_acc (75.89)\t Val_acc (47.20):  66%|██████▌   | 131/200 [04:22<02:16,  1.98s/it]\u001b[A\n",
      "Train_loss (0.16)\t Train_acc (78.47)\t Val_acc (44.40):  66%|██████▌   | 131/200 [04:24<02:16,  1.98s/it]\u001b[A\n",
      "Train_loss (0.16)\t Train_acc (78.47)\t Val_acc (44.40):  66%|██████▌   | 132/200 [04:24<02:14,  1.98s/it]\u001b[A\n",
      "Train_loss (0.15)\t Train_acc (76.02)\t Val_acc (44.80):  66%|██████▌   | 132/200 [04:26<02:14,  1.98s/it]\u001b[A\n",
      "Train_loss (0.15)\t Train_acc (76.02)\t Val_acc (44.80):  66%|██████▋   | 133/200 [04:26<02:16,  2.03s/it]\u001b[A\n",
      "Train_loss (0.14)\t Train_acc (79.29)\t Val_acc (47.60):  66%|██████▋   | 133/200 [04:28<02:16,  2.03s/it]\u001b[A\n",
      "Train_loss (0.14)\t Train_acc (79.29)\t Val_acc (47.60):  67%|██████▋   | 134/200 [04:28<02:13,  2.02s/it]\u001b[A\n",
      "Train_loss (0.13)\t Train_acc (79.29)\t Val_acc (42.80):  67%|██████▋   | 134/200 [04:30<02:13,  2.02s/it]\u001b[A\n",
      "Train_loss (0.13)\t Train_acc (79.29)\t Val_acc (42.80):  68%|██████▊   | 135/200 [04:30<02:09,  2.00s/it]\u001b[A\n",
      "Train_loss (0.13)\t Train_acc (77.66)\t Val_acc (42.80):  68%|██████▊   | 135/200 [04:32<02:09,  2.00s/it]\u001b[A\n",
      "Train_loss (0.13)\t Train_acc (77.66)\t Val_acc (42.80):  68%|██████▊   | 136/200 [04:32<02:07,  1.99s/it]\u001b[A\n",
      "Train_loss (0.13)\t Train_acc (79.43)\t Val_acc (42.80):  68%|██████▊   | 136/200 [04:34<02:07,  1.99s/it]\u001b[A\n",
      "Train_loss (0.13)\t Train_acc (79.43)\t Val_acc (42.80):  68%|██████▊   | 137/200 [04:34<02:04,  1.98s/it]\u001b[A\n",
      "Train_loss (0.15)\t Train_acc (79.84)\t Val_acc (44.40):  68%|██████▊   | 137/200 [04:36<02:04,  1.98s/it]\u001b[A\n",
      "Train_loss (0.15)\t Train_acc (79.84)\t Val_acc (44.40):  69%|██████▉   | 138/200 [04:36<02:02,  1.98s/it]\u001b[A\n",
      "Train_loss (0.11)\t Train_acc (77.25)\t Val_acc (42.80):  69%|██████▉   | 138/200 [04:38<02:02,  1.98s/it]\u001b[A\n",
      "Train_loss (0.11)\t Train_acc (77.25)\t Val_acc (42.80):  70%|██████▉   | 139/200 [04:38<02:00,  1.98s/it]\u001b[A\n",
      "Train_loss (0.14)\t Train_acc (79.02)\t Val_acc (46.80):  70%|██████▉   | 139/200 [04:40<02:00,  1.98s/it]\u001b[A\n",
      "Train_loss (0.14)\t Train_acc (79.02)\t Val_acc (46.80):  70%|███████   | 140/200 [04:40<01:58,  1.97s/it]\u001b[A\n",
      "Train_loss (0.12)\t Train_acc (78.47)\t Val_acc (45.60):  70%|███████   | 140/200 [04:42<01:58,  1.97s/it]\u001b[A\n",
      "Train_loss (0.12)\t Train_acc (78.47)\t Val_acc (45.60):  70%|███████   | 141/200 [04:42<01:56,  1.97s/it]\u001b[A\n",
      "Train_loss (0.12)\t Train_acc (82.02)\t Val_acc (49.20):  70%|███████   | 141/200 [04:44<01:56,  1.97s/it]\u001b[A\n",
      "Train_loss (0.12)\t Train_acc (82.02)\t Val_acc (49.20):  71%|███████   | 142/200 [04:44<01:57,  2.02s/it]\u001b[A\n",
      "Train_loss (0.10)\t Train_acc (81.88)\t Val_acc (47.60):  71%|███████   | 142/200 [04:46<01:57,  2.02s/it]\u001b[A\n",
      "Train_loss (0.10)\t Train_acc (81.88)\t Val_acc (47.60):  72%|███████▏  | 143/200 [04:46<01:54,  2.02s/it]\u001b[A\n",
      "Train_loss (0.10)\t Train_acc (80.93)\t Val_acc (46.80):  72%|███████▏  | 143/200 [04:48<01:54,  2.02s/it]\u001b[A\n",
      "Train_loss (0.10)\t Train_acc (80.93)\t Val_acc (46.80):  72%|███████▏  | 144/200 [04:48<01:52,  2.01s/it]\u001b[A\n",
      "Train_loss (0.13)\t Train_acc (80.11)\t Val_acc (44.40):  72%|███████▏  | 144/200 [04:50<01:52,  2.01s/it]\u001b[A\n",
      "Train_loss (0.13)\t Train_acc (80.11)\t Val_acc (44.40):  72%|███████▎  | 145/200 [04:50<01:50,  2.00s/it]\u001b[A\n",
      "Train_loss (0.10)\t Train_acc (80.25)\t Val_acc (46.80):  72%|███████▎  | 145/200 [04:52<01:50,  2.00s/it]\u001b[A\n",
      "Train_loss (0.10)\t Train_acc (80.25)\t Val_acc (46.80):  73%|███████▎  | 146/200 [04:52<01:47,  2.00s/it]\u001b[A\n",
      "Train_loss (0.09)\t Train_acc (80.79)\t Val_acc (48.40):  73%|███████▎  | 146/200 [04:54<01:47,  2.00s/it]\u001b[A\n",
      "Train_loss (0.09)\t Train_acc (80.79)\t Val_acc (48.40):  74%|███████▎  | 147/200 [04:54<01:45,  2.00s/it]\u001b[A\n",
      "Train_loss (0.10)\t Train_acc (80.65)\t Val_acc (44.40):  74%|███████▎  | 147/200 [04:56<01:45,  2.00s/it]\u001b[A\n",
      "Train_loss (0.10)\t Train_acc (80.65)\t Val_acc (44.40):  74%|███████▍  | 148/200 [04:56<01:44,  2.01s/it]\u001b[A\n",
      "Train_loss (0.11)\t Train_acc (81.88)\t Val_acc (47.60):  74%|███████▍  | 148/200 [04:58<01:44,  2.01s/it]\u001b[A\n",
      "Train_loss (0.11)\t Train_acc (81.88)\t Val_acc (47.60):  74%|███████▍  | 149/200 [04:58<01:42,  2.01s/it]\u001b[A\n",
      "Train_loss (0.11)\t Train_acc (82.02)\t Val_acc (48.00):  74%|███████▍  | 149/200 [05:00<01:42,  2.01s/it]\u001b[A\n",
      "Train_loss (0.11)\t Train_acc (82.02)\t Val_acc (48.00):  75%|███████▌  | 150/200 [05:00<01:40,  2.00s/it]\u001b[A\n",
      "Train_loss (0.10)\t Train_acc (81.61)\t Val_acc (46.80):  75%|███████▌  | 150/200 [05:02<01:40,  2.00s/it]\u001b[A\n",
      "Train_loss (0.10)\t Train_acc (81.61)\t Val_acc (46.80):  76%|███████▌  | 151/200 [05:02<01:37,  2.00s/it]\u001b[A\n",
      "Train_loss (0.11)\t Train_acc (79.43)\t Val_acc (47.60):  76%|███████▌  | 151/200 [05:04<01:37,  2.00s/it]\u001b[A\n"
     ]
    },
    {
     "name": "stderr",
     "output_type": "stream",
     "text": [
      "Train_loss (0.11)\t Train_acc (79.43)\t Val_acc (47.60):  76%|███████▌  | 152/200 [05:04<01:35,  1.99s/it]\u001b[A\n",
      "Train_loss (0.10)\t Train_acc (79.29)\t Val_acc (46.40):  76%|███████▌  | 152/200 [05:06<01:35,  1.99s/it]\u001b[A\n",
      "Train_loss (0.10)\t Train_acc (79.29)\t Val_acc (46.40):  76%|███████▋  | 153/200 [05:06<01:36,  2.06s/it]\u001b[A\n",
      "Train_loss (0.10)\t Train_acc (80.52)\t Val_acc (49.20):  76%|███████▋  | 153/200 [05:08<01:36,  2.06s/it]\u001b[A\n",
      "Train_loss (0.10)\t Train_acc (80.52)\t Val_acc (49.20):  77%|███████▋  | 154/200 [05:08<01:34,  2.05s/it]\u001b[A\n",
      "Train_loss (0.08)\t Train_acc (80.52)\t Val_acc (48.00):  77%|███████▋  | 154/200 [05:10<01:34,  2.05s/it]\u001b[A\n",
      "Train_loss (0.08)\t Train_acc (80.52)\t Val_acc (48.00):  78%|███████▊  | 155/200 [05:10<01:31,  2.02s/it]\u001b[A\n",
      "Train_loss (0.11)\t Train_acc (80.52)\t Val_acc (45.60):  78%|███████▊  | 155/200 [05:12<01:31,  2.02s/it]\u001b[A\n",
      "Train_loss (0.11)\t Train_acc (80.52)\t Val_acc (45.60):  78%|███████▊  | 156/200 [05:12<01:28,  2.01s/it]\u001b[A\n",
      "Train_loss (0.08)\t Train_acc (80.25)\t Val_acc (46.40):  78%|███████▊  | 156/200 [05:14<01:28,  2.01s/it]\u001b[A\n",
      "Train_loss (0.08)\t Train_acc (80.25)\t Val_acc (46.40):  78%|███████▊  | 157/200 [05:14<01:25,  1.99s/it]\u001b[A\n",
      "Train_loss (0.09)\t Train_acc (80.79)\t Val_acc (44.80):  78%|███████▊  | 157/200 [05:16<01:25,  1.99s/it]\u001b[A\n",
      "Train_loss (0.09)\t Train_acc (80.79)\t Val_acc (44.80):  79%|███████▉  | 158/200 [05:16<01:23,  1.98s/it]\u001b[A\n",
      "Train_loss (0.08)\t Train_acc (81.47)\t Val_acc (46.80):  79%|███████▉  | 158/200 [05:18<01:23,  1.98s/it]\u001b[A\n",
      "Train_loss (0.08)\t Train_acc (81.47)\t Val_acc (46.80):  80%|███████▉  | 159/200 [05:18<01:21,  1.98s/it]\u001b[A\n",
      "Train_loss (0.08)\t Train_acc (81.06)\t Val_acc (44.80):  80%|███████▉  | 159/200 [05:20<01:21,  1.98s/it]\u001b[A\n",
      "Train_loss (0.08)\t Train_acc (81.06)\t Val_acc (44.80):  80%|████████  | 160/200 [05:20<01:19,  1.98s/it]\u001b[A\n",
      "Train_loss (0.08)\t Train_acc (78.75)\t Val_acc (46.00):  80%|████████  | 160/200 [05:22<01:19,  1.98s/it]\u001b[A\n",
      "Train_loss (0.08)\t Train_acc (78.75)\t Val_acc (46.00):  80%|████████  | 161/200 [05:22<01:16,  1.97s/it]\u001b[A\n",
      "Train_loss (0.09)\t Train_acc (79.84)\t Val_acc (46.80):  80%|████████  | 161/200 [05:24<01:16,  1.97s/it]\u001b[A\n",
      "Train_loss (0.09)\t Train_acc (79.84)\t Val_acc (46.80):  81%|████████  | 162/200 [05:24<01:17,  2.05s/it]\u001b[A\n",
      "Train_loss (0.07)\t Train_acc (80.25)\t Val_acc (45.20):  81%|████████  | 162/200 [05:26<01:17,  2.05s/it]\u001b[A\n",
      "Train_loss (0.07)\t Train_acc (80.25)\t Val_acc (45.20):  82%|████████▏ | 163/200 [05:26<01:15,  2.03s/it]\u001b[A\n",
      "Train_loss (0.11)\t Train_acc (81.61)\t Val_acc (46.80):  82%|████████▏ | 163/200 [05:28<01:15,  2.03s/it]\u001b[A\n",
      "Train_loss (0.11)\t Train_acc (81.61)\t Val_acc (46.80):  82%|████████▏ | 164/200 [05:28<01:12,  2.02s/it]\u001b[A\n",
      "Train_loss (0.08)\t Train_acc (78.47)\t Val_acc (47.60):  82%|████████▏ | 164/200 [05:30<01:12,  2.02s/it]\u001b[A\n",
      "Train_loss (0.08)\t Train_acc (78.47)\t Val_acc (47.60):  82%|████████▎ | 165/200 [05:30<01:10,  2.01s/it]\u001b[A\n",
      "Train_loss (0.09)\t Train_acc (80.65)\t Val_acc (45.60):  82%|████████▎ | 165/200 [05:32<01:10,  2.01s/it]\u001b[A\n",
      "Train_loss (0.09)\t Train_acc (80.65)\t Val_acc (45.60):  83%|████████▎ | 166/200 [05:32<01:07,  2.00s/it]\u001b[A\n",
      "Train_loss (0.08)\t Train_acc (80.93)\t Val_acc (44.80):  83%|████████▎ | 166/200 [05:34<01:07,  2.00s/it]\u001b[A\n",
      "Train_loss (0.08)\t Train_acc (80.93)\t Val_acc (44.80):  84%|████████▎ | 167/200 [05:34<01:05,  1.99s/it]\u001b[A\n",
      "Train_loss (0.08)\t Train_acc (81.88)\t Val_acc (44.00):  84%|████████▎ | 167/200 [05:36<01:05,  1.99s/it]\u001b[A\n",
      "Train_loss (0.08)\t Train_acc (81.88)\t Val_acc (44.00):  84%|████████▍ | 168/200 [05:36<01:03,  1.98s/it]\u001b[A\n",
      "Train_loss (0.08)\t Train_acc (80.79)\t Val_acc (43.20):  84%|████████▍ | 168/200 [05:38<01:03,  1.98s/it]\u001b[A\n",
      "Train_loss (0.08)\t Train_acc (80.79)\t Val_acc (43.20):  84%|████████▍ | 169/200 [05:38<01:01,  1.98s/it]\u001b[A\n",
      "Train_loss (0.06)\t Train_acc (80.52)\t Val_acc (44.40):  84%|████████▍ | 169/200 [05:40<01:01,  1.98s/it]\u001b[A\n",
      "Train_loss (0.06)\t Train_acc (80.52)\t Val_acc (44.40):  85%|████████▌ | 170/200 [05:40<00:59,  1.98s/it]\u001b[A\n",
      "Train_loss (0.08)\t Train_acc (80.11)\t Val_acc (45.60):  85%|████████▌ | 170/200 [05:42<00:59,  1.98s/it]\u001b[A\n",
      "Train_loss (0.08)\t Train_acc (80.11)\t Val_acc (45.60):  86%|████████▌ | 171/200 [05:42<00:57,  1.98s/it]\u001b[A\n",
      "Train_loss (0.08)\t Train_acc (80.93)\t Val_acc (43.20):  86%|████████▌ | 171/200 [05:44<00:57,  1.98s/it]\u001b[A\n",
      "Train_loss (0.08)\t Train_acc (80.93)\t Val_acc (43.20):  86%|████████▌ | 172/200 [05:44<00:55,  1.98s/it]\u001b[A\n",
      "Train_loss (0.07)\t Train_acc (80.65)\t Val_acc (47.20):  86%|████████▌ | 172/200 [05:46<00:55,  1.98s/it]\u001b[A\n",
      "Train_loss (0.07)\t Train_acc (80.65)\t Val_acc (47.20):  86%|████████▋ | 173/200 [05:46<00:54,  2.01s/it]\u001b[A\n",
      "Train_loss (0.08)\t Train_acc (79.02)\t Val_acc (44.80):  86%|████████▋ | 173/200 [05:48<00:54,  2.01s/it]\u001b[A\n",
      "Train_loss (0.08)\t Train_acc (79.02)\t Val_acc (44.80):  87%|████████▋ | 174/200 [05:48<00:52,  2.01s/it]\u001b[A\n",
      "Train_loss (0.09)\t Train_acc (80.38)\t Val_acc (48.00):  87%|████████▋ | 174/200 [05:50<00:52,  2.01s/it]\u001b[A\n",
      "Train_loss (0.09)\t Train_acc (80.38)\t Val_acc (48.00):  88%|████████▊ | 175/200 [05:50<00:49,  2.00s/it]\u001b[A\n",
      "Train_loss (0.09)\t Train_acc (81.47)\t Val_acc (43.20):  88%|████████▊ | 175/200 [05:52<00:49,  2.00s/it]\u001b[A\n",
      "Train_loss (0.09)\t Train_acc (81.47)\t Val_acc (43.20):  88%|████████▊ | 176/200 [05:52<00:47,  1.99s/it]\u001b[A\n",
      "Train_loss (0.07)\t Train_acc (81.20)\t Val_acc (46.40):  88%|████████▊ | 176/200 [05:54<00:47,  1.99s/it]\u001b[A\n",
      "Train_loss (0.07)\t Train_acc (81.20)\t Val_acc (46.40):  88%|████████▊ | 177/200 [05:54<00:45,  1.99s/it]\u001b[A\n",
      "Train_loss (0.06)\t Train_acc (81.47)\t Val_acc (47.60):  88%|████████▊ | 177/200 [05:56<00:45,  1.99s/it]\u001b[A\n",
      "Train_loss (0.06)\t Train_acc (81.47)\t Val_acc (47.60):  89%|████████▉ | 178/200 [05:56<00:43,  2.00s/it]\u001b[A\n",
      "Train_loss (0.06)\t Train_acc (81.88)\t Val_acc (46.80):  89%|████████▉ | 178/200 [05:58<00:43,  2.00s/it]\u001b[A\n",
      "Train_loss (0.06)\t Train_acc (81.88)\t Val_acc (46.80):  90%|████████▉ | 179/200 [05:58<00:41,  1.99s/it]\u001b[A\n",
      "Train_loss (0.04)\t Train_acc (82.43)\t Val_acc (45.60):  90%|████████▉ | 179/200 [06:00<00:41,  1.99s/it]\u001b[A\n",
      "Train_loss (0.04)\t Train_acc (82.43)\t Val_acc (45.60):  90%|█████████ | 180/200 [06:00<00:40,  2.02s/it]\u001b[A\n",
      "Train_loss (0.05)\t Train_acc (82.70)\t Val_acc (44.40):  90%|█████████ | 180/200 [06:02<00:40,  2.02s/it]\u001b[A\n",
      "Train_loss (0.05)\t Train_acc (82.70)\t Val_acc (44.40):  90%|█████████ | 181/200 [06:02<00:38,  2.01s/it]\u001b[A\n",
      "Train_loss (0.05)\t Train_acc (83.51)\t Val_acc (44.40):  90%|█████████ | 181/200 [06:04<00:38,  2.01s/it]\u001b[A\n",
      "Train_loss (0.05)\t Train_acc (83.51)\t Val_acc (44.40):  91%|█████████ | 182/200 [06:04<00:36,  2.00s/it]\u001b[A\n",
      "Train_loss (0.05)\t Train_acc (83.79)\t Val_acc (45.20):  91%|█████████ | 182/200 [06:06<00:36,  2.00s/it]\u001b[A\n",
      "Train_loss (0.05)\t Train_acc (83.79)\t Val_acc (45.20):  92%|█████████▏| 183/200 [06:06<00:33,  1.99s/it]\u001b[A\n",
      "Train_loss (0.05)\t Train_acc (83.11)\t Val_acc (45.20):  92%|█████████▏| 183/200 [06:08<00:33,  1.99s/it]\u001b[A\n",
      "Train_loss (0.05)\t Train_acc (83.11)\t Val_acc (45.20):  92%|█████████▏| 184/200 [06:08<00:31,  1.99s/it]\u001b[A\n",
      "Train_loss (0.04)\t Train_acc (82.43)\t Val_acc (47.20):  92%|█████████▏| 184/200 [06:10<00:31,  1.99s/it]\u001b[A\n",
      "Train_loss (0.04)\t Train_acc (82.43)\t Val_acc (47.20):  92%|█████████▎| 185/200 [06:10<00:29,  1.99s/it]\u001b[A\n",
      "Train_loss (0.06)\t Train_acc (79.97)\t Val_acc (46.00):  92%|█████████▎| 185/200 [06:12<00:29,  1.99s/it]\u001b[A\n",
      "Train_loss (0.06)\t Train_acc (79.97)\t Val_acc (46.00):  93%|█████████▎| 186/200 [06:12<00:27,  2.00s/it]\u001b[A\n",
      "Train_loss (0.06)\t Train_acc (81.47)\t Val_acc (47.20):  93%|█████████▎| 186/200 [06:14<00:27,  2.00s/it]\u001b[A\n",
      "Train_loss (0.06)\t Train_acc (81.47)\t Val_acc (47.20):  94%|█████████▎| 187/200 [06:14<00:26,  2.03s/it]\u001b[A\n",
      "Train_loss (0.08)\t Train_acc (81.20)\t Val_acc (46.80):  94%|█████████▎| 187/200 [06:16<00:26,  2.03s/it]\u001b[A\n",
      "Train_loss (0.08)\t Train_acc (81.20)\t Val_acc (46.80):  94%|█████████▍| 188/200 [06:16<00:24,  2.03s/it]\u001b[A\n",
      "Train_loss (0.06)\t Train_acc (78.47)\t Val_acc (47.20):  94%|█████████▍| 188/200 [06:18<00:24,  2.03s/it]\u001b[A\n",
      "Train_loss (0.06)\t Train_acc (78.47)\t Val_acc (47.20):  94%|█████████▍| 189/200 [06:18<00:22,  2.02s/it]\u001b[A\n"
     ]
    },
    {
     "name": "stderr",
     "output_type": "stream",
     "text": [
      "Train_loss (0.08)\t Train_acc (81.06)\t Val_acc (44.80):  94%|█████████▍| 189/200 [06:20<00:22,  2.02s/it]\u001b[A\n",
      "Train_loss (0.08)\t Train_acc (81.06)\t Val_acc (44.80):  95%|█████████▌| 190/200 [06:20<00:20,  2.01s/it]\u001b[A\n",
      "Train_loss (0.06)\t Train_acc (79.70)\t Val_acc (44.80):  95%|█████████▌| 190/200 [06:22<00:20,  2.01s/it]\u001b[A\n",
      "Train_loss (0.06)\t Train_acc (79.70)\t Val_acc (44.80):  96%|█████████▌| 191/200 [06:22<00:18,  2.00s/it]\u001b[A\n",
      "Train_loss (0.06)\t Train_acc (80.79)\t Val_acc (44.80):  96%|█████████▌| 191/200 [06:24<00:18,  2.00s/it]\u001b[A\n",
      "Train_loss (0.06)\t Train_acc (80.79)\t Val_acc (44.80):  96%|█████████▌| 192/200 [06:24<00:15,  2.00s/it]\u001b[A\n",
      "Train_loss (0.06)\t Train_acc (81.34)\t Val_acc (45.20):  96%|█████████▌| 192/200 [06:26<00:15,  2.00s/it]\u001b[A\n",
      "Train_loss (0.06)\t Train_acc (81.34)\t Val_acc (45.20):  96%|█████████▋| 193/200 [06:26<00:13,  1.99s/it]\u001b[A\n",
      "Train_loss (0.05)\t Train_acc (80.93)\t Val_acc (45.60):  96%|█████████▋| 193/200 [06:28<00:13,  1.99s/it]\u001b[A\n",
      "Train_loss (0.05)\t Train_acc (80.93)\t Val_acc (45.60):  97%|█████████▋| 194/200 [06:28<00:12,  2.01s/it]\u001b[A\n",
      "Train_loss (0.05)\t Train_acc (84.06)\t Val_acc (44.40):  97%|█████████▋| 194/200 [06:30<00:12,  2.01s/it]\u001b[A\n",
      "Train_loss (0.05)\t Train_acc (84.06)\t Val_acc (44.40):  98%|█████████▊| 195/200 [06:30<00:09,  1.99s/it]\u001b[A\n",
      "Train_loss (0.07)\t Train_acc (82.02)\t Val_acc (44.80):  98%|█████████▊| 195/200 [06:32<00:09,  1.99s/it]\u001b[A\n",
      "Train_loss (0.07)\t Train_acc (82.02)\t Val_acc (44.80):  98%|█████████▊| 196/200 [06:32<00:07,  1.99s/it]\u001b[A\n",
      "Train_loss (0.05)\t Train_acc (82.56)\t Val_acc (44.40):  98%|█████████▊| 196/200 [06:34<00:07,  1.99s/it]\u001b[A\n",
      "Train_loss (0.05)\t Train_acc (82.56)\t Val_acc (44.40):  98%|█████████▊| 197/200 [06:34<00:05,  1.98s/it]\u001b[A\n",
      "Train_loss (0.06)\t Train_acc (81.20)\t Val_acc (45.20):  98%|█████████▊| 197/200 [06:36<00:05,  1.98s/it]\u001b[A\n",
      "Train_loss (0.06)\t Train_acc (81.20)\t Val_acc (45.20):  99%|█████████▉| 198/200 [06:36<00:03,  1.97s/it]\u001b[A\n",
      "Train_loss (0.10)\t Train_acc (79.70)\t Val_acc (43.60):  99%|█████████▉| 198/200 [06:38<00:03,  1.97s/it]\u001b[A\n",
      "Train_loss (0.10)\t Train_acc (79.70)\t Val_acc (43.60): 100%|█████████▉| 199/200 [06:38<00:01,  1.97s/it]\u001b[A\n",
      "Train_loss (0.05)\t Train_acc (80.93)\t Val_acc (42.40): 100%|█████████▉| 199/200 [06:40<00:01,  1.97s/it]\u001b[A\n",
      "Train_loss (0.05)\t Train_acc (80.93)\t Val_acc (42.40): 100%|██████████| 200/200 [06:40<00:00,  1.97s/it]\u001b[A"
     ]
    }
   ],
   "source": [
    "epoch_losses, epoch_accuracies, best_model = training_loop(model, optimizer, error, train_loader, val_loader, EPOCHS, \n",
    "                                                           step_size=STEP_SIZE)"
   ]
  },
  {
   "cell_type": "code",
   "execution_count": 30,
   "metadata": {},
   "outputs": [
    {
     "data": {
      "image/png": "[encoded data removed]",
      "text/plain": [
       "<Figure size 432x288 with 1 Axes>"
      ]
     },
     "metadata": {
      "needs_background": "light"
     },
     "output_type": "display_data"
    },
    {
     "data": {
      "image/png": "[encoded data removed]",
      "text/plain": [
       "<Figure size 432x288 with 1 Axes>"
      ]
     },
     "metadata": {
      "needs_background": "light"
     },
     "output_type": "display_data"
    }
   ],
   "source": [
    "plt.plot(epoch_losses)\n",
    "plt.show()\n",
    "plt.plot(np.array(epoch_accuracies).T)\n",
    "plt.show()"
   ]
  },
  {
   "cell_type": "code",
   "execution_count": 31,
   "metadata": {},
   "outputs": [
    {
     "data": {
      "text/plain": [
       "54.4"
      ]
     },
     "execution_count": 31,
     "metadata": {},
     "output_type": "execute_result"
    }
   ],
   "source": [
    "max(epoch_accuracies[1])"
   ]
  },
  {
   "cell_type": "markdown",
   "metadata": {},
   "source": [
    "## Save model and scaler"
   ]
  },
  {
   "cell_type": "code",
   "execution_count": 32,
   "metadata": {},
   "outputs": [
    {
     "data": {
      "text/plain": [
       "['scalers/yoked_mass_scaler.sk']"
      ]
     },
     "execution_count": 32,
     "metadata": {},
     "output_type": "execute_result"
    }
   ],
   "source": [
    "torch.save(best_model.state_dict(), \"models/yoked_mass_model.pt\")\n",
    "joblib.dump(scaler, \"scalers/yoked_mass_scaler.sk\")"
   ]
  },
  {
   "cell_type": "markdown",
   "metadata": {},
   "source": [
    "## Load model and evaluate"
   ]
  },
  {
   "cell_type": "code",
   "execution_count": 33,
   "metadata": {},
   "outputs": [
    {
     "name": "stderr",
     "output_type": "stream",
     "text": [
      "\n",
      "  0%|          | 0/100 [00:00<?, ?it/s]\u001b[A\n",
      "100%|██████████| 100/100 [00:00<00:00, 1185.19it/s]\u001b[A"
     ]
    },
    {
     "name": "stdout",
     "output_type": "stream",
     "text": [
      "Model's accuracy on test set: 49.0\n"
     ]
    },
    {
     "data": {
      "image/png": "[encoded data removed]",
      "text/plain": [
       "<Figure size 432x288 with 2 Axes>"
      ]
     },
     "metadata": {
      "needs_background": "light"
     },
     "output_type": "display_data"
    },
    {
     "data": {
      "image/png": "[encoded data removed]",
      "text/plain": [
       "<Figure size 432x288 with 2 Axes>"
      ]
     },
     "metadata": {
      "needs_background": "light"
     },
     "output_type": "display_data"
    }
   ],
   "source": [
    "model_path = \"models/yoked_mass_model.pt\"\n",
    "scaler_path = \"scalers/yoked_mass_scaler.sk\"\n",
    "network_dims = (INPUT_DIM, HIDDEN_DIM, N_LAYERS, OUTPUT_DIM)\n",
    "class_columns = MASS_CLASS_COLS\n",
    "\n",
    "evaluate_saved_model(model_path, network_dims, None, BASIC_TRAINING_COLS,\n",
    "                     class_columns, step_size=STEP_SIZE, scaler_path=scaler_path, trials=test_trials)"
   ]
  }
 ],
 "metadata": {
  "kernelspec": {
   "display_name": "Python 3",
   "language": "python",
   "name": "python3"
  },
  "language_info": {
   "codemirror_mode": {
    "name": "ipython",
    "version": 3
   },
   "file_extension": ".py",
   "mimetype": "text/x-python",
   "name": "python",
   "nbconvert_exporter": "python",
   "pygments_lexer": "ipython3",
   "version": "3.5.6"
  }
 },
 "nbformat": 4,
 "nbformat_minor": 2
}
