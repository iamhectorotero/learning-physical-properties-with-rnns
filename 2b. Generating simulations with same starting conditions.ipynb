{
 "cells": [
  {
   "cell_type": "code",
   "execution_count": 1,
   "metadata": {},
   "outputs": [],
   "source": [
    "from simulator.environment import physic_env"
   ]
  },
  {
   "cell_type": "code",
   "execution_count": 2,
   "metadata": {},
   "outputs": [
    {
     "name": "stdout",
     "output_type": "stream",
     "text": [
      "pygame 1.9.6\n",
      "Hello from the pygame community. https://www.pygame.org/contribute.html\n"
     ]
    }
   ],
   "source": [
    "import pandas as pd\n",
    "import moviepy.editor as mpy\n",
    "import numpy as np\n",
    "from rpy2.robjects import r, pandas2ri\n"
   ]
  },
  {
   "cell_type": "code",
   "execution_count": 3,
   "metadata": {},
   "outputs": [],
   "source": [
    "from isaac.visualization import make_frame_curried\n",
    "from isaac.constants import FORCE_CLASS_COLS, MASS_CLASS_COLS\n",
    "from isaac.dataset import read_dataset"
   ]
  },
  {
   "cell_type": "code",
   "execution_count": 4,
   "metadata": {},
   "outputs": [],
   "source": [
    "from isaac.constants import BASIC_TRAINING_COLS"
   ]
  },
  {
   "cell_type": "code",
   "execution_count": 5,
   "metadata": {},
   "outputs": [],
   "source": [
    "def transfer(n,x):                                                                                 \n",
    "    b=[]                                                                                           \n",
    "    while True:                                                                                    \n",
    "        s=n//x                                                                                     \n",
    "        y=n%x                                                                                      \n",
    "        b=b+[y]                                                                                    \n",
    "        if s==0:                                                                                   \n",
    "            break                                                                                  \n",
    "        n=s                                                                                        \n",
    "    b.reverse()                                                                                    \n",
    "    return b\n",
    "\n",
    "def generate_possible(level, length):                                                            \n",
    "    possible = []                                                                                  \n",
    "    for i in range(level**length):                                                                 \n",
    "        possible.append([0]*(length-len(transfer(i,level)))+transfer(i,level))                     \n",
    "    return possible\n",
    "\n",
    "def generate_force(force_possible):                                                             \n",
    "    force_list = []                                                                                \n",
    "    for num in force_possible:                                                                     \n",
    "        num = np.array(num)                                                                       \n",
    "        force = np.zeros([4,4])                                                                    \n",
    "        force[1,0] = (num[0])                                                                  \n",
    "        force[2,:2] = (num[1:3])                                                               \n",
    "        force[3,:3] = (num[3:])                                                                \n",
    "        force = force+force.T                                                                      \n",
    "        force_list.append(force)                                                                   \n",
    "    return force_list"
   ]
  },
  {
   "cell_type": "markdown",
   "metadata": {},
   "source": [
    "# Visualising Passive Trials"
   ]
  },
  {
   "cell_type": "code",
   "execution_count": 6,
   "metadata": {},
   "outputs": [],
   "source": [
    "ALTERNATIVE_TRAINING_COLS = [\"object\"+str(obj)+\".\"+attr for obj in range(1, 5) for attr in [\"x\", \"y\", \"vx\", \"vy\"]]"
   ]
  },
  {
   "cell_type": "code",
   "execution_count": 7,
   "metadata": {},
   "outputs": [
    {
     "data": {
      "text/html": [
       "\n",
       "    <span>StrVector with 4 elements.</span>\n",
       "    <table>\n",
       "      <tbody>\n",
       "      <tr>\n",
       "      \n",
       "      <td>\n",
       "        'df.l'\n",
       "      </td>\n",
       "      \n",
       "      <td>\n",
       "        'df.w'\n",
       "      </td>\n",
       "      \n",
       "      <td>\n",
       "        'ls.clips'\n",
       "      </td>\n",
       "      \n",
       "      <td>\n",
       "        'ls.events'\n",
       "      </td>\n",
       "      \n",
       "      </tr>\n",
       "      </tbody>\n",
       "    </table>\n",
       "    "
      ],
      "text/plain": [
       "R object with classes: ('character',) mapped to:\n",
       "<StrVector - Python:0x7fcf84365308 / R:0x55e7c05a9078>\n",
       "['df.l', 'df.w', 'ls.clips', 'ls.events']"
      ]
     },
     "execution_count": 7,
     "metadata": {},
     "output_type": "execute_result"
    }
   ],
   "source": [
    "rdata_path = \"data/experiment1.rdata\"\n",
    "r['load'](rdata_path)"
   ]
  },
  {
   "cell_type": "code",
   "execution_count": 8,
   "metadata": {},
   "outputs": [],
   "source": [
    "configs = pandas2ri.ri2py_dataframe(r['df.l'])[[\"trueRelationship\", \"trueMass\", 'lf1', 'lf2', 'lf3', 'lf4', 'lf5', 'lf6']]\n",
    "is_passive = pandas2ri.ri2py_dataframe(r['df.l']).condition == '0'\n",
    "idx = []\n",
    "mass_configs = []\n",
    "force_configs = []\n",
    "answers = []\n",
    "\n",
    "for i, trial_is_passive in enumerate(is_passive):\n",
    "    if not trial_is_passive:\n",
    "        continue\n",
    "    config = configs.iloc[i]\n",
    "    mass_config = config[\"trueMass\"]\n",
    "    force_config = config[['lf1', 'lf2', 'lf3', 'lf4', 'lf5', 'lf6']]\n",
    "    \n",
    "    trueMass = config.trueMass\n",
    "    trueForce = config.trueRelationship\n",
    "    \n",
    "    idx.append(i)\n",
    "    answers.append((trueMass, trueForce))\n",
    "    mass_configs.append(mass_config)\n",
    "    force_configs.append(force_config.values.astype(int))"
   ]
  },
  {
   "cell_type": "code",
   "execution_count": 9,
   "metadata": {},
   "outputs": [],
   "source": [
    "all_trials = r['ls.clips']\n",
    "flat_trials = []\n",
    "trial_i = 0\n",
    "\n",
    "for participant in all_trials:\n",
    "    for trial in participant:\n",
    "        trial = pandas2ri.ri2py_dataframe(trial)\n",
    "        \n",
    "        trial = trial.rename({alt_col: col for col, alt_col in \n",
    "                              zip(BASIC_TRAINING_COLS, ALTERNATIVE_TRAINING_COLS)}, axis=\"columns\")\n",
    "        # print(trial[\"idControlledObject\"].nunique() > 1, is_active[trial_i])\n",
    "        flat_trials.append(trial)\n",
    "        trial_i += 1"
   ]
  },
  {
   "cell_type": "code",
   "execution_count": 10,
   "metadata": {},
   "outputs": [],
   "source": [
    "def transform_mass_answer_to_configuration(answer):\n",
    "    masses = [1, 1, 1, 1]\n",
    "    if answer == \"same\":\n",
    "        return masses\n",
    "    if answer == \"A\":\n",
    "        masses[0] = 2\n",
    "        return masses\n",
    "    masses[1] = 2\n",
    "    return masses"
   ]
  },
  {
   "cell_type": "code",
   "execution_count": 11,
   "metadata": {},
   "outputs": [],
   "source": [
    "mass_configs = list(map(transform_mass_answer_to_configuration, mass_configs))"
   ]
  },
  {
   "cell_type": "code",
   "execution_count": 12,
   "metadata": {},
   "outputs": [],
   "source": [
    "force_configs = generate_force(force_configs)"
   ]
  },
  {
   "cell_type": "code",
   "execution_count": 14,
   "metadata": {},
   "outputs": [
    {
     "data": {
      "text/plain": [
       "237"
      ]
     },
     "execution_count": 14,
     "metadata": {},
     "output_type": "execute_result"
    }
   ],
   "source": [
    "random_trial"
   ]
  },
  {
   "cell_type": "code",
   "execution_count": 43,
   "metadata": {
    "scrolled": true
   },
   "outputs": [],
   "source": [
    "random_trial = np.random.choice(np.arange(len(idx)))\n",
    "c = flat_trials[idx[random_trial]][BASIC_TRAINING_COLS].iloc[0]\n",
    "\n",
    "m = mass_configs[random_trial]\n",
    "f = force_configs[random_trial] "
   ]
  },
  {
   "cell_type": "code",
   "execution_count": 44,
   "metadata": {},
   "outputs": [
    {
     "name": "stdout",
     "output_type": "stream",
     "text": [
      "o1.x     3.520\n",
      "o1.y     1.311\n",
      "o1.vx    9.112\n",
      "o1.vy   -9.191\n",
      "o2.x     4.413\n",
      "o2.y     0.546\n",
      "o2.vx    4.365\n",
      "o2.vy    1.630\n",
      "o3.x     3.960\n",
      "o3.y     2.027\n",
      "o3.vx   -7.947\n",
      "o3.vy   -9.381\n",
      "o4.x     4.348\n",
      "o4.y     2.088\n",
      "o4.vx    9.554\n",
      "o4.vy   -6.625\n",
      "Name: 0, dtype: float64\n",
      "\n",
      "[1, 1, 1, 1]\n",
      "\n",
      "[[0. 3. 3. 0.]\n",
      " [3. 0. 3. 3.]\n",
      " [3. 3. 0. 3.]\n",
      " [0. 3. 3. 0.]]\n",
      "\n",
      "('same', 'attract')\n"
     ]
    }
   ],
   "source": [
    "print(c)\n",
    "print()\n",
    "print(m)\n",
    "print()\n",
    "print(f)\n",
    "print()\n",
    "print(answers[random_trial])"
   ]
  },
  {
   "cell_type": "code",
   "execution_count": 45,
   "metadata": {},
   "outputs": [],
   "source": [
    "cond = {'sls':[{'x':c[\"o1.x\"], 'y':c[\"o1.y\"]},{'x':c[\"o2.x\"], 'y':c[\"o2.y\"]}, {'x':c[\"o3.x\"], 'y':c[\"o3.y\"]}, \n",
    "               {'x':c[\"o4.x\"], 'y':c[\"o4.y\"]}],\n",
    "        'svs':[{'x':c[\"o1.vx\"], 'y':c[\"o1.vy\"]},{'x':c[\"o2.vx\"], 'y':c[\"o2.vy\"]}, {'x':c[\"o3.vx\"], 'y':c[\"o3.vy\"]}, \n",
    "               {'x':c[\"o4.vx\"], 'y':c[\"o4.vy\"]}],\n",
    "        'lf': f,                                   \n",
    "        'mass': m,                                           \n",
    "        'timeout': 2700                                                                         \n",
    "        }"
   ]
  },
  {
   "cell_type": "code",
   "execution_count": 46,
   "metadata": {},
   "outputs": [],
   "source": [
    "def simulate_trial(trial):                     \n",
    "    T = 1\n",
    "    new_env = physic_env([trial], None, None, (3, 2), T, ig_mode=0, prior=None, reward_stop=None)\n",
    "                                                                                                  \n",
    "    # mass_answer = get_mass_answer(new_env.cond['mass'])                                            \n",
    "    # force_answer = get_force_answer(new_env.cond['lf'])                                            \n",
    "    # print(mass_answer, force_answer)                                                               \n",
    "                                                                                                   \n",
    "    for _ in range(int(2700/T)):                                                                \n",
    "        is_done = new_env.step_passive()                                                           \n",
    "        if is_done:                                                                                \n",
    "            break                                                                                  \n",
    "                                                                                                   \n",
    "    data = new_env.step_data()                                                                     \n",
    "    trial_data = pd.DataFrame()                                                                    \n",
    "                                                                                                   \n",
    "    for object_id in [\"o1\", \"o2\", \"o3\", \"o4\"]:                                                     \n",
    "        for attr in [\"x\", \"y\", \"vx\", \"vy\"]:                                                        \n",
    "            trial_data[object_id+\".\"+attr] = data[object_id][attr]                                 \n",
    "                                                                                                   \n",
    "    # trial_data[\"A\"] = mass_answer == \"A\"                                                           \n",
    "    # trial_data[\"B\"] = mass_answer == \"B\"                                                           \n",
    "    # trial_data[\"same\"] = mass_answer == \"same\"\n",
    "                                                                                                   \n",
    "    # trial_data[\"attract\"] = force_answer == \"attract\"                                              \n",
    "    # trial_data[\"none\"] = force_answer == \"none\"                                                    \n",
    "    # trial_data[\"repel\"] = force_answer == \"repel\"                                                  \n",
    "                                                                                                   \n",
    "    return trial_data"
   ]
  },
  {
   "cell_type": "code",
   "execution_count": 51,
   "metadata": {
    "scrolled": false
   },
   "outputs": [
    {
     "name": "stderr",
     "output_type": "stream",
     "text": [
      "100%|█████████▉| 2701/2702 [00:24<00:00, 110.25it/s]\n"
     ]
    },
    {
     "name": "stdout",
     "output_type": "stream",
     "text": [
      "[MoviePy] >>>> Building video js_simulation.mp4\n",
      "[MoviePy] Writing video js_simulation.mp4\n"
     ]
    },
    {
     "name": "stderr",
     "output_type": "stream",
     "text": [
      "100%|█████████▉| 2701/2702 [00:25<00:00, 107.59it/s]\n"
     ]
    },
    {
     "name": "stdout",
     "output_type": "stream",
     "text": [
      "[MoviePy] Done.\n",
      "[MoviePy] >>>> Video ready: js_simulation.mp4 \n",
      "\n"
     ]
    }
   ],
   "source": [
    "make_frame = make_frame_curried(flat_trials[idx[random_trial]])\n",
    "duration = flat_trials[idx[random_trial]].shape[0]/60\n",
    "clip = mpy.VideoClip(make_frame, duration=duration)\n",
    "clip.ipython_display(fps=60)\n",
    "clip.write_videofile(\"js_simulation.mp4\", fps=60)"
   ]
  },
  {
   "cell_type": "code",
   "execution_count": 48,
   "metadata": {},
   "outputs": [],
   "source": [
    "trial_data = simulate_trial(cond)"
   ]
  },
  {
   "cell_type": "code",
   "execution_count": 50,
   "metadata": {
    "scrolled": true
   },
   "outputs": [
    {
     "name": "stderr",
     "output_type": "stream",
     "text": [
      "100%|█████████▉| 2701/2702 [00:23<00:00, 113.39it/s]\n"
     ]
    },
    {
     "name": "stdout",
     "output_type": "stream",
     "text": [
      "[MoviePy] >>>> Building video python_simulation.mp4\n",
      "[MoviePy] Writing video python_simulation.mp4\n"
     ]
    },
    {
     "name": "stderr",
     "output_type": "stream",
     "text": [
      "100%|█████████▉| 2701/2702 [00:24<00:00, 110.18it/s]\n"
     ]
    },
    {
     "name": "stdout",
     "output_type": "stream",
     "text": [
      "[MoviePy] Done.\n",
      "[MoviePy] >>>> Video ready: python_simulation.mp4 \n",
      "\n"
     ]
    }
   ],
   "source": [
    "make_frame = make_frame_curried(trial_data)\n",
    "duration = trial_data.shape[0]/60\n",
    "clip = mpy.VideoClip(make_frame, duration=duration)\n",
    "clip.ipython_display(fps=60)\n",
    "clip.write_videofile(\"python_simulation.mp4\", fps=60)"
   ]
  },
  {
   "cell_type": "code",
   "execution_count": null,
   "metadata": {},
   "outputs": [],
   "source": []
  }
 ],
 "metadata": {
  "kernelspec": {
   "display_name": "Python 3",
   "language": "python",
   "name": "python3"
  },
  "language_info": {
   "codemirror_mode": {
    "name": "ipython",
    "version": 3
   },
   "file_extension": ".py",
   "mimetype": "text/x-python",
   "name": "python",
   "nbconvert_exporter": "python",
   "pygments_lexer": "ipython3",
   "version": "3.5.6"
  }
 },
 "nbformat": 4,
 "nbformat_minor": 2
}
