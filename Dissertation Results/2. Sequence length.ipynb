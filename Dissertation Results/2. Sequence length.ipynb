{
 "cells": [
  {
   "cell_type": "code",
   "execution_count": 1,
   "metadata": {},
   "outputs": [],
   "source": [
    "import torch\n",
    "import torch.nn as nn\n",
    "torch.cuda.is_available()\n",
    "import pandas as pd"
   ]
  },
  {
   "cell_type": "code",
   "execution_count": 2,
   "metadata": {},
   "outputs": [],
   "source": [
    "from isaac.dataset import read_dataset, prepare_dataset\n",
    "from isaac.constants import POSITION_COLS, MASS_CLASS_COLS, BASIC_TRAINING_COLS, FORCE_CLASS_COLS, PUCK_SQUARE_DISTANCES, PUCK_ANGLE_FEATURES\n",
    "from isaac.sanity import class_proportions\n",
    "from isaac.models import initialise_model\n",
    "from isaac.training import training_loop\n",
    "import matplotlib.pyplot as plt\n",
    "import numpy as np\n",
    "import matplotlib2tikz"
   ]
  },
  {
   "cell_type": "code",
   "execution_count": 3,
   "metadata": {},
   "outputs": [],
   "source": [
    "NORMALISE_DATA = True\n",
    "BATCH_SIZE = 128\n",
    "EPOCHS = 25\n",
    "STEP_SIZE = 1\n",
    "SEQ_END = 1800"
   ]
  },
  {
   "cell_type": "code",
   "execution_count": 4,
   "metadata": {},
   "outputs": [],
   "source": [
    "TR_COLS = BASIC_TRAINING_COLS"
   ]
  },
  {
   "cell_type": "code",
   "execution_count": 5,
   "metadata": {},
   "outputs": [
    {
     "name": "stderr",
     "output_type": "stream",
     "text": [
      "100%|██████████| 3500/3500 [00:31<00:00, 109.69it/s]\n",
      "100%|██████████| 500/500 [00:04<00:00, 117.08it/s]\n"
     ]
    }
   ],
   "source": [
    "train_trials = read_dataset(\"data/train_passive_trials.h5\", n_trials=3500, cols=TR_COLS)\n",
    "val_trials = read_dataset(\"data/val_passive_trials.h5\", n_trials=500, cols=TR_COLS)"
   ]
  },
  {
   "cell_type": "markdown",
   "metadata": {},
   "source": [
    "# MASS TRAINING"
   ]
  },
  {
   "cell_type": "code",
   "execution_count": 6,
   "metadata": {},
   "outputs": [],
   "source": [
    "INPUT_DIM = len(TR_COLS)    # input dimension\n",
    "HIDDEN_DIM = 25  # hidden layer dimension\n",
    "N_LAYERS = 4     # number of hidden layers\n",
    "OUTPUT_DIM = 3   # output dimension\n",
    "DROPOUT = 0.5\n",
    "network_params = (INPUT_DIM, HIDDEN_DIM, N_LAYERS, OUTPUT_DIM, DROPOUT)"
   ]
  },
  {
   "cell_type": "code",
   "execution_count": 7,
   "metadata": {},
   "outputs": [
    {
     "name": "stderr",
     "output_type": "stream",
     "text": [
      "100%|██████████| 3500/3500 [00:03<00:00, 1143.24it/s]\n",
      "100%|██████████| 500/500 [00:00<00:00, 996.24it/s] \n",
      "Train_loss (0.90)\t Train_acc (58.17)\t Val_acc (51.40): 100%|██████████| 25/25 [08:37<00:00, 20.69s/it]\n",
      "Train_loss (0.67)\t Train_acc (71.77)\t Val_acc (54.60): 100%|██████████| 25/25 [08:33<00:00, 20.51s/it]\n",
      "Train_loss (0.82)\t Train_acc (62.34)\t Val_acc (56.00): 100%|██████████| 25/25 [08:42<00:00, 20.82s/it]\n",
      "Train_loss (0.85)\t Train_acc (60.66)\t Val_acc (54.60): 100%|██████████| 25/25 [07:17<00:00, 17.59s/it]\n",
      "Train_loss (0.82)\t Train_acc (62.00)\t Val_acc (49.40): 100%|██████████| 25/25 [07:18<00:00, 17.56s/it]\n",
      "Train_loss (1.00)\t Train_acc (49.77)\t Val_acc (46.80): 100%|██████████| 25/25 [07:19<00:00, 17.57s/it]\n",
      "Train_loss (1.00)\t Train_acc (48.51)\t Val_acc (44.80): 100%|██████████| 25/25 [05:52<00:00, 14.10s/it]\n",
      "Train_loss (1.01)\t Train_acc (47.94)\t Val_acc (39.40): 100%|██████████| 25/25 [05:51<00:00, 14.01s/it]\n",
      "Train_loss (0.91)\t Train_acc (57.09)\t Val_acc (49.20): 100%|██████████| 25/25 [05:49<00:00, 14.08s/it]\n",
      "Train_loss (1.08)\t Train_acc (41.14)\t Val_acc (38.00): 100%|██████████| 25/25 [04:27<00:00, 10.69s/it]\n",
      "Train_loss (0.91)\t Train_acc (57.14)\t Val_acc (42.20): 100%|██████████| 25/25 [04:28<00:00, 10.80s/it]\n",
      "Train_loss (0.94)\t Train_acc (52.54)\t Val_acc (48.40): 100%|██████████| 25/25 [04:28<00:00, 10.72s/it]\n",
      "Train_loss (0.89)\t Train_acc (59.14)\t Val_acc (39.60): 100%|██████████| 25/25 [03:03<00:00,  7.37s/it]\n",
      "Train_loss (0.98)\t Train_acc (51.11)\t Val_acc (41.00): 100%|██████████| 25/25 [03:02<00:00,  7.32s/it]\n",
      "Train_loss (1.03)\t Train_acc (47.00)\t Val_acc (42.60): 100%|██████████| 25/25 [03:01<00:00,  7.24s/it]\n",
      "Train_loss (1.10)\t Train_acc (33.83)\t Val_acc (35.60): 100%|██████████| 25/25 [01:30<00:00,  3.60s/it]\n",
      "Train_loss (1.00)\t Train_acc (48.60)\t Val_acc (39.20): 100%|██████████| 25/25 [01:30<00:00,  3.60s/it]\n",
      "Train_loss (1.03)\t Train_acc (45.23)\t Val_acc (35.40): 100%|██████████| 25/25 [01:29<00:00,  3.60s/it]\n"
     ]
    }
   ],
   "source": [
    "labels = [\"1800\", \"1500\", \"1200\", \"900\", \"600\", \"300\"]\n",
    "stats_dfs = []\n",
    "\n",
    "loaders, scaler = prepare_dataset([train_trials, val_trials], class_columns=MASS_CLASS_COLS, \n",
    "                                  training_columns=TR_COLS, batch_size=BATCH_SIZE, \n",
    "                                  normalise_data=NORMALISE_DATA)\n",
    "\n",
    "for seq_length, label in zip([1800, 1500, 1200, 900, 600, 300], labels):\n",
    "    seq_start = SEQ_END - seq_length\n",
    "    \n",
    "    for seed in [0, 42, 72]:\n",
    "        df = pd.DataFrame(columns=[\"seq_length\", \"Epoch\", \"Loss\"])\n",
    "\n",
    "\n",
    "        model, error, optimizer = initialise_model(network_params, lr=0.01, seed=seed)\n",
    "        epoch_losses, epoch_accuracies, best_model = training_loop(model, optimizer, error, loaders[0], \n",
    "                                                                   loaders[1], EPOCHS, seq_start=seq_start, \n",
    "                                                                   seq_end=SEQ_END, step_size=STEP_SIZE)\n",
    "                \n",
    "        df[\"Epoch\"] = np.arange(EPOCHS)\n",
    "        df[\"Loss\"] = epoch_losses\n",
    "        df[\"Train Accuracy\"] = epoch_accuracies[0]\n",
    "        df[\"Val Accuracy\"] = epoch_accuracies[1]\n",
    "        df[\"seq_length\"] = label\n",
    "        stats_dfs.append(df)\n",
    "        \n",
    "stats = pd.concat(stats_dfs)\n",
    "stats.to_hdf(\"sequence_length_plots/mass_stats.h5\", key=\"stats\")"
   ]
  },
  {
   "cell_type": "markdown",
   "metadata": {},
   "source": [
    "# FORCE TRAINING"
   ]
  },
  {
   "cell_type": "code",
   "execution_count": 8,
   "metadata": {},
   "outputs": [
    {
     "name": "stderr",
     "output_type": "stream",
     "text": [
      "100%|██████████| 3500/3500 [00:03<00:00, 1050.75it/s]\n",
      "100%|██████████| 500/500 [00:00<00:00, 1130.22it/s]\n",
      "Train_loss (0.61)\t Train_acc (63.71)\t Val_acc (56.60): 100%|██████████| 25/25 [08:42<00:00, 20.89s/it]\n",
      "Train_loss (0.76)\t Train_acc (57.71)\t Val_acc (50.80): 100%|██████████| 25/25 [08:41<00:00, 20.76s/it]\n",
      "Train_loss (0.61)\t Train_acc (61.17)\t Val_acc (54.80): 100%|██████████| 25/25 [08:35<00:00, 20.63s/it]\n",
      "Train_loss (0.60)\t Train_acc (67.71)\t Val_acc (58.00): 100%|██████████| 25/25 [07:12<00:00, 17.32s/it]\n",
      "Train_loss (0.67)\t Train_acc (57.74)\t Val_acc (51.40): 100%|██████████| 25/25 [07:15<00:00, 17.62s/it]\n",
      "Train_loss (0.58)\t Train_acc (59.66)\t Val_acc (51.00): 100%|██████████| 25/25 [07:21<00:00, 17.61s/it]\n",
      "Train_loss (0.67)\t Train_acc (67.14)\t Val_acc (52.20): 100%|██████████| 25/25 [05:55<00:00, 14.26s/it]\n",
      "Train_loss (0.68)\t Train_acc (66.51)\t Val_acc (54.20): 100%|██████████| 25/25 [05:55<00:00, 14.29s/it]\n",
      "Train_loss (0.63)\t Train_acc (69.11)\t Val_acc (57.60): 100%|██████████| 25/25 [05:57<00:00, 14.25s/it]\n",
      "Train_loss (0.68)\t Train_acc (65.43)\t Val_acc (54.00): 100%|██████████| 25/25 [04:34<00:00, 10.99s/it]\n",
      "Train_loss (0.67)\t Train_acc (64.94)\t Val_acc (53.40): 100%|██████████| 25/25 [04:34<00:00, 10.99s/it]\n",
      "Train_loss (0.66)\t Train_acc (59.11)\t Val_acc (49.00): 100%|██████████| 25/25 [04:34<00:00, 10.99s/it]\n",
      "Train_loss (0.67)\t Train_acc (66.86)\t Val_acc (56.40): 100%|██████████| 25/25 [03:00<00:00,  7.15s/it]\n",
      "Train_loss (0.71)\t Train_acc (59.29)\t Val_acc (51.00): 100%|██████████| 25/25 [02:58<00:00,  7.17s/it]\n",
      "Train_loss (0.75)\t Train_acc (57.29)\t Val_acc (53.20): 100%|██████████| 25/25 [02:59<00:00,  7.15s/it]\n",
      "Train_loss (0.77)\t Train_acc (65.86)\t Val_acc (51.40): 100%|██████████| 25/25 [01:29<00:00,  3.55s/it]\n",
      "Train_loss (0.72)\t Train_acc (66.49)\t Val_acc (51.20): 100%|██████████| 25/25 [01:28<00:00,  3.53s/it]\n",
      "Train_loss (0.76)\t Train_acc (59.06)\t Val_acc (49.00): 100%|██████████| 25/25 [01:28<00:00,  3.54s/it]\n"
     ]
    }
   ],
   "source": [
    "labels = [\"1800\", \"1500\", \"1200\", \"900\", \"600\", \"300\"]\n",
    "stats_dfs = []\n",
    "\n",
    "loaders, scaler = prepare_dataset([train_trials, val_trials], class_columns=FORCE_CLASS_COLS, \n",
    "                                  training_columns=TR_COLS, batch_size=BATCH_SIZE, \n",
    "                                  normalise_data=NORMALISE_DATA)\n",
    "\n",
    "for seq_length, label in zip([1800, 1500, 1200, 900, 600, 300], labels):\n",
    "    seq_start = SEQ_END - seq_length\n",
    "    \n",
    "    for seed in [0, 42, 72]:\n",
    "        df = pd.DataFrame(columns=[\"seq_length\", \"Epoch\", \"Loss\"])\n",
    "\n",
    "\n",
    "        model, error, optimizer = initialise_model(network_params, lr=0.01, seed=seed)\n",
    "        epoch_losses, epoch_accuracies, best_model = training_loop(model, optimizer, error, loaders[0], \n",
    "                                                                   loaders[1], EPOCHS, seq_start=seq_start, \n",
    "                                                                   seq_end=SEQ_END, step_size=STEP_SIZE)\n",
    "                \n",
    "        df[\"Epoch\"] = np.arange(EPOCHS)\n",
    "        df[\"Loss\"] = epoch_losses\n",
    "        df[\"Train Accuracy\"] = epoch_accuracies[0]\n",
    "        df[\"Val Accuracy\"] = epoch_accuracies[1]\n",
    "        df[\"seq_length\"] = label\n",
    "        stats_dfs.append(df)\n",
    "        \n",
    "stats = pd.concat(stats_dfs)\n",
    "stats.to_hdf(\"sequence_length_plots/force_stats.h5\", key=\"stats\")"
   ]
  }
 ],
 "metadata": {
  "kernelspec": {
   "display_name": "Python 3",
   "language": "python",
   "name": "python3"
  },
  "language_info": {
   "codemirror_mode": {
    "name": "ipython",
    "version": 3
   },
   "file_extension": ".py",
   "mimetype": "text/x-python",
   "name": "python",
   "nbconvert_exporter": "python",
   "pygments_lexer": "ipython3",
   "version": "3.5.6"
  }
 },
 "nbformat": 4,
 "nbformat_minor": 2
}
