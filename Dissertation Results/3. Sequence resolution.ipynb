{
 "cells": [
  {
   "cell_type": "code",
   "execution_count": 1,
   "metadata": {},
   "outputs": [],
   "source": [
    "import torch\n",
    "import torch.nn as nn\n",
    "torch.cuda.is_available()\n",
    "import pandas as pd"
   ]
  },
  {
   "cell_type": "code",
   "execution_count": 2,
   "metadata": {},
   "outputs": [],
   "source": [
    "from isaac.dataset import read_dataset, prepare_dataset\n",
    "from isaac.constants import POSITION_COLS, MASS_CLASS_COLS, BASIC_TRAINING_COLS, FORCE_CLASS_COLS, PUCK_SQUARE_DISTANCES, PUCK_ANGLE_FEATURES\n",
    "from isaac.sanity import class_proportions\n",
    "from isaac.models import initialise_model\n",
    "from isaac.training import training_loop\n",
    "import matplotlib.pyplot as plt\n",
    "import numpy as np\n",
    "import matplotlib2tikz"
   ]
  },
  {
   "cell_type": "code",
   "execution_count": 3,
   "metadata": {},
   "outputs": [],
   "source": [
    "NORMALISE_DATA = True\n",
    "BATCH_SIZE = 128\n",
    "EPOCHS = 25\n",
    "SEQ_END = 1800"
   ]
  },
  {
   "cell_type": "code",
   "execution_count": 4,
   "metadata": {},
   "outputs": [],
   "source": [
    "TR_COLS = BASIC_TRAINING_COLS"
   ]
  },
  {
   "cell_type": "code",
   "execution_count": 5,
   "metadata": {},
   "outputs": [
    {
     "name": "stderr",
     "output_type": "stream",
     "text": [
      "100%|██████████| 3500/3500 [00:33<00:00, 105.78it/s]\n",
      "100%|██████████| 500/500 [00:04<00:00, 120.67it/s]\n"
     ]
    }
   ],
   "source": [
    "train_trials = read_dataset(\"data/train_passive_trials.h5\", n_trials=3500, cols=TR_COLS)\n",
    "val_trials = read_dataset(\"data/val_passive_trials.h5\", n_trials=500, cols=TR_COLS)"
   ]
  },
  {
   "cell_type": "markdown",
   "metadata": {},
   "source": [
    "# MASS TRAINING"
   ]
  },
  {
   "cell_type": "code",
   "execution_count": 6,
   "metadata": {},
   "outputs": [],
   "source": [
    "INPUT_DIM = len(TR_COLS)    # input dimension\n",
    "HIDDEN_DIM = 25  # hidden layer dimension\n",
    "N_LAYERS = 4     # number of hidden layers\n",
    "OUTPUT_DIM = 3   # output dimension\n",
    "DROPOUT = 0.5\n",
    "network_params = (INPUT_DIM, HIDDEN_DIM, N_LAYERS, OUTPUT_DIM, DROPOUT)"
   ]
  },
  {
   "cell_type": "code",
   "execution_count": 7,
   "metadata": {},
   "outputs": [
    {
     "name": "stderr",
     "output_type": "stream",
     "text": [
      "100%|██████████| 3500/3500 [00:03<00:00, 1140.03it/s]\n",
      "100%|██████████| 500/500 [00:00<00:00, 1020.72it/s]\n",
      "Train_loss (0.90)\t Train_acc (58.17)\t Val_acc (51.40): 100%|██████████| 25/25 [08:38<00:00, 20.68s/it]\n",
      "Train_loss (0.67)\t Train_acc (71.77)\t Val_acc (54.60): 100%|██████████| 25/25 [08:37<00:00, 20.69s/it]\n",
      "Train_loss (0.82)\t Train_acc (62.34)\t Val_acc (56.00): 100%|██████████| 25/25 [08:45<00:00, 21.05s/it]\n",
      "Train_loss (0.65)\t Train_acc (68.06)\t Val_acc (50.80): 100%|██████████| 25/25 [04:30<00:00, 10.79s/it]\n",
      "Train_loss (0.75)\t Train_acc (67.89)\t Val_acc (48.60): 100%|██████████| 25/25 [04:30<00:00, 10.84s/it]\n",
      "Train_loss (0.71)\t Train_acc (70.31)\t Val_acc (54.60): 100%|██████████| 25/25 [04:28<00:00, 10.73s/it]\n",
      "Train_loss (0.60)\t Train_acc (71.89)\t Val_acc (49.00): 100%|██████████| 25/25 [03:01<00:00,  7.26s/it]\n",
      "Train_loss (0.86)\t Train_acc (63.49)\t Val_acc (46.20): 100%|██████████| 25/25 [03:02<00:00,  7.30s/it]\n",
      "Train_loss (0.67)\t Train_acc (73.46)\t Val_acc (55.80): 100%|██████████| 25/25 [03:01<00:00,  7.29s/it]\n",
      "Train_loss (0.62)\t Train_acc (76.43)\t Val_acc (53.00): 100%|██████████| 25/25 [02:15<00:00,  5.42s/it]\n",
      "Train_loss (0.58)\t Train_acc (80.51)\t Val_acc (56.00): 100%|██████████| 25/25 [02:16<00:00,  5.47s/it]\n",
      "Train_loss (0.64)\t Train_acc (74.97)\t Val_acc (58.00): 100%|██████████| 25/25 [02:16<00:00,  5.47s/it]\n"
     ]
    }
   ],
   "source": [
    "labels = [1, 2, 3, 4]\n",
    "stats_dfs = []\n",
    "\n",
    "loaders, scaler = prepare_dataset([train_trials, val_trials], class_columns=MASS_CLASS_COLS, \n",
    "                                  training_columns=TR_COLS, batch_size=BATCH_SIZE, \n",
    "                                  normalise_data=NORMALISE_DATA)\n",
    "\n",
    "for step, label in zip([1, 2, 3, 4], labels):    \n",
    "    for seed in [0, 42, 72]:\n",
    "        df = pd.DataFrame(columns=[\"seq_resolution\", \"Epoch\", \"Loss\"])\n",
    "\n",
    "\n",
    "        model, error, optimizer = initialise_model(network_params, lr=0.01, seed=seed)\n",
    "        epoch_losses, epoch_accuracies, best_model = training_loop(model, optimizer, error, loaders[0], \n",
    "                                                                   loaders[1], EPOCHS, seq_end=SEQ_END, \n",
    "                                                                   step_size=step)\n",
    "                \n",
    "        df[\"Epoch\"] = np.arange(EPOCHS)\n",
    "        df[\"Loss\"] = epoch_losses\n",
    "        df[\"Train Accuracy\"] = epoch_accuracies[0]\n",
    "        df[\"Val Accuracy\"] = epoch_accuracies[1]\n",
    "        df[\"seq_resolution\"] = str(label)\n",
    "        stats_dfs.append(df)\n",
    "        \n",
    "stats = pd.concat(stats_dfs)\n",
    "stats.to_hdf(\"sequence_resolution_plots/mass_stats.h5\", key=\"stats\")"
   ]
  },
  {
   "cell_type": "markdown",
   "metadata": {},
   "source": [
    "# FORCE TRAINING"
   ]
  },
  {
   "cell_type": "code",
   "execution_count": 8,
   "metadata": {},
   "outputs": [
    {
     "name": "stderr",
     "output_type": "stream",
     "text": [
      "100%|██████████| 3500/3500 [00:03<00:00, 1030.44it/s]\n",
      "100%|██████████| 500/500 [00:00<00:00, 918.48it/s]\n",
      "Train_loss (0.67)\t Train_acc (67.26)\t Val_acc (55.60): 100%|██████████| 25/25 [08:55<00:00, 21.30s/it]\n",
      "Train_loss (0.68)\t Train_acc (57.03)\t Val_acc (48.20): 100%|██████████| 25/25 [08:58<00:00, 21.61s/it]\n",
      "Train_loss (0.62)\t Train_acc (67.00)\t Val_acc (56.00): 100%|██████████| 25/25 [08:55<00:00, 21.34s/it]\n",
      "Train_loss (0.64)\t Train_acc (64.51)\t Val_acc (51.20): 100%|██████████| 25/25 [04:35<00:00, 11.07s/it]\n",
      "Train_loss (0.63)\t Train_acc (72.54)\t Val_acc (53.20): 100%|██████████| 25/25 [04:36<00:00, 11.10s/it]\n",
      "Train_loss (0.67)\t Train_acc (61.54)\t Val_acc (51.20): 100%|██████████| 25/25 [04:35<00:00, 11.02s/it]\n",
      "Train_loss (0.57)\t Train_acc (70.34)\t Val_acc (62.80): 100%|██████████| 25/25 [03:01<00:00,  7.25s/it]\n",
      "Train_loss (0.59)\t Train_acc (74.71)\t Val_acc (63.60): 100%|██████████| 25/25 [03:01<00:00,  7.29s/it]\n",
      "Train_loss (0.63)\t Train_acc (68.31)\t Val_acc (55.60): 100%|██████████| 25/25 [03:01<00:00,  7.31s/it]\n",
      "Train_loss (0.62)\t Train_acc (72.69)\t Val_acc (54.00): 100%|██████████| 25/25 [02:17<00:00,  5.53s/it]\n",
      "Train_loss (0.63)\t Train_acc (71.43)\t Val_acc (52.60): 100%|██████████| 25/25 [02:17<00:00,  5.48s/it]\n",
      "Train_loss (0.63)\t Train_acc (73.74)\t Val_acc (58.60): 100%|██████████| 25/25 [02:17<00:00,  5.48s/it]\n"
     ]
    }
   ],
   "source": [
    "labels = [1, 2, 3, 4]\n",
    "stats_dfs = []\n",
    "\n",
    "loaders, scaler = prepare_dataset([train_trials, val_trials], class_columns=FORCE_CLASS_COLS, \n",
    "                                  training_columns=TR_COLS, batch_size=BATCH_SIZE, \n",
    "                                  normalise_data=NORMALISE_DATA)\n",
    "\n",
    "for step, label in zip([1, 2, 3, 4], labels):    \n",
    "    for seed in [0, 42, 72]:\n",
    "        df = pd.DataFrame(columns=[\"seq_resolution\", \"Epoch\", \"Loss\"])\n",
    "\n",
    "\n",
    "        model, error, optimizer = initialise_model(network_params, lr=0.01, seed=seed)\n",
    "        epoch_losses, epoch_accuracies, best_model = training_loop(model, optimizer, error, loaders[0], \n",
    "                                                                   loaders[1], EPOCHS, seq_end=SEQ_END, \n",
    "                                                                   step_size=step)\n",
    "                \n",
    "        df[\"Epoch\"] = np.arange(EPOCHS)\n",
    "        df[\"Loss\"] = epoch_losses\n",
    "        df[\"Train Accuracy\"] = epoch_accuracies[0]\n",
    "        df[\"Val Accuracy\"] = epoch_accuracies[1]\n",
    "        df[\"seq_resolution\"] = str(label)\n",
    "        stats_dfs.append(df)\n",
    "        \n",
    "stats = pd.concat(stats_dfs)\n",
    "stats.to_hdf(\"sequence_resolution_plots/force_stats.h5\", key=\"stats\")"
   ]
  }
 ],
 "metadata": {
  "kernelspec": {
   "display_name": "Python 3",
   "language": "python",
   "name": "python3"
  },
  "language_info": {
   "codemirror_mode": {
    "name": "ipython",
    "version": 3
   },
   "file_extension": ".py",
   "mimetype": "text/x-python",
   "name": "python",
   "nbconvert_exporter": "python",
   "pygments_lexer": "ipython3",
   "version": "3.5.6"
  }
 },
 "nbformat": 4,
 "nbformat_minor": 2
}
