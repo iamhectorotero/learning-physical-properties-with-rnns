{
 "cells": [
  {
   "cell_type": "code",
   "execution_count": null,
   "metadata": {},
   "outputs": [],
   "source": [
    "import pandas as pd\n",
    "import matplotlib.pyplot as plt\n",
    "import seaborn as sns\n",
    "import matplotlib2tikz"
   ]
  },
  {
   "cell_type": "code",
   "execution_count": null,
   "metadata": {},
   "outputs": [],
   "source": [
    "sns.set_style(\"whitegrid\")\n",
    "sns.set_context(\"paper\")\n",
    "plt.rcParams.update({'axes.labelsize': '22',\n",
    "                     'xtick.labelsize':'18',\n",
    "                     'ytick.labelsize': '18',\n",
    "                     'legend.fontsize': '18',\n",
    "                     'figure.figsize': (8, 8)})\n",
    "\n",
    "def increase_linewidth(ax):\n",
    "    lines = ax.get_lines()\n",
    "    for line in lines:\n",
    "        line.set_linewidth(3)\n",
    "    leg = ax.legend()\n",
    "    leg_lines = leg.get_lines()\n",
    "    plt.setp(leg_lines, linewidth=5)"
   ]
  },
  {
   "cell_type": "code",
   "execution_count": null,
   "metadata": {},
   "outputs": [],
   "source": [
    "question_type = \"mass\"\n",
    "directory = \"features_plots/\"\n",
    "stats = pd.read_hdf(directory+question_type+\"_stats.h5\")"
   ]
  },
  {
   "cell_type": "code",
   "execution_count": null,
   "metadata": {},
   "outputs": [],
   "source": [
    "ax = sns.lineplot(x=\"Epoch\", y=\"Loss\", hue=\"features\",  markers=True, data=stats)\n",
    "increase_linewidth(ax)\n",
    "plt.savefig(directory+question_type+\"_losses.pdf\")"
   ]
  },
  {
   "cell_type": "markdown",
   "metadata": {},
   "source": [
    "stats.groupby(\"features\").max()[[\"Train Accuracy\", \"Val Accuracy\"]].plot.bar()\n",
    "plt.grid()\n",
    "plt.ylabel(\"Accuracy\")\n",
    "plt.xlabel(\"\")\n",
    "plt.savefig(directory+question_type+\"_acc_hist.pdf\")"
   ]
  },
  {
   "cell_type": "markdown",
   "metadata": {},
   "source": [
    "for label in stats.features.unique():\n",
    "    sns.lineplot(x=\"Epoch\", y=\"Val Accuracy\", data=stats[stats.features == label])\n",
    "    sns.lineplot(x=\"Epoch\", y=\"Train Accuracy\", data=stats[stats.features == label])\n",
    "    \n",
    "    plt.title(label)\n",
    "    plt.legend(labels=[\"Validation\", \"Training\"], loc=2)\n",
    "    plt.ylabel(\"Accuracy\")\n",
    "    plt.grid()\n",
    "    matplotlib2tikz.save(directory+question_type+\"_\"+label+\"_acc_plot.tikz\")\n",
    "    plt.show()"
   ]
  },
  {
   "cell_type": "code",
   "execution_count": null,
   "metadata": {},
   "outputs": [],
   "source": [
    "ax = sns.lineplot(x=\"Epoch\", y=\"Val Accuracy\", hue=\"features\", data=stats)\n",
    "increase_linewidth(ax)\n",
    "plt.savefig(directory+question_type+\"_all_val_acc_plot.pdf\")\n",
    "plt.show()\n",
    "ax = sns.lineplot(x=\"Epoch\", y=\"Train Accuracy\", hue=\"features\", data=stats)\n",
    "increase_linewidth(ax)\n",
    "plt.savefig(directory+question_type+\"_all_train_acc_plot.pdf\")"
   ]
  }
 ],
 "metadata": {
  "kernelspec": {
   "display_name": "Python 3",
   "language": "python",
   "name": "python3"
  },
  "language_info": {
   "codemirror_mode": {
    "name": "ipython",
    "version": 3
   },
   "file_extension": ".py",
   "mimetype": "text/x-python",
   "name": "python",
   "nbconvert_exporter": "python",
   "pygments_lexer": "ipython3",
   "version": "3.5.6"
  }
 },
 "nbformat": 4,
 "nbformat_minor": 2
}
