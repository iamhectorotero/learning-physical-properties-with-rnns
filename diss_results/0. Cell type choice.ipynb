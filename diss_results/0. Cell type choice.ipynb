{
 "cells": [
  {
   "cell_type": "code",
   "execution_count": 1,
   "metadata": {},
   "outputs": [
    {
     "data": {
      "text/plain": [
       "True"
      ]
     },
     "execution_count": 1,
     "metadata": {},
     "output_type": "execute_result"
    }
   ],
   "source": [
    "import torch\n",
    "import torch.nn as nn\n",
    "torch.cuda.is_available()"
   ]
  },
  {
   "cell_type": "code",
   "execution_count": 2,
   "metadata": {},
   "outputs": [],
   "source": [
    "from isaac.dataset import read_dataset, prepare_dataset\n",
    "from isaac.constants import POSITION_COLS, MASS_CLASS_COLS, BASIC_TRAINING_COLS, FORCE_CLASS_COLS\n",
    "from isaac.sanity import class_proportions\n",
    "from isaac.models import initialise_model\n",
    "from isaac.training import training_loop\n",
    "import matplotlib.pyplot as plt\n",
    "import numpy as np\n",
    "import matplotlib2tikz\n",
    "import pandas as pd"
   ]
  },
  {
   "cell_type": "code",
   "execution_count": 3,
   "metadata": {},
   "outputs": [],
   "source": [
    "TR_COLS = BASIC_TRAINING_COLS\n",
    "NORMALISE_DATA = True\n",
    "BATCH_SIZE = 128\n",
    "EPOCHS = 25\n",
    "STEP_SIZE = 1\n",
    "SEQ_END = 1800"
   ]
  },
  {
   "cell_type": "code",
   "execution_count": 4,
   "metadata": {},
   "outputs": [
    {
     "name": "stderr",
     "output_type": "stream",
     "text": [
      "100%|██████████| 3500/3500 [00:30<00:00, 114.55it/s]\n",
      "100%|██████████| 500/500 [00:04<00:00, 101.07it/s]\n"
     ]
    }
   ],
   "source": [
    "train_trials = read_dataset(\"data/train_passive_trials.h5\", n_trials=3500, cols=TR_COLS)\n",
    "val_trials = read_dataset(\"data/val_passive_trials.h5\", n_trials=500, cols=TR_COLS)"
   ]
  },
  {
   "cell_type": "code",
   "execution_count": 5,
   "metadata": {},
   "outputs": [],
   "source": [
    "INPUT_DIM = len(TR_COLS)    # input dimension\n",
    "HIDDEN_DIM = 25  # hidden layer dimension\n",
    "N_LAYERS = 4     # number of hidden layers\n",
    "OUTPUT_DIM = 3   # output dimension\n",
    "DROPOUT = 0.5\n",
    "\n",
    "network_params = (INPUT_DIM, HIDDEN_DIM, N_LAYERS, OUTPUT_DIM, DROPOUT)"
   ]
  },
  {
   "cell_type": "markdown",
   "metadata": {},
   "source": [
    "# MASS TRAINING"
   ]
  },
  {
   "cell_type": "code",
   "execution_count": 6,
   "metadata": {},
   "outputs": [
    {
     "name": "stderr",
     "output_type": "stream",
     "text": [
      "100%|██████████| 3500/3500 [00:03<00:00, 1115.94it/s]\n",
      "100%|██████████| 500/500 [00:00<00:00, 1054.88it/s]\n"
     ]
    }
   ],
   "source": [
    "loaders, scaler = prepare_dataset([train_trials, val_trials], class_columns=MASS_CLASS_COLS, \n",
    "                                  training_columns=TR_COLS, batch_size=BATCH_SIZE, \n",
    "                                  normalise_data=NORMALISE_DATA)"
   ]
  },
  {
   "cell_type": "code",
   "execution_count": 7,
   "metadata": {},
   "outputs": [],
   "source": [
    "train_loader, val_loader = loaders"
   ]
  },
  {
   "cell_type": "code",
   "execution_count": 8,
   "metadata": {},
   "outputs": [
    {
     "name": "stdout",
     "output_type": "stream",
     "text": [
      "[1188 1174 1138]\n",
      "Majority class:  0.3394285714285714\n",
      "[185 157 158]\n",
      "Majority class:  0.37\n"
     ]
    }
   ],
   "source": [
    "class_proportions(train_loader)\n",
    "class_proportions(val_loader)"
   ]
  },
  {
   "cell_type": "code",
   "execution_count": 9,
   "metadata": {},
   "outputs": [
    {
     "name": "stdout",
     "output_type": "stream",
     "text": [
      "<class 'torch.nn.modules.rnn.GRU'>\n"
     ]
    },
    {
     "name": "stderr",
     "output_type": "stream",
     "text": [
      "Train_loss (0.90)\t Train_acc (58.17)\t Val_acc (51.40): 100%|██████████| 25/25 [08:45<00:00, 21.07s/it]\n",
      "Train_loss (0.67)\t Train_acc (71.77)\t Val_acc (54.60): 100%|██████████| 25/25 [08:56<00:00, 21.51s/it]\n",
      "Train_loss (0.82)\t Train_acc (62.34)\t Val_acc (56.00): 100%|██████████| 25/25 [08:59<00:00, 21.43s/it]\n",
      "  0%|          | 0/25 [00:00<?, ?it/s]"
     ]
    },
    {
     "name": "stdout",
     "output_type": "stream",
     "text": [
      "<class 'torch.nn.modules.rnn.RNN'>\n"
     ]
    },
    {
     "name": "stderr",
     "output_type": "stream",
     "text": [
      "Train_loss (1.10)\t Train_acc (33.43)\t Val_acc (32.20): 100%|██████████| 25/25 [07:40<00:00, 18.42s/it]\n",
      "Train_loss (1.11)\t Train_acc (31.17)\t Val_acc (31.00): 100%|██████████| 25/25 [07:42<00:00, 18.57s/it]\n",
      "Train_loss (1.10)\t Train_acc (33.51)\t Val_acc (30.40): 100%|██████████| 25/25 [07:41<00:00, 18.53s/it]\n",
      "  0%|          | 0/25 [00:00<?, ?it/s]"
     ]
    },
    {
     "name": "stdout",
     "output_type": "stream",
     "text": [
      "<class 'torch.nn.modules.rnn.LSTM'>\n"
     ]
    },
    {
     "name": "stderr",
     "output_type": "stream",
     "text": [
      "Train_loss (1.09)\t Train_acc (38.09)\t Val_acc (35.60): 100%|██████████| 25/25 [08:26<00:00, 20.17s/it]\n",
      "Train_loss (1.08)\t Train_acc (37.66)\t Val_acc (38.00): 100%|██████████| 25/25 [08:25<00:00, 20.27s/it]\n",
      "Train_loss (0.93)\t Train_acc (57.49)\t Val_acc (35.20): 100%|██████████| 25/25 [08:25<00:00, 20.25s/it]\n"
     ]
    }
   ],
   "source": [
    "labels = [\"GRU\", \"RNN\", \"LSTM\"]\n",
    "\n",
    "stats_dfs = []\n",
    "\n",
    "for cell_type, cell_label in zip([nn.GRU, nn.RNN, nn.LSTM], labels):\n",
    "    print(cell_type)\n",
    "    for seed in [0, 42, 72]:\n",
    "        df = pd.DataFrame(columns=[\"cell_type\", \"Epoch\", \"Loss\"])\n",
    "\n",
    "        model, error, optimizer = initialise_model(network_params, lr=0.01, cell_type=cell_type, seed=seed)\n",
    "        epoch_losses, epoch_accuracies, best_model = training_loop(model, optimizer, error, train_loader, \n",
    "                                                                   val_loader, EPOCHS, seq_end=SEQ_END,\n",
    "                                                                   step_size=STEP_SIZE)\n",
    "                \n",
    "        df[\"Epoch\"] = np.arange(EPOCHS)\n",
    "        df[\"Loss\"] = epoch_losses\n",
    "        df[\"Train Accuracy\"] = epoch_accuracies[0]\n",
    "        df[\"Val Accuracy\"] = epoch_accuracies[1]\n",
    "        df[\"cell_type\"] = cell_label\n",
    "        stats_dfs.append(df)\n",
    "        \n",
    "stats = pd.concat(stats_dfs)\n",
    "# stats.to_hdf(\"cell_type_choice_plots/mass_stats.h5\", key=\"stats\")"
   ]
  },
  {
   "cell_type": "markdown",
   "metadata": {},
   "source": [
    "# FORCE TRAINING"
   ]
  },
  {
   "cell_type": "code",
   "execution_count": 10,
   "metadata": {},
   "outputs": [
    {
     "name": "stderr",
     "output_type": "stream",
     "text": [
      "100%|██████████| 3500/3500 [00:03<00:00, 995.21it/s] \n",
      "100%|██████████| 500/500 [00:00<00:00, 1027.18it/s]\n"
     ]
    }
   ],
   "source": [
    "loaders, scaler = prepare_dataset([train_trials, val_trials], class_columns=FORCE_CLASS_COLS, \n",
    "                                  training_columns=TR_COLS, batch_size=BATCH_SIZE, \n",
    "                                  normalise_data=NORMALISE_DATA)"
   ]
  },
  {
   "cell_type": "code",
   "execution_count": 11,
   "metadata": {},
   "outputs": [],
   "source": [
    "train_loader, val_loader = loaders"
   ]
  },
  {
   "cell_type": "code",
   "execution_count": 12,
   "metadata": {},
   "outputs": [
    {
     "name": "stdout",
     "output_type": "stream",
     "text": [
      "[1183 1169 1148]\n",
      "Majority class:  0.338\n",
      "[164 174 162]\n",
      "Majority class:  0.348\n"
     ]
    }
   ],
   "source": [
    "class_proportions(train_loader)\n",
    "class_proportions(val_loader)"
   ]
  },
  {
   "cell_type": "code",
   "execution_count": 13,
   "metadata": {},
   "outputs": [
    {
     "name": "stderr",
     "output_type": "stream",
     "text": [
      "Train_loss (1.10)\t Train_acc (34.83)\t Val_acc (32.20): 100%|██████████| 25/25 [07:40<00:00, 18.56s/it]\n",
      "Train_loss (1.10)\t Train_acc (33.40)\t Val_acc (30.80): 100%|██████████| 25/25 [07:43<00:00, 18.49s/it]\n",
      "Train_loss (1.11)\t Train_acc (34.06)\t Val_acc (30.60): 100%|██████████| 25/25 [07:40<00:00, 18.31s/it]\n",
      "Train_loss (0.91)\t Train_acc (55.71)\t Val_acc (51.00): 100%|██████████| 25/25 [08:27<00:00, 20.42s/it]\n",
      "Train_loss (0.97)\t Train_acc (49.60)\t Val_acc (44.80): 100%|██████████| 25/25 [08:32<00:00, 20.31s/it]\n",
      "Train_loss (0.92)\t Train_acc (52.31)\t Val_acc (46.00): 100%|██████████| 25/25 [08:29<00:00, 20.44s/it]\n",
      "Train_loss (0.65)\t Train_acc (57.26)\t Val_acc (49.40): 100%|██████████| 25/25 [08:47<00:00, 21.00s/it]\n",
      "Train_loss (0.65)\t Train_acc (57.06)\t Val_acc (58.20): 100%|██████████| 25/25 [08:44<00:00, 21.10s/it]\n",
      "Train_loss (0.67)\t Train_acc (60.09)\t Val_acc (48.60): 100%|██████████| 25/25 [08:46<00:00, 21.14s/it]\n"
     ]
    }
   ],
   "source": [
    "stats_dfs = []\n",
    "\n",
    "for cell_type, cell_label in zip([nn.RNN, nn.LSTM, nn.GRU], labels):\n",
    "    for seed in [0, 42, 72]:\n",
    "        df = pd.DataFrame(columns=[\"cell_type\", \"Epoch\", \"Loss\"])\n",
    "        model, error, optimizer = initialise_model(network_params, lr=0.01, cell_type=cell_type, seed=seed)\n",
    "        epoch_losses, epoch_accuracies, best_model = training_loop(model, optimizer, error, train_loader, \n",
    "                                                                   val_loader, EPOCHS, seq_end=SEQ_END,\n",
    "                                                                   step_size=STEP_SIZE)\n",
    "\n",
    "        df[\"Epoch\"] = np.arange(EPOCHS)\n",
    "        df[\"Loss\"] = epoch_losses\n",
    "        df[\"Train Accuracy\"] = epoch_accuracies[0]\n",
    "        df[\"Val Accuracy\"] = epoch_accuracies[1]\n",
    "        df[\"cell_type\"] = cell_label\n",
    "        stats_dfs.append(df)\n",
    "\n",
    "stats = pd.concat(stats_dfs)\n",
    "# stats.to_hdf(\"cell_type_choice_plots/force_stats.h5\", key=\"stats\")"
   ]
  }
 ],
 "metadata": {
  "kernelspec": {
   "display_name": "Python 3",
   "language": "python",
   "name": "python3"
  },
  "language_info": {
   "codemirror_mode": {
    "name": "ipython",
    "version": 3
   },
   "file_extension": ".py",
   "mimetype": "text/x-python",
   "name": "python",
   "nbconvert_exporter": "python",
   "pygments_lexer": "ipython3",
   "version": "3.5.6"
  }
 },
 "nbformat": 4,
 "nbformat_minor": 2
}
