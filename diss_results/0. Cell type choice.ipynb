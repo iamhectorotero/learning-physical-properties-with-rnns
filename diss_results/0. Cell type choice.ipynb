{
 "cells": [
  {
   "cell_type": "code",
   "execution_count": 1,
   "metadata": {},
   "outputs": [],
   "source": [
    "import torch\n",
    "import torch.nn as nn"
   ]
  },
  {
   "cell_type": "code",
   "execution_count": 2,
   "metadata": {},
   "outputs": [],
   "source": [
    "from isaac.dataset import read_dataset, prepare_dataset\n",
    "from isaac.constants import POSITION_COLS, MASS_CLASS_COLS, BASIC_TRAINING_COLS, FORCE_CLASS_COLS\n",
    "from isaac.sanity import class_proportions\n",
    "from isaac.models import initialise_model\n",
    "from isaac.training import training_loop\n",
    "import matplotlib.pyplot as plt\n",
    "import numpy as np\n",
    "import pandas as pd"
   ]
  },
  {
   "cell_type": "code",
   "execution_count": 3,
   "metadata": {},
   "outputs": [
    {
     "name": "stdout",
     "output_type": "stream",
     "text": [
      "cuda:0\n"
     ]
    }
   ],
   "source": [
    "from isaac.utils import get_cuda_device_if_available, create_directory\n",
    "device = get_cuda_device_if_available()\n",
    "print(device)\n",
    "\n",
    "directory = \"cell_type_choice_plots/\"\n",
    "create_directory(directory)"
   ]
  },
  {
   "cell_type": "code",
   "execution_count": 5,
   "metadata": {},
   "outputs": [],
   "source": [
    "TR_COLS = BASIC_TRAINING_COLS\n",
    "NORMALISE_DATA = True\n",
    "BATCH_SIZE = 128\n",
    "EPOCHS = 100\n",
    "STEP_SIZE = 1\n",
    "SEQ_END = 1800"
   ]
  },
  {
   "cell_type": "code",
   "execution_count": 6,
   "metadata": {},
   "outputs": [
    {
     "name": "stderr",
     "output_type": "stream",
     "text": [
      "100%|██████████| 10/10 [00:00<00:00, 110.57it/s]\n",
      "100%|██████████| 10/10 [00:00<00:00, 114.52it/s]\n"
     ]
    }
   ],
   "source": [
    "train_trials = read_dataset(\"data/train_passive_trials.h5\", n_trials=3500, cols=TR_COLS)\n",
    "val_trials = read_dataset(\"data/val_passive_trials.h5\", n_trials=1000, cols=TR_COLS)"
   ]
  },
  {
   "cell_type": "code",
   "execution_count": 7,
   "metadata": {},
   "outputs": [],
   "source": [
    "INPUT_DIM = len(TR_COLS)    # input dimension\n",
    "HIDDEN_DIM = 25  # hidden layer dimension\n",
    "N_LAYERS = 4     # number of hidden layers\n",
    "OUTPUT_DIM = 3   # output dimension\n",
    "DROPOUT = 0.5\n",
    "\n",
    "network_params = (INPUT_DIM, HIDDEN_DIM, N_LAYERS, OUTPUT_DIM, DROPOUT)"
   ]
  },
  {
   "cell_type": "markdown",
   "metadata": {},
   "source": [
    "# MASS TRAINING"
   ]
  },
  {
   "cell_type": "code",
   "execution_count": 8,
   "metadata": {},
   "outputs": [
    {
     "name": "stderr",
     "output_type": "stream",
     "text": [
      "100%|██████████| 10/10 [00:00<00:00, 1016.04it/s]\n",
      "100%|██████████| 10/10 [00:00<00:00, 1011.55it/s]\n"
     ]
    }
   ],
   "source": [
    "loaders, scaler = prepare_dataset([train_trials, val_trials], class_columns=MASS_CLASS_COLS, \n",
    "                                  training_columns=TR_COLS, batch_size=BATCH_SIZE, \n",
    "                                  normalise_data=NORMALISE_DATA, device=device)"
   ]
  },
  {
   "cell_type": "code",
   "execution_count": 9,
   "metadata": {},
   "outputs": [],
   "source": [
    "train_loader, val_loader = loaders"
   ]
  },
  {
   "cell_type": "code",
   "execution_count": 10,
   "metadata": {},
   "outputs": [
    {
     "name": "stdout",
     "output_type": "stream",
     "text": [
      "[1 5 4]\n",
      "Majority class:  0.5\n",
      "[3 3 4]\n",
      "Majority class:  0.4\n"
     ]
    }
   ],
   "source": [
    "class_proportions(train_loader)\n",
    "class_proportions(val_loader)"
   ]
  },
  {
   "cell_type": "code",
   "execution_count": 11,
   "metadata": {},
   "outputs": [
    {
     "name": "stderr",
     "output_type": "stream",
     "text": [
      "\r",
      "  0%|          | 0/2 [00:00<?, ?it/s]"
     ]
    },
    {
     "name": "stdout",
     "output_type": "stream",
     "text": [
      "<class 'torch.nn.modules.rnn.GRU'>\n"
     ]
    },
    {
     "name": "stderr",
     "output_type": "stream",
     "text": [
      "Train_loss (1.11)\t Train_acc (70.00)\t Val_acc (30.00): 100%|██████████| 2/2 [00:05<00:00,  2.60s/it] \n",
      "Train_loss (1.16)\t Train_acc (60.00)\t Val_acc (30.00): 100%|██████████| 2/2 [00:05<00:00,  2.66s/it] \n",
      "Train_loss (1.15)\t Train_acc (50.00)\t Val_acc (40.00): 100%|██████████| 2/2 [00:05<00:00,  2.68s/it] \n",
      "  0%|          | 0/2 [00:00<?, ?it/s]"
     ]
    },
    {
     "name": "stdout",
     "output_type": "stream",
     "text": [
      "<class 'torch.nn.modules.rnn.RNN'>\n"
     ]
    },
    {
     "name": "stderr",
     "output_type": "stream",
     "text": [
      "Train_loss (0.97)\t Train_acc (50.00)\t Val_acc (30.00): 100%|██████████| 2/2 [00:02<00:00,  1.02s/it] \n",
      "Train_loss (0.98)\t Train_acc (40.00)\t Val_acc (40.00): 100%|██████████| 2/2 [00:02<00:00,  1.00s/it] \n",
      "Train_loss (1.01)\t Train_acc (50.00)\t Val_acc (30.00): 100%|██████████| 2/2 [00:02<00:00,  1.01s/it] \n",
      "  0%|          | 0/2 [00:00<?, ?it/s]"
     ]
    },
    {
     "name": "stdout",
     "output_type": "stream",
     "text": [
      "<class 'torch.nn.modules.rnn.LSTM'>\n"
     ]
    },
    {
     "name": "stderr",
     "output_type": "stream",
     "text": [
      "Train_loss (1.16)\t Train_acc (50.00)\t Val_acc (30.00): 100%|██████████| 2/2 [00:05<00:00,  2.82s/it] \n",
      "Train_loss (1.13)\t Train_acc (40.00)\t Val_acc (40.00): 100%|██████████| 2/2 [00:05<00:00,  2.84s/it] \n",
      "Train_loss (1.09)\t Train_acc (50.00)\t Val_acc (30.00): 100%|██████████| 2/2 [00:05<00:00,  2.87s/it] \n"
     ]
    }
   ],
   "source": [
    "labels = [\"GRU\", \"RNN\", \"LSTM\"]\n",
    "\n",
    "stats_dfs = []\n",
    "\n",
    "for cell_type, cell_label in zip([nn.GRU, nn.RNN, nn.LSTM], labels):\n",
    "    print(cell_type)\n",
    "    for seed in [0, 42, 72]:\n",
    "        df = pd.DataFrame(columns=[\"cell_type\", \"Epoch\", \"Loss\"])\n",
    "\n",
    "        model, error, optimizer = initialise_model(network_params, lr=0.01, cell_type=cell_type, seed=seed, device=device)\n",
    "        epoch_losses, epoch_accuracies, best_model = training_loop(model, optimizer, error, train_loader, \n",
    "                                                                   val_loader, EPOCHS, seq_end=SEQ_END,\n",
    "                                                                   step_size=STEP_SIZE)\n",
    "                \n",
    "        df[\"Epoch\"] = np.arange(EPOCHS)\n",
    "        df[\"Loss\"] = epoch_losses\n",
    "        df[\"Train Accuracy\"] = epoch_accuracies[0]\n",
    "        df[\"Val Accuracy\"] = epoch_accuracies[1]\n",
    "        df[\"cell_type\"] = cell_label\n",
    "        stats_dfs.append(df)\n",
    "        \n",
    "stats = pd.concat(stats_dfs)\n",
    "# stats.to_hdf(directory+\"mass_stats.h5\", key=\"stats\")"
   ]
  },
  {
   "cell_type": "markdown",
   "metadata": {},
   "source": [
    "# FORCE TRAINING"
   ]
  },
  {
   "cell_type": "code",
   "execution_count": 12,
   "metadata": {},
   "outputs": [
    {
     "name": "stderr",
     "output_type": "stream",
     "text": [
      "100%|██████████| 10/10 [00:00<00:00, 466.68it/s]\n",
      "100%|██████████| 10/10 [00:00<00:00, 685.83it/s]\n"
     ]
    }
   ],
   "source": [
    "loaders, scaler = prepare_dataset([train_trials, val_trials], class_columns=FORCE_CLASS_COLS, \n",
    "                                  training_columns=TR_COLS, batch_size=BATCH_SIZE, \n",
    "                                  normalise_data=NORMALISE_DATA, device=device)"
   ]
  },
  {
   "cell_type": "code",
   "execution_count": 13,
   "metadata": {},
   "outputs": [],
   "source": [
    "train_loader, val_loader = loaders"
   ]
  },
  {
   "cell_type": "code",
   "execution_count": 14,
   "metadata": {},
   "outputs": [
    {
     "name": "stdout",
     "output_type": "stream",
     "text": [
      "[3 3 4]\n",
      "Majority class:  0.4\n",
      "[3 4 3]\n",
      "Majority class:  0.4\n"
     ]
    }
   ],
   "source": [
    "class_proportions(train_loader)\n",
    "class_proportions(val_loader)"
   ]
  },
  {
   "cell_type": "code",
   "execution_count": 15,
   "metadata": {},
   "outputs": [
    {
     "name": "stderr",
     "output_type": "stream",
     "text": [
      "\r",
      "  0%|          | 0/2 [00:00<?, ?it/s]"
     ]
    },
    {
     "name": "stdout",
     "output_type": "stream",
     "text": [
      "<class 'torch.nn.modules.rnn.RNN'>\n"
     ]
    },
    {
     "name": "stderr",
     "output_type": "stream",
     "text": [
      "Train_loss (1.18)\t Train_acc (50.00)\t Val_acc (30.00): 100%|██████████| 2/2 [00:02<00:00,  1.08s/it] \n",
      "Train_loss (1.05)\t Train_acc (40.00)\t Val_acc (30.00): 100%|██████████| 2/2 [00:02<00:00,  1.02s/it] \n",
      "Train_loss (1.14)\t Train_acc (60.00)\t Val_acc (40.00): 100%|██████████| 2/2 [00:02<00:00,  1.00it/s] \n",
      "  0%|          | 0/2 [00:00<?, ?it/s]"
     ]
    },
    {
     "name": "stdout",
     "output_type": "stream",
     "text": [
      "<class 'torch.nn.modules.rnn.LSTM'>\n"
     ]
    },
    {
     "name": "stderr",
     "output_type": "stream",
     "text": [
      "Train_loss (1.12)\t Train_acc (30.00)\t Val_acc (30.00): 100%|██████████| 2/2 [00:05<00:00,  2.88s/it] \n",
      "Train_loss (1.10)\t Train_acc (40.00)\t Val_acc (30.00): 100%|██████████| 2/2 [00:05<00:00,  2.93s/it] \n",
      "Train_loss (1.10)\t Train_acc (40.00)\t Val_acc (30.00): 100%|██████████| 2/2 [00:05<00:00,  2.93s/it] \n",
      "  0%|          | 0/2 [00:00<?, ?it/s]"
     ]
    },
    {
     "name": "stdout",
     "output_type": "stream",
     "text": [
      "<class 'torch.nn.modules.rnn.GRU'>\n"
     ]
    },
    {
     "name": "stderr",
     "output_type": "stream",
     "text": [
      "Train_loss (1.09)\t Train_acc (60.00)\t Val_acc (30.00): 100%|██████████| 2/2 [00:05<00:00,  2.77s/it] \n",
      "Train_loss (1.14)\t Train_acc (60.00)\t Val_acc (20.00): 100%|██████████| 2/2 [00:05<00:00,  2.72s/it] \n",
      "Train_loss (1.12)\t Train_acc (70.00)\t Val_acc (20.00): 100%|██████████| 2/2 [00:06<00:00,  3.02s/it] \n"
     ]
    }
   ],
   "source": [
    "stats_dfs = []\n",
    "\n",
    "for cell_type, cell_label in zip([nn.RNN, nn.LSTM, nn.GRU], labels):\n",
    "    print(cell_type)\n",
    "    for seed in [0, 42, 72]:\n",
    "        df = pd.DataFrame(columns=[\"cell_type\", \"Epoch\", \"Loss\"])\n",
    "        model, error, optimizer = initialise_model(network_params, lr=0.01, cell_type=cell_type, seed=seed, device=device)\n",
    "        epoch_losses, epoch_accuracies, best_model = training_loop(model, optimizer, error, train_loader, \n",
    "                                                                   val_loader, EPOCHS, seq_end=SEQ_END,\n",
    "                                                                   step_size=STEP_SIZE)\n",
    "\n",
    "        df[\"Epoch\"] = np.arange(EPOCHS)\n",
    "        df[\"Loss\"] = epoch_losses\n",
    "        df[\"Train Accuracy\"] = epoch_accuracies[0]\n",
    "        df[\"Val Accuracy\"] = epoch_accuracies[1]\n",
    "        df[\"cell_type\"] = cell_label\n",
    "        stats_dfs.append(df)\n",
    "\n",
    "stats = pd.concat(stats_dfs)\n",
    "# stats.to_hdf(directory+\"force_stats.h5\", key=\"stats\")"
   ]
  }
 ],
 "metadata": {
  "kernelspec": {
   "display_name": "Python 3",
   "language": "python",
   "name": "python3"
  },
  "language_info": {
   "codemirror_mode": {
    "name": "ipython",
    "version": 3
   },
   "file_extension": ".py",
   "mimetype": "text/x-python",
   "name": "python",
   "nbconvert_exporter": "python",
   "pygments_lexer": "ipython3",
   "version": "3.5.6"
  }
 },
 "nbformat": 4,
 "nbformat_minor": 2
}
