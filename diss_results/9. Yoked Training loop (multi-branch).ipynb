{
 "cells": [
  {
   "cell_type": "code",
   "execution_count": 1,
   "metadata": {},
   "outputs": [],
   "source": [
    "import pandas as pd\n",
    "import numpy as np\n",
    "import torch\n",
    "import torch.utils.data\n",
    "import torch.nn as nn\n",
    "from torch.autograd import Variable\n",
    "from sklearn.model_selection import train_test_split\n",
    "import joblib\n",
    "from tqdm import tqdm\n",
    "import matplotlib.pyplot as plt\n",
    "from copy import deepcopy"
   ]
  },
  {
   "cell_type": "code",
   "execution_count": 2,
   "metadata": {},
   "outputs": [
    {
     "name": "stdout",
     "output_type": "stream",
     "text": [
      "cuda:0\n"
     ]
    }
   ],
   "source": [
    "from isaac.utils import get_cuda_device_if_available, create_directory\n",
    "device = get_cuda_device_if_available()\n",
    "print(device)\n",
    "\n",
    "data_directory = \"yoked_from_scratch_plots/\"\n",
    "create_directory(data_directory)\n",
    "create_directory(\"models\")\n",
    "create_directory(\"scalers\")"
   ]
  },
  {
   "cell_type": "code",
   "execution_count": 3,
   "metadata": {},
   "outputs": [],
   "source": [
    "from isaac.dataset import read_dataset, prepare_dataset\n",
    "from isaac.utils import plot_confusion_matrix\n",
    "from isaac.constants import BASIC_TRAINING_COLS, FORCE_CLASS_COLS, MASS_CLASS_COLS, YOKED_TRAINING_COLS\n",
    "from isaac.training import training_loop, evaluate_saved_model\n",
    "from isaac.models import MultiBranchModel, initialise_model"
   ]
  },
  {
   "cell_type": "code",
   "execution_count": 4,
   "metadata": {},
   "outputs": [],
   "source": [
    "BATCH_SIZE = 128\n",
    "EPOCHS = 2\n",
    "NORMALISE_DATA = True\n",
    "STEP_SIZE = 3\n",
    "SEQ_END = 1800\n",
    "\n",
    "INPUT_DIM = len(BASIC_TRAINING_COLS)    # input dimension\n",
    "HIDDEN_DIM = 25  # hidden layer dimension\n",
    "N_LAYERS = 4     # number of hidden layers\n",
    "OUTPUT_DIM = 3   # output dimension\n",
    "DROPOUT = 0.5\n",
    "\n",
    "network_params = (INPUT_DIM, HIDDEN_DIM, OUTPUT_DIM, DROPOUT)"
   ]
  },
  {
   "cell_type": "markdown",
   "metadata": {},
   "source": [
    "## Read dataset and preprocess it"
   ]
  },
  {
   "cell_type": "code",
   "execution_count": 5,
   "metadata": {},
   "outputs": [
    {
     "name": "stderr",
     "output_type": "stream",
     "text": [
      "100%|██████████| 219/219 [00:01<00:00, 172.12it/s]\n",
      "100%|██████████| 399/399 [00:06<00:00, 60.48it/s]\n",
      "100%|██████████| 399/399 [00:06<00:00, 57.37it/s]\n"
     ]
    },
    {
     "data": {
      "text/plain": [
       "(915, 51, 51)"
      ]
     },
     "execution_count": 5,
     "metadata": {},
     "output_type": "execute_result"
    }
   ],
   "source": [
    "exp1_trials = read_dataset(\"data/yoked_trials_exp1.h5\")\n",
    "exp2_mass_trials = read_dataset(\"data/mass_trials_exp2.h5\")\n",
    "exp2_force_trials = read_dataset(\"data/force_trials_exp2.h5\")\n",
    "\n",
    "exp1_trials = [trial[:1801] for trial in exp1_trials]\n",
    "all_trials = np.array(exp1_trials + exp2_mass_trials + exp2_force_trials)\n",
    "\n",
    "train_indices, val_indices = train_test_split(np.arange(len(all_trials)), test_size=0.1)\n",
    "val_indices, test_indices = train_test_split(val_indices, test_size=0.5)\n",
    "\n",
    "train_trials = all_trials[train_indices]\n",
    "val_trials = all_trials[val_indices]\n",
    "test_trials = all_trials[test_indices]\n",
    "\n",
    "len(train_trials), len(val_trials), len(test_indices)"
   ]
  },
  {
   "cell_type": "markdown",
   "metadata": {},
   "source": [
    "## Define model, loss and optimizer"
   ]
  },
  {
   "cell_type": "markdown",
   "metadata": {},
   "source": [
    "## Train model and plot loss and accuracy"
   ]
  },
  {
   "cell_type": "code",
   "execution_count": 6,
   "metadata": {},
   "outputs": [],
   "source": [
    "def get_best_model_and_its_accuracy(accuracies, model, best_model, best_accuracy):\n",
    "    model_accuracy = max(accuracies)\n",
    "    print(model_accuracy)\n",
    "    if model_accuracy > best_accuracy:\n",
    "        return deepcopy(model), model_accuracy\n",
    "\n",
    "    return best_model, best_accuracy"
   ]
  },
  {
   "cell_type": "code",
   "execution_count": 7,
   "metadata": {
    "scrolled": true
   },
   "outputs": [
    {
     "name": "stderr",
     "output_type": "stream",
     "text": [
      "100%|██████████| 915/915 [00:01<00:00, 653.53it/s]\n",
      "100%|██████████| 51/51 [00:00<00:00, 629.58it/s]\n",
      "Train_loss: ([1.09587441 1.09019125]) Train_acc: ([40.43715847 40.87431694]) Val_acc: ([37.25490196 43.1372549 ]): 100%|██████████| 2/2 [00:04<00:00,  2.31s/it]\n",
      "  0%|          | 0/2 [00:00<?, ?it/s]"
     ]
    },
    {
     "name": "stdout",
     "output_type": "stream",
     "text": [
      "37.254901960784316\n",
      "43.13725490196079\n"
     ]
    },
    {
     "name": "stderr",
     "output_type": "stream",
     "text": [
      "Train_loss: ([1.10016601 1.09213865]) Train_acc: ([39.78142077 38.90710383]) Val_acc: ([43.1372549  45.09803922]): 100%|██████████| 2/2 [00:04<00:00,  2.35s/it]\n",
      "  0%|          | 0/2 [00:00<?, ?it/s]"
     ]
    },
    {
     "name": "stdout",
     "output_type": "stream",
     "text": [
      "43.13725490196079\n",
      "45.09803921568628\n"
     ]
    },
    {
     "name": "stderr",
     "output_type": "stream",
     "text": [
      "Train_loss: ([1.09578782 1.09795712]) Train_acc: ([39.78142077 36.39344262]) Val_acc: ([35.29411765 45.09803922]): 100%|██████████| 2/2 [00:04<00:00,  2.33s/it]"
     ]
    },
    {
     "name": "stdout",
     "output_type": "stream",
     "text": [
      "35.294117647058826\n",
      "45.09803921568628\n"
     ]
    },
    {
     "name": "stderr",
     "output_type": "stream",
     "text": [
      "\n"
     ]
    }
   ],
   "source": [
    "stats_dfs = []\n",
    "loaders, scaler = prepare_dataset([train_trials, val_trials], \n",
    "                                  class_columns=[list(MASS_CLASS_COLS), list(FORCE_CLASS_COLS)], \n",
    "                                  multiclass=True, training_columns=BASIC_TRAINING_COLS,\n",
    "                                  batch_size=BATCH_SIZE, normalise_data=NORMALISE_DATA, \n",
    "                                  device=device)\n",
    "\n",
    "best_mass_model_overall = None\n",
    "best_mass_accuracy = 0.\n",
    "best_force_model_overall = None\n",
    "best_force_accuracy = 0.\n",
    "\n",
    "for seed in [0, 42, 72]:\n",
    "    df = pd.DataFrame()\n",
    "\n",
    "\n",
    "    model, error, optimizer = initialise_model(network_params, lr=0.01, seed=seed, device=device, arch=MultiBranchModel)\n",
    "    epoch_losses, epoch_accuracies, [best_mass_model, best_force_model] = training_loop(model, optimizer, \n",
    "                                                                                        error,\n",
    "                                                                                        loaders[0], loaders[1], \n",
    "                                                                                        EPOCHS, seq_end=SEQ_END,\n",
    "                                                                                        step_size=STEP_SIZE,\n",
    "                                                                                        multibranch=True)\n",
    "\n",
    "    train_accuracies = np.array(epoch_accuracies[0])\n",
    "    val_accuracies = np.array(epoch_accuracies[1])\n",
    "    \n",
    "    best_mass_model_overall, best_mass_accuracy = get_best_model_and_its_accuracy(val_accuracies[:, 0], \n",
    "                                                                                  best_mass_model, \n",
    "                                                                                  best_mass_model_overall,\n",
    "                                                                                  best_mass_accuracy)\n",
    "\n",
    "    best_force_model_overall, best_force_accuracy = get_best_model_and_its_accuracy(val_accuracies[:, 1], \n",
    "                                                                                    best_force_model,\n",
    "                                                                                    best_force_model_overall,\n",
    "                                                                                    best_force_accuracy)\n",
    "\n",
    "    df[\"Epoch\"] = np.arange(EPOCHS)\n",
    "    df[\"Mass Loss\"] = epoch_losses[:, 0]\n",
    "    df[\"Force Loss\"] = epoch_losses[:, 1]\n",
    "    df[\"Mass Train Accuracy\"] = train_accuracies[:, 0]\n",
    "    df[\"Mass Val Accuracy\"] = val_accuracies[:, 0]\n",
    "    df[\"Force Train Accuracy\"] = train_accuracies[:, 1]\n",
    "    df[\"Force Val Accuracy\"] = val_accuracies[:,1]\n",
    "    df[\"seed\"] = str(seed)\n",
    "    stats_dfs.append(df)\n",
    "        \n",
    "stats = pd.concat(stats_dfs)\n",
    "# stats.to_hdf(data_directory+\"stats.h5\", key=\"stats\")"
   ]
  },
  {
   "cell_type": "code",
   "execution_count": 8,
   "metadata": {},
   "outputs": [
    {
     "data": {
      "text/plain": [
       "(43.13725490196079, 45.09803921568628)"
      ]
     },
     "execution_count": 8,
     "metadata": {},
     "output_type": "execute_result"
    }
   ],
   "source": [
    "best_mass_accuracy, best_force_accuracy"
   ]
  },
  {
   "cell_type": "markdown",
   "metadata": {},
   "source": [
    "## Save model and scaler"
   ]
  },
  {
   "cell_type": "markdown",
   "metadata": {},
   "source": [
    "torch.save(best_mass_model_overall.state_dict(), \"models/yoked_mass_dual_model.pt\")\n",
    "torch.save(best_force_model_overall.state_dict(), \"models/yoked_force_dual_model.pt\")"
   ]
  },
  {
   "cell_type": "markdown",
   "metadata": {},
   "source": [
    "joblib.dump(scaler, \"scalers/yoked_dual_scaler.sk\")"
   ]
  },
  {
   "cell_type": "markdown",
   "metadata": {},
   "source": [
    "# Evaluating models on test data and CMs"
   ]
  },
  {
   "cell_type": "markdown",
   "metadata": {},
   "source": [
    "def plot(predicted, i, class_columns, test_loader):\n",
    "    predicted = [pred.cpu() for pred in predicted]\n",
    "    Y_test = np.concatenate([y[:, i].cpu().numpy() for x, y in test_loader])\n",
    "\n",
    "    # plot_confusion_matrix(Y_test, predicted, classes=class_columns, normalize=False)\n",
    "    plot_confusion_matrix(Y_test, predicted, classes=class_columns, normalize=True, )"
   ]
  },
  {
   "cell_type": "markdown",
   "metadata": {},
   "source": [
    "test_loader, _ = prepare_dataset([test_trials], class_columns=[list(MASS_CLASS_COLS), list(FORCE_CLASS_COLS)], \n",
    "                                 training_columns=BASIC_TRAINING_COLS, multiclass=True, scaler=scaler,\n",
    "                                 normalise_data=True)\n",
    "mass_accuracy, _, mass_predicted, _ = evaluate(best_mass_model_overall, test_loader, return_predicted=True, seq_end=1800, step_size=3)\n",
    "print(mass_accuracy)\n",
    "plot(mass_predicted, 0, MASS_CLASS_COLS, test_loader)\n",
    "plt.savefig(\"yoked_from_scratch_plots/mass_cm.pdf\")"
   ]
  },
  {
   "cell_type": "markdown",
   "metadata": {},
   "source": [
    "test_loader, _ = prepare_dataset([test_trials], class_columns=[list(MASS_CLASS_COLS), list(FORCE_CLASS_COLS)], \n",
    "                                 training_columns=BASIC_TRAINING_COLS, multiclass=True, scaler=scaler,\n",
    "                                 normalise_data=True)\n",
    "_, force_accuracy, _, force_predicted = evaluate(best_force_model_overall, test_loader, return_predicted=True, seq_end=1800, step_size=3)\n",
    "print(force_accuracy)\n",
    "plot(force_predicted, 1, FORCE_CLASS_COLS, test_loader)\n",
    "plt.savefig(\"yoked_from_scratch_plots/force_cm.pdf\")"
   ]
  }
 ],
 "metadata": {
  "kernelspec": {
   "display_name": "Python 3",
   "language": "python",
   "name": "python3"
  },
  "language_info": {
   "codemirror_mode": {
    "name": "ipython",
    "version": 3
   },
   "file_extension": ".py",
   "mimetype": "text/x-python",
   "name": "python",
   "nbconvert_exporter": "python",
   "pygments_lexer": "ipython3",
   "version": "3.5.6"
  }
 },
 "nbformat": 4,
 "nbformat_minor": 2
}
