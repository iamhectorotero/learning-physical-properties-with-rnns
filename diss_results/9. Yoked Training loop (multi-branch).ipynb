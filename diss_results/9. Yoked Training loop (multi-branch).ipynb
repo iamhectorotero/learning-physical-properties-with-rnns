{
 "cells": [
  {
   "cell_type": "code",
   "execution_count": null,
   "metadata": {},
   "outputs": [],
   "source": [
    "import pandas as pd\n",
    "import numpy as np\n",
    "import torch\n",
    "import torch.utils.data\n",
    "import torch.nn as nn\n",
    "from torch.autograd import Variable\n",
    "from sklearn.model_selection import train_test_split\n",
    "import joblib\n",
    "from tqdm import tqdm\n",
    "import matplotlib.pyplot as plt\n",
    "from copy import deepcopy"
   ]
  },
  {
   "cell_type": "code",
   "execution_count": null,
   "metadata": {},
   "outputs": [],
   "source": [
    "import matplotlib2tikz"
   ]
  },
  {
   "cell_type": "code",
   "execution_count": null,
   "metadata": {},
   "outputs": [],
   "source": [
    "torch.cuda.is_available()"
   ]
  },
  {
   "cell_type": "code",
   "execution_count": null,
   "metadata": {},
   "outputs": [],
   "source": [
    "from isaac.dataset import read_dataset, prepare_dataset\n",
    "from isaac.utils import plot_confusion_matrix\n",
    "from isaac.constants import BASIC_TRAINING_COLS, FORCE_CLASS_COLS, MASS_CLASS_COLS, YOKED_TRAINING_COLS\n",
    "from isaac.training import training_loop, evaluate_saved_model"
   ]
  },
  {
   "cell_type": "code",
   "execution_count": null,
   "metadata": {},
   "outputs": [],
   "source": [
    "BATCH_SIZE = 128\n",
    "EPOCHS = 100\n",
    "NORMALISE_DATA = True\n",
    "STEP_SIZE = 3\n",
    "SEQ_END = 1800\n",
    "\n",
    "INPUT_DIM = len(BASIC_TRAINING_COLS)    # input dimension\n",
    "HIDDEN_DIM = 25  # hidden layer dimension\n",
    "N_LAYERS = 4     # number of hidden layers\n",
    "OUTPUT_DIM = 3   # output dimension\n",
    "DROPOUT = 0.5\n",
    "\n",
    "network_params = (INPUT_DIM, HIDDEN_DIM, OUTPUT_DIM, DROPOUT)"
   ]
  },
  {
   "cell_type": "markdown",
   "metadata": {},
   "source": [
    "## Read dataset and preprocess it"
   ]
  },
  {
   "cell_type": "code",
   "execution_count": null,
   "metadata": {},
   "outputs": [],
   "source": [
    "exp1_trials = read_dataset(\"data/yoked_trials_exp1.h5\")\n",
    "exp2_mass_trials = read_dataset(\"data/mass_trials_exp2.h5\")\n",
    "exp2_force_trials = read_dataset(\"data/force_trials_exp2.h5\")\n",
    "\n",
    "exp1_trials = [trial[:1801] for trial in exp1_trials]\n",
    "all_trials = np.array(exp1_trials + exp2_mass_trials + exp2_force_trials)\n",
    "\n",
    "train_indices, val_indices = train_test_split(np.arange(len(all_trials)), test_size=0.1)\n",
    "val_indices, test_indices = train_test_split(val_indices, test_size=0.5)\n",
    "\n",
    "train_trials = all_trials[train_indices]\n",
    "val_trials = all_trials[val_indices]\n",
    "test_trials = all_trials[test_indices]\n",
    "\n",
    "len(train_trials), len(val_trials), len(test_indices)"
   ]
  },
  {
   "cell_type": "code",
   "execution_count": null,
   "metadata": {},
   "outputs": [],
   "source": [
    "class MultiBranchModel(nn.Module):\n",
    "    def __init__(self, input_dim, hidden_dim, output_dim, dropout=0.5):\n",
    "        super(MultiBranchModel, self).__init__()\n",
    "        # RNN\n",
    "        self.base_gru = nn.GRU(input_dim, hidden_dim, 2, batch_first=True, dropout=dropout)\n",
    "        # Readout layer\n",
    "        self.gru1 = nn.GRU(hidden_dim, hidden_dim, 2, batch_first=True, dropout=dropout)\n",
    "        self.gru2 = nn.GRU(hidden_dim, hidden_dim, 2, batch_first=True, dropout=dropout)\n",
    "        \n",
    "        self.fc1 = nn.Linear(hidden_dim, output_dim)\n",
    "        self.fc2 = nn.Linear(hidden_dim, output_dim)\n",
    "        \n",
    "    def forward(self, x):\n",
    "        out, _ = self.base_gru(x)\n",
    "        \n",
    "        out_1, _ = self.gru1(out)\n",
    "        out_1 = self.fc1(out_1[:, -1, :]) \n",
    "        \n",
    "        out_2, _ = self.gru2(out)\n",
    "        out_2 = self.fc2(out_2[:, -1, :]) \n",
    "        return out_1, out_2"
   ]
  },
  {
   "cell_type": "markdown",
   "metadata": {},
   "source": [
    "## Define model, loss and optimizer"
   ]
  },
  {
   "cell_type": "code",
   "execution_count": null,
   "metadata": {},
   "outputs": [],
   "source": [
    "def training_loop(model, optimizer, mass_error, force_error, train_loader, val_loader, num_epochs=200, print_stats_per_epoch=True,\n",
    "                  seq_start=None, seq_end=None, step_size=None):    \n",
    "    \"\"\"Trains a model for <num_epochs> to minimize the <error> using the <optimizer>.\n",
    "    Returns a list of epoch losses (averaged over batches) as well as validation accuracy\"\"\"\n",
    "    \n",
    "    best_model, best_mass_accuracy, best_force_accuracy = None, 0, 0\n",
    "    epoch_losses = [[], []]\n",
    "    epoch_accuracies = [[],[]]\n",
    "    \n",
    "    pbar = tqdm(range(num_epochs))\n",
    "    \n",
    "    for epoch in pbar:\n",
    "        model.train()\n",
    "        \n",
    "        mass_total_loss = 0.\n",
    "        force_total_loss = 0.\n",
    "\n",
    "        for x, y in train_loader:\n",
    "\n",
    "            x = Variable(x[:, seq_start:seq_end:step_size, :])\n",
    "            y = Variable(y)\n",
    "            \n",
    "            mass_y = y[:, 0]\n",
    "            force_y = y[:, 1]\n",
    "            \n",
    "            # Clear gradients\n",
    "            optimizer.zero_grad()\n",
    "            # Forward propagation\n",
    "            mass_y_hat, force_y_hat = model(x)\n",
    "            # Calculate softmax and cross entropy loss\n",
    "            mass_loss = mass_error(mass_y_hat, mass_y)\n",
    "            force_loss = force_error(force_y_hat, force_y)\n",
    "            \n",
    "            # Calculating gradients\n",
    "            torch.autograd.backward([mass_loss, force_loss])\n",
    "            \n",
    "            # Update parameters\n",
    "            optimizer.step()\n",
    "\n",
    "            mass_total_loss += mass_loss.item()\n",
    "            force_total_loss += force_loss.item()\n",
    "\n",
    "        epoch_losses[0].append(mass_total_loss / len(train_loader))\n",
    "        epoch_losses[1].append(force_total_loss / len(train_loader))\n",
    "\n",
    "        model.eval()\n",
    "        train_mass_accuracy, train_force_accuracy = evaluate(model, train_loader, seq_end=seq_end, step_size=step_size)\n",
    "        epoch_accuracies[0].append((train_mass_accuracy, train_force_accuracy))\n",
    "        val_mass_accuracy, val_force_accuracy = evaluate(model, val_loader, seq_end=seq_end, step_size=step_size)\n",
    "        epoch_accuracies[1].append((val_mass_accuracy, val_force_accuracy))\n",
    "\n",
    "        if val_mass_accuracy > best_mass_accuracy:\n",
    "            best_mass_model = deepcopy(model)\n",
    "            best_mass_accuracy = val_mass_accuracy\n",
    "        \n",
    "        if val_force_accuracy > best_force_accuracy:\n",
    "            best_force_model = deepcopy(model)\n",
    "            best_force_accuracy = val_force_accuracy\n",
    "            \n",
    "        if print_stats_per_epoch:\n",
    "            pbar.set_description(\"Mass_loss (%.2f) Mass Train_acc (%.2f) Mass Val_acc (%.2f) Force_loss (%.2f)  Force Train_acc (%.2f) Force Val_acc (%.2f)\" % \n",
    "                                 (epoch_losses[0][-1], train_mass_accuracy, val_mass_accuracy, \n",
    "                                  epoch_losses[1][-1], train_force_accuracy, val_force_accuracy))\n",
    "    \n",
    "    return epoch_losses, epoch_accuracies, [best_mass_model, best_force_model]"
   ]
  },
  {
   "cell_type": "code",
   "execution_count": null,
   "metadata": {},
   "outputs": [],
   "source": [
    "def get_current_prediction_and_number_of_correct_examples(y_hat, y_val):\n",
    "    current_prediction = torch.max(y_hat.data, 1)[1]\n",
    "    correct = (current_prediction == y_val).sum().cpu().numpy()\n",
    "    return current_prediction, correct\n",
    "\n",
    "def evaluate(model, val_loader, return_predicted=False, seq_start=None, seq_end=None, step_size=None):\n",
    "    predicted = [[], []]\n",
    "    accuracies = [[], []]\n",
    "\n",
    "    mass_correct = 0\n",
    "    force_correct = 0\n",
    "    total = 0\n",
    "    \n",
    "    for x_val, y_val in val_loader:\n",
    "        total += y_val.size(0)\n",
    "        mass_val = y_val[:, 0]\n",
    "        force_val = y_val[:, 1]\n",
    "\n",
    "        x_val = Variable(x_val[:, seq_start:seq_end:step_size, :])\n",
    "        mass_hat, force_hat = model(x_val)\n",
    "        \n",
    "        current_prediction, correct = get_current_prediction_and_number_of_correct_examples(mass_hat, mass_val)\n",
    "        mass_correct += correct\n",
    "        predicted[0].extend(current_prediction)\n",
    "        \n",
    "        current_prediction, correct = get_current_prediction_and_number_of_correct_examples(force_hat, force_val)\n",
    "        force_correct += correct\n",
    "        predicted[1].extend(current_prediction)\n",
    "        \n",
    "    accuracies[0] = 100 * mass_correct / float(total)\n",
    "    accuracies[1] = 100 * force_correct / float(total)\n",
    "    \n",
    "    if return_predicted:\n",
    "        return accuracies[0], accuracies[1], predicted[0], predicted[1]\n",
    "    \n",
    "    return accuracies[0], accuracies[1]"
   ]
  },
  {
   "cell_type": "markdown",
   "metadata": {},
   "source": [
    "## Train model and plot loss and accuracy"
   ]
  },
  {
   "cell_type": "code",
   "execution_count": null,
   "metadata": {},
   "outputs": [],
   "source": [
    "def initialise_model(network_params, lr=0.01, seed=0):\n",
    "    np.random.seed(seed)\n",
    "    torch.manual_seed(seed)\n",
    "    torch.backends.cudnn.deterministic = True\n",
    "    torch.backends.cudnn.benchmark = False\n",
    "\n",
    "    model = MultiBranchModel(*network_params)\n",
    "    model = model.cuda()\n",
    "\n",
    "    mass_error = nn.CrossEntropyLoss().cuda()\n",
    "    force_error = nn.CrossEntropyLoss().cuda()\n",
    "\n",
    "    optimizer = torch.optim.Adam(model.parameters(), lr=lr, weight_decay=1e-3)\n",
    "    return model, mass_error, force_error, optimizer"
   ]
  },
  {
   "cell_type": "code",
   "execution_count": null,
   "metadata": {},
   "outputs": [],
   "source": [
    "def get_best_model_and_its_accuracy(accuracies, model, best_model, best_accuracy):\n",
    "    model_accuracy = max(accuracies)\n",
    "    print(model_accuracy)\n",
    "    if model_accuracy > best_accuracy:\n",
    "        return deepcopy(model), model_accuracy\n",
    "\n",
    "    return best_model, best_accuracy"
   ]
  },
  {
   "cell_type": "code",
   "execution_count": null,
   "metadata": {
    "scrolled": true
   },
   "outputs": [],
   "source": [
    "stats_dfs = []\n",
    "loaders, scaler = prepare_dataset([train_trials, val_trials], \n",
    "                                  class_columns=[list(MASS_CLASS_COLS), list(FORCE_CLASS_COLS)], \n",
    "                                  multiclass=True, training_columns=BASIC_TRAINING_COLS,\n",
    "                                  batch_size=BATCH_SIZE, normalise_data=NORMALISE_DATA)\n",
    "\n",
    "best_mass_model_overall = None\n",
    "best_mass_accuracy = 0.\n",
    "best_force_model_overall = None\n",
    "best_force_accuracy = 0.\n",
    "\n",
    "for seed in [0, 42, 72]:\n",
    "    df = pd.DataFrame()\n",
    "\n",
    "\n",
    "    model, mass_error, force_error, optimizer = initialise_model(network_params, lr=0.01, seed=seed)\n",
    "    epoch_losses, epoch_accuracies, [best_mass_model, best_force_model] = training_loop(model, optimizer, \n",
    "                                                                                        mass_error, force_error,\n",
    "                                                                                        loaders[0], loaders[1], \n",
    "                                                                                        EPOCHS, seq_end=SEQ_END,\n",
    "                                                                                        step_size=STEP_SIZE,\n",
    "                                                                                    )\n",
    "\n",
    "    train_accuracies = np.array(epoch_accuracies[0])\n",
    "    val_accuracies = np.array(epoch_accuracies[1])\n",
    "    \n",
    "    best_mass_model_overall, best_mass_accuracy = get_best_model_and_its_accuracy(val_accuracies[:, 0], \n",
    "                                                                                  best_mass_model, \n",
    "                                                                                  best_mass_model_overall,\n",
    "                                                                                  best_mass_accuracy)\n",
    "\n",
    "    best_force_model_overall, best_force_accuracy = get_best_model_and_its_accuracy(val_accuracies[:, 1], \n",
    "                                                                                    best_force_model,\n",
    "                                                                                    best_force_model_overall,\n",
    "                                                                                    best_force_accuracy)\n",
    "\n",
    "    df[\"Epoch\"] = np.arange(EPOCHS)\n",
    "    df[\"Mass Loss\"] = epoch_losses[0]\n",
    "    df[\"Force Loss\"] = epoch_losses[1]\n",
    "    df[\"Mass Train Accuracy\"] = train_accuracies[:, 0]\n",
    "    df[\"Mass Val Accuracy\"] = val_accuracies[:, 0]\n",
    "    df[\"Force Train Accuracy\"] = train_accuracies[:, 1]\n",
    "    df[\"Force Val Accuracy\"] = val_accuracies[:,1]\n",
    "    df[\"seed\"] = str(seed)\n",
    "    stats_dfs.append(df)\n",
    "        \n",
    "stats = pd.concat(stats_dfs)\n",
    "# stats.to_hdf(\"yoked_from_scratch_plots/stats.h5\", key=\"stats\")"
   ]
  },
  {
   "cell_type": "code",
   "execution_count": null,
   "metadata": {},
   "outputs": [],
   "source": [
    "best_mass_accuracy, best_force_accuracy"
   ]
  },
  {
   "cell_type": "markdown",
   "metadata": {},
   "source": [
    "## Save model and scaler"
   ]
  },
  {
   "cell_type": "markdown",
   "metadata": {},
   "source": [
    "torch.save(best_mass_model_overall.state_dict(), \"models/yoked_mass_dual_model.pt\")\n",
    "torch.save(best_force_model_overall.state_dict(), \"models/yoked_force_dual_model.pt\")"
   ]
  },
  {
   "cell_type": "markdown",
   "metadata": {},
   "source": [
    "joblib.dump(scaler, \"scalers/yoked_dual_scaler.sk\")"
   ]
  },
  {
   "cell_type": "markdown",
   "metadata": {},
   "source": [
    "# Evaluating models on test data and CMs"
   ]
  },
  {
   "cell_type": "markdown",
   "metadata": {},
   "source": [
    "def plot(predicted, i, class_columns, test_loader):\n",
    "    predicted = [pred.cpu() for pred in predicted]\n",
    "    Y_test = np.concatenate([y[:, i].cpu().numpy() for x, y in test_loader])\n",
    "\n",
    "    # plot_confusion_matrix(Y_test, predicted, classes=class_columns, normalize=False)\n",
    "    plot_confusion_matrix(Y_test, predicted, classes=class_columns, normalize=True, )"
   ]
  },
  {
   "cell_type": "markdown",
   "metadata": {},
   "source": [
    "test_loader, _ = prepare_dataset([test_trials], class_columns=[list(MASS_CLASS_COLS), list(FORCE_CLASS_COLS)], \n",
    "                                 training_columns=BASIC_TRAINING_COLS, multiclass=True, scaler=scaler,\n",
    "                                 normalise_data=True)\n",
    "mass_accuracy, _, mass_predicted, _ = evaluate(best_mass_model_overall, test_loader, return_predicted=True, seq_end=1800, step_size=3)\n",
    "print(mass_accuracy)\n",
    "plot(mass_predicted, 0, MASS_CLASS_COLS, test_loader)\n",
    "plt.savefig(\"yoked_from_scratch_plots/mass_cm.pdf\")"
   ]
  },
  {
   "cell_type": "markdown",
   "metadata": {},
   "source": [
    "test_loader, _ = prepare_dataset([test_trials], class_columns=[list(MASS_CLASS_COLS), list(FORCE_CLASS_COLS)], \n",
    "                                 training_columns=BASIC_TRAINING_COLS, multiclass=True, scaler=scaler,\n",
    "                                 normalise_data=True)\n",
    "_, force_accuracy, _, force_predicted = evaluate(best_force_model_overall, test_loader, return_predicted=True, seq_end=1800, step_size=3)\n",
    "print(force_accuracy)\n",
    "plot(force_predicted, 1, FORCE_CLASS_COLS, test_loader)\n",
    "plt.savefig(\"yoked_from_scratch_plots/force_cm.pdf\")"
   ]
  }
 ],
 "metadata": {
  "kernelspec": {
   "display_name": "Python 3",
   "language": "python",
   "name": "python3"
  },
  "language_info": {
   "codemirror_mode": {
    "name": "ipython",
    "version": 3
   },
   "file_extension": ".py",
   "mimetype": "text/x-python",
   "name": "python",
   "nbconvert_exporter": "python",
   "pygments_lexer": "ipython3",
   "version": "3.5.6"
  }
 },
 "nbformat": 4,
 "nbformat_minor": 2
}
