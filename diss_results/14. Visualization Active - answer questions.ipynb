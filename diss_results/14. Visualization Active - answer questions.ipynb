{
 "cells": [
  {
   "cell_type": "code",
   "execution_count": 1,
   "metadata": {},
   "outputs": [],
   "source": [
    "import pandas as pd\n",
    "import matplotlib.pyplot as plt\n",
    "import numpy as np\n",
    "import seaborn as sns"
   ]
  },
  {
   "cell_type": "code",
   "execution_count": 2,
   "metadata": {},
   "outputs": [],
   "source": [
    "sns.set_style(\"whitegrid\")\n",
    "sns.set_context(\"paper\")\n",
    "plt.rcParams.update({'axes.labelsize': '22',\n",
    "                     'xtick.labelsize':'18',\n",
    "                     'ytick.labelsize': '18',\n",
    "                     'legend.fontsize': '18',\n",
    "                     'figure.figsize': (8, 8),\n",
    "                     'font.size': 22})\n",
    "\n",
    "def increase_linewidth(ax):\n",
    "    lines = ax.get_lines()\n",
    "    for line in lines:\n",
    "        line.set_linewidth(3)\n",
    "    if len(lines) > 1:\n",
    "        leg = ax.legend()\n",
    "        leg_lines = leg.get_lines()\n",
    "        plt.setp(leg_lines, linewidth=5)"
   ]
  },
  {
   "cell_type": "code",
   "execution_count": 3,
   "metadata": {},
   "outputs": [],
   "source": [
    "model_directory = \"models/answer_questions/\"\n",
    "data_directory = \"answer_questions_plots/\""
   ]
  },
  {
   "cell_type": "code",
   "execution_count": 4,
   "metadata": {},
   "outputs": [],
   "source": [
    "stats = pd.read_hdf(data_directory+\"training_data.h5\", \"training_data\")"
   ]
  },
  {
   "cell_type": "code",
   "execution_count": 5,
   "metadata": {
    "scrolled": true
   },
   "outputs": [],
   "source": [
    "stats[\"Episode\"] = stats.index"
   ]
  },
  {
   "cell_type": "code",
   "execution_count": 6,
   "metadata": {},
   "outputs": [
    {
     "data": {
      "text/html": [
       "<div>\n",
       "<style scoped>\n",
       "    .dataframe tbody tr th:only-of-type {\n",
       "        vertical-align: middle;\n",
       "    }\n",
       "\n",
       "    .dataframe tbody tr th {\n",
       "        vertical-align: top;\n",
       "    }\n",
       "\n",
       "    .dataframe thead th {\n",
       "        text-align: right;\n",
       "    }\n",
       "</style>\n",
       "<table border=\"1\" class=\"dataframe\">\n",
       "  <thead>\n",
       "    <tr style=\"text-align: right;\">\n",
       "      <th></th>\n",
       "      <th>control</th>\n",
       "      <th>correct_answer</th>\n",
       "      <th>episode_length</th>\n",
       "      <th>question_loss</th>\n",
       "      <th>value_loss</th>\n",
       "      <th>seed</th>\n",
       "      <th>Episode</th>\n",
       "    </tr>\n",
       "  </thead>\n",
       "  <tbody>\n",
       "    <tr>\n",
       "      <th>0</th>\n",
       "      <td>2</td>\n",
       "      <td>True</td>\n",
       "      <td>613</td>\n",
       "      <td>0</td>\n",
       "      <td>tensor(0.0444, device='cuda:0')</td>\n",
       "      <td>0</td>\n",
       "      <td>0</td>\n",
       "    </tr>\n",
       "    <tr>\n",
       "      <th>1</th>\n",
       "      <td>1</td>\n",
       "      <td>False</td>\n",
       "      <td>603</td>\n",
       "      <td>0</td>\n",
       "      <td>tensor(0.0475, device='cuda:0')</td>\n",
       "      <td>0</td>\n",
       "      <td>1</td>\n",
       "    </tr>\n",
       "    <tr>\n",
       "      <th>0</th>\n",
       "      <td>1</td>\n",
       "      <td>True</td>\n",
       "      <td>605</td>\n",
       "      <td>0</td>\n",
       "      <td>tensor(0.1056, device='cuda:0')</td>\n",
       "      <td>42</td>\n",
       "      <td>0</td>\n",
       "    </tr>\n",
       "    <tr>\n",
       "      <th>1</th>\n",
       "      <td>1</td>\n",
       "      <td>True</td>\n",
       "      <td>605</td>\n",
       "      <td>0</td>\n",
       "      <td>tensor(0.1033, device='cuda:0')</td>\n",
       "      <td>42</td>\n",
       "      <td>1</td>\n",
       "    </tr>\n",
       "    <tr>\n",
       "      <th>0</th>\n",
       "      <td>0</td>\n",
       "      <td>False</td>\n",
       "      <td>605</td>\n",
       "      <td>0</td>\n",
       "      <td>tensor(0.0612, device='cuda:0')</td>\n",
       "      <td>72</td>\n",
       "      <td>0</td>\n",
       "    </tr>\n",
       "  </tbody>\n",
       "</table>\n",
       "</div>"
      ],
      "text/plain": [
       "   control  correct_answer  episode_length  question_loss  \\\n",
       "0        2            True             613              0   \n",
       "1        1           False             603              0   \n",
       "0        1            True             605              0   \n",
       "1        1            True             605              0   \n",
       "0        0           False             605              0   \n",
       "\n",
       "                        value_loss  seed  Episode  \n",
       "0  tensor(0.0444, device='cuda:0')     0        0  \n",
       "1  tensor(0.0475, device='cuda:0')     0        1  \n",
       "0  tensor(0.1056, device='cuda:0')    42        0  \n",
       "1  tensor(0.1033, device='cuda:0')    42        1  \n",
       "0  tensor(0.0612, device='cuda:0')    72        0  "
      ]
     },
     "execution_count": 6,
     "metadata": {},
     "output_type": "execute_result"
    }
   ],
   "source": [
    "stats.head()"
   ]
  },
  {
   "cell_type": "code",
   "execution_count": 7,
   "metadata": {},
   "outputs": [
    {
     "data": {
      "text/plain": [
       "array([[1.        , 0.72760688],\n",
       "       [0.72760688, 1.        ]])"
      ]
     },
     "execution_count": 7,
     "metadata": {},
     "output_type": "execute_result"
    }
   ],
   "source": [
    "np.corrcoef(stats.control, stats.correct_answer)"
   ]
  },
  {
   "cell_type": "code",
   "execution_count": 8,
   "metadata": {},
   "outputs": [],
   "source": [
    "stats[\"none\"] = (stats.control == 0)\n",
    "stats[\"one_ball\"] = (stats.control == 1)\n",
    "stats[\"two_balls\"] = (stats.control == 2)"
   ]
  },
  {
   "cell_type": "code",
   "execution_count": 9,
   "metadata": {},
   "outputs": [],
   "source": [
    "WINDOW_SIZE = 100"
   ]
  },
  {
   "cell_type": "code",
   "execution_count": 10,
   "metadata": {
    "scrolled": false
   },
   "outputs": [],
   "source": [
    "columns = [\"none\", \"one_ball\", \"two_balls\", \"episode_length\", \"value_loss\", \"correct_answer\"]\n",
    "rolling_stats = []\n",
    "\n",
    "for seed, df in stats.groupby(\"seed\"):\n",
    "    rolling_df = pd.DataFrame(columns=columns)\n",
    "    for column in columns:\n",
    "        rolling_df[column] = df[column].rolling(window=WINDOW_SIZE).mean()\n",
    "    # rolling_df.control.plot()\n",
    "    \"\"\"plt.show()\n",
    "    rolling_df.value_loss.plot()\n",
    "    plt.show()\n",
    "    rolling_df.episode_length.plot()\n",
    "    plt.show()\"\"\"\n",
    "    rolling_stats.append(rolling_df)\n",
    "rolling_stats = pd.concat(rolling_stats)"
   ]
  },
  {
   "cell_type": "code",
   "execution_count": 11,
   "metadata": {},
   "outputs": [],
   "source": [
    "rolling_stats[\"Episode\"] = rolling_stats.index"
   ]
  },
  {
   "cell_type": "code",
   "execution_count": 12,
   "metadata": {},
   "outputs": [
    {
     "data": {
      "image/png": "[encoded data removed]",
      "text/plain": [
       "<Figure size 576x576 with 1 Axes>"
      ]
     },
     "metadata": {},
     "output_type": "display_data"
    }
   ],
   "source": [
    "ax = sns.lineplot(x=\"Episode\", y=\"value_loss\", markers=True, data=rolling_stats, linewidth=3, ci=\"sd\")\n",
    "ax.set_yscale(\"log\")\n",
    "plt.ylabel(\"Loss\")\n",
    "increase_linewidth(ax)\n",
    "plt.tight_layout()\n",
    "plt.savefig(data_directory+\"loss.pdf\")"
   ]
  },
  {
   "cell_type": "code",
   "execution_count": 13,
   "metadata": {},
   "outputs": [
    {
     "data": {
      "image/png": "[encoded data removed]",
      "text/plain": [
       "<Figure size 576x576 with 1 Axes>"
      ]
     },
     "metadata": {},
     "output_type": "display_data"
    }
   ],
   "source": [
    "rolling_stats[\"Episode\"] = rolling_stats.index\n",
    "ax = sns.lineplot(x=\"Episode\", y=\"none\", markers=True, data=rolling_stats, linewidth=3, ci=\"sd\", label=\"none\")\n",
    "ax = sns.lineplot(x=\"Episode\", y=\"one_ball\", markers=True, data=rolling_stats, linewidth=3, ci=\"sd\", label=\"one ball\")\n",
    "ax = sns.lineplot(x=\"Episode\", y=\"two_balls\", markers=True, data=rolling_stats, linewidth=3, ci=\"sd\", label=\"two balls\")\n",
    "\n",
    "increase_linewidth(ax)\n",
    "plt.ylabel(\"Episode %\")\n",
    "plt.tight_layout()\n",
    "plt.savefig(data_directory+\"control.pdf\")"
   ]
  },
  {
   "cell_type": "code",
   "execution_count": 14,
   "metadata": {},
   "outputs": [
    {
     "data": {
      "text/plain": [
       "(0.5, 0.16666666666666666)"
      ]
     },
     "execution_count": 14,
     "metadata": {},
     "output_type": "execute_result"
    }
   ],
   "source": [
    "stats.one_ball.mean(), stats.two_balls.mean()"
   ]
  },
  {
   "cell_type": "code",
   "execution_count": 15,
   "metadata": {},
   "outputs": [
    {
     "data": {
      "image/png": "[encoded data removed]",
      "text/plain": [
       "<Figure size 576x576 with 1 Axes>"
      ]
     },
     "metadata": {},
     "output_type": "display_data"
    }
   ],
   "source": [
    "ax = sns.lineplot(x=\"Episode\", y=\"correct_answer\", markers=True, data=rolling_stats, linewidth=3, ci=\"sd\")\n",
    "plt.ylabel(\"Correct %\")\n",
    "increase_linewidth(ax)\n",
    "plt.tight_layout()\n",
    "plt.savefig(data_directory+\"correct.pdf\")"
   ]
  },
  {
   "cell_type": "code",
   "execution_count": 16,
   "metadata": {},
   "outputs": [
    {
     "data": {
      "image/png": "[encoded data removed]",
      "text/plain": [
       "<Figure size 576x576 with 1 Axes>"
      ]
     },
     "metadata": {},
     "output_type": "display_data"
    }
   ],
   "source": [
    "ax = sns.lineplot(x=\"Episode\", y=\"episode_length\", markers=True, data=rolling_stats, linewidth=3, ci=\"sd\")\n",
    "plt.ylabel(\"Episode Length\")\n",
    "increase_linewidth(ax)\n",
    "plt.tight_layout()\n",
    "plt.savefig(data_directory+\"episode_length.pdf\")"
   ]
  },
  {
   "cell_type": "markdown",
   "metadata": {},
   "source": [
    "# Validation data"
   ]
  },
  {
   "cell_type": "markdown",
   "metadata": {},
   "source": [
    "stats = pd.read_hdf(data_directory+\"validation_data.h5\", \"validation_data\")"
   ]
  },
  {
   "cell_type": "markdown",
   "metadata": {},
   "source": [
    "stats"
   ]
  },
  {
   "cell_type": "markdown",
   "metadata": {},
   "source": [
    "stats.episode = stats.episode.astype(int)\n",
    "stats.seed = stats.seed.astype(int)"
   ]
  },
  {
   "cell_type": "markdown",
   "metadata": {},
   "source": [
    "# plt.xticks(ticks=np.arange(0, 35000, 5000), labels=np.arange(0, 35000, 5000))\n",
    "ax = sns.lineplot(x=\"episode\", y=\"avg_control\", data=stats, linewidth=3)\n",
    "plt.ylabel(\"Control %\")\n",
    "plt.xlabel(\"Episode\")\n",
    "increase_linewidth(ax)\n",
    "plt.savefig(data_directory+\"validation_control.pdf\")"
   ]
  },
  {
   "cell_type": "markdown",
   "metadata": {},
   "source": [
    "stats.sort_values(by=\"avg_control\", ascending=False).iloc[0]"
   ]
  },
  {
   "cell_type": "markdown",
   "metadata": {},
   "source": [
    "plt.xticks(ticks=np.arange(0, 35000, 5000), labels=np.arange(0, 35000, 5000))\n",
    "ax = sns.lineplot(x=\"episode\", y=\"avg_episode_length\", data=stats, linewidth=3)\n",
    "plt.ylabel(\"Avg Episode length\")\n",
    "plt.xlabel(\"Episode\")\n",
    "increase_linewidth(ax)\n",
    "plt.tight_layout()\n",
    "plt.savefig(data_directory+\"validation_ep_length.pdf\")"
   ]
  }
 ],
 "metadata": {
  "kernelspec": {
   "display_name": "Python 3",
   "language": "python",
   "name": "python3"
  },
  "language_info": {
   "codemirror_mode": {
    "name": "ipython",
    "version": 3
   },
   "file_extension": ".py",
   "mimetype": "text/x-python",
   "name": "python",
   "nbconvert_exporter": "python",
   "pygments_lexer": "ipython3",
   "version": "3.5.6"
  }
 },
 "nbformat": 4,
 "nbformat_minor": 2
}
