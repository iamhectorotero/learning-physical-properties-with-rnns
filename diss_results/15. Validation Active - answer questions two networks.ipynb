{
 "cells": [
  {
   "cell_type": "code",
   "execution_count": 1,
   "metadata": {},
   "outputs": [],
   "source": [
    "import numpy as np\n",
    "import pandas as pd\n",
    "from sklearn.model_selection import train_test_split\n",
    "import torch\n",
    "import torch.optim as optim\n",
    "import os\n",
    "import glob\n",
    "from tqdm import tqdm\n",
    "\n",
    "from toddler.action_coding import mass_answers, force_answers\n",
    "from toddler.models import ValueNetwork\n",
    "from toddler.RecurrentWorker import train\n",
    "from toddler.validate import validate\n",
    "\n",
    "from isaac.models import ComplexRNNModel as YokedModel\n",
    "\n",
    "from toddler.simulator.config import generate_every_world_configuration, generate_cond\n",
    "\n",
    "from generate_passive_simulations import get_configuration_answer"
   ]
  },
  {
   "cell_type": "code",
   "execution_count": 2,
   "metadata": {},
   "outputs": [],
   "source": [
    "model_directory = \"models/answer_questions_two_networks_v2/\"\n",
    "data_directory = \"answer_questions_two_networks_v2_plots/\"\n",
    "\n",
    "question_type = \"force\""
   ]
  },
  {
   "cell_type": "code",
   "execution_count": 3,
   "metadata": {},
   "outputs": [],
   "source": [
    "if torch.cuda.is_available():\n",
    "    device = \"cuda:0\"\n",
    "else:\n",
    "    device = \"cpu\""
   ]
  },
  {
   "cell_type": "code",
   "execution_count": 4,
   "metadata": {},
   "outputs": [
    {
     "data": {
      "text/plain": [
       "'cuda:0'"
      ]
     },
     "execution_count": 4,
     "metadata": {},
     "output_type": "execute_result"
    }
   ],
   "source": [
    "device"
   ]
  },
  {
   "cell_type": "code",
   "execution_count": 5,
   "metadata": {},
   "outputs": [
    {
     "name": "stderr",
     "output_type": "stream",
     "text": [
      "\r",
      "  0%|          | 0/2 [00:00<?, ?it/s]"
     ]
    },
    {
     "name": "stdout",
     "output_type": "stream",
     "text": [
      "N_WORLDS 10\n"
     ]
    },
    {
     "name": "stderr",
     "output_type": "stream",
     "text": [
      "/home/hector/Dissertation/diss/Dissertation Results/toddler/action_selection.py:54: RuntimeWarning: invalid value encountered in true_divide\n",
      "  policy = np.array(policy) / sum(policy)\n",
      "/home/hector/Dissertation/diss/Dissertation Results/toddler/action_selection.py:56: RuntimeWarning: invalid value encountered in less\n",
      "  selected_action = np.random.choice(possible_actions, p=policy)\n",
      " 50%|█████     | 1/2 [00:11<00:11, 11.71s/it]/home/hector/Dissertation/diss/Dissertation Results/toddler/action_selection.py:54: RuntimeWarning: invalid value encountered in true_divide\n",
      "  policy = np.array(policy) / sum(policy)\n",
      "/home/hector/Dissertation/diss/Dissertation Results/toddler/action_selection.py:56: RuntimeWarning: invalid value encountered in less\n",
      "  selected_action = np.random.choice(possible_actions, p=policy)\n",
      "100%|██████████| 2/2 [00:17<00:00,  9.91s/it]\n",
      "100%|██████████| 2/2 [00:19<00:00,  9.80s/it]\n",
      "100%|██████████| 2/2 [00:19<00:00,  9.87s/it]\n"
     ]
    }
   ],
   "source": [
    "discount_factor = 0.95\n",
    "\n",
    "every_conf = generate_every_world_configuration()\n",
    "every_world_answer = np.array(list(map(get_configuration_answer, every_conf)))\n",
    "n_configurations = len(every_conf)\n",
    "\n",
    "train_size = 0.7\n",
    "val_size = 0.15\n",
    "test_size = 0.15\n",
    "\n",
    "all_indices = np.arange(n_configurations)\n",
    "train_indices, not_train_indices = train_test_split(all_indices, train_size=train_size,\n",
    "                                                    random_state=0, stratify=every_world_answer)\n",
    "val_indices, test_indices = train_test_split(not_train_indices, train_size=0.5,                \n",
    "                                             random_state=0,\n",
    "                                             stratify=every_world_answer[not_train_indices])\n",
    "\n",
    "N_WORLDS = 10\n",
    "timeout = 1800\n",
    "print(\"N_WORLDS\", N_WORLDS)\n",
    "\n",
    "torch.manual_seed(0)\n",
    "np.random.seed(0)\n",
    "repeated_val_indices = np.random.choice(val_indices, N_WORLDS, replace=True)\n",
    "val_cond = generate_cond(every_conf[repeated_val_indices])\n",
    "\n",
    "experience_replay = ()\n",
    "agent_answers = ()\n",
    "\n",
    "n_bodies = 2\n",
    "action_repeat = 1\n",
    "starting_step = 0\n",
    "starting_episode = 0\n",
    "\n",
    "if question_type == \"mass\":\n",
    "    force_answers = {}\n",
    "else:\n",
    "    mass_answers = {}\n",
    "\n",
    "for cond in val_cond:\n",
    "    cond[\"timeout\"] = timeout\n",
    "    if question_type == \"mass\":\n",
    "        cond[\"lf\"] = [[0, 0], [0, 0]]\n",
    "    cond[\"svs\"] = [{'y': 0, 'x': 0} for _ in range(n_bodies)]\n",
    "\n",
    "\n",
    "validation_dfs = []\n",
    "for seed in [0, 42, 72]:\n",
    "    \n",
    "    this_seed_model_directory = model_directory + question_type + \"/\" + str(seed) + \"/\"\n",
    "    \n",
    "    for model in tqdm(glob.glob(this_seed_model_directory+\"*_model\")):\n",
    "        episode_number = model.split(\"/\")[-1].split(\"_\")[0]\n",
    "    \n",
    "        net_params = {\"input_dim\":17, \"hidden_dim\":25, \"n_layers\":4, \"output_dim\":7, \"dropout\":0.0}\n",
    "        value_network = ValueNetwork(**net_params).to(torch.device(device))\n",
    "        value_network.load_state_dict(torch.load(model))\n",
    "        \n",
    "        yoked_params = {\"input_dim\":11, \"hidden_dim\":25, \"n_layers\":4, \"output_dim\":3, \"dropout\":0.5}\n",
    "        yoked_network = YokedModel(**yoked_params).to(torch.device(device))\n",
    "        yoked_network.load_state_dict(torch.load(this_seed_model_directory+episode_number+\"_yokednet\"))\n",
    "\n",
    "        agent_cond = val_cond\n",
    "\n",
    "        valArgs = {\"value_network\": value_network, \"val_cond\": agent_cond, \n",
    "                   \"timeout\": timeout, \"n_bodies\": n_bodies, \"yoked_network\": yoked_network,\n",
    "                   \"action_repeat\": action_repeat, \"print_stats\":False,\n",
    "                   \"device\": device, \"reward_control\": False, \"done_with_control\": False, \n",
    "                    \"reward_not_controlling_negatively\": False, \"reward_not_answering_negatively\": True, \n",
    "                    \"possible_actions\": np.arange(0, 7), \"mouse_exploration_frames\": 600, \n",
    "                    \"mass_answers\": mass_answers, \"force_answers\": force_answers, \"return_replays\": True,\n",
    "                    \"force_answer_at_t\": (timeout - 1)}\n",
    "        \n",
    "        validation_data, replays = validate(**valArgs)\n",
    "        \n",
    "        \n",
    "        for i, replay in enumerate(replays):\n",
    "            replay.to_hdf(this_seed_model_directory+episode_number+\"_replays.h5\", key=\"replay_\"+str(i))\n",
    "        \n",
    "        validation_data = {stat+\"_\"+attr: [f(validation_data[attr])] for attr in [\"control\", \"episode_length\", \"answers\"] \n",
    "                           for stat, f in zip([\"avg\", \"std\"], [np.mean, np.std])}\n",
    "        \n",
    "        df = pd.DataFrame.from_dict(validation_data)\n",
    "        df[\"seed\"] = seed\n",
    "        df[\"episode\"] = episode_number\n",
    "        validation_dfs.append(df)"
   ]
  },
  {
   "cell_type": "code",
   "execution_count": 6,
   "metadata": {},
   "outputs": [],
   "source": [
    "validation_dfs = pd.concat(validation_dfs)\n",
    "validation_dfs.to_hdf(data_directory+\"validation_data.h5\", key=\"validation_data\")"
   ]
  },
  {
   "cell_type": "code",
   "execution_count": 7,
   "metadata": {},
   "outputs": [
    {
     "data": {
      "text/html": [
       "<div>\n",
       "<style scoped>\n",
       "    .dataframe tbody tr th:only-of-type {\n",
       "        vertical-align: middle;\n",
       "    }\n",
       "\n",
       "    .dataframe tbody tr th {\n",
       "        vertical-align: top;\n",
       "    }\n",
       "\n",
       "    .dataframe thead th {\n",
       "        text-align: right;\n",
       "    }\n",
       "</style>\n",
       "<table border=\"1\" class=\"dataframe\">\n",
       "  <thead>\n",
       "    <tr style=\"text-align: right;\">\n",
       "      <th></th>\n",
       "      <th>avg_answers</th>\n",
       "      <th>avg_control</th>\n",
       "      <th>avg_episode_length</th>\n",
       "      <th>std_answers</th>\n",
       "      <th>std_control</th>\n",
       "      <th>std_episode_length</th>\n",
       "      <th>seed</th>\n",
       "      <th>episode</th>\n",
       "    </tr>\n",
       "  </thead>\n",
       "  <tbody>\n",
       "    <tr>\n",
       "      <th>0</th>\n",
       "      <td>0.2</td>\n",
       "      <td>0.1</td>\n",
       "      <td>1799.0</td>\n",
       "      <td>0.400000</td>\n",
       "      <td>0.3</td>\n",
       "      <td>0.000000</td>\n",
       "      <td>0</td>\n",
       "      <td>99</td>\n",
       "    </tr>\n",
       "    <tr>\n",
       "      <th>0</th>\n",
       "      <td>0.5</td>\n",
       "      <td>0.0</td>\n",
       "      <td>1080.2</td>\n",
       "      <td>0.500000</td>\n",
       "      <td>0.0</td>\n",
       "      <td>586.897742</td>\n",
       "      <td>0</td>\n",
       "      <td>0</td>\n",
       "    </tr>\n",
       "    <tr>\n",
       "      <th>0</th>\n",
       "      <td>0.2</td>\n",
       "      <td>0.0</td>\n",
       "      <td>1799.0</td>\n",
       "      <td>0.400000</td>\n",
       "      <td>0.0</td>\n",
       "      <td>0.000000</td>\n",
       "      <td>42</td>\n",
       "      <td>99</td>\n",
       "    </tr>\n",
       "    <tr>\n",
       "      <th>0</th>\n",
       "      <td>0.1</td>\n",
       "      <td>0.0</td>\n",
       "      <td>1799.0</td>\n",
       "      <td>0.300000</td>\n",
       "      <td>0.0</td>\n",
       "      <td>0.000000</td>\n",
       "      <td>42</td>\n",
       "      <td>0</td>\n",
       "    </tr>\n",
       "    <tr>\n",
       "      <th>0</th>\n",
       "      <td>0.4</td>\n",
       "      <td>0.0</td>\n",
       "      <td>1799.0</td>\n",
       "      <td>0.489898</td>\n",
       "      <td>0.0</td>\n",
       "      <td>0.000000</td>\n",
       "      <td>72</td>\n",
       "      <td>99</td>\n",
       "    </tr>\n",
       "    <tr>\n",
       "      <th>0</th>\n",
       "      <td>0.1</td>\n",
       "      <td>0.0</td>\n",
       "      <td>1799.0</td>\n",
       "      <td>0.300000</td>\n",
       "      <td>0.0</td>\n",
       "      <td>0.000000</td>\n",
       "      <td>72</td>\n",
       "      <td>0</td>\n",
       "    </tr>\n",
       "  </tbody>\n",
       "</table>\n",
       "</div>"
      ],
      "text/plain": [
       "   avg_answers  avg_control  avg_episode_length  std_answers  std_control  \\\n",
       "0          0.2          0.1              1799.0     0.400000          0.3   \n",
       "0          0.5          0.0              1080.2     0.500000          0.0   \n",
       "0          0.2          0.0              1799.0     0.400000          0.0   \n",
       "0          0.1          0.0              1799.0     0.300000          0.0   \n",
       "0          0.4          0.0              1799.0     0.489898          0.0   \n",
       "0          0.1          0.0              1799.0     0.300000          0.0   \n",
       "\n",
       "   std_episode_length  seed episode  \n",
       "0            0.000000     0      99  \n",
       "0          586.897742     0       0  \n",
       "0            0.000000    42      99  \n",
       "0            0.000000    42       0  \n",
       "0            0.000000    72      99  \n",
       "0            0.000000    72       0  "
      ]
     },
     "execution_count": 7,
     "metadata": {},
     "output_type": "execute_result"
    }
   ],
   "source": [
    "validation_dfs"
   ]
  }
 ],
 "metadata": {
  "kernelspec": {
   "display_name": "Python 3",
   "language": "python",
   "name": "python3"
  },
  "language_info": {
   "codemirror_mode": {
    "name": "ipython",
    "version": 3
   },
   "file_extension": ".py",
   "mimetype": "text/x-python",
   "name": "python",
   "nbconvert_exporter": "python",
   "pygments_lexer": "ipython3",
   "version": "3.5.6"
  }
 },
 "nbformat": 4,
 "nbformat_minor": 2
}
