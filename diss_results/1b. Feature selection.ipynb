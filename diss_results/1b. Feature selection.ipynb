{
 "cells": [
  {
   "cell_type": "code",
   "execution_count": 1,
   "metadata": {},
   "outputs": [],
   "source": [
    "import torch\n",
    "import torch.nn as nn\n",
    "torch.cuda.is_available()\n",
    "import pandas as pd\n",
    "import matplotlib2tikz"
   ]
  },
  {
   "cell_type": "code",
   "execution_count": 2,
   "metadata": {},
   "outputs": [],
   "source": [
    "from isaac.dataset import read_dataset, prepare_dataset\n",
    "from isaac.constants import POSITION_COLS, MASS_CLASS_COLS, BASIC_TRAINING_COLS, FORCE_CLASS_COLS, PUCK_SQUARE_DISTANCES, PUCK_ANGLE_FEATURES\n",
    "from isaac.sanity import class_proportions\n",
    "from isaac.models import initialise_model\n",
    "from isaac.training import training_loop\n",
    "import matplotlib.pyplot as plt\n",
    "import numpy as np\n",
    "import matplotlib2tikz"
   ]
  },
  {
   "cell_type": "code",
   "execution_count": 3,
   "metadata": {},
   "outputs": [],
   "source": [
    "NORMALISE_DATA = True\n",
    "BATCH_SIZE = 128\n",
    "EPOCHS = 25\n",
    "STEP_SIZE = 1\n",
    "SEQ_END = 1800"
   ]
  },
  {
   "cell_type": "code",
   "execution_count": 4,
   "metadata": {},
   "outputs": [],
   "source": [
    "ALL_COLS = BASIC_TRAINING_COLS + PUCK_SQUARE_DISTANCES + PUCK_ANGLE_FEATURES"
   ]
  },
  {
   "cell_type": "code",
   "execution_count": 5,
   "metadata": {},
   "outputs": [
    {
     "name": "stderr",
     "output_type": "stream",
     "text": [
      "100%|██████████| 3500/3500 [00:35<00:00, 98.42it/s] \n",
      "100%|██████████| 500/500 [00:05<00:00, 98.22it/s] \n"
     ]
    }
   ],
   "source": [
    "train_trials = read_dataset(\"data/train_passive_trials.h5\", n_trials=3500, cols=ALL_COLS)\n",
    "val_trials = read_dataset(\"data/val_passive_trials.h5\", n_trials=500, cols=ALL_COLS)"
   ]
  },
  {
   "cell_type": "markdown",
   "metadata": {},
   "source": [
    "# MASS TRAINING"
   ]
  },
  {
   "cell_type": "code",
   "execution_count": 7,
   "metadata": {},
   "outputs": [],
   "source": [
    "INPUT_DIM = None    # input dimension\n",
    "HIDDEN_DIM = 25  # hidden layer dimension\n",
    "N_LAYERS = 4     # number of hidden layers\n",
    "OUTPUT_DIM = 3   # output dimension\n",
    "DROPOUT = 0.5"
   ]
  },
  {
   "cell_type": "code",
   "execution_count": 8,
   "metadata": {},
   "outputs": [
    {
     "name": "stderr",
     "output_type": "stream",
     "text": [
      "100%|██████████| 3500/3500 [00:03<00:00, 1013.18it/s]\n",
      "100%|██████████| 500/500 [00:00<00:00, 929.83it/s] \n",
      "Train_loss (0.80)\t Train_acc (67.17)\t Val_acc (35.40): 100%|██████████| 25/25 [08:32<00:00, 20.66s/it]\n",
      "Train_loss (0.85)\t Train_acc (64.00)\t Val_acc (39.20): 100%|██████████| 25/25 [08:31<00:00, 20.52s/it]\n",
      "Train_loss (0.92)\t Train_acc (55.83)\t Val_acc (39.60): 100%|██████████| 25/25 [08:34<00:00, 20.60s/it]\n",
      "100%|██████████| 3500/3500 [00:03<00:00, 1026.82it/s]\n",
      "100%|██████████| 500/500 [00:00<00:00, 1092.63it/s]\n",
      "Train_loss (1.04)\t Train_acc (45.34)\t Val_acc (40.00): 100%|██████████| 25/25 [08:34<00:00, 20.76s/it]\n",
      "Train_loss (0.83)\t Train_acc (63.89)\t Val_acc (49.40): 100%|██████████| 25/25 [08:42<00:00, 20.99s/it]\n",
      "Train_loss (0.72)\t Train_acc (67.09)\t Val_acc (54.40): 100%|██████████| 25/25 [08:48<00:00, 21.15s/it]\n",
      "100%|██████████| 3500/3500 [00:03<00:00, 914.47it/s]\n",
      "100%|██████████| 500/500 [00:00<00:00, 941.07it/s]\n",
      "Train_loss (1.08)\t Train_acc (40.29)\t Val_acc (40.40): 100%|██████████| 25/25 [08:42<00:00, 20.84s/it]\n",
      "Train_loss (0.94)\t Train_acc (56.94)\t Val_acc (36.80): 100%|██████████| 25/25 [08:45<00:00, 21.00s/it]\n",
      "Train_loss (0.86)\t Train_acc (61.66)\t Val_acc (40.80): 100%|██████████| 25/25 [08:46<00:00, 20.99s/it]\n",
      "100%|██████████| 3500/3500 [00:03<00:00, 1090.81it/s]\n",
      "100%|██████████| 500/500 [00:00<00:00, 1109.16it/s]\n",
      "Train_loss (0.81)\t Train_acc (63.91)\t Val_acc (56.80): 100%|██████████| 25/25 [08:42<00:00, 20.90s/it]\n",
      "Train_loss (0.83)\t Train_acc (63.29)\t Val_acc (54.40): 100%|██████████| 25/25 [08:44<00:00, 20.96s/it]\n",
      "Train_loss (0.67)\t Train_acc (69.74)\t Val_acc (57.00): 100%|██████████| 25/25 [08:45<00:00, 21.03s/it]\n"
     ]
    }
   ],
   "source": [
    "labels = [\"distances+angles\", \"distances\", \"angles\", \"baseline\"]\n",
    "stats_dfs = []\n",
    "\n",
    "for tr_features, label in zip([ALL_COLS, BASIC_TRAINING_COLS+PUCK_SQUARE_DISTANCES, \n",
    "                               BASIC_TRAINING_COLS+PUCK_ANGLE_FEATURES, BASIC_TRAINING_COLS], labels):\n",
    "    \n",
    "    loaders, scaler = prepare_dataset([train_trials, val_trials], class_columns=MASS_CLASS_COLS, \n",
    "                                      training_columns=tr_features, batch_size=BATCH_SIZE, \n",
    "                                      normalise_data=NORMALISE_DATA)\n",
    "        \n",
    "    network_params = (len(tr_features), HIDDEN_DIM, N_LAYERS, OUTPUT_DIM, DROPOUT)\n",
    "\n",
    "    for seed in [0, 42, 72]:\n",
    "        df = pd.DataFrame(columns=[\"features\", \"Epoch\", \"Loss\"])\n",
    "\n",
    "\n",
    "        model, error, optimizer = initialise_model(network_params, lr=0.01, seed=seed)\n",
    "        epoch_losses, epoch_accuracies, best_model = training_loop(model, optimizer, error, loaders[0], \n",
    "                                                                   loaders[1], EPOCHS, seq_end=SEQ_END,\n",
    "                                                                   step_size=STEP_SIZE)\n",
    "                \n",
    "        df[\"Epoch\"] = np.arange(EPOCHS)\n",
    "        df[\"Loss\"] = epoch_losses\n",
    "        df[\"Train Accuracy\"] = epoch_accuracies[0]\n",
    "        df[\"Val Accuracy\"] = epoch_accuracies[1]\n",
    "        df[\"features\"] = label\n",
    "        stats_dfs.append(df)\n",
    "        \n",
    "stats = pd.concat(stats_dfs)\n",
    "# stats.to_hdf(\"features_plots/mass_stats.h5\", key=\"stats\")"
   ]
  },
  {
   "cell_type": "markdown",
   "metadata": {},
   "source": [
    "# FORCE TRAINING"
   ]
  },
  {
   "cell_type": "code",
   "execution_count": 6,
   "metadata": {},
   "outputs": [],
   "source": [
    "INPUT_DIM = None    # input dimension\n",
    "HIDDEN_DIM = 25  # hidden layer dimension\n",
    "N_LAYERS = 4     # number of hidden layers\n",
    "OUTPUT_DIM = 3   # output dimension\n",
    "DROPOUT = 0.5"
   ]
  },
  {
   "cell_type": "code",
   "execution_count": 7,
   "metadata": {},
   "outputs": [
    {
     "name": "stderr",
     "output_type": "stream",
     "text": [
      "100%|██████████| 3500/3500 [00:03<00:00, 1029.12it/s]\n",
      "100%|██████████| 500/500 [00:00<00:00, 945.51it/s] \n",
      "Train_loss (0.59)\t Train_acc (75.26)\t Val_acc (53.20): 100%|██████████| 25/25 [08:51<00:00, 21.32s/it]\n",
      "Train_loss (0.58)\t Train_acc (74.60)\t Val_acc (52.40): 100%|██████████| 25/25 [08:59<00:00, 21.70s/it]\n",
      "Train_loss (0.58)\t Train_acc (75.77)\t Val_acc (52.60): 100%|██████████| 25/25 [08:58<00:00, 21.47s/it]\n",
      "100%|██████████| 3500/3500 [00:03<00:00, 1039.20it/s]\n",
      "100%|██████████| 500/500 [00:00<00:00, 1064.65it/s]\n",
      "Train_loss (0.61)\t Train_acc (72.51)\t Val_acc (53.60): 100%|██████████| 25/25 [08:59<00:00, 21.65s/it]\n",
      "Train_loss (0.62)\t Train_acc (71.63)\t Val_acc (53.80): 100%|██████████| 25/25 [09:01<00:00, 21.79s/it]\n",
      "Train_loss (0.58)\t Train_acc (70.00)\t Val_acc (53.80): 100%|██████████| 25/25 [09:03<00:00, 21.66s/it]\n",
      "100%|██████████| 3500/3500 [00:03<00:00, 923.85it/s]\n",
      "100%|██████████| 500/500 [00:00<00:00, 902.05it/s]\n",
      "Train_loss (0.58)\t Train_acc (73.71)\t Val_acc (50.20): 100%|██████████| 25/25 [09:05<00:00, 21.84s/it]\n",
      "Train_loss (0.63)\t Train_acc (67.40)\t Val_acc (50.40): 100%|██████████| 25/25 [09:05<00:00, 21.80s/it]\n",
      "Train_loss (0.63)\t Train_acc (71.17)\t Val_acc (53.00): 100%|██████████| 25/25 [09:06<00:00, 21.89s/it]\n",
      "100%|██████████| 3500/3500 [00:03<00:00, 946.19it/s]\n",
      "100%|██████████| 500/500 [00:00<00:00, 975.91it/s]\n",
      "Train_loss (0.65)\t Train_acc (67.83)\t Val_acc (51.40): 100%|██████████| 25/25 [09:00<00:00, 21.58s/it]\n",
      "Train_loss (0.62)\t Train_acc (73.66)\t Val_acc (54.20): 100%|██████████| 25/25 [09:05<00:00, 21.93s/it]\n",
      "Train_loss (0.54)\t Train_acc (59.17)\t Val_acc (52.60): 100%|██████████| 25/25 [09:05<00:00, 21.73s/it]\n"
     ]
    }
   ],
   "source": [
    "labels = [\"distances+angles\", \"distances\", \"angles\", \"baseline\"]\n",
    "stats_dfs = []\n",
    "\n",
    "for tr_features, label in zip([ALL_COLS, BASIC_TRAINING_COLS+PUCK_SQUARE_DISTANCES, \n",
    "                               BASIC_TRAINING_COLS+PUCK_ANGLE_FEATURES, BASIC_TRAINING_COLS], labels):\n",
    "    \n",
    "    loaders, scaler = prepare_dataset([train_trials, val_trials], class_columns=FORCE_CLASS_COLS, \n",
    "                                      training_columns=tr_features, batch_size=BATCH_SIZE, \n",
    "                                      normalise_data=NORMALISE_DATA)\n",
    "        \n",
    "    network_params = (len(tr_features), HIDDEN_DIM, N_LAYERS, OUTPUT_DIM, DROPOUT)\n",
    "\n",
    "    for seed in [0, 42, 72]:\n",
    "        df = pd.DataFrame(columns=[\"features\", \"Epoch\", \"Loss\"])\n",
    "\n",
    "\n",
    "        model, error, optimizer = initialise_model(network_params, lr=0.01, seed=seed)\n",
    "        epoch_losses, epoch_accuracies, best_model = training_loop(model, optimizer, error, loaders[0], \n",
    "                                                                   loaders[1], EPOCHS, seq_end=SEQ_END,\n",
    "                                                                   step_size=STEP_SIZE)\n",
    "                \n",
    "        df[\"Epoch\"] = np.arange(EPOCHS)\n",
    "        df[\"Loss\"] = epoch_losses\n",
    "        df[\"Train Accuracy\"] = epoch_accuracies[0]\n",
    "        df[\"Val Accuracy\"] = epoch_accuracies[1]\n",
    "        df[\"features\"] = label\n",
    "        stats_dfs.append(df)\n",
    "        \n",
    "stats = pd.concat(stats_dfs)\n",
    "stats.to_hdf(\"features_plots/force_stats.h5\", key=\"stats\")"
   ]
  }
 ],
 "metadata": {
  "kernelspec": {
   "display_name": "Python 3",
   "language": "python",
   "name": "python3"
  },
  "language_info": {
   "codemirror_mode": {
    "name": "ipython",
    "version": 3
   },
   "file_extension": ".py",
   "mimetype": "text/x-python",
   "name": "python",
   "nbconvert_exporter": "python",
   "pygments_lexer": "ipython3",
   "version": "3.5.6"
  }
 },
 "nbformat": 4,
 "nbformat_minor": 2
}
