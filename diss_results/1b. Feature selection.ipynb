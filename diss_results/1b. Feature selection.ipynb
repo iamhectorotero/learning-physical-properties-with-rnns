{
 "cells": [
  {
   "cell_type": "code",
   "execution_count": 2,
   "metadata": {},
   "outputs": [],
   "source": [
    "import torch\n",
    "import torch.nn as nn\n",
    "import pandas as pd"
   ]
  },
  {
   "cell_type": "code",
   "execution_count": 3,
   "metadata": {},
   "outputs": [],
   "source": [
    "from isaac.dataset import read_dataset, prepare_dataset\n",
    "from isaac.constants import POSITION_COLS, MASS_CLASS_COLS, BASIC_TRAINING_COLS, FORCE_CLASS_COLS, PUCK_SQUARE_DISTANCES, PUCK_ANGLE_FEATURES\n",
    "from isaac.sanity import class_proportions\n",
    "from isaac.models import initialise_model\n",
    "from isaac.training import training_loop\n",
    "import matplotlib.pyplot as plt\n",
    "import numpy as np"
   ]
  },
  {
   "cell_type": "code",
   "execution_count": null,
   "metadata": {},
   "outputs": [],
   "source": [
    "data_directory = \"features_plots/\""
   ]
  },
  {
   "cell_type": "code",
   "execution_count": 4,
   "metadata": {},
   "outputs": [
    {
     "name": "stdout",
     "output_type": "stream",
     "text": [
      "cuda:0\n"
     ]
    }
   ],
   "source": [
    "from isaac.utils import get_cuda_device_if_available, create_directory\n",
    "device = get_cuda_device_if_available()\n",
    "print(device)\n",
    "\n",
    "create_directory(data_directory)"
   ]
  },
  {
   "cell_type": "code",
   "execution_count": 5,
   "metadata": {},
   "outputs": [],
   "source": [
    "NORMALISE_DATA = True\n",
    "BATCH_SIZE = 128\n",
    "EPOCHS = 25\n",
    "STEP_SIZE = 1\n",
    "SEQ_END = 1800"
   ]
  },
  {
   "cell_type": "code",
   "execution_count": 6,
   "metadata": {},
   "outputs": [],
   "source": [
    "ALL_COLS = BASIC_TRAINING_COLS + PUCK_SQUARE_DISTANCES + PUCK_ANGLE_FEATURES"
   ]
  },
  {
   "cell_type": "code",
   "execution_count": 7,
   "metadata": {},
   "outputs": [
    {
     "name": "stderr",
     "output_type": "stream",
     "text": [
      "100%|██████████| 10/10 [00:00<00:00, 119.42it/s]\n",
      "100%|██████████| 10/10 [00:00<00:00, 126.13it/s]\n"
     ]
    }
   ],
   "source": [
    "train_trials = read_dataset(\"data/train_passive_trials.h5\", n_trials=3500, cols=ALL_COLS)\n",
    "val_trials = read_dataset(\"data/val_passive_trials.h5\", n_trials=500, cols=ALL_COLS)"
   ]
  },
  {
   "cell_type": "markdown",
   "metadata": {},
   "source": [
    "# MASS TRAINING"
   ]
  },
  {
   "cell_type": "code",
   "execution_count": 8,
   "metadata": {},
   "outputs": [],
   "source": [
    "INPUT_DIM = None    # input dimension\n",
    "HIDDEN_DIM = 25  # hidden layer dimension\n",
    "N_LAYERS = 4     # number of hidden layers\n",
    "OUTPUT_DIM = 3   # output dimension\n",
    "DROPOUT = 0.5"
   ]
  },
  {
   "cell_type": "code",
   "execution_count": 9,
   "metadata": {},
   "outputs": [
    {
     "name": "stderr",
     "output_type": "stream",
     "text": [
      "100%|██████████| 10/10 [00:00<00:00, 959.82it/s]\n",
      "100%|██████████| 10/10 [00:00<00:00, 845.06it/s]\n",
      "Train_loss (1.07)\t Train_acc (60.00)\t Val_acc (40.00): 100%|██████████| 2/2 [00:01<00:00,  1.41it/s] \n",
      "Train_loss (1.06)\t Train_acc (50.00)\t Val_acc (30.00): 100%|██████████| 2/2 [00:01<00:00,  1.57it/s] \n",
      "Train_loss (1.05)\t Train_acc (60.00)\t Val_acc (40.00): 100%|██████████| 2/2 [00:01<00:00,  1.49it/s] \n",
      "100%|██████████| 10/10 [00:00<00:00, 969.22it/s]\n",
      "100%|██████████| 10/10 [00:00<00:00, 944.79it/s]\n",
      "Train_loss (1.07)\t Train_acc (60.00)\t Val_acc (30.00): 100%|██████████| 2/2 [00:01<00:00,  1.51it/s] \n",
      "Train_loss (1.16)\t Train_acc (40.00)\t Val_acc (40.00): 100%|██████████| 2/2 [00:01<00:00,  1.57it/s] \n",
      "Train_loss (1.07)\t Train_acc (80.00)\t Val_acc (20.00): 100%|██████████| 2/2 [00:01<00:00,  1.57it/s] \n",
      "100%|██████████| 10/10 [00:00<00:00, 853.07it/s]\n",
      "100%|██████████| 10/10 [00:00<00:00, 908.96it/s]\n",
      "Train_loss (1.13)\t Train_acc (40.00)\t Val_acc (40.00): 100%|██████████| 2/2 [00:01<00:00,  1.58it/s] \n",
      "Train_loss (1.07)\t Train_acc (80.00)\t Val_acc (20.00): 100%|██████████| 2/2 [00:01<00:00,  1.54it/s] \n",
      "Train_loss (1.09)\t Train_acc (50.00)\t Val_acc (30.00): 100%|██████████| 2/2 [00:01<00:00,  1.53it/s] \n",
      "100%|██████████| 10/10 [00:00<00:00, 1034.71it/s]\n",
      "100%|██████████| 10/10 [00:00<00:00, 1066.93it/s]\n",
      "Train_loss (1.09)\t Train_acc (80.00)\t Val_acc (40.00): 100%|██████████| 2/2 [00:01<00:00,  1.47it/s] \n",
      "Train_loss (1.15)\t Train_acc (70.00)\t Val_acc (30.00): 100%|██████████| 2/2 [00:01<00:00,  1.51it/s] \n",
      "Train_loss (1.17)\t Train_acc (60.00)\t Val_acc (40.00): 100%|██████████| 2/2 [00:01<00:00,  1.56it/s] \n"
     ]
    }
   ],
   "source": [
    "labels = [\"distances+angles\", \"distances\", \"angles\", \"baseline\"]\n",
    "stats_dfs = []\n",
    "\n",
    "for tr_features, label in zip([ALL_COLS, BASIC_TRAINING_COLS+PUCK_SQUARE_DISTANCES, \n",
    "                               BASIC_TRAINING_COLS+PUCK_ANGLE_FEATURES, BASIC_TRAINING_COLS], labels):\n",
    "    \n",
    "    loaders, scaler = prepare_dataset([train_trials, val_trials], class_columns=MASS_CLASS_COLS, \n",
    "                                      training_columns=tr_features, batch_size=BATCH_SIZE, \n",
    "                                      normalise_data=NORMALISE_DATA, device=device)\n",
    "        \n",
    "    network_params = (len(tr_features), HIDDEN_DIM, N_LAYERS, OUTPUT_DIM, DROPOUT)\n",
    "\n",
    "    for seed in [0, 42, 72]:\n",
    "        df = pd.DataFrame(columns=[\"features\", \"Epoch\", \"Loss\"])\n",
    "\n",
    "\n",
    "        model, error, optimizer = initialise_model(network_params, lr=0.01, seed=seed, device=device)\n",
    "        epoch_losses, epoch_accuracies, best_model = training_loop(model, optimizer, error, loaders[0], \n",
    "                                                                   loaders[1], EPOCHS, seq_end=SEQ_END,\n",
    "                                                                   step_size=STEP_SIZE)\n",
    "                \n",
    "        df[\"Epoch\"] = np.arange(EPOCHS)\n",
    "        df[\"Loss\"] = epoch_losses\n",
    "        df[\"Train Accuracy\"] = epoch_accuracies[0]\n",
    "        df[\"Val Accuracy\"] = epoch_accuracies[1]\n",
    "        df[\"features\"] = label\n",
    "        stats_dfs.append(df)\n",
    "        \n",
    "stats = pd.concat(stats_dfs)\n",
    "# stats.to_hdf(data_directory+\"mass_stats.h5\", key=\"stats\")"
   ]
  },
  {
   "cell_type": "markdown",
   "metadata": {},
   "source": [
    "# FORCE TRAINING"
   ]
  },
  {
   "cell_type": "code",
   "execution_count": 10,
   "metadata": {},
   "outputs": [],
   "source": [
    "INPUT_DIM = None    # input dimension\n",
    "HIDDEN_DIM = 25  # hidden layer dimension\n",
    "N_LAYERS = 4     # number of hidden layers\n",
    "OUTPUT_DIM = 3   # output dimension\n",
    "DROPOUT = 0.5"
   ]
  },
  {
   "cell_type": "code",
   "execution_count": null,
   "metadata": {},
   "outputs": [
    {
     "name": "stderr",
     "output_type": "stream",
     "text": [
      "100%|██████████| 10/10 [00:00<00:00, 969.71it/s]\n",
      "100%|██████████| 10/10 [00:00<00:00, 1022.35it/s]\n",
      "Train_loss (1.10)\t Train_acc (60.00)\t Val_acc (30.00): 100%|██████████| 2/2 [00:01<00:00,  1.54it/s] \n",
      "Train_loss (1.11)\t Train_acc (70.00)\t Val_acc (40.00): 100%|██████████| 2/2 [00:01<00:00,  1.54it/s] \n",
      "Train_loss (1.10)\t Train_acc (40.00)\t Val_acc (30.00): 100%|██████████| 2/2 [00:01<00:00,  1.52it/s] \n",
      "100%|██████████| 10/10 [00:00<00:00, 1004.26it/s]\n",
      "100%|██████████| 10/10 [00:00<00:00, 1061.80it/s]\n",
      "Train_loss (-1.00)\t Train_acc (30.00)\t Val_acc (40.00):   0%|          | 0/2 [00:00<?, ?it/s]"
     ]
    }
   ],
   "source": [
    "labels = [\"distances+angles\", \"distances\", \"angles\", \"baseline\"]\n",
    "stats_dfs = []\n",
    "\n",
    "for tr_features, label in zip([ALL_COLS, BASIC_TRAINING_COLS+PUCK_SQUARE_DISTANCES, \n",
    "                               BASIC_TRAINING_COLS+PUCK_ANGLE_FEATURES, BASIC_TRAINING_COLS], labels):\n",
    "    \n",
    "    loaders, scaler = prepare_dataset([train_trials, val_trials], class_columns=FORCE_CLASS_COLS, \n",
    "                                      training_columns=tr_features, batch_size=BATCH_SIZE, \n",
    "                                      normalise_data=NORMALISE_DATA, device=device)\n",
    "        \n",
    "    network_params = (len(tr_features), HIDDEN_DIM, N_LAYERS, OUTPUT_DIM, DROPOUT)\n",
    "\n",
    "    for seed in [0, 42, 72]:\n",
    "        df = pd.DataFrame(columns=[\"features\", \"Epoch\", \"Loss\"])\n",
    "\n",
    "\n",
    "        model, error, optimizer = initialise_model(network_params, lr=0.01, seed=seed, device=device)\n",
    "        epoch_losses, epoch_accuracies, best_model = training_loop(model, optimizer, error, loaders[0], \n",
    "                                                                   loaders[1], EPOCHS, seq_end=SEQ_END,\n",
    "                                                                   step_size=STEP_SIZE)\n",
    "                \n",
    "        df[\"Epoch\"] = np.arange(EPOCHS)\n",
    "        df[\"Loss\"] = epoch_losses\n",
    "        df[\"Train Accuracy\"] = epoch_accuracies[0]\n",
    "        df[\"Val Accuracy\"] = epoch_accuracies[1]\n",
    "        df[\"features\"] = label\n",
    "        stats_dfs.append(df)\n",
    "        \n",
    "stats = pd.concat(stats_dfs)\n",
    "# stats.to_hdf(data_directory+\"force_stats.h5\", key=\"stats\")"
   ]
  }
 ],
 "metadata": {
  "kernelspec": {
   "display_name": "Python 3",
   "language": "python",
   "name": "python3"
  },
  "language_info": {
   "codemirror_mode": {
    "name": "ipython",
    "version": 3
   },
   "file_extension": ".py",
   "mimetype": "text/x-python",
   "name": "python",
   "nbconvert_exporter": "python",
   "pygments_lexer": "ipython3",
   "version": "3.5.6"
  }
 },
 "nbformat": 4,
 "nbformat_minor": 2
}
