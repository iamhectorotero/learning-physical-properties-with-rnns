{
 "cells": [
  {
   "cell_type": "code",
   "execution_count": 28,
   "metadata": {},
   "outputs": [],
   "source": [
    "import seaborn as sns\n",
    "from tqdm import tqdm\n",
    "import pandas as pd\n",
    "from rpy2.robjects import r, pandas2ri\n",
    "import numpy as np\n",
    "import matplotlib.pyplot as plt\n",
    "from tqdm import tqdm\n",
    "import os"
   ]
  },
  {
   "cell_type": "code",
   "execution_count": 29,
   "metadata": {},
   "outputs": [],
   "source": [
    "pandas2ri.activate()"
   ]
  },
  {
   "cell_type": "code",
   "execution_count": 30,
   "metadata": {},
   "outputs": [],
   "source": [
    "from isaac.constants import BASIC_TRAINING_COLS, YOKED_TRAINING_COLS"
   ]
  },
  {
   "cell_type": "code",
   "execution_count": 31,
   "metadata": {},
   "outputs": [],
   "source": [
    "def are_all_coordinates_within_bounds(trial):\n",
    "    \n",
    "    for coord in [\"o1.x\", \"o2.x\", \"o3.x\", \"o4.x\", \"o1.y\", \"o2.y\", \"o3.y\", \"o4.y\"]:\n",
    "        if (trial[coord] < 0).any().any():\n",
    "            return False\n",
    "        \n",
    "    for x_coord in [\"o1.x\", \"o2.x\", \"o3.x\", \"o4.x\"]:\n",
    "        if (trial[x_coord] > 6).any().any():\n",
    "            return False \n",
    "        \n",
    "    for y_coord in [\"o1.y\", \"o2.y\", \"o3.y\", \"o4.y\"]:\n",
    "        if (trial[y_coord] > 4).any().any():\n",
    "            return False\n",
    "    \n",
    "    return True\n",
    "\n",
    "def add_velocity_from_positions(trial):\n",
    "    POSITION_COLS = [\"object\"+str(obj)+\".\"+attr for obj in range(1, 5) for attr in [\"x\", \"y\"]]\n",
    "    VELOCITY_COLS = [\"object\"+str(obj)+\".\"+attr for obj in range(1, 5) for attr in [\"vx\", \"vy\"]]\n",
    "    S_PER_FRAME = 1./60\n",
    "\n",
    "    positions = trial[POSITION_COLS]\n",
    "    shifted_positions = positions.shift(1).fillna(positions.iloc[0])\n",
    "    trial[VELOCITY_COLS] = (shifted_positions - positions) / S_PER_FRAME"
   ]
  },
  {
   "cell_type": "markdown",
   "metadata": {},
   "source": [
    "# Experiment 1 "
   ]
  },
  {
   "cell_type": "code",
   "execution_count": 32,
   "metadata": {},
   "outputs": [
    {
     "data": {
      "text/html": [
       "\n",
       "    <span>StrVector with 4 elements.</span>\n",
       "    <table>\n",
       "      <tbody>\n",
       "      <tr>\n",
       "      \n",
       "      <td>\n",
       "        'df.l'\n",
       "      </td>\n",
       "      \n",
       "      <td>\n",
       "        'df.w'\n",
       "      </td>\n",
       "      \n",
       "      <td>\n",
       "        'ls.clips'\n",
       "      </td>\n",
       "      \n",
       "      <td>\n",
       "        'ls.events'\n",
       "      </td>\n",
       "      \n",
       "      </tr>\n",
       "      </tbody>\n",
       "    </table>\n",
       "    "
      ],
      "text/plain": [
       "R object with classes: ('character',) mapped to:\n",
       "<StrVector - Python:0x7f5594bdbb48 / R:0x5586b248e018>\n",
       "['df.l', 'df.w', 'ls.clips', 'ls.events']"
      ]
     },
     "execution_count": 32,
     "metadata": {},
     "output_type": "execute_result"
    }
   ],
   "source": [
    "rdata_path = \"data/experiment1.rdata\"\n",
    "r['load'](rdata_path)"
   ]
  },
  {
   "cell_type": "code",
   "execution_count": 33,
   "metadata": {
    "scrolled": true
   },
   "outputs": [
    {
     "name": "stderr",
     "output_type": "stream",
     "text": [
      "/home/hector/miniconda3/envs/diss/lib/python3.5/site-packages/rpy2/robjects/pandas2ri.py:191: FutureWarning: from_items is deprecated. Please use DataFrame.from_dict(dict(items), ...) instead. DataFrame.from_dict(OrderedDict(items)) may be used to preserve the key order.\n",
      "  res = PandasDataFrame.from_items(items)\n"
     ]
    }
   ],
   "source": [
    "all_trials = r['ls.clips']\n",
    "\n",
    "is_active = (r['df.l'].condition == '1')\n",
    "is_passive = (r['df.l'].condition == '0')\n",
    "\n",
    "responses = r['df.l'][[\"trueMass\", \"trueRelationship\"]]\n",
    "YOKED_PATH = \"data/yoked_trials_exp1.h5\"\n",
    "PASSIVE_PATH = \"data/passive_trials_exp1.h5\"\n",
    "\n",
    "ALTERNATIVE_TRAINING_COLS = [\"object\"+str(obj)+\".\"+attr for obj in range(1, 5) for attr in [\"x\", \"y\", \"vx\", \"vy\"]]"
   ]
  },
  {
   "cell_type": "code",
   "execution_count": 34,
   "metadata": {},
   "outputs": [],
   "source": [
    "if os.path.exists(YOKED_PATH):\n",
    "    os.remove(YOKED_PATH)\n",
    "\n",
    "if os.path.exists(PASSIVE_PATH):\n",
    "    os.remove(PASSIVE_PATH)"
   ]
  },
  {
   "cell_type": "code",
   "execution_count": 35,
   "metadata": {},
   "outputs": [
    {
     "name": "stderr",
     "output_type": "stream",
     "text": [
      "/home/hector/miniconda3/envs/diss/lib/python3.5/site-packages/rpy2/robjects/pandas2ri.py:191: FutureWarning: from_items is deprecated. Please use DataFrame.from_dict(dict(items), ...) instead. DataFrame.from_dict(OrderedDict(items)) may be used to preserve the key order.\n",
      "  res = PandasDataFrame.from_items(items)\n"
     ]
    }
   ],
   "source": [
    "flat_trials = []\n",
    "trial_i = 0\n",
    "\n",
    "for participant in all_trials:\n",
    "    for trial in participant:\n",
    "        trial = pandas2ri.ri2py_dataframe(trial)\n",
    "        # print(trial[\"idControlledObject\"].nunique() > 1, is_active[trial_i])\n",
    "        flat_trials.append(trial)\n",
    "        trial_i += 1"
   ]
  },
  {
   "cell_type": "code",
   "execution_count": 36,
   "metadata": {},
   "outputs": [
    {
     "data": {
      "text/plain": [
       "(484, 704, 704, 704)"
      ]
     },
     "execution_count": 36,
     "metadata": {},
     "output_type": "execute_result"
    }
   ],
   "source": [
    "len(flat_trials), len(is_active), len(is_passive), len(responses)"
   ]
  },
  {
   "cell_type": "code",
   "execution_count": 37,
   "metadata": {},
   "outputs": [
    {
     "data": {
      "text/plain": [
       "(220, 264)"
      ]
     },
     "execution_count": 37,
     "metadata": {},
     "output_type": "execute_result"
    }
   ],
   "source": [
    "is_active.sum(), is_passive.sum()"
   ]
  },
  {
   "cell_type": "code",
   "execution_count": 38,
   "metadata": {},
   "outputs": [
    {
     "name": "stdout",
     "output_type": "stream",
     "text": [
      "True\n",
      "True\n"
     ]
    }
   ],
   "source": [
    "# The first 484 are either active or passive\n",
    "print((is_active[:-220] == ~is_passive[:-220]).all())\n",
    "\n",
    "#The last 220 trials are neither active nor passive, therefore they are yoked\n",
    "print((is_active[-220:] == is_passive[-220:]).all())"
   ]
  },
  {
   "cell_type": "code",
   "execution_count": 39,
   "metadata": {
    "scrolled": true
   },
   "outputs": [
    {
     "name": "stderr",
     "output_type": "stream",
     "text": [
      "  6%|▋         | 31/484 [00:00<00:07, 58.89it/s]"
     ]
    },
    {
     "name": "stdout",
     "output_type": "stream",
     "text": [
      "Skipping trial because coordinates out of bounds\n"
     ]
    },
    {
     "name": "stderr",
     "output_type": "stream",
     "text": [
      " 41%|████▏     | 200/484 [00:03<00:05, 53.97it/s]"
     ]
    },
    {
     "name": "stdout",
     "output_type": "stream",
     "text": [
      "Skipping trial because coordinates out of bounds\n"
     ]
    },
    {
     "name": "stderr",
     "output_type": "stream",
     "text": [
      " 72%|███████▏  | 348/484 [00:06<00:02, 46.11it/s]"
     ]
    },
    {
     "name": "stdout",
     "output_type": "stream",
     "text": [
      "Skipping trial because coordinates out of bounds\n"
     ]
    },
    {
     "name": "stderr",
     "output_type": "stream",
     "text": [
      " 86%|████████▌ | 415/484 [00:08<00:01, 39.87it/s]"
     ]
    },
    {
     "name": "stdout",
     "output_type": "stream",
     "text": [
      "Skipping trial because coordinates out of bounds\n"
     ]
    },
    {
     "name": "stderr",
     "output_type": "stream",
     "text": [
      " 93%|█████████▎| 448/484 [00:09<00:00, 37.92it/s]"
     ]
    },
    {
     "name": "stdout",
     "output_type": "stream",
     "text": [
      "Skipping trial because coordinates out of bounds\n"
     ]
    },
    {
     "name": "stderr",
     "output_type": "stream",
     "text": [
      "100%|██████████| 484/484 [00:10<00:00, 38.11it/s]"
     ]
    },
    {
     "name": "stdout",
     "output_type": "stream",
     "text": [
      "13.0 participants for which velocities weren't recorded\n"
     ]
    },
    {
     "name": "stderr",
     "output_type": "stream",
     "text": [
      "\n"
     ]
    }
   ],
   "source": [
    "skipped = 0\n",
    "\n",
    "for trial_i, (trial, is_active_trial) in tqdm(enumerate(zip(flat_trials, is_active)), total=len(flat_trials)):\n",
    "\n",
    "    response = responses.iloc[trial_i]\n",
    "    \n",
    "    if not set(ALTERNATIVE_TRAINING_COLS).issubset(trial.columns):\n",
    "        skipped += 1\n",
    "        add_velocity_from_positions(trial)\n",
    "        \n",
    "    trial = trial.rename({alt_col: col for col, alt_col in \n",
    "                          zip(BASIC_TRAINING_COLS, ALTERNATIVE_TRAINING_COLS)}, axis=\"columns\")\n",
    "\n",
    "    if not are_all_coordinates_within_bounds(trial):\n",
    "        print(\"Skipping trial because coordinates out of bounds\")\n",
    "        continue\n",
    "\n",
    "\n",
    "    trial[\"C_none\"] = (trial[\"idControlledObject\"] == \"none\")\n",
    "    trial[\"C_O1\"] = (trial[\"idControlledObject\"] == \"object1\")\n",
    "    trial[\"C_O2\"] = (trial[\"idControlledObject\"] == \"object2\")\n",
    "    trial[\"C_O3\"] = (trial[\"idControlledObject\"] == \"object3\")\n",
    "    trial[\"C_O4\"] = (trial[\"idControlledObject\"] == \"object4\")\n",
    "\n",
    "    trial = trial[list(YOKED_TRAINING_COLS) + [\"idControlledObject\"]].copy()\n",
    "\n",
    "    true_mass = response[\"trueMass\"]\n",
    "    trial[\"A\"] = (true_mass == \"A\")\n",
    "    trial[\"B\"] = (true_mass == \"B\")\n",
    "    trial[\"same\"] = (true_mass == \"same\")\n",
    "\n",
    "    true_relationship = response[\"trueRelationship\"]\n",
    "    trial[\"attract\"] = (true_relationship == \"attract\")\n",
    "    trial[\"none\"] = (true_relationship == \"none\")\n",
    "    trial[\"repel\"] = (true_relationship == \"repel\")\n",
    "\n",
    "    if is_active_trial:\n",
    "        hdf_path = YOKED_PATH\n",
    "    else:\n",
    "        hdf_path = PASSIVE_PATH\n",
    "        \n",
    "    trial.to_hdf(path_or_buf=hdf_path, key=\"trial_\"+str(trial_i))\n",
    "\n",
    "print(skipped / 11, \"participants for which velocities weren't recorded\")\n",
    "skipped=0"
   ]
  }
 ],
 "metadata": {
  "kernelspec": {
   "display_name": "Python 3",
   "language": "python",
   "name": "python3"
  },
  "language_info": {
   "codemirror_mode": {
    "name": "ipython",
    "version": 3
   },
   "file_extension": ".py",
   "mimetype": "text/x-python",
   "name": "python",
   "nbconvert_exporter": "python",
   "pygments_lexer": "ipython3",
   "version": "3.5.6"
  }
 },
 "nbformat": 4,
 "nbformat_minor": 2
}
