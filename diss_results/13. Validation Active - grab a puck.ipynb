{
 "cells": [
  {
   "cell_type": "code",
   "execution_count": 1,
   "metadata": {},
   "outputs": [],
   "source": [
    "import numpy as np\n",
    "import pandas as pd\n",
    "from sklearn.model_selection import train_test_split\n",
    "import torch\n",
    "import torch.optim as optim\n",
    "import os\n",
    "import glob\n",
    "from tqdm import tqdm\n",
    "\n",
    "from toddler.action_coding import mass_answers, force_answers\n",
    "from toddler.models import ValueNetwork\n",
    "from toddler.RecurrentWorker import train\n",
    "from toddler.validate import validate\n",
    "\n",
    "from isaac.models import ComplexRNNModel\n",
    "\n",
    "from toddler.simulator.config import generate_every_world_configuration, generate_cond\n",
    "\n",
    "from generate_passive_simulations import get_configuration_answer"
   ]
  },
  {
   "cell_type": "code",
   "execution_count": 2,
   "metadata": {},
   "outputs": [],
   "source": [
    "model_directory = \"models/grab_a_puck/\"\n",
    "data_directory = \"grab_a_puck_plots/\""
   ]
  },
  {
   "cell_type": "code",
   "execution_count": 3,
   "metadata": {},
   "outputs": [],
   "source": [
    "if torch.cuda.is_available():\n",
    "    device = \"cuda:0\"\n",
    "else:\n",
    "    device = \"cpu\""
   ]
  },
  {
   "cell_type": "code",
   "execution_count": 4,
   "metadata": {},
   "outputs": [
    {
     "name": "stdout",
     "output_type": "stream",
     "text": [
      "cuda:0\n"
     ]
    }
   ],
   "source": [
    "print(device)"
   ]
  },
  {
   "cell_type": "code",
   "execution_count": 5,
   "metadata": {},
   "outputs": [
    {
     "name": "stderr",
     "output_type": "stream",
     "text": [
      "\r",
      "  0%|          | 0/33 [00:00<?, ?it/s]"
     ]
    },
    {
     "name": "stdout",
     "output_type": "stream",
     "text": [
      "N_WORLDS 100\n"
     ]
    },
    {
     "name": "stderr",
     "output_type": "stream",
     "text": [
      "/home/hector/Dissertation/diss/Dissertation Results/toddler/action_selection.py:36: RuntimeWarning: invalid value encountered in true_divide\n",
      "  policy = np.array(policy) / sum(policy)\n",
      "/home/hector/Dissertation/diss/Dissertation Results/toddler/action_selection.py:38: RuntimeWarning: invalid value encountered in less\n",
      "  selected_action = np.random.choice(possible_actions, p=policy)\n",
      "100%|██████████| 33/33 [21:05<00:00, 36.09s/it]\n",
      "100%|██████████| 33/33 [24:25<00:00, 46.52s/it]\n",
      "100%|██████████| 33/33 [21:57<00:00, 40.00s/it]\n"
     ]
    }
   ],
   "source": [
    "discount_factor = 0.95\n",
    "\n",
    "every_conf = generate_every_world_configuration()\n",
    "every_world_answer = np.array(list(map(get_configuration_answer, every_conf)))\n",
    "n_configurations = len(every_conf)\n",
    "\n",
    "train_size = 0.7\n",
    "val_size = 0.15\n",
    "test_size = 0.15\n",
    "\n",
    "all_indices = np.arange(n_configurations)\n",
    "train_indices, not_train_indices = train_test_split(all_indices, train_size=train_size,\n",
    "                                                    random_state=0, stratify=every_world_answer)\n",
    "val_indices, test_indices = train_test_split(not_train_indices, train_size=0.5,                \n",
    "                                             random_state=0,\n",
    "                                             stratify=every_world_answer[not_train_indices])\n",
    "\n",
    "N_WORLDS = 100\n",
    "timeout = 1800\n",
    "print(\"N_WORLDS\", N_WORLDS)\n",
    "\n",
    "torch.manual_seed(0)\n",
    "np.random.seed(0)\n",
    "repeated_val_indices = np.random.choice(val_indices, N_WORLDS, replace=True)\n",
    "val_cond = generate_cond(every_conf[repeated_val_indices])\n",
    "\n",
    "experience_replay = ()\n",
    "agent_answers = ()\n",
    "\n",
    "n_bodies = 1\n",
    "action_repeat = 1\n",
    "starting_step = 0\n",
    "starting_episode = 0\n",
    "\n",
    "for cond in val_cond:\n",
    "    cond[\"timeout\"] = timeout\n",
    "    cond[\"forces\"] = [[0]]\n",
    "\n",
    "\n",
    "validation_dfs = []\n",
    "for seed in [0, 42, 72]:\n",
    "    \n",
    "    this_seed_model_directory = model_directory + str(seed) + \"/\"\n",
    "    \n",
    "    for model in tqdm(glob.glob(this_seed_model_directory+\"*\")):\n",
    "        episode_number = model.split(\"/\")[-1].split(\"_\")[0]\n",
    "    \n",
    "        net_params = {\"input_dim\":10, \"hidden_dim\":25, \"n_layers\":4, \"output_dim\":6, \"dropout\":0.0}\n",
    "        value_network = ValueNetwork(**net_params).to(torch.device(device))\n",
    "        value_network.load_state_dict(torch.load(model))\n",
    "        optimizer = optim.Adam(value_network.parameters(), lr=5e-4)\n",
    "\n",
    "        agent_cond = val_cond\n",
    "\n",
    "        valArgs = {\"value_network\": value_network, \"val_cond\": agent_cond, \n",
    "                   \"timeout\": timeout, \"n_bodies\": n_bodies,\n",
    "                   \"action_repeat\": action_repeat, \"print_stats\":False,\n",
    "                   \"device\": device, \"reward_control\": True, \"done_with_control\": True, \n",
    "                    \"reward_not_controlling_negatively\": True, \"remove_features_in_index\": [2, 3]}\n",
    "\n",
    "        validation_data = validate(**valArgs)\n",
    "\n",
    "        validation_data = {stat+\"_\"+attr: [f(validation_data[attr])] for attr in [\"control\", \"episode_length\"] \n",
    "                           for stat, f in zip([\"avg\", \"std\"], [np.mean, np.std])}\n",
    "        \n",
    "        df = pd.DataFrame.from_dict(validation_data)\n",
    "        df[\"seed\"] = seed\n",
    "        df[\"episode\"] = episode_number\n",
    "        validation_dfs.append(df)"
   ]
  },
  {
   "cell_type": "code",
   "execution_count": 6,
   "metadata": {},
   "outputs": [],
   "source": [
    "validation_dfs = pd.concat(validation_dfs)\n",
    "validation_dfs.to_hdf(data_directory+\"validation_data.h5\", key=\"validation_data\")"
   ]
  }
 ],
 "metadata": {
  "kernelspec": {
   "display_name": "Python 3",
   "language": "python",
   "name": "python3"
  },
  "language_info": {
   "codemirror_mode": {
    "name": "ipython",
    "version": 3
   },
   "file_extension": ".py",
   "mimetype": "text/x-python",
   "name": "python",
   "nbconvert_exporter": "python",
   "pygments_lexer": "ipython3",
   "version": "3.5.6"
  }
 },
 "nbformat": 4,
 "nbformat_minor": 2
}
