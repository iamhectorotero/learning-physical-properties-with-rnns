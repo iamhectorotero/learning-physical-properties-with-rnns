{
 "cells": [
  {
   "cell_type": "code",
   "execution_count": 1,
   "metadata": {},
   "outputs": [],
   "source": [
    "import pandas as pd\n",
    "import numpy as np\n",
    "import torch\n",
    "import torch.utils.data\n",
    "import torch.nn as nn\n",
    "from torch.autograd import Variable\n",
    "from sklearn.model_selection import train_test_split\n",
    "import joblib\n",
    "from tqdm import tqdm\n",
    "import matplotlib.pyplot as plt\n",
    "from copy import deepcopy"
   ]
  },
  {
   "cell_type": "code",
   "execution_count": 2,
   "metadata": {},
   "outputs": [
    {
     "name": "stdout",
     "output_type": "stream",
     "text": [
      "cuda:0\n"
     ]
    }
   ],
   "source": [
    "from isaac.utils import get_cuda_device_if_available\n",
    "device = get_cuda_device_if_available()\n",
    "print(device)"
   ]
  },
  {
   "cell_type": "code",
   "execution_count": 3,
   "metadata": {},
   "outputs": [],
   "source": [
    "from isaac.dataset import read_dataset, prepare_dataset, sample_subsequences\n",
    "from isaac.utils import plot_confusion_matrix\n",
    "from isaac.models import ComplexRNNModel, initialise_model\n",
    "from isaac.constants import *\n",
    "from isaac.training import evaluate, training_loop, evaluate_saved_model\n",
    "from isaac.sanity import class_proportions"
   ]
  },
  {
   "cell_type": "code",
   "execution_count": 4,
   "metadata": {},
   "outputs": [],
   "source": [
    "BATCH_SIZE = 128\n",
    "EPOCHS = 100\n",
    "NORMALISE_DATA = True\n",
    "SEQ_END = 1800"
   ]
  },
  {
   "cell_type": "markdown",
   "metadata": {},
   "source": [
    "# Define common model, loss and optimizer"
   ]
  },
  {
   "cell_type": "code",
   "execution_count": 5,
   "metadata": {
    "scrolled": true
   },
   "outputs": [
    {
     "name": "stderr",
     "output_type": "stream",
     "text": [
      "100%|██████████| 10/10 [00:00<00:00, 115.56it/s]\n",
      "100%|██████████| 10/10 [00:00<00:00, 122.39it/s]\n"
     ]
    }
   ],
   "source": [
    "ALL_COLS = BASIC_TRAINING_COLS + PUCK_SQUARE_DISTANCES + PUCK_ANGLE_FEATURES\n",
    "\n",
    "train_trials = read_dataset(\"data/train_passive_trials.h5\", n_trials=3500, cols=ALL_COLS)\n",
    "val_trials = read_dataset(\"data/val_passive_trials.h5\", n_trials=800, cols=ALL_COLS)"
   ]
  },
  {
   "cell_type": "code",
   "execution_count": 6,
   "metadata": {},
   "outputs": [],
   "source": [
    "question_type = \"mass\""
   ]
  },
  {
   "cell_type": "code",
   "execution_count": 7,
   "metadata": {},
   "outputs": [],
   "source": [
    "if question_type == \"force\":    \n",
    "    class_columns = FORCE_CLASS_COLS\n",
    "    TR_COLS = BASIC_TRAINING_COLS + PUCK_SQUARE_DISTANCES + PUCK_ANGLE_FEATURES\n",
    "    STEP_SIZE = 3\n",
    "else:\n",
    "    class_columns = MASS_CLASS_COLS\n",
    "    TR_COLS = BASIC_TRAINING_COLS\n",
    "    STEP_SIZE = 4"
   ]
  },
  {
   "cell_type": "code",
   "execution_count": 8,
   "metadata": {},
   "outputs": [],
   "source": [
    "INPUT_DIM = len(TR_COLS)    # input dimension\n",
    "HIDDEN_DIM = 25  # hidden layer dimension\n",
    "N_LAYERS = 4     # number of hidden layers\n",
    "OUTPUT_DIM = 3   # output dimension\n",
    "DROPOUT = 0.5\n",
    "\n",
    "network_params = (INPUT_DIM, HIDDEN_DIM, N_LAYERS, OUTPUT_DIM, DROPOUT)"
   ]
  },
  {
   "cell_type": "markdown",
   "metadata": {},
   "source": [
    "# TRAINING"
   ]
  },
  {
   "cell_type": "code",
   "execution_count": 9,
   "metadata": {},
   "outputs": [
    {
     "name": "stderr",
     "output_type": "stream",
     "text": [
      "100%|██████████| 10/10 [00:00<00:00, 1038.58it/s]\n",
      "100%|██████████| 10/10 [00:00<00:00, 1096.92it/s]\n",
      "Train_loss (1.11)\t Train_acc (80.00)\t Val_acc (50.00): 100%|██████████| 2/2 [00:00<00:00,  5.35it/s] \n",
      "Train_loss (1.14)\t Train_acc (50.00)\t Val_acc (30.00): 100%|██████████| 2/2 [00:00<00:00,  5.44it/s] \n",
      "Train_loss (1.15)\t Train_acc (40.00)\t Val_acc (40.00): 100%|██████████| 2/2 [00:00<00:00,  5.90it/s] \n"
     ]
    }
   ],
   "source": [
    "stats_dfs = []\n",
    "\n",
    "loaders, scaler = prepare_dataset([train_trials, val_trials], class_columns=class_columns, \n",
    "                                  training_columns=TR_COLS, batch_size=BATCH_SIZE, \n",
    "                                  normalise_data=NORMALISE_DATA, device=device)\n",
    "best_model_overall = None\n",
    "best_accuracy = 0.\n",
    "\n",
    "for seed in [0, 42, 72]:\n",
    "    df = pd.DataFrame(columns=[\"seed\", \"Epoch\", \"Loss\"])\n",
    "\n",
    "\n",
    "    model, error, optimizer = initialise_model(network_params, lr=0.01, seed=seed, device=device)\n",
    "    epoch_losses, epoch_accuracies, best_model = training_loop(model, optimizer, error, loaders[0], \n",
    "                                                               loaders[1], EPOCHS, seq_end=SEQ_END, \n",
    "                                                               step_size=STEP_SIZE)\n",
    "\n",
    "    model_accuracy = max(epoch_accuracies[1])\n",
    "    if model_accuracy > best_accuracy:\n",
    "        best_model_overall = deepcopy(best_model)\n",
    "        best_accuracy = model_accuracy\n",
    "    \n",
    "    df[\"Epoch\"] = np.arange(EPOCHS)\n",
    "    df[\"Loss\"] = epoch_losses\n",
    "    df[\"Train Accuracy\"] = epoch_accuracies[0]\n",
    "    df[\"Val Accuracy\"] = epoch_accuracies[1]\n",
    "    df[\"seed\"] = str(seed)\n",
    "    stats_dfs.append(df)\n",
    "        \n",
    "stats = pd.concat(stats_dfs)"
   ]
  },
  {
   "cell_type": "code",
   "execution_count": 10,
   "metadata": {},
   "outputs": [
    {
     "data": {
      "text/plain": [
       "50.0"
      ]
     },
     "execution_count": 10,
     "metadata": {},
     "output_type": "execute_result"
    }
   ],
   "source": [
    "best_accuracy"
   ]
  },
  {
   "cell_type": "code",
   "execution_count": 11,
   "metadata": {},
   "outputs": [],
   "source": [
    "stats.to_hdf(\"final_choice_plots/\"+question_type+\"_stats.h5\", key=\"stats\")"
   ]
  },
  {
   "cell_type": "markdown",
   "metadata": {},
   "source": [
    "## Save model and scaler"
   ]
  },
  {
   "cell_type": "code",
   "execution_count": 12,
   "metadata": {},
   "outputs": [
    {
     "data": {
      "text/plain": [
       "['scalers/passive_mass_scaler.sk']"
      ]
     },
     "execution_count": 12,
     "metadata": {},
     "output_type": "execute_result"
    }
   ],
   "source": [
    "torch.save(best_model_overall.state_dict(), \"models/passive_\"+question_type+\"_model.pt\")\n",
    "joblib.dump(scaler, \"scalers/passive_\"+question_type+\"_scaler.sk\")"
   ]
  }
 ],
 "metadata": {
  "kernelspec": {
   "display_name": "Python 3",
   "language": "python",
   "name": "python3"
  },
  "language_info": {
   "codemirror_mode": {
    "name": "ipython",
    "version": 3
   },
   "file_extension": ".py",
   "mimetype": "text/x-python",
   "name": "python",
   "nbconvert_exporter": "python",
   "pygments_lexer": "ipython3",
   "version": "3.5.6"
  }
 },
 "nbformat": 4,
 "nbformat_minor": 2
}
