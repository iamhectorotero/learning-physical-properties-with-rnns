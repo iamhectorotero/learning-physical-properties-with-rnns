{
 "cells": [
  {
   "cell_type": "code",
   "execution_count": 1,
   "metadata": {},
   "outputs": [],
   "source": [
    "from isaac.dataset import read_dataset\n",
    "import os\n",
    "from tqdm import tqdm\n",
    "from isaac.constants import MOUSE_COLS\n",
    "from isaac.feature_engineering import add_mouse_columns_to_passive_trials, set_mouse_velocities\n",
    "from isaac.feature_engineering import get_distances_between_objects, get_angle_between_objects_features"
   ]
  },
  {
   "cell_type": "code",
   "execution_count": 2,
   "metadata": {},
   "outputs": [],
   "source": [
    "def write_dataset_to_file(trials, path):\n",
    "    if os.path.exists(path):\n",
    "        os.remove(path)\n",
    "    for trial_i, trial in enumerate(trials):\n",
    "        trial.to_hdf(path_or_buf=path, key=\"trial_\"+str(trial_i), format=\"table\")"
   ]
  },
  {
   "cell_type": "code",
   "execution_count": 3,
   "metadata": {},
   "outputs": [],
   "source": [
    "PASSIVE_TRAIN = \"data/train_passive_trials.h5\"\n",
    "PASSIVE_VAL = \"data/val_passive_trials.h5\"\n",
    "PASSIVE_TEST = \"data/test_passive_trials.h5\"\n",
    "PASSIVE_EXP1 = \"data/passive_trials_exp1.h5\""
   ]
  },
  {
   "cell_type": "code",
   "execution_count": 4,
   "metadata": {},
   "outputs": [
    {
     "name": "stderr",
     "output_type": "stream",
     "text": [
      "\r",
      "  0%|          | 0/260 [00:00<?, ?it/s]"
     ]
    },
    {
     "name": "stdout",
     "output_type": "stream",
     "text": [
      "data/passive_trials_exp1.h5\n"
     ]
    },
    {
     "name": "stderr",
     "output_type": "stream",
     "text": [
      "100%|██████████| 260/260 [00:01<00:00, 170.25it/s]\n",
      "100%|██████████| 260/260 [00:01<00:00, 227.85it/s]\n",
      "100%|██████████| 260/260 [00:01<00:00, 135.93it/s]\n",
      "100%|██████████| 260/260 [00:03<00:00, 65.63it/s]\n"
     ]
    }
   ],
   "source": [
    "for dataset_path in [PASSIVE_EXP1]:\n",
    "    print(dataset_path)\n",
    "    dataset = read_dataset(dataset_path)\n",
    "        \n",
    "    if not set(MOUSE_COLS).issubset(set(dataset[0].columns)):\n",
    "        add_mouse_columns_to_passive_trials(dataset)\n",
    "    \n",
    "    get_distances_between_objects(tqdm(dataset))\n",
    "    get_angle_between_objects_features(tqdm(dataset))\n",
    "    write_dataset_to_file(tqdm(dataset), dataset_path)"
   ]
  }
 ],
 "metadata": {
  "kernelspec": {
   "display_name": "Python 3",
   "language": "python",
   "name": "python3"
  },
  "language_info": {
   "codemirror_mode": {
    "name": "ipython",
    "version": 3
   },
   "file_extension": ".py",
   "mimetype": "text/x-python",
   "name": "python",
   "nbconvert_exporter": "python",
   "pygments_lexer": "ipython3",
   "version": "3.5.6"
  }
 },
 "nbformat": 4,
 "nbformat_minor": 2
}
