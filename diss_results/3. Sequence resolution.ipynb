{
 "cells": [
  {
   "cell_type": "code",
   "execution_count": 1,
   "metadata": {},
   "outputs": [],
   "source": [
    "import torch\n",
    "import torch.nn as nn\n",
    "import pandas as pd"
   ]
  },
  {
   "cell_type": "code",
   "execution_count": 2,
   "metadata": {},
   "outputs": [],
   "source": [
    "from isaac.dataset import read_dataset, prepare_dataset\n",
    "from isaac.constants import POSITION_COLS, MASS_CLASS_COLS, BASIC_TRAINING_COLS, FORCE_CLASS_COLS, PUCK_SQUARE_DISTANCES, PUCK_ANGLE_FEATURES\n",
    "from isaac.sanity import class_proportions\n",
    "from isaac.models import initialise_model\n",
    "from isaac.training import training_loop\n",
    "import matplotlib.pyplot as plt\n",
    "import numpy as np"
   ]
  },
  {
   "cell_type": "code",
   "execution_count": null,
   "metadata": {},
   "outputs": [],
   "source": [
    "data_directory = \"sequence_resolution_plots/\""
   ]
  },
  {
   "cell_type": "code",
   "execution_count": 3,
   "metadata": {},
   "outputs": [
    {
     "name": "stdout",
     "output_type": "stream",
     "text": [
      "cuda:0\n"
     ]
    }
   ],
   "source": [
    "from isaac.utils import get_cuda_device_if_available, create_directory\n",
    "device = get_cuda_device_if_available()\n",
    "print(device)\n",
    "\n",
    "create_directory(data_directory)"
   ]
  },
  {
   "cell_type": "code",
   "execution_count": 4,
   "metadata": {},
   "outputs": [],
   "source": [
    "NORMALISE_DATA = True\n",
    "BATCH_SIZE = 128\n",
    "EPOCHS = 25\n",
    "SEQ_END = 1800"
   ]
  },
  {
   "cell_type": "code",
   "execution_count": 5,
   "metadata": {},
   "outputs": [],
   "source": [
    "TR_COLS = BASIC_TRAINING_COLS"
   ]
  },
  {
   "cell_type": "code",
   "execution_count": 6,
   "metadata": {},
   "outputs": [
    {
     "name": "stderr",
     "output_type": "stream",
     "text": [
      "100%|██████████| 10/10 [00:00<00:00, 117.63it/s]\n",
      "100%|██████████| 10/10 [00:00<00:00, 121.41it/s]\n"
     ]
    }
   ],
   "source": [
    "train_trials = read_dataset(\"data/train_passive_trials.h5\", n_trials=3500, cols=TR_COLS)\n",
    "val_trials = read_dataset(\"data/val_passive_trials.h5\", n_trials=500, cols=TR_COLS)"
   ]
  },
  {
   "cell_type": "markdown",
   "metadata": {},
   "source": [
    "# MASS TRAINING"
   ]
  },
  {
   "cell_type": "code",
   "execution_count": 7,
   "metadata": {},
   "outputs": [],
   "source": [
    "INPUT_DIM = len(TR_COLS)    # input dimension\n",
    "HIDDEN_DIM = 25  # hidden layer dimension\n",
    "N_LAYERS = 4     # number of hidden layers\n",
    "OUTPUT_DIM = 3   # output dimension\n",
    "DROPOUT = 0.5\n",
    "network_params = (INPUT_DIM, HIDDEN_DIM, N_LAYERS, OUTPUT_DIM, DROPOUT)"
   ]
  },
  {
   "cell_type": "code",
   "execution_count": 8,
   "metadata": {},
   "outputs": [
    {
     "name": "stderr",
     "output_type": "stream",
     "text": [
      "100%|██████████| 10/10 [00:00<00:00, 915.27it/s]\n",
      "100%|██████████| 10/10 [00:00<00:00, 968.91it/s]\n",
      "Train_loss (1.11)\t Train_acc (70.00)\t Val_acc (40.00): 100%|██████████| 2/2 [00:01<00:00,  1.39it/s] \n",
      "Train_loss (1.16)\t Train_acc (60.00)\t Val_acc (30.00): 100%|██████████| 2/2 [00:01<00:00,  1.52it/s] \n",
      "Train_loss (1.15)\t Train_acc (60.00)\t Val_acc (30.00): 100%|██████████| 2/2 [00:01<00:00,  1.58it/s] \n",
      "Train_loss (1.14)\t Train_acc (60.00)\t Val_acc (40.00): 100%|██████████| 2/2 [00:00<00:00,  3.10it/s] \n",
      "Train_loss (1.14)\t Train_acc (70.00)\t Val_acc (20.00): 100%|██████████| 2/2 [00:00<00:00,  3.05it/s] \n",
      "Train_loss (1.14)\t Train_acc (70.00)\t Val_acc (40.00): 100%|██████████| 2/2 [00:00<00:00,  3.07it/s] \n",
      "Train_loss (1.11)\t Train_acc (70.00)\t Val_acc (30.00): 100%|██████████| 2/2 [00:00<00:00,  4.65it/s] \n",
      "Train_loss (1.16)\t Train_acc (60.00)\t Val_acc (20.00): 100%|██████████| 2/2 [00:00<00:00,  4.63it/s] \n",
      "Train_loss (1.16)\t Train_acc (40.00)\t Val_acc (40.00): 100%|██████████| 2/2 [00:00<00:00,  4.61it/s] \n",
      "Train_loss (1.11)\t Train_acc (80.00)\t Val_acc (50.00): 100%|██████████| 2/2 [00:00<00:00,  6.06it/s] \n",
      "Train_loss (1.16)\t Train_acc (50.00)\t Val_acc (10.00): 100%|██████████| 2/2 [00:00<00:00,  6.11it/s] \n",
      "Train_loss (1.19)\t Train_acc (40.00)\t Val_acc (40.00): 100%|██████████| 2/2 [00:00<00:00,  6.10it/s] \n"
     ]
    }
   ],
   "source": [
    "labels = [1, 2, 3, 4]\n",
    "stats_dfs = []\n",
    "\n",
    "loaders, scaler = prepare_dataset([train_trials, val_trials], class_columns=MASS_CLASS_COLS, \n",
    "                                  training_columns=TR_COLS, batch_size=BATCH_SIZE, \n",
    "                                  normalise_data=NORMALISE_DATA, device=device)\n",
    "\n",
    "for step, label in zip([1, 2, 3, 4], labels):    \n",
    "    for seed in [0, 42, 72]:\n",
    "        df = pd.DataFrame(columns=[\"seq_resolution\", \"Epoch\", \"Loss\"])\n",
    "\n",
    "\n",
    "        model, error, optimizer = initialise_model(network_params, lr=0.01, seed=seed, device=device)\n",
    "        epoch_losses, epoch_accuracies, best_model = training_loop(model, optimizer, error, loaders[0], \n",
    "                                                                   loaders[1], EPOCHS, seq_end=SEQ_END, \n",
    "                                                                   step_size=step)\n",
    "                \n",
    "        df[\"Epoch\"] = np.arange(EPOCHS)\n",
    "        df[\"Loss\"] = epoch_losses\n",
    "        df[\"Train Accuracy\"] = epoch_accuracies[0]\n",
    "        df[\"Val Accuracy\"] = epoch_accuracies[1]\n",
    "        df[\"seq_resolution\"] = str(label)\n",
    "        stats_dfs.append(df)\n",
    "        \n",
    "stats = pd.concat(stats_dfs)\n",
    "stats.to_hdf(data_directory+\"mass_stats.h5\", key=\"stats\")"
   ]
  },
  {
   "cell_type": "markdown",
   "metadata": {},
   "source": [
    "# FORCE TRAINING"
   ]
  },
  {
   "cell_type": "code",
   "execution_count": 9,
   "metadata": {},
   "outputs": [
    {
     "name": "stderr",
     "output_type": "stream",
     "text": [
      "100%|██████████| 10/10 [00:00<00:00, 1075.85it/s]\n",
      "100%|██████████| 10/10 [00:00<00:00, 1116.28it/s]\n",
      "Train_loss (1.09)\t Train_acc (60.00)\t Val_acc (30.00): 100%|██████████| 2/2 [00:01<00:00,  1.55it/s] \n",
      "Train_loss (1.13)\t Train_acc (70.00)\t Val_acc (40.00): 100%|██████████| 2/2 [00:01<00:00,  1.53it/s] \n",
      "Train_loss (1.09)\t Train_acc (70.00)\t Val_acc (30.00): 100%|██████████| 2/2 [00:01<00:00,  1.51it/s] \n",
      "Train_loss (1.10)\t Train_acc (60.00)\t Val_acc (30.00): 100%|██████████| 2/2 [00:00<00:00,  3.06it/s] \n",
      "Train_loss (1.14)\t Train_acc (60.00)\t Val_acc (10.00): 100%|██████████| 2/2 [00:00<00:00,  3.03it/s] \n",
      "Train_loss (1.10)\t Train_acc (70.00)\t Val_acc (40.00): 100%|██████████| 2/2 [00:00<00:00,  2.99it/s] \n",
      "Train_loss (1.10)\t Train_acc (60.00)\t Val_acc (30.00): 100%|██████████| 2/2 [00:00<00:00,  4.34it/s] \n",
      "Train_loss (1.16)\t Train_acc (40.00)\t Val_acc (20.00): 100%|██████████| 2/2 [00:00<00:00,  4.65it/s] \n",
      "Train_loss (1.12)\t Train_acc (40.00)\t Val_acc (30.00): 100%|██████████| 2/2 [00:00<00:00,  4.64it/s] \n",
      "Train_loss (1.08)\t Train_acc (60.00)\t Val_acc (30.00): 100%|██████████| 2/2 [00:00<00:00,  6.04it/s] \n",
      "Train_loss (1.15)\t Train_acc (50.00)\t Val_acc (20.00): 100%|██████████| 2/2 [00:00<00:00,  6.09it/s] \n",
      "Train_loss (1.11)\t Train_acc (60.00)\t Val_acc (10.00): 100%|██████████| 2/2 [00:00<00:00,  6.07it/s] \n"
     ]
    }
   ],
   "source": [
    "labels = [1, 2, 3, 4]\n",
    "stats_dfs = []\n",
    "\n",
    "loaders, scaler = prepare_dataset([train_trials, val_trials], class_columns=FORCE_CLASS_COLS, \n",
    "                                  training_columns=TR_COLS, batch_size=BATCH_SIZE, \n",
    "                                  normalise_data=NORMALISE_DATA, device=device)\n",
    "\n",
    "for step, label in zip([1, 2, 3, 4], labels):    \n",
    "    for seed in [0, 42, 72]:\n",
    "        df = pd.DataFrame(columns=[\"seq_resolution\", \"Epoch\", \"Loss\"])\n",
    "\n",
    "\n",
    "        model, error, optimizer = initialise_model(network_params, lr=0.01, seed=seed, device=device)\n",
    "        epoch_losses, epoch_accuracies, best_model = training_loop(model, optimizer, error, loaders[0], \n",
    "                                                                   loaders[1], EPOCHS, seq_end=SEQ_END, \n",
    "                                                                   step_size=step)\n",
    "                \n",
    "        df[\"Epoch\"] = np.arange(EPOCHS)\n",
    "        df[\"Loss\"] = epoch_losses\n",
    "        df[\"Train Accuracy\"] = epoch_accuracies[0]\n",
    "        df[\"Val Accuracy\"] = epoch_accuracies[1]\n",
    "        df[\"seq_resolution\"] = str(label)\n",
    "        stats_dfs.append(df)\n",
    "        \n",
    "stats = pd.concat(stats_dfs)\n",
    "stats.to_hdf(data_directory+\"force_stats.h5\", key=\"stats\")"
   ]
  }
 ],
 "metadata": {
  "kernelspec": {
   "display_name": "Python 3",
   "language": "python",
   "name": "python3"
  },
  "language_info": {
   "codemirror_mode": {
    "name": "ipython",
    "version": 3
   },
   "file_extension": ".py",
   "mimetype": "text/x-python",
   "name": "python",
   "nbconvert_exporter": "python",
   "pygments_lexer": "ipython3",
   "version": "3.5.6"
  }
 },
 "nbformat": 4,
 "nbformat_minor": 2
}
