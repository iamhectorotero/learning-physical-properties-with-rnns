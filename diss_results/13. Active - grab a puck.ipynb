{
 "cells": [
  {
   "cell_type": "code",
   "execution_count": 5,
   "metadata": {},
   "outputs": [],
   "source": [
    "import numpy as np\n",
    "import pandas as pd\n",
    "from sklearn.model_selection import train_test_split\n",
    "import torch\n",
    "import torch.optim as optim\n",
    "import os\n",
    "\n",
    "from toddler.action_coding import mass_answers, force_answers\n",
    "from toddler.models import ValueNetwork\n",
    "from toddler.RecurrentWorker import train\n",
    "from toddler.validate import validate\n",
    "\n",
    "from isaac.models import ComplexRNNModel\n",
    "\n",
    "from toddler.simulator.config import generate_every_world_configuration, generate_cond\n",
    "\n",
    "from generate_passive_simulations import get_configuration_answer"
   ]
  },
  {
   "cell_type": "code",
   "execution_count": 6,
   "metadata": {},
   "outputs": [],
   "source": [
    "model_directory = \"models/grab_a_puck/\"\n",
    "data_directory = \"grab_a_puck_plots/\""
   ]
  },
  {
   "cell_type": "code",
   "execution_count": 7,
   "metadata": {},
   "outputs": [
    {
     "name": "stdout",
     "output_type": "stream",
     "text": [
      "cuda:0\n"
     ]
    }
   ],
   "source": [
    "from isaac.utils import get_cuda_device_if_available\n",
    "device = get_cuda_device_if_available()\n",
    "print(device)"
   ]
  },
  {
   "cell_type": "code",
   "execution_count": 8,
   "metadata": {},
   "outputs": [
    {
     "name": "stderr",
     "output_type": "stream",
     "text": [
      "control 1.00 aciertos -1.00 (UB: 0.33) eps: 1.00 done @ 51 vloss 0.279702 qloss 0.000000 accuracy 0.00:  50%|█████     | 1/2 [00:00<00:00, 30.72it/s]"
     ]
    },
    {
     "name": "stdout",
     "output_type": "stream",
     "text": [
      "N_WORLDS 2 TOTAL_STEPS 1200\n"
     ]
    },
    {
     "name": "stderr",
     "output_type": "stream",
     "text": [
      "control 0.50 aciertos -1.00 (UB: 0.33) eps: 1.00 done @ 600 vloss 0.139214 qloss 0.000000 accuracy 0.00: 100%|██████████| 2/2 [00:00<00:00,  6.68it/s]\n",
      "control 0.50 aciertos -1.00 (UB: 0.33) eps: 1.00 done @ 600 vloss 0.018394 qloss 0.000000 accuracy 0.00: 100%|██████████| 2/2 [00:00<00:00,  3.90it/s]\n",
      "control 0.00 aciertos -1.00 (UB: 0.33) eps: 1.00 done @ 600 vloss 0.014639 qloss 0.000000 accuracy 0.00: 100%|██████████| 2/2 [00:00<00:00,  3.21it/s]\n"
     ]
    }
   ],
   "source": [
    "discount_factor = 0.95\n",
    "\n",
    "every_conf = generate_every_world_configuration()\n",
    "every_world_answer = np.array(list(map(get_configuration_answer, every_conf)))\n",
    "n_configurations = len(every_conf)\n",
    "\n",
    "train_size = 0.7\n",
    "val_size = 0.15\n",
    "test_size = 0.15\n",
    "\n",
    "all_indices = np.arange(n_configurations)\n",
    "train_indices, not_train_indices = train_test_split(all_indices, train_size=train_size,\n",
    "                                                    random_state=0, stratify=every_world_answer)\n",
    "val_indices, test_indices = train_test_split(not_train_indices, train_size=0.5,                \n",
    "                                             random_state=0,\n",
    "                                             stratify=every_world_answer[not_train_indices])\n",
    "\n",
    "N_WORLDS = 33000\n",
    "timeout = 600\n",
    "TOTAL_STEPS = min(N_WORLDS*timeout, np.inf)\n",
    "\n",
    "print(\"N_WORLDS\", N_WORLDS, \"TOTAL_STEPS\", TOTAL_STEPS)\n",
    "\n",
    "torch.manual_seed(0)\n",
    "np.random.seed(0)\n",
    "repeated_train_indices = np.random.choice(train_indices, N_WORLDS, replace=True)\n",
    "train_cond = generate_cond(every_conf[repeated_train_indices])\n",
    "\n",
    "experience_replay = ()\n",
    "agent_answers = ()\n",
    "\n",
    "n_bodies = 1\n",
    "action_repeat = 1\n",
    "starting_step = 0\n",
    "starting_episode = 0\n",
    "\n",
    "for cond in train_cond:\n",
    "    cond[\"timeout\"] = timeout\n",
    "    cond[\"forces\"] = [[0]]\n",
    "\n",
    "\n",
    "training_dfs = []\n",
    "for seed in [0, 42, 72]:\n",
    "    \n",
    "    this_seed_model_directory = model_directory + str(seed) + \"/\"\n",
    "    if not os.path.exists(this_seed_model_directory):\n",
    "        os.makedirs(this_seed_model_directory)\n",
    "    \n",
    "    training_data = {\"question_loss\":[], \"value_loss\":[], \"control\": [], \"episode_length\": [], \"correct_answer\": []}\n",
    "    np.random.seed(seed)\n",
    "    torch.manual_seed(seed)\n",
    "    torch.backends.cudnn.deterministic = True\n",
    "    torch.backends.cudnn.benchmark = False\n",
    "    net_params = {\"input_dim\":10, \"hidden_dim\":25, \"n_layers\":4, \"output_dim\":6, \"dropout\":0.0}\n",
    "    value_network = ValueNetwork(**net_params).to(torch.device(device))\n",
    "    optimizer = optim.Adam(value_network.parameters(), lr=5e-4)\n",
    "    \n",
    "    agent_cond = train_cond\n",
    "\n",
    "    trainingArgs = {\"value_network\": value_network, \"optimizer\": optimizer, \n",
    "                    \"discount_factor\": discount_factor, \"starting_episode\": starting_episode, \n",
    "                    \"train_cond\": agent_cond, \"timeout\": timeout,\n",
    "                    \"experience_replay\": experience_replay, \"agent_answers\": agent_answers, \n",
    "                    \"n_bodies\": n_bodies, \"training_data\": training_data,\n",
    "                    \"action_repeat\": action_repeat, \"model_directory\": this_seed_model_directory, \n",
    "                    \"current_step\": starting_step, \"total_steps\": TOTAL_STEPS, \n",
    "                    \"device\": device, \"reward_control\": True, \"done_with_control\": True, \n",
    "                    \"reward_not_controlling_negatively\": True, \"remove_features_in_index\": [2, 3]}\n",
    "    \n",
    "    training_data = train(**trainingArgs)\n",
    "\n",
    "    df = pd.DataFrame.from_dict(training_data)\n",
    "    df[\"seed\"] = seed\n",
    "    training_dfs.append(df)"
   ]
  },
  {
   "cell_type": "code",
   "execution_count": 9,
   "metadata": {},
   "outputs": [
    {
     "name": "stderr",
     "output_type": "stream",
     "text": [
      "/home/hector/miniconda3/envs/diss/lib/python3.5/site-packages/pandas/core/generic.py:1996: PerformanceWarning: \n",
      "your performance may suffer as PyTables will pickle object types that it cannot\n",
      "map directly to c-types [inferred_type->mixed,key->block2_values] [items->['value_loss']]\n",
      "\n",
      "  return pytables.to_hdf(path_or_buf, key, self, **kwargs)\n"
     ]
    }
   ],
   "source": [
    "training_dfs = pd.concat(training_dfs)\n",
    "training_dfs.to_hdf(data_directory+\"training_data.h5\", key=\"training_data\")"
   ]
  }
 ],
 "metadata": {
  "kernelspec": {
   "display_name": "Python 3",
   "language": "python",
   "name": "python3"
  },
  "language_info": {
   "codemirror_mode": {
    "name": "ipython",
    "version": 3
   },
   "file_extension": ".py",
   "mimetype": "text/x-python",
   "name": "python",
   "nbconvert_exporter": "python",
   "pygments_lexer": "ipython3",
   "version": "3.5.6"
  }
 },
 "nbformat": 4,
 "nbformat_minor": 2
}
