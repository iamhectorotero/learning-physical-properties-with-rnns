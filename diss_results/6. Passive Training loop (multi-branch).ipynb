{
 "cells": [
  {
   "cell_type": "code",
   "execution_count": 1,
   "metadata": {},
   "outputs": [],
   "source": [
    "import pandas as pd\n",
    "import numpy as np\n",
    "import torch\n",
    "import torch.utils.data\n",
    "import torch.nn as nn\n",
    "from torch.autograd import Variable\n",
    "from sklearn.model_selection import train_test_split\n",
    "import joblib\n",
    "from tqdm import tqdm\n",
    "import matplotlib.pyplot as plt\n",
    "from copy import deepcopy"
   ]
  },
  {
   "cell_type": "code",
   "execution_count": 2,
   "metadata": {},
   "outputs": [
    {
     "name": "stdout",
     "output_type": "stream",
     "text": [
      "cuda:0\n"
     ]
    }
   ],
   "source": [
    "from isaac.utils import get_cuda_device_if_available, create_directory\n",
    "device = get_cuda_device_if_available()\n",
    "print(device)\n",
    "\n",
    "data_directory = \"multibranch_plots/\"\n",
    "create_directory(data_directory)\n",
    "create_directory(\"models\")\n",
    "create_directory(\"scalers\")"
   ]
  },
  {
   "cell_type": "code",
   "execution_count": 3,
   "metadata": {},
   "outputs": [],
   "source": [
    "from isaac.dataset import read_dataset, prepare_dataset\n",
    "from isaac.utils import plot_confusion_matrix\n",
    "from isaac.constants import BASIC_TRAINING_COLS, FORCE_CLASS_COLS, MASS_CLASS_COLS\n",
    "from isaac.training import training_loop\n",
    "from isaac.models import MultiBranchModel, initialise_model\n",
    "from isaac.evaluation import get_best_model_and_its_accuracy"
   ]
  },
  {
   "cell_type": "code",
   "execution_count": 4,
   "metadata": {},
   "outputs": [],
   "source": [
    "BATCH_SIZE = 128\n",
    "EPOCHS = 2\n",
    "NORMALISE_DATA = True\n",
    "STEP_SIZE = 3\n",
    "SEQ_END = 1800\n",
    "\n",
    "INPUT_DIM = len(BASIC_TRAINING_COLS)    # input dimension\n",
    "HIDDEN_DIM = 25  # hidden layer dimension\n",
    "N_LAYERS = 4     # number of hidden layers\n",
    "OUTPUT_DIM = 3   # output dimension\n",
    "DROPOUT = 0.5\n",
    "\n",
    "network_params = (INPUT_DIM, HIDDEN_DIM, OUTPUT_DIM, DROPOUT)"
   ]
  },
  {
   "cell_type": "markdown",
   "metadata": {},
   "source": [
    "## Read dataset and preprocess it"
   ]
  },
  {
   "cell_type": "code",
   "execution_count": 5,
   "metadata": {},
   "outputs": [
    {
     "name": "stderr",
     "output_type": "stream",
     "text": [
      "100%|██████████| 10/10 [00:00<00:00, 119.64it/s]\n",
      "100%|██████████| 10/10 [00:00<00:00, 115.99it/s]\n"
     ]
    }
   ],
   "source": [
    "train_trials = read_dataset(\"data/train_passive_trials.h5\", n_trials=10)\n",
    "val_trials = read_dataset(\"data/val_passive_trials.h5\", n_trials=10)"
   ]
  },
  {
   "cell_type": "markdown",
   "metadata": {},
   "source": [
    "## Define model, loss and optimizer"
   ]
  },
  {
   "cell_type": "markdown",
   "metadata": {},
   "source": [
    "## Train model and plot loss and accuracy"
   ]
  },
  {
   "cell_type": "code",
   "execution_count": 6,
   "metadata": {
    "scrolled": true
   },
   "outputs": [
    {
     "name": "stderr",
     "output_type": "stream",
     "text": [
      "100%|██████████| 10/10 [00:00<00:00, 597.68it/s]\n",
      "100%|██████████| 10/10 [00:00<00:00, 598.27it/s]\n",
      "Train_loss: ([1.07427418 1.06942928]) Train_acc: ([80. 60.]) Val_acc: ([20. 40.]): 100%|██████████| 2/2 [00:00<00:00,  3.91it/s]\n",
      "Train_loss: ([1.06175053 1.02226663]) Train_acc: ([40. 70.]) Val_acc: ([40. 20.]): 100%|██████████| 2/2 [00:00<00:00,  5.18it/s]\n",
      "Train_loss: ([1.05432892 1.04022336]) Train_acc: ([50. 40.]) Val_acc: ([30. 30.]): 100%|██████████| 2/2 [00:00<00:00,  5.12it/s]\n"
     ]
    }
   ],
   "source": [
    "stats_dfs = []\n",
    "loaders, scaler = prepare_dataset([train_trials, val_trials], \n",
    "                                  class_columns=[list(MASS_CLASS_COLS), list(FORCE_CLASS_COLS)], \n",
    "                                  multiclass=True,\n",
    "                                  batch_size=BATCH_SIZE, normalise_data=NORMALISE_DATA,\n",
    "                                  device=device)\n",
    "\n",
    "best_mass_model_overall = None\n",
    "best_mass_accuracy = 0.\n",
    "best_force_model_overall = None\n",
    "best_force_accuracy = 0.\n",
    "\n",
    "for seed in [0, 42, 72]:\n",
    "    df = pd.DataFrame()\n",
    "\n",
    "\n",
    "    model, error, optimizer = initialise_model(network_params, lr=0.01, seed=seed, device=device, arch=MultiBranchModel)\n",
    "    epoch_losses, epoch_accuracies, [best_mass_model, best_force_model] = training_loop(model, optimizer, \n",
    "                                                                                        error,\n",
    "                                                                                        loaders[0], loaders[1], \n",
    "                                                                                        EPOCHS, seq_end=SEQ_END,\n",
    "                                                                                        step_size=STEP_SIZE,\n",
    "                                                                                        multibranch=True)\n",
    "\n",
    "    train_accuracies = np.array(epoch_accuracies[0])\n",
    "    val_accuracies = np.array(epoch_accuracies[1])\n",
    "    \n",
    "    best_mass_model_overall, best_mass_accuracy = get_best_model_and_its_accuracy(best_mass_model,\n",
    "                                                                                  max(val_accuracies[:, 0]), \n",
    "                                                                                  best_mass_model_overall,\n",
    "                                                                                  best_mass_accuracy)\n",
    "\n",
    "    best_force_model_overall, best_force_accuracy = get_best_model_and_its_accuracy(best_force_model,\n",
    "                                                                                    max(val_accuracies[:, 1]), \n",
    "                                                                                    best_force_model_overall,\n",
    "                                                                                    best_force_accuracy)\n",
    "    \n",
    "    df[\"Epoch\"] = np.arange(EPOCHS)\n",
    "    df[\"Mass Loss\"] = epoch_losses[:, 0]\n",
    "    df[\"Force Loss\"] = epoch_losses[:, 1]\n",
    "    df[\"Mass Train Accuracy\"] = train_accuracies[:, 0]\n",
    "    df[\"Mass Val Accuracy\"] = val_accuracies[:, 0]\n",
    "    df[\"Force Train Accuracy\"] = train_accuracies[:, 1]\n",
    "    df[\"Force Val Accuracy\"] = val_accuracies[:,1]\n",
    "    df[\"seed\"] = str(seed)\n",
    "    stats_dfs.append(df)\n",
    "        \n",
    "stats = pd.concat(stats_dfs)\n",
    "stats.to_hdf(data_directory+\"stats.h5\", key=\"stats\")"
   ]
  },
  {
   "cell_type": "markdown",
   "metadata": {},
   "source": [
    "## Save model and scaler"
   ]
  },
  {
   "cell_type": "code",
   "execution_count": 7,
   "metadata": {},
   "outputs": [
    {
     "data": {
      "text/plain": [
       "(40.0, 40.0)"
      ]
     },
     "execution_count": 7,
     "metadata": {},
     "output_type": "execute_result"
    }
   ],
   "source": [
    "best_mass_accuracy, best_force_accuracy"
   ]
  },
  {
   "cell_type": "code",
   "execution_count": 8,
   "metadata": {},
   "outputs": [],
   "source": [
    "torch.save(best_mass_model_overall.state_dict(), \"models/passive_mass_dual_model.pt\")\n",
    "torch.save(best_force_model_overall.state_dict(), \"models/passive_force_dual_model.pt\")"
   ]
  },
  {
   "cell_type": "code",
   "execution_count": 9,
   "metadata": {},
   "outputs": [
    {
     "data": {
      "text/plain": [
       "['scalers/passive_dual_scaler.sk']"
      ]
     },
     "execution_count": 9,
     "metadata": {},
     "output_type": "execute_result"
    }
   ],
   "source": [
    "joblib.dump(scaler, \"scalers/passive_dual_scaler.sk\")"
   ]
  }
 ],
 "metadata": {
  "kernelspec": {
   "display_name": "Python 3",
   "language": "python",
   "name": "python3"
  },
  "language_info": {
   "codemirror_mode": {
    "name": "ipython",
    "version": 3
   },
   "file_extension": ".py",
   "mimetype": "text/x-python",
   "name": "python",
   "nbconvert_exporter": "python",
   "pygments_lexer": "ipython3",
   "version": "3.5.6"
  }
 },
 "nbformat": 4,
 "nbformat_minor": 2
}
