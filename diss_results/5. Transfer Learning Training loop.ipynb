{
 "cells": [
  {
   "cell_type": "code",
   "execution_count": 1,
   "metadata": {},
   "outputs": [],
   "source": [
    "import pandas as pd\n",
    "import numpy as np\n",
    "import torch\n",
    "import torch.utils.data\n",
    "import torch.nn as nn\n",
    "from torch.autograd import Variable\n",
    "from sklearn.model_selection import train_test_split\n",
    "import joblib\n",
    "from tqdm import tqdm\n",
    "import matplotlib.pyplot as plt"
   ]
  },
  {
   "cell_type": "code",
   "execution_count": 2,
   "metadata": {},
   "outputs": [
    {
     "name": "stdout",
     "output_type": "stream",
     "text": [
      "cuda:0\n"
     ]
    }
   ],
   "source": [
    "from isaac.utils import get_cuda_device_if_available, create_directory\n",
    "device = get_cuda_device_if_available()\n",
    "print(device)\n",
    "\n",
    "data_directory = \"transfer_learning_plots/\"\n",
    "create_directory(data_directory)\n",
    "create_directory(\"models\")\n",
    "create_directory(\"scalers\")"
   ]
  },
  {
   "cell_type": "code",
   "execution_count": 3,
   "metadata": {},
   "outputs": [],
   "source": [
    "from isaac.dataset import read_dataset, prepare_dataset\n",
    "from isaac.utils import plot_confusion_matrix\n",
    "from isaac.models import ComplexRNNModel\n",
    "from isaac.constants import *\n",
    "from isaac.training import evaluate, training_loop\n",
    "from isaac.sanity import class_proportions\n",
    "from isaac.evaluation import get_best_model_and_its_accuracy"
   ]
  },
  {
   "cell_type": "code",
   "execution_count": 4,
   "metadata": {},
   "outputs": [],
   "source": [
    "BATCH_SIZE = 128\n",
    "EPOCHS = 2\n",
    "NORMALISE_DATA = True\n",
    "SEQ_END = 1800"
   ]
  },
  {
   "cell_type": "markdown",
   "metadata": {},
   "source": [
    "# Define common model, loss and optimizer"
   ]
  },
  {
   "cell_type": "code",
   "execution_count": 5,
   "metadata": {
    "scrolled": true
   },
   "outputs": [
    {
     "name": "stderr",
     "output_type": "stream",
     "text": [
      "100%|██████████| 3500/3500 [00:37<00:00, 92.50it/s]\n",
      "100%|██████████| 900/900 [00:09<00:00, 106.90it/s]\n"
     ]
    }
   ],
   "source": [
    "ALL_COLS = BASIC_TRAINING_COLS + PUCK_SQUARE_DISTANCES + PUCK_ANGLE_FEATURES\n",
    "\n",
    "train_trials = read_dataset(\"data/train_passive_trials.h5\", n_trials=3500, cols=ALL_COLS)\n",
    "val_trials = read_dataset(\"data/val_passive_trials.h5\", n_trials=900, cols=ALL_COLS)"
   ]
  },
  {
   "cell_type": "code",
   "execution_count": 6,
   "metadata": {},
   "outputs": [],
   "source": [
    "question_type = \"mass\""
   ]
  },
  {
   "cell_type": "code",
   "execution_count": 7,
   "metadata": {},
   "outputs": [],
   "source": [
    "if question_type == \"mass\":    \n",
    "    class_columns = MASS_CLASS_COLS\n",
    "    TR_COLS = BASIC_TRAINING_COLS + PUCK_SQUARE_DISTANCES + PUCK_ANGLE_FEATURES\n",
    "    STEP_SIZE = 3\n",
    "else:\n",
    "    class_columns = FORCE_CLASS_COLS\n",
    "    TR_COLS = BASIC_TRAINING_COLS\n",
    "    STEP_SIZE = 4"
   ]
  },
  {
   "cell_type": "code",
   "execution_count": 8,
   "metadata": {},
   "outputs": [],
   "source": [
    "INPUT_DIM = len(TR_COLS)    # input dimension\n",
    "HIDDEN_DIM = 25  # hidden layer dimension\n",
    "N_LAYERS = 4     # number of hidden layers\n",
    "OUTPUT_DIM = 3   # output dimension\n",
    "DROPOUT = 0.5\n",
    "\n",
    "network_params = (INPUT_DIM, HIDDEN_DIM, N_LAYERS, OUTPUT_DIM, DROPOUT)"
   ]
  },
  {
   "cell_type": "markdown",
   "metadata": {},
   "source": [
    "# TRAINING"
   ]
  },
  {
   "cell_type": "code",
   "execution_count": 9,
   "metadata": {},
   "outputs": [],
   "source": [
    "class TLModel(nn.Module):\n",
    "    def __init__(self, input_dim, hidden_dim, n_layers, output_dim, dropout=0., pretrained_layer=None, cell_type=nn.GRU):\n",
    "        super(TLModel, self).__init__()\n",
    "        self.rec_layer = pretrained_layer\n",
    "        self.fc = nn.Linear(hidden_dim, output_dim)\n",
    "    \n",
    "    def forward(self, x):\n",
    "        out, _ = self.rec_layer(x)\n",
    "        out = self.fc(out[:, -1, :]) \n",
    "        return out\n",
    "    \n",
    "def initialise_model(question_type, network_params, lr=0.01, seed=0, device=torch.device(\"cpu\")):\n",
    "    if question_type == \"mass\":\n",
    "        model_type = \"force\"\n",
    "    else:\n",
    "        model_type = \"mass\"\n",
    "        \n",
    "    np.random.seed(seed)\n",
    "    torch.manual_seed(seed)\n",
    "    torch.backends.cudnn.deterministic = True\n",
    "    torch.backends.cudnn.benchmark = False\n",
    "    \n",
    "    network_params = (len(TR_COLS), HIDDEN_DIM, N_LAYERS, OUTPUT_DIM, DROPOUT)\n",
    "    model_path = \"models/passive_\"+model_type+\"_model.pt\"\n",
    "    pretrained_model = ComplexRNNModel(*network_params).to(device=device)\n",
    "    pretrained_model.load_state_dict(torch.load(model_path))\n",
    "\n",
    "    tl_model = TLModel(*network_params, pretrained_layer=pretrained_model.rec_layer).to(device=device)\n",
    "    optimizer = torch.optim.Adam(\n",
    "        [\n",
    "            {\"params\": list(tl_model.rec_layer.parameters())[:8], \"lr\": 0.0},\n",
    "            {\"params\": list(tl_model.rec_layer.parameters())[8:], \"lr\": 0.01},\n",
    "            {\"params\": tl_model.fc.parameters(), \"lr\": 0.01},\n",
    "        ])\n",
    "\n",
    "    error = nn.CrossEntropyLoss()\n",
    "    \n",
    "    return tl_model, error, optimizer"
   ]
  },
  {
   "cell_type": "code",
   "execution_count": 10,
   "metadata": {},
   "outputs": [
    {
     "name": "stderr",
     "output_type": "stream",
     "text": [
      "/home/hector/miniconda3/envs/diss/lib/python3.5/site-packages/sklearn/base.py:306: UserWarning: Trying to unpickle estimator StandardScaler from version 0.21.2 when using version 0.21.3. This might lead to breaking code or invalid results. Use at your own risk.\n",
      "  UserWarning)\n",
      "100%|██████████| 3500/3500 [00:03<00:00, 880.66it/s]\n",
      "100%|██████████| 900/900 [00:00<00:00, 929.28it/s]\n",
      "Train_loss: ([1.09872598]) Train_acc: (34.714285714285715) Val_acc: ([34.77777777777778]): 100%|██████████| 2/2 [00:13<00:00,  6.94s/it]\n",
      "Train_loss: ([1.09712379]) Train_acc: (35.857142857142854) Val_acc: ([35.333333333333336]): 100%|██████████| 2/2 [00:15<00:00,  7.56s/it]\n",
      "Train_loss: ([1.09814986]) Train_acc: (37.25714285714286) Val_acc: ([34.888888888888886]): 100%|██████████| 2/2 [00:14<00:00,  7.34s/it]\n"
     ]
    }
   ],
   "source": [
    "stats_dfs = []\n",
    "\n",
    "\n",
    "if question_type == \"mass\":\n",
    "    scaler = joblib.load(\"scalers/passive_force_scaler.sk\")\n",
    "else:\n",
    "    scaler = joblib.load(\"scalers/passive_mass_scaler.sk\")\n",
    "    \n",
    "loaders, scaler = prepare_dataset([train_trials, val_trials], class_columns=class_columns, \n",
    "                                  training_columns=TR_COLS, batch_size=BATCH_SIZE, \n",
    "                                  normalise_data=NORMALISE_DATA, scaler=scaler, device=device)\n",
    "best_model_overall = None\n",
    "best_accuracy = 0.\n",
    "\n",
    "for seed in [0, 42, 72]:\n",
    "    df = pd.DataFrame(columns=[\"seed\", \"Epoch\", \"Loss\"])\n",
    "\n",
    "\n",
    "    model, error, optimizer = initialise_model(question_type, network_params, lr=0.01, seed=seed, device=device)\n",
    "    epoch_losses, epoch_accuracies, best_model = training_loop(model, optimizer, error, loaders[0], \n",
    "                                                               loaders[1], EPOCHS, seq_end=SEQ_END, \n",
    "                                                               step_size=STEP_SIZE)\n",
    "\n",
    "    best_model_overall, best_accuracy = get_best_model_and_its_accuracy(best_model, max(epoch_accuracies[1]),\n",
    "                                                                        best_model_overall, best_accuracy)\n",
    "    \n",
    "    df[\"Epoch\"] = np.arange(EPOCHS)\n",
    "    df[\"Loss\"] = epoch_losses\n",
    "    df[\"Train Accuracy\"] = epoch_accuracies[0]\n",
    "    df[\"Val Accuracy\"] = epoch_accuracies[1]\n",
    "    df[\"seed\"] = str(seed)\n",
    "    stats_dfs.append(df)\n",
    "        \n",
    "stats = pd.concat(stats_dfs)"
   ]
  },
  {
   "cell_type": "code",
   "execution_count": 11,
   "metadata": {},
   "outputs": [],
   "source": [
    "stats.to_hdf(data_directory+question_type+\"_stats.h5\", key=\"stats\")"
   ]
  },
  {
   "cell_type": "markdown",
   "metadata": {},
   "source": [
    "## Save model and scaler"
   ]
  },
  {
   "cell_type": "code",
   "execution_count": 12,
   "metadata": {},
   "outputs": [
    {
     "data": {
      "text/plain": [
       "['scalers/tl_mass_scaler.sk']"
      ]
     },
     "execution_count": 12,
     "metadata": {},
     "output_type": "execute_result"
    }
   ],
   "source": [
    "torch.save(best_model_overall.state_dict(), \"models/tl_\"+question_type+\"_model.pt\")\n",
    "joblib.dump(scaler, \"scalers/tl_\"+question_type+\"_scaler.sk\")"
   ]
  }
 ],
 "metadata": {
  "kernelspec": {
   "display_name": "Python 3",
   "language": "python",
   "name": "python3"
  },
  "language_info": {
   "codemirror_mode": {
    "name": "ipython",
    "version": 3
   },
   "file_extension": ".py",
   "mimetype": "text/x-python",
   "name": "python",
   "nbconvert_exporter": "python",
   "pygments_lexer": "ipython3",
   "version": "3.5.6"
  }
 },
 "nbformat": 4,
 "nbformat_minor": 2
}
