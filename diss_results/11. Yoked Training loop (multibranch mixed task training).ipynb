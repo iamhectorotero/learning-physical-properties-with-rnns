{
 "cells": [
  {
   "cell_type": "code",
   "execution_count": 1,
   "metadata": {},
   "outputs": [],
   "source": [
    "import pandas as pd\n",
    "import numpy as np\n",
    "import torch\n",
    "import torch.utils.data\n",
    "import torch.nn as nn\n",
    "from torch.autograd import Variable\n",
    "from sklearn.model_selection import train_test_split\n",
    "import joblib\n",
    "from tqdm import tqdm\n",
    "import matplotlib.pyplot as plt\n",
    "from copy import deepcopy"
   ]
  },
  {
   "cell_type": "code",
   "execution_count": 2,
   "metadata": {},
   "outputs": [
    {
     "name": "stdout",
     "output_type": "stream",
     "text": [
      "cuda:0\n"
     ]
    }
   ],
   "source": [
    "from isaac.utils import get_cuda_device_if_available, create_directory\n",
    "device = get_cuda_device_if_available()\n",
    "print(device)\n",
    "\n",
    "directory = \"yoked_mixed_plots/\"\n",
    "create_directory(directory)"
   ]
  },
  {
   "cell_type": "code",
   "execution_count": 22,
   "metadata": {},
   "outputs": [
    {
     "name": "stdout",
     "output_type": "stream",
     "text": [
      "pygame 1.9.6\n",
      "Hello from the pygame community. https://www.pygame.org/contribute.html\n"
     ]
    }
   ],
   "source": [
    "from isaac.dataset import read_dataset, prepare_dataset\n",
    "from isaac.utils import plot_confusion_matrix\n",
    "from isaac.constants import BASIC_TRAINING_COLS, FORCE_CLASS_COLS, MASS_CLASS_COLS, MOUSE_CONTROL_COLS\n",
    "from isaac.training import training_loop, evaluate_saved_model\n",
    "from isaac.models import MultiBranchModel, initialise_model\n",
    "from isaac.visualization import plot_confusion_matrix_given_predicted_and_test_loader"
   ]
  },
  {
   "cell_type": "code",
   "execution_count": 4,
   "metadata": {},
   "outputs": [],
   "source": [
    "BATCH_SIZE = 128\n",
    "EPOCHS = 2\n",
    "NORMALISE_DATA = True\n",
    "STEP_SIZE = 3\n",
    "SEQ_END = 1800\n",
    "\n",
    "INPUT_DIM = len(BASIC_TRAINING_COLS) + len(MOUSE_CONTROL_COLS)    # input dimension\n",
    "HIDDEN_DIM = 25  # hidden layer dimension\n",
    "N_LAYERS = 4     # number of hidden layers\n",
    "OUTPUT_DIM = 3   # output dimension\n",
    "DROPOUT = 0.5\n",
    "\n",
    "network_params = (INPUT_DIM, HIDDEN_DIM, OUTPUT_DIM, DROPOUT)"
   ]
  },
  {
   "cell_type": "code",
   "execution_count": 5,
   "metadata": {},
   "outputs": [],
   "source": [
    "question_type = \"force\""
   ]
  },
  {
   "cell_type": "markdown",
   "metadata": {},
   "source": [
    "## Read dataset and preprocess it"
   ]
  },
  {
   "cell_type": "code",
   "execution_count": 6,
   "metadata": {},
   "outputs": [
    {
     "name": "stderr",
     "output_type": "stream",
     "text": [
      "100%|██████████| 219/219 [00:01<00:00, 130.84it/s]\n",
      "100%|██████████| 399/399 [00:07<00:00, 55.72it/s]\n",
      "100%|██████████| 399/399 [00:07<00:00, 55.81it/s]\n"
     ]
    },
    {
     "data": {
      "text/plain": [
       "(762, 127, 128)"
      ]
     },
     "execution_count": 6,
     "metadata": {},
     "output_type": "execute_result"
    }
   ],
   "source": [
    "exp1_trials = read_dataset(\"data/yoked_trials_exp1.h5\")\n",
    "exp2_mass_trials = read_dataset(\"data/mass_trials_exp2.h5\")\n",
    "exp2_force_trials = read_dataset(\"data/force_trials_exp2.h5\")\n",
    "\n",
    "exp1_trials = [trial[:1801] for trial in exp1_trials]\n",
    "all_trials = exp1_trials + exp2_mass_trials + exp2_force_trials\n",
    "\n",
    "train_indices, val_indices = train_test_split(np.arange(len(all_trials)), test_size=0.25)\n",
    "val_indices, test_indices = train_test_split(val_indices, test_size=0.5)\n",
    "\n",
    "train_trials = [all_trials[idx] for idx in train_indices]\n",
    "val_trials = [all_trials[idx] for idx in val_indices]\n",
    "test_trials = [all_trials[idx] for idx in test_indices]\n",
    "\n",
    "len(train_trials), len(val_trials), len(test_indices)"
   ]
  },
  {
   "cell_type": "code",
   "execution_count": 7,
   "metadata": {},
   "outputs": [
    {
     "name": "stderr",
     "output_type": "stream",
     "text": [
      "100%|██████████| 2/2 [00:00<00:00, 26.85it/s]\n"
     ]
    }
   ],
   "source": [
    "passive_trials = read_dataset(\"data/train_passive_trials.h5\", n_trials=2)#n_trials=10-len(train_trials))\n",
    "passive_trials = [trial[:1801] for trial in passive_trials]"
   ]
  },
  {
   "cell_type": "code",
   "execution_count": 8,
   "metadata": {},
   "outputs": [
    {
     "name": "stderr",
     "output_type": "stream",
     "text": [
      "100%|██████████| 2/2 [00:00<00:00, 20.12it/s]\n"
     ]
    }
   ],
   "source": [
    "for trial in tqdm(passive_trials):\n",
    "    trial[list(MOUSE_CONTROL_COLS)] = False\n",
    "    trial[\"C_none\"] = True"
   ]
  },
  {
   "cell_type": "code",
   "execution_count": 9,
   "metadata": {},
   "outputs": [],
   "source": [
    "train_trials += passive_trials"
   ]
  },
  {
   "cell_type": "markdown",
   "metadata": {},
   "source": [
    "## Define model, loss and optimizer"
   ]
  },
  {
   "cell_type": "markdown",
   "metadata": {},
   "source": [
    "## Train model and plot loss and accuracy"
   ]
  },
  {
   "cell_type": "code",
   "execution_count": 10,
   "metadata": {},
   "outputs": [],
   "source": [
    "def get_best_model_and_its_accuracy(accuracies, model, best_model, best_accuracy):\n",
    "    model_accuracy = max(accuracies)\n",
    "    print(model_accuracy)\n",
    "    if model_accuracy > best_accuracy:\n",
    "        return deepcopy(model), model_accuracy\n",
    "\n",
    "    return best_model, best_accuracy"
   ]
  },
  {
   "cell_type": "code",
   "execution_count": 11,
   "metadata": {},
   "outputs": [],
   "source": [
    "TR_COLS = list(BASIC_TRAINING_COLS) + list(MOUSE_CONTROL_COLS)"
   ]
  },
  {
   "cell_type": "code",
   "execution_count": 12,
   "metadata": {
    "scrolled": true
   },
   "outputs": [
    {
     "name": "stderr",
     "output_type": "stream",
     "text": [
      "100%|██████████| 764/764 [00:02<00:00, 296.13it/s]\n",
      "100%|██████████| 127/127 [00:00<00:00, 295.51it/s]\n",
      "Train_loss: ([1.09509605 1.08911725]) Train_acc: ([38.48167539 42.93193717]) Val_acc: ([39.37007874 37.79527559]): 100%|██████████| 2/2 [00:03<00:00,  1.89s/it]\n",
      "  0%|          | 0/2 [00:00<?, ?it/s]"
     ]
    },
    {
     "name": "stdout",
     "output_type": "stream",
     "text": [
      "39.37007874015748\n",
      "42.51968503937008\n"
     ]
    },
    {
     "name": "stderr",
     "output_type": "stream",
     "text": [
      "Train_loss: ([1.09787889 1.09327106]) Train_acc: ([37.30366492 40.44502618]) Val_acc: ([37.79527559 41.73228346]): 100%|██████████| 2/2 [00:03<00:00,  1.87s/it]\n",
      "  0%|          | 0/2 [00:00<?, ?it/s]"
     ]
    },
    {
     "name": "stdout",
     "output_type": "stream",
     "text": [
      "37.79527559055118\n",
      "46.45669291338583\n"
     ]
    },
    {
     "name": "stderr",
     "output_type": "stream",
     "text": [
      "Train_loss: ([1.09397203 1.09188114]) Train_acc: ([40.57591623 42.01570681]) Val_acc: ([34.64566929 41.73228346]): 100%|██████████| 2/2 [00:03<00:00,  1.87s/it]"
     ]
    },
    {
     "name": "stdout",
     "output_type": "stream",
     "text": [
      "35.43307086614173\n",
      "44.09448818897638\n"
     ]
    },
    {
     "name": "stderr",
     "output_type": "stream",
     "text": [
      "\n"
     ]
    }
   ],
   "source": [
    "stats_dfs = []\n",
    "\n",
    "loaders, scaler = prepare_dataset([train_trials, val_trials], \n",
    "                                  class_columns=[list(MASS_CLASS_COLS), list(FORCE_CLASS_COLS)], \n",
    "                                  multiclass=True, training_columns=TR_COLS, categorical_columns=MOUSE_CONTROL_COLS,\n",
    "                                  batch_size=BATCH_SIZE, normalise_data=NORMALISE_DATA, device=device)\n",
    "\n",
    "best_mass_model_overall = None\n",
    "best_mass_accuracy = 0.\n",
    "best_force_model_overall = None\n",
    "best_force_accuracy = 0.\n",
    "\n",
    "for seed in [0, 42, 72]:\n",
    "    df = pd.DataFrame()\n",
    "\n",
    "\n",
    "    model, error, optimizer = initialise_model(network_params, lr=0.01, seed=seed, device=device, arch=MultiBranchModel)\n",
    "    epoch_losses, epoch_accuracies, [best_mass_model, best_force_model] = training_loop(model, optimizer, \n",
    "                                                                                        error,\n",
    "                                                                                        loaders[0], loaders[1], \n",
    "                                                                                        EPOCHS, seq_end=SEQ_END,\n",
    "                                                                                        step_size=STEP_SIZE,\n",
    "                                                                                        multibranch=True)\n",
    "\n",
    "    train_accuracies = np.array(epoch_accuracies[0])\n",
    "    val_accuracies = np.array(epoch_accuracies[1])\n",
    "    \n",
    "    best_mass_model_overall, best_mass_accuracy = get_best_model_and_its_accuracy(val_accuracies[:, 0], \n",
    "                                                                                  best_mass_model, \n",
    "                                                                                  best_mass_model_overall,\n",
    "                                                                                  best_mass_accuracy)\n",
    "\n",
    "    best_force_model_overall, best_force_accuracy = get_best_model_and_its_accuracy(val_accuracies[:, 1], \n",
    "                                                                                    best_force_model,\n",
    "                                                                                    best_force_model_overall,\n",
    "                                                                                    best_force_accuracy)\n",
    "\n",
    "    df[\"Epoch\"] = np.arange(EPOCHS)\n",
    "    df[\"Mass Loss\"] = epoch_losses[:, 0]\n",
    "    df[\"Force Loss\"] = epoch_losses[:, 1]\n",
    "    df[\"Mass Train Accuracy\"] = train_accuracies[:, 0]\n",
    "    df[\"Mass Val Accuracy\"] = val_accuracies[:, 0]\n",
    "    df[\"Force Train Accuracy\"] = train_accuracies[:, 1]\n",
    "    df[\"Force Val Accuracy\"] = val_accuracies[:,1]\n",
    "    df[\"seed\"] = str(seed)\n",
    "    stats_dfs.append(df)\n",
    "        \n",
    "stats = pd.concat(stats_dfs)\n",
    "stats.to_hdf(directory+\"stats.h5\", key=\"stats\")"
   ]
  },
  {
   "cell_type": "code",
   "execution_count": 13,
   "metadata": {},
   "outputs": [
    {
     "data": {
      "text/plain": [
       "(39.37007874015748, 46.45669291338583)"
      ]
     },
     "execution_count": 13,
     "metadata": {},
     "output_type": "execute_result"
    }
   ],
   "source": [
    "best_mass_accuracy, best_force_accuracy"
   ]
  },
  {
   "cell_type": "markdown",
   "metadata": {},
   "source": [
    "## Save model and scaler"
   ]
  },
  {
   "cell_type": "code",
   "execution_count": 14,
   "metadata": {},
   "outputs": [],
   "source": [
    "create_directory(\"models\")\n",
    "torch.save(best_mass_model_overall.state_dict(), \"models/yoked_mixed_mass_dual_model.pt\")\n",
    "torch.save(best_force_model_overall.state_dict(), \"models/yoked_mixed_force_dual_model.pt\")"
   ]
  },
  {
   "cell_type": "code",
   "execution_count": 15,
   "metadata": {},
   "outputs": [
    {
     "data": {
      "text/plain": [
       "['scalers/yoked_mixed_dual_scaler.sk']"
      ]
     },
     "execution_count": 15,
     "metadata": {},
     "output_type": "execute_result"
    }
   ],
   "source": [
    "create_directory(\"scalers\")\n",
    "joblib.dump(scaler, \"scalers/yoked_mixed_dual_scaler.sk\")"
   ]
  },
  {
   "cell_type": "markdown",
   "metadata": {},
   "source": [
    "# Evaluating models on test data and CMs"
   ]
  },
  {
   "cell_type": "code",
   "execution_count": 24,
   "metadata": {},
   "outputs": [
    {
     "name": "stderr",
     "output_type": "stream",
     "text": [
      "100%|██████████| 128/128 [00:00<00:00, 283.69it/s]\n"
     ]
    },
    {
     "name": "stdout",
     "output_type": "stream",
     "text": [
      "Model's accuracy on test set: [30.46875 42.96875]\n"
     ]
    },
    {
     "data": {
      "image/png": "[encoded data removed]",
      "text/plain": [
       "<Figure size 576x576 with 1 Axes>"
      ]
     },
     "metadata": {},
     "output_type": "display_data"
    }
   ],
   "source": [
    "model_path = \"models/yoked_mixed_mass_dual_model.pt\"\n",
    "scaler_path = \"scalers/yoked_mixed_dual_scaler.sk\"\n",
    "question_type = \"mass\"\n",
    "\n",
    "class_columns = [list(MASS_CLASS_COLS), list(FORCE_CLASS_COLS)]\n",
    "\n",
    "accuracy, predicted, test_loader = evaluate_saved_model(model_path, network_params, None, trials=test_trials,\n",
    "                                                       training_columns=TR_COLS, class_columns=class_columns,\n",
    "                                                       scaler_path=scaler_path, arch=MultiBranchModel, multiclass=True,\n",
    "                                                       device=device, return_test_loader=True, seq_start=None,\n",
    "                                                       seq_end=1800, step_size=3, categorical_columns=MOUSE_CONTROL_COLS)\n",
    "\n",
    "multiclass_index = 0\n",
    "mass_accuracy = accuracy[multiclass_index]\n",
    "mass_predicted = predicted[:, multiclass_index]\n",
    "\n",
    "\n",
    "plot_path = directory+\"mass_cm.pdf\"\n",
    "ax = plot_confusion_matrix_given_predicted_and_test_loader(mass_predicted, test_loader, MASS_CLASS_COLS, \n",
    "                                                          save_plot_path=plot_path, multiclass_index=multiclass_index)"
   ]
  },
  {
   "cell_type": "code",
   "execution_count": 25,
   "metadata": {},
   "outputs": [
    {
     "name": "stderr",
     "output_type": "stream",
     "text": [
      "100%|██████████| 128/128 [00:00<00:00, 274.48it/s]\n"
     ]
    },
    {
     "name": "stdout",
     "output_type": "stream",
     "text": [
      "Model's accuracy on test set: [30.46875 28.125  ]\n"
     ]
    },
    {
     "data": {
      "image/png": "[encoded data removed]",
      "text/plain": [
       "<Figure size 576x576 with 1 Axes>"
      ]
     },
     "metadata": {},
     "output_type": "display_data"
    }
   ],
   "source": [
    "model_path = \"models/yoked_mixed_force_dual_model.pt\"\n",
    "scaler_path = \"scalers/yoked_mixed_dual_scaler.sk\"\n",
    "question_type = \"force\"\n",
    "\n",
    "class_columns = [list(MASS_CLASS_COLS), list(FORCE_CLASS_COLS)]\n",
    "\n",
    "accuracy, predicted, test_loader = evaluate_saved_model(model_path, network_params, None, trials=test_trials,\n",
    "                                                       training_columns=TR_COLS, class_columns=class_columns,\n",
    "                                                       scaler_path=scaler_path, arch=MultiBranchModel, multiclass=True,\n",
    "                                                       device=device, return_test_loader=True, seq_start=None,\n",
    "                                                       seq_end=1800, step_size=3, categorical_columns=MOUSE_CONTROL_COLS)\n",
    "\n",
    "multiclass_index = 1\n",
    "mass_accuracy = accuracy[multiclass_index]\n",
    "mass_predicted = predicted[:, multiclass_index]\n",
    "\n",
    "\n",
    "plot_path = directory+\"force_cm.pdf\"\n",
    "ax = plot_confusion_matrix_given_predicted_and_test_loader(mass_predicted, test_loader, FORCE_CLASS_COLS, \n",
    "                                                          save_plot_path=plot_path, multiclass_index=multiclass_index)"
   ]
  }
 ],
 "metadata": {
  "kernelspec": {
   "display_name": "Python 3",
   "language": "python",
   "name": "python3"
  },
  "language_info": {
   "codemirror_mode": {
    "name": "ipython",
    "version": 3
   },
   "file_extension": ".py",
   "mimetype": "text/x-python",
   "name": "python",
   "nbconvert_exporter": "python",
   "pygments_lexer": "ipython3",
   "version": "3.5.6"
  }
 },
 "nbformat": 4,
 "nbformat_minor": 2
}
