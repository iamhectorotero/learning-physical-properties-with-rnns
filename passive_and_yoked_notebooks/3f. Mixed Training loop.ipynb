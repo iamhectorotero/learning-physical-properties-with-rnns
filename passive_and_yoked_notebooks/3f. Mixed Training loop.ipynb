{
 "cells": [
  {
   "cell_type": "code",
   "execution_count": 1,
   "metadata": {},
   "outputs": [],
   "source": [
    "import pandas as pd\n",
    "import numpy as np\n",
    "import torch\n",
    "import torch.utils.data\n",
    "import torch.nn as nn\n",
    "from torch.autograd import Variable\n",
    "import joblib\n",
    "from tqdm import tqdm\n",
    "import matplotlib.pyplot as plt"
   ]
  },
  {
   "cell_type": "code",
   "execution_count": 2,
   "metadata": {},
   "outputs": [
    {
     "data": {
      "text/plain": [
       "True"
      ]
     },
     "execution_count": 2,
     "metadata": {},
     "output_type": "execute_result"
    }
   ],
   "source": [
    "torch.cuda.is_available()"
   ]
  },
  {
   "cell_type": "code",
   "execution_count": 3,
   "metadata": {},
   "outputs": [],
   "source": [
    "from isaac.dataset import read_dataset, prepare_dataset, sample_subsequences, split_in_subsequences\n",
    "from isaac.models import ComplexRNNModel, initialise_model\n",
    "from isaac.constants import *\n",
    "from isaac.training import evaluate, training_loop, evaluate_saved_model\n",
    "from isaac.sanity import class_proportions"
   ]
  },
  {
   "cell_type": "code",
   "execution_count": 30,
   "metadata": {},
   "outputs": [],
   "source": [
    "BATCH_SIZE = 350\n",
    "EPOCHS = 60\n",
    "NORMALISE_DATA = True\n",
    "STEP_SIZE = 2\n",
    "SEQ_END = 1800"
   ]
  },
  {
   "cell_type": "code",
   "execution_count": 5,
   "metadata": {},
   "outputs": [],
   "source": [
    "TR_COLS = ALT_BASIC_TRAINING_COLS + MOUSE_SPEED_AND_ANGLE + MOUSE_COLS "
   ]
  },
  {
   "cell_type": "markdown",
   "metadata": {},
   "source": [
    "# Define common model, loss and optimizer"
   ]
  },
  {
   "cell_type": "code",
   "execution_count": 6,
   "metadata": {},
   "outputs": [],
   "source": [
    "INPUT_DIM = len(TR_COLS)    # input dimension\n",
    "HIDDEN_DIM = 25  # hidden layer dimension\n",
    "N_LAYERS = 4     # number of hidden layers\n",
    "OUTPUT_DIM = 3   # output dimension\n",
    "DROPOUT = 0.5\n",
    "\n",
    "network_dims = (INPUT_DIM, HIDDEN_DIM, N_LAYERS, OUTPUT_DIM)"
   ]
  },
  {
   "cell_type": "code",
   "execution_count": 7,
   "metadata": {
    "scrolled": true
   },
   "outputs": [
    {
     "name": "stderr",
     "output_type": "stream",
     "text": [
      "100%|██████████| 143/143 [00:01<00:00, 102.34it/s]\n",
      "100%|██████████| 399/399 [00:06<00:00, 58.98it/s]\n",
      "100%|██████████| 399/399 [00:06<00:00, 58.35it/s]\n"
     ]
    }
   ],
   "source": [
    "exp1_trials = read_dataset(\"data/yoked_trials_exp1.h5\")\n",
    "exp2_mass_trials = read_dataset(\"data/mass_trials_exp2.h5\")\n",
    "exp2_force_trials = read_dataset(\"data/force_trials_exp2.h5\")\n",
    "\n",
    "first_half = [trial[:1801] for trial in exp1_trials]\n",
    "# second_half = [trial[-1801:] for trial in exp1_trials]"
   ]
  },
  {
   "cell_type": "code",
   "execution_count": 8,
   "metadata": {},
   "outputs": [],
   "source": [
    "yoked_trials = first_half + exp2_mass_trials + exp2_force_trials"
   ]
  },
  {
   "cell_type": "code",
   "execution_count": 9,
   "metadata": {},
   "outputs": [
    {
     "name": "stderr",
     "output_type": "stream",
     "text": [
      "  0%|          | 0/941 [00:00<?, ?it/s]/home/hector/miniconda3/envs/diss/lib/python3.5/site-packages/pandas/core/generic.py:4405: SettingWithCopyWarning: \n",
      "A value is trying to be set on a copy of a slice from a DataFrame.\n",
      "Try using .loc[row_indexer,col_indexer] = value instead\n",
      "\n",
      "See the caveats in the documentation: http://pandas.pydata.org/pandas-docs/stable/indexing.html#indexing-view-versus-copy\n",
      "  self[name] = value\n",
      "/home/hector/miniconda3/envs/diss/lib/python3.5/site-packages/ipykernel_launcher.py:4: SettingWithCopyWarning: \n",
      "A value is trying to be set on a copy of a slice from a DataFrame.\n",
      "Try using .loc[row_indexer,col_indexer] = value instead\n",
      "\n",
      "See the caveats in the documentation: http://pandas.pydata.org/pandas-docs/stable/indexing.html#indexing-view-versus-copy\n",
      "  after removing the cwd from sys.path.\n",
      "/home/hector/miniconda3/envs/diss/lib/python3.5/site-packages/ipykernel_launcher.py:5: SettingWithCopyWarning: \n",
      "A value is trying to be set on a copy of a slice from a DataFrame.\n",
      "Try using .loc[row_indexer,col_indexer] = value instead\n",
      "\n",
      "See the caveats in the documentation: http://pandas.pydata.org/pandas-docs/stable/indexing.html#indexing-view-versus-copy\n",
      "  \"\"\"\n",
      "/home/hector/miniconda3/envs/diss/lib/python3.5/site-packages/ipykernel_launcher.py:6: SettingWithCopyWarning: \n",
      "A value is trying to be set on a copy of a slice from a DataFrame.\n",
      "Try using .loc[row_indexer,col_indexer] = value instead\n",
      "\n",
      "See the caveats in the documentation: http://pandas.pydata.org/pandas-docs/stable/indexing.html#indexing-view-versus-copy\n",
      "  \n",
      "/home/hector/miniconda3/envs/diss/lib/python3.5/site-packages/ipykernel_launcher.py:7: SettingWithCopyWarning: \n",
      "A value is trying to be set on a copy of a slice from a DataFrame.\n",
      "Try using .loc[row_indexer,col_indexer] = value instead\n",
      "\n",
      "See the caveats in the documentation: http://pandas.pydata.org/pandas-docs/stable/indexing.html#indexing-view-versus-copy\n",
      "  import sys\n",
      "100%|██████████| 941/941 [00:35<00:00, 26.56it/s] \n"
     ]
    }
   ],
   "source": [
    "for trial in tqdm(yoked_trials):\n",
    "    trial.mouseX = trial.mouseX * (trial.idControlledObject != \"none\").astype(int)\n",
    "    trial.mouseY = trial.mouseY * (trial.idControlledObject != \"none\").astype(int)\n",
    "    trial[\"mouse.vx\"] *= (trial.idControlledObject != \"none\").astype(int)\n",
    "    trial[\"mouse.vy\"] *= (trial.idControlledObject != \"none\").astype(int)\n",
    "    trial[\"mouse.speed\"] *= (trial.idControlledObject != \"none\").astype(int)\n",
    "    trial[\"mouse.angle\"] *= (trial.idControlledObject != \"none\").astype(int)"
   ]
  },
  {
   "cell_type": "code",
   "execution_count": 47,
   "metadata": {},
   "outputs": [],
   "source": [
    "np.random.seed(0)\n",
    "indices = np.arange(len(yoked_trials))\n",
    "test_indices = np.random.choice(indices, 100, replace=False)\n",
    "val_indices = np.random.choice(list(set(indices) - set(test_indices)), 200, replace=False)\n",
    "train_indices = list(set(indices) - set(test_indices) - set(val_indices))\n",
    "\n",
    "train_trials = [yoked_trials[i] for i in train_indices]\n",
    "val_trials = [yoked_trials[i] for i in val_indices]\n",
    "test_trials = [yoked_trials[i] for i in test_indices]"
   ]
  },
  {
   "cell_type": "markdown",
   "metadata": {},
   "source": [
    "train_trials = exp2_force_trials\n",
    "val_trials = first_half + second_half\n",
    "test_trials = exp2_mass_trials"
   ]
  },
  {
   "cell_type": "markdown",
   "metadata": {},
   "source": [
    "len(train_trials)"
   ]
  },
  {
   "cell_type": "code",
   "execution_count": 48,
   "metadata": {},
   "outputs": [
    {
     "name": "stderr",
     "output_type": "stream",
     "text": [
      "\n",
      "  0%|          | 0/2000 [00:00<?, ?it/s]\u001b[A\n",
      "  1%|          | 12/2000 [00:00<00:17, 114.41it/s]\u001b[A\n",
      "  1%|          | 23/2000 [00:00<00:17, 113.01it/s]\u001b[A\n",
      "  2%|▏         | 35/2000 [00:00<00:17, 112.44it/s]\u001b[A\n",
      "  2%|▏         | 46/2000 [00:00<00:17, 110.64it/s]\u001b[A\n",
      "  3%|▎         | 57/2000 [00:00<00:18, 107.78it/s]\u001b[A\n",
      "  3%|▎         | 68/2000 [00:00<00:18, 107.29it/s]\u001b[A\n",
      "  4%|▍         | 79/2000 [00:00<00:17, 107.01it/s]\u001b[A\n",
      "  4%|▍         | 90/2000 [00:00<00:17, 106.61it/s]\u001b[A\n",
      "  5%|▌         | 101/2000 [00:00<00:17, 107.17it/s]\u001b[A\n",
      "  6%|▌         | 112/2000 [00:01<00:17, 107.22it/s]\u001b[A\n",
      "  6%|▌         | 123/2000 [00:01<00:17, 106.54it/s]\u001b[A\n",
      "  7%|▋         | 134/2000 [00:01<00:17, 104.84it/s]\u001b[A\n",
      "  7%|▋         | 145/2000 [00:01<00:18, 102.56it/s]\u001b[A\n",
      "  8%|▊         | 156/2000 [00:01<00:18, 102.29it/s]\u001b[A\n",
      "  8%|▊         | 167/2000 [00:01<00:17, 102.48it/s]\u001b[A\n",
      "  9%|▉         | 178/2000 [00:01<00:17, 101.76it/s]\u001b[A\n",
      "  9%|▉         | 189/2000 [00:01<00:17, 102.69it/s]\u001b[A\n",
      " 10%|█         | 200/2000 [00:01<00:17, 103.03it/s]\u001b[A\n",
      " 11%|█         | 211/2000 [00:02<00:17, 104.19it/s]\u001b[A\n",
      " 11%|█         | 222/2000 [00:02<00:19, 89.35it/s] \u001b[A\n",
      " 12%|█▏        | 234/2000 [00:02<00:18, 95.55it/s]\u001b[A\n",
      " 12%|█▏        | 246/2000 [00:02<00:17, 100.37it/s]\u001b[A\n",
      " 13%|█▎        | 258/2000 [00:02<00:16, 104.04it/s]\u001b[A\n",
      " 14%|█▎        | 270/2000 [00:02<00:16, 106.47it/s]\u001b[A\n",
      " 14%|█▍        | 281/2000 [00:02<00:16, 106.80it/s]\u001b[A\n",
      " 15%|█▍        | 292/2000 [00:02<00:15, 106.75it/s]\u001b[A\n",
      " 15%|█▌        | 303/2000 [00:02<00:15, 106.88it/s]\u001b[A\n",
      " 16%|█▌        | 314/2000 [00:03<00:15, 106.90it/s]\u001b[A\n",
      " 16%|█▋        | 325/2000 [00:03<00:15, 106.08it/s]\u001b[A\n",
      " 17%|█▋        | 337/2000 [00:03<00:15, 107.57it/s]\u001b[A\n",
      " 17%|█▋        | 348/2000 [00:03<00:15, 106.95it/s]\u001b[A\n",
      " 18%|█▊        | 359/2000 [00:03<00:15, 105.05it/s]\u001b[A\n",
      " 18%|█▊        | 370/2000 [00:03<00:15, 104.77it/s]\u001b[A\n",
      " 19%|█▉        | 381/2000 [00:03<00:15, 104.74it/s]\u001b[A\n",
      " 20%|█▉        | 392/2000 [00:03<00:15, 104.58it/s]\u001b[A\n",
      " 20%|██        | 403/2000 [00:03<00:15, 104.40it/s]\u001b[A\n",
      " 21%|██        | 414/2000 [00:03<00:15, 103.70it/s]\u001b[A\n",
      " 21%|██▏       | 425/2000 [00:04<00:15, 103.00it/s]\u001b[A\n",
      " 22%|██▏       | 436/2000 [00:04<00:15, 103.18it/s]\u001b[A\n",
      " 22%|██▏       | 447/2000 [00:04<00:15, 102.35it/s]\u001b[A\n",
      " 23%|██▎       | 458/2000 [00:04<00:15, 102.55it/s]\u001b[A\n",
      " 23%|██▎       | 469/2000 [00:04<00:14, 102.75it/s]\u001b[A\n",
      " 24%|██▍       | 480/2000 [00:04<00:14, 102.80it/s]\u001b[A\n",
      " 25%|██▍       | 491/2000 [00:04<00:14, 102.73it/s]\u001b[A\n",
      " 25%|██▌       | 502/2000 [00:04<00:14, 101.14it/s]\u001b[A\n",
      " 26%|██▌       | 513/2000 [00:04<00:14, 100.46it/s]\u001b[A\n",
      " 26%|██▌       | 524/2000 [00:05<00:14, 99.74it/s] \u001b[A\n",
      " 27%|██▋       | 535/2000 [00:05<00:14, 100.54it/s]\u001b[A\n",
      " 27%|██▋       | 546/2000 [00:05<00:14, 99.49it/s] \u001b[A\n",
      " 28%|██▊       | 557/2000 [00:05<00:14, 99.85it/s]\u001b[A\n",
      " 28%|██▊       | 567/2000 [00:05<00:14, 98.90it/s]\u001b[A\n",
      " 29%|██▉       | 578/2000 [00:05<00:14, 99.95it/s]\u001b[A\n",
      " 29%|██▉       | 589/2000 [00:05<00:13, 101.27it/s]\u001b[A\n",
      " 30%|███       | 600/2000 [00:05<00:13, 101.93it/s]\u001b[A\n",
      " 31%|███       | 611/2000 [00:05<00:14, 98.69it/s] \u001b[A\n",
      " 31%|███       | 622/2000 [00:06<00:13, 99.14it/s]\u001b[A\n",
      " 32%|███▏      | 633/2000 [00:06<00:13, 99.94it/s]\u001b[A\n",
      " 32%|███▏      | 644/2000 [00:06<00:13, 99.77it/s]\u001b[A\n",
      " 33%|███▎      | 655/2000 [00:06<00:13, 100.35it/s]\u001b[A\n",
      " 33%|███▎      | 666/2000 [00:06<00:13, 101.21it/s]\u001b[A\n",
      " 34%|███▍      | 677/2000 [00:06<00:12, 101.96it/s]\u001b[A\n",
      " 34%|███▍      | 688/2000 [00:06<00:12, 103.79it/s]\u001b[A\n",
      " 35%|███▍      | 699/2000 [00:06<00:12, 104.83it/s]\u001b[A\n",
      " 36%|███▌      | 710/2000 [00:06<00:12, 104.80it/s]\u001b[A\n",
      " 36%|███▌      | 721/2000 [00:06<00:12, 104.64it/s]\u001b[A\n",
      " 37%|███▋      | 732/2000 [00:07<00:12, 104.78it/s]\u001b[A\n",
      " 37%|███▋      | 744/2000 [00:07<00:11, 106.82it/s]\u001b[A\n",
      " 38%|███▊      | 756/2000 [00:07<00:11, 108.07it/s]\u001b[A\n",
      " 38%|███▊      | 768/2000 [00:07<00:11, 109.41it/s]\u001b[A\n",
      " 39%|███▉      | 780/2000 [00:07<00:11, 109.73it/s]\u001b[A\n",
      " 40%|███▉      | 792/2000 [00:07<00:10, 110.41it/s]\u001b[A\n",
      " 40%|████      | 804/2000 [00:07<00:10, 111.41it/s]\u001b[A\n",
      " 41%|████      | 816/2000 [00:07<00:10, 111.27it/s]\u001b[A\n",
      " 41%|████▏     | 828/2000 [00:07<00:10, 111.50it/s]\u001b[A\n",
      " 42%|████▏     | 840/2000 [00:08<00:10, 111.38it/s]\u001b[A\n",
      " 43%|████▎     | 852/2000 [00:08<00:10, 110.65it/s]\u001b[A\n",
      " 43%|████▎     | 864/2000 [00:08<00:10, 109.30it/s]\u001b[A\n",
      " 44%|████▍     | 875/2000 [00:08<00:10, 108.64it/s]\u001b[A\n",
      " 44%|████▍     | 886/2000 [00:08<00:10, 108.89it/s]\u001b[A\n",
      " 45%|████▍     | 898/2000 [00:08<00:10, 109.57it/s]\u001b[A\n",
      " 46%|████▌     | 910/2000 [00:08<00:09, 110.14it/s]\u001b[A\n",
      " 46%|████▌     | 922/2000 [00:08<00:09, 110.22it/s]\u001b[A\n",
      " 47%|████▋     | 934/2000 [00:08<00:09, 111.38it/s]\u001b[A\n",
      " 47%|████▋     | 946/2000 [00:09<00:09, 111.71it/s]\u001b[A\n",
      " 48%|████▊     | 958/2000 [00:09<00:09, 111.90it/s]\u001b[A\n",
      " 48%|████▊     | 970/2000 [00:09<00:09, 112.35it/s]\u001b[A\n",
      " 49%|████▉     | 982/2000 [00:09<00:09, 111.87it/s]\u001b[A\n",
      " 50%|████▉     | 994/2000 [00:09<00:09, 111.47it/s]\u001b[A\n",
      " 50%|█████     | 1006/2000 [00:09<00:08, 111.85it/s]\u001b[A\n",
      " 51%|█████     | 1018/2000 [00:09<00:08, 112.01it/s]\u001b[A\n",
      " 52%|█████▏    | 1030/2000 [00:09<00:08, 112.00it/s]\u001b[A\n",
      " 52%|█████▏    | 1042/2000 [00:09<00:08, 111.77it/s]\u001b[A\n",
      " 53%|█████▎    | 1054/2000 [00:09<00:08, 112.19it/s]\u001b[A\n",
      " 53%|█████▎    | 1066/2000 [00:10<00:08, 111.16it/s]\u001b[A\n",
      " 54%|█████▍    | 1078/2000 [00:10<00:08, 111.81it/s]\u001b[A\n",
      " 55%|█████▍    | 1090/2000 [00:10<00:08, 111.48it/s]\u001b[A\n",
      " 55%|█████▌    | 1102/2000 [00:10<00:08, 111.61it/s]\u001b[A\n",
      " 56%|█████▌    | 1114/2000 [00:10<00:07, 111.84it/s]\u001b[A\n",
      " 56%|█████▋    | 1126/2000 [00:10<00:07, 112.34it/s]\u001b[A\n",
      " 57%|█████▋    | 1138/2000 [00:10<00:07, 112.00it/s]\u001b[A\n",
      " 57%|█████▊    | 1150/2000 [00:10<00:07, 112.45it/s]\u001b[A\n",
      " 58%|█████▊    | 1162/2000 [00:10<00:07, 112.93it/s]\u001b[A\n",
      " 59%|█████▊    | 1174/2000 [00:11<00:07, 112.74it/s]\u001b[A\n",
      " 59%|█████▉    | 1186/2000 [00:11<00:07, 112.36it/s]\u001b[A\n",
      " 60%|█████▉    | 1198/2000 [00:11<00:07, 112.92it/s]\u001b[A\n",
      " 60%|██████    | 1210/2000 [00:11<00:07, 112.04it/s]\u001b[A\n",
      " 61%|██████    | 1222/2000 [00:11<00:06, 113.04it/s]\u001b[A\n",
      " 62%|██████▏   | 1234/2000 [00:11<00:06, 113.91it/s]\u001b[A\n",
      " 62%|██████▏   | 1246/2000 [00:11<00:06, 113.77it/s]\u001b[A\n",
      " 63%|██████▎   | 1258/2000 [00:11<00:06, 114.12it/s]\u001b[A\n",
      " 64%|██████▎   | 1270/2000 [00:11<00:06, 114.35it/s]\u001b[A\n",
      " 64%|██████▍   | 1282/2000 [00:12<00:06, 112.70it/s]\u001b[A\n",
      " 65%|██████▍   | 1294/2000 [00:12<00:06, 110.71it/s]\u001b[A\n",
      " 65%|██████▌   | 1306/2000 [00:12<00:06, 109.17it/s]\u001b[A\n",
      " 66%|██████▌   | 1317/2000 [00:12<00:06, 108.59it/s]\u001b[A\n",
      " 66%|██████▋   | 1328/2000 [00:12<00:06, 108.90it/s]\u001b[A\n",
      " 67%|██████▋   | 1340/2000 [00:12<00:06, 109.95it/s]\u001b[A\n",
      " 68%|██████▊   | 1352/2000 [00:12<00:05, 108.97it/s]\u001b[A\n",
      " 68%|██████▊   | 1364/2000 [00:12<00:05, 110.67it/s]\u001b[A\n",
      " 69%|██████▉   | 1376/2000 [00:12<00:05, 111.65it/s]\u001b[A\n",
      " 69%|██████▉   | 1388/2000 [00:12<00:05, 111.75it/s]\u001b[A\n",
      " 70%|███████   | 1400/2000 [00:13<00:05, 111.90it/s]\u001b[A\n",
      " 71%|███████   | 1412/2000 [00:13<00:05, 111.43it/s]\u001b[A\n",
      " 71%|███████   | 1424/2000 [00:13<00:05, 111.30it/s]\u001b[A\n",
      " 72%|███████▏  | 1436/2000 [00:13<00:05, 111.64it/s]\u001b[A\n",
      " 72%|███████▏  | 1448/2000 [00:13<00:04, 111.44it/s]\u001b[A\n",
      " 73%|███████▎  | 1460/2000 [00:13<00:04, 112.80it/s]\u001b[A\n",
      " 74%|███████▎  | 1472/2000 [00:13<00:04, 111.30it/s]\u001b[A\n",
      " 74%|███████▍  | 1484/2000 [00:13<00:04, 110.58it/s]\u001b[A\n",
      " 75%|███████▍  | 1496/2000 [00:13<00:04, 110.50it/s]\u001b[A\n",
      " 75%|███████▌  | 1508/2000 [00:14<00:04, 111.40it/s]\u001b[A\n",
      " 76%|███████▌  | 1520/2000 [00:14<00:04, 110.54it/s]\u001b[A\n",
      " 77%|███████▋  | 1532/2000 [00:14<00:04, 106.78it/s]\u001b[A\n",
      " 77%|███████▋  | 1543/2000 [00:14<00:04, 104.22it/s]\u001b[A\n",
      " 78%|███████▊  | 1554/2000 [00:14<00:04, 104.85it/s]\u001b[A\n",
      " 78%|███████▊  | 1566/2000 [00:14<00:04, 106.66it/s]\u001b[A\n",
      " 79%|███████▉  | 1577/2000 [00:14<00:03, 107.34it/s]\u001b[A\n",
      " 79%|███████▉  | 1588/2000 [00:14<00:03, 106.70it/s]\u001b[A\n",
      " 80%|███████▉  | 1599/2000 [00:14<00:03, 106.16it/s]\u001b[A\n",
      " 80%|████████  | 1610/2000 [00:15<00:03, 107.10it/s]\u001b[A\n",
      " 81%|████████  | 1621/2000 [00:15<00:03, 107.24it/s]\u001b[A\n",
      " 82%|████████▏ | 1632/2000 [00:15<00:03, 106.90it/s]\u001b[A\n",
      " 82%|████████▏ | 1643/2000 [00:15<00:03, 107.27it/s]\u001b[A\n",
      " 83%|████████▎ | 1654/2000 [00:15<00:03, 106.27it/s]\u001b[A\n",
      " 83%|████████▎ | 1666/2000 [00:15<00:03, 107.78it/s]\u001b[A\n",
      " 84%|████████▍ | 1678/2000 [00:15<00:02, 109.12it/s]\u001b[A\n",
      " 84%|████████▍ | 1690/2000 [00:15<00:02, 109.77it/s]\u001b[A\n"
     ]
    },
    {
     "name": "stderr",
     "output_type": "stream",
     "text": [
      " 85%|████████▌ | 1702/2000 [00:15<00:02, 112.13it/s]\u001b[A\n",
      " 86%|████████▌ | 1714/2000 [00:15<00:02, 110.65it/s]\u001b[A\n",
      " 86%|████████▋ | 1726/2000 [00:16<00:02, 111.10it/s]\u001b[A\n",
      " 87%|████████▋ | 1738/2000 [00:16<00:02, 111.25it/s]\u001b[A\n",
      " 88%|████████▊ | 1750/2000 [00:16<00:02, 110.40it/s]\u001b[A\n",
      " 88%|████████▊ | 1762/2000 [00:16<00:02, 110.60it/s]\u001b[A\n",
      " 89%|████████▊ | 1774/2000 [00:16<00:02, 109.46it/s]\u001b[A\n",
      " 89%|████████▉ | 1785/2000 [00:16<00:01, 109.35it/s]\u001b[A\n",
      " 90%|████████▉ | 1796/2000 [00:16<00:01, 108.18it/s]\u001b[A\n",
      " 90%|█████████ | 1807/2000 [00:16<00:01, 108.01it/s]\u001b[A\n",
      " 91%|█████████ | 1818/2000 [00:16<00:01, 104.78it/s]\u001b[A\n",
      " 91%|█████████▏| 1829/2000 [00:17<00:01, 103.94it/s]\u001b[A\n",
      " 92%|█████████▏| 1840/2000 [00:17<00:01, 102.65it/s]\u001b[A\n",
      " 93%|█████████▎| 1851/2000 [00:17<00:01, 101.67it/s]\u001b[A\n",
      " 93%|█████████▎| 1862/2000 [00:17<00:01, 103.49it/s]\u001b[A\n",
      " 94%|█████████▎| 1874/2000 [00:17<00:01, 106.00it/s]\u001b[A\n",
      " 94%|█████████▍| 1885/2000 [00:17<00:01, 106.97it/s]\u001b[A\n",
      " 95%|█████████▍| 1897/2000 [00:17<00:00, 108.84it/s]\u001b[A\n",
      " 95%|█████████▌| 1908/2000 [00:17<00:00, 106.90it/s]\u001b[A\n",
      " 96%|█████████▌| 1919/2000 [00:17<00:00, 104.79it/s]\u001b[A\n",
      " 96%|█████████▋| 1930/2000 [00:17<00:00, 104.27it/s]\u001b[A\n",
      " 97%|█████████▋| 1941/2000 [00:18<00:00, 104.33it/s]\u001b[A\n",
      " 98%|█████████▊| 1952/2000 [00:18<00:00, 103.03it/s]\u001b[A\n",
      " 98%|█████████▊| 1963/2000 [00:18<00:00, 102.17it/s]\u001b[A\n",
      " 99%|█████████▊| 1974/2000 [00:18<00:00, 101.89it/s]\u001b[A\n",
      " 99%|█████████▉| 1985/2000 [00:18<00:00, 101.45it/s]\u001b[A\n",
      "100%|█████████▉| 1996/2000 [00:18<00:00, 97.51it/s] \u001b[A\n",
      "100%|██████████| 2000/2000 [00:18<00:00, 106.95it/s]\u001b[A"
     ]
    }
   ],
   "source": [
    "passive_trials = read_dataset(\"data/train_passive_trials.h5\", n_trials=2000)\n",
    "passive_trials = [trial[:1801] for trial in passive_trials]\n",
    "train_trials += passive_trials"
   ]
  },
  {
   "cell_type": "code",
   "execution_count": 49,
   "metadata": {
    "scrolled": true
   },
   "outputs": [
    {
     "data": {
      "text/plain": [
       "(2641, 200, 100)"
      ]
     },
     "execution_count": 49,
     "metadata": {},
     "output_type": "execute_result"
    }
   ],
   "source": [
    "len(train_trials), len(val_trials), len(test_trials)"
   ]
  },
  {
   "cell_type": "markdown",
   "metadata": {},
   "source": [
    "# FORCE TRAINING  (Humans achieve 63% +- 21%)"
   ]
  },
  {
   "cell_type": "markdown",
   "metadata": {},
   "source": [
    "## Read dataset and preprocess it"
   ]
  },
  {
   "cell_type": "code",
   "execution_count": 50,
   "metadata": {
    "scrolled": true
   },
   "outputs": [
    {
     "name": "stderr",
     "output_type": "stream",
     "text": [
      "\n",
      "  0%|          | 0/2641 [00:00<?, ?it/s]\u001b[A\n",
      "  1%|          | 23/2641 [00:00<00:11, 222.75it/s]\u001b[A\n",
      "  2%|▏         | 47/2641 [00:00<00:11, 226.72it/s]\u001b[A\n",
      "  3%|▎         | 71/2641 [00:00<00:11, 230.00it/s]\u001b[A\n",
      "  4%|▎         | 95/2641 [00:00<00:10, 231.53it/s]\u001b[A\n",
      "  5%|▍         | 119/2641 [00:00<00:10, 232.22it/s]\u001b[A\n",
      "  5%|▌         | 143/2641 [00:00<00:10, 234.21it/s]\u001b[A\n",
      "  6%|▋         | 168/2641 [00:00<00:10, 236.25it/s]\u001b[A\n",
      "  7%|▋         | 192/2641 [00:00<00:10, 236.97it/s]\u001b[A\n",
      "  8%|▊         | 216/2641 [00:00<00:10, 236.07it/s]\u001b[A\n",
      "  9%|▉         | 240/2641 [00:01<00:10, 237.14it/s]\u001b[A\n",
      " 10%|█         | 267/2641 [00:01<00:09, 244.00it/s]\u001b[A\n",
      " 11%|█         | 292/2641 [00:01<00:09, 244.61it/s]\u001b[A\n",
      " 12%|█▏        | 317/2641 [00:01<00:09, 245.41it/s]\u001b[A\n",
      " 13%|█▎        | 342/2641 [00:01<00:09, 245.52it/s]\u001b[A\n",
      " 14%|█▍        | 368/2641 [00:01<00:09, 249.08it/s]\u001b[A\n",
      " 15%|█▍        | 394/2641 [00:01<00:08, 251.60it/s]\u001b[A\n",
      " 16%|█▌        | 420/2641 [00:01<00:08, 250.01it/s]\u001b[A\n",
      " 17%|█▋        | 445/2641 [00:01<00:08, 246.59it/s]\u001b[A\n",
      " 18%|█▊        | 470/2641 [00:01<00:08, 245.68it/s]\u001b[A\n",
      " 19%|█▊        | 495/2641 [00:02<00:08, 243.26it/s]\u001b[A\n",
      " 20%|█▉        | 521/2641 [00:02<00:08, 246.26it/s]\u001b[A\n",
      " 21%|██        | 546/2641 [00:02<00:08, 245.69it/s]\u001b[A\n",
      " 22%|██▏       | 571/2641 [00:02<00:08, 246.01it/s]\u001b[A\n",
      " 23%|██▎       | 596/2641 [00:02<00:08, 245.81it/s]\u001b[A\n",
      " 24%|██▎       | 621/2641 [00:02<00:08, 244.76it/s]\u001b[A\n",
      " 24%|██▍       | 646/2641 [00:02<00:08, 244.62it/s]\u001b[A\n",
      " 25%|██▌       | 672/2641 [00:02<00:07, 247.76it/s]\u001b[A\n",
      " 26%|██▋       | 698/2641 [00:02<00:07, 249.15it/s]\u001b[A\n",
      " 27%|██▋       | 723/2641 [00:02<00:07, 248.14it/s]\u001b[A\n",
      " 28%|██▊       | 748/2641 [00:03<00:07, 248.10it/s]\u001b[A\n",
      " 29%|██▉       | 773/2641 [00:03<00:07, 247.64it/s]\u001b[A\n",
      " 30%|███       | 798/2641 [00:03<00:07, 248.18it/s]\u001b[A\n",
      " 31%|███       | 823/2641 [00:03<00:07, 248.17it/s]\u001b[A\n",
      " 32%|███▏      | 848/2641 [00:03<00:07, 248.01it/s]\u001b[A\n",
      " 33%|███▎      | 873/2641 [00:03<00:07, 248.60it/s]\u001b[A\n",
      " 34%|███▍      | 898/2641 [00:03<00:07, 248.00it/s]\u001b[A\n",
      " 35%|███▍      | 923/2641 [00:03<00:06, 248.57it/s]\u001b[A\n",
      " 36%|███▌      | 948/2641 [00:03<00:06, 246.52it/s]\u001b[A\n",
      " 37%|███▋      | 973/2641 [00:03<00:06, 247.16it/s]\u001b[A\n",
      " 38%|███▊      | 998/2641 [00:04<00:06, 246.80it/s]\u001b[A\n",
      " 39%|███▉      | 1024/2641 [00:04<00:06, 248.09it/s]\u001b[A\n",
      " 40%|███▉      | 1049/2641 [00:04<00:06, 247.68it/s]\u001b[A\n",
      " 41%|████      | 1075/2641 [00:04<00:06, 248.51it/s]\u001b[A\n",
      " 42%|████▏     | 1100/2641 [00:04<00:06, 248.26it/s]\u001b[A\n",
      " 43%|████▎     | 1126/2641 [00:04<00:06, 248.81it/s]\u001b[A\n",
      " 44%|████▎     | 1152/2641 [00:04<00:05, 249.74it/s]\u001b[A\n",
      " 45%|████▍     | 1177/2641 [00:04<00:05, 249.67it/s]\u001b[A\n",
      " 46%|████▌     | 1202/2641 [00:04<00:05, 249.28it/s]\u001b[A\n",
      " 46%|████▋     | 1227/2641 [00:04<00:05, 249.28it/s]\u001b[A\n",
      " 47%|████▋     | 1253/2641 [00:05<00:05, 249.96it/s]\u001b[A\n",
      " 48%|████▊     | 1279/2641 [00:05<00:05, 251.19it/s]\u001b[A\n",
      " 49%|████▉     | 1305/2641 [00:05<00:05, 249.85it/s]\u001b[A\n",
      " 50%|█████     | 1331/2641 [00:05<00:05, 250.66it/s]\u001b[A\n",
      " 51%|█████▏    | 1357/2641 [00:05<00:05, 249.78it/s]\u001b[A\n",
      " 52%|█████▏    | 1382/2641 [00:05<00:05, 249.25it/s]\u001b[A\n",
      " 53%|█████▎    | 1407/2641 [00:05<00:04, 249.35it/s]\u001b[A\n",
      " 54%|█████▍    | 1433/2641 [00:05<00:04, 250.01it/s]\u001b[A\n",
      " 55%|█████▌    | 1459/2641 [00:05<00:04, 250.46it/s]\u001b[A\n",
      " 56%|█████▌    | 1485/2641 [00:06<00:04, 249.54it/s]\u001b[A\n",
      " 57%|█████▋    | 1511/2641 [00:06<00:04, 250.78it/s]\u001b[A\n",
      " 58%|█████▊    | 1537/2641 [00:06<00:04, 251.02it/s]\u001b[A\n",
      " 59%|█████▉    | 1563/2641 [00:06<00:04, 251.15it/s]\u001b[A\n",
      " 60%|██████    | 1589/2641 [00:06<00:04, 251.01it/s]\u001b[A\n",
      " 61%|██████    | 1615/2641 [00:06<00:04, 251.68it/s]\u001b[A\n",
      " 62%|██████▏   | 1641/2641 [00:06<00:03, 250.33it/s]\u001b[A\n",
      " 63%|██████▎   | 1667/2641 [00:06<00:03, 251.40it/s]\u001b[A\n",
      " 64%|██████▍   | 1693/2641 [00:06<00:03, 250.62it/s]\u001b[A\n",
      " 65%|██████▌   | 1719/2641 [00:06<00:03, 251.48it/s]\u001b[A\n",
      " 66%|██████▌   | 1745/2641 [00:07<00:03, 252.66it/s]\u001b[A\n",
      " 67%|██████▋   | 1771/2641 [00:07<00:03, 252.96it/s]\u001b[A\n",
      " 68%|██████▊   | 1797/2641 [00:07<00:03, 253.56it/s]\u001b[A\n",
      " 69%|██████▉   | 1823/2641 [00:07<00:03, 254.11it/s]\u001b[A\n",
      " 70%|███████   | 1849/2641 [00:07<00:03, 254.71it/s]\u001b[A\n",
      " 71%|███████   | 1875/2641 [00:07<00:02, 255.72it/s]\u001b[A\n",
      " 72%|███████▏  | 1901/2641 [00:07<00:02, 255.00it/s]\u001b[A\n",
      " 73%|███████▎  | 1927/2641 [00:07<00:02, 255.44it/s]\u001b[A\n",
      " 74%|███████▍  | 1953/2641 [00:07<00:02, 254.68it/s]\u001b[A\n",
      " 75%|███████▍  | 1979/2641 [00:07<00:02, 254.49it/s]\u001b[A\n",
      " 76%|███████▌  | 2005/2641 [00:08<00:02, 253.20it/s]\u001b[A\n",
      " 77%|███████▋  | 2031/2641 [00:08<00:02, 253.99it/s]\u001b[A\n",
      " 78%|███████▊  | 2057/2641 [00:08<00:02, 254.42it/s]\u001b[A\n",
      " 79%|███████▉  | 2083/2641 [00:08<00:02, 254.66it/s]\u001b[A\n",
      " 80%|███████▉  | 2109/2641 [00:08<00:02, 254.83it/s]\u001b[A\n",
      " 81%|████████  | 2135/2641 [00:08<00:01, 255.26it/s]\u001b[A\n",
      " 82%|████████▏ | 2161/2641 [00:08<00:01, 254.21it/s]\u001b[A\n",
      " 83%|████████▎ | 2187/2641 [00:08<00:01, 251.53it/s]\u001b[A\n",
      " 84%|████████▍ | 2213/2641 [00:08<00:01, 252.52it/s]\u001b[A\n",
      " 85%|████████▍ | 2239/2641 [00:09<00:01, 252.96it/s]\u001b[A\n",
      " 86%|████████▌ | 2265/2641 [00:09<00:01, 253.39it/s]\u001b[A\n",
      " 87%|████████▋ | 2291/2641 [00:09<00:01, 253.58it/s]\u001b[A\n",
      " 88%|████████▊ | 2317/2641 [00:09<00:01, 254.26it/s]\u001b[A\n",
      " 89%|████████▊ | 2343/2641 [00:09<00:01, 252.94it/s]\u001b[A\n",
      " 90%|████████▉ | 2369/2641 [00:09<00:01, 253.59it/s]\u001b[A\n",
      " 91%|█████████ | 2395/2641 [00:09<00:00, 254.48it/s]\u001b[A\n",
      " 92%|█████████▏| 2421/2641 [00:09<00:00, 254.61it/s]\u001b[A\n",
      " 93%|█████████▎| 2447/2641 [00:09<00:00, 254.97it/s]\u001b[A\n",
      " 94%|█████████▎| 2473/2641 [00:09<00:00, 254.77it/s]\u001b[A\n",
      " 95%|█████████▍| 2499/2641 [00:10<00:00, 254.36it/s]\u001b[A\n",
      " 96%|█████████▌| 2525/2641 [00:10<00:00, 254.44it/s]\u001b[A\n",
      " 97%|█████████▋| 2551/2641 [00:10<00:00, 254.53it/s]\u001b[A\n",
      " 98%|█████████▊| 2577/2641 [00:10<00:00, 254.83it/s]\u001b[A\n",
      " 99%|█████████▊| 2603/2641 [00:10<00:00, 254.61it/s]\u001b[A\n",
      "100%|█████████▉| 2629/2641 [00:10<00:00, 255.23it/s]\u001b[A\n",
      "100%|██████████| 2641/2641 [00:10<00:00, 249.58it/s]\u001b[A\n",
      "  0%|          | 0/200 [00:00<?, ?it/s]\u001b[A\n",
      " 11%|█         | 22/200 [00:00<00:00, 213.66it/s]\u001b[A\n",
      " 23%|██▎       | 46/200 [00:00<00:00, 220.09it/s]\u001b[A\n",
      " 35%|███▌      | 70/200 [00:00<00:00, 224.17it/s]\u001b[A\n",
      " 45%|████▌     | 90/200 [00:00<00:00, 215.67it/s]\u001b[A\n",
      " 57%|█████▋    | 114/200 [00:00<00:00, 222.36it/s]\u001b[A\n",
      " 69%|██████▉   | 138/200 [00:00<00:00, 226.47it/s]\u001b[A\n",
      " 81%|████████  | 162/200 [00:00<00:00, 229.11it/s]\u001b[A\n",
      " 92%|█████████▏| 184/200 [00:00<00:00, 219.75it/s]\u001b[A\n",
      "100%|██████████| 200/200 [00:00<00:00, 224.70it/s]\u001b[A\n",
      "  0%|          | 0/100 [00:00<?, ?it/s]\u001b[A\n",
      " 23%|██▎       | 23/100 [00:00<00:00, 221.98it/s]\u001b[A\n",
      " 47%|████▋     | 47/100 [00:00<00:00, 225.08it/s]\u001b[A\n",
      " 71%|███████   | 71/100 [00:00<00:00, 228.51it/s]\u001b[A\n",
      " 95%|█████████▌| 95/100 [00:00<00:00, 231.33it/s]\u001b[A\n",
      "100%|██████████| 100/100 [00:00<00:00, 232.01it/s]\u001b[A"
     ]
    }
   ],
   "source": [
    "loaders, scaler = prepare_dataset([train_trials, val_trials, test_trials], class_columns=FORCE_CLASS_COLS, \n",
    "                                  training_columns=TR_COLS,\n",
    "                                  batch_size=BATCH_SIZE, normalise_data=True, \n",
    "                                  categorical_columns=MOUSE_CONTROL_COLS)"
   ]
  },
  {
   "cell_type": "code",
   "execution_count": 51,
   "metadata": {},
   "outputs": [],
   "source": [
    "train_loader, val_loader, test_loader = loaders"
   ]
  },
  {
   "cell_type": "code",
   "execution_count": 52,
   "metadata": {},
   "outputs": [
    {
     "name": "stdout",
     "output_type": "stream",
     "text": [
      "[885 899 857]\n",
      "Majority class:  0.3404013631200303\n",
      "\n",
      "[72 69 59]\n",
      "Majority class:  0.36\n",
      "\n",
      "[36 30 34]\n",
      "Majority class:  0.36\n"
     ]
    }
   ],
   "source": [
    "class_proportions(train_loader)\n",
    "print()\n",
    "class_proportions(val_loader)\n",
    "print()\n",
    "class_proportions(test_loader)"
   ]
  },
  {
   "cell_type": "markdown",
   "metadata": {},
   "source": [
    "## Define model, loss and optimizer"
   ]
  },
  {
   "cell_type": "code",
   "execution_count": 53,
   "metadata": {},
   "outputs": [],
   "source": [
    "model, error, optimizer = initialise_model(network_dims, DROPOUT, lr=0.01)"
   ]
  },
  {
   "cell_type": "markdown",
   "metadata": {},
   "source": [
    "## Train model and plot loss and accuracy"
   ]
  },
  {
   "cell_type": "code",
   "execution_count": 54,
   "metadata": {
    "scrolled": true
   },
   "outputs": [
    {
     "name": "stderr",
     "output_type": "stream",
     "text": [
      "\n",
      "  0%|          | 0/120 [00:00<?, ?it/s]\u001b[A\n",
      "Train_loss (-1.00)\t Train_acc (32.45)\t Val_acc (29.50):   0%|          | 0/120 [00:00<?, ?it/s]\u001b[A\n",
      "Train_loss (-1.00)\t Train_acc (32.45)\t Val_acc (29.50):   1%|          | 1/120 [00:03<07:36,  3.83s/it]\u001b[A\n",
      "Train_loss (1.11)\t Train_acc (38.28)\t Val_acc (38.00):   1%|          | 1/120 [00:04<07:36,  3.83s/it] \u001b[A\n",
      "Train_loss (1.11)\t Train_acc (38.28)\t Val_acc (38.00):   2%|▏         | 2/120 [00:07<07:33,  3.84s/it]\u001b[A\n",
      "Train_loss (1.08)\t Train_acc (44.07)\t Val_acc (38.50):   2%|▏         | 2/120 [00:08<07:33,  3.84s/it]\u001b[A\n",
      "Train_loss (1.08)\t Train_acc (44.07)\t Val_acc (38.50):   2%|▎         | 3/120 [00:11<07:27,  3.83s/it]\u001b[A\n",
      "Train_loss (1.05)\t Train_acc (45.82)\t Val_acc (39.00):   2%|▎         | 3/120 [00:12<07:27,  3.83s/it]\u001b[A\n",
      "Train_loss (1.05)\t Train_acc (45.82)\t Val_acc (39.00):   3%|▎         | 4/120 [00:15<07:22,  3.81s/it]\u001b[A\n",
      "Train_loss (1.05)\t Train_acc (47.94)\t Val_acc (38.50):   3%|▎         | 4/120 [00:15<07:22,  3.81s/it]\u001b[A\n",
      "Train_loss (1.05)\t Train_acc (47.94)\t Val_acc (38.50):   4%|▍         | 5/120 [00:19<07:18,  3.81s/it]\u001b[A\n",
      "Train_loss (1.02)\t Train_acc (49.26)\t Val_acc (39.50):   4%|▍         | 5/120 [00:19<07:18,  3.81s/it]\u001b[A\n",
      "Train_loss (1.02)\t Train_acc (49.26)\t Val_acc (39.50):   5%|▌         | 6/120 [00:22<07:14,  3.81s/it]\u001b[A\n",
      "Train_loss (1.02)\t Train_acc (49.53)\t Val_acc (39.00):   5%|▌         | 6/120 [00:23<07:14,  3.81s/it]\u001b[A\n",
      "Train_loss (1.02)\t Train_acc (49.53)\t Val_acc (39.00):   6%|▌         | 7/120 [00:26<07:13,  3.83s/it]\u001b[A\n",
      "Train_loss (1.00)\t Train_acc (50.13)\t Val_acc (39.50):   6%|▌         | 7/120 [00:27<07:13,  3.83s/it]\u001b[A\n",
      "Train_loss (1.00)\t Train_acc (50.13)\t Val_acc (39.50):   7%|▋         | 8/120 [00:30<07:08,  3.83s/it]\u001b[A\n",
      "Train_loss (0.99)\t Train_acc (52.03)\t Val_acc (39.50):   7%|▋         | 8/120 [00:31<07:08,  3.83s/it]\u001b[A\n",
      "Train_loss (0.99)\t Train_acc (52.03)\t Val_acc (39.50):   8%|▊         | 9/120 [00:34<07:03,  3.82s/it]\u001b[A\n",
      "Train_loss (0.98)\t Train_acc (51.68)\t Val_acc (41.00):   8%|▊         | 9/120 [00:35<07:03,  3.82s/it]\u001b[A\n",
      "Train_loss (0.98)\t Train_acc (51.68)\t Val_acc (41.00):   8%|▊         | 10/120 [00:38<07:00,  3.82s/it]\u001b[A\n",
      "Train_loss (0.95)\t Train_acc (55.81)\t Val_acc (43.50):   8%|▊         | 10/120 [00:38<07:00,  3.82s/it]\u001b[A\n",
      "Train_loss (0.95)\t Train_acc (55.81)\t Val_acc (43.50):   9%|▉         | 11/120 [00:41<06:53,  3.79s/it]\u001b[A\n",
      "Train_loss (0.94)\t Train_acc (55.62)\t Val_acc (45.00):   9%|▉         | 11/120 [00:42<06:53,  3.79s/it]\u001b[A\n",
      "Train_loss (0.94)\t Train_acc (55.62)\t Val_acc (45.00):  10%|█         | 12/120 [00:45<06:50,  3.80s/it]\u001b[A\n",
      "Train_loss (0.90)\t Train_acc (55.24)\t Val_acc (40.00):  10%|█         | 12/120 [00:46<06:50,  3.80s/it]\u001b[A\n",
      "Train_loss (0.90)\t Train_acc (55.24)\t Val_acc (40.00):  11%|█         | 13/120 [00:49<06:47,  3.81s/it]\u001b[A\n",
      "Train_loss (0.88)\t Train_acc (56.57)\t Val_acc (42.00):  11%|█         | 13/120 [00:50<06:47,  3.81s/it]\u001b[A\n",
      "Train_loss (0.88)\t Train_acc (56.57)\t Val_acc (42.00):  12%|█▏        | 14/120 [00:53<06:46,  3.83s/it]\u001b[A\n",
      "Train_loss (0.88)\t Train_acc (53.84)\t Val_acc (44.50):  12%|█▏        | 14/120 [00:54<06:46,  3.83s/it]\u001b[A\n",
      "Train_loss (0.88)\t Train_acc (53.84)\t Val_acc (44.50):  12%|█▎        | 15/120 [00:57<06:42,  3.83s/it]\u001b[A\n",
      "Train_loss (0.84)\t Train_acc (57.89)\t Val_acc (45.00):  12%|█▎        | 15/120 [00:57<06:42,  3.83s/it]\u001b[A\n",
      "Train_loss (0.84)\t Train_acc (57.89)\t Val_acc (45.00):  13%|█▎        | 16/120 [01:01<06:39,  3.85s/it]\u001b[A\n",
      "Train_loss (0.89)\t Train_acc (61.61)\t Val_acc (43.00):  13%|█▎        | 16/120 [01:01<06:39,  3.85s/it]\u001b[A\n",
      "Train_loss (0.89)\t Train_acc (61.61)\t Val_acc (43.00):  14%|█▍        | 17/120 [01:05<06:35,  3.84s/it]\u001b[A\n",
      "Train_loss (0.88)\t Train_acc (61.11)\t Val_acc (45.00):  14%|█▍        | 17/120 [01:05<06:35,  3.84s/it]\u001b[A\n",
      "Train_loss (0.88)\t Train_acc (61.11)\t Val_acc (45.00):  15%|█▌        | 18/120 [01:08<06:28,  3.81s/it]\u001b[A\n",
      "Train_loss (0.87)\t Train_acc (63.69)\t Val_acc (44.00):  15%|█▌        | 18/120 [01:09<06:28,  3.81s/it]\u001b[A\n",
      "Train_loss (0.87)\t Train_acc (63.69)\t Val_acc (44.00):  16%|█▌        | 19/120 [01:12<06:22,  3.78s/it]\u001b[A\n",
      "Train_loss (0.83)\t Train_acc (60.51)\t Val_acc (36.50):  16%|█▌        | 19/120 [01:12<06:22,  3.78s/it]\u001b[A\n",
      "Train_loss (0.83)\t Train_acc (60.51)\t Val_acc (36.50):  17%|█▋        | 20/120 [01:16<06:15,  3.76s/it]\u001b[A\n",
      "Train_loss (0.80)\t Train_acc (64.22)\t Val_acc (45.50):  17%|█▋        | 20/120 [01:16<06:15,  3.76s/it]\u001b[A\n",
      "Train_loss (0.80)\t Train_acc (64.22)\t Val_acc (45.50):  18%|█▊        | 21/120 [01:19<06:10,  3.75s/it]\u001b[A\n",
      "Train_loss (0.80)\t Train_acc (66.83)\t Val_acc (44.00):  18%|█▊        | 21/120 [01:20<06:10,  3.75s/it]\u001b[A\n",
      "Train_loss (0.80)\t Train_acc (66.83)\t Val_acc (44.00):  18%|█▊        | 22/120 [01:23<06:06,  3.74s/it]\u001b[A\n",
      "Train_loss (0.78)\t Train_acc (67.13)\t Val_acc (41.00):  18%|█▊        | 22/120 [01:24<06:06,  3.74s/it]\u001b[A\n",
      "Train_loss (0.78)\t Train_acc (67.13)\t Val_acc (41.00):  19%|█▉        | 23/120 [01:27<06:09,  3.80s/it]\u001b[A\n",
      "Train_loss (0.77)\t Train_acc (68.08)\t Val_acc (44.50):  19%|█▉        | 23/120 [01:28<06:09,  3.80s/it]\u001b[A\n",
      "Train_loss (0.77)\t Train_acc (68.08)\t Val_acc (44.50):  20%|██        | 24/120 [01:31<06:02,  3.78s/it]\u001b[A\n",
      "Train_loss (0.76)\t Train_acc (70.69)\t Val_acc (40.50):  20%|██        | 24/120 [01:31<06:02,  3.78s/it]\u001b[A\n",
      "Train_loss (0.76)\t Train_acc (70.69)\t Val_acc (40.50):  21%|██        | 25/120 [01:35<05:57,  3.76s/it]\u001b[A\n",
      "Train_loss (0.73)\t Train_acc (70.43)\t Val_acc (43.00):  21%|██        | 25/120 [01:35<05:57,  3.76s/it]\u001b[A\n",
      "Train_loss (0.73)\t Train_acc (70.43)\t Val_acc (43.00):  22%|██▏       | 26/120 [01:38<05:53,  3.76s/it]\u001b[A\n",
      "Train_loss (0.72)\t Train_acc (66.41)\t Val_acc (39.50):  22%|██▏       | 26/120 [01:39<05:53,  3.76s/it]\u001b[A\n",
      "Train_loss (0.72)\t Train_acc (66.41)\t Val_acc (39.50):  22%|██▎       | 27/120 [01:42<05:48,  3.75s/it]\u001b[A\n",
      "Train_loss (0.70)\t Train_acc (70.05)\t Val_acc (46.00):  22%|██▎       | 27/120 [01:43<05:48,  3.75s/it]\u001b[A\n",
      "Train_loss (0.70)\t Train_acc (70.05)\t Val_acc (46.00):  23%|██▎       | 28/120 [01:46<05:44,  3.74s/it]\u001b[A\n",
      "Train_loss (0.69)\t Train_acc (68.00)\t Val_acc (41.00):  23%|██▎       | 28/120 [01:46<05:44,  3.74s/it]\u001b[A\n",
      "Train_loss (0.69)\t Train_acc (68.00)\t Val_acc (41.00):  24%|██▍       | 29/120 [01:49<05:40,  3.74s/it]\u001b[A\n",
      "Train_loss (0.67)\t Train_acc (67.29)\t Val_acc (41.00):  24%|██▍       | 29/120 [01:50<05:40,  3.74s/it]\u001b[A\n",
      "Train_loss (0.67)\t Train_acc (67.29)\t Val_acc (41.00):  25%|██▌       | 30/120 [01:53<05:36,  3.74s/it]\u001b[A\n",
      "Train_loss (0.68)\t Train_acc (71.90)\t Val_acc (41.00):  25%|██▌       | 30/120 [01:54<05:36,  3.74s/it]\u001b[A\n",
      "Train_loss (0.68)\t Train_acc (71.90)\t Val_acc (41.00):  26%|██▌       | 31/120 [01:57<05:32,  3.73s/it]\u001b[A\n",
      "Train_loss (0.68)\t Train_acc (74.44)\t Val_acc (43.00):  26%|██▌       | 31/120 [01:57<05:32,  3.73s/it]\u001b[A\n",
      "Train_loss (0.68)\t Train_acc (74.44)\t Val_acc (43.00):  27%|██▋       | 32/120 [02:01<05:29,  3.75s/it]\u001b[A\n",
      "Train_loss (0.69)\t Train_acc (73.42)\t Val_acc (41.50):  27%|██▋       | 32/120 [02:01<05:29,  3.75s/it]\u001b[A\n",
      "Train_loss (0.69)\t Train_acc (73.42)\t Val_acc (41.50):  28%|██▊       | 33/120 [02:04<05:25,  3.74s/it]\u001b[A\n",
      "Train_loss (0.67)\t Train_acc (73.76)\t Val_acc (43.50):  28%|██▊       | 33/120 [02:05<05:25,  3.74s/it]\u001b[A\n",
      "Train_loss (0.67)\t Train_acc (73.76)\t Val_acc (43.50):  28%|██▊       | 34/120 [02:08<05:21,  3.74s/it]\u001b[A\n",
      "Train_loss (0.66)\t Train_acc (72.85)\t Val_acc (41.50):  28%|██▊       | 34/120 [02:09<05:21,  3.74s/it]\u001b[A\n",
      "Train_loss (0.66)\t Train_acc (72.85)\t Val_acc (41.50):  29%|██▉       | 35/120 [02:12<05:17,  3.73s/it]\u001b[A\n",
      "Train_loss (0.61)\t Train_acc (74.67)\t Val_acc (42.50):  29%|██▉       | 35/120 [02:12<05:17,  3.73s/it]\u001b[A\n",
      "Train_loss (0.61)\t Train_acc (74.67)\t Val_acc (42.50):  30%|███       | 36/120 [02:16<05:14,  3.75s/it]\u001b[A\n",
      "Train_loss (0.57)\t Train_acc (75.88)\t Val_acc (43.50):  30%|███       | 36/120 [02:16<05:14,  3.75s/it]\u001b[A\n",
      "Train_loss (0.57)\t Train_acc (75.88)\t Val_acc (43.50):  31%|███       | 37/120 [02:19<05:12,  3.76s/it]\u001b[A\n",
      "Train_loss (0.57)\t Train_acc (71.64)\t Val_acc (41.50):  31%|███       | 37/120 [02:20<05:12,  3.76s/it]\u001b[A\n",
      "Train_loss (0.57)\t Train_acc (71.64)\t Val_acc (41.50):  32%|███▏      | 38/120 [02:23<05:08,  3.76s/it]\u001b[A\n"
     ]
    },
    {
     "name": "stderr",
     "output_type": "stream",
     "text": [
      "Train_loss (0.57)\t Train_acc (77.24)\t Val_acc (45.00):  32%|███▏      | 38/120 [02:24<05:08,  3.76s/it]\u001b[A\n",
      "Train_loss (0.57)\t Train_acc (77.24)\t Val_acc (45.00):  32%|███▎      | 39/120 [02:27<05:06,  3.79s/it]\u001b[A\n",
      "Train_loss (0.56)\t Train_acc (75.88)\t Val_acc (42.00):  32%|███▎      | 39/120 [02:28<05:06,  3.79s/it]\u001b[A\n",
      "Train_loss (0.56)\t Train_acc (75.88)\t Val_acc (42.00):  33%|███▎      | 40/120 [02:31<05:02,  3.78s/it]\u001b[A\n",
      "Train_loss (0.57)\t Train_acc (77.74)\t Val_acc (45.00):  33%|███▎      | 40/120 [02:31<05:02,  3.78s/it]\u001b[A\n",
      "Train_loss (0.57)\t Train_acc (77.74)\t Val_acc (45.00):  34%|███▍      | 41/120 [02:35<04:58,  3.78s/it]\u001b[A\n",
      "Train_loss (0.59)\t Train_acc (76.79)\t Val_acc (47.50):  34%|███▍      | 41/120 [02:35<04:58,  3.78s/it]\u001b[A\n",
      "Train_loss (0.59)\t Train_acc (76.79)\t Val_acc (47.50):  35%|███▌      | 42/120 [02:38<04:56,  3.79s/it]\u001b[A\n",
      "Train_loss (0.56)\t Train_acc (77.77)\t Val_acc (42.00):  35%|███▌      | 42/120 [02:39<04:56,  3.79s/it]\u001b[A\n",
      "Train_loss (0.56)\t Train_acc (77.77)\t Val_acc (42.00):  36%|███▌      | 43/120 [02:42<04:50,  3.77s/it]\u001b[A\n",
      "Train_loss (0.57)\t Train_acc (70.69)\t Val_acc (43.50):  36%|███▌      | 43/120 [02:43<04:50,  3.77s/it]\u001b[A\n",
      "Train_loss (0.57)\t Train_acc (70.69)\t Val_acc (43.50):  37%|███▋      | 44/120 [02:46<04:45,  3.76s/it]\u001b[A\n",
      "Train_loss (0.55)\t Train_acc (77.85)\t Val_acc (42.50):  37%|███▋      | 44/120 [02:46<04:45,  3.76s/it]\u001b[A\n",
      "Train_loss (0.55)\t Train_acc (77.85)\t Val_acc (42.50):  38%|███▊      | 45/120 [02:50<04:42,  3.76s/it]\u001b[A\n",
      "Train_loss (0.52)\t Train_acc (82.05)\t Val_acc (45.00):  38%|███▊      | 45/120 [02:50<04:42,  3.76s/it]\u001b[A\n",
      "Train_loss (0.52)\t Train_acc (82.05)\t Val_acc (45.00):  38%|███▊      | 46/120 [02:53<04:38,  3.76s/it]\u001b[A\n",
      "Train_loss (0.50)\t Train_acc (79.17)\t Val_acc (45.00):  38%|███▊      | 46/120 [02:54<04:38,  3.76s/it]\u001b[A\n",
      "Train_loss (0.50)\t Train_acc (79.17)\t Val_acc (45.00):  39%|███▉      | 47/120 [02:57<04:36,  3.78s/it]\u001b[A\n",
      "Train_loss (0.52)\t Train_acc (73.84)\t Val_acc (42.00):  39%|███▉      | 47/120 [02:58<04:36,  3.78s/it]\u001b[A\n",
      "Train_loss (0.52)\t Train_acc (73.84)\t Val_acc (42.00):  40%|████      | 48/120 [03:01<04:33,  3.79s/it]\u001b[A\n",
      "Train_loss (0.53)\t Train_acc (72.81)\t Val_acc (42.50):  40%|████      | 48/120 [03:02<04:33,  3.79s/it]\u001b[A\n",
      "Train_loss (0.53)\t Train_acc (72.81)\t Val_acc (42.50):  41%|████      | 49/120 [03:05<04:30,  3.80s/it]\u001b[A\n",
      "Train_loss (0.51)\t Train_acc (79.70)\t Val_acc (43.50):  41%|████      | 49/120 [03:06<04:30,  3.80s/it]\u001b[A\n",
      "Train_loss (0.51)\t Train_acc (79.70)\t Val_acc (43.50):  42%|████▏     | 50/120 [03:09<04:27,  3.82s/it]\u001b[A\n",
      "Train_loss (0.51)\t Train_acc (82.24)\t Val_acc (47.50):  42%|████▏     | 50/120 [03:09<04:27,  3.82s/it]\u001b[A\n",
      "Train_loss (0.51)\t Train_acc (82.24)\t Val_acc (47.50):  42%|████▎     | 51/120 [03:12<04:22,  3.80s/it]\u001b[A\n",
      "Train_loss (0.47)\t Train_acc (79.89)\t Val_acc (43.50):  42%|████▎     | 51/120 [03:13<04:22,  3.80s/it]\u001b[A\n",
      "Train_loss (0.47)\t Train_acc (79.89)\t Val_acc (43.50):  43%|████▎     | 52/120 [03:16<04:17,  3.79s/it]\u001b[A\n",
      "Train_loss (0.48)\t Train_acc (80.35)\t Val_acc (50.00):  43%|████▎     | 52/120 [03:17<04:17,  3.79s/it]\u001b[A\n",
      "Train_loss (0.48)\t Train_acc (80.35)\t Val_acc (50.00):  44%|████▍     | 53/120 [03:20<04:13,  3.78s/it]\u001b[A\n",
      "Train_loss (0.46)\t Train_acc (80.92)\t Val_acc (45.00):  44%|████▍     | 53/120 [03:21<04:13,  3.78s/it]\u001b[A\n",
      "Train_loss (0.46)\t Train_acc (80.92)\t Val_acc (45.00):  45%|████▌     | 54/120 [03:24<04:09,  3.78s/it]\u001b[A\n",
      "Train_loss (0.45)\t Train_acc (79.82)\t Val_acc (43.50):  45%|████▌     | 54/120 [03:24<04:09,  3.78s/it]\u001b[A\n",
      "Train_loss (0.45)\t Train_acc (79.82)\t Val_acc (43.50):  46%|████▌     | 55/120 [03:28<04:06,  3.79s/it]\u001b[A\n",
      "Train_loss (0.44)\t Train_acc (81.33)\t Val_acc (45.00):  46%|████▌     | 55/120 [03:28<04:06,  3.79s/it]\u001b[A\n",
      "Train_loss (0.44)\t Train_acc (81.33)\t Val_acc (45.00):  47%|████▋     | 56/120 [03:31<04:03,  3.81s/it]\u001b[A\n",
      "Train_loss (0.53)\t Train_acc (75.77)\t Val_acc (42.00):  47%|████▋     | 56/120 [03:32<04:03,  3.81s/it]\u001b[A\n",
      "Train_loss (0.53)\t Train_acc (75.77)\t Val_acc (42.00):  48%|████▊     | 57/120 [03:35<03:58,  3.79s/it]\u001b[A\n",
      "Train_loss (0.52)\t Train_acc (79.14)\t Val_acc (44.50):  48%|████▊     | 57/120 [03:36<03:58,  3.79s/it]\u001b[A\n",
      "Train_loss (0.52)\t Train_acc (79.14)\t Val_acc (44.50):  48%|████▊     | 58/120 [03:39<03:54,  3.78s/it]\u001b[A\n",
      "Train_loss (0.46)\t Train_acc (82.73)\t Val_acc (44.50):  48%|████▊     | 58/120 [03:39<03:54,  3.78s/it]\u001b[A\n",
      "Train_loss (0.46)\t Train_acc (82.73)\t Val_acc (44.50):  49%|████▉     | 59/120 [03:43<03:49,  3.77s/it]\u001b[A\n",
      "Train_loss (0.41)\t Train_acc (82.92)\t Val_acc (42.50):  49%|████▉     | 59/120 [03:43<03:49,  3.77s/it]\u001b[A\n",
      "Train_loss (0.41)\t Train_acc (82.92)\t Val_acc (42.50):  50%|█████     | 60/120 [03:46<03:45,  3.76s/it]\u001b[A\n",
      "Train_loss (0.38)\t Train_acc (84.44)\t Val_acc (43.50):  50%|█████     | 60/120 [03:47<03:45,  3.76s/it]\u001b[A\n",
      "Train_loss (0.38)\t Train_acc (84.44)\t Val_acc (43.50):  51%|█████     | 61/120 [03:50<03:41,  3.76s/it]\u001b[A\n",
      "Train_loss (0.37)\t Train_acc (82.62)\t Val_acc (41.50):  51%|█████     | 61/120 [03:51<03:41,  3.76s/it]\u001b[A\n",
      "Train_loss (0.37)\t Train_acc (82.62)\t Val_acc (41.50):  52%|█████▏    | 62/120 [03:54<03:37,  3.75s/it]\u001b[A\n",
      "Train_loss (0.37)\t Train_acc (80.99)\t Val_acc (42.00):  52%|█████▏    | 62/120 [03:54<03:37,  3.75s/it]\u001b[A\n",
      "Train_loss (0.37)\t Train_acc (80.99)\t Val_acc (42.00):  52%|█████▎    | 63/120 [03:58<03:33,  3.75s/it]\u001b[A\n",
      "Train_loss (0.40)\t Train_acc (83.19)\t Val_acc (41.50):  52%|█████▎    | 63/120 [03:58<03:33,  3.75s/it]\u001b[A\n",
      "Train_loss (0.40)\t Train_acc (83.19)\t Val_acc (41.50):  53%|█████▎    | 64/120 [04:01<03:29,  3.75s/it]\u001b[A\n",
      "Train_loss (0.41)\t Train_acc (83.45)\t Val_acc (43.00):  53%|█████▎    | 64/120 [04:02<03:29,  3.75s/it]\u001b[A\n",
      "Train_loss (0.41)\t Train_acc (83.45)\t Val_acc (43.00):  54%|█████▍    | 65/120 [04:05<03:26,  3.75s/it]\u001b[A\n",
      "Train_loss (0.40)\t Train_acc (82.39)\t Val_acc (43.50):  54%|█████▍    | 65/120 [04:06<03:26,  3.75s/it]\u001b[A\n",
      "Train_loss (0.40)\t Train_acc (82.39)\t Val_acc (43.50):  55%|█████▌    | 66/120 [04:09<03:22,  3.76s/it]\u001b[A\n",
      "Train_loss (0.40)\t Train_acc (83.45)\t Val_acc (41.50):  55%|█████▌    | 66/120 [04:09<03:22,  3.76s/it]\u001b[A\n",
      "Train_loss (0.40)\t Train_acc (83.45)\t Val_acc (41.50):  56%|█████▌    | 67/120 [04:13<03:18,  3.75s/it]\u001b[A\n",
      "Train_loss (0.43)\t Train_acc (79.55)\t Val_acc (41.50):  56%|█████▌    | 67/120 [04:13<03:18,  3.75s/it]\u001b[A\n",
      "Train_loss (0.43)\t Train_acc (79.55)\t Val_acc (41.50):  57%|█████▋    | 68/120 [04:16<03:15,  3.75s/it]\u001b[A\n",
      "Train_loss (0.45)\t Train_acc (77.70)\t Val_acc (41.50):  57%|█████▋    | 68/120 [04:17<03:15,  3.75s/it]\u001b[A\n",
      "Train_loss (0.45)\t Train_acc (77.70)\t Val_acc (41.50):  57%|█████▊    | 69/120 [04:20<03:11,  3.75s/it]\u001b[A\n",
      "Train_loss (0.48)\t Train_acc (81.41)\t Val_acc (43.00):  57%|█████▊    | 69/120 [04:21<03:11,  3.75s/it]\u001b[A\n",
      "Train_loss (0.48)\t Train_acc (81.41)\t Val_acc (43.00):  58%|█████▊    | 70/120 [04:24<03:07,  3.75s/it]\u001b[A\n",
      "Train_loss (0.42)\t Train_acc (82.62)\t Val_acc (42.00):  58%|█████▊    | 70/120 [04:24<03:07,  3.75s/it]\u001b[A\n",
      "Train_loss (0.42)\t Train_acc (82.62)\t Val_acc (42.00):  59%|█████▉    | 71/120 [04:28<03:03,  3.74s/it]\u001b[A\n",
      "Train_loss (0.42)\t Train_acc (84.66)\t Val_acc (44.50):  59%|█████▉    | 71/120 [04:28<03:03,  3.74s/it]\u001b[A\n",
      "Train_loss (0.42)\t Train_acc (84.66)\t Val_acc (44.50):  60%|██████    | 72/120 [04:31<03:00,  3.76s/it]\u001b[A\n",
      "Train_loss (0.40)\t Train_acc (83.60)\t Val_acc (48.00):  60%|██████    | 72/120 [04:32<03:00,  3.76s/it]\u001b[A\n",
      "Train_loss (0.40)\t Train_acc (83.60)\t Val_acc (48.00):  61%|██████    | 73/120 [04:35<02:56,  3.76s/it]\u001b[A\n",
      "Train_loss (0.45)\t Train_acc (78.08)\t Val_acc (42.00):  61%|██████    | 73/120 [04:36<02:56,  3.76s/it]\u001b[A\n",
      "Train_loss (0.45)\t Train_acc (78.08)\t Val_acc (42.00):  62%|██████▏   | 74/120 [04:39<02:52,  3.75s/it]\u001b[A\n",
      "Train_loss (0.40)\t Train_acc (80.46)\t Val_acc (43.00):  62%|██████▏   | 74/120 [04:39<02:52,  3.75s/it]\u001b[A\n",
      "Train_loss (0.40)\t Train_acc (80.46)\t Val_acc (43.00):  62%|██████▎   | 75/120 [04:43<02:48,  3.75s/it]\u001b[A\n",
      "Train_loss (0.39)\t Train_acc (84.06)\t Val_acc (44.50):  62%|██████▎   | 75/120 [04:43<02:48,  3.75s/it]\u001b[A\n",
      "Train_loss (0.39)\t Train_acc (84.06)\t Val_acc (44.50):  63%|██████▎   | 76/120 [04:46<02:45,  3.77s/it]\u001b[A\n"
     ]
    },
    {
     "name": "stderr",
     "output_type": "stream",
     "text": [
      "Train_loss (0.34)\t Train_acc (86.37)\t Val_acc (44.00):  63%|██████▎   | 76/120 [04:47<02:45,  3.77s/it]\u001b[A\n",
      "Train_loss (0.34)\t Train_acc (86.37)\t Val_acc (44.00):  64%|██████▍   | 77/120 [04:50<02:42,  3.77s/it]\u001b[A\n",
      "Train_loss (0.33)\t Train_acc (85.01)\t Val_acc (44.50):  64%|██████▍   | 77/120 [04:51<02:42,  3.77s/it]\u001b[A\n",
      "Train_loss (0.33)\t Train_acc (85.01)\t Val_acc (44.50):  65%|██████▌   | 78/120 [04:54<02:37,  3.76s/it]\u001b[A\n",
      "Train_loss (0.30)\t Train_acc (83.19)\t Val_acc (41.00):  65%|██████▌   | 78/120 [04:55<02:37,  3.76s/it]\u001b[A\n",
      "Train_loss (0.30)\t Train_acc (83.19)\t Val_acc (41.00):  66%|██████▌   | 79/120 [04:58<02:34,  3.76s/it]\u001b[A\n",
      "Train_loss (0.31)\t Train_acc (85.35)\t Val_acc (44.50):  66%|██████▌   | 79/120 [04:58<02:34,  3.76s/it]\u001b[A\n",
      "Train_loss (0.31)\t Train_acc (85.35)\t Val_acc (44.50):  67%|██████▋   | 80/120 [05:01<02:30,  3.75s/it]\u001b[A\n",
      "Train_loss (0.33)\t Train_acc (83.87)\t Val_acc (38.50):  67%|██████▋   | 80/120 [05:02<02:30,  3.75s/it]\u001b[A\n",
      "Train_loss (0.33)\t Train_acc (83.87)\t Val_acc (38.50):  68%|██████▊   | 81/120 [05:05<02:26,  3.75s/it]\u001b[A\n",
      "Train_loss (0.38)\t Train_acc (83.87)\t Val_acc (38.50):  68%|██████▊   | 81/120 [05:06<02:26,  3.75s/it]\u001b[A\n",
      "Train_loss (0.38)\t Train_acc (83.87)\t Val_acc (38.50):  68%|██████▊   | 82/120 [05:09<02:22,  3.74s/it]\u001b[A\n",
      "Train_loss (0.37)\t Train_acc (82.89)\t Val_acc (42.00):  68%|██████▊   | 82/120 [05:09<02:22,  3.74s/it]\u001b[A\n",
      "Train_loss (0.37)\t Train_acc (82.89)\t Val_acc (42.00):  69%|██████▉   | 83/120 [05:13<02:18,  3.74s/it]\u001b[A\n",
      "Train_loss (0.37)\t Train_acc (84.06)\t Val_acc (44.00):  69%|██████▉   | 83/120 [05:13<02:18,  3.74s/it]\u001b[A\n",
      "Train_loss (0.37)\t Train_acc (84.06)\t Val_acc (44.00):  70%|███████   | 84/120 [05:16<02:14,  3.74s/it]\u001b[A\n",
      "Train_loss (0.31)\t Train_acc (87.24)\t Val_acc (40.50):  70%|███████   | 84/120 [05:17<02:14,  3.74s/it]\u001b[A\n",
      "Train_loss (0.31)\t Train_acc (87.24)\t Val_acc (40.50):  71%|███████   | 85/120 [05:20<02:10,  3.73s/it]\u001b[A\n",
      "Train_loss (0.31)\t Train_acc (82.89)\t Val_acc (42.00):  71%|███████   | 85/120 [05:21<02:10,  3.73s/it]\u001b[A\n",
      "Train_loss (0.31)\t Train_acc (82.89)\t Val_acc (42.00):  72%|███████▏  | 86/120 [05:24<02:06,  3.73s/it]\u001b[A\n",
      "Train_loss (0.44)\t Train_acc (77.70)\t Val_acc (42.00):  72%|███████▏  | 86/120 [05:24<02:06,  3.73s/it]\u001b[A\n",
      "Train_loss (0.44)\t Train_acc (77.70)\t Val_acc (42.00):  72%|███████▎  | 87/120 [05:28<02:03,  3.74s/it]\u001b[A\n",
      "Train_loss (0.51)\t Train_acc (81.11)\t Val_acc (41.50):  72%|███████▎  | 87/120 [05:28<02:03,  3.74s/it]\u001b[A\n",
      "Train_loss (0.51)\t Train_acc (81.11)\t Val_acc (41.50):  73%|███████▎  | 88/120 [05:31<02:00,  3.76s/it]\u001b[A\n",
      "Train_loss (0.44)\t Train_acc (81.37)\t Val_acc (43.50):  73%|███████▎  | 88/120 [05:32<02:00,  3.76s/it]\u001b[A\n",
      "Train_loss (0.44)\t Train_acc (81.37)\t Val_acc (43.50):  74%|███████▍  | 89/120 [05:35<01:57,  3.80s/it]\u001b[A\n",
      "Train_loss (0.38)\t Train_acc (81.90)\t Val_acc (42.50):  74%|███████▍  | 89/120 [05:36<01:57,  3.80s/it]\u001b[A\n",
      "Train_loss (0.38)\t Train_acc (81.90)\t Val_acc (42.50):  75%|███████▌  | 90/120 [05:39<01:53,  3.78s/it]\u001b[A\n",
      "Train_loss (0.35)\t Train_acc (81.90)\t Val_acc (42.50):  75%|███████▌  | 90/120 [05:40<01:53,  3.78s/it]\u001b[A\n",
      "Train_loss (0.35)\t Train_acc (81.90)\t Val_acc (42.50):  76%|███████▌  | 91/120 [05:43<01:49,  3.76s/it]\u001b[A\n",
      "Train_loss (0.33)\t Train_acc (85.08)\t Val_acc (43.00):  76%|███████▌  | 91/120 [05:43<01:49,  3.76s/it]\u001b[A\n",
      "Train_loss (0.33)\t Train_acc (85.08)\t Val_acc (43.00):  77%|███████▋  | 92/120 [05:47<01:45,  3.76s/it]\u001b[A\n",
      "Train_loss (0.35)\t Train_acc (84.48)\t Val_acc (46.50):  77%|███████▋  | 92/120 [05:47<01:45,  3.76s/it]\u001b[A\n",
      "Train_loss (0.35)\t Train_acc (84.48)\t Val_acc (46.50):  78%|███████▊  | 93/120 [05:50<01:41,  3.75s/it]\u001b[A\n",
      "Train_loss (0.38)\t Train_acc (82.13)\t Val_acc (44.50):  78%|███████▊  | 93/120 [05:51<01:41,  3.75s/it]\u001b[A\n",
      "Train_loss (0.38)\t Train_acc (82.13)\t Val_acc (44.50):  78%|███████▊  | 94/120 [05:54<01:37,  3.75s/it]\u001b[A\n",
      "Train_loss (0.40)\t Train_acc (76.37)\t Val_acc (42.00):  78%|███████▊  | 94/120 [05:55<01:37,  3.75s/it]\u001b[A\n",
      "Train_loss (0.40)\t Train_acc (76.37)\t Val_acc (42.00):  79%|███████▉  | 95/120 [05:58<01:33,  3.74s/it]\u001b[A\n",
      "Train_loss (0.37)\t Train_acc (85.57)\t Val_acc (40.00):  79%|███████▉  | 95/120 [05:58<01:33,  3.74s/it]\u001b[A\n",
      "Train_loss (0.37)\t Train_acc (85.57)\t Val_acc (40.00):  80%|████████  | 96/120 [06:01<01:29,  3.74s/it]\u001b[A\n",
      "Train_loss (0.33)\t Train_acc (84.02)\t Val_acc (44.00):  80%|████████  | 96/120 [06:02<01:29,  3.74s/it]\u001b[A\n",
      "Train_loss (0.33)\t Train_acc (84.02)\t Val_acc (44.00):  81%|████████  | 97/120 [06:05<01:26,  3.74s/it]\u001b[A\n",
      "Train_loss (0.30)\t Train_acc (85.46)\t Val_acc (39.00):  81%|████████  | 97/120 [06:06<01:26,  3.74s/it]\u001b[A\n",
      "Train_loss (0.30)\t Train_acc (85.46)\t Val_acc (39.00):  82%|████████▏ | 98/120 [06:09<01:22,  3.74s/it]\u001b[A\n",
      "Train_loss (0.28)\t Train_acc (83.87)\t Val_acc (43.50):  82%|████████▏ | 98/120 [06:09<01:22,  3.74s/it]\u001b[A\n",
      "Train_loss (0.28)\t Train_acc (83.87)\t Val_acc (43.50):  82%|████████▎ | 99/120 [06:13<01:18,  3.73s/it]\u001b[A\n",
      "Train_loss (0.30)\t Train_acc (87.96)\t Val_acc (46.00):  82%|████████▎ | 99/120 [06:13<01:18,  3.73s/it]\u001b[A\n",
      "Train_loss (0.30)\t Train_acc (87.96)\t Val_acc (46.00):  83%|████████▎ | 100/120 [06:16<01:14,  3.75s/it]\u001b[A\n",
      "Train_loss (0.27)\t Train_acc (87.81)\t Val_acc (42.00):  83%|████████▎ | 100/120 [06:17<01:14,  3.75s/it]\u001b[A\n",
      "Train_loss (0.27)\t Train_acc (87.81)\t Val_acc (42.00):  84%|████████▍ | 101/120 [06:20<01:11,  3.74s/it]\u001b[A\n",
      "Train_loss (0.27)\t Train_acc (83.68)\t Val_acc (43.00):  84%|████████▍ | 101/120 [06:21<01:11,  3.74s/it]\u001b[A\n",
      "Train_loss (0.27)\t Train_acc (83.68)\t Val_acc (43.00):  85%|████████▌ | 102/120 [06:24<01:07,  3.77s/it]\u001b[A\n",
      "Train_loss (0.30)\t Train_acc (85.04)\t Val_acc (44.50):  85%|████████▌ | 102/120 [06:25<01:07,  3.77s/it]\u001b[A\n",
      "Train_loss (0.30)\t Train_acc (85.04)\t Val_acc (44.50):  86%|████████▌ | 103/120 [06:28<01:03,  3.76s/it]\u001b[A\n",
      "Train_loss (0.29)\t Train_acc (87.05)\t Val_acc (45.00):  86%|████████▌ | 103/120 [06:28<01:03,  3.76s/it]\u001b[A\n",
      "Train_loss (0.29)\t Train_acc (87.05)\t Val_acc (45.00):  87%|████████▋ | 104/120 [06:32<01:00,  3.76s/it]\u001b[A\n",
      "Train_loss (0.24)\t Train_acc (85.88)\t Val_acc (40.50):  87%|████████▋ | 104/120 [06:32<01:00,  3.76s/it]\u001b[A\n",
      "Train_loss (0.24)\t Train_acc (85.88)\t Val_acc (40.50):  88%|████████▊ | 105/120 [06:35<00:56,  3.77s/it]\u001b[A\n",
      "Train_loss (0.33)\t Train_acc (84.48)\t Val_acc (41.00):  88%|████████▊ | 105/120 [06:36<00:56,  3.77s/it]\u001b[A\n",
      "Train_loss (0.33)\t Train_acc (84.48)\t Val_acc (41.00):  88%|████████▊ | 106/120 [06:39<00:52,  3.76s/it]\u001b[A\n",
      "Train_loss (0.37)\t Train_acc (84.36)\t Val_acc (41.50):  88%|████████▊ | 106/120 [06:40<00:52,  3.76s/it]\u001b[A\n",
      "Train_loss (0.37)\t Train_acc (84.36)\t Val_acc (41.50):  89%|████████▉ | 107/120 [06:43<00:48,  3.75s/it]\u001b[A\n",
      "Train_loss (0.32)\t Train_acc (81.60)\t Val_acc (41.00):  89%|████████▉ | 107/120 [06:43<00:48,  3.75s/it]\u001b[A\n",
      "Train_loss (0.32)\t Train_acc (81.60)\t Val_acc (41.00):  90%|█████████ | 108/120 [06:47<00:44,  3.75s/it]\u001b[A\n",
      "Train_loss (0.30)\t Train_acc (85.27)\t Val_acc (43.50):  90%|█████████ | 108/120 [06:47<00:44,  3.75s/it]\u001b[A\n",
      "Train_loss (0.30)\t Train_acc (85.27)\t Val_acc (43.50):  91%|█████████ | 109/120 [06:50<00:41,  3.75s/it]\u001b[A\n",
      "Train_loss (0.27)\t Train_acc (86.03)\t Val_acc (42.50):  91%|█████████ | 109/120 [06:51<00:41,  3.75s/it]\u001b[A\n",
      "Train_loss (0.27)\t Train_acc (86.03)\t Val_acc (42.50):  92%|█████████▏| 110/120 [06:54<00:37,  3.76s/it]\u001b[A\n",
      "Train_loss (0.23)\t Train_acc (86.67)\t Val_acc (40.50):  92%|█████████▏| 110/120 [06:55<00:37,  3.76s/it]\u001b[A\n",
      "Train_loss (0.23)\t Train_acc (86.67)\t Val_acc (40.50):  92%|█████████▎| 111/120 [06:58<00:34,  3.78s/it]\u001b[A\n",
      "Train_loss (0.22)\t Train_acc (85.35)\t Val_acc (39.50):  92%|█████████▎| 111/120 [06:58<00:34,  3.78s/it]\u001b[A\n",
      "Train_loss (0.22)\t Train_acc (85.35)\t Val_acc (39.50):  93%|█████████▎| 112/120 [07:02<00:30,  3.78s/it]\u001b[A\n",
      "Train_loss (0.21)\t Train_acc (88.26)\t Val_acc (41.00):  93%|█████████▎| 112/120 [07:02<00:30,  3.78s/it]\u001b[A\n",
      "Train_loss (0.21)\t Train_acc (88.26)\t Val_acc (41.00):  94%|█████████▍| 113/120 [07:05<00:26,  3.77s/it]\u001b[A\n",
      "Train_loss (0.21)\t Train_acc (85.61)\t Val_acc (37.50):  94%|█████████▍| 113/120 [07:06<00:26,  3.77s/it]\u001b[A\n",
      "Train_loss (0.21)\t Train_acc (85.61)\t Val_acc (37.50):  95%|█████████▌| 114/120 [07:09<00:22,  3.76s/it]\u001b[A\n"
     ]
    },
    {
     "name": "stderr",
     "output_type": "stream",
     "text": [
      "Train_loss (0.24)\t Train_acc (86.82)\t Val_acc (41.50):  95%|█████████▌| 114/120 [07:10<00:22,  3.76s/it]\u001b[A\n",
      "Train_loss (0.24)\t Train_acc (86.82)\t Val_acc (41.50):  96%|█████████▌| 115/120 [07:13<00:18,  3.75s/it]\u001b[A\n",
      "Train_loss (0.24)\t Train_acc (85.35)\t Val_acc (40.00):  96%|█████████▌| 115/120 [07:13<00:18,  3.75s/it]\u001b[A\n",
      "Train_loss (0.24)\t Train_acc (85.35)\t Val_acc (40.00):  97%|█████████▋| 116/120 [07:17<00:14,  3.75s/it]\u001b[A\n",
      "Train_loss (0.25)\t Train_acc (85.73)\t Val_acc (42.00):  97%|█████████▋| 116/120 [07:17<00:14,  3.75s/it]\u001b[A\n",
      "Train_loss (0.25)\t Train_acc (85.73)\t Val_acc (42.00):  98%|█████████▊| 117/120 [07:20<00:11,  3.77s/it]\u001b[A\n",
      "Train_loss (0.26)\t Train_acc (87.35)\t Val_acc (38.50):  98%|█████████▊| 117/120 [07:21<00:11,  3.77s/it]\u001b[A\n",
      "Train_loss (0.26)\t Train_acc (87.35)\t Val_acc (38.50):  98%|█████████▊| 118/120 [07:24<00:07,  3.77s/it]\u001b[A\n",
      "Train_loss (0.28)\t Train_acc (86.60)\t Val_acc (40.50):  98%|█████████▊| 118/120 [07:25<00:07,  3.77s/it]\u001b[A\n",
      "Train_loss (0.28)\t Train_acc (86.60)\t Val_acc (40.50):  99%|█████████▉| 119/120 [07:28<00:03,  3.80s/it]\u001b[A\n",
      "Train_loss (0.27)\t Train_acc (85.91)\t Val_acc (40.50):  99%|█████████▉| 119/120 [07:29<00:03,  3.80s/it]\u001b[A\n",
      "Train_loss (0.27)\t Train_acc (85.91)\t Val_acc (40.50): 100%|██████████| 120/120 [07:32<00:00,  3.79s/it]\u001b[A"
     ]
    }
   ],
   "source": [
    "epoch_losses, epoch_accuracies, best_model = training_loop(model, optimizer, error, train_loader, val_loader,                                                           \n",
    "                                                           EPOCHS*2, seq_end=SEQ_END, step_size=STEP_SIZE)"
   ]
  },
  {
   "cell_type": "code",
   "execution_count": 55,
   "metadata": {},
   "outputs": [
    {
     "data": {
      "image/png": "[encoded data removed]",
      "text/plain": [
       "<Figure size 432x288 with 1 Axes>"
      ]
     },
     "metadata": {
      "needs_background": "light"
     },
     "output_type": "display_data"
    },
    {
     "data": {
      "image/png": "[encoded data removed]",
      "text/plain": [
       "<Figure size 432x288 with 1 Axes>"
      ]
     },
     "metadata": {
      "needs_background": "light"
     },
     "output_type": "display_data"
    }
   ],
   "source": [
    "plt.plot(epoch_losses)\n",
    "plt.show()\n",
    "plt.plot(np.array(epoch_accuracies).T)\n",
    "plt.show()"
   ]
  },
  {
   "cell_type": "code",
   "execution_count": 56,
   "metadata": {},
   "outputs": [
    {
     "data": {
      "text/plain": [
       "50.0"
      ]
     },
     "execution_count": 56,
     "metadata": {},
     "output_type": "execute_result"
    }
   ],
   "source": [
    "max(epoch_accuracies[1])"
   ]
  },
  {
   "cell_type": "markdown",
   "metadata": {},
   "source": [
    "## Save model and scaler"
   ]
  },
  {
   "cell_type": "code",
   "execution_count": 57,
   "metadata": {},
   "outputs": [
    {
     "data": {
      "text/plain": [
       "['scalers/yoked_force_scaler.sk']"
      ]
     },
     "execution_count": 57,
     "metadata": {},
     "output_type": "execute_result"
    }
   ],
   "source": [
    "torch.save(best_model.state_dict(), \"models/yoked_force_model.pt\")\n",
    "joblib.dump(scaler, \"scalers/yoked_force_scaler.sk\")"
   ]
  },
  {
   "cell_type": "markdown",
   "metadata": {},
   "source": [
    "## Evaluate saved model"
   ]
  },
  {
   "cell_type": "code",
   "execution_count": 58,
   "metadata": {},
   "outputs": [
    {
     "name": "stderr",
     "output_type": "stream",
     "text": [
      "\n",
      "  0%|          | 0/100 [00:00<?, ?it/s]\u001b[A\n",
      " 25%|██▌       | 25/100 [00:00<00:00, 242.55it/s]\u001b[A\n",
      " 48%|████▊     | 48/100 [00:00<00:00, 237.77it/s]\u001b[A\n",
      " 71%|███████   | 71/100 [00:00<00:00, 233.65it/s]\u001b[A\n",
      " 94%|█████████▍| 94/100 [00:00<00:00, 230.47it/s]\u001b[A\n",
      "100%|██████████| 100/100 [00:00<00:00, 227.75it/s]\u001b[A"
     ]
    },
    {
     "name": "stdout",
     "output_type": "stream",
     "text": [
      "Model's accuracy on test set: 47.0\n"
     ]
    },
    {
     "data": {
      "image/png": "[encoded data removed]",
      "text/plain": [
       "<Figure size 432x288 with 2 Axes>"
      ]
     },
     "metadata": {
      "needs_background": "light"
     },
     "output_type": "display_data"
    },
    {
     "data": {
      "image/png": "[encoded data removed]",
      "text/plain": [
       "<Figure size 432x288 with 2 Axes>"
      ]
     },
     "metadata": {
      "needs_background": "light"
     },
     "output_type": "display_data"
    }
   ],
   "source": [
    "model_path = \"models/yoked_force_model.pt\"\n",
    "scaler_path = \"scalers/yoked_force_scaler.sk\"\n",
    "network_dims = (INPUT_DIM, HIDDEN_DIM, N_LAYERS, OUTPUT_DIM)\n",
    "class_columns = FORCE_CLASS_COLS\n",
    "\n",
    "evaluate_saved_model(model_path, network_dims+(DROPOUT,), None, training_columns=TR_COLS, \n",
    "                     trials=test_trials, class_columns=class_columns, step_size=STEP_SIZE, scaler_path=scaler_path,\n",
    "                     categorical_columns=MOUSE_CONTROL_COLS)"
   ]
  },
  {
   "cell_type": "markdown",
   "metadata": {},
   "source": [
    "# MASS TRAINING (Humans achieve 45% +- 20%)"
   ]
  },
  {
   "cell_type": "markdown",
   "metadata": {},
   "source": [
    "## Read dataset and preprocess it"
   ]
  },
  {
   "cell_type": "code",
   "execution_count": null,
   "metadata": {
    "scrolled": true
   },
   "outputs": [],
   "source": [
    "loaders, scaler = prepare_dataset([train_trials, val_trials, test_trials], training_columns=TR_COLS, \n",
    "                                  class_columns=MASS_CLASS_COLS, batch_size=BATCH_SIZE, \n",
    "                                  normalise_data=NORMALISE_DATA, categorical_columns=MOUSE_CONTROL_COLS)"
   ]
  },
  {
   "cell_type": "code",
   "execution_count": null,
   "metadata": {},
   "outputs": [],
   "source": [
    "train_loader, val_loader, test_loader = loaders"
   ]
  },
  {
   "cell_type": "code",
   "execution_count": null,
   "metadata": {},
   "outputs": [],
   "source": [
    "class_proportions(train_loader)\n",
    "class_proportions(val_loader)\n",
    "class_proportions(test_loader)"
   ]
  },
  {
   "cell_type": "markdown",
   "metadata": {},
   "source": [
    "## Define model, loss and optimizer"
   ]
  },
  {
   "cell_type": "markdown",
   "metadata": {},
   "source": [
    "## Train model and plot loss and accuracy"
   ]
  },
  {
   "cell_type": "code",
   "execution_count": null,
   "metadata": {},
   "outputs": [],
   "source": [
    "model, error, optimizer = initialise_model(network_dims, DROPOUT, lr=0.01)"
   ]
  },
  {
   "cell_type": "code",
   "execution_count": null,
   "metadata": {
    "scrolled": true
   },
   "outputs": [],
   "source": [
    "epoch_losses, epoch_accuracies, best_model = training_loop(model, optimizer, error, train_loader, val_loader, EPOCHS, \n",
    "                                                           step_size=STEP_SIZE)"
   ]
  },
  {
   "cell_type": "code",
   "execution_count": null,
   "metadata": {},
   "outputs": [],
   "source": [
    "plt.plot(epoch_losses)\n",
    "plt.show()\n",
    "plt.plot(np.array(epoch_accuracies).T)\n",
    "plt.show()"
   ]
  },
  {
   "cell_type": "code",
   "execution_count": null,
   "metadata": {},
   "outputs": [],
   "source": [
    "max(epoch_accuracies[1])"
   ]
  },
  {
   "cell_type": "markdown",
   "metadata": {},
   "source": [
    "## Save model and scaler"
   ]
  },
  {
   "cell_type": "code",
   "execution_count": null,
   "metadata": {},
   "outputs": [],
   "source": [
    "torch.save(best_model.state_dict(), \"models/yoked_mass_model.pt\")\n",
    "joblib.dump(scaler, \"scalers/yoked_mass_scaler.sk\")"
   ]
  },
  {
   "cell_type": "markdown",
   "metadata": {},
   "source": [
    "## Load model and evaluate"
   ]
  },
  {
   "cell_type": "code",
   "execution_count": null,
   "metadata": {},
   "outputs": [],
   "source": [
    "model_path = \"models/yoked_mass_model.pt\"\n",
    "scaler_path = \"scalers/yoked_mass_scaler.sk\"\n",
    "network_dims = (INPUT_DIM, HIDDEN_DIM, N_LAYERS, OUTPUT_DIM)\n",
    "class_columns = MASS_CLASS_COLS\n",
    "\n",
    "evaluate_saved_model(model_path, network_dims+(DROPOUT,),  None, TR_COLS,\n",
    "                     class_columns, step_size=STEP_SIZE, scaler_path=scaler_path, trials=test_trials, \n",
    "                     categorical_columns=MOUSE_CONTROL_COLS)"
   ]
  }
 ],
 "metadata": {
  "kernelspec": {
   "display_name": "Python 3",
   "language": "python",
   "name": "python3"
  },
  "language_info": {
   "codemirror_mode": {
    "name": "ipython",
    "version": 3
   },
   "file_extension": ".py",
   "mimetype": "text/x-python",
   "name": "python",
   "nbconvert_exporter": "python",
   "pygments_lexer": "ipython3",
   "version": "3.5.6"
  }
 },
 "nbformat": 4,
 "nbformat_minor": 2
}
