{
 "cells": [
  {
   "cell_type": "code",
   "execution_count": 1,
   "metadata": {},
   "outputs": [],
   "source": [
    "from isaac.dataset import read_dataset\n",
    "import os\n",
    "from tqdm import tqdm\n",
    "from isaac.constants import MOUSE_COLS\n",
    "from isaac.feature_engineering import add_mouse_columns_to_passive_trials, set_mouse_velocities\n",
    "from isaac.feature_engineering import transform_velocity_to_speed_and_angle, get_distances_between_objects"
   ]
  },
  {
   "cell_type": "code",
   "execution_count": 2,
   "metadata": {},
   "outputs": [],
   "source": [
    "def write_dataset_to_file(trials, path):\n",
    "    if os.path.exists(path):\n",
    "        os.remove(path)\n",
    "    for trial_i, trial in enumerate(trials):\n",
    "        trial.to_hdf(path_or_buf=path, key=\"trial_\"+str(trial_i), format=\"table\")"
   ]
  },
  {
   "cell_type": "code",
   "execution_count": 3,
   "metadata": {},
   "outputs": [],
   "source": [
    "EXP1_PASSIVE = \"data/passive_trials_exp1.h5\"\n",
    "EXP1_YOKED = \"data/yoked_trials_exp1.h5\"\n",
    "EXP2_MASS = \"data/mass_trials_exp2.h5\"\n",
    "EXP2_FORCE = \"data/force_trials_exp2.h5\"\n",
    "PASSIVE_TRAIN = \"data/train_passive_trials.h5\"\n",
    "PASSIVE_VAL = \"data/val_passive_trials.h5\"\n",
    "PASSIVE_TEST = \"data/test_passive_trials.h5\"\n",
    "SLOW_PASSIVE_TRAIN = \"data/slow_train_passive_trials.h5\"\n",
    "SLOW_PASSIVE_VAL = \"data/slow_val_passive_trials.h5\"\n",
    "SLOW_PASSIVE_TEST = \"data/slow_test_passive_trials.h5\""
   ]
  },
  {
   "cell_type": "code",
   "execution_count": 4,
   "metadata": {},
   "outputs": [
    {
     "name": "stdout",
     "output_type": "stream",
     "text": [
      "data/train_passive_trials.h5\n"
     ]
    },
    {
     "name": "stderr",
     "output_type": "stream",
     "text": [
      "100%|██████████| 3500/3500 [00:14<00:00, 233.84it/s]\n",
      "100%|██████████| 3500/3500 [00:11<00:00, 317.48it/s]\n",
      "100%|██████████| 3500/3500 [00:20<00:00, 170.25it/s]\n",
      "100%|██████████| 3500/3500 [00:14<00:00, 240.01it/s]\n",
      "100%|██████████| 3500/3500 [02:02<00:00, 28.65it/s]\n",
      "  2%|▏         | 24/1000 [00:00<00:04, 230.73it/s]"
     ]
    },
    {
     "name": "stdout",
     "output_type": "stream",
     "text": [
      "data/val_passive_trials.h5\n"
     ]
    },
    {
     "name": "stderr",
     "output_type": "stream",
     "text": [
      "100%|██████████| 1000/1000 [00:04<00:00, 232.89it/s]\n",
      "100%|██████████| 1000/1000 [00:03<00:00, 318.07it/s]\n",
      "100%|██████████| 1000/1000 [00:05<00:00, 170.41it/s]\n",
      "100%|██████████| 1000/1000 [00:04<00:00, 246.06it/s]\n",
      "100%|██████████| 1000/1000 [00:17<00:00, 58.20it/s]\n",
      "  2%|▏         | 24/1000 [00:00<00:04, 235.46it/s]"
     ]
    },
    {
     "name": "stdout",
     "output_type": "stream",
     "text": [
      "data/test_passive_trials.h5\n"
     ]
    },
    {
     "name": "stderr",
     "output_type": "stream",
     "text": [
      "100%|██████████| 1000/1000 [00:04<00:00, 240.75it/s]\n",
      "100%|██████████| 1000/1000 [00:03<00:00, 329.99it/s]\n",
      "100%|██████████| 1000/1000 [00:05<00:00, 171.86it/s]\n",
      "100%|██████████| 1000/1000 [00:04<00:00, 246.04it/s]\n",
      "100%|██████████| 1000/1000 [00:17<00:00, 58.31it/s]\n"
     ]
    }
   ],
   "source": [
    "for dataset_path in [PASSIVE_TRAIN, PASSIVE_VAL, PASSIVE_TEST]:\n",
    "    print(dataset_path)\n",
    "    dataset = read_dataset(dataset_path)\n",
    "        \n",
    "    if not set(MOUSE_COLS).issubset(set(dataset[0].columns)):\n",
    "        add_mouse_columns_to_passive_trials(dataset)\n",
    "    \n",
    "    set_mouse_velocities(tqdm(dataset))\n",
    "    transform_velocity_to_speed_and_angle(tqdm(dataset))\n",
    "    get_distances_between_objects(tqdm(dataset))\n",
    "    write_dataset_to_file(tqdm(dataset), dataset_path)"
   ]
  }
 ],
 "metadata": {
  "kernelspec": {
   "display_name": "Python 3",
   "language": "python",
   "name": "python3"
  },
  "language_info": {
   "codemirror_mode": {
    "name": "ipython",
    "version": 3
   },
   "file_extension": ".py",
   "mimetype": "text/x-python",
   "name": "python",
   "nbconvert_exporter": "python",
   "pygments_lexer": "ipython3",
   "version": "3.5.6"
  }
 },
 "nbformat": 4,
 "nbformat_minor": 2
}
